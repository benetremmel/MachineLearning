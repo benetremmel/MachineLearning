{
 "cells": [
  {
   "cell_type": "code",
   "outputs": [],
   "source": [
    "import pandas as pd\n",
    "from pathlib import Path\n",
    "import matplotlib.pyplot as plt\n",
    "import numpy as np\n",
    "from zipfile import ZipFile\n",
    "\n",
    "import keras\n",
    "from keras import layers\n",
    "from keras import ops"
   ],
   "metadata": {
    "collapsed": false,
    "ExecuteTime": {
     "end_time": "2024-05-13T14:57:54.085540Z",
     "start_time": "2024-05-13T14:57:50.320398Z"
    }
   },
   "id": "9442d8375f18c10d",
   "execution_count": 1
  },
  {
   "cell_type": "markdown",
   "source": [
    "# Data Preprocessing"
   ],
   "metadata": {
    "collapsed": false
   },
   "id": "e40cfa0a911715f7"
  },
  {
   "cell_type": "code",
   "outputs": [],
   "source": [
    "# transform pickle file to pandas dataframe\n",
    "ratings_df = pd.read_pickle('data/df_ratings_cleaned.pkl')\n",
    "movies_df = pd.read_pickle('data/df_movies_cleaned.pkl')"
   ],
   "metadata": {
    "collapsed": false,
    "ExecuteTime": {
     "end_time": "2024-05-13T14:58:21.389847Z",
     "start_time": "2024-05-13T14:58:20.172942Z"
    }
   },
   "id": "b926dc44d0ce98e7",
   "execution_count": 3
  },
  {
   "cell_type": "markdown",
   "source": [
    "## Stratified Sampling 100k Ratings"
   ],
   "metadata": {
    "collapsed": false
   },
   "id": "b96b3672beec0c4a"
  },
  {
   "cell_type": "markdown",
   "source": [
    "We will use stratified sampling to downsample the ratings dataset to 100,000 entries. This will help us reduce the size of the dataset while maintaining the distribution of ratings. We will categorize the ratings into bins and sample an equal number of entries from each bin to ensure that the downsampled dataset is representative of the original dataset."
   ],
   "metadata": {
    "collapsed": false
   },
   "id": "60a042da4d619529"
  },
  {
   "cell_type": "code",
   "outputs": [
    {
     "name": "stderr",
     "output_type": "stream",
     "text": [
      "/var/folders/08/34vp8sgn1vj1l_v1dzyhrdk00000gn/T/ipykernel_70373/1716066896.py:5: FutureWarning: The default of observed=False is deprecated and will be changed to True in a future version of pandas. Pass observed=False to retain current behavior or observed=True to adopt the future default and silence this warning.\n",
      "  strat_sampled_ratings_df = ratings_df.groupby('rating_category', group_keys=False).apply(\n"
     ]
    },
    {
     "name": "stdout",
     "output_type": "stream",
     "text": [
      "Original DF Shape: (24829828, 7)\n",
      "Sampled DF Shape: (100000, 7)\n"
     ]
    }
   ],
   "source": [
    "# We will use pandas' cut function to categorize these ratings\n",
    "ratings_df['rating_category'] = pd.cut(ratings_df['rating'], bins=np.arange(0.5, 6.0, 0.5), include_lowest=True, right=False)\n",
    "\n",
    "# Stratified sampling based on rating categories\n",
    "ratings_df_100k = ratings_df.groupby('rating_category', group_keys=False).apply(\n",
    "    lambda x: x.sample(int(np.rint(100000 * len(x) / len(ratings_df))), random_state=42)\n",
    ")\n",
    "\n",
    "print(f\"Original DF Shape: {ratings_df.shape}\")\n",
    "print(f\"Sampled DF Shape: {ratings_df_100k.shape}\")"
   ],
   "metadata": {
    "collapsed": false,
    "ExecuteTime": {
     "end_time": "2024-05-13T14:51:04.055990Z",
     "start_time": "2024-05-13T14:51:00.443629Z"
    }
   },
   "id": "bf761e5689402c80",
   "execution_count": 4
  },
  {
   "cell_type": "markdown",
   "source": [
    "Now that we have downsampled the ratings dataset, we can compare the summary statistics of the original and downsampled datasets to ensure that the distribution of ratings has been maintained."
   ],
   "metadata": {
    "collapsed": false
   },
   "id": "5f6c9813f1ef601c"
  },
  {
   "cell_type": "code",
   "outputs": [
    {
     "data": {
      "text/plain": "         Original   Sampled\ncount  24829828.0  100000.0\nmean      3.52898   3.52899\nstd      1.060177  1.060165\nmin           0.5       0.5\n25%           3.0       3.0\n50%           3.5       3.5\n75%           4.0       4.0\nmax           5.0       5.0",
      "text/html": "<div>\n<style scoped>\n    .dataframe tbody tr th:only-of-type {\n        vertical-align: middle;\n    }\n\n    .dataframe tbody tr th {\n        vertical-align: top;\n    }\n\n    .dataframe thead th {\n        text-align: right;\n    }\n</style>\n<table border=\"1\" class=\"dataframe\">\n  <thead>\n    <tr style=\"text-align: right;\">\n      <th></th>\n      <th>Original</th>\n      <th>Sampled</th>\n    </tr>\n  </thead>\n  <tbody>\n    <tr>\n      <th>count</th>\n      <td>24829828.0</td>\n      <td>100000.0</td>\n    </tr>\n    <tr>\n      <th>mean</th>\n      <td>3.52898</td>\n      <td>3.52899</td>\n    </tr>\n    <tr>\n      <th>std</th>\n      <td>1.060177</td>\n      <td>1.060165</td>\n    </tr>\n    <tr>\n      <th>min</th>\n      <td>0.5</td>\n      <td>0.5</td>\n    </tr>\n    <tr>\n      <th>25%</th>\n      <td>3.0</td>\n      <td>3.0</td>\n    </tr>\n    <tr>\n      <th>50%</th>\n      <td>3.5</td>\n      <td>3.5</td>\n    </tr>\n    <tr>\n      <th>75%</th>\n      <td>4.0</td>\n      <td>4.0</td>\n    </tr>\n    <tr>\n      <th>max</th>\n      <td>5.0</td>\n      <td>5.0</td>\n    </tr>\n  </tbody>\n</table>\n</div>"
     },
     "execution_count": 5,
     "metadata": {},
     "output_type": "execute_result"
    }
   ],
   "source": [
    "# Compare summary statistics of the original and downsampled datasets\n",
    "def summary_stats_comparison(original_df, downsampled_df, column):\n",
    "    \"\"\"Compare summary statistics of a column in the original and downsampled datasets.\"\"\"\n",
    "    original_stats = original_df[column].describe()\n",
    "    downsampled_stats = downsampled_df[column].describe()\n",
    "\n",
    "    summary_stats = pd.concat([original_stats, downsampled_stats], axis=1)\n",
    "    summary_stats.columns = ['Original', 'Sampled']\n",
    "\n",
    "    return summary_stats\n",
    "\n",
    "summary_stats_comparison(ratings_df, ratings_df_100k, 'rating')"
   ],
   "metadata": {
    "collapsed": false,
    "ExecuteTime": {
     "end_time": "2024-05-13T14:51:08.047455Z",
     "start_time": "2024-05-13T14:51:07.224482Z"
    }
   },
   "id": "f4fef24c6d4dc9ae",
   "execution_count": 5
  },
  {
   "cell_type": "code",
   "outputs": [
    {
     "data": {
      "text/plain": "<Figure size 1400x700 with 1 Axes>",
      "image/png": "[encoded data removed]"
     },
     "metadata": {},
     "output_type": "display_data"
    }
   ],
   "source": [
    "# Define your bins\n",
    "bins = np.arange(0.5, 6.0, 0.5)\n",
    "\n",
    "# Calculate bin centers\n",
    "bin_centers = 0.5 * (bins[:-1] + bins[1:])\n",
    "\n",
    "# Define width of each bar\n",
    "bar_width = 0.2\n",
    "\n",
    "# Plot histograms\n",
    "plt.figure(figsize=(14, 7))\n",
    "plt.bar(bin_centers - bar_width/2, ratings_df['rating'].value_counts(normalize=True, sort=False, bins=bins), width=bar_width, alpha=0.7, label='Original', align='center')\n",
    "plt.bar(bin_centers + bar_width/2, ratings_df_100k['rating'].value_counts(normalize=True, sort=False, bins=bins), width=bar_width, alpha=0.7, label='Sampled', align='center')\n",
    "\n",
    "plt.title('Comparison of Rating Distributions')\n",
    "plt.xlabel('Rating')\n",
    "plt.ylabel('Proportion')\n",
    "plt.xticks(bin_centers, labels=[f\"{bin:.1f}\" for bin in bins[:-1]])  # Set x-tick labels to match bin centers\n",
    "plt.legend()\n",
    "plt.show()"
   ],
   "metadata": {
    "collapsed": false,
    "ExecuteTime": {
     "end_time": "2024-05-13T14:51:16.679643Z",
     "start_time": "2024-05-13T14:51:15.636039Z"
    }
   },
   "id": "2ce9ea1f485121da",
   "execution_count": 6
  },
  {
   "cell_type": "code",
   "outputs": [],
   "source": [
    "ratings_df_100k"
   ],
   "metadata": {
    "collapsed": false
   },
   "id": "609537a204d629c6"
  },
  {
   "cell_type": "code",
   "outputs": [],
   "source": [
    "# Save the downsampled datasets to a pickle file\n",
    "#ratings_df_100k.to_pickle('data/df_ratings_100k.pkl')"
   ],
   "metadata": {
    "collapsed": false
   },
   "id": "d1670ecf6bf2fa58"
  },
  {
   "cell_type": "markdown",
   "source": [
    "## Stratified Sampling 3M Ratings"
   ],
   "metadata": {
    "collapsed": false
   },
   "id": "12a4411b8ff613a5"
  },
  {
   "cell_type": "code",
   "outputs": [
    {
     "name": "stderr",
     "output_type": "stream",
     "text": [
      "/var/folders/08/34vp8sgn1vj1l_v1dzyhrdk00000gn/T/ipykernel_70459/1531266329.py:5: FutureWarning: The default of observed=False is deprecated and will be changed to True in a future version of pandas. Pass observed=False to retain current behavior or observed=True to adopt the future default and silence this warning.\n",
      "  ratings_df_3M = ratings_df.groupby('rating_category', group_keys=False).apply(\n"
     ]
    },
    {
     "name": "stdout",
     "output_type": "stream",
     "text": [
      "Original DF Shape: (24829828, 7)\n",
      "Sampled DF Shape: (3000001, 7)\n"
     ]
    }
   ],
   "source": [
    "# We will use pandas' cut function to categorize these ratings\n",
    "ratings_df['rating_category'] = pd.cut(ratings_df['rating'], bins=np.arange(0.5, 6.0, 0.5), include_lowest=True, right=False)\n",
    "\n",
    "# Stratified sampling based on rating categories\n",
    "ratings_df_3M = ratings_df.groupby('rating_category', group_keys=False).apply(\n",
    "    lambda x: x.sample(int(np.rint(3000000 * len(x) / len(ratings_df))), random_state=42)\n",
    ")\n",
    "\n",
    "print(f\"Original DF Shape: {ratings_df.shape}\")\n",
    "print(f\"Sampled DF Shape: {ratings_df_3M.shape}\")"
   ],
   "metadata": {
    "collapsed": false,
    "ExecuteTime": {
     "end_time": "2024-05-13T14:58:28.411052Z",
     "start_time": "2024-05-13T14:58:23.133920Z"
    }
   },
   "id": "c515d7a209d4df8e",
   "execution_count": 4
  },
  {
   "cell_type": "markdown",
   "source": [
    "Now that we have downsampled the ratings dataset, we can compare the summary statistics of the original and downsampled datasets to ensure that the distribution of ratings has been maintained."
   ],
   "metadata": {
    "collapsed": false
   },
   "id": "d9e8b3d623568f9"
  },
  {
   "cell_type": "code",
   "outputs": [
    {
     "data": {
      "text/plain": "         Original    Sampled\ncount  24829828.0  3000001.0\nmean      3.52898   3.528979\nstd      1.060177   1.060178\nmin           0.5        0.5\n25%           3.0        3.0\n50%           3.5        3.5\n75%           4.0        4.0\nmax           5.0        5.0",
      "text/html": "<div>\n<style scoped>\n    .dataframe tbody tr th:only-of-type {\n        vertical-align: middle;\n    }\n\n    .dataframe tbody tr th {\n        vertical-align: top;\n    }\n\n    .dataframe thead th {\n        text-align: right;\n    }\n</style>\n<table border=\"1\" class=\"dataframe\">\n  <thead>\n    <tr style=\"text-align: right;\">\n      <th></th>\n      <th>Original</th>\n      <th>Sampled</th>\n    </tr>\n  </thead>\n  <tbody>\n    <tr>\n      <th>count</th>\n      <td>24829828.0</td>\n      <td>3000001.0</td>\n    </tr>\n    <tr>\n      <th>mean</th>\n      <td>3.52898</td>\n      <td>3.528979</td>\n    </tr>\n    <tr>\n      <th>std</th>\n      <td>1.060177</td>\n      <td>1.060178</td>\n    </tr>\n    <tr>\n      <th>min</th>\n      <td>0.5</td>\n      <td>0.5</td>\n    </tr>\n    <tr>\n      <th>25%</th>\n      <td>3.0</td>\n      <td>3.0</td>\n    </tr>\n    <tr>\n      <th>50%</th>\n      <td>3.5</td>\n      <td>3.5</td>\n    </tr>\n    <tr>\n      <th>75%</th>\n      <td>4.0</td>\n      <td>4.0</td>\n    </tr>\n    <tr>\n      <th>max</th>\n      <td>5.0</td>\n      <td>5.0</td>\n    </tr>\n  </tbody>\n</table>\n</div>"
     },
     "execution_count": 5,
     "metadata": {},
     "output_type": "execute_result"
    }
   ],
   "source": [
    "# Compare summary statistics of the original and downsampled datasets\n",
    "def summary_stats_comparison(original_df, downsampled_df, column):\n",
    "    \"\"\"Compare summary statistics of a column in the original and downsampled datasets.\"\"\"\n",
    "    original_stats = original_df[column].describe()\n",
    "    downsampled_stats = downsampled_df[column].describe()\n",
    "\n",
    "    summary_stats = pd.concat([original_stats, downsampled_stats], axis=1)\n",
    "    summary_stats.columns = ['Original', 'Sampled']\n",
    "\n",
    "    return summary_stats\n",
    "\n",
    "summary_stats_comparison(ratings_df, ratings_df_3M, 'rating')"
   ],
   "metadata": {
    "collapsed": false,
    "ExecuteTime": {
     "end_time": "2024-05-13T14:58:29.236811Z",
     "start_time": "2024-05-13T14:58:28.412725Z"
    }
   },
   "id": "dc1d86a5cc33a2cb",
   "execution_count": 5
  },
  {
   "cell_type": "code",
   "outputs": [
    {
     "data": {
      "text/plain": "<Figure size 1400x700 with 1 Axes>",
      "image/png": "[encoded data removed]"
     },
     "metadata": {},
     "output_type": "display_data"
    }
   ],
   "source": [
    "# Define your bins\n",
    "bins = np.arange(0.5, 6.0, 0.5)\n",
    "\n",
    "# Calculate bin centers\n",
    "bin_centers = 0.5 * (bins[:-1] + bins[1:])\n",
    "\n",
    "# Define width of each bar\n",
    "bar_width = 0.2\n",
    "\n",
    "# Plot histograms\n",
    "plt.figure(figsize=(14, 7))\n",
    "plt.bar(bin_centers - bar_width/2, ratings_df['rating'].value_counts(normalize=True, sort=False, bins=bins), width=bar_width, alpha=0.7, label='Original', align='center')\n",
    "plt.bar(bin_centers + bar_width/2, ratings_df_3M['rating'].value_counts(normalize=True, sort=False, bins=bins), width=bar_width, alpha=0.7, label='Sampled', align='center')\n",
    "\n",
    "plt.title('Comparison of Rating Distributions')\n",
    "plt.xlabel('Rating')\n",
    "plt.ylabel('Proportion')\n",
    "plt.xticks(bin_centers, labels=[f\"{bin:.1f}\" for bin in bins[:-1]])  # Set x-tick labels to match bin centers\n",
    "plt.legend()\n",
    "plt.show()"
   ],
   "metadata": {
    "collapsed": false,
    "ExecuteTime": {
     "end_time": "2024-05-13T14:58:30.499644Z",
     "start_time": "2024-05-13T14:58:29.237412Z"
    }
   },
   "id": "a7131032359ef7c0",
   "execution_count": 6
  },
  {
   "cell_type": "code",
   "outputs": [
    {
     "data": {
      "text/plain": "          userId  movieId  rating           timestamp  user_mean_rating  \\\n11800835  128365     1037     0.5 2009-10-19 10:10:37          3.104895   \n3192182    34770    27316     0.5 2006-06-10 09:14:33          1.329146   \n10041143  108700      307     0.5 2010-05-12 21:26:12          3.729651   \n14911364  162680    73929     0.5 2015-11-22 18:22:29          3.505618   \n13024846  141941     4308     0.5 2006-06-10 05:21:47          2.987685   \n\n          liked_by_user rating_category  \n11800835          False      [0.5, 1.0)  \n3192182           False      [0.5, 1.0)  \n10041143          False      [0.5, 1.0)  \n14911364          False      [0.5, 1.0)  \n13024846          False      [0.5, 1.0)  ",
      "text/html": "<div>\n<style scoped>\n    .dataframe tbody tr th:only-of-type {\n        vertical-align: middle;\n    }\n\n    .dataframe tbody tr th {\n        vertical-align: top;\n    }\n\n    .dataframe thead th {\n        text-align: right;\n    }\n</style>\n<table border=\"1\" class=\"dataframe\">\n  <thead>\n    <tr style=\"text-align: right;\">\n      <th></th>\n      <th>userId</th>\n      <th>movieId</th>\n      <th>rating</th>\n      <th>timestamp</th>\n      <th>user_mean_rating</th>\n      <th>liked_by_user</th>\n      <th>rating_category</th>\n    </tr>\n  </thead>\n  <tbody>\n    <tr>\n      <th>11800835</th>\n      <td>128365</td>\n      <td>1037</td>\n      <td>0.5</td>\n      <td>2009-10-19 10:10:37</td>\n      <td>3.104895</td>\n      <td>False</td>\n      <td>[0.5, 1.0)</td>\n    </tr>\n    <tr>\n      <th>3192182</th>\n      <td>34770</td>\n      <td>27316</td>\n      <td>0.5</td>\n      <td>2006-06-10 09:14:33</td>\n      <td>1.329146</td>\n      <td>False</td>\n      <td>[0.5, 1.0)</td>\n    </tr>\n    <tr>\n      <th>10041143</th>\n      <td>108700</td>\n      <td>307</td>\n      <td>0.5</td>\n      <td>2010-05-12 21:26:12</td>\n      <td>3.729651</td>\n      <td>False</td>\n      <td>[0.5, 1.0)</td>\n    </tr>\n    <tr>\n      <th>14911364</th>\n      <td>162680</td>\n      <td>73929</td>\n      <td>0.5</td>\n      <td>2015-11-22 18:22:29</td>\n      <td>3.505618</td>\n      <td>False</td>\n      <td>[0.5, 1.0)</td>\n    </tr>\n    <tr>\n      <th>13024846</th>\n      <td>141941</td>\n      <td>4308</td>\n      <td>0.5</td>\n      <td>2006-06-10 05:21:47</td>\n      <td>2.987685</td>\n      <td>False</td>\n      <td>[0.5, 1.0)</td>\n    </tr>\n  </tbody>\n</table>\n</div>"
     },
     "execution_count": 7,
     "metadata": {},
     "output_type": "execute_result"
    }
   ],
   "source": [
    "ratings_df_3M.head()"
   ],
   "metadata": {
    "collapsed": false,
    "ExecuteTime": {
     "end_time": "2024-05-13T14:58:30.513900Z",
     "start_time": "2024-05-13T14:58:30.502333Z"
    }
   },
   "id": "8535c1a4e9677ecd",
   "execution_count": 7
  },
  {
   "cell_type": "code",
   "outputs": [],
   "source": [
    "# Save the downsampled datasets to a pickle file\n",
    "ratings_df_3M.to_pickle('data/df_ratings_3M.pkl')"
   ],
   "metadata": {
    "collapsed": false,
    "ExecuteTime": {
     "end_time": "2024-05-13T14:58:39.323328Z",
     "start_time": "2024-05-13T14:58:38.918899Z"
    }
   },
   "id": "7ff6a80ab03b6e30",
   "execution_count": 8
  },
  {
   "cell_type": "markdown",
   "source": [
    "## Ratings Preprocessing"
   ],
   "metadata": {
    "collapsed": false
   },
   "id": "2092a856525675a9"
  },
  {
   "cell_type": "code",
   "outputs": [],
   "source": [
    "df_merged = pd.read_pickle('data/df_merged_cleaned.pkl')\n",
    "df_ratings = pd.read_pickle('data/df_ratings_100k.pkl')"
   ],
   "metadata": {
    "collapsed": false
   },
   "id": "68cdc100969e2fa9"
  },
  {
   "cell_type": "code",
   "outputs": [
    {
     "data": {
      "text/plain": "          userId  movieId  rating           timestamp  user_mean_rating  \\\n11800835  128365     1037     0.5 2009-10-19 10:10:37          3.104895   \n3192182    34770    27316     0.5 2006-06-10 09:14:33          1.329146   \n10041143  108700      307     0.5 2010-05-12 21:26:12          3.729651   \n14911364  162680    73929     0.5 2015-11-22 18:22:29          3.505618   \n13024846  141941     4308     0.5 2006-06-10 05:21:47          2.987685   \n\n          liked_by_user rating_category  \n11800835          False      [0.5, 1.0)  \n3192182           False      [0.5, 1.0)  \n10041143          False      [0.5, 1.0)  \n14911364          False      [0.5, 1.0)  \n13024846          False      [0.5, 1.0)  ",
      "text/html": "<div>\n<style scoped>\n    .dataframe tbody tr th:only-of-type {\n        vertical-align: middle;\n    }\n\n    .dataframe tbody tr th {\n        vertical-align: top;\n    }\n\n    .dataframe thead th {\n        text-align: right;\n    }\n</style>\n<table border=\"1\" class=\"dataframe\">\n  <thead>\n    <tr style=\"text-align: right;\">\n      <th></th>\n      <th>userId</th>\n      <th>movieId</th>\n      <th>rating</th>\n      <th>timestamp</th>\n      <th>user_mean_rating</th>\n      <th>liked_by_user</th>\n      <th>rating_category</th>\n    </tr>\n  </thead>\n  <tbody>\n    <tr>\n      <th>11800835</th>\n      <td>128365</td>\n      <td>1037</td>\n      <td>0.5</td>\n      <td>2009-10-19 10:10:37</td>\n      <td>3.104895</td>\n      <td>False</td>\n      <td>[0.5, 1.0)</td>\n    </tr>\n    <tr>\n      <th>3192182</th>\n      <td>34770</td>\n      <td>27316</td>\n      <td>0.5</td>\n      <td>2006-06-10 09:14:33</td>\n      <td>1.329146</td>\n      <td>False</td>\n      <td>[0.5, 1.0)</td>\n    </tr>\n    <tr>\n      <th>10041143</th>\n      <td>108700</td>\n      <td>307</td>\n      <td>0.5</td>\n      <td>2010-05-12 21:26:12</td>\n      <td>3.729651</td>\n      <td>False</td>\n      <td>[0.5, 1.0)</td>\n    </tr>\n    <tr>\n      <th>14911364</th>\n      <td>162680</td>\n      <td>73929</td>\n      <td>0.5</td>\n      <td>2015-11-22 18:22:29</td>\n      <td>3.505618</td>\n      <td>False</td>\n      <td>[0.5, 1.0)</td>\n    </tr>\n    <tr>\n      <th>13024846</th>\n      <td>141941</td>\n      <td>4308</td>\n      <td>0.5</td>\n      <td>2006-06-10 05:21:47</td>\n      <td>2.987685</td>\n      <td>False</td>\n      <td>[0.5, 1.0)</td>\n    </tr>\n  </tbody>\n</table>\n</div>"
     },
     "execution_count": 3,
     "metadata": {},
     "output_type": "execute_result"
    }
   ],
   "source": [
    "df_ratings.head()"
   ],
   "metadata": {
    "collapsed": false,
    "ExecuteTime": {
     "end_time": "2024-05-12T13:16:25.316166Z",
     "start_time": "2024-05-12T13:16:25.305316Z"
    }
   },
   "id": "a14169c172a84c65",
   "execution_count": 3
  },
  {
   "cell_type": "code",
   "outputs": [
    {
     "data": {
      "text/plain": "   userId  movieId  rating   timestamp\n0  128365     1037     0.5  1255947037\n1   34770    27316     0.5  1149930873\n2  108700      307     0.5  1273699572\n3  162680    73929     0.5  1448216549\n4  141941     4308     0.5  1149916907",
      "text/html": "<div>\n<style scoped>\n    .dataframe tbody tr th:only-of-type {\n        vertical-align: middle;\n    }\n\n    .dataframe tbody tr th {\n        vertical-align: top;\n    }\n\n    .dataframe thead th {\n        text-align: right;\n    }\n</style>\n<table border=\"1\" class=\"dataframe\">\n  <thead>\n    <tr style=\"text-align: right;\">\n      <th></th>\n      <th>userId</th>\n      <th>movieId</th>\n      <th>rating</th>\n      <th>timestamp</th>\n    </tr>\n  </thead>\n  <tbody>\n    <tr>\n      <th>0</th>\n      <td>128365</td>\n      <td>1037</td>\n      <td>0.5</td>\n      <td>1255947037</td>\n    </tr>\n    <tr>\n      <th>1</th>\n      <td>34770</td>\n      <td>27316</td>\n      <td>0.5</td>\n      <td>1149930873</td>\n    </tr>\n    <tr>\n      <th>2</th>\n      <td>108700</td>\n      <td>307</td>\n      <td>0.5</td>\n      <td>1273699572</td>\n    </tr>\n    <tr>\n      <th>3</th>\n      <td>162680</td>\n      <td>73929</td>\n      <td>0.5</td>\n      <td>1448216549</td>\n    </tr>\n    <tr>\n      <th>4</th>\n      <td>141941</td>\n      <td>4308</td>\n      <td>0.5</td>\n      <td>1149916907</td>\n    </tr>\n  </tbody>\n</table>\n</div>"
     },
     "execution_count": 4,
     "metadata": {},
     "output_type": "execute_result"
    }
   ],
   "source": [
    "# Make sure that the timestamp is in seconds\n",
    "df_ratings['timestamp'] = df_ratings['timestamp'].astype('int64') // 10**9\n",
    "\n",
    "# Keep only relevant columns\n",
    "df_ratings = df_ratings[['userId', 'movieId', 'rating', 'timestamp']]\n",
    "\n",
    "# Make userId the index\n",
    "#df_ratings.set_index('userId', inplace=True)\n",
    "\n",
    "# Delete index\n",
    "df_ratings.reset_index(drop=True, inplace=True)\n",
    "\n",
    "df_ratings.head()"
   ],
   "metadata": {
    "collapsed": false,
    "ExecuteTime": {
     "end_time": "2024-05-12T13:16:25.324020Z",
     "start_time": "2024-05-12T13:16:25.316714Z"
    }
   },
   "id": "9a8cbe1c4f06946c",
   "execution_count": 4
  },
  {
   "cell_type": "markdown",
   "source": [
    "## Movies Preprocessing"
   ],
   "metadata": {
    "collapsed": false
   },
   "id": "45ccb439e09660f2"
  },
  {
   "cell_type": "code",
   "outputs": [
    {
     "data": {
      "text/plain": "   movieId  belongs_to_collection original_language  \\\n0        1                      1                en   \n1        2                      0                en   \n2        3                      1                en   \n3        4                      0                en   \n4        5                      1                en   \n\n                                            overview release_date  runtime  \\\n0  Led by Woody, Andy's toys live happily in his ...   1995-10-30     81.0   \n1  When siblings Judy and Peter discover an encha...   1995-12-15    104.0   \n2  A family wedding reignites the ancient feud be...   1995-12-22    101.0   \n3  Cheated on, mistreated and stepped on, the wom...   1995-12-22    127.0   \n4  Just when George Banks has recovered from his ...   1995-02-10    106.0   \n\n                         title  \\\n0                    Toy Story   \n1                      Jumanji   \n2             Grumpier Old Men   \n3            Waiting to Exhale   \n4  Father of the Bride Part II   \n\n                                              actors  \\\n0  [Tom Hanks, Tim Allen, Don Rickles, Jim Varney...   \n1  [Robin Williams, Jonathan Hyde, Kirsten Dunst,...   \n2  [Walter Matthau, Jack Lemmon, Ann-Margret, Sop...   \n3  [Whitney Houston, Angela Bassett, Loretta Devi...   \n4  [Steve Martin, Diane Keaton, Martin Short, Kim...   \n\n                                  keywords_extracted  \\\n0  [jealousy, toy, boy, friendship, friends, riva...   \n1  [board game, disappearance, based on children'...   \n2  [fishing, best friend, duringcreditsstinger, o...   \n3  [based on novel, interracial relationship, sin...   \n4  [baby, midlife crisis, confidence, aging, daug...   \n\n                genre_extracted  \\\n0   [Animation, Comedy, Family]   \n1  [Adventure, Fantasy, Family]   \n2             [Romance, Comedy]   \n3      [Comedy, Drama, Romance]   \n4                      [Comedy]   \n\n                        production_company_extracted  \\\n0                          [Pixar Animation Studios]   \n1  [TriStar Pictures, Teitler Film, Interscope Co...   \n2                     [Warner Bros., Lancaster Gate]   \n3           [Twentieth Century Fox Film Corporation]   \n4       [Sandollar Productions, Touchstone Pictures]   \n\n  production_country_extracted  \n0   [United States of America]  \n1   [United States of America]  \n2   [United States of America]  \n3   [United States of America]  \n4   [United States of America]  ",
      "text/html": "<div>\n<style scoped>\n    .dataframe tbody tr th:only-of-type {\n        vertical-align: middle;\n    }\n\n    .dataframe tbody tr th {\n        vertical-align: top;\n    }\n\n    .dataframe thead th {\n        text-align: right;\n    }\n</style>\n<table border=\"1\" class=\"dataframe\">\n  <thead>\n    <tr style=\"text-align: right;\">\n      <th></th>\n      <th>movieId</th>\n      <th>belongs_to_collection</th>\n      <th>original_language</th>\n      <th>overview</th>\n      <th>release_date</th>\n      <th>runtime</th>\n      <th>title</th>\n      <th>actors</th>\n      <th>keywords_extracted</th>\n      <th>genre_extracted</th>\n      <th>production_company_extracted</th>\n      <th>production_country_extracted</th>\n    </tr>\n  </thead>\n  <tbody>\n    <tr>\n      <th>0</th>\n      <td>1</td>\n      <td>1</td>\n      <td>en</td>\n      <td>Led by Woody, Andy's toys live happily in his ...</td>\n      <td>1995-10-30</td>\n      <td>81.0</td>\n      <td>Toy Story</td>\n      <td>[Tom Hanks, Tim Allen, Don Rickles, Jim Varney...</td>\n      <td>[jealousy, toy, boy, friendship, friends, riva...</td>\n      <td>[Animation, Comedy, Family]</td>\n      <td>[Pixar Animation Studios]</td>\n      <td>[United States of America]</td>\n    </tr>\n    <tr>\n      <th>1</th>\n      <td>2</td>\n      <td>0</td>\n      <td>en</td>\n      <td>When siblings Judy and Peter discover an encha...</td>\n      <td>1995-12-15</td>\n      <td>104.0</td>\n      <td>Jumanji</td>\n      <td>[Robin Williams, Jonathan Hyde, Kirsten Dunst,...</td>\n      <td>[board game, disappearance, based on children'...</td>\n      <td>[Adventure, Fantasy, Family]</td>\n      <td>[TriStar Pictures, Teitler Film, Interscope Co...</td>\n      <td>[United States of America]</td>\n    </tr>\n    <tr>\n      <th>2</th>\n      <td>3</td>\n      <td>1</td>\n      <td>en</td>\n      <td>A family wedding reignites the ancient feud be...</td>\n      <td>1995-12-22</td>\n      <td>101.0</td>\n      <td>Grumpier Old Men</td>\n      <td>[Walter Matthau, Jack Lemmon, Ann-Margret, Sop...</td>\n      <td>[fishing, best friend, duringcreditsstinger, o...</td>\n      <td>[Romance, Comedy]</td>\n      <td>[Warner Bros., Lancaster Gate]</td>\n      <td>[United States of America]</td>\n    </tr>\n    <tr>\n      <th>3</th>\n      <td>4</td>\n      <td>0</td>\n      <td>en</td>\n      <td>Cheated on, mistreated and stepped on, the wom...</td>\n      <td>1995-12-22</td>\n      <td>127.0</td>\n      <td>Waiting to Exhale</td>\n      <td>[Whitney Houston, Angela Bassett, Loretta Devi...</td>\n      <td>[based on novel, interracial relationship, sin...</td>\n      <td>[Comedy, Drama, Romance]</td>\n      <td>[Twentieth Century Fox Film Corporation]</td>\n      <td>[United States of America]</td>\n    </tr>\n    <tr>\n      <th>4</th>\n      <td>5</td>\n      <td>1</td>\n      <td>en</td>\n      <td>Just when George Banks has recovered from his ...</td>\n      <td>1995-02-10</td>\n      <td>106.0</td>\n      <td>Father of the Bride Part II</td>\n      <td>[Steve Martin, Diane Keaton, Martin Short, Kim...</td>\n      <td>[baby, midlife crisis, confidence, aging, daug...</td>\n      <td>[Comedy]</td>\n      <td>[Sandollar Productions, Touchstone Pictures]</td>\n      <td>[United States of America]</td>\n    </tr>\n  </tbody>\n</table>\n</div>"
     },
     "execution_count": 5,
     "metadata": {},
     "output_type": "execute_result"
    }
   ],
   "source": [
    "df_merged.head()"
   ],
   "metadata": {
    "collapsed": false,
    "ExecuteTime": {
     "end_time": "2024-05-12T13:16:25.332513Z",
     "start_time": "2024-05-12T13:16:25.324967Z"
    }
   },
   "id": "6a276cb794d354b5",
   "execution_count": 5
  },
  {
   "cell_type": "code",
   "outputs": [
    {
     "data": {
      "text/plain": "   movieId                        title               genre_extracted\n0        1                    Toy Story   [Animation, Comedy, Family]\n1        2                      Jumanji  [Adventure, Fantasy, Family]\n2        3             Grumpier Old Men             [Romance, Comedy]\n3        4            Waiting to Exhale      [Comedy, Drama, Romance]\n4        5  Father of the Bride Part II                      [Comedy]",
      "text/html": "<div>\n<style scoped>\n    .dataframe tbody tr th:only-of-type {\n        vertical-align: middle;\n    }\n\n    .dataframe tbody tr th {\n        vertical-align: top;\n    }\n\n    .dataframe thead th {\n        text-align: right;\n    }\n</style>\n<table border=\"1\" class=\"dataframe\">\n  <thead>\n    <tr style=\"text-align: right;\">\n      <th></th>\n      <th>movieId</th>\n      <th>title</th>\n      <th>genre_extracted</th>\n    </tr>\n  </thead>\n  <tbody>\n    <tr>\n      <th>0</th>\n      <td>1</td>\n      <td>Toy Story</td>\n      <td>[Animation, Comedy, Family]</td>\n    </tr>\n    <tr>\n      <th>1</th>\n      <td>2</td>\n      <td>Jumanji</td>\n      <td>[Adventure, Fantasy, Family]</td>\n    </tr>\n    <tr>\n      <th>2</th>\n      <td>3</td>\n      <td>Grumpier Old Men</td>\n      <td>[Romance, Comedy]</td>\n    </tr>\n    <tr>\n      <th>3</th>\n      <td>4</td>\n      <td>Waiting to Exhale</td>\n      <td>[Comedy, Drama, Romance]</td>\n    </tr>\n    <tr>\n      <th>4</th>\n      <td>5</td>\n      <td>Father of the Bride Part II</td>\n      <td>[Comedy]</td>\n    </tr>\n  </tbody>\n</table>\n</div>"
     },
     "execution_count": 6,
     "metadata": {},
     "output_type": "execute_result"
    }
   ],
   "source": [
    "# Keep only relevant columns\n",
    "df_movies = df_merged[['movieId', 'title', 'genre_extracted']]\n",
    "\n",
    "df_movies.head()"
   ],
   "metadata": {
    "collapsed": false,
    "ExecuteTime": {
     "end_time": "2024-05-12T13:16:25.338347Z",
     "start_time": "2024-05-12T13:16:25.332996Z"
    }
   },
   "id": "b39807af3f443d98",
   "execution_count": 6
  },
  {
   "cell_type": "code",
   "outputs": [
    {
     "name": "stderr",
     "output_type": "stream",
     "text": [
      "/var/folders/08/34vp8sgn1vj1l_v1dzyhrdk00000gn/T/ipykernel_63105/2266882199.py:7: SettingWithCopyWarning: \n",
      "A value is trying to be set on a copy of a slice from a DataFrame.\n",
      "Try using .loc[row_indexer,col_indexer] = value instead\n",
      "\n",
      "See the caveats in the documentation: https://pandas.pydata.org/pandas-docs/stable/user_guide/indexing.html#returning-a-view-versus-a-copy\n",
      "  df_movies['genres'] = df_movies['genre_extracted'].apply(transform_genre)\n",
      "/var/folders/08/34vp8sgn1vj1l_v1dzyhrdk00000gn/T/ipykernel_63105/2266882199.py:10: SettingWithCopyWarning: \n",
      "A value is trying to be set on a copy of a slice from a DataFrame\n",
      "\n",
      "See the caveats in the documentation: https://pandas.pydata.org/pandas-docs/stable/user_guide/indexing.html#returning-a-view-versus-a-copy\n",
      "  df_movies.drop('genre_extracted', axis=1, inplace=True)\n"
     ]
    },
    {
     "data": {
      "text/plain": "   movieId                        title                    genres\n0        1                    Toy Story   Animation|Comedy|Family\n1        2                      Jumanji  Adventure|Fantasy|Family\n2        3             Grumpier Old Men            Romance|Comedy\n3        4            Waiting to Exhale      Comedy|Drama|Romance\n4        5  Father of the Bride Part II                    Comedy",
      "text/html": "<div>\n<style scoped>\n    .dataframe tbody tr th:only-of-type {\n        vertical-align: middle;\n    }\n\n    .dataframe tbody tr th {\n        vertical-align: top;\n    }\n\n    .dataframe thead th {\n        text-align: right;\n    }\n</style>\n<table border=\"1\" class=\"dataframe\">\n  <thead>\n    <tr style=\"text-align: right;\">\n      <th></th>\n      <th>movieId</th>\n      <th>title</th>\n      <th>genres</th>\n    </tr>\n  </thead>\n  <tbody>\n    <tr>\n      <th>0</th>\n      <td>1</td>\n      <td>Toy Story</td>\n      <td>Animation|Comedy|Family</td>\n    </tr>\n    <tr>\n      <th>1</th>\n      <td>2</td>\n      <td>Jumanji</td>\n      <td>Adventure|Fantasy|Family</td>\n    </tr>\n    <tr>\n      <th>2</th>\n      <td>3</td>\n      <td>Grumpier Old Men</td>\n      <td>Romance|Comedy</td>\n    </tr>\n    <tr>\n      <th>3</th>\n      <td>4</td>\n      <td>Waiting to Exhale</td>\n      <td>Comedy|Drama|Romance</td>\n    </tr>\n    <tr>\n      <th>4</th>\n      <td>5</td>\n      <td>Father of the Bride Part II</td>\n      <td>Comedy</td>\n    </tr>\n  </tbody>\n</table>\n</div>"
     },
     "execution_count": 7,
     "metadata": {},
     "output_type": "execute_result"
    }
   ],
   "source": [
    "# Function to transform list of genres into a pipe-separated string\n",
    "def transform_genre(genres_list):\n",
    "    # Join list elements with a pipe\n",
    "    return '|'.join(genres_list)\n",
    "\n",
    "# Apply the transformation\n",
    "df_movies['genres'] = df_movies['genre_extracted'].apply(transform_genre)\n",
    "\n",
    "# drop the genre_extracted column\n",
    "df_movies.drop('genre_extracted', axis=1, inplace=True)\n",
    "\n",
    "# Display the transformed DataFrame\n",
    "df_movies.head()"
   ],
   "metadata": {
    "collapsed": false,
    "ExecuteTime": {
     "end_time": "2024-05-12T13:16:25.352520Z",
     "start_time": "2024-05-12T13:16:25.338859Z"
    }
   },
   "id": "8f0f387d40c881b0",
   "execution_count": 7
  },
  {
   "cell_type": "code",
   "outputs": [
    {
     "name": "stdout",
     "output_type": "stream",
     "text": [
      "Number of users: 55588, Number of Movies: 9494, Min rating: 0.5, Max rating: 5.0\n"
     ]
    }
   ],
   "source": [
    "user_ids = df_ratings[\"userId\"].unique().tolist()\n",
    "user2user_encoded = {x: i for i, x in enumerate(user_ids)}\n",
    "userencoded2user = {i: x for i, x in enumerate(user_ids)}\n",
    "movie_ids = df_ratings[\"movieId\"].unique().tolist()\n",
    "movie2movie_encoded = {x: i for i, x in enumerate(movie_ids)}\n",
    "movie_encoded2movie = {i: x for i, x in enumerate(movie_ids)}\n",
    "df_ratings[\"user\"] = df_ratings[\"userId\"].map(user2user_encoded)\n",
    "df_ratings[\"movie\"] = df_ratings[\"movieId\"].map(movie2movie_encoded)\n",
    "\n",
    "num_users = len(user2user_encoded)\n",
    "num_movies = len(movie_encoded2movie)\n",
    "df_ratings[\"rating\"] = df_ratings[\"rating\"].values.astype(np.float32)\n",
    "# min and max ratings will be used to normalize the ratings later\n",
    "min_rating = min(df_ratings[\"rating\"])\n",
    "max_rating = max(df_ratings[\"rating\"])\n",
    "\n",
    "print(\n",
    "    \"Number of users: {}, Number of Movies: {}, Min rating: {}, Max rating: {}\".format(\n",
    "        num_users, num_movies, min_rating, max_rating\n",
    "    )\n",
    ")"
   ],
   "metadata": {
    "collapsed": false,
    "ExecuteTime": {
     "end_time": "2024-05-12T13:16:25.399472Z",
     "start_time": "2024-05-12T13:16:25.353783Z"
    }
   },
   "id": "7975b5addd3c1f75",
   "execution_count": 8
  },
  {
   "cell_type": "markdown",
   "source": [
    "# Prepare data for training"
   ],
   "metadata": {
    "collapsed": false
   },
   "id": "757f6ba22f024411"
  },
  {
   "cell_type": "code",
   "outputs": [],
   "source": [
    "df = df_ratings.sample(frac=1, random_state=42)\n",
    "x = df[[\"user\", \"movie\"]].values\n",
    "# Normalize the targets between 0 and 1. Makes it easy to train.\n",
    "y = df[\"rating\"].apply(lambda x: (x - min_rating) / (max_rating - min_rating)).values\n",
    "# Assuming training on 90% of the data and validating on 10%.\n",
    "train_indices = int(0.9 * df.shape[0])\n",
    "x_train, x_val, y_train, y_val = (\n",
    "    x[:train_indices],\n",
    "    x[train_indices:],\n",
    "    y[:train_indices],\n",
    "    y[train_indices:],\n",
    ")"
   ],
   "metadata": {
    "collapsed": false,
    "ExecuteTime": {
     "end_time": "2024-05-12T13:16:25.427399Z",
     "start_time": "2024-05-12T13:16:25.402714Z"
    }
   },
   "id": "b632b49ed53b4175",
   "execution_count": 9
  },
  {
   "cell_type": "markdown",
   "source": [
    "# Create the model"
   ],
   "metadata": {
    "collapsed": false
   },
   "id": "f1d50627b1500da5"
  },
  {
   "cell_type": "code",
   "outputs": [],
   "source": [
    "EMBEDDING_SIZE = 50\n",
    "\n",
    "\n",
    "class RecommenderNet(keras.Model):\n",
    "    def __init__(self, num_users, num_movies, embedding_size, **kwargs):\n",
    "        super().__init__(**kwargs)\n",
    "        self.num_users = num_users\n",
    "        self.num_movies = num_movies\n",
    "        self.embedding_size = embedding_size\n",
    "        self.user_embedding = layers.Embedding(\n",
    "            num_users,\n",
    "            embedding_size,\n",
    "            embeddings_initializer=\"he_normal\",\n",
    "            embeddings_regularizer=keras.regularizers.l2(1e-6),\n",
    "        )\n",
    "        self.user_bias = layers.Embedding(num_users, 1)\n",
    "        self.movie_embedding = layers.Embedding(\n",
    "            num_movies,\n",
    "            embedding_size,\n",
    "            embeddings_initializer=\"he_normal\",\n",
    "            embeddings_regularizer=keras.regularizers.l2(1e-6),\n",
    "        )\n",
    "        self.movie_bias = layers.Embedding(num_movies, 1)\n",
    "\n",
    "    def call(self, inputs):\n",
    "        user_vector = self.user_embedding(inputs[:, 0])\n",
    "        user_bias = self.user_bias(inputs[:, 0])\n",
    "        movie_vector = self.movie_embedding(inputs[:, 1])\n",
    "        movie_bias = self.movie_bias(inputs[:, 1])\n",
    "        dot_user_movie = ops.tensordot(user_vector, movie_vector, 2)\n",
    "        # Add all the components (including bias)\n",
    "        x = dot_user_movie + user_bias + movie_bias\n",
    "        # The sigmoid activation forces the rating to between 0 and 1\n",
    "        return ops.nn.sigmoid(x)\n",
    "\n",
    "\n",
    "model = RecommenderNet(num_users, num_movies, EMBEDDING_SIZE)\n",
    "model.compile(\n",
    "    loss=keras.losses.BinaryCrossentropy(),\n",
    "    optimizer=keras.optimizers.Adam(learning_rate=0.001),\n",
    ")"
   ],
   "metadata": {
    "collapsed": false,
    "ExecuteTime": {
     "end_time": "2024-05-12T13:16:25.483112Z",
     "start_time": "2024-05-12T13:16:25.428540Z"
    }
   },
   "id": "5b29e681c592f718",
   "execution_count": 10
  },
  {
   "cell_type": "markdown",
   "source": [
    "# Train the model"
   ],
   "metadata": {
    "collapsed": false
   },
   "id": "71447d364b23d16c"
  },
  {
   "cell_type": "code",
   "outputs": [
    {
     "name": "stdout",
     "output_type": "stream",
     "text": [
      "Epoch 1/5\n",
      "\u001B[1m1407/1407\u001B[0m \u001B[32m━━━━━━━━━━━━━━━━━━━━\u001B[0m\u001B[37m\u001B[0m \u001B[1m17s\u001B[0m 11ms/step - loss: 0.6851 - val_loss: 0.6597\n",
      "Epoch 2/5\n",
      "\u001B[1m1407/1407\u001B[0m \u001B[32m━━━━━━━━━━━━━━━━━━━━\u001B[0m\u001B[37m\u001B[0m \u001B[1m15s\u001B[0m 10ms/step - loss: 0.6435 - val_loss: 0.6599\n",
      "Epoch 3/5\n",
      "\u001B[1m1407/1407\u001B[0m \u001B[32m━━━━━━━━━━━━━━━━━━━━\u001B[0m\u001B[37m\u001B[0m \u001B[1m15s\u001B[0m 10ms/step - loss: 0.6172 - val_loss: 0.6559\n",
      "Epoch 4/5\n",
      "\u001B[1m1407/1407\u001B[0m \u001B[32m━━━━━━━━━━━━━━━━━━━━\u001B[0m\u001B[37m\u001B[0m \u001B[1m14s\u001B[0m 10ms/step - loss: 0.6204 - val_loss: 0.6536\n",
      "Epoch 5/5\n",
      "\u001B[1m1407/1407\u001B[0m \u001B[32m━━━━━━━━━━━━━━━━━━━━\u001B[0m\u001B[37m\u001B[0m \u001B[1m16s\u001B[0m 11ms/step - loss: 0.6245 - val_loss: 0.6538\n"
     ]
    }
   ],
   "source": [
    "# Train the model\n",
    "history = model.fit(\n",
    "    x=x_train,\n",
    "    y=y_train,\n",
    "    batch_size=64,\n",
    "    epochs=5,\n",
    "    verbose=1,\n",
    "    validation_data=(x_val, y_val),\n",
    ")"
   ],
   "metadata": {
    "collapsed": false,
    "ExecuteTime": {
     "end_time": "2024-05-12T13:17:41.805200Z",
     "start_time": "2024-05-12T13:16:25.483758Z"
    }
   },
   "id": "3b372d8824193297",
   "execution_count": 11
  },
  {
   "cell_type": "code",
   "outputs": [
    {
     "data": {
      "text/plain": "<Figure size 640x480 with 1 Axes>",
      "image/png": "[encoded data removed]"
     },
     "metadata": {},
     "output_type": "display_data"
    }
   ],
   "source": [
    "# Plot the training and validation loss\n",
    "plt.plot(history.history[\"loss\"])\n",
    "plt.plot(history.history[\"val_loss\"])\n",
    "plt.title(\"model loss\")\n",
    "plt.ylabel(\"loss\")\n",
    "plt.xlabel(\"epoch\")\n",
    "plt.legend([\"train\", \"test\"], loc=\"upper left\")\n",
    "plt.show()"
   ],
   "metadata": {
    "collapsed": false,
    "ExecuteTime": {
     "end_time": "2024-05-12T13:17:41.929539Z",
     "start_time": "2024-05-12T13:17:41.806434Z"
    }
   },
   "id": "a530f3af3a0f1d9f",
   "execution_count": 12
  },
  {
   "cell_type": "markdown",
   "source": [
    "# Make movie recommendations"
   ],
   "metadata": {
    "collapsed": false
   },
   "id": "a9f9d6ef89a4e7e5"
  },
  {
   "cell_type": "code",
   "outputs": [
    {
     "name": "stdout",
     "output_type": "stream",
     "text": [
      "\u001B[1m290/290\u001B[0m \u001B[32m━━━━━━━━━━━━━━━━━━━━\u001B[0m\u001B[37m\u001B[0m \u001B[1m0s\u001B[0m 350us/step\n",
      "Showing recommendations for user: 76734\n",
      "====================================\n",
      "Movies with high ratings from user\n",
      "--------------------------------\n",
      "The Usual Suspects : Drama|Crime|Thriller\n",
      "Star Trek VI: The Undiscovered Country : Science Fiction|Action|Adventure|Thriller\n",
      "Sixteen Candles : Comedy|Romance\n",
      "From Russia with Love : Action|Thriller|Adventure\n",
      "--------------------------------\n",
      "Top 10 movie recommendations\n",
      "--------------------------------\n",
      "The Shawshank Redemption : Drama|Crime\n",
      "Schindler's List : Drama|History|War\n",
      "The Silence of the Lambs : Crime|Drama|Thriller\n",
      "The Godfather : Drama|Crime\n",
      "Raiders of the Lost Ark : Adventure|Action\n",
      "GoodFellas : Drama|Crime\n",
      "The Godfather: Part II : Drama|Crime\n",
      "Seven Samurai : Action|Drama\n",
      "Saving Private Ryan : Drama|History|War\n",
      "City of God : Drama|Crime\n"
     ]
    }
   ],
   "source": [
    "# Let us get a user and see the top recommendations.\n",
    "user_id = df.userId.sample(1).iloc[0]\n",
    "movies_watched_by_user = df[df.userId == user_id]\n",
    "movies_not_watched = df_movies[\n",
    "    ~df_movies[\"movieId\"].isin(movies_watched_by_user.movieId.values)\n",
    "][\"movieId\"]\n",
    "movies_not_watched = list(\n",
    "    set(movies_not_watched).intersection(set(movie2movie_encoded.keys()))\n",
    ")\n",
    "movies_not_watched = [[movie2movie_encoded.get(x)] for x in movies_not_watched]\n",
    "user_encoder = user2user_encoded.get(user_id)\n",
    "user_movie_array = np.hstack(\n",
    "    ([[user_encoder]] * len(movies_not_watched), movies_not_watched)\n",
    ")\n",
    "ratings = model.predict(user_movie_array).flatten()\n",
    "top_ratings_indices = ratings.argsort()[-10:][::-1]\n",
    "recommended_movie_ids = [\n",
    "    movie_encoded2movie.get(movies_not_watched[x][0]) for x in top_ratings_indices\n",
    "]\n",
    "\n",
    "print(\"Showing recommendations for user: {}\".format(user_id))\n",
    "print(\"====\" * 9)\n",
    "print(\"Movies with high ratings from user\")\n",
    "print(\"----\" * 8)\n",
    "top_movies_user = (\n",
    "    movies_watched_by_user.sort_values(by=\"rating\", ascending=False)\n",
    "    .head(5)\n",
    "    .movieId.values\n",
    ")\n",
    "movie_df_rows = df_movies[df_movies[\"movieId\"].isin(top_movies_user)]\n",
    "for row in movie_df_rows.itertuples():\n",
    "    print(row.title, \":\", row.genres)\n",
    "\n",
    "print(\"----\" * 8)\n",
    "print(\"Top 10 movie recommendations\")\n",
    "print(\"----\" * 8)\n",
    "recommended_movies = df_movies[df_movies[\"movieId\"].isin(recommended_movie_ids)]\n",
    "for row in recommended_movies.itertuples():\n",
    "    print(row.title, \":\", row.genres)"
   ],
   "metadata": {
    "collapsed": false,
    "ExecuteTime": {
     "end_time": "2024-05-12T13:17:42.158849Z",
     "start_time": "2024-05-12T13:17:41.930323Z"
    }
   },
   "id": "da5c7f338d944b27",
   "execution_count": 13
  },
  {
   "cell_type": "code",
   "outputs": [],
   "source": [],
   "metadata": {
    "collapsed": false,
    "ExecuteTime": {
     "end_time": "2024-05-12T13:17:42.161219Z",
     "start_time": "2024-05-12T13:17:42.159727Z"
    }
   },
   "id": "138d70f464b36fcf",
   "execution_count": 13
  }
 ],
 "metadata": {
  "kernelspec": {
   "display_name": "Python 3",
   "language": "python",
   "name": "python3"
  },
  "language_info": {
   "codemirror_mode": {
    "name": "ipython",
    "version": 2
   },
   "file_extension": ".py",
   "mimetype": "text/x-python",
   "name": "python",
   "nbconvert_exporter": "python",
   "pygments_lexer": "ipython2",
   "version": "2.7.6"
  }
 },
 "nbformat": 4,
 "nbformat_minor": 5
}
