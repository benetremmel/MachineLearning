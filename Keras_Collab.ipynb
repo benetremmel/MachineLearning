{
 "cells": [
  {
   "cell_type": "code",
   "outputs": [],
   "source": [
    "import pandas as pd\n",
    "from pathlib import Path\n",
    "import matplotlib.pyplot as plt\n",
    "import numpy as np\n",
    "from zipfile import ZipFile\n",
    "\n",
    "import keras\n",
    "from keras import layers\n",
    "from keras import ops"
   ],
   "metadata": {
    "collapsed": false,
    "ExecuteTime": {
     "end_time": "2024-05-11T19:00:00.026487Z",
     "start_time": "2024-05-11T18:59:55.368615Z"
    }
   },
   "id": "9442d8375f18c10d",
   "execution_count": 2
  },
  {
   "cell_type": "code",
   "execution_count": 3,
   "id": "initial_id",
   "metadata": {
    "collapsed": true,
    "ExecuteTime": {
     "end_time": "2024-05-11T19:00:00.357605Z",
     "start_time": "2024-05-11T19:00:00.027454Z"
    }
   },
   "outputs": [],
   "source": [
    "df_merged = pd.read_pickle('data/df_merged_cleaned.pkl')\n",
    "df_ratings = pd.read_pickle('data/df_ratings_100k.pkl')"
   ]
  },
  {
   "cell_type": "code",
   "outputs": [],
   "source": [
    "# Download the actual data from http://files.grouplens.org/datasets/movielens/ml-latest-small.zip\"\n",
    "# Use the ratings.csv file\n",
    "movielens_data_file_url = (\n",
    "    \"http://files.grouplens.org/datasets/movielens/ml-latest-small.zip\"\n",
    ")\n",
    "movielens_zipped_file = keras.utils.get_file(\n",
    "    \"ml-latest-small.zip\", movielens_data_file_url, extract=False\n",
    ")\n",
    "keras_datasets_path = Path(movielens_zipped_file).parents[0]\n",
    "movielens_dir = keras_datasets_path / \"ml-latest-small\"\n",
    "\n",
    "# Only extract the data the first time the script is run.\n",
    "if not movielens_dir.exists():\n",
    "    with ZipFile(movielens_zipped_file, \"r\") as zip:\n",
    "        # Extract files\n",
    "        print(\"Extracting all the files now...\")\n",
    "        zip.extractall(path=keras_datasets_path)\n",
    "        print(\"Done!\")\n",
    "\n",
    "ratings_file = movielens_dir / \"ratings.csv\"\n",
    "df = pd.read_csv(ratings_file)"
   ],
   "metadata": {
    "collapsed": false,
    "ExecuteTime": {
     "end_time": "2024-05-11T19:00:00.419166Z",
     "start_time": "2024-05-11T19:00:00.358365Z"
    }
   },
   "id": "42dcecbb3fdd87e9",
   "execution_count": 4
  },
  {
   "cell_type": "code",
   "outputs": [],
   "source": [],
   "metadata": {
    "collapsed": false,
    "ExecuteTime": {
     "end_time": "2024-05-11T19:00:00.421801Z",
     "start_time": "2024-05-11T19:00:00.420575Z"
    }
   },
   "id": "8bdd8991f72c1d74",
   "execution_count": 4
  },
  {
   "cell_type": "markdown",
   "source": [
    "## Ratings Preprocessing"
   ],
   "metadata": {
    "collapsed": false
   },
   "id": "2092a856525675a9"
  },
  {
   "cell_type": "code",
   "outputs": [
    {
     "data": {
      "text/plain": "          userId  movieId  rating           timestamp  user_mean_rating  \\\n11800835  128365     1037     0.5 2009-10-19 10:10:37          3.104895   \n3192182    34770    27316     0.5 2006-06-10 09:14:33          1.329146   \n10041143  108700      307     0.5 2010-05-12 21:26:12          3.729651   \n14911364  162680    73929     0.5 2015-11-22 18:22:29          3.505618   \n13024846  141941     4308     0.5 2006-06-10 05:21:47          2.987685   \n\n          liked_by_user rating_category  \n11800835          False      [0.5, 1.0)  \n3192182           False      [0.5, 1.0)  \n10041143          False      [0.5, 1.0)  \n14911364          False      [0.5, 1.0)  \n13024846          False      [0.5, 1.0)  ",
      "text/html": "<div>\n<style scoped>\n    .dataframe tbody tr th:only-of-type {\n        vertical-align: middle;\n    }\n\n    .dataframe tbody tr th {\n        vertical-align: top;\n    }\n\n    .dataframe thead th {\n        text-align: right;\n    }\n</style>\n<table border=\"1\" class=\"dataframe\">\n  <thead>\n    <tr style=\"text-align: right;\">\n      <th></th>\n      <th>userId</th>\n      <th>movieId</th>\n      <th>rating</th>\n      <th>timestamp</th>\n      <th>user_mean_rating</th>\n      <th>liked_by_user</th>\n      <th>rating_category</th>\n    </tr>\n  </thead>\n  <tbody>\n    <tr>\n      <th>11800835</th>\n      <td>128365</td>\n      <td>1037</td>\n      <td>0.5</td>\n      <td>2009-10-19 10:10:37</td>\n      <td>3.104895</td>\n      <td>False</td>\n      <td>[0.5, 1.0)</td>\n    </tr>\n    <tr>\n      <th>3192182</th>\n      <td>34770</td>\n      <td>27316</td>\n      <td>0.5</td>\n      <td>2006-06-10 09:14:33</td>\n      <td>1.329146</td>\n      <td>False</td>\n      <td>[0.5, 1.0)</td>\n    </tr>\n    <tr>\n      <th>10041143</th>\n      <td>108700</td>\n      <td>307</td>\n      <td>0.5</td>\n      <td>2010-05-12 21:26:12</td>\n      <td>3.729651</td>\n      <td>False</td>\n      <td>[0.5, 1.0)</td>\n    </tr>\n    <tr>\n      <th>14911364</th>\n      <td>162680</td>\n      <td>73929</td>\n      <td>0.5</td>\n      <td>2015-11-22 18:22:29</td>\n      <td>3.505618</td>\n      <td>False</td>\n      <td>[0.5, 1.0)</td>\n    </tr>\n    <tr>\n      <th>13024846</th>\n      <td>141941</td>\n      <td>4308</td>\n      <td>0.5</td>\n      <td>2006-06-10 05:21:47</td>\n      <td>2.987685</td>\n      <td>False</td>\n      <td>[0.5, 1.0)</td>\n    </tr>\n  </tbody>\n</table>\n</div>"
     },
     "execution_count": 5,
     "metadata": {},
     "output_type": "execute_result"
    }
   ],
   "source": [
    "df_ratings.head()"
   ],
   "metadata": {
    "collapsed": false,
    "ExecuteTime": {
     "end_time": "2024-05-11T19:00:00.483865Z",
     "start_time": "2024-05-11T19:00:00.422367Z"
    }
   },
   "id": "a14169c172a84c65",
   "execution_count": 5
  },
  {
   "cell_type": "code",
   "outputs": [
    {
     "data": {
      "text/plain": "   userId  movieId  rating   timestamp\n0  128365     1037     0.5  1255947037\n1   34770    27316     0.5  1149930873\n2  108700      307     0.5  1273699572\n3  162680    73929     0.5  1448216549\n4  141941     4308     0.5  1149916907",
      "text/html": "<div>\n<style scoped>\n    .dataframe tbody tr th:only-of-type {\n        vertical-align: middle;\n    }\n\n    .dataframe tbody tr th {\n        vertical-align: top;\n    }\n\n    .dataframe thead th {\n        text-align: right;\n    }\n</style>\n<table border=\"1\" class=\"dataframe\">\n  <thead>\n    <tr style=\"text-align: right;\">\n      <th></th>\n      <th>userId</th>\n      <th>movieId</th>\n      <th>rating</th>\n      <th>timestamp</th>\n    </tr>\n  </thead>\n  <tbody>\n    <tr>\n      <th>0</th>\n      <td>128365</td>\n      <td>1037</td>\n      <td>0.5</td>\n      <td>1255947037</td>\n    </tr>\n    <tr>\n      <th>1</th>\n      <td>34770</td>\n      <td>27316</td>\n      <td>0.5</td>\n      <td>1149930873</td>\n    </tr>\n    <tr>\n      <th>2</th>\n      <td>108700</td>\n      <td>307</td>\n      <td>0.5</td>\n      <td>1273699572</td>\n    </tr>\n    <tr>\n      <th>3</th>\n      <td>162680</td>\n      <td>73929</td>\n      <td>0.5</td>\n      <td>1448216549</td>\n    </tr>\n    <tr>\n      <th>4</th>\n      <td>141941</td>\n      <td>4308</td>\n      <td>0.5</td>\n      <td>1149916907</td>\n    </tr>\n  </tbody>\n</table>\n</div>"
     },
     "execution_count": 6,
     "metadata": {},
     "output_type": "execute_result"
    }
   ],
   "source": [
    "# Make sure that the timestamp is in seconds\n",
    "df_ratings['timestamp'] = df_ratings['timestamp'].astype('int64') // 10**9\n",
    "\n",
    "# Keep only relevant columns\n",
    "df_ratings = df_ratings[['userId', 'movieId', 'rating', 'timestamp']]\n",
    "\n",
    "# Make userId the index\n",
    "#df_ratings.set_index('userId', inplace=True)\n",
    "\n",
    "# Delete index\n",
    "df_ratings.reset_index(drop=True, inplace=True)\n",
    "\n",
    "df_ratings.head()"
   ],
   "metadata": {
    "collapsed": false,
    "ExecuteTime": {
     "end_time": "2024-05-11T19:00:00.506054Z",
     "start_time": "2024-05-11T19:00:00.484493Z"
    }
   },
   "id": "9a8cbe1c4f06946c",
   "execution_count": 6
  },
  {
   "cell_type": "markdown",
   "source": [
    "## Movies Preprocessing"
   ],
   "metadata": {
    "collapsed": false
   },
   "id": "45ccb439e09660f2"
  },
  {
   "cell_type": "code",
   "outputs": [
    {
     "data": {
      "text/plain": "   movieId  belongs_to_collection original_language  \\\n0        1                      1                en   \n1        2                      0                en   \n2        3                      1                en   \n3        4                      0                en   \n4        5                      1                en   \n\n                                            overview release_date  runtime  \\\n0  Led by Woody, Andy's toys live happily in his ...   1995-10-30     81.0   \n1  When siblings Judy and Peter discover an encha...   1995-12-15    104.0   \n2  A family wedding reignites the ancient feud be...   1995-12-22    101.0   \n3  Cheated on, mistreated and stepped on, the wom...   1995-12-22    127.0   \n4  Just when George Banks has recovered from his ...   1995-02-10    106.0   \n\n                         title  \\\n0                    Toy Story   \n1                      Jumanji   \n2             Grumpier Old Men   \n3            Waiting to Exhale   \n4  Father of the Bride Part II   \n\n                                              actors  \\\n0  [Tom Hanks, Tim Allen, Don Rickles, Jim Varney...   \n1  [Robin Williams, Jonathan Hyde, Kirsten Dunst,...   \n2  [Walter Matthau, Jack Lemmon, Ann-Margret, Sop...   \n3  [Whitney Houston, Angela Bassett, Loretta Devi...   \n4  [Steve Martin, Diane Keaton, Martin Short, Kim...   \n\n                                  keywords_extracted  \\\n0  [jealousy, toy, boy, friendship, friends, riva...   \n1  [board game, disappearance, based on children'...   \n2  [fishing, best friend, duringcreditsstinger, o...   \n3  [based on novel, interracial relationship, sin...   \n4  [baby, midlife crisis, confidence, aging, daug...   \n\n                genre_extracted  \\\n0   [Animation, Comedy, Family]   \n1  [Adventure, Fantasy, Family]   \n2             [Romance, Comedy]   \n3      [Comedy, Drama, Romance]   \n4                      [Comedy]   \n\n                        production_company_extracted  \\\n0                          [Pixar Animation Studios]   \n1  [TriStar Pictures, Teitler Film, Interscope Co...   \n2                     [Warner Bros., Lancaster Gate]   \n3           [Twentieth Century Fox Film Corporation]   \n4       [Sandollar Productions, Touchstone Pictures]   \n\n  production_country_extracted  \n0   [United States of America]  \n1   [United States of America]  \n2   [United States of America]  \n3   [United States of America]  \n4   [United States of America]  ",
      "text/html": "<div>\n<style scoped>\n    .dataframe tbody tr th:only-of-type {\n        vertical-align: middle;\n    }\n\n    .dataframe tbody tr th {\n        vertical-align: top;\n    }\n\n    .dataframe thead th {\n        text-align: right;\n    }\n</style>\n<table border=\"1\" class=\"dataframe\">\n  <thead>\n    <tr style=\"text-align: right;\">\n      <th></th>\n      <th>movieId</th>\n      <th>belongs_to_collection</th>\n      <th>original_language</th>\n      <th>overview</th>\n      <th>release_date</th>\n      <th>runtime</th>\n      <th>title</th>\n      <th>actors</th>\n      <th>keywords_extracted</th>\n      <th>genre_extracted</th>\n      <th>production_company_extracted</th>\n      <th>production_country_extracted</th>\n    </tr>\n  </thead>\n  <tbody>\n    <tr>\n      <th>0</th>\n      <td>1</td>\n      <td>1</td>\n      <td>en</td>\n      <td>Led by Woody, Andy's toys live happily in his ...</td>\n      <td>1995-10-30</td>\n      <td>81.0</td>\n      <td>Toy Story</td>\n      <td>[Tom Hanks, Tim Allen, Don Rickles, Jim Varney...</td>\n      <td>[jealousy, toy, boy, friendship, friends, riva...</td>\n      <td>[Animation, Comedy, Family]</td>\n      <td>[Pixar Animation Studios]</td>\n      <td>[United States of America]</td>\n    </tr>\n    <tr>\n      <th>1</th>\n      <td>2</td>\n      <td>0</td>\n      <td>en</td>\n      <td>When siblings Judy and Peter discover an encha...</td>\n      <td>1995-12-15</td>\n      <td>104.0</td>\n      <td>Jumanji</td>\n      <td>[Robin Williams, Jonathan Hyde, Kirsten Dunst,...</td>\n      <td>[board game, disappearance, based on children'...</td>\n      <td>[Adventure, Fantasy, Family]</td>\n      <td>[TriStar Pictures, Teitler Film, Interscope Co...</td>\n      <td>[United States of America]</td>\n    </tr>\n    <tr>\n      <th>2</th>\n      <td>3</td>\n      <td>1</td>\n      <td>en</td>\n      <td>A family wedding reignites the ancient feud be...</td>\n      <td>1995-12-22</td>\n      <td>101.0</td>\n      <td>Grumpier Old Men</td>\n      <td>[Walter Matthau, Jack Lemmon, Ann-Margret, Sop...</td>\n      <td>[fishing, best friend, duringcreditsstinger, o...</td>\n      <td>[Romance, Comedy]</td>\n      <td>[Warner Bros., Lancaster Gate]</td>\n      <td>[United States of America]</td>\n    </tr>\n    <tr>\n      <th>3</th>\n      <td>4</td>\n      <td>0</td>\n      <td>en</td>\n      <td>Cheated on, mistreated and stepped on, the wom...</td>\n      <td>1995-12-22</td>\n      <td>127.0</td>\n      <td>Waiting to Exhale</td>\n      <td>[Whitney Houston, Angela Bassett, Loretta Devi...</td>\n      <td>[based on novel, interracial relationship, sin...</td>\n      <td>[Comedy, Drama, Romance]</td>\n      <td>[Twentieth Century Fox Film Corporation]</td>\n      <td>[United States of America]</td>\n    </tr>\n    <tr>\n      <th>4</th>\n      <td>5</td>\n      <td>1</td>\n      <td>en</td>\n      <td>Just when George Banks has recovered from his ...</td>\n      <td>1995-02-10</td>\n      <td>106.0</td>\n      <td>Father of the Bride Part II</td>\n      <td>[Steve Martin, Diane Keaton, Martin Short, Kim...</td>\n      <td>[baby, midlife crisis, confidence, aging, daug...</td>\n      <td>[Comedy]</td>\n      <td>[Sandollar Productions, Touchstone Pictures]</td>\n      <td>[United States of America]</td>\n    </tr>\n  </tbody>\n</table>\n</div>"
     },
     "execution_count": 7,
     "metadata": {},
     "output_type": "execute_result"
    }
   ],
   "source": [
    "df_merged.head()"
   ],
   "metadata": {
    "collapsed": false,
    "ExecuteTime": {
     "end_time": "2024-05-11T19:00:00.513102Z",
     "start_time": "2024-05-11T19:00:00.506686Z"
    }
   },
   "id": "6a276cb794d354b5",
   "execution_count": 7
  },
  {
   "cell_type": "code",
   "outputs": [
    {
     "data": {
      "text/plain": "   movieId                        title               genre_extracted\n0        1                    Toy Story   [Animation, Comedy, Family]\n1        2                      Jumanji  [Adventure, Fantasy, Family]\n2        3             Grumpier Old Men             [Romance, Comedy]\n3        4            Waiting to Exhale      [Comedy, Drama, Romance]\n4        5  Father of the Bride Part II                      [Comedy]",
      "text/html": "<div>\n<style scoped>\n    .dataframe tbody tr th:only-of-type {\n        vertical-align: middle;\n    }\n\n    .dataframe tbody tr th {\n        vertical-align: top;\n    }\n\n    .dataframe thead th {\n        text-align: right;\n    }\n</style>\n<table border=\"1\" class=\"dataframe\">\n  <thead>\n    <tr style=\"text-align: right;\">\n      <th></th>\n      <th>movieId</th>\n      <th>title</th>\n      <th>genre_extracted</th>\n    </tr>\n  </thead>\n  <tbody>\n    <tr>\n      <th>0</th>\n      <td>1</td>\n      <td>Toy Story</td>\n      <td>[Animation, Comedy, Family]</td>\n    </tr>\n    <tr>\n      <th>1</th>\n      <td>2</td>\n      <td>Jumanji</td>\n      <td>[Adventure, Fantasy, Family]</td>\n    </tr>\n    <tr>\n      <th>2</th>\n      <td>3</td>\n      <td>Grumpier Old Men</td>\n      <td>[Romance, Comedy]</td>\n    </tr>\n    <tr>\n      <th>3</th>\n      <td>4</td>\n      <td>Waiting to Exhale</td>\n      <td>[Comedy, Drama, Romance]</td>\n    </tr>\n    <tr>\n      <th>4</th>\n      <td>5</td>\n      <td>Father of the Bride Part II</td>\n      <td>[Comedy]</td>\n    </tr>\n  </tbody>\n</table>\n</div>"
     },
     "execution_count": 8,
     "metadata": {},
     "output_type": "execute_result"
    }
   ],
   "source": [
    "# Keep only relevant columns\n",
    "df_movies = df_merged[['movieId', 'title', 'genre_extracted']]\n",
    "\n",
    "df_movies.head()"
   ],
   "metadata": {
    "collapsed": false,
    "ExecuteTime": {
     "end_time": "2024-05-11T19:00:02.248694Z",
     "start_time": "2024-05-11T19:00:02.234404Z"
    }
   },
   "id": "b39807af3f443d98",
   "execution_count": 8
  },
  {
   "cell_type": "code",
   "outputs": [
    {
     "name": "stderr",
     "output_type": "stream",
     "text": [
      "/var/folders/08/34vp8sgn1vj1l_v1dzyhrdk00000gn/T/ipykernel_62004/2266882199.py:7: SettingWithCopyWarning: \n",
      "A value is trying to be set on a copy of a slice from a DataFrame.\n",
      "Try using .loc[row_indexer,col_indexer] = value instead\n",
      "\n",
      "See the caveats in the documentation: https://pandas.pydata.org/pandas-docs/stable/user_guide/indexing.html#returning-a-view-versus-a-copy\n",
      "  df_movies['genres'] = df_movies['genre_extracted'].apply(transform_genre)\n",
      "/var/folders/08/34vp8sgn1vj1l_v1dzyhrdk00000gn/T/ipykernel_62004/2266882199.py:10: SettingWithCopyWarning: \n",
      "A value is trying to be set on a copy of a slice from a DataFrame\n",
      "\n",
      "See the caveats in the documentation: https://pandas.pydata.org/pandas-docs/stable/user_guide/indexing.html#returning-a-view-versus-a-copy\n",
      "  df_movies.drop('genre_extracted', axis=1, inplace=True)\n"
     ]
    },
    {
     "data": {
      "text/plain": "   movieId                        title                    genres\n0        1                    Toy Story   Animation|Comedy|Family\n1        2                      Jumanji  Adventure|Fantasy|Family\n2        3             Grumpier Old Men            Romance|Comedy\n3        4            Waiting to Exhale      Comedy|Drama|Romance\n4        5  Father of the Bride Part II                    Comedy",
      "text/html": "<div>\n<style scoped>\n    .dataframe tbody tr th:only-of-type {\n        vertical-align: middle;\n    }\n\n    .dataframe tbody tr th {\n        vertical-align: top;\n    }\n\n    .dataframe thead th {\n        text-align: right;\n    }\n</style>\n<table border=\"1\" class=\"dataframe\">\n  <thead>\n    <tr style=\"text-align: right;\">\n      <th></th>\n      <th>movieId</th>\n      <th>title</th>\n      <th>genres</th>\n    </tr>\n  </thead>\n  <tbody>\n    <tr>\n      <th>0</th>\n      <td>1</td>\n      <td>Toy Story</td>\n      <td>Animation|Comedy|Family</td>\n    </tr>\n    <tr>\n      <th>1</th>\n      <td>2</td>\n      <td>Jumanji</td>\n      <td>Adventure|Fantasy|Family</td>\n    </tr>\n    <tr>\n      <th>2</th>\n      <td>3</td>\n      <td>Grumpier Old Men</td>\n      <td>Romance|Comedy</td>\n    </tr>\n    <tr>\n      <th>3</th>\n      <td>4</td>\n      <td>Waiting to Exhale</td>\n      <td>Comedy|Drama|Romance</td>\n    </tr>\n    <tr>\n      <th>4</th>\n      <td>5</td>\n      <td>Father of the Bride Part II</td>\n      <td>Comedy</td>\n    </tr>\n  </tbody>\n</table>\n</div>"
     },
     "execution_count": 12,
     "metadata": {},
     "output_type": "execute_result"
    }
   ],
   "source": [
    "# Function to transform list of genres into a pipe-separated string\n",
    "def transform_genre(genres_list):\n",
    "    # Join list elements with a pipe\n",
    "    return '|'.join(genres_list)\n",
    "\n",
    "# Apply the transformation\n",
    "df_movies['genres'] = df_movies['genre_extracted'].apply(transform_genre)\n",
    "\n",
    "# drop the genre_extracted column\n",
    "df_movies.drop('genre_extracted', axis=1, inplace=True)\n",
    "\n",
    "# Display the transformed DataFrame\n",
    "df_movies.head()"
   ],
   "metadata": {
    "collapsed": false,
    "ExecuteTime": {
     "end_time": "2024-05-11T19:02:43.669988Z",
     "start_time": "2024-05-11T19:02:43.615557Z"
    }
   },
   "id": "8f0f387d40c881b0",
   "execution_count": 12
  },
  {
   "cell_type": "code",
   "outputs": [
    {
     "name": "stdout",
     "output_type": "stream",
     "text": [
      "Number of users: 55588, Number of Movies: 9494, Min rating: 0.5, Max rating: 5.0\n"
     ]
    }
   ],
   "source": [
    "user_ids = df_ratings[\"userId\"].unique().tolist()\n",
    "user2user_encoded = {x: i for i, x in enumerate(user_ids)}\n",
    "userencoded2user = {i: x for i, x in enumerate(user_ids)}\n",
    "movie_ids = df_ratings[\"movieId\"].unique().tolist()\n",
    "movie2movie_encoded = {x: i for i, x in enumerate(movie_ids)}\n",
    "movie_encoded2movie = {i: x for i, x in enumerate(movie_ids)}\n",
    "df_ratings[\"user\"] = df_ratings[\"userId\"].map(user2user_encoded)\n",
    "df_ratings[\"movie\"] = df_ratings[\"movieId\"].map(movie2movie_encoded)\n",
    "\n",
    "num_users = len(user2user_encoded)\n",
    "num_movies = len(movie_encoded2movie)\n",
    "df_ratings[\"rating\"] = df_ratings[\"rating\"].values.astype(np.float32)\n",
    "# min and max ratings will be used to normalize the ratings later\n",
    "min_rating = min(df_ratings[\"rating\"])\n",
    "max_rating = max(df_ratings[\"rating\"])\n",
    "\n",
    "print(\n",
    "    \"Number of users: {}, Number of Movies: {}, Min rating: {}, Max rating: {}\".format(\n",
    "        num_users, num_movies, min_rating, max_rating\n",
    "    )\n",
    ")"
   ],
   "metadata": {
    "collapsed": false,
    "ExecuteTime": {
     "end_time": "2024-05-11T19:02:47.600879Z",
     "start_time": "2024-05-11T19:02:47.552523Z"
    }
   },
   "id": "7975b5addd3c1f75",
   "execution_count": 13
  },
  {
   "cell_type": "markdown",
   "source": [
    "## Prepare data for training"
   ],
   "metadata": {
    "collapsed": false
   },
   "id": "757f6ba22f024411"
  },
  {
   "cell_type": "code",
   "outputs": [],
   "source": [
    "df = df_ratings.sample(frac=1, random_state=42)\n",
    "x = df[[\"user\", \"movie\"]].values\n",
    "# Normalize the targets between 0 and 1. Makes it easy to train.\n",
    "y = df[\"rating\"].apply(lambda x: (x - min_rating) / (max_rating - min_rating)).values\n",
    "# Assuming training on 90% of the data and validating on 10%.\n",
    "train_indices = int(0.9 * df.shape[0])\n",
    "x_train, x_val, y_train, y_val = (\n",
    "    x[:train_indices],\n",
    "    x[train_indices:],\n",
    "    y[:train_indices],\n",
    "    y[train_indices:],\n",
    ")"
   ],
   "metadata": {
    "collapsed": false,
    "ExecuteTime": {
     "end_time": "2024-05-11T19:02:49.589304Z",
     "start_time": "2024-05-11T19:02:49.559050Z"
    }
   },
   "id": "b632b49ed53b4175",
   "execution_count": 14
  },
  {
   "cell_type": "markdown",
   "source": [
    "## Create the model"
   ],
   "metadata": {
    "collapsed": false
   },
   "id": "f1d50627b1500da5"
  },
  {
   "cell_type": "code",
   "outputs": [],
   "source": [
    "EMBEDDING_SIZE = 50\n",
    "\n",
    "\n",
    "class RecommenderNet(keras.Model):\n",
    "    def __init__(self, num_users, num_movies, embedding_size, **kwargs):\n",
    "        super().__init__(**kwargs)\n",
    "        self.num_users = num_users\n",
    "        self.num_movies = num_movies\n",
    "        self.embedding_size = embedding_size\n",
    "        self.user_embedding = layers.Embedding(\n",
    "            num_users,\n",
    "            embedding_size,\n",
    "            embeddings_initializer=\"he_normal\",\n",
    "            embeddings_regularizer=keras.regularizers.l2(1e-6),\n",
    "        )\n",
    "        self.user_bias = layers.Embedding(num_users, 1)\n",
    "        self.movie_embedding = layers.Embedding(\n",
    "            num_movies,\n",
    "            embedding_size,\n",
    "            embeddings_initializer=\"he_normal\",\n",
    "            embeddings_regularizer=keras.regularizers.l2(1e-6),\n",
    "        )\n",
    "        self.movie_bias = layers.Embedding(num_movies, 1)\n",
    "\n",
    "    def call(self, inputs):\n",
    "        user_vector = self.user_embedding(inputs[:, 0])\n",
    "        user_bias = self.user_bias(inputs[:, 0])\n",
    "        movie_vector = self.movie_embedding(inputs[:, 1])\n",
    "        movie_bias = self.movie_bias(inputs[:, 1])\n",
    "        dot_user_movie = ops.tensordot(user_vector, movie_vector, 2)\n",
    "        # Add all the components (including bias)\n",
    "        x = dot_user_movie + user_bias + movie_bias\n",
    "        # The sigmoid activation forces the rating to between 0 and 1\n",
    "        return ops.nn.sigmoid(x)\n",
    "\n",
    "\n",
    "model = RecommenderNet(num_users, num_movies, EMBEDDING_SIZE)\n",
    "model.compile(\n",
    "    loss=keras.losses.BinaryCrossentropy(),\n",
    "    optimizer=keras.optimizers.Adam(learning_rate=0.001),\n",
    ")"
   ],
   "metadata": {
    "collapsed": false,
    "ExecuteTime": {
     "end_time": "2024-05-11T19:02:50.753725Z",
     "start_time": "2024-05-11T19:02:50.676112Z"
    }
   },
   "id": "5b29e681c592f718",
   "execution_count": 15
  },
  {
   "cell_type": "markdown",
   "source": [
    "## Train the model"
   ],
   "metadata": {
    "collapsed": false
   },
   "id": "71447d364b23d16c"
  },
  {
   "cell_type": "code",
   "outputs": [
    {
     "name": "stdout",
     "output_type": "stream",
     "text": [
      "Epoch 1/5\n",
      "\u001B[1m1407/1407\u001B[0m \u001B[32m━━━━━━━━━━━━━━━━━━━━\u001B[0m\u001B[37m\u001B[0m \u001B[1m16s\u001B[0m 11ms/step - loss: 0.6853 - val_loss: 0.6597\n",
      "Epoch 2/5\n",
      "\u001B[1m1407/1407\u001B[0m \u001B[32m━━━━━━━━━━━━━━━━━━━━\u001B[0m\u001B[37m\u001B[0m \u001B[1m15s\u001B[0m 10ms/step - loss: 0.6463 - val_loss: 0.6586\n",
      "Epoch 3/5\n",
      "\u001B[1m1407/1407\u001B[0m \u001B[32m━━━━━━━━━━━━━━━━━━━━\u001B[0m\u001B[37m\u001B[0m \u001B[1m14s\u001B[0m 10ms/step - loss: 0.6189 - val_loss: 0.6541\n",
      "Epoch 4/5\n",
      "\u001B[1m1407/1407\u001B[0m \u001B[32m━━━━━━━━━━━━━━━━━━━━\u001B[0m\u001B[37m\u001B[0m \u001B[1m14s\u001B[0m 10ms/step - loss: 0.6188 - val_loss: 0.6518\n",
      "Epoch 5/5\n",
      "\u001B[1m1407/1407\u001B[0m \u001B[32m━━━━━━━━━━━━━━━━━━━━\u001B[0m\u001B[37m\u001B[0m \u001B[1m14s\u001B[0m 10ms/step - loss: 0.6227 - val_loss: 0.6492\n"
     ]
    }
   ],
   "source": [
    "# Train the model\n",
    "history = model.fit(\n",
    "    x=x_train,\n",
    "    y=y_train,\n",
    "    batch_size=64,\n",
    "    epochs=5,\n",
    "    verbose=1,\n",
    "    validation_data=(x_val, y_val),\n",
    ")"
   ],
   "metadata": {
    "collapsed": false,
    "ExecuteTime": {
     "end_time": "2024-05-11T19:04:05.361358Z",
     "start_time": "2024-05-11T19:02:51.781357Z"
    }
   },
   "id": "3b372d8824193297",
   "execution_count": 16
  },
  {
   "cell_type": "code",
   "outputs": [
    {
     "data": {
      "text/plain": "<Figure size 640x480 with 1 Axes>",
      "image/png": "[encoded data removed]"
     },
     "metadata": {},
     "output_type": "display_data"
    }
   ],
   "source": [
    "# Plot the training and validation loss\n",
    "plt.plot(history.history[\"loss\"])\n",
    "plt.plot(history.history[\"val_loss\"])\n",
    "plt.title(\"model loss\")\n",
    "plt.ylabel(\"loss\")\n",
    "plt.xlabel(\"epoch\")\n",
    "plt.legend([\"train\", \"test\"], loc=\"upper left\")\n",
    "plt.show()"
   ],
   "metadata": {
    "collapsed": false,
    "ExecuteTime": {
     "end_time": "2024-05-11T19:04:21.933797Z",
     "start_time": "2024-05-11T19:04:21.673243Z"
    }
   },
   "id": "a530f3af3a0f1d9f",
   "execution_count": 17
  },
  {
   "cell_type": "markdown",
   "source": [
    "## Make movie recommendations"
   ],
   "metadata": {
    "collapsed": false
   },
   "id": "a9f9d6ef89a4e7e5"
  },
  {
   "cell_type": "code",
   "outputs": [
    {
     "name": "stdout",
     "output_type": "stream",
     "text": [
      "\u001B[1m289/289\u001B[0m \u001B[32m━━━━━━━━━━━━━━━━━━━━\u001B[0m\u001B[37m\u001B[0m \u001B[1m0s\u001B[0m 807us/step\n",
      "Showing recommendations for user: 160569\n",
      "====================================\n",
      "Movies with high ratings from user\n",
      "--------------------------------\n",
      "Highlander : Adventure|Action|Fantasy\n",
      "Being John Malkovich : Fantasy|Drama|Comedy\n",
      "Born American : Drama|Action\n",
      "Bridget Jones's Diary : Comedy|Romance|Drama\n",
      "Eastern Promises : Thriller|Crime|Mystery\n",
      "--------------------------------\n",
      "Top 10 movie recommendations\n",
      "--------------------------------\n",
      "The Usual Suspects : Drama|Crime|Thriller\n",
      "Pulp Fiction : Thriller|Crime\n",
      "The Shawshank Redemption : Drama|Crime\n",
      "Schindler's List : Drama|History|War\n",
      "The Silence of the Lambs : Crime|Drama|Thriller\n",
      "The Godfather : Drama|Crime\n",
      "The Princess Bride : Adventure|Family|Fantasy|Comedy|Romance\n",
      "Raiders of the Lost Ark : Adventure|Action\n",
      "GoodFellas : Drama|Crime\n",
      "The Godfather: Part II : Drama|Crime\n"
     ]
    }
   ],
   "source": [
    "# Let us get a user and see the top recommendations.\n",
    "user_id = df.userId.sample(1).iloc[0]\n",
    "movies_watched_by_user = df[df.userId == user_id]\n",
    "movies_not_watched = df_movies[\n",
    "    ~df_movies[\"movieId\"].isin(movies_watched_by_user.movieId.values)\n",
    "][\"movieId\"]\n",
    "movies_not_watched = list(\n",
    "    set(movies_not_watched).intersection(set(movie2movie_encoded.keys()))\n",
    ")\n",
    "movies_not_watched = [[movie2movie_encoded.get(x)] for x in movies_not_watched]\n",
    "user_encoder = user2user_encoded.get(user_id)\n",
    "user_movie_array = np.hstack(\n",
    "    ([[user_encoder]] * len(movies_not_watched), movies_not_watched)\n",
    ")\n",
    "ratings = model.predict(user_movie_array).flatten()\n",
    "top_ratings_indices = ratings.argsort()[-10:][::-1]\n",
    "recommended_movie_ids = [\n",
    "    movie_encoded2movie.get(movies_not_watched[x][0]) for x in top_ratings_indices\n",
    "]\n",
    "\n",
    "print(\"Showing recommendations for user: {}\".format(user_id))\n",
    "print(\"====\" * 9)\n",
    "print(\"Movies with high ratings from user\")\n",
    "print(\"----\" * 8)\n",
    "top_movies_user = (\n",
    "    movies_watched_by_user.sort_values(by=\"rating\", ascending=False)\n",
    "    .head(5)\n",
    "    .movieId.values\n",
    ")\n",
    "movie_df_rows = df_movies[df_movies[\"movieId\"].isin(top_movies_user)]\n",
    "for row in movie_df_rows.itertuples():\n",
    "    print(row.title, \":\", row.genres)\n",
    "\n",
    "print(\"----\" * 8)\n",
    "print(\"Top 10 movie recommendations\")\n",
    "print(\"----\" * 8)\n",
    "recommended_movies = df_movies[df_movies[\"movieId\"].isin(recommended_movie_ids)]\n",
    "for row in recommended_movies.itertuples():\n",
    "    print(row.title, \":\", row.genres)"
   ],
   "metadata": {
    "collapsed": false,
    "ExecuteTime": {
     "end_time": "2024-05-11T19:04:40.212228Z",
     "start_time": "2024-05-11T19:04:39.810695Z"
    }
   },
   "id": "da5c7f338d944b27",
   "execution_count": 18
  },
  {
   "cell_type": "code",
   "outputs": [],
   "source": [],
   "metadata": {
    "collapsed": false
   },
   "id": "138d70f464b36fcf"
  }
 ],
 "metadata": {
  "kernelspec": {
   "display_name": "Python 3",
   "language": "python",
   "name": "python3"
  },
  "language_info": {
   "codemirror_mode": {
    "name": "ipython",
    "version": 2
   },
   "file_extension": ".py",
   "mimetype": "text/x-python",
   "name": "python",
   "nbconvert_exporter": "python",
   "pygments_lexer": "ipython2",
   "version": "2.7.6"
  }
 },
 "nbformat": 4,
 "nbformat_minor": 5
}
