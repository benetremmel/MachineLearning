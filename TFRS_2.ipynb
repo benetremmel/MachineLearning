{
 "nbformat": 4,
 "nbformat_minor": 0,
 "metadata": {
  "colab": {
   "provenance": [],
   "toc_visible": true
  },
  "kernelspec": {
   "name": "python3",
   "language": "python",
   "display_name": "Python 3 (ipykernel)"
  },
  "language_info": {
   "name": "python"
  }
 },
 "cells": [
  {
   "cell_type": "markdown",
   "source": [
    "## Introduction"
   ],
   "metadata": {
    "id": "goQJe1d1i8ZU"
   }
  },
  {
   "cell_type": "markdown",
   "source": [
    "In this notebook we will use the Tensorflow Recommenders (TFRS) library to build a recommendation system. TFRS is a library for building deep learning recommendation systems. It helps with the full workflow of building a recommendation system: data preparation, model formulation, training, evaluation, and deployment. TFRS is built on top of TensorFlow 2 and Keras, and is designed to be scalable and easy to use."
   ],
   "metadata": {
    "collapsed": false
   }
  },
  {
   "cell_type": "markdown",
   "source": [
    "We are first focusing on a retrieval system, which is a model that predicts a set of movies from the catalogue that the user is likely to watch. We're going to treat the dataset as an implicit system. This means that we are not trying to predict the rating that a user will give to a movie. Instead, we are trying to rank movies by their relevance to the user. This is a common scenario in many recommendation systems, where we are trying to predict the items that a user is most likely to interact with.\n",
    "Treating Movielens as an implicit system means that we're interpreting users' actions (watching movies) as indicators of their preferences. Specifically:\n",
    "\n",
    "1. Every movie a user has watched is considered a positive example, indicating that they like or are interested in that movie.\n",
    "2. Every movie a user hasn't watched is treated as an implicit negative example, implying that they haven't shown interest in it or haven't been exposed to it yet.\n",
    "\n",
    "This approach helps us make predictions about which movies users might enjoy based on their past behavior without requiring explicit feedback or ratings for each movie."
   ],
   "metadata": {
    "collapsed": false
   }
  },
  {
   "cell_type": "markdown",
   "source": [
    "In a second step we will build a ranking model that predicts the top 10 movies that a user is likely to watch. This model will be trained on the same dataset as the retrieval model, but will be optimized for ranking accuracy rather than relevance."
   ],
   "metadata": {
    "collapsed": false
   }
  },
  {
   "cell_type": "markdown",
   "source": [
    "## Imports"
   ],
   "metadata": {
    "collapsed": false
   }
  },
  {
   "cell_type": "code",
   "execution_count": 1,
   "metadata": {
    "colab": {
     "base_uri": "https://localhost:8080/"
    },
    "id": "TSN-y-Lxi6QD",
    "outputId": "ff8cb40e-fdf6-4b1f-d391-747e4bcf26b1",
    "ExecuteTime": {
     "end_time": "2024-05-09T17:27:43.795768Z",
     "start_time": "2024-05-09T17:27:35.743716Z"
    }
   },
   "outputs": [
    {
     "name": "stdout",
     "output_type": "stream",
     "text": [
      "\u001B[31mERROR: Could not find a version that satisfies the requirement scann (from versions: none)\u001B[0m\u001B[31m\r\n",
      "\u001B[0m\u001B[31mERROR: No matching distribution found for scann\u001B[0m\u001B[31m\r\n",
      "\u001B[0m"
     ]
    }
   ],
   "source": [
    "!pip install -q tensorflow-recommenders\n",
    "!pip install -q --upgrade tensorflow-datasets\n",
    "!pip install -q scann"
   ]
  },
  {
   "cell_type": "code",
   "source": [
    "import os\n",
    "import pprint\n",
    "import tempfile\n",
    "import pandas as pd\n",
    "import matplotlib.pyplot as plt\n",
    "import datetime\n",
    "\n",
    "from typing import Dict, Text\n",
    "\n",
    "import numpy as np\n",
    "import tensorflow as tf\n",
    "import tensorflow_datasets as tfds\n",
    "import tensorflow_recommenders as tfrs"
   ],
   "metadata": {
    "id": "IWgpA23Mi_et",
    "ExecuteTime": {
     "end_time": "2024-05-09T17:27:48.610755Z",
     "start_time": "2024-05-09T17:27:43.797209Z"
    }
   },
   "execution_count": 2,
   "outputs": []
  },
  {
   "cell_type": "markdown",
   "source": [
    "## Preprocessing"
   ],
   "metadata": {
    "id": "tqd1icB9jewq"
   }
  },
  {
   "cell_type": "markdown",
   "source": [
    "### Stratified Sampling"
   ],
   "metadata": {
    "collapsed": false
   }
  },
  {
   "cell_type": "code",
   "outputs": [],
   "source": [
    "# transform pickle file to pandas dataframe\n",
    "ratings_df = pd.read_pickle('data/df_ratings_cleaned.pkl')\n",
    "movies_df = pd.read_pickle('data/df_movies_cleaned.pkl')"
   ],
   "metadata": {
    "collapsed": false,
    "ExecuteTime": {
     "end_time": "2024-05-09T17:27:49.744463Z",
     "start_time": "2024-05-09T17:27:48.611473Z"
    }
   },
   "execution_count": 3
  },
  {
   "cell_type": "code",
   "outputs": [
    {
     "data": {
      "text/plain": "   userId  movieId  rating           timestamp  user_mean_rating  \\\n0       1      110     1.0 2015-03-09 22:52:09          4.277778   \n1       1      147     4.5 2015-03-09 23:07:15          4.277778   \n2       1      858     5.0 2015-03-09 22:52:03          4.277778   \n3       1     1221     5.0 2015-03-09 22:52:26          4.277778   \n4       1     1246     5.0 2015-03-09 22:52:36          4.277778   \n\n   liked_by_user  \n0          False  \n1           True  \n2           True  \n3           True  \n4           True  ",
      "text/html": "<div>\n<style scoped>\n    .dataframe tbody tr th:only-of-type {\n        vertical-align: middle;\n    }\n\n    .dataframe tbody tr th {\n        vertical-align: top;\n    }\n\n    .dataframe thead th {\n        text-align: right;\n    }\n</style>\n<table border=\"1\" class=\"dataframe\">\n  <thead>\n    <tr style=\"text-align: right;\">\n      <th></th>\n      <th>userId</th>\n      <th>movieId</th>\n      <th>rating</th>\n      <th>timestamp</th>\n      <th>user_mean_rating</th>\n      <th>liked_by_user</th>\n    </tr>\n  </thead>\n  <tbody>\n    <tr>\n      <th>0</th>\n      <td>1</td>\n      <td>110</td>\n      <td>1.0</td>\n      <td>2015-03-09 22:52:09</td>\n      <td>4.277778</td>\n      <td>False</td>\n    </tr>\n    <tr>\n      <th>1</th>\n      <td>1</td>\n      <td>147</td>\n      <td>4.5</td>\n      <td>2015-03-09 23:07:15</td>\n      <td>4.277778</td>\n      <td>True</td>\n    </tr>\n    <tr>\n      <th>2</th>\n      <td>1</td>\n      <td>858</td>\n      <td>5.0</td>\n      <td>2015-03-09 22:52:03</td>\n      <td>4.277778</td>\n      <td>True</td>\n    </tr>\n    <tr>\n      <th>3</th>\n      <td>1</td>\n      <td>1221</td>\n      <td>5.0</td>\n      <td>2015-03-09 22:52:26</td>\n      <td>4.277778</td>\n      <td>True</td>\n    </tr>\n    <tr>\n      <th>4</th>\n      <td>1</td>\n      <td>1246</td>\n      <td>5.0</td>\n      <td>2015-03-09 22:52:36</td>\n      <td>4.277778</td>\n      <td>True</td>\n    </tr>\n  </tbody>\n</table>\n</div>"
     },
     "execution_count": 4,
     "metadata": {},
     "output_type": "execute_result"
    }
   ],
   "source": [
    "ratings_df.head()"
   ],
   "metadata": {
    "collapsed": false,
    "ExecuteTime": {
     "end_time": "2024-05-09T17:27:49.771380Z",
     "start_time": "2024-05-09T17:27:49.746511Z"
    }
   },
   "execution_count": 4
  },
  {
   "cell_type": "code",
   "outputs": [
    {
     "data": {
      "text/plain": "(24829828, 6)"
     },
     "execution_count": 5,
     "metadata": {},
     "output_type": "execute_result"
    }
   ],
   "source": [
    "# nr of entries in the dataset\n",
    "ratings_df.shape"
   ],
   "metadata": {
    "collapsed": false,
    "ExecuteTime": {
     "end_time": "2024-05-09T17:27:49.774737Z",
     "start_time": "2024-05-09T17:27:49.772168Z"
    }
   },
   "execution_count": 5
  },
  {
   "cell_type": "markdown",
   "source": [
    "We will use stratified sampling to downsample the ratings dataset to 100,000 entries. This will help us reduce the size of the dataset while maintaining the distribution of ratings. We will categorize the ratings into bins and sample an equal number of entries from each bin to ensure that the downsampled dataset is representative of the original dataset."
   ],
   "metadata": {
    "collapsed": false
   }
  },
  {
   "cell_type": "code",
   "outputs": [
    {
     "name": "stderr",
     "output_type": "stream",
     "text": [
      "/var/folders/08/34vp8sgn1vj1l_v1dzyhrdk00000gn/T/ipykernel_50777/1716066896.py:5: FutureWarning: The default of observed=False is deprecated and will be changed to True in a future version of pandas. Pass observed=False to retain current behavior or observed=True to adopt the future default and silence this warning.\n",
      "  strat_sampled_ratings_df = ratings_df.groupby('rating_category', group_keys=False).apply(\n"
     ]
    },
    {
     "name": "stdout",
     "output_type": "stream",
     "text": [
      "Original DF Shape: (24829828, 7)\n",
      "Sampled DF Shape: (100000, 7)\n"
     ]
    }
   ],
   "source": [
    "# We will use pandas' cut function to categorize these ratings\n",
    "ratings_df['rating_category'] = pd.cut(ratings_df['rating'], bins=np.arange(0.5, 6.0, 0.5), include_lowest=True, right=False)\n",
    "\n",
    "# Stratified sampling based on rating categories\n",
    "strat_sampled_ratings_df = ratings_df.groupby('rating_category', group_keys=False).apply(\n",
    "    lambda x: x.sample(int(np.rint(100000 * len(x) / len(ratings_df))), random_state=42)\n",
    ")\n",
    "\n",
    "print(f\"Original DF Shape: {ratings_df.shape}\")\n",
    "print(f\"Sampled DF Shape: {strat_sampled_ratings_df.shape}\")"
   ],
   "metadata": {
    "collapsed": false,
    "ExecuteTime": {
     "end_time": "2024-05-09T17:27:54.033394Z",
     "start_time": "2024-05-09T17:27:49.775309Z"
    }
   },
   "execution_count": 6
  },
  {
   "cell_type": "code",
   "outputs": [
    {
     "data": {
      "text/plain": "         Original   Sampled\ncount  24829828.0  100000.0\nmean      3.52898   3.52899\nstd      1.060177  1.060165\nmin           0.5       0.5\n25%           3.0       3.0\n50%           3.5       3.5\n75%           4.0       4.0\nmax           5.0       5.0",
      "text/html": "<div>\n<style scoped>\n    .dataframe tbody tr th:only-of-type {\n        vertical-align: middle;\n    }\n\n    .dataframe tbody tr th {\n        vertical-align: top;\n    }\n\n    .dataframe thead th {\n        text-align: right;\n    }\n</style>\n<table border=\"1\" class=\"dataframe\">\n  <thead>\n    <tr style=\"text-align: right;\">\n      <th></th>\n      <th>Original</th>\n      <th>Sampled</th>\n    </tr>\n  </thead>\n  <tbody>\n    <tr>\n      <th>count</th>\n      <td>24829828.0</td>\n      <td>100000.0</td>\n    </tr>\n    <tr>\n      <th>mean</th>\n      <td>3.52898</td>\n      <td>3.52899</td>\n    </tr>\n    <tr>\n      <th>std</th>\n      <td>1.060177</td>\n      <td>1.060165</td>\n    </tr>\n    <tr>\n      <th>min</th>\n      <td>0.5</td>\n      <td>0.5</td>\n    </tr>\n    <tr>\n      <th>25%</th>\n      <td>3.0</td>\n      <td>3.0</td>\n    </tr>\n    <tr>\n      <th>50%</th>\n      <td>3.5</td>\n      <td>3.5</td>\n    </tr>\n    <tr>\n      <th>75%</th>\n      <td>4.0</td>\n      <td>4.0</td>\n    </tr>\n    <tr>\n      <th>max</th>\n      <td>5.0</td>\n      <td>5.0</td>\n    </tr>\n  </tbody>\n</table>\n</div>"
     },
     "execution_count": 7,
     "metadata": {},
     "output_type": "execute_result"
    }
   ],
   "source": [
    "# Compare summary statistics of the original and downsampled datasets\n",
    "def summary_stats_comparison(original_df, downsampled_df, column):\n",
    "    \"\"\"Compare summary statistics of a column in the original and downsampled datasets.\"\"\"\n",
    "    original_stats = original_df[column].describe()\n",
    "    downsampled_stats = downsampled_df[column].describe()\n",
    "    \n",
    "    summary_stats = pd.concat([original_stats, downsampled_stats], axis=1)\n",
    "    summary_stats.columns = ['Original', 'Sampled']\n",
    "    \n",
    "    return summary_stats\n",
    "\n",
    "summary_stats_comparison(ratings_df, strat_sampled_ratings_df, 'rating')"
   ],
   "metadata": {
    "collapsed": false,
    "ExecuteTime": {
     "end_time": "2024-05-09T17:27:54.949838Z",
     "start_time": "2024-05-09T17:27:54.034818Z"
    }
   },
   "execution_count": 7
  },
  {
   "cell_type": "code",
   "outputs": [
    {
     "data": {
      "text/plain": "<Figure size 1400x700 with 1 Axes>",
      "image/png": "[encoded data removed]"
     },
     "metadata": {},
     "output_type": "display_data"
    }
   ],
   "source": [
    "# Define your bins\n",
    "bins = np.arange(0.5, 6.0, 0.5)\n",
    "\n",
    "# Calculate bin centers\n",
    "bin_centers = 0.5 * (bins[:-1] + bins[1:])\n",
    "\n",
    "# Define width of each bar\n",
    "bar_width = 0.2\n",
    "\n",
    "# Plot histograms\n",
    "plt.figure(figsize=(14, 7))\n",
    "plt.bar(bin_centers - bar_width/2, ratings_df['rating'].value_counts(normalize=True, sort=False, bins=bins), width=bar_width, alpha=0.7, label='Original', align='center')\n",
    "plt.bar(bin_centers + bar_width/2, strat_sampled_ratings_df['rating'].value_counts(normalize=True, sort=False, bins=bins), width=bar_width, alpha=0.7, label='Sampled', align='center')\n",
    "\n",
    "plt.title('Comparison of Rating Distributions')\n",
    "plt.xlabel('Rating')\n",
    "plt.ylabel('Proportion')\n",
    "plt.xticks(bin_centers, labels=[f\"{bin:.1f}\" for bin in bins[:-1]])  # Set x-tick labels to match bin centers\n",
    "plt.legend()\n",
    "plt.show()"
   ],
   "metadata": {
    "collapsed": false,
    "ExecuteTime": {
     "end_time": "2024-05-09T17:27:56.703245Z",
     "start_time": "2024-05-09T17:27:54.950611Z"
    }
   },
   "execution_count": 8
  },
  {
   "cell_type": "code",
   "outputs": [
    {
     "data": {
      "text/plain": "          userId  movieId  rating           timestamp  user_mean_rating  \\\n11800835  128365     1037     0.5 2009-10-19 10:10:37          3.104895   \n3192182    34770    27316     0.5 2006-06-10 09:14:33          1.329146   \n10041143  108700      307     0.5 2010-05-12 21:26:12          3.729651   \n14911364  162680    73929     0.5 2015-11-22 18:22:29          3.505618   \n13024846  141941     4308     0.5 2006-06-10 05:21:47          2.987685   \n...          ...      ...     ...                 ...               ...   \n2596165    28184     2912     5.0 2000-11-21 00:08:40          3.588011   \n2174721    23629     1185     5.0 1997-03-13 18:00:11          3.734463   \n23363519  254448    49272     5.0 2016-08-08 15:59:55          3.819149   \n19688576  214494      541     5.0 2005-04-05 14:26:59          3.395652   \n2412565    26230      474     5.0 1996-06-02 17:39:48          4.155963   \n\n          liked_by_user rating_category  \n11800835          False      [0.5, 1.0)  \n3192182           False      [0.5, 1.0)  \n10041143          False      [0.5, 1.0)  \n14911364          False      [0.5, 1.0)  \n13024846          False      [0.5, 1.0)  \n...                 ...             ...  \n2596165            True      [5.0, 5.5)  \n2174721            True      [5.0, 5.5)  \n23363519           True      [5.0, 5.5)  \n19688576           True      [5.0, 5.5)  \n2412565            True      [5.0, 5.5)  \n\n[100000 rows x 7 columns]",
      "text/html": "<div>\n<style scoped>\n    .dataframe tbody tr th:only-of-type {\n        vertical-align: middle;\n    }\n\n    .dataframe tbody tr th {\n        vertical-align: top;\n    }\n\n    .dataframe thead th {\n        text-align: right;\n    }\n</style>\n<table border=\"1\" class=\"dataframe\">\n  <thead>\n    <tr style=\"text-align: right;\">\n      <th></th>\n      <th>userId</th>\n      <th>movieId</th>\n      <th>rating</th>\n      <th>timestamp</th>\n      <th>user_mean_rating</th>\n      <th>liked_by_user</th>\n      <th>rating_category</th>\n    </tr>\n  </thead>\n  <tbody>\n    <tr>\n      <th>11800835</th>\n      <td>128365</td>\n      <td>1037</td>\n      <td>0.5</td>\n      <td>2009-10-19 10:10:37</td>\n      <td>3.104895</td>\n      <td>False</td>\n      <td>[0.5, 1.0)</td>\n    </tr>\n    <tr>\n      <th>3192182</th>\n      <td>34770</td>\n      <td>27316</td>\n      <td>0.5</td>\n      <td>2006-06-10 09:14:33</td>\n      <td>1.329146</td>\n      <td>False</td>\n      <td>[0.5, 1.0)</td>\n    </tr>\n    <tr>\n      <th>10041143</th>\n      <td>108700</td>\n      <td>307</td>\n      <td>0.5</td>\n      <td>2010-05-12 21:26:12</td>\n      <td>3.729651</td>\n      <td>False</td>\n      <td>[0.5, 1.0)</td>\n    </tr>\n    <tr>\n      <th>14911364</th>\n      <td>162680</td>\n      <td>73929</td>\n      <td>0.5</td>\n      <td>2015-11-22 18:22:29</td>\n      <td>3.505618</td>\n      <td>False</td>\n      <td>[0.5, 1.0)</td>\n    </tr>\n    <tr>\n      <th>13024846</th>\n      <td>141941</td>\n      <td>4308</td>\n      <td>0.5</td>\n      <td>2006-06-10 05:21:47</td>\n      <td>2.987685</td>\n      <td>False</td>\n      <td>[0.5, 1.0)</td>\n    </tr>\n    <tr>\n      <th>...</th>\n      <td>...</td>\n      <td>...</td>\n      <td>...</td>\n      <td>...</td>\n      <td>...</td>\n      <td>...</td>\n      <td>...</td>\n    </tr>\n    <tr>\n      <th>2596165</th>\n      <td>28184</td>\n      <td>2912</td>\n      <td>5.0</td>\n      <td>2000-11-21 00:08:40</td>\n      <td>3.588011</td>\n      <td>True</td>\n      <td>[5.0, 5.5)</td>\n    </tr>\n    <tr>\n      <th>2174721</th>\n      <td>23629</td>\n      <td>1185</td>\n      <td>5.0</td>\n      <td>1997-03-13 18:00:11</td>\n      <td>3.734463</td>\n      <td>True</td>\n      <td>[5.0, 5.5)</td>\n    </tr>\n    <tr>\n      <th>23363519</th>\n      <td>254448</td>\n      <td>49272</td>\n      <td>5.0</td>\n      <td>2016-08-08 15:59:55</td>\n      <td>3.819149</td>\n      <td>True</td>\n      <td>[5.0, 5.5)</td>\n    </tr>\n    <tr>\n      <th>19688576</th>\n      <td>214494</td>\n      <td>541</td>\n      <td>5.0</td>\n      <td>2005-04-05 14:26:59</td>\n      <td>3.395652</td>\n      <td>True</td>\n      <td>[5.0, 5.5)</td>\n    </tr>\n    <tr>\n      <th>2412565</th>\n      <td>26230</td>\n      <td>474</td>\n      <td>5.0</td>\n      <td>1996-06-02 17:39:48</td>\n      <td>4.155963</td>\n      <td>True</td>\n      <td>[5.0, 5.5)</td>\n    </tr>\n  </tbody>\n</table>\n<p>100000 rows × 7 columns</p>\n</div>"
     },
     "execution_count": 9,
     "metadata": {},
     "output_type": "execute_result"
    }
   ],
   "source": [
    "strat_sampled_ratings_df"
   ],
   "metadata": {
    "collapsed": false,
    "ExecuteTime": {
     "end_time": "2024-05-09T17:27:56.714027Z",
     "start_time": "2024-05-09T17:27:56.704880Z"
    }
   },
   "execution_count": 9
  },
  {
   "cell_type": "markdown",
   "source": [
    "Now we we want to add the movie title to the ratings dataset."
   ],
   "metadata": {
    "collapsed": false
   }
  },
  {
   "cell_type": "code",
   "outputs": [],
   "source": [
    "# Convert 'movieId' to string in both DataFrames\n",
    "strat_sampled_ratings_df['movieId'] = strat_sampled_ratings_df['movieId'].astype(str)\n",
    "movies_df['movieId'] = movies_df['movieId'].astype(str)"
   ],
   "metadata": {
    "collapsed": false,
    "ExecuteTime": {
     "end_time": "2024-05-09T17:27:56.767180Z",
     "start_time": "2024-05-09T17:27:56.716464Z"
    }
   },
   "execution_count": 10
  },
  {
   "cell_type": "code",
   "outputs": [
    {
     "data": {
      "text/plain": "   userId movieId  rating           timestamp  user_mean_rating  \\\n0  128365    1037     0.5 2009-10-19 10:10:37          3.104895   \n1   34770   27316     0.5 2006-06-10 09:14:33          1.329146   \n2  108700     307     0.5 2010-05-12 21:26:12          3.729651   \n3  162680   73929     0.5 2015-11-22 18:22:29          3.505618   \n4  141941    4308     0.5 2006-06-10 05:21:47          2.987685   \n\n   liked_by_user rating_category   id_x   imdbId  tmdbId  ...  release_date  \\\n0          False      [0.5, 1.0)  10163   104692   10163  ...    1992-03-05   \n1          False      [0.5, 1.0)  33253   235154   33253  ...    1999-11-19   \n2          False      [0.5, 1.0)    108   108394     108  ...    1993-01-10   \n3          False      [0.5, 1.0)  22894  1038686   22894  ...    2010-01-21   \n4          False      [0.5, 1.0)    824   203009     824  ...    2001-03-09   \n\n  runtime               title  vote_average vote_count  \\\n0   108.0   The Lawnmower Man           5.4      198.0   \n1   118.0           6ixtynin9           7.0       18.0   \n2    98.0  Three Colors: Blue           7.7      311.0   \n3   100.0              Legion           5.2      643.0   \n4   127.0       Moulin Rouge!           7.4     1348.0   \n\n                                              actors  \\\n0  [Jeff Fahey, Pierce Brosnan, Jenny Wright, Mar...   \n1  [Lalita Panyopas, Sirisin Siripornsmathikul, P...   \n2  [Juliette Binoche, Benoît Régent, Florence Per...   \n3  [Paul Bettany, Dennis Quaid, Kevin Durand, Kat...   \n4  [Nicole Kidman, Ewan McGregor, John Leguizamo,...   \n\n                                  keywords_extracted  \\\n0  [dream, chimp, manipulation, botanist, virtual...   \n1  [airport, drug dealer, buddhist, mistaken iden...   \n2  [paris, composer, pain, loss of husband, to co...   \n3  [angel, diner, religion, apocalypse, demon, de...   \n4  [duke, musical, writer's block, music, termina...   \n\n                       genre_extracted  \\\n0  [Horror, Thriller, Science Fiction]   \n1            [Comedy, Crime, Thriller]   \n2              [Drama, Music, Mystery]   \n3                             [Horror]   \n4              [Drama, Music, Romance]   \n\n                        production_company_extracted  \\\n0                   [New Line Cinema, Allied Vision]   \n1  [The Film Factory, Five Stars Production Company]   \n2                 [France 3 Cinéma, CED Productions]   \n3                                       [Bold Films]   \n4  [Bazmark Films, Twentieth Century Fox Film Cor...   \n\n                        production_country_extracted  \n0  [United Kingdom, Japan, United States of America]  \n1                                         [Thailand]  \n2                                   [France, Poland]  \n3                         [United States of America]  \n4              [Australia, United States of America]  \n\n[5 rows x 24 columns]",
      "text/html": "<div>\n<style scoped>\n    .dataframe tbody tr th:only-of-type {\n        vertical-align: middle;\n    }\n\n    .dataframe tbody tr th {\n        vertical-align: top;\n    }\n\n    .dataframe thead th {\n        text-align: right;\n    }\n</style>\n<table border=\"1\" class=\"dataframe\">\n  <thead>\n    <tr style=\"text-align: right;\">\n      <th></th>\n      <th>userId</th>\n      <th>movieId</th>\n      <th>rating</th>\n      <th>timestamp</th>\n      <th>user_mean_rating</th>\n      <th>liked_by_user</th>\n      <th>rating_category</th>\n      <th>id_x</th>\n      <th>imdbId</th>\n      <th>tmdbId</th>\n      <th>...</th>\n      <th>release_date</th>\n      <th>runtime</th>\n      <th>title</th>\n      <th>vote_average</th>\n      <th>vote_count</th>\n      <th>actors</th>\n      <th>keywords_extracted</th>\n      <th>genre_extracted</th>\n      <th>production_company_extracted</th>\n      <th>production_country_extracted</th>\n    </tr>\n  </thead>\n  <tbody>\n    <tr>\n      <th>0</th>\n      <td>128365</td>\n      <td>1037</td>\n      <td>0.5</td>\n      <td>2009-10-19 10:10:37</td>\n      <td>3.104895</td>\n      <td>False</td>\n      <td>[0.5, 1.0)</td>\n      <td>10163</td>\n      <td>104692</td>\n      <td>10163</td>\n      <td>...</td>\n      <td>1992-03-05</td>\n      <td>108.0</td>\n      <td>The Lawnmower Man</td>\n      <td>5.4</td>\n      <td>198.0</td>\n      <td>[Jeff Fahey, Pierce Brosnan, Jenny Wright, Mar...</td>\n      <td>[dream, chimp, manipulation, botanist, virtual...</td>\n      <td>[Horror, Thriller, Science Fiction]</td>\n      <td>[New Line Cinema, Allied Vision]</td>\n      <td>[United Kingdom, Japan, United States of America]</td>\n    </tr>\n    <tr>\n      <th>1</th>\n      <td>34770</td>\n      <td>27316</td>\n      <td>0.5</td>\n      <td>2006-06-10 09:14:33</td>\n      <td>1.329146</td>\n      <td>False</td>\n      <td>[0.5, 1.0)</td>\n      <td>33253</td>\n      <td>235154</td>\n      <td>33253</td>\n      <td>...</td>\n      <td>1999-11-19</td>\n      <td>118.0</td>\n      <td>6ixtynin9</td>\n      <td>7.0</td>\n      <td>18.0</td>\n      <td>[Lalita Panyopas, Sirisin Siripornsmathikul, P...</td>\n      <td>[airport, drug dealer, buddhist, mistaken iden...</td>\n      <td>[Comedy, Crime, Thriller]</td>\n      <td>[The Film Factory, Five Stars Production Company]</td>\n      <td>[Thailand]</td>\n    </tr>\n    <tr>\n      <th>2</th>\n      <td>108700</td>\n      <td>307</td>\n      <td>0.5</td>\n      <td>2010-05-12 21:26:12</td>\n      <td>3.729651</td>\n      <td>False</td>\n      <td>[0.5, 1.0)</td>\n      <td>108</td>\n      <td>108394</td>\n      <td>108</td>\n      <td>...</td>\n      <td>1993-01-10</td>\n      <td>98.0</td>\n      <td>Three Colors: Blue</td>\n      <td>7.7</td>\n      <td>311.0</td>\n      <td>[Juliette Binoche, Benoît Régent, Florence Per...</td>\n      <td>[paris, composer, pain, loss of husband, to co...</td>\n      <td>[Drama, Music, Mystery]</td>\n      <td>[France 3 Cinéma, CED Productions]</td>\n      <td>[France, Poland]</td>\n    </tr>\n    <tr>\n      <th>3</th>\n      <td>162680</td>\n      <td>73929</td>\n      <td>0.5</td>\n      <td>2015-11-22 18:22:29</td>\n      <td>3.505618</td>\n      <td>False</td>\n      <td>[0.5, 1.0)</td>\n      <td>22894</td>\n      <td>1038686</td>\n      <td>22894</td>\n      <td>...</td>\n      <td>2010-01-21</td>\n      <td>100.0</td>\n      <td>Legion</td>\n      <td>5.2</td>\n      <td>643.0</td>\n      <td>[Paul Bettany, Dennis Quaid, Kevin Durand, Kat...</td>\n      <td>[angel, diner, religion, apocalypse, demon, de...</td>\n      <td>[Horror]</td>\n      <td>[Bold Films]</td>\n      <td>[United States of America]</td>\n    </tr>\n    <tr>\n      <th>4</th>\n      <td>141941</td>\n      <td>4308</td>\n      <td>0.5</td>\n      <td>2006-06-10 05:21:47</td>\n      <td>2.987685</td>\n      <td>False</td>\n      <td>[0.5, 1.0)</td>\n      <td>824</td>\n      <td>203009</td>\n      <td>824</td>\n      <td>...</td>\n      <td>2001-03-09</td>\n      <td>127.0</td>\n      <td>Moulin Rouge!</td>\n      <td>7.4</td>\n      <td>1348.0</td>\n      <td>[Nicole Kidman, Ewan McGregor, John Leguizamo,...</td>\n      <td>[duke, musical, writer's block, music, termina...</td>\n      <td>[Drama, Music, Romance]</td>\n      <td>[Bazmark Films, Twentieth Century Fox Film Cor...</td>\n      <td>[Australia, United States of America]</td>\n    </tr>\n  </tbody>\n</table>\n<p>5 rows × 24 columns</p>\n</div>"
     },
     "execution_count": 11,
     "metadata": {},
     "output_type": "execute_result"
    }
   ],
   "source": [
    "# Joining the DataFrames on 'movieId'\n",
    "strat_sampled_ratings_df = pd.merge(strat_sampled_ratings_df, movies_df, on='movieId', how='left')\n",
    "strat_sampled_ratings_df.head()"
   ],
   "metadata": {
    "collapsed": false,
    "ExecuteTime": {
     "end_time": "2024-05-09T17:27:56.886680Z",
     "start_time": "2024-05-09T17:27:56.768303Z"
    }
   },
   "execution_count": 11
  },
  {
   "cell_type": "code",
   "outputs": [],
   "source": [
    "# Keep only the necessary columns\n",
    "strat_sampled_ratings_df = strat_sampled_ratings_df[['userId', 'movieId', 'rating', 'timestamp', 'title', 'genre_extracted', 'overview']]\n",
    "\n",
    "# Rename the 'title' column to 'movie_title'\n",
    "strat_sampled_ratings_df.rename(columns={'title': 'movie_title'}, inplace=True)"
   ],
   "metadata": {
    "collapsed": false,
    "ExecuteTime": {
     "end_time": "2024-05-09T17:28:36.512535Z",
     "start_time": "2024-05-09T17:28:36.361508Z"
    }
   },
   "execution_count": 12
  },
  {
   "cell_type": "code",
   "outputs": [
    {
     "data": {
      "text/plain": "        userId movieId  rating           timestamp  \\\n0       128365    1037     0.5 2009-10-19 10:10:37   \n1        34770   27316     0.5 2006-06-10 09:14:33   \n2       108700     307     0.5 2010-05-12 21:26:12   \n3       162680   73929     0.5 2015-11-22 18:22:29   \n4       141941    4308     0.5 2006-06-10 05:21:47   \n...        ...     ...     ...                 ...   \n99996    28184    2912     5.0 2000-11-21 00:08:40   \n99997    23629    1185     5.0 1997-03-13 18:00:11   \n99998   254448   49272     5.0 2016-08-08 15:59:55   \n99999   214494     541     5.0 2005-04-05 14:26:59   \n100000   26230     474     5.0 1996-06-02 17:39:48   \n\n                                     movie_title  \\\n0                              The Lawnmower Man   \n1                                      6ixtynin9   \n2                             Three Colors: Blue   \n3                                         Legion   \n4                                  Moulin Rouge!   \n...                                          ...   \n99996                                  The Limey   \n99997   My Left Foot: The Story of Christy Brown   \n99998                              Casino Royale   \n99999                               Blade Runner   \n100000                       In the Line of Fire   \n\n                                  genre_extracted  \\\n0             [Horror, Thriller, Science Fiction]   \n1                       [Comedy, Crime, Thriller]   \n2                         [Drama, Music, Mystery]   \n3                                        [Horror]   \n4                         [Drama, Music, Romance]   \n...                                           ...   \n99996   [Action, Crime, Drama, Mystery, Thriller]   \n99997                                     [Drama]   \n99998               [Adventure, Action, Thriller]   \n99999          [Science Fiction, Drama, Thriller]   \n100000  [Action, Drama, Thriller, Crime, Mystery]   \n\n                                                 overview  \n0       A simple man is turned into a genius through t...  \n1       A woman, fired from a financial coorporation d...  \n2       A woman struggles to find a way to live her li...  \n3       When God loses faith in humankind, he sends hi...  \n4       A celebration of love and creative inspiration...  \n...                                                   ...  \n99996   The Limey follows Wilson (Terence Stamp), a to...  \n99997   In this true story told through flashbacks, Ch...  \n99998   Le Chiffre, a banker to the world's terrorists...  \n99999   In the smog-choked dystopian Los Angeles of 20...  \n100000  Veteran Secret Service agent Frank Horrigan is...  \n\n[100001 rows x 7 columns]",
      "text/html": "<div>\n<style scoped>\n    .dataframe tbody tr th:only-of-type {\n        vertical-align: middle;\n    }\n\n    .dataframe tbody tr th {\n        vertical-align: top;\n    }\n\n    .dataframe thead th {\n        text-align: right;\n    }\n</style>\n<table border=\"1\" class=\"dataframe\">\n  <thead>\n    <tr style=\"text-align: right;\">\n      <th></th>\n      <th>userId</th>\n      <th>movieId</th>\n      <th>rating</th>\n      <th>timestamp</th>\n      <th>movie_title</th>\n      <th>genre_extracted</th>\n      <th>overview</th>\n    </tr>\n  </thead>\n  <tbody>\n    <tr>\n      <th>0</th>\n      <td>128365</td>\n      <td>1037</td>\n      <td>0.5</td>\n      <td>2009-10-19 10:10:37</td>\n      <td>The Lawnmower Man</td>\n      <td>[Horror, Thriller, Science Fiction]</td>\n      <td>A simple man is turned into a genius through t...</td>\n    </tr>\n    <tr>\n      <th>1</th>\n      <td>34770</td>\n      <td>27316</td>\n      <td>0.5</td>\n      <td>2006-06-10 09:14:33</td>\n      <td>6ixtynin9</td>\n      <td>[Comedy, Crime, Thriller]</td>\n      <td>A woman, fired from a financial coorporation d...</td>\n    </tr>\n    <tr>\n      <th>2</th>\n      <td>108700</td>\n      <td>307</td>\n      <td>0.5</td>\n      <td>2010-05-12 21:26:12</td>\n      <td>Three Colors: Blue</td>\n      <td>[Drama, Music, Mystery]</td>\n      <td>A woman struggles to find a way to live her li...</td>\n    </tr>\n    <tr>\n      <th>3</th>\n      <td>162680</td>\n      <td>73929</td>\n      <td>0.5</td>\n      <td>2015-11-22 18:22:29</td>\n      <td>Legion</td>\n      <td>[Horror]</td>\n      <td>When God loses faith in humankind, he sends hi...</td>\n    </tr>\n    <tr>\n      <th>4</th>\n      <td>141941</td>\n      <td>4308</td>\n      <td>0.5</td>\n      <td>2006-06-10 05:21:47</td>\n      <td>Moulin Rouge!</td>\n      <td>[Drama, Music, Romance]</td>\n      <td>A celebration of love and creative inspiration...</td>\n    </tr>\n    <tr>\n      <th>...</th>\n      <td>...</td>\n      <td>...</td>\n      <td>...</td>\n      <td>...</td>\n      <td>...</td>\n      <td>...</td>\n      <td>...</td>\n    </tr>\n    <tr>\n      <th>99996</th>\n      <td>28184</td>\n      <td>2912</td>\n      <td>5.0</td>\n      <td>2000-11-21 00:08:40</td>\n      <td>The Limey</td>\n      <td>[Action, Crime, Drama, Mystery, Thriller]</td>\n      <td>The Limey follows Wilson (Terence Stamp), a to...</td>\n    </tr>\n    <tr>\n      <th>99997</th>\n      <td>23629</td>\n      <td>1185</td>\n      <td>5.0</td>\n      <td>1997-03-13 18:00:11</td>\n      <td>My Left Foot: The Story of Christy Brown</td>\n      <td>[Drama]</td>\n      <td>In this true story told through flashbacks, Ch...</td>\n    </tr>\n    <tr>\n      <th>99998</th>\n      <td>254448</td>\n      <td>49272</td>\n      <td>5.0</td>\n      <td>2016-08-08 15:59:55</td>\n      <td>Casino Royale</td>\n      <td>[Adventure, Action, Thriller]</td>\n      <td>Le Chiffre, a banker to the world's terrorists...</td>\n    </tr>\n    <tr>\n      <th>99999</th>\n      <td>214494</td>\n      <td>541</td>\n      <td>5.0</td>\n      <td>2005-04-05 14:26:59</td>\n      <td>Blade Runner</td>\n      <td>[Science Fiction, Drama, Thriller]</td>\n      <td>In the smog-choked dystopian Los Angeles of 20...</td>\n    </tr>\n    <tr>\n      <th>100000</th>\n      <td>26230</td>\n      <td>474</td>\n      <td>5.0</td>\n      <td>1996-06-02 17:39:48</td>\n      <td>In the Line of Fire</td>\n      <td>[Action, Drama, Thriller, Crime, Mystery]</td>\n      <td>Veteran Secret Service agent Frank Horrigan is...</td>\n    </tr>\n  </tbody>\n</table>\n<p>100001 rows × 7 columns</p>\n</div>"
     },
     "execution_count": 13,
     "metadata": {},
     "output_type": "execute_result"
    }
   ],
   "source": [
    "strat_sampled_ratings_df"
   ],
   "metadata": {
    "collapsed": false,
    "ExecuteTime": {
     "end_time": "2024-05-09T17:28:53.237473Z",
     "start_time": "2024-05-09T17:28:53.186516Z"
    }
   },
   "execution_count": 13
  },
  {
   "cell_type": "code",
   "outputs": [],
   "source": [
    "# Drop missing values\n",
    "strat_sampled_ratings_df.dropna(inplace=True)"
   ],
   "metadata": {
    "collapsed": false,
    "ExecuteTime": {
     "end_time": "2024-05-09T17:29:08.376220Z",
     "start_time": "2024-05-09T17:29:08.318533Z"
    }
   },
   "execution_count": 14
  },
  {
   "cell_type": "code",
   "outputs": [],
   "source": [
    "# Save the downsampled dataset to a pickle file\n",
    "#strat_sampled_ratings_df.to_pickle('data/df_ratings_100k.pkl')"
   ],
   "metadata": {
    "collapsed": false
   },
   "execution_count": null
  },
  {
   "cell_type": "markdown",
   "source": [
    "### Adjust Datasets for TFRS Requirements"
   ],
   "metadata": {
    "collapsed": false
   }
  },
  {
   "cell_type": "markdown",
   "source": [
    "#### Ratings Dataset"
   ],
   "metadata": {
    "collapsed": false
   }
  },
  {
   "cell_type": "code",
   "outputs": [],
   "source": [
    "# Convert 'movieId' column in strat_sampled_ratings_df to 'Int64'\n",
    "strat_sampled_ratings_df['movieId'] = strat_sampled_ratings_df['movieId'].astype('Int64')\n",
    "\n",
    "# Convert 'movieId' and 'rating' column in ratings_df to 'object'\n",
    "strat_sampled_ratings_df['movieId'] = strat_sampled_ratings_df['movieId'].astype(str)\n",
    "strat_sampled_ratings_df['rating'] = strat_sampled_ratings_df['rating'].astype(str)\n"
   ],
   "metadata": {
    "collapsed": false,
    "ExecuteTime": {
     "end_time": "2024-05-09T17:30:12.599023Z",
     "start_time": "2024-05-09T17:30:12.520451Z"
    }
   },
   "execution_count": 17
  },
  {
   "cell_type": "code",
   "outputs": [],
   "source": [
    "# Merge ratings_df and movies_df\n",
    "ratings_df = strat_sampled_ratings_df"
   ],
   "metadata": {
    "collapsed": false,
    "ExecuteTime": {
     "end_time": "2024-05-09T17:30:46.707125Z",
     "start_time": "2024-05-09T17:30:46.674570Z"
    }
   },
   "execution_count": 19
  },
  {
   "cell_type": "code",
   "outputs": [
    {
     "data": {
      "text/plain": "   userId movieId rating           timestamp         movie_title  \\\n0  128365    1037    0.5 2009-10-19 10:10:37   The Lawnmower Man   \n1   34770   27316    0.5 2006-06-10 09:14:33           6ixtynin9   \n2  108700     307    0.5 2010-05-12 21:26:12  Three Colors: Blue   \n3  162680   73929    0.5 2015-11-22 18:22:29              Legion   \n4  141941    4308    0.5 2006-06-10 05:21:47       Moulin Rouge!   \n\n                       genre_extracted  \\\n0  [Horror, Thriller, Science Fiction]   \n1            [Comedy, Crime, Thriller]   \n2              [Drama, Music, Mystery]   \n3                             [Horror]   \n4              [Drama, Music, Romance]   \n\n                                            overview  \n0  A simple man is turned into a genius through t...  \n1  A woman, fired from a financial coorporation d...  \n2  A woman struggles to find a way to live her li...  \n3  When God loses faith in humankind, he sends hi...  \n4  A celebration of love and creative inspiration...  ",
      "text/html": "<div>\n<style scoped>\n    .dataframe tbody tr th:only-of-type {\n        vertical-align: middle;\n    }\n\n    .dataframe tbody tr th {\n        vertical-align: top;\n    }\n\n    .dataframe thead th {\n        text-align: right;\n    }\n</style>\n<table border=\"1\" class=\"dataframe\">\n  <thead>\n    <tr style=\"text-align: right;\">\n      <th></th>\n      <th>userId</th>\n      <th>movieId</th>\n      <th>rating</th>\n      <th>timestamp</th>\n      <th>movie_title</th>\n      <th>genre_extracted</th>\n      <th>overview</th>\n    </tr>\n  </thead>\n  <tbody>\n    <tr>\n      <th>0</th>\n      <td>128365</td>\n      <td>1037</td>\n      <td>0.5</td>\n      <td>2009-10-19 10:10:37</td>\n      <td>The Lawnmower Man</td>\n      <td>[Horror, Thriller, Science Fiction]</td>\n      <td>A simple man is turned into a genius through t...</td>\n    </tr>\n    <tr>\n      <th>1</th>\n      <td>34770</td>\n      <td>27316</td>\n      <td>0.5</td>\n      <td>2006-06-10 09:14:33</td>\n      <td>6ixtynin9</td>\n      <td>[Comedy, Crime, Thriller]</td>\n      <td>A woman, fired from a financial coorporation d...</td>\n    </tr>\n    <tr>\n      <th>2</th>\n      <td>108700</td>\n      <td>307</td>\n      <td>0.5</td>\n      <td>2010-05-12 21:26:12</td>\n      <td>Three Colors: Blue</td>\n      <td>[Drama, Music, Mystery]</td>\n      <td>A woman struggles to find a way to live her li...</td>\n    </tr>\n    <tr>\n      <th>3</th>\n      <td>162680</td>\n      <td>73929</td>\n      <td>0.5</td>\n      <td>2015-11-22 18:22:29</td>\n      <td>Legion</td>\n      <td>[Horror]</td>\n      <td>When God loses faith in humankind, he sends hi...</td>\n    </tr>\n    <tr>\n      <th>4</th>\n      <td>141941</td>\n      <td>4308</td>\n      <td>0.5</td>\n      <td>2006-06-10 05:21:47</td>\n      <td>Moulin Rouge!</td>\n      <td>[Drama, Music, Romance]</td>\n      <td>A celebration of love and creative inspiration...</td>\n    </tr>\n  </tbody>\n</table>\n</div>"
     },
     "execution_count": 20,
     "metadata": {},
     "output_type": "execute_result"
    }
   ],
   "source": [
    "ratings_df.head()"
   ],
   "metadata": {
    "collapsed": false,
    "ExecuteTime": {
     "end_time": "2024-05-09T17:30:51.017242Z",
     "start_time": "2024-05-09T17:30:50.990218Z"
    }
   },
   "execution_count": 20
  },
  {
   "cell_type": "code",
   "outputs": [
    {
     "data": {
      "text/plain": "  movieId                  movie_title\n0       1                    Toy Story\n1       2                      Jumanji\n2       3             Grumpier Old Men\n3       4            Waiting to Exhale\n4       5  Father of the Bride Part II",
      "text/html": "<div>\n<style scoped>\n    .dataframe tbody tr th:only-of-type {\n        vertical-align: middle;\n    }\n\n    .dataframe tbody tr th {\n        vertical-align: top;\n    }\n\n    .dataframe thead th {\n        text-align: right;\n    }\n</style>\n<table border=\"1\" class=\"dataframe\">\n  <thead>\n    <tr style=\"text-align: right;\">\n      <th></th>\n      <th>movieId</th>\n      <th>movie_title</th>\n    </tr>\n  </thead>\n  <tbody>\n    <tr>\n      <th>0</th>\n      <td>1</td>\n      <td>Toy Story</td>\n    </tr>\n    <tr>\n      <th>1</th>\n      <td>2</td>\n      <td>Jumanji</td>\n    </tr>\n    <tr>\n      <th>2</th>\n      <td>3</td>\n      <td>Grumpier Old Men</td>\n    </tr>\n    <tr>\n      <th>3</th>\n      <td>4</td>\n      <td>Waiting to Exhale</td>\n    </tr>\n    <tr>\n      <th>4</th>\n      <td>5</td>\n      <td>Father of the Bride Part II</td>\n    </tr>\n  </tbody>\n</table>\n</div>"
     },
     "execution_count": 21,
     "metadata": {},
     "output_type": "execute_result"
    }
   ],
   "source": [
    "movies_df = movies_df[['movieId', 'title']]\n",
    "movies_df.rename(columns={'title':'movie_title'}, inplace=True)\n",
    "movies_df.head()"
   ],
   "metadata": {
    "collapsed": false,
    "ExecuteTime": {
     "end_time": "2024-05-09T17:36:43.820251Z",
     "start_time": "2024-05-09T17:36:43.685118Z"
    }
   },
   "execution_count": 21
  },
  {
   "cell_type": "code",
   "outputs": [],
   "source": [
    "import tensorflow as tf\n",
    "\n",
    "# Convert 'rating' column in ratings_df to 'float'\n",
    "ratings_df['rating'] = ratings_df['rating'].astype(float)\n",
    "\n",
    "# Convert 'userId' column in ratings_df to 'str'\n",
    "ratings_df['userId'] = ratings_df['userId'].astype(str)\n",
    "\n",
    "# Create TensorFlow Datasets from ratings_df and movies_df\n",
    "ratings = tf.data.Dataset.from_tensor_slices(dict(ratings_df[['userId', 'movie_title', 'rating']]))\n",
    "movies = tf.data.Dataset.from_tensor_slices(dict(movies_df[['movie_title']]))\n",
    "\n",
    "# Map ratings Dataset\n",
    "ratings = ratings.map(lambda x: {\n",
    "    \"movie_title\": x[\"movie_title\"],\n",
    "    \"userId\": x[\"userId\"],\n",
    "    \"rating\": float(x[\"rating\"])\n",
    "})\n",
    "\n",
    "movies = movies.map(lambda x: x[\"movie_title\"])"
   ],
   "metadata": {
    "collapsed": false,
    "ExecuteTime": {
     "end_time": "2024-05-09T17:37:53.868597Z",
     "start_time": "2024-05-09T17:37:53.224367Z"
    }
   },
   "execution_count": 22
  },
  {
   "cell_type": "code",
   "outputs": [
    {
     "name": "stdout",
     "output_type": "stream",
     "text": [
      "b'Toy Story'\n",
      "b'Jumanji'\n",
      "b'Grumpier Old Men'\n",
      "b'Waiting to Exhale'\n",
      "b'Father of the Bride Part II'\n"
     ]
    },
    {
     "name": "stderr",
     "output_type": "stream",
     "text": [
      "2024-05-09 18:37:55.630664: W tensorflow/core/framework/local_rendezvous.cc:404] Local rendezvous is aborting with status: OUT_OF_RANGE: End of sequence\n"
     ]
    }
   ],
   "source": [
    "# display the first few entries of the movies dataset\n",
    "for x in movies.take(5).as_numpy_iterator():\n",
    "    print(x)"
   ],
   "metadata": {
    "collapsed": false,
    "ExecuteTime": {
     "end_time": "2024-05-09T17:37:55.638338Z",
     "start_time": "2024-05-09T17:37:55.416540Z"
    }
   },
   "execution_count": 23
  },
  {
   "cell_type": "code",
   "outputs": [
    {
     "name": "stdout",
     "output_type": "stream",
     "text": [
      "{'movie_title': b'The Lawnmower Man', 'userId': b'128365', 'rating': 0.5}\n",
      "{'movie_title': b'6ixtynin9', 'userId': b'34770', 'rating': 0.5}\n",
      "{'movie_title': b'Three Colors: Blue', 'userId': b'108700', 'rating': 0.5}\n",
      "{'movie_title': b'Legion', 'userId': b'162680', 'rating': 0.5}\n",
      "{'movie_title': b'Moulin Rouge!', 'userId': b'141941', 'rating': 0.5}\n"
     ]
    },
    {
     "name": "stderr",
     "output_type": "stream",
     "text": [
      "2024-05-09 18:37:57.187694: W tensorflow/core/framework/local_rendezvous.cc:404] Local rendezvous is aborting with status: OUT_OF_RANGE: End of sequence\n"
     ]
    }
   ],
   "source": [
    "# display the first few entries of the ratings dataset\n",
    "for x in ratings.take(5).as_numpy_iterator():\n",
    "    print(x)"
   ],
   "metadata": {
    "collapsed": false,
    "ExecuteTime": {
     "end_time": "2024-05-09T17:37:57.191005Z",
     "start_time": "2024-05-09T17:37:57.132403Z"
    }
   },
   "execution_count": 24
  },
  {
   "cell_type": "code",
   "outputs": [
    {
     "name": "stdout",
     "output_type": "stream",
     "text": [
      "Total Data: 99220\n"
     ]
    }
   ],
   "source": [
    "print('Total Data: {}'.format(len(ratings)))\n",
    "\n",
    "tf.random.set_seed(42)\n",
    "shuffled = ratings.shuffle(100_000, seed=42, reshuffle_each_iteration=False)\n",
    "\n",
    "train = ratings.take(35_000)\n",
    "test = ratings.skip(35_000).take(8_188)"
   ],
   "metadata": {
    "collapsed": false,
    "ExecuteTime": {
     "end_time": "2024-05-09T17:46:19.999206Z",
     "start_time": "2024-05-09T17:46:19.937888Z"
    }
   },
   "execution_count": 43
  },
  {
   "cell_type": "code",
   "outputs": [
    {
     "name": "stderr",
     "output_type": "stream",
     "text": [
      "2024-05-09 18:46:20.709985: W tensorflow/core/framework/local_rendezvous.cc:404] Local rendezvous is aborting with status: OUT_OF_RANGE: End of sequence\n"
     ]
    },
    {
     "name": "stdout",
     "output_type": "stream",
     "text": [
      "Unique Movies: 36265\n",
      "Unique users: 55373\n"
     ]
    },
    {
     "name": "stderr",
     "output_type": "stream",
     "text": [
      "2024-05-09 18:46:22.042510: W tensorflow/core/framework/local_rendezvous.cc:404] Local rendezvous is aborting with status: OUT_OF_RANGE: End of sequence\n"
     ]
    }
   ],
   "source": [
    "movie_titles = movies.batch(1_000)\n",
    "user_ids = ratings.batch(1_000).map(lambda x: x[\"userId\"])\n",
    "\n",
    "unique_movie_titles = np.unique(np.concatenate(list(movie_titles)))\n",
    "unique_user_ids = np.unique(np.concatenate(list(user_ids)))\n",
    "\n",
    "print('Unique Movies: {}'.format(len(unique_movie_titles)))\n",
    "print('Unique users: {}'.format(len(unique_user_ids)))"
   ],
   "metadata": {
    "collapsed": false,
    "ExecuteTime": {
     "end_time": "2024-05-09T17:46:22.108995Z",
     "start_time": "2024-05-09T17:46:20.633047Z"
    }
   },
   "execution_count": 44
  },
  {
   "cell_type": "code",
   "outputs": [
    {
     "name": "stdout",
     "output_type": "stream",
     "text": [
      "Epoch 1/5\n"
     ]
    },
    {
     "ename": "ValueError",
     "evalue": "None values not supported.",
     "output_type": "error",
     "traceback": [
      "\u001B[0;31m---------------------------------------------------------------------------\u001B[0m",
      "\u001B[0;31mValueError\u001B[0m                                Traceback (most recent call last)",
      "Cell \u001B[0;32mIn[49], line 28\u001B[0m\n\u001B[1;32m     24\u001B[0m model\u001B[38;5;241m.\u001B[39mcompile(optimizer\u001B[38;5;241m=\u001B[39mtf\u001B[38;5;241m.\u001B[39mkeras\u001B[38;5;241m.\u001B[39moptimizers\u001B[38;5;241m.\u001B[39mAdagrad(\u001B[38;5;241m0.1\u001B[39m), loss\u001B[38;5;241m=\u001B[39mtf\u001B[38;5;241m.\u001B[39mkeras\u001B[38;5;241m.\u001B[39mlosses\u001B[38;5;241m.\u001B[39mMeanSquaredError())\n\u001B[1;32m     26\u001B[0m \u001B[38;5;66;03m# Ensure the training data is in the correct format:\u001B[39;00m\n\u001B[1;32m     27\u001B[0m \u001B[38;5;66;03m# Assuming 'train' is a tf.data.Dataset and it yields a dictionary with keys 'userId', 'movie_title', and 'rating'\u001B[39;00m\n\u001B[0;32m---> 28\u001B[0m model\u001B[38;5;241m.\u001B[39mfit(train\u001B[38;5;241m.\u001B[39mbatch(\u001B[38;5;241m512\u001B[39m), epochs\u001B[38;5;241m=\u001B[39m\u001B[38;5;241m5\u001B[39m)\n",
      "File \u001B[0;32m~/anaconda3/lib/python3.11/site-packages/keras/src/utils/traceback_utils.py:122\u001B[0m, in \u001B[0;36mfilter_traceback.<locals>.error_handler\u001B[0;34m(*args, **kwargs)\u001B[0m\n\u001B[1;32m    119\u001B[0m     filtered_tb \u001B[38;5;241m=\u001B[39m _process_traceback_frames(e\u001B[38;5;241m.\u001B[39m__traceback__)\n\u001B[1;32m    120\u001B[0m     \u001B[38;5;66;03m# To get the full stack trace, call:\u001B[39;00m\n\u001B[1;32m    121\u001B[0m     \u001B[38;5;66;03m# `keras.config.disable_traceback_filtering()`\u001B[39;00m\n\u001B[0;32m--> 122\u001B[0m     \u001B[38;5;28;01mraise\u001B[39;00m e\u001B[38;5;241m.\u001B[39mwith_traceback(filtered_tb) \u001B[38;5;28;01mfrom\u001B[39;00m \u001B[38;5;28;01mNone\u001B[39;00m\n\u001B[1;32m    123\u001B[0m \u001B[38;5;28;01mfinally\u001B[39;00m:\n\u001B[1;32m    124\u001B[0m     \u001B[38;5;28;01mdel\u001B[39;00m filtered_tb\n",
      "File \u001B[0;32m~/anaconda3/lib/python3.11/site-packages/optree/ops.py:594\u001B[0m, in \u001B[0;36mtree_map\u001B[0;34m(func, tree, is_leaf, none_is_leaf, namespace, *rests)\u001B[0m\n\u001B[1;32m    592\u001B[0m leaves, treespec \u001B[38;5;241m=\u001B[39m _C\u001B[38;5;241m.\u001B[39mflatten(tree, is_leaf, none_is_leaf, namespace)\n\u001B[1;32m    593\u001B[0m flat_args \u001B[38;5;241m=\u001B[39m [leaves] \u001B[38;5;241m+\u001B[39m [treespec\u001B[38;5;241m.\u001B[39mflatten_up_to(r) \u001B[38;5;28;01mfor\u001B[39;00m r \u001B[38;5;129;01min\u001B[39;00m rests]\n\u001B[0;32m--> 594\u001B[0m \u001B[38;5;28;01mreturn\u001B[39;00m treespec\u001B[38;5;241m.\u001B[39munflatten(\u001B[38;5;28mmap\u001B[39m(func, \u001B[38;5;241m*\u001B[39mflat_args))\n",
      "\u001B[0;31mValueError\u001B[0m: None values not supported."
     ]
    }
   ],
   "source": [
    "class MovieModel(tf.keras.Model):\n",
    "    def __init__(self):\n",
    "        super(MovieModel, self).__init__()\n",
    "        self.user_model = user_model\n",
    "        self.movie_model = movie_model\n",
    "        self.rating = tf.keras.Sequential([\n",
    "            tf.keras.layers.Dense(256, activation='relu'),\n",
    "            tf.keras.layers.Dense(128, activation='relu'),\n",
    "            tf.keras.layers.Dense(1)\n",
    "        ])\n",
    "\n",
    "    def call(self, inputs):\n",
    "        # Access inputs by keys instead of unpacking\n",
    "        user_id = inputs['userId']\n",
    "        movie_title = inputs['movie_title']\n",
    "\n",
    "        user_embedding = self.user_model(user_id)\n",
    "        movie_embedding = self.movie_model(movie_title)\n",
    "\n",
    "        return self.rating(tf.concat([user_embedding, movie_embedding], axis=1))\n",
    "\n",
    "# Adjust model compilation and training:\n",
    "model = MovieModel()\n",
    "model.compile(optimizer=tf.keras.optimizers.Adagrad(0.1), loss=tf.keras.losses.MeanSquaredError())\n",
    "\n",
    "# Ensure the training data is in the correct format:\n",
    "# Assuming 'train' is a tf.data.Dataset and it yields a dictionary with keys 'userId', 'movie_title', and 'rating'\n",
    "model.fit(train.batch(512), epochs=5)\n"
   ],
   "metadata": {
    "collapsed": false,
    "ExecuteTime": {
     "end_time": "2024-05-09T17:52:32.524268Z",
     "start_time": "2024-05-09T17:52:31.960198Z"
    }
   },
   "execution_count": 49
  },
  {
   "cell_type": "code",
   "outputs": [
    {
     "ename": "NameError",
     "evalue": "name 'features' is not defined",
     "output_type": "error",
     "traceback": [
      "\u001B[0;31m---------------------------------------------------------------------------\u001B[0m",
      "\u001B[0;31mNameError\u001B[0m                                 Traceback (most recent call last)",
      "Cell \u001B[0;32mIn[48], line 2\u001B[0m\n\u001B[1;32m      1\u001B[0m \u001B[38;5;66;03m# Example to create training data:\u001B[39;00m\n\u001B[0;32m----> 2\u001B[0m train \u001B[38;5;241m=\u001B[39m tf\u001B[38;5;241m.\u001B[39mdata\u001B[38;5;241m.\u001B[39mDataset\u001B[38;5;241m.\u001B[39mfrom_tensor_slices(features)\u001B[38;5;241m.\u001B[39mbatch(\u001B[38;5;241m512\u001B[39m)\n\u001B[1;32m      4\u001B[0m \u001B[38;5;66;03m# Print a batch to check format:\u001B[39;00m\n\u001B[1;32m      5\u001B[0m \u001B[38;5;28;01mfor\u001B[39;00m batch \u001B[38;5;129;01min\u001B[39;00m train\u001B[38;5;241m.\u001B[39mtake(\u001B[38;5;241m1\u001B[39m):\n",
      "\u001B[0;31mNameError\u001B[0m: name 'features' is not defined"
     ]
    }
   ],
   "source": [
    "# Example to create training data:\n",
    "train = tf.data.Dataset.from_tensor_slices(features).batch(512)\n",
    "\n",
    "# Print a batch to check format:\n",
    "for batch in train.take(1):\n",
    "    print(batch)"
   ],
   "metadata": {
    "collapsed": false,
    "ExecuteTime": {
     "end_time": "2024-05-09T17:50:35.558197Z",
     "start_time": "2024-05-09T17:50:35.345628Z"
    }
   },
   "execution_count": 48
  },
  {
   "cell_type": "code",
   "outputs": [
    {
     "name": "stdout",
     "output_type": "stream",
     "text": [
      "Epoch 1/5\n"
     ]
    },
    {
     "name": "stderr",
     "output_type": "stream",
     "text": [
      "/Users/maltehaupt/anaconda3/lib/python3.11/site-packages/keras/src/layers/layer.py:1295: UserWarning: Layer 'movie_model_4' looks like it has unbuilt state, but Keras is not able to trace the layer `call()` in order to build it automatically. Possible causes:\n",
      "1. The `call()` method of your layer may be crashing. Try to `__call__()` the layer eagerly on some test input first to see if it works. E.g. `x = np.random.random((3, 4)); y = layer(x)`\n",
      "2. If the `call()` method is correct, then you may need to implement the `def build(self, input_shape)` method on your layer. It should create all variables used by the layer (e.g. by calling `layer.build()` on all its children layers).\n",
      "Exception encountered: ''too many values to unpack (expected 2)''\n",
      "  warnings.warn(\n",
      "/Users/maltehaupt/anaconda3/lib/python3.11/site-packages/keras/src/layers/layer.py:361: UserWarning: `build()` was called on layer 'movie_model_4', however the layer does not have a `build()` method implemented and it looks like it has unbuilt state. This will cause the layer to be marked as built, despite not being actually built, which may cause failures down the line. Make sure to implement a proper `build()` method.\n",
      "  warnings.warn(\n"
     ]
    },
    {
     "ename": "ValueError",
     "evalue": "Exception encountered when calling MovieModel.call().\n\n\u001B[1mtoo many values to unpack (expected 2)\u001B[0m\n\nArguments received by MovieModel.call():\n  • inputs={'movie_title': 'tf.Tensor(shape=(None,), dtype=string)', 'userId': 'tf.Tensor(shape=(None,), dtype=string)', 'rating': 'tf.Tensor(shape=(None,), dtype=float32)'}",
     "output_type": "error",
     "traceback": [
      "\u001B[0;31m---------------------------------------------------------------------------\u001B[0m",
      "\u001B[0;31mValueError\u001B[0m                                Traceback (most recent call last)",
      "Cell \u001B[0;32mIn[47], line 2\u001B[0m\n\u001B[1;32m      1\u001B[0m \u001B[38;5;66;03m# Train the model\u001B[39;00m\n\u001B[0;32m----> 2\u001B[0m model\u001B[38;5;241m.\u001B[39mfit(train\u001B[38;5;241m.\u001B[39mbatch(\u001B[38;5;241m512\u001B[39m), epochs\u001B[38;5;241m=\u001B[39m\u001B[38;5;241m5\u001B[39m)\n",
      "File \u001B[0;32m~/anaconda3/lib/python3.11/site-packages/keras/src/utils/traceback_utils.py:122\u001B[0m, in \u001B[0;36mfilter_traceback.<locals>.error_handler\u001B[0;34m(*args, **kwargs)\u001B[0m\n\u001B[1;32m    119\u001B[0m     filtered_tb \u001B[38;5;241m=\u001B[39m _process_traceback_frames(e\u001B[38;5;241m.\u001B[39m__traceback__)\n\u001B[1;32m    120\u001B[0m     \u001B[38;5;66;03m# To get the full stack trace, call:\u001B[39;00m\n\u001B[1;32m    121\u001B[0m     \u001B[38;5;66;03m# `keras.config.disable_traceback_filtering()`\u001B[39;00m\n\u001B[0;32m--> 122\u001B[0m     \u001B[38;5;28;01mraise\u001B[39;00m e\u001B[38;5;241m.\u001B[39mwith_traceback(filtered_tb) \u001B[38;5;28;01mfrom\u001B[39;00m \u001B[38;5;28;01mNone\u001B[39;00m\n\u001B[1;32m    123\u001B[0m \u001B[38;5;28;01mfinally\u001B[39;00m:\n\u001B[1;32m    124\u001B[0m     \u001B[38;5;28;01mdel\u001B[39;00m filtered_tb\n",
      "Cell \u001B[0;32mIn[45], line 32\u001B[0m, in \u001B[0;36mMovieModel.call\u001B[0;34m(self, inputs)\u001B[0m\n\u001B[1;32m     31\u001B[0m \u001B[38;5;28;01mdef\u001B[39;00m \u001B[38;5;21mcall\u001B[39m(\u001B[38;5;28mself\u001B[39m, inputs):\n\u001B[0;32m---> 32\u001B[0m     user_id, movie_title \u001B[38;5;241m=\u001B[39m inputs\n\u001B[1;32m     34\u001B[0m     user_embedding \u001B[38;5;241m=\u001B[39m \u001B[38;5;28mself\u001B[39m\u001B[38;5;241m.\u001B[39muser_model(user_id)\n\u001B[1;32m     35\u001B[0m     movie_embedding \u001B[38;5;241m=\u001B[39m \u001B[38;5;28mself\u001B[39m\u001B[38;5;241m.\u001B[39mmovie_model(movie_title)\n",
      "\u001B[0;31mValueError\u001B[0m: Exception encountered when calling MovieModel.call().\n\n\u001B[1mtoo many values to unpack (expected 2)\u001B[0m\n\nArguments received by MovieModel.call():\n  • inputs={'movie_title': 'tf.Tensor(shape=(None,), dtype=string)', 'userId': 'tf.Tensor(shape=(None,), dtype=string)', 'rating': 'tf.Tensor(shape=(None,), dtype=float32)'}"
     ]
    }
   ],
   "source": [
    "# Train the model\n",
    "model.fit(train.batch(512), epochs=5)"
   ],
   "metadata": {
    "collapsed": false,
    "ExecuteTime": {
     "end_time": "2024-05-09T17:47:57.915388Z",
     "start_time": "2024-05-09T17:47:57.745876Z"
    }
   },
   "execution_count": 47
  },
  {
   "cell_type": "code",
   "outputs": [],
   "source": [],
   "metadata": {
    "collapsed": false
   }
  }
 ]
}
