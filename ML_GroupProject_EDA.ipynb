{
 "cells": [
  {
   "cell_type": "code",
   "execution_count": 62,
   "id": "initial_id",
   "metadata": {
    "collapsed": true,
    "ExecuteTime": {
     "end_time": "2024-04-01T11:32:31.472564Z",
     "start_time": "2024-04-01T11:32:31.469061Z"
    }
   },
   "outputs": [],
   "source": [
    "import pandas as pd\n",
    "import numpy as np\n",
    "import matplotlib.pyplot as plt\n",
    "import seaborn as sns\n",
    "import ast"
   ]
  },
  {
   "cell_type": "code",
   "outputs": [],
   "source": [
    "df_merged = pd.read_pickle('data/df_merged.pkl')\n",
    "df_ratings = pd.read_pickle('data/df_ratings.pkl')"
   ],
   "metadata": {
    "collapsed": false,
    "ExecuteTime": {
     "end_time": "2024-04-01T11:32:32.494411Z",
     "start_time": "2024-04-01T11:32:31.772995Z"
    }
   },
   "id": "bd66f346dba79d0c",
   "execution_count": 63
  },
  {
   "cell_type": "markdown",
   "source": [],
   "metadata": {
    "collapsed": false
   },
   "id": "e756c87ba68f39e2"
  },
  {
   "cell_type": "markdown",
   "source": [
    "# 1. Ratings"
   ],
   "metadata": {
    "collapsed": false
   },
   "id": "bfd1f07a0a325c67"
  },
  {
   "cell_type": "code",
   "outputs": [
    {
     "data": {
      "text/plain": "   userId  movieId  rating                     timestamp\n0       1      110     1.0 1970-01-01 00:00:01.425941529\n1       1      147     4.5 1970-01-01 00:00:01.425942435\n2       1      858     5.0 1970-01-01 00:00:01.425941523\n3       1     1221     5.0 1970-01-01 00:00:01.425941546\n4       1     1246     5.0 1970-01-01 00:00:01.425941556",
      "text/html": "<div>\n<style scoped>\n    .dataframe tbody tr th:only-of-type {\n        vertical-align: middle;\n    }\n\n    .dataframe tbody tr th {\n        vertical-align: top;\n    }\n\n    .dataframe thead th {\n        text-align: right;\n    }\n</style>\n<table border=\"1\" class=\"dataframe\">\n  <thead>\n    <tr style=\"text-align: right;\">\n      <th></th>\n      <th>userId</th>\n      <th>movieId</th>\n      <th>rating</th>\n      <th>timestamp</th>\n    </tr>\n  </thead>\n  <tbody>\n    <tr>\n      <th>0</th>\n      <td>1</td>\n      <td>110</td>\n      <td>1.0</td>\n      <td>1970-01-01 00:00:01.425941529</td>\n    </tr>\n    <tr>\n      <th>1</th>\n      <td>1</td>\n      <td>147</td>\n      <td>4.5</td>\n      <td>1970-01-01 00:00:01.425942435</td>\n    </tr>\n    <tr>\n      <th>2</th>\n      <td>1</td>\n      <td>858</td>\n      <td>5.0</td>\n      <td>1970-01-01 00:00:01.425941523</td>\n    </tr>\n    <tr>\n      <th>3</th>\n      <td>1</td>\n      <td>1221</td>\n      <td>5.0</td>\n      <td>1970-01-01 00:00:01.425941546</td>\n    </tr>\n    <tr>\n      <th>4</th>\n      <td>1</td>\n      <td>1246</td>\n      <td>5.0</td>\n      <td>1970-01-01 00:00:01.425941556</td>\n    </tr>\n  </tbody>\n</table>\n</div>"
     },
     "execution_count": 64,
     "metadata": {},
     "output_type": "execute_result"
    }
   ],
   "source": [
    "# Fixing the timestamp column\n",
    "df_ratings['timestamp'] = pd.to_datetime(df_ratings['timestamp'], unit='s', origin='unix')\n",
    "df_ratings.head()"
   ],
   "metadata": {
    "collapsed": false,
    "ExecuteTime": {
     "end_time": "2024-04-01T11:32:32.559413Z",
     "start_time": "2024-04-01T11:32:32.496923Z"
    }
   },
   "id": "90e0ad2c465d2ed4",
   "execution_count": 64
  },
  {
   "cell_type": "code",
   "outputs": [
    {
     "name": "stdout",
     "output_type": "stream",
     "text": [
      "<class 'pandas.core.frame.DataFrame'>\n",
      "RangeIndex: 26024289 entries, 0 to 26024288\n",
      "Data columns (total 4 columns):\n",
      " #   Column     Dtype         \n",
      "---  ------     -----         \n",
      " 0   userId     int64         \n",
      " 1   movieId    int64         \n",
      " 2   rating     Float64       \n",
      " 3   timestamp  datetime64[ns]\n",
      "dtypes: Float64(1), datetime64[ns](1), int64(2)\n",
      "memory usage: 819.0 MB\n"
     ]
    }
   ],
   "source": [
    "df_ratings.info()"
   ],
   "metadata": {
    "collapsed": false,
    "ExecuteTime": {
     "end_time": "2024-04-01T11:32:32.566956Z",
     "start_time": "2024-04-01T11:32:32.559984Z"
    }
   },
   "id": "6f991bf35cb97c97",
   "execution_count": 65
  },
  {
   "cell_type": "code",
   "outputs": [
    {
     "data": {
      "text/plain": "             userId       movieId      rating                      timestamp\ncount  2.602429e+07  2.602429e+07  26024289.0                       26024289\nmean   1.350371e+05  1.584911e+04     3.52809  1970-01-01 00:00:01.171258432\nmin    1.000000e+00  1.000000e+00         0.5  1970-01-01 00:00:00.789652004\n25%    6.716400e+04  1.073000e+03         3.0  1970-01-01 00:00:00.990754461\n50%    1.351630e+05  2.583000e+03         3.5  1970-01-01 00:00:01.151715567\n75%    2.026930e+05  6.503000e+03         4.0  1970-01-01 00:00:01.357577779\nmax    2.708960e+05  1.762750e+05         5.0  1970-01-01 00:00:01.501829870\nstd    7.817620e+04  3.108526e+04    1.065443                            NaN",
      "text/html": "<div>\n<style scoped>\n    .dataframe tbody tr th:only-of-type {\n        vertical-align: middle;\n    }\n\n    .dataframe tbody tr th {\n        vertical-align: top;\n    }\n\n    .dataframe thead th {\n        text-align: right;\n    }\n</style>\n<table border=\"1\" class=\"dataframe\">\n  <thead>\n    <tr style=\"text-align: right;\">\n      <th></th>\n      <th>userId</th>\n      <th>movieId</th>\n      <th>rating</th>\n      <th>timestamp</th>\n    </tr>\n  </thead>\n  <tbody>\n    <tr>\n      <th>count</th>\n      <td>2.602429e+07</td>\n      <td>2.602429e+07</td>\n      <td>26024289.0</td>\n      <td>26024289</td>\n    </tr>\n    <tr>\n      <th>mean</th>\n      <td>1.350371e+05</td>\n      <td>1.584911e+04</td>\n      <td>3.52809</td>\n      <td>1970-01-01 00:00:01.171258432</td>\n    </tr>\n    <tr>\n      <th>min</th>\n      <td>1.000000e+00</td>\n      <td>1.000000e+00</td>\n      <td>0.5</td>\n      <td>1970-01-01 00:00:00.789652004</td>\n    </tr>\n    <tr>\n      <th>25%</th>\n      <td>6.716400e+04</td>\n      <td>1.073000e+03</td>\n      <td>3.0</td>\n      <td>1970-01-01 00:00:00.990754461</td>\n    </tr>\n    <tr>\n      <th>50%</th>\n      <td>1.351630e+05</td>\n      <td>2.583000e+03</td>\n      <td>3.5</td>\n      <td>1970-01-01 00:00:01.151715567</td>\n    </tr>\n    <tr>\n      <th>75%</th>\n      <td>2.026930e+05</td>\n      <td>6.503000e+03</td>\n      <td>4.0</td>\n      <td>1970-01-01 00:00:01.357577779</td>\n    </tr>\n    <tr>\n      <th>max</th>\n      <td>2.708960e+05</td>\n      <td>1.762750e+05</td>\n      <td>5.0</td>\n      <td>1970-01-01 00:00:01.501829870</td>\n    </tr>\n    <tr>\n      <th>std</th>\n      <td>7.817620e+04</td>\n      <td>3.108526e+04</td>\n      <td>1.065443</td>\n      <td>NaN</td>\n    </tr>\n  </tbody>\n</table>\n</div>"
     },
     "execution_count": 66,
     "metadata": {},
     "output_type": "execute_result"
    }
   ],
   "source": [
    "df_ratings.describe()"
   ],
   "metadata": {
    "collapsed": false,
    "ExecuteTime": {
     "end_time": "2024-04-01T11:32:34.429018Z",
     "start_time": "2024-04-01T11:32:32.567913Z"
    }
   },
   "id": "82c0a6a47a0e83e0",
   "execution_count": 66
  },
  {
   "cell_type": "markdown",
   "source": [
    "- The dataset contains 26,024,289 ratings\n",
    "- The ratings range from 0.5 to 5.0 with 0.5 increments, which is the typical rating scale for movie rating platforms"
   ],
   "metadata": {
    "collapsed": false
   },
   "id": "336bde70481a6ef8"
  },
  {
   "cell_type": "code",
   "outputs": [
    {
     "data": {
      "text/plain": "rating\n4.0    6998802\n3.0    5256722\n5.0    3812499\n3.5    3116213\n4.5    2170441\n2.0    1762440\n2.5    1255358\n1.0     843310\n0.5     404897\n1.5     403607\nName: count, dtype: int64"
     },
     "execution_count": 67,
     "metadata": {},
     "output_type": "execute_result"
    }
   ],
   "source": [
    "# Checking the rating distribution\n",
    "df_ratings.value_counts('rating')"
   ],
   "metadata": {
    "collapsed": false,
    "ExecuteTime": {
     "end_time": "2024-04-01T11:32:34.659641Z",
     "start_time": "2024-04-01T11:32:34.430170Z"
    }
   },
   "id": "bf66fd4fa80700df",
   "execution_count": 67
  },
  {
   "cell_type": "code",
   "outputs": [
    {
     "name": "stderr",
     "output_type": "stream",
     "text": [
      "/Users/leonardoheinemann/anaconda3/lib/python3.11/site-packages/seaborn/_oldcore.py:1119: FutureWarning: use_inf_as_na option is deprecated and will be removed in a future version. Convert inf values to NaN before operating instead.\n",
      "  with pd.option_context('mode.use_inf_as_na', True):\n"
     ]
    },
    {
     "ename": "TypeError",
     "evalue": "loop of ufunc does not support argument 0 of type float which has no callable sqrt method",
     "output_type": "error",
     "traceback": [
      "\u001B[0;31m---------------------------------------------------------------------------\u001B[0m",
      "\u001B[0;31mAttributeError\u001B[0m                            Traceback (most recent call last)",
      "\u001B[0;31mAttributeError\u001B[0m: 'float' object has no attribute 'sqrt'",
      "\nThe above exception was the direct cause of the following exception:\n",
      "\u001B[0;31mTypeError\u001B[0m                                 Traceback (most recent call last)",
      "Cell \u001B[0;32mIn[68], line 2\u001B[0m\n\u001B[1;32m      1\u001B[0m plt\u001B[38;5;241m.\u001B[39mfigure(figsize\u001B[38;5;241m=\u001B[39m(\u001B[38;5;241m10\u001B[39m,\u001B[38;5;241m6\u001B[39m))\n\u001B[0;32m----> 2\u001B[0m \u001B[43msns\u001B[49m\u001B[38;5;241;43m.\u001B[39;49m\u001B[43mhistplot\u001B[49m\u001B[43m(\u001B[49m\u001B[43mdf_ratings\u001B[49m\u001B[43m[\u001B[49m\u001B[38;5;124;43m'\u001B[39;49m\u001B[38;5;124;43mrating\u001B[39;49m\u001B[38;5;124;43m'\u001B[39;49m\u001B[43m]\u001B[49m\u001B[43m,\u001B[49m\u001B[43m \u001B[49m\u001B[43mbins\u001B[49m\u001B[38;5;241;43m=\u001B[39;49m\u001B[38;5;241;43m9\u001B[39;49m\u001B[43m,\u001B[49m\u001B[43m \u001B[49m\u001B[43mkde\u001B[49m\u001B[38;5;241;43m=\u001B[39;49m\u001B[38;5;28;43;01mTrue\u001B[39;49;00m\u001B[43m)\u001B[49m\n\u001B[1;32m      3\u001B[0m plt\u001B[38;5;241m.\u001B[39mtitle(\u001B[38;5;124m'\u001B[39m\u001B[38;5;124mRatings distribution\u001B[39m\u001B[38;5;124m'\u001B[39m)\n\u001B[1;32m      4\u001B[0m plt\u001B[38;5;241m.\u001B[39mshow()\n",
      "File \u001B[0;32m~/anaconda3/lib/python3.11/site-packages/seaborn/distributions.py:1432\u001B[0m, in \u001B[0;36mhistplot\u001B[0;34m(data, x, y, hue, weights, stat, bins, binwidth, binrange, discrete, cumulative, common_bins, common_norm, multiple, element, fill, shrink, kde, kde_kws, line_kws, thresh, pthresh, pmax, cbar, cbar_ax, cbar_kws, palette, hue_order, hue_norm, color, log_scale, legend, ax, **kwargs)\u001B[0m\n\u001B[1;32m   1421\u001B[0m estimate_kws \u001B[38;5;241m=\u001B[39m \u001B[38;5;28mdict\u001B[39m(\n\u001B[1;32m   1422\u001B[0m     stat\u001B[38;5;241m=\u001B[39mstat,\n\u001B[1;32m   1423\u001B[0m     bins\u001B[38;5;241m=\u001B[39mbins,\n\u001B[0;32m   (...)\u001B[0m\n\u001B[1;32m   1427\u001B[0m     cumulative\u001B[38;5;241m=\u001B[39mcumulative,\n\u001B[1;32m   1428\u001B[0m )\n\u001B[1;32m   1430\u001B[0m \u001B[38;5;28;01mif\u001B[39;00m p\u001B[38;5;241m.\u001B[39munivariate:\n\u001B[0;32m-> 1432\u001B[0m     \u001B[43mp\u001B[49m\u001B[38;5;241;43m.\u001B[39;49m\u001B[43mplot_univariate_histogram\u001B[49m\u001B[43m(\u001B[49m\n\u001B[1;32m   1433\u001B[0m \u001B[43m        \u001B[49m\u001B[43mmultiple\u001B[49m\u001B[38;5;241;43m=\u001B[39;49m\u001B[43mmultiple\u001B[49m\u001B[43m,\u001B[49m\n\u001B[1;32m   1434\u001B[0m \u001B[43m        \u001B[49m\u001B[43melement\u001B[49m\u001B[38;5;241;43m=\u001B[39;49m\u001B[43melement\u001B[49m\u001B[43m,\u001B[49m\n\u001B[1;32m   1435\u001B[0m \u001B[43m        \u001B[49m\u001B[43mfill\u001B[49m\u001B[38;5;241;43m=\u001B[39;49m\u001B[43mfill\u001B[49m\u001B[43m,\u001B[49m\n\u001B[1;32m   1436\u001B[0m \u001B[43m        \u001B[49m\u001B[43mshrink\u001B[49m\u001B[38;5;241;43m=\u001B[39;49m\u001B[43mshrink\u001B[49m\u001B[43m,\u001B[49m\n\u001B[1;32m   1437\u001B[0m \u001B[43m        \u001B[49m\u001B[43mcommon_norm\u001B[49m\u001B[38;5;241;43m=\u001B[39;49m\u001B[43mcommon_norm\u001B[49m\u001B[43m,\u001B[49m\n\u001B[1;32m   1438\u001B[0m \u001B[43m        \u001B[49m\u001B[43mcommon_bins\u001B[49m\u001B[38;5;241;43m=\u001B[39;49m\u001B[43mcommon_bins\u001B[49m\u001B[43m,\u001B[49m\n\u001B[1;32m   1439\u001B[0m \u001B[43m        \u001B[49m\u001B[43mkde\u001B[49m\u001B[38;5;241;43m=\u001B[39;49m\u001B[43mkde\u001B[49m\u001B[43m,\u001B[49m\n\u001B[1;32m   1440\u001B[0m \u001B[43m        \u001B[49m\u001B[43mkde_kws\u001B[49m\u001B[38;5;241;43m=\u001B[39;49m\u001B[43mkde_kws\u001B[49m\u001B[43m,\u001B[49m\n\u001B[1;32m   1441\u001B[0m \u001B[43m        \u001B[49m\u001B[43mcolor\u001B[49m\u001B[38;5;241;43m=\u001B[39;49m\u001B[43mcolor\u001B[49m\u001B[43m,\u001B[49m\n\u001B[1;32m   1442\u001B[0m \u001B[43m        \u001B[49m\u001B[43mlegend\u001B[49m\u001B[38;5;241;43m=\u001B[39;49m\u001B[43mlegend\u001B[49m\u001B[43m,\u001B[49m\n\u001B[1;32m   1443\u001B[0m \u001B[43m        \u001B[49m\u001B[43mestimate_kws\u001B[49m\u001B[38;5;241;43m=\u001B[39;49m\u001B[43mestimate_kws\u001B[49m\u001B[43m,\u001B[49m\n\u001B[1;32m   1444\u001B[0m \u001B[43m        \u001B[49m\u001B[43mline_kws\u001B[49m\u001B[38;5;241;43m=\u001B[39;49m\u001B[43mline_kws\u001B[49m\u001B[43m,\u001B[49m\n\u001B[1;32m   1445\u001B[0m \u001B[43m        \u001B[49m\u001B[38;5;241;43m*\u001B[39;49m\u001B[38;5;241;43m*\u001B[39;49m\u001B[43mkwargs\u001B[49m\u001B[43m,\u001B[49m\n\u001B[1;32m   1446\u001B[0m \u001B[43m    \u001B[49m\u001B[43m)\u001B[49m\n\u001B[1;32m   1448\u001B[0m \u001B[38;5;28;01melse\u001B[39;00m:\n\u001B[1;32m   1450\u001B[0m     p\u001B[38;5;241m.\u001B[39mplot_bivariate_histogram(\n\u001B[1;32m   1451\u001B[0m         common_bins\u001B[38;5;241m=\u001B[39mcommon_bins,\n\u001B[1;32m   1452\u001B[0m         common_norm\u001B[38;5;241m=\u001B[39mcommon_norm,\n\u001B[0;32m   (...)\u001B[0m\n\u001B[1;32m   1462\u001B[0m         \u001B[38;5;241m*\u001B[39m\u001B[38;5;241m*\u001B[39mkwargs,\n\u001B[1;32m   1463\u001B[0m     )\n",
      "File \u001B[0;32m~/anaconda3/lib/python3.11/site-packages/seaborn/distributions.py:451\u001B[0m, in \u001B[0;36m_DistributionPlotter.plot_univariate_histogram\u001B[0;34m(self, multiple, element, fill, common_norm, common_bins, shrink, kde, kde_kws, color, legend, line_kws, estimate_kws, **plot_kws)\u001B[0m\n\u001B[1;32m    449\u001B[0m     kde_kws[\u001B[38;5;124m\"\u001B[39m\u001B[38;5;124mcumulative\u001B[39m\u001B[38;5;124m\"\u001B[39m] \u001B[38;5;241m=\u001B[39m estimate_kws[\u001B[38;5;124m\"\u001B[39m\u001B[38;5;124mcumulative\u001B[39m\u001B[38;5;124m\"\u001B[39m]\n\u001B[1;32m    450\u001B[0m     log_scale \u001B[38;5;241m=\u001B[39m \u001B[38;5;28mself\u001B[39m\u001B[38;5;241m.\u001B[39m_log_scaled(\u001B[38;5;28mself\u001B[39m\u001B[38;5;241m.\u001B[39mdata_variable)\n\u001B[0;32m--> 451\u001B[0m     densities \u001B[38;5;241m=\u001B[39m \u001B[38;5;28;43mself\u001B[39;49m\u001B[38;5;241;43m.\u001B[39;49m\u001B[43m_compute_univariate_density\u001B[49m\u001B[43m(\u001B[49m\n\u001B[1;32m    452\u001B[0m \u001B[43m        \u001B[49m\u001B[38;5;28;43mself\u001B[39;49m\u001B[38;5;241;43m.\u001B[39;49m\u001B[43mdata_variable\u001B[49m\u001B[43m,\u001B[49m\n\u001B[1;32m    453\u001B[0m \u001B[43m        \u001B[49m\u001B[43mcommon_norm\u001B[49m\u001B[43m,\u001B[49m\n\u001B[1;32m    454\u001B[0m \u001B[43m        \u001B[49m\u001B[43mcommon_bins\u001B[49m\u001B[43m,\u001B[49m\n\u001B[1;32m    455\u001B[0m \u001B[43m        \u001B[49m\u001B[43mkde_kws\u001B[49m\u001B[43m,\u001B[49m\n\u001B[1;32m    456\u001B[0m \u001B[43m        \u001B[49m\u001B[43mlog_scale\u001B[49m\u001B[43m,\u001B[49m\n\u001B[1;32m    457\u001B[0m \u001B[43m        \u001B[49m\u001B[43mwarn_singular\u001B[49m\u001B[38;5;241;43m=\u001B[39;49m\u001B[38;5;28;43;01mFalse\u001B[39;49;00m\u001B[43m,\u001B[49m\n\u001B[1;32m    458\u001B[0m \u001B[43m    \u001B[49m\u001B[43m)\u001B[49m\n\u001B[1;32m    460\u001B[0m \u001B[38;5;66;03m# First pass through the data to compute the histograms\u001B[39;00m\n\u001B[1;32m    461\u001B[0m \u001B[38;5;28;01mfor\u001B[39;00m sub_vars, sub_data \u001B[38;5;129;01min\u001B[39;00m \u001B[38;5;28mself\u001B[39m\u001B[38;5;241m.\u001B[39miter_data(\u001B[38;5;124m\"\u001B[39m\u001B[38;5;124mhue\u001B[39m\u001B[38;5;124m\"\u001B[39m, from_comp_data\u001B[38;5;241m=\u001B[39m\u001B[38;5;28;01mTrue\u001B[39;00m):\n\u001B[1;32m    462\u001B[0m \n\u001B[1;32m    463\u001B[0m     \u001B[38;5;66;03m# Prepare the relevant data\u001B[39;00m\n",
      "File \u001B[0;32m~/anaconda3/lib/python3.11/site-packages/seaborn/distributions.py:349\u001B[0m, in \u001B[0;36m_DistributionPlotter._compute_univariate_density\u001B[0;34m(self, data_variable, common_norm, common_grid, estimate_kws, log_scale, warn_singular)\u001B[0m\n\u001B[1;32m    345\u001B[0m \u001B[38;5;28;01mtry\u001B[39;00m:\n\u001B[1;32m    346\u001B[0m     \u001B[38;5;28;01mif\u001B[39;00m \u001B[38;5;129;01mnot\u001B[39;00m singular:\n\u001B[1;32m    347\u001B[0m         \u001B[38;5;66;03m# Convoluted approach needed because numerical failures\u001B[39;00m\n\u001B[1;32m    348\u001B[0m         \u001B[38;5;66;03m# can manifest in a few different ways.\u001B[39;00m\n\u001B[0;32m--> 349\u001B[0m         density, support \u001B[38;5;241m=\u001B[39m \u001B[43mestimator\u001B[49m\u001B[43m(\u001B[49m\u001B[43mobservations\u001B[49m\u001B[43m,\u001B[49m\u001B[43m \u001B[49m\u001B[43mweights\u001B[49m\u001B[38;5;241;43m=\u001B[39;49m\u001B[43mweights\u001B[49m\u001B[43m)\u001B[49m\n\u001B[1;32m    350\u001B[0m \u001B[38;5;28;01mexcept\u001B[39;00m np\u001B[38;5;241m.\u001B[39mlinalg\u001B[38;5;241m.\u001B[39mLinAlgError:\n\u001B[1;32m    351\u001B[0m     singular \u001B[38;5;241m=\u001B[39m \u001B[38;5;28;01mTrue\u001B[39;00m\n",
      "File \u001B[0;32m~/anaconda3/lib/python3.11/site-packages/seaborn/_statistics.py:192\u001B[0m, in \u001B[0;36mKDE.__call__\u001B[0;34m(self, x1, x2, weights)\u001B[0m\n\u001B[1;32m    190\u001B[0m \u001B[38;5;250m\u001B[39m\u001B[38;5;124;03m\"\"\"Fit and evaluate on univariate or bivariate data.\"\"\"\u001B[39;00m\n\u001B[1;32m    191\u001B[0m \u001B[38;5;28;01mif\u001B[39;00m x2 \u001B[38;5;129;01mis\u001B[39;00m \u001B[38;5;28;01mNone\u001B[39;00m:\n\u001B[0;32m--> 192\u001B[0m     \u001B[38;5;28;01mreturn\u001B[39;00m \u001B[38;5;28;43mself\u001B[39;49m\u001B[38;5;241;43m.\u001B[39;49m\u001B[43m_eval_univariate\u001B[49m\u001B[43m(\u001B[49m\u001B[43mx1\u001B[49m\u001B[43m,\u001B[49m\u001B[43m \u001B[49m\u001B[43mweights\u001B[49m\u001B[43m)\u001B[49m\n\u001B[1;32m    193\u001B[0m \u001B[38;5;28;01melse\u001B[39;00m:\n\u001B[1;32m    194\u001B[0m     \u001B[38;5;28;01mreturn\u001B[39;00m \u001B[38;5;28mself\u001B[39m\u001B[38;5;241m.\u001B[39m_eval_bivariate(x1, x2, weights)\n",
      "File \u001B[0;32m~/anaconda3/lib/python3.11/site-packages/seaborn/_statistics.py:151\u001B[0m, in \u001B[0;36mKDE._eval_univariate\u001B[0;34m(self, x, weights)\u001B[0m\n\u001B[1;32m    149\u001B[0m support \u001B[38;5;241m=\u001B[39m \u001B[38;5;28mself\u001B[39m\u001B[38;5;241m.\u001B[39msupport\n\u001B[1;32m    150\u001B[0m \u001B[38;5;28;01mif\u001B[39;00m support \u001B[38;5;129;01mis\u001B[39;00m \u001B[38;5;28;01mNone\u001B[39;00m:\n\u001B[0;32m--> 151\u001B[0m     support \u001B[38;5;241m=\u001B[39m \u001B[38;5;28;43mself\u001B[39;49m\u001B[38;5;241;43m.\u001B[39;49m\u001B[43mdefine_support\u001B[49m\u001B[43m(\u001B[49m\u001B[43mx\u001B[49m\u001B[43m,\u001B[49m\u001B[43m \u001B[49m\u001B[43mcache\u001B[49m\u001B[38;5;241;43m=\u001B[39;49m\u001B[38;5;28;43;01mFalse\u001B[39;49;00m\u001B[43m)\u001B[49m\n\u001B[1;32m    153\u001B[0m kde \u001B[38;5;241m=\u001B[39m \u001B[38;5;28mself\u001B[39m\u001B[38;5;241m.\u001B[39m_fit(x, weights)\n\u001B[1;32m    155\u001B[0m \u001B[38;5;28;01mif\u001B[39;00m \u001B[38;5;28mself\u001B[39m\u001B[38;5;241m.\u001B[39mcumulative:\n",
      "File \u001B[0;32m~/anaconda3/lib/python3.11/site-packages/seaborn/_statistics.py:127\u001B[0m, in \u001B[0;36mKDE.define_support\u001B[0;34m(self, x1, x2, weights, cache)\u001B[0m\n\u001B[1;32m    125\u001B[0m \u001B[38;5;250m\u001B[39m\u001B[38;5;124;03m\"\"\"Create the evaluation grid for a given data set.\"\"\"\u001B[39;00m\n\u001B[1;32m    126\u001B[0m \u001B[38;5;28;01mif\u001B[39;00m x2 \u001B[38;5;129;01mis\u001B[39;00m \u001B[38;5;28;01mNone\u001B[39;00m:\n\u001B[0;32m--> 127\u001B[0m     support \u001B[38;5;241m=\u001B[39m \u001B[38;5;28;43mself\u001B[39;49m\u001B[38;5;241;43m.\u001B[39;49m\u001B[43m_define_support_univariate\u001B[49m\u001B[43m(\u001B[49m\u001B[43mx1\u001B[49m\u001B[43m,\u001B[49m\u001B[43m \u001B[49m\u001B[43mweights\u001B[49m\u001B[43m)\u001B[49m\n\u001B[1;32m    128\u001B[0m \u001B[38;5;28;01melse\u001B[39;00m:\n\u001B[1;32m    129\u001B[0m     support \u001B[38;5;241m=\u001B[39m \u001B[38;5;28mself\u001B[39m\u001B[38;5;241m.\u001B[39m_define_support_bivariate(x1, x2, weights)\n",
      "File \u001B[0;32m~/anaconda3/lib/python3.11/site-packages/seaborn/_statistics.py:100\u001B[0m, in \u001B[0;36mKDE._define_support_univariate\u001B[0;34m(self, x, weights)\u001B[0m\n\u001B[1;32m     98\u001B[0m \u001B[38;5;250m\u001B[39m\u001B[38;5;124;03m\"\"\"Create a 1D grid of evaluation points.\"\"\"\u001B[39;00m\n\u001B[1;32m     99\u001B[0m kde \u001B[38;5;241m=\u001B[39m \u001B[38;5;28mself\u001B[39m\u001B[38;5;241m.\u001B[39m_fit(x, weights)\n\u001B[0;32m--> 100\u001B[0m bw \u001B[38;5;241m=\u001B[39m \u001B[43mnp\u001B[49m\u001B[38;5;241;43m.\u001B[39;49m\u001B[43msqrt\u001B[49m\u001B[43m(\u001B[49m\u001B[43mkde\u001B[49m\u001B[38;5;241;43m.\u001B[39;49m\u001B[43mcovariance\u001B[49m\u001B[38;5;241;43m.\u001B[39;49m\u001B[43msqueeze\u001B[49m\u001B[43m(\u001B[49m\u001B[43m)\u001B[49m\u001B[43m)\u001B[49m\n\u001B[1;32m    101\u001B[0m grid \u001B[38;5;241m=\u001B[39m \u001B[38;5;28mself\u001B[39m\u001B[38;5;241m.\u001B[39m_define_support_grid(\n\u001B[1;32m    102\u001B[0m     x, bw, \u001B[38;5;28mself\u001B[39m\u001B[38;5;241m.\u001B[39mcut, \u001B[38;5;28mself\u001B[39m\u001B[38;5;241m.\u001B[39mclip, \u001B[38;5;28mself\u001B[39m\u001B[38;5;241m.\u001B[39mgridsize\n\u001B[1;32m    103\u001B[0m )\n\u001B[1;32m    104\u001B[0m \u001B[38;5;28;01mreturn\u001B[39;00m grid\n",
      "\u001B[0;31mTypeError\u001B[0m: loop of ufunc does not support argument 0 of type float which has no callable sqrt method"
     ]
    },
    {
     "data": {
      "text/plain": "<Figure size 1000x600 with 1 Axes>",
      "image/png": "[encoded data removed]"
     },
     "metadata": {},
     "output_type": "display_data"
    }
   ],
   "source": [
    "plt.figure(figsize=(10,6))\n",
    "sns.histplot(df_ratings['rating'], bins=9, kde=True)\n",
    "plt.title('Ratings distribution')\n",
    "plt.show()"
   ],
   "metadata": {
    "collapsed": false,
    "ExecuteTime": {
     "end_time": "2024-04-01T11:32:48.083428Z",
     "start_time": "2024-04-01T11:32:34.660288Z"
    }
   },
   "id": "391e1aea327c5d7e",
   "execution_count": 68
  },
  {
   "cell_type": "markdown",
   "source": [
    "- Rating scale is from 0.5 to 5.0 with 0.5 increments. \n",
    "- Most ratings are 4.0 and 3.0. \n",
    "- There are no ratings of 0\n",
    "- The average rating is 3.53 which is slightly above the middle of the scale. This might be due to the fact that people are more likely to rate movies they like than movies they don't like or that people carefully select movies they watch, based on their interests."
   ],
   "metadata": {
    "collapsed": false
   },
   "id": "aeb090c7eed43d02"
  },
  {
   "cell_type": "markdown",
   "source": [
    "## 1.1 Number of Ratings per User"
   ],
   "metadata": {
    "collapsed": false
   },
   "id": "9b894cc434a6364c"
  },
  {
   "cell_type": "code",
   "outputs": [],
   "source": [
    "# Calculate and plot the distribution of ratings per user\n",
    "ratings_per_user = df_ratings.groupby('userId')['rating'].count()\n",
    "\n",
    "# Plotting the distribution of ratings per user\n",
    "plt.figure(figsize=(10,7)) \n",
    "plt.hist(ratings_per_user.values, bins=50, log=True)\n",
    "plt.title('Distribution of Number of Ratings')\n",
    "plt.xlabel('Number of Ratings')\n",
    "plt.ylabel('Number of Users (log-scale)')\n",
    "plt.grid(True)\n",
    "plt.show()"
   ],
   "metadata": {
    "collapsed": false
   },
   "id": "bab4e53b7a46eafc",
   "execution_count": null
  },
  {
   "cell_type": "code",
   "outputs": [],
   "source": [
    "ratings_per_user.describe()"
   ],
   "metadata": {
    "collapsed": false,
    "ExecuteTime": {
     "end_time": "2024-04-01T11:32:48.092931Z",
     "start_time": "2024-04-01T11:32:48.092353Z"
    }
   },
   "id": "dee06be8f0b76764",
   "execution_count": null
  },
  {
   "cell_type": "markdown",
   "source": [
    "- The distribution of ratings per user is right-skewed\n",
    "- Most users have rated less than 100 movies\n",
    "- Maximum number of ratings by a user is 18276 (extremely high)\n",
    "- Minimum number of ratings by a user is 1\n",
    "- Average number of ratings per user is approximately 96"
   ],
   "metadata": {
    "collapsed": false
   },
   "id": "5d63d9836ba352f2"
  },
  {
   "cell_type": "code",
   "outputs": [],
   "source": [
    "# Identify outliers using the Interquartile Range (IQR)\n",
    "Q1 = ratings_per_user.quantile(0.25)\n",
    "Q3 = ratings_per_user.quantile(0.75)\n",
    "IQR = Q3 - Q1\n",
    "outliers = ratings_per_user[(ratings_per_user < (Q1 - 1.5 * IQR)) | (ratings_per_user > (Q3 + 1.5 * IQR))]\n",
    "outliers"
   ],
   "metadata": {
    "collapsed": false
   },
   "id": "59103d76cf714ec8",
   "execution_count": null
  },
  {
   "cell_type": "code",
   "outputs": [],
   "source": [
    "# Detecting outliers using boxplot\n",
    "plt.figure(figsize=(10,7))\n",
    "sns.boxplot(ratings_per_user, orient='v')\n",
    "plt.title('Number of Ratings per User')\n",
    "plt.ylabel('Number of Ratings')\n",
    "plt.show()"
   ],
   "metadata": {
    "collapsed": false
   },
   "id": "d816ae794b112d04",
   "execution_count": null
  },
  {
   "cell_type": "markdown",
   "source": [
    "After detecting the outliers, we can see that the distribution of ratings per user is right-skewed. Most users have rated less than 100 movies. The maximum number of ratings by a user is 18276 which could potentially be a bot, as it is extremely high. We will therefore drop this user from the dataset."
   ],
   "metadata": {
    "collapsed": false
   },
   "id": "d6177e4bd08269e7"
  },
  {
   "cell_type": "code",
   "outputs": [],
   "source": [
    "# Find the userId with the maximum number of ratings\n",
    "user_with_max_ratings = ratings_per_user.idxmax()\n",
    "\n",
    "# Drop rows where userId is the user with the maximum number of ratings\n",
    "df_ratings = df_ratings[df_ratings['userId'] != user_with_max_ratings]"
   ],
   "metadata": {
    "collapsed": false
   },
   "id": "324d7a971ad5603",
   "execution_count": null
  },
  {
   "cell_type": "code",
   "outputs": [],
   "source": [
    "# Calculate and plot the distribution of ratings per user\n",
    "# Group by 'userId' and count the number of ratings for each user\n",
    "ratings_per_user = df_ratings.groupby('userId')['rating'].count()\n",
    "\n",
    "# Plotting the distribution of ratings per user\n",
    "plt.figure(figsize=(10,7))\n",
    "plt.hist(ratings_per_user.values, bins=40, log=True)\n",
    "plt.title('Distribution of Number of Ratings')\n",
    "plt.xlabel('Number of Ratings')\n",
    "plt.ylabel('Number of Users (log-scale)')\n",
    "plt.xticks(range(0, ratings_per_user.max() + 500, 500)) \n",
    "plt.grid(True)\n",
    "plt.show()"
   ],
   "metadata": {
    "collapsed": false
   },
   "id": "e74d51eac08d40dd",
   "execution_count": null
  },
  {
   "cell_type": "markdown",
   "source": [
    "After removing the user with the maximum number of ratings, the distribution of ratings per user is still right-skewed. Most users have rated less than 100 movies. This corresponds with the typical behavior of users on movie rating platforms, where most users rate only a small fraction of the available movies.\n",
    "\n",
    "We will now look at the distribution of ratings, below 100, to get a better understanding of the number of ratings per user."
   ],
   "metadata": {
    "collapsed": false
   },
   "id": "a0000f09813bed7"
  },
  {
   "cell_type": "code",
   "outputs": [],
   "source": [
    "# Display the number of ratings for user below 100, as most users have rated less than 100 movies\n",
    "ratings_per_user = df_ratings.groupby('userId')['rating'].count()\n",
    "\n",
    "plt.figure(figsize=(10,7))\n",
    "plt.hist(ratings_per_user.values, bins=(20), range=(0, 101))\n",
    "plt.title('Distribution of Number of Ratings (0-100)')\n",
    "plt.xlabel('Number of Ratings')\n",
    "plt.ylabel('Number of Users')\n",
    "plt.xticks(range(0, 101, 10))\n",
    "plt.grid(True)\n",
    "plt.show()"
   ],
   "metadata": {
    "collapsed": false
   },
   "id": "6908f6fa2f664f13",
   "execution_count": null
  },
  {
   "cell_type": "markdown",
   "source": [
    "- The distribution of ratings per user is right-skewed, with many users having rated between 10-20 movies.\n",
    "- However, too few ratings per user can lead to inaccurate recommendations in collaborative filtering algorithms. We will dive further into it."
   ],
   "metadata": {
    "collapsed": false
   },
   "id": "58dd54c292094b4e"
  },
  {
   "cell_type": "code",
   "outputs": [],
   "source": [
    "# Number of users with 0 ratings\n",
    "# Number of users with less than 20 ratings\n",
    "zero_rating = ratings_per_user[ratings_per_user == 0].count()\n",
    "less_than_twenty_rating = ratings_per_user[ratings_per_user < 20].count()\n",
    "\n",
    "zero_rating, less_than_twenty_rating"
   ],
   "metadata": {
    "collapsed": false
   },
   "id": "6b2dd81e67462815",
   "execution_count": null
  },
  {
   "cell_type": "markdown",
   "source": [
    "- There are 0 users with 0 ratings, which is good for a movie recommender system based on ratings\n",
    "- However, there are 104,452 users with less than 20 ratings."
   ],
   "metadata": {
    "collapsed": false
   },
   "id": "a50479b7f785c498"
  },
  {
   "cell_type": "code",
   "outputs": [],
   "source": [
    "# percentage users with less than 20 ratings\n",
    "percentage_users_less_than_20_ratings = (less_than_twenty_rating / ratings_per_user.count()) * 100\n",
    "percentage_users_less_than_20_ratings"
   ],
   "metadata": {
    "collapsed": false
   },
   "id": "90ce1278cb4264a7",
   "execution_count": null
  },
  {
   "cell_type": "markdown",
   "source": [
    "- Over 104,000 users submitted less than 20 ratings which is 38.55% of the total number of users. This could be a challenge for collaborative filtering algorithms, as they require a minimum number of ratings to make accurate predictions. \n",
    "- We will therefore remove users with less than 20 ratings from the dataset. This will shrink our dataset but will improve the quality of recommendations. By focusing on users who have provided more ratings, we can increase the accuracy of the collaborative filtering algorithm. \n",
    "- Scalability and Adaptability: The recommendation system should be scalable and adaptable. As more users cross the threshold of 20 ratings, they should be automatically incorporated into the dataset for model training. This might happen in a later step of the project."
   ],
   "metadata": {
    "collapsed": false
   },
   "id": "faffdeee642c3a0a"
  },
  {
   "cell_type": "code",
   "outputs": [],
   "source": [
    "# Drop users with less than 20 ratings\n",
    "df_ratings = df_ratings.groupby('userId').filter(lambda x: len(x) >= 20)"
   ],
   "metadata": {
    "collapsed": false
   },
   "id": "4427bf1195cbcb86",
   "execution_count": null
  },
  {
   "cell_type": "markdown",
   "source": [
    "Now we want to explor the distribution of ratings per user after removing users with less than 20 ratings."
   ],
   "metadata": {
    "collapsed": false
   },
   "id": "8aac50740903081c"
  },
  {
   "cell_type": "code",
   "outputs": [],
   "source": [
    "ratings_per_user = df_ratings.groupby('userId')['rating'].count()\n",
    "\n",
    "max_ratings = 1000 \n",
    "thresholds = np.arange(1, max_ratings + 1) \n",
    "\n",
    "# Calculate the cumulative percentage of users with more than 'n' ratings\n",
    "percent_users = [100 * (ratings_per_user >= n).mean() for n in thresholds]\n",
    "\n",
    "# Find the threshold where at least 50% of users have more ratings than that\n",
    "fifty_percent_threshold = next(x for x, val in enumerate(percent_users) if val <= 50)\n",
    "\n",
    "# Plot the distribution\n",
    "plt.figure(figsize=(10, 7))\n",
    "plt.plot(thresholds, percent_users, label='Percentage of users')\n",
    "plt.axvline(x=fifty_percent_threshold, color='red', linestyle='--', label='50% threshold')\n",
    "plt.xlabel('Number of Ratings Submitted')\n",
    "plt.ylabel('Percent of Users (%)')\n",
    "plt.title('Distribution of Number of Ratings in %')\n",
    "plt.xticks(range(0, max_ratings + 1, 100)) \n",
    "plt.yticks(range(0, 101, 10))\n",
    "plt.grid(True)\n",
    "plt.legend()\n",
    "\n",
    "# Adjust plot limits and ticks for better clarity\n",
    "plt.xlim(0, max_ratings)\n",
    "plt.ylim(0, 100)\n",
    "\n",
    "plt.show()"
   ],
   "metadata": {
    "collapsed": false
   },
   "id": "3fdecf4acda69276",
   "execution_count": null
  },
  {
   "cell_type": "markdown",
   "source": [
    "- 50% of users have rated more than 70-80 movies\n",
    "- Around 10% of users have even rated more than 350 movies\n",
    "- We can conclude that the majority of users have rated a significant number of movies, which makes this dataset suitable for collaborative filtering algorithms."
   ],
   "metadata": {
    "collapsed": false
   },
   "id": "8c62179e60c82966"
  },
  {
   "cell_type": "markdown",
   "source": [
    "Visualizing the distribution of ratings and some statistics on the ratings."
   ],
   "metadata": {
    "collapsed": false
   },
   "id": "c701704d973b4b31"
  },
  {
   "cell_type": "code",
   "outputs": [],
   "source": [
    "# Bi-model distribution of rating scores\n",
    "plt.figure(figsize=(10, 7))\n",
    "sns.histplot(df_ratings['rating'], bins=9, kde=True)\n",
    "plt.title('Ratings distribution')\n",
    "plt.show()\n"
   ],
   "metadata": {
    "collapsed": false
   },
   "id": "1e330f268b9547dd",
   "execution_count": null
  },
  {
   "cell_type": "code",
   "outputs": [],
   "source": [
    "ratings_statistics = df_ratings['rating'].describe()\n",
    "ratings_statistics"
   ],
   "metadata": {
    "collapsed": false
   },
   "id": "727d1b5e5b87f18b",
   "execution_count": null
  },
  {
   "cell_type": "markdown",
   "source": [
    "We can observe that the distribution of ratings is bimodal, with peaks at 3.0 and 4.0. The average rating is 3.53, which is slightly above the middle of the scale. The 75th percentile is 4.0, which indicates that 75% of the ratings are 4.0 or below. We come to the conclusion that a movie can be considered as \"good\" if it has a rating of 4.0 or above."
   ],
   "metadata": {
    "collapsed": false
   },
   "id": "c0e469160c2727a1"
  },
  {
   "cell_type": "markdown",
   "source": [],
   "metadata": {
    "collapsed": false
   },
   "id": "a3572b4a0a79ec0"
  },
  {
   "cell_type": "markdown",
   "source": [
    "We will now calculate the average rating for each user and add a column to indicate if the user liked the movie based on their average rating. We say that if the rating is greater than or equal to the user's average rating, then the user liked the movie."
   ],
   "metadata": {
    "collapsed": false
   },
   "id": "a3368eac5e2359cc"
  },
  {
   "cell_type": "code",
   "outputs": [],
   "source": [
    "# Calculate the average rating for each user\n",
    "user_mean_ratings = df_ratings.groupby('userId')['rating'].mean().reset_index(name='user_mean_rating')\n",
    "\n",
    "# Merge the average ratings with the original dataframe\n",
    "df_ratings = pd.merge(df_ratings, user_mean_ratings, on='userId')\n",
    "\n",
    "# Add a column to indicate if the user liked the movie (rating >= user_mean_rating)\n",
    "df_ratings['liked_by_user'] = df_ratings['rating'] >= df_ratings['user_mean_rating']\n",
    "df_ratings.head(50)"
   ],
   "metadata": {
    "collapsed": false
   },
   "id": "fa83e4e1906d251a",
   "execution_count": null
  },
  {
   "cell_type": "markdown",
   "source": [
    "- This column will be useful for content-based filtering algorithms, as it provides information about the user's preferences and can be used to recommend movies that are similar to the ones the user liked."
   ],
   "metadata": {
    "collapsed": false
   },
   "id": "3a5cd0e7b1ae3e5d"
  },
  {
   "cell_type": "markdown",
   "source": [
    "## 1.2 Number of Ratings over Time"
   ],
   "metadata": {
    "collapsed": false
   },
   "id": "e20ca6d693c18c2"
  },
  {
   "cell_type": "code",
   "outputs": [],
   "source": [
    "df_ratings.head()"
   ],
   "metadata": {
    "collapsed": false
   },
   "id": "48a74e2c1bc90888",
   "execution_count": null
  },
  {
   "cell_type": "code",
   "outputs": [],
   "source": [
    "ratings_by_year = df_ratings.groupby(df_ratings['timestamp'].dt.strftime('%Y')).agg({'rating': ['count', 'mean']})\n",
    "\n",
    "fig, ax1 = plt.subplots(figsize=(10,4))\n",
    "ax2 = ax1.twinx()\n",
    "\n",
    "ax1.bar(ratings_by_year.index, height=ratings_by_year.iloc[:,0], label='Number of Ratings')\n",
    "ax1.legend(loc='upper left')\n",
    "ax1.set_xlabel('Years')\n",
    "ax1.set_ylabel('Number of Ratings')\n",
    "ax1.tick_params(axis='x', rotation=45)\n",
    "\n",
    "ax2.plot(ratings_by_year.iloc[:,1], 'r', label='Avg. Rating')\n",
    "ax2.legend(loc='upper right')\n",
    "ax2.set_ylabel('Avg. Rating')\n",
    "\n",
    "plt.title('Distribution of Ratings and Average Rating over Time');"
   ],
   "metadata": {
    "collapsed": false
   },
   "id": "ff2ab2dc7d2605cb",
   "execution_count": null
  },
  {
   "cell_type": "markdown",
   "source": [
    "- The number of ratings seem to fluctuate over time, with a peak around 2015 and a high rate of ratings in the following years. This could be due to the increasing popularity of online movie rating platforms and the rise of streaming services."
   ],
   "metadata": {
    "collapsed": false
   },
   "id": "699182f7d486ce20"
  },
  {
   "cell_type": "markdown",
   "source": [
    "# 2. Movies"
   ],
   "metadata": {
    "collapsed": false
   },
   "id": "35e7043aecc82a9a"
  },
  {
   "cell_type": "code",
   "outputs": [],
   "source": [
    "df_merged.head()"
   ],
   "metadata": {
    "collapsed": false
   },
   "id": "9c44701541ce81b9",
   "execution_count": null
  },
  {
   "cell_type": "code",
   "outputs": [],
   "source": [
    "df_merged.describe()"
   ],
   "metadata": {
    "collapsed": false
   },
   "id": "ca22f43c40f0fd24",
   "execution_count": null
  },
  {
   "cell_type": "markdown",
   "source": [
    "- We dont observe any anomalies in the dataset"
   ],
   "metadata": {
    "collapsed": false
   },
   "id": "63a87afe623f10c3"
  },
  {
   "cell_type": "code",
   "outputs": [],
   "source": [
    "# Check for missing values\n",
    "df_merged.isnull().sum()"
   ],
   "metadata": {
    "collapsed": false
   },
   "id": "44f84aea3ea88d32",
   "execution_count": null
  },
  {
   "cell_type": "markdown",
   "source": [
    "- We dont have any missing values in the dataset, making it ready for analysis"
   ],
   "metadata": {
    "collapsed": false
   },
   "id": "dbf2ce8ec0385f4d"
  },
  {
   "cell_type": "markdown",
   "source": [
    "## 2.1 Movies & Ratings per Genre"
   ],
   "metadata": {
    "collapsed": false
   },
   "id": "c9fbc9501865052e"
  },
  {
   "cell_type": "markdown",
   "source": [
    "We will first transform the 'genre_extracted' column into a list of genres and then count the number of movies per genre and the popularity."
   ],
   "metadata": {
    "collapsed": false
   },
   "id": "80ea91a7cb29a6ae"
  },
  {
   "cell_type": "code",
   "outputs": [],
   "source": [
    "# Function to convert strings to lists or replace empty lists\n",
    "def convert_or_replace(genre):\n",
    "    if isinstance(genre, list):\n",
    "        return genre if genre else ['(none)']\n",
    "    elif isinstance(genre, str):\n",
    "        try:\n",
    "            return ast.literal_eval(genre)\n",
    "        except ValueError:\n",
    "            return ['(none)']\n",
    "    else:\n",
    "        return ['(none)']\n",
    "\n",
    "# Apply the function to the 'genre_extracted' column\n",
    "df_merged['genre_extracted'] = df_merged['genre_extracted'].apply(convert_or_replace)\n",
    "\n",
    "df_merged.head(10)"
   ],
   "metadata": {
    "collapsed": false
   },
   "id": "6ce916308b0bacaa",
   "execution_count": null
  },
  {
   "cell_type": "code",
   "outputs": [],
   "source": [
    "# print columns\n",
    "df_merged.columns"
   ],
   "metadata": {
    "collapsed": false
   },
   "id": "40d4c847cb546c55",
   "execution_count": null
  },
  {
   "cell_type": "code",
   "outputs": [],
   "source": [
    "# Drop the keyword column as it is not the updated version\n",
    "df_merged.drop('keywords', axis=1, inplace=True)"
   ],
   "metadata": {
    "collapsed": false
   },
   "id": "d828f39f8ef19a90",
   "execution_count": null
  },
  {
   "cell_type": "code",
   "outputs": [],
   "source": [
    "# Flatten all the lists in the 'genre_extracted' column into a single list\n",
    "all_genres = [genre for sublist in df_merged['genre_extracted'].tolist() for genre in sublist]\n",
    "\n",
    "# Convert the flattened list into a set to remove duplicates and then count the unique elements\n",
    "unique_genres_count = len(set(all_genres))\n",
    "\n",
    "print(f'Total number of unique genres: {unique_genres_count}')"
   ],
   "metadata": {
    "collapsed": false
   },
   "id": "106ef4ce14b4a0c9",
   "execution_count": null
  },
  {
   "cell_type": "code",
   "outputs": [],
   "source": [
    "# Explode the 'genre_extracted' column to separate the genres\n",
    "genre_counts = df_merged['genre_extracted'].explode().value_counts()\n",
    "\n",
    "# Get the most common genres\n",
    "top_genres = genre_counts\n",
    "\n",
    "# Plot the number of movies per genre\n",
    "plt.figure(figsize=(12, 8))\n",
    "sns.barplot(x=top_genres.values, y=top_genres.index, palette='viridis')\n",
    "plt.title('Most Common Genres')\n",
    "plt.xlabel('Frequency')\n",
    "plt.ylabel('Genre')\n",
    "plt.show()\n"
   ],
   "metadata": {
    "collapsed": false
   },
   "id": "ae26d9789dfa0b3d",
   "execution_count": null
  },
  {
   "cell_type": "markdown",
   "source": [
    "- Drama is the most common genre, followed by Comedy and Thriller.\n",
    "- The least common genres are none (no Genres listed for those movies), Western, and TV Movie.\n",
    "- The distribution of genres is right-skewed, with a few genres being very common and most genres being less common.\n",
    "- This information can be useful for content-based filtering algorithms. The data suggests that this column has a valid distribution and could be potentially used in further analysis.\n",
    "\n",
    "This distribution could be due to the fact that some genres are more often associated with other genres and more popular in general. For example, Drama is a very broad genre that can encompass many different types of movies, while War and Western movies are more niche genres that appeal to a smaller audience.\n",
    "\n",
    "This information can be useful for content-based filtering algorithms, as it provides insights into the distribution of genres in the dataset."
   ],
   "metadata": {
    "collapsed": false
   },
   "id": "b28fdc6c01b494e1"
  },
  {
   "cell_type": "markdown",
   "source": [
    "We will now explore cross-tabulation of genres to see if \"Drama\" is most commonly associated with the second most common genre \"Comedy\" and the third most common genre \"Thriller\"."
   ],
   "metadata": {
    "collapsed": false
   },
   "id": "80788e2129149073"
  },
  {
   "cell_type": "code",
   "outputs": [],
   "source": [
    "# Create a new DataFrame to hold our genre presence information\n",
    "genre_presence = pd.DataFrame()\n",
    "\n",
    "# Check for presence of each genre of interest\n",
    "for genre in ['Drama', 'Comedy', 'Thriller']:\n",
    "    genre_presence[genre] = df_merged['genre_extracted'].apply(lambda genres: genre in genres)\n",
    "\n",
    "# Perform cross tabulation - count movies that are Drama and also belong to each of the other genres\n",
    "cross_tabulation = pd.crosstab(index=genre_presence['Drama'],\n",
    "                               columns=[genre_presence['Comedy'], genre_presence['Thriller']],\n",
    "                               rownames=['Drama'],\n",
    "                               colnames=['Comedy', 'Thriller'])\n",
    "\n",
    "cross_tabulation"
   ],
   "metadata": {
    "collapsed": false
   },
   "id": "3023bb13f4c78550",
   "execution_count": null
  },
  {
   "cell_type": "markdown",
   "source": [
    "- There are 11,534 movies classified as Drama, but NOT as Comedy or Thriller.\n",
    "- There are 3,060 movies classified as Drama and Thriller, but not as Comedy.\n",
    "- There are 3,666 movies classified as Drama and Comedy, but not as Thriller.\n",
    "\n",
    "The cross-tabulation shows that Drama is not always associated with Comedy or Thriller, but often. This suggests that the genres are not always mutually exclusive and that movies can belong to multiple genres. This information can be useful for content-based filtering algorithms, as it provides insights into the relationships between different genres."
   ],
   "metadata": {
    "collapsed": false
   },
   "id": "238a24bb7bcf32b1"
  },
  {
   "cell_type": "markdown",
   "source": [
    "We will now explore the distribution of ratings for each genre to see if there are any differences in the ratings for different genres."
   ],
   "metadata": {
    "collapsed": false
   },
   "id": "859ae04e6798e496"
  },
  {
   "cell_type": "code",
   "outputs": [],
   "source": [
    "# Merge the ratings and movies dataframes on 'movieId'\n",
    "genre_ratings = df_ratings.merge(df_merged[['movieId', 'genre_extracted']], on='movieId')\n",
    "\n",
    "# Explode the 'genre_extracted' column to have one genre per row\n",
    "genre_ratings = genre_ratings.explode('genre_extracted')\n",
    "\n",
    "# Group the data by genre and rating to count the number of ratings for each score\n",
    "rating_counts_by_genre = genre_ratings.groupby(['genre_extracted', 'rating']).size().unstack(fill_value=0)\n",
    "\n",
    "# Get a list of unique genres for plotting\n",
    "genres = rating_counts_by_genre.index.tolist()\n",
    "\n",
    "n_cols = 3\n",
    "n_rows = (len(genres) + n_cols - 1) // n_cols \n",
    "fig, axs = plt.subplots(n_rows, n_cols, figsize=(n_cols * 5, n_rows * 4), constrained_layout=True)\n",
    "axs = axs.flatten()\n",
    "\n",
    "# Plot the distribution for each genre\n",
    "for i, genre in enumerate(genres):\n",
    "    # Select the current axis\n",
    "    ax = axs[i]\n",
    "\n",
    "    # Get the ratings counts for the current genre\n",
    "    data = rating_counts_by_genre.loc[genre]\n",
    "\n",
    "    # Create a bar plot\n",
    "    data.plot(kind='bar', ax=ax, color='skyblue', edgecolor='black')\n",
    "\n",
    "    # Set the title and labels\n",
    "    ax.set_title(genre)\n",
    "    ax.set_xlabel('Rating Score')\n",
    "    ax.set_ylabel('Number of Ratings')\n",
    "    ax.set_xticklabels(ax.get_xticklabels(), rotation=0)\n",
    "\n",
    "# Hide any unused subplots if the number of genres is less than the number of subplots\n",
    "for j in range(i + 1, len(axs)):\n",
    "    axs[j].set_visible(False)\n",
    "\n",
    "# Add a main title\n",
    "plt.suptitle('Distribution of Ratings by Genre', fontsize=16)\n",
    "\n",
    "# Show the plot\n",
    "plt.show()"
   ],
   "metadata": {
    "collapsed": false
   },
   "id": "900cd9a9e029d36e",
   "execution_count": null
  },
  {
   "cell_type": "markdown",
   "source": [
    "- The distribution of ratings varies across genres, with some genres having more high ratings (e.g., War) and others having more low ratings (e.g., TV Movie).\n",
    "- However, the overall distribution of ratings is quite similar across genres, with most ratings being in the 3.0 to 4.0 range. So considerably high."
   ],
   "metadata": {
    "collapsed": false
   },
   "id": "b71ca6b0416bfce7"
  },
  {
   "cell_type": "markdown",
   "source": [
    "## 2.2 Movies per Year"
   ],
   "metadata": {
    "collapsed": false
   },
   "id": "34837f54bffd192c"
  },
  {
   "cell_type": "code",
   "outputs": [],
   "source": [
    "# See the range of years in the dataset\n",
    "start_year = df_merged['release_date'].min()\n",
    "end_year = df_merged['release_date'].max()\n",
    "\n",
    "print(f\"The dataset starts in the year: {start_year}\")\n",
    "print(f\"The dataset ends in the year: {end_year}\")"
   ],
   "metadata": {
    "collapsed": false
   },
   "id": "a70e5ca108db4b60",
   "execution_count": null
  },
  {
   "cell_type": "code",
   "outputs": [],
   "source": [
    "df_year = df_merged.copy()\n",
    "\n",
    "# Extract the year from the 'release_date' column\n",
    "df_year['year'] = pd.to_datetime(df_merged['release_date'], errors='coerce').dt.year\n",
    "\n",
    "# Count the number of movies released each year\n",
    "movies_per_year = df_year['year'].value_counts().sort_index()\n",
    "\n",
    "# Plot the number of movies released each year\n",
    "plt.figure(figsize=(12, 6))\n",
    "sns.lineplot(x=movies_per_year.index, y=movies_per_year.values, marker='o')\n",
    "plt.title('Number of Movies Released Each Year')\n",
    "plt.xlabel('Year')\n",
    "plt.ylabel('Number of Movies')\n",
    "plt.grid(True)\n",
    "plt.show()"
   ],
   "metadata": {
    "collapsed": false
   },
   "id": "3189c94a3187a8f6",
   "execution_count": null
  },
  {
   "cell_type": "markdown",
   "source": [
    "Early 20th Century (up to 1940s):\n",
    "- Relatively few releases, likely due to the nascent state of the film industry and the technological limitations of the time.\n",
    "\n",
    "Post-World War II Era (late 1940s to 1950s):\n",
    "- A slight increase in movie releases could be attributed to the post-war economic boom and technological advancements in film production.\n",
    "\n",
    "Steady growth up until late 1990s\n",
    "\n",
    "Post-2000 to 2020s:\n",
    "- The explosion in the number of releases may be linked to the rise of the internet, digital distribution, independent filmmaking, and the proliferation of digital platforms requiring content.\n",
    "- Streaming services have also contributed to the increase in movie production and distribution.\n",
    "\n",
    "The drop is due to the fact that the dataset only contains movies up until September 2017."
   ],
   "metadata": {
    "collapsed": false
   },
   "id": "aa06edf6ec04421"
  },
  {
   "cell_type": "markdown",
   "source": [
    "We will now analyze the Top 5 genres trends over time."
   ],
   "metadata": {
    "collapsed": false
   },
   "id": "41c830fcd0d262ec"
  },
  {
   "cell_type": "code",
   "outputs": [],
   "source": [
    "# Convert release_date to datetime and extract the year\n",
    "df_merged['year'] = pd.to_datetime(df_merged['release_date']).dt.year\n",
    "\n",
    "# Initialize a DataFrame to store genre counts by year\n",
    "genre_trends = pd.DataFrame()\n",
    "\n",
    "# List of genres to analyze\n",
    "genres = ['Drama', 'Comedy', 'Thriller', 'Romance', 'Action']\n",
    "\n",
    "# Count the occurrence of each genre by year\n",
    "for genre in genres:\n",
    "    df_merged[genre] = df_merged['genre_extracted'].apply(lambda x: genre in x)\n",
    "    genre_trends[genre] = df_merged.groupby('year')[genre].sum()\n",
    "\n",
    "# Plotting the trends\n",
    "plt.figure(figsize=(14, 7))\n",
    "\n",
    "for genre in genres:\n",
    "    plt.plot(genre_trends.index, genre_trends[genre], label=genre)\n",
    "\n",
    "plt.xlabel('Year')\n",
    "plt.ylabel('Number of Movies')\n",
    "plt.title('Genre Trends Over Time')\n",
    "plt.legend()\n",
    "plt.show()"
   ],
   "metadata": {
    "collapsed": false
   },
   "id": "dfbedd6ce2122c14",
   "execution_count": null
  },
  {
   "cell_type": "markdown",
   "source": [
    "- Drama is the most common genre throughout the years, followed by Comedy.\n",
    "- The trend for Thriller movies seems to be increasing over time, while the trend for Action also increased but now stagnates, like Romance movies."
   ],
   "metadata": {
    "collapsed": false
   },
   "id": "745c20a20262694d"
  },
  {
   "cell_type": "code",
   "outputs": [],
   "source": [
    "# Drop the columns created for the analysis (genres, year)\n",
    "df_merged.drop(['year', 'Drama', 'Comedy', 'Thriller', 'Romance', 'Action'], axis=1, inplace=True)"
   ],
   "metadata": {
    "collapsed": false
   },
   "id": "736b7a3eb437ee8b",
   "execution_count": null
  },
  {
   "cell_type": "markdown",
   "source": [
    "## 2.3 Movie Keywords"
   ],
   "metadata": {
    "collapsed": false
   },
   "id": "29e8df950ac29851"
  },
  {
   "cell_type": "code",
   "outputs": [],
   "source": [
    "# Function to convert strings to lists or replace empty lists\n",
    "def convert_or_replace_keywords(keyword):\n",
    "    if isinstance(keyword, list):\n",
    "        return keyword if keyword else ['(none)']\n",
    "    elif isinstance(keyword, str):\n",
    "        try:\n",
    "            return ast.literal_eval(keyword)\n",
    "        except ValueError:\n",
    "            return ['(none)']\n",
    "    else:\n",
    "        return ['(none)']\n",
    "\n",
    "# Apply the function to the 'keywords_extracted' column\n",
    "df_merged['keywords_extracted'] = df_merged['keywords_extracted'].apply(convert_or_replace_keywords)\n",
    "\n",
    "df_merged.head(10)"
   ],
   "metadata": {
    "collapsed": false
   },
   "id": "9854989d5c671737",
   "execution_count": null
  },
  {
   "cell_type": "code",
   "outputs": [],
   "source": [
    "# Flatten all the lists in the 'keywords_extracted' column into a single list\n",
    "all_keywords = [keyword for sublist in df_merged['keywords_extracted'].tolist() for keyword in sublist]\n",
    "\n",
    "# Convert the flattened list into a set to remove duplicates and then count the unique elements\n",
    "unique_keywords_count = len(set(all_keywords))\n",
    "\n",
    "print(f'Total number of unique Keywords: {unique_keywords_count}')"
   ],
   "metadata": {
    "collapsed": false
   },
   "id": "67ed51d15fcfc843",
   "execution_count": null
  },
  {
   "cell_type": "code",
   "outputs": [],
   "source": [
    "# Plot the top 20 keywords that were assigned to most movies\n",
    "top_keywords = df_merged['keywords_extracted'].explode().value_counts().head(20)\n",
    "\n",
    "plt.figure(figsize=(12, 8))\n",
    "sns.barplot(x=top_keywords.values, y=top_keywords.index, palette='viridis')\n",
    "plt.title('Top 20 Keywords')\n",
    "plt.xlabel('Frequency')\n",
    "plt.ylabel('Keyword')\n",
    "plt.show()"
   ],
   "metadata": {
    "collapsed": false
   },
   "id": "c8a96deb5b81c07b",
   "execution_count": null
  },
  {
   "cell_type": "code",
   "outputs": [],
   "source": [
    "# Most frequent keywords in percentage (including 'none')\n",
    "top_keywords_percentage = top_keywords / len(df_merged) * 100\n",
    "top_keywords_percentage"
   ],
   "metadata": {
    "collapsed": false
   },
   "id": "7f54176396e388fc",
   "execution_count": null
  },
  {
   "cell_type": "markdown",
   "source": [
    "- The most common keyword is 'none' (27.5% of movies), which indicates that many movies do not have any keywords assigned to them.\n",
    "- We need to further investigate this column during Feature Engineering to see if it can be used for content-based filtering.\n",
    "\n",
    "We will exclude the 'none' keyword and plot the top 20 keywords that were assigned to most movies."
   ],
   "metadata": {
    "collapsed": false
   },
   "id": "ac305408a0a39f87"
  },
  {
   "cell_type": "code",
   "outputs": [],
   "source": [
    "# Plot the top 20 keywords that were assigned to most movies without the 'none' keyword\n",
    "top_keywords = df_merged['keywords_extracted'].explode().value_counts().head(21)[1:]\n",
    "\n",
    "plt.figure(figsize=(12, 8))\n",
    "sns.barplot(x=top_keywords.values, y=top_keywords.index, palette='viridis')\n",
    "plt.title('Top 20 Keywords (excluding \"none\")')\n",
    "plt.xlabel('Frequency')\n",
    "plt.ylabel('Keyword')\n",
    "plt.show()"
   ],
   "metadata": {
    "collapsed": false
   },
   "id": "f6c97097df90316f",
   "execution_count": null
  },
  {
   "cell_type": "markdown",
   "source": [
    "- The most common keyword is 'woman director' which indicates that many movies are directed by women or that the movie industry is trying to promote diversity OR that consumers are interested in movies directed by women.\n",
    "- The second most common keyword is 'independent film' which suggests that many movies in the dataset are independent films.\n",
    "- Overall we can see that the keywords are quite diverse and cover a wide range of topics and themes."
   ],
   "metadata": {
    "collapsed": false
   },
   "id": "8a2b59b15cfa2b31"
  },
  {
   "cell_type": "markdown",
   "source": [
    "Top 3 Keywords per Genre (ignoring 'none' keyword)"
   ],
   "metadata": {
    "collapsed": false
   },
   "id": "5dd7328c8b4babe"
  },
  {
   "cell_type": "code",
   "outputs": [],
   "source": [
    "# Filter out rows where 'genre_extracted' is '(none)'\n",
    "filtered_genre_keywords = df_merged[df_merged['genre_extracted'] != '(none)']\n",
    "\n",
    "# Explode the DataFrame on the 'genre_extracted' and 'keywords_extracted' columns to have one genre and one keyword per row\n",
    "filtered_genre_keywords = filtered_genre_keywords.explode('genre_extracted').explode('keywords_extracted')\n",
    "\n",
    "# Now filter out the pseudo-keyword '(none)' from the keywords\n",
    "filtered_genre_keywords = filtered_genre_keywords[filtered_genre_keywords['keywords_extracted'] != '(none)']\n",
    "\n",
    "# Group by genre and keywords, count the occurrences, and get the top 3 for each genre.\n",
    "top_keywords_by_genre = filtered_genre_keywords.groupby(['genre_extracted', 'keywords_extracted']).size().reset_index(name='count')\n",
    "top_keywords_by_genre = top_keywords_by_genre.groupby('genre_extracted').apply(lambda x: x.nlargest(3, 'count')).reset_index(drop=True)\n",
    "\n",
    "# Get a list of unique genres for plotting (excluding '(none)')\n",
    "unique_genres = top_keywords_by_genre['genre_extracted'].unique()\n",
    "unique_genres = unique_genres[unique_genres != '(none)'] \n",
    "\n",
    "# Determine the layout for the subplots.\n",
    "n_cols = 3\n",
    "n_rows = int(np.ceil(len(unique_genres) / n_cols))\n",
    "\n",
    "fig, axs = plt.subplots(n_rows, n_cols, figsize=(5 * n_cols, 4 * n_rows), constrained_layout=True)\n",
    "\n",
    "# Flatten the axes array for easy indexing.\n",
    "axs = axs.flatten()\n",
    "\n",
    "for i, genre in enumerate(unique_genres):\n",
    "    if genre == '(none)':\n",
    "        continue\n",
    "    genre_data = top_keywords_by_genre[top_keywords_by_genre['genre_extracted'] == genre]\n",
    "    sns.barplot(data=genre_data, x='keywords_extracted', y='count', ax=axs[i], palette='viridis')\n",
    "    axs[i].set_title(f\"{genre}\")\n",
    "    axs[i].set_xlabel('Keywords')\n",
    "    axs[i].set_ylabel('Occurrences')\n",
    "    axs[i].tick_params(axis='x', rotation=45)\n",
    "\n",
    "# Hide any unused subplots if the number of genres is not an exact multiple of the layout.\n",
    "for j in range(i + 1, len(axs)):\n",
    "    axs[j].set_visible(False)\n",
    "\n",
    "plt.suptitle('Top 3 Keywords by Genre (excluding \"(none)\")', fontsize=16)\n",
    "plt.show()\n"
   ],
   "metadata": {
    "collapsed": false
   },
   "id": "19d30e9d1708c33a",
   "execution_count": null
  },
  {
   "cell_type": "markdown",
   "source": [
    "- **Consistent Themes**: Certain genres have strong thematic keywords that align with expectations, such as \"alien\" in Science Fiction and \"war\" in War.\n",
    "\n",
    "- **Popular Elements**: Common elements like \"love\" and \"murder\" appear across multiple genres, indicating these themes' broad appeal and versatility.\n",
    "\n",
    "- **Crossover Appeal**: Some keywords suggest a crossover of themes between genres, like \"musical\" appearing in both Family and Fantasy genres, indicating potential overlap in audience appeal.\n",
    "\n",
    "- **Woman Director** seems to be a prominent keyword across different genres, indicating a high interest for this. "
   ],
   "metadata": {
    "collapsed": false
   },
   "id": "4d06fc8c1f9868ee"
  },
  {
   "cell_type": "markdown",
   "source": [
    "Now we do a quick rating comparison for movies with \"woman director\" keyword and those without:"
   ],
   "metadata": {
    "collapsed": false
   },
   "id": "a296df51e4cb570a"
  },
  {
   "cell_type": "code",
   "outputs": [],
   "source": [
    "# Rating Comparison for movies with \"woman director\" keyword and those without\n",
    "\n",
    "# Filter the dataframe to create two separate dataframes\n",
    "movies_with_woman_director = df_merged[df_merged['keywords_extracted'].apply(lambda x: 'woman director' in x)]\n",
    "movies_without_woman_director = df_merged[df_merged['keywords_extracted'].apply(lambda x: 'woman director' not in x)]\n",
    "\n",
    "# Merge with ratings dataframe\n",
    "movies_with_woman_director = movies_with_woman_director.merge(df_ratings, on='movieId')\n",
    "movies_without_woman_director = movies_without_woman_director.merge(df_ratings, on='movieId')\n",
    "\n",
    "# Calculate the average rating for each dataframe\n",
    "avg_rating_with = movies_with_woman_director['rating'].mean()\n",
    "avg_rating_without = movies_without_woman_director['rating'].mean()\n",
    "\n",
    "print(f\"Average rating for movies with 'woman director' keyword: {avg_rating_with}\")\n",
    "print(f\"Average rating for movies without 'woman director' keyword: {avg_rating_without}\")"
   ],
   "metadata": {
    "collapsed": false
   },
   "id": "38d5541458f0c7e6",
   "execution_count": null
  },
  {
   "cell_type": "markdown",
   "source": [
    "- The average rating for movies with 'woman director' keyword does not seem to be significantly different from the average rating for movies without. Suggesting that the presence of a female director does not necessarily correlate with the quality of the movie."
   ],
   "metadata": {
    "collapsed": false
   },
   "id": "eceacca5052a8051"
  },
  {
   "cell_type": "markdown",
   "source": [
    "## 2.4 Actors"
   ],
   "metadata": {
    "collapsed": false
   },
   "id": "f2c80386f00b0fe5"
  },
  {
   "cell_type": "code",
   "outputs": [],
   "source": [
    "# Show distribution of actors participating in how many films\n",
    "actors_df = df_merged[['actors']].explode('actors')\n",
    "actors_df = actors_df.groupby('actors')[['actors']].count()\n",
    "actors_df.columns = ['count']\n",
    "actors_df = actors_df.sort_values('count', ascending=False)\n",
    "\n",
    "fig, ax = plt.subplots()\n",
    "\n",
    "plt.hist(actors_df, range=(0,170), bins=24)\n",
    "plt.grid(alpha=.5)\n",
    "plt.title(f\"Distribution of Number of Movies Produced by Actors\\n(Tot.={len(actors_df)} Actors)\")\n",
    "plt.yscale('log')\n",
    "plt.ylabel('Number of Actors (log-scale)')\n",
    "plt.xlabel('Number of Movies Produced')"
   ],
   "metadata": {
    "collapsed": false
   },
   "id": "481dabcbcbcea4d2",
   "execution_count": null
  },
  {
   "cell_type": "markdown",
   "source": [
    "The majority of actors have appeared in fewer than 5 films, as indicated by the tall bars on the left. There's a sharp decrease in the number of actors who have appeared in more films, which is characteristic of a \"long-tail\" distribution. A small number of actors have appeared in up to 120 movies, as shown by the bars to the right, indicating that very few actors have extremely high movie counts."
   ],
   "metadata": {
    "collapsed": false
   },
   "id": "e2bf0e5dc8afdf6d"
  },
  {
   "cell_type": "code",
   "outputs": [],
   "source": [
    "print(\"The Top 10 Most Productive Actors in the Dataset are:\")\n",
    "actors_df_10 = actors_df.head(10).reset_index()\n",
    "actors_df_10.index = range(1,11)\n",
    "actors_df_10"
   ],
   "metadata": {
    "collapsed": false
   },
   "id": "9ac2e19ec02b2dcd",
   "execution_count": null
  },
  {
   "cell_type": "code",
   "outputs": [],
   "source": [
    "# Quantiles for 'count' column in actors_df\n",
    "quantiles = actors_df['count'].quantile([0.1, 0.25, 0.5, 0.75, 0.9, 0.95, 0.99])\n",
    "\n",
    "# Create a formatted string for the output\n",
    "quantile_output = \"\\n\".join([f\"{int(quantile * 100)}th percentile: {value:.0f} movie(s)\"\n",
    "                             for quantile, value in quantiles.items()])\n",
    "\n",
    "print(quantile_output)"
   ],
   "metadata": {
    "collapsed": false
   },
   "id": "19b17232253ce5c2",
   "execution_count": null
  },
  {
   "cell_type": "markdown",
   "source": [
    "90% of actors have appeared in 5 or fewer movies, highlighting a significant concentration of actors with a limited number of appearances. At the high end, the top 1% of actors have been in 26 or more movies, demonstrating a small proportion of actors with extensive filmographies compared to their peers."
   ],
   "metadata": {
    "collapsed": false
   },
   "id": "47925597053cfa69"
  },
  {
   "cell_type": "markdown",
   "source": [
    "## 2.5 Movie Runtime"
   ],
   "metadata": {
    "collapsed": false
   },
   "id": "e903b73b1bbe85bc"
  },
  {
   "cell_type": "code",
   "outputs": [],
   "source": [
    "# Distribution of movie runtime\n",
    "fig, ax = plt.subplots()\n",
    "\n",
    "plt.hist(df_merged['runtime'], range=(0,200), bins=20)\n",
    "plt.grid(alpha=.5)\n",
    "plt.title('Distribution of Movie Durations')\n",
    "plt.xlabel('Runtime')\n",
    "plt.ylabel('Number of Movies')\n",
    "plt.xticks([n*20 for n in range(11)])\n",
    "plt.vlines(np.mean(df_merged['runtime']), ymin=0, ymax=14000, color='red')\n",
    "plt.annotate(f\"Mean: {round(np.mean(df_merged['runtime']), 1)} min\", xy=(99, 14000))"
   ],
   "metadata": {
    "collapsed": false
   },
   "id": "dc0e6cbd37d2a045",
   "execution_count": null
  },
  {
   "cell_type": "markdown",
   "source": [
    "The majority of movies have a runtime around the mean of 100.1 minutes, forming a roughly normal distribution as indicated by the bell shape of the histogram. The tallest bin, signifying the most common runtime range, is centered around the mean, which suggests that most movies in the dataset are close to 100 minutes long."
   ],
   "metadata": {
    "collapsed": false
   },
   "id": "817734cc1105c8d4"
  },
  {
   "cell_type": "code",
   "outputs": [],
   "source": [
    "df_merged[\"runtime\"].describe()"
   ],
   "metadata": {
    "collapsed": false
   },
   "id": "75f826d1ebc871f7",
   "execution_count": null
  },
  {
   "cell_type": "code",
   "outputs": [],
   "source": [
    "# Show 10 longest movies incl. runtime\n",
    "ten_longest_movies = df_merged.sort_values(by='runtime', ascending=False)[['title', 'runtime']].head(10)\n",
    "print(ten_longest_movies)"
   ],
   "metadata": {
    "collapsed": false
   },
   "id": "df33949aae30e8ec",
   "execution_count": null
  },
  {
   "cell_type": "markdown",
   "source": [
    "## 2.6 Production Countries"
   ],
   "metadata": {
    "collapsed": false
   },
   "id": "2ba3de008263075a"
  },
  {
   "cell_type": "code",
   "outputs": [],
   "source": [
    "# Show number of movies by production country\n",
    "countries_df = df_merged[['title', 'production_country_extracted']].explode('production_country_extracted')\n",
    "countries_df = countries_df.groupby('production_country_extracted')['title'].count().sort_values(ascending=False)\n",
    "plt.bar(x=countries_df.index[:20], height=countries_df[:20])\n",
    "plt.title(f\"Number of Movies by Production Countries\\n(Top 20; Tot. {len(countries_df)} countries)\")\n",
    "plt.grid(axis='y', alpha=.5)\n",
    "plt.ylabel('Number of Movies')\n",
    "plt.xlabel('Countries')\n",
    "plt.xticks(rotation=90);"
   ],
   "metadata": {
    "collapsed": false
   },
   "id": "72c341d72d2273b1",
   "execution_count": null
  },
  {
   "cell_type": "markdown",
   "source": [
    "The US is by far the country with most movies produced, followed by 4 European countries. The first Asian country, Japan, is seventh."
   ],
   "metadata": {
    "collapsed": false
   },
   "id": "d1fbe02078f1a9cf"
  },
  {
   "cell_type": "code",
   "outputs": [],
   "source": [
    "# Top 10 countries that produce the longest movies\n",
    "exploded_df = df_merged.explode('production_country_extracted')\n",
    "average_runtime_by_country = exploded_df.groupby('production_country_extracted')['runtime'].mean().sort_values(ascending=False)\n",
    "print(average_runtime_by_country.head(10))"
   ],
   "metadata": {
    "collapsed": false
   },
   "id": "4ad917d1789d592b",
   "execution_count": null
  },
  {
   "cell_type": "markdown",
   "source": [
    "## 2.7 Languages"
   ],
   "metadata": {
    "collapsed": false
   },
   "id": "d25594ce7a425f09"
  },
  {
   "cell_type": "code",
   "outputs": [],
   "source": [
    "df_merged.head()"
   ],
   "metadata": {
    "collapsed": false
   },
   "id": "8e99d7af7a575cec",
   "execution_count": null
  },
  {
   "cell_type": "code",
   "outputs": [],
   "source": [
    "# Show number of movies by spoken language\n",
    "languages_df = df_merged[['title', 'spoken_language_extracted']].explode('spoken_language_extracted')\n",
    "languages_df = languages_df.groupby('spoken_language_extracted')['title'].count().sort_values(ascending=False)\n",
    "languages_df"
   ],
   "metadata": {
    "collapsed": false
   },
   "id": "49d1c6a344e9810a",
   "execution_count": null
  },
  {
   "cell_type": "code",
   "outputs": [],
   "source": [
    "plt.bar(x=languages_df.index[:20], height=languages_df[:20])\n",
    "plt.title(f\"Number of Movies by Languages Spoken\\n(Top 20; Tot. {len(languages_df)} languages)\")\n",
    "plt.grid(axis='y', alpha=.5)\n",
    "plt.ylabel('Number of Movies')\n",
    "plt.xlabel('Languages (trimmed)')\n",
    "plt.xticks(rotation=90);"
   ],
   "metadata": {
    "collapsed": false
   },
   "id": "500a3f9029003212",
   "execution_count": null
  },
  {
   "cell_type": "markdown",
   "source": [
    "- The most common language is English, followed by French and German.\n",
    "- The distribution of languages is right-skewed, with English obviously being the most common language and most movies being produced in USA and UK."
   ],
   "metadata": {
    "collapsed": false
   },
   "id": "f561b1e5d205e8c"
  },
  {
   "cell_type": "markdown",
   "source": [
    "We try to find the most common genres per language."
   ],
   "metadata": {
    "collapsed": false
   },
   "id": "8fa2121e28bac963"
  },
  {
   "cell_type": "code",
   "outputs": [],
   "source": [
    "# Explode the 'genre_extracted' column\n",
    "df_genres_exploded = df_merged.explode('genre_extracted')\n",
    "\n",
    "# Explode the 'spoken_language_extracted' column\n",
    "df_languages_exploded = df_merged.explode('spoken_language_extracted')\n",
    "\n",
    "# Find the top 10 most common genres\n",
    "top_genres = df_genres_exploded['genre_extracted'].value_counts().nlargest(10).index\n",
    "\n",
    "# Find the top 10 most common languages\n",
    "top_languages = df_languages_exploded['spoken_language_extracted'].value_counts().nlargest(10).index\n",
    "\n",
    "# Filter the exploded DataFrame to only include rows with top genres and top languages\n",
    "df_filtered = df_merged[df_merged['genre_extracted'].apply(lambda x: any(genre in x for genre in top_genres)) & df_merged['spoken_language_extracted'].apply(lambda x: any(language in x for language in top_languages))]\n",
    "\n",
    "# Re-explode the filtered DataFrame to prepare for crosstab\n",
    "df_filtered = df_filtered.explode('genre_extracted')\n",
    "df_filtered = df_filtered.explode('spoken_language_extracted')\n",
    "\n",
    "# Cross-tabulate to count the genres within each of the top languages\n",
    "crosstab_result = pd.crosstab(df_filtered['spoken_language_extracted'], df_filtered['genre_extracted'])\n",
    "\n",
    "# Get the most common genre for each of the top languages\n",
    "most_common_genre_per_language = crosstab_result.idxmax(axis=1)\n",
    "\n",
    "# Display the most common genre for each language\n",
    "most_common_genre_per_language"
   ],
   "metadata": {
    "collapsed": false
   },
   "id": "4d323f5dff583cf2",
   "execution_count": null
  },
  {
   "cell_type": "markdown",
   "source": [
    "- The most common genre overall is Drama\n",
    "- The column 'spoken_language_extracted' contains languages in their original names, which could be cleaned up for better analysis.\n",
    "\n",
    "It also contains a language called Esperanto which is a constructed international auxiliary language, which was designed to have a simple and regular grammar, with a vocabulary primarily derived from Romance and Germanic language roots see https://en.wikipedia.org/wiki/Esperanto#:~:text=Esperanto%20(%2F%CB%8C%C9%9Bsp,%22%20(la%20Lingvo%20Internacia)\n",
    "\n",
    "We will drop the column 'spoken_language_extracted' as it is not relevant for our analysis and it contains a lot of sparse data. Additionally, the column is kind of uniform with most movies being in English."
   ],
   "metadata": {
    "collapsed": false
   },
   "id": "ab518ce3a5918696"
  },
  {
   "cell_type": "code",
   "outputs": [],
   "source": [
    "df_merged.drop(['spoken_language_extracted'], axis=1, inplace=True)"
   ],
   "metadata": {
    "collapsed": false
   },
   "id": "8100b9def309ceb3",
   "execution_count": null
  },
  {
   "cell_type": "markdown",
   "source": [
    "## 2.8 Conclusion"
   ],
   "metadata": {
    "collapsed": false
   },
   "id": "c7b7577ef1d81497"
  },
  {
   "cell_type": "markdown",
   "source": [
    "- **Completeness**: The dataset is quite comprehensive and all adjustments to missing values, outliers etc. have been made. It contains a lot of ratings, crucial for collaborative filtering algorithms.\n",
    "- **Consistency**: The data is consistent and well-structured, with no apparent inconsistencies or contradictions.\n",
    "- **Correctness**: The data appears to be correct and accurate, with no obvious errors or biases.\n",
    "- **Uniqueness**: The dataset is unique and values represent distinct movies, genres, actors, etc.\n",
    "- **Timeliness**: The dataset is up-to-date as of September 2017, which is sufficient for our analysis and model development. However, it is always beneficial to have the most recent data available, which could be a limitation.\n",
    "- **Stability**: The dataset is stable and unlikely to change over time, as it is historical data that does not require frequent updates. The source is reliable and so is the data is comparable among sources over time.\n",
    "- **Relevance**: The dataset contains a wide variety of movies, genres, and keywords, making it highly relevant for our business case to develop a high quality recommendation system.\n",
    "- **Contextualization**: The dataset is well-organized and structured, making it easy to understand and analyze. The columns are clearly labeled and the data is presented in a logical manner, including annotations and explanations where necessary.\n",
    "- **Trustworthiness**: The dataset is from a reputable source, The Movie Database (TMDb), which is a popular movie and TV show database. The data is likely to be accurate and reliable."
   ],
   "metadata": {
    "collapsed": false
   },
   "id": "c135f10a88332f17"
  },
  {
   "cell_type": "markdown",
   "source": [
    "The dataset is suitable for a hybrid recommendation approach that combines content-based and collaborative filtering methods. The diverse range of genres and the detailed user ratings can be used to create personalized recommendations, while the large number of ratings can be used to find similar users and movies for collaborative filtering.\n",
    "\n",
    "Some potential challenges include handling sparse data in the 'keywords_extracted' column and dealing with the long-tail distribution of actors and genres. These challenges can be addressed through feature engineering to improve the quality of recommendations.\n",
    "\n",
    "All insights learned from the EDA are valuable in the next step of building the features for the model training."
   ],
   "metadata": {
    "collapsed": false
   },
   "id": "a6c0142dbb08f210"
  },
  {
   "cell_type": "code",
   "outputs": [],
   "source": [
    "# Save the cleaned datasets\n",
    "df_ratings.to_pickle('data/df_ratings_cleaned.pkl')\n",
    "df_merged.to_pickle('data/df_movies_cleaned.pkl')"
   ],
   "metadata": {
    "collapsed": false
   },
   "id": "445e739168550d6d",
   "execution_count": null
  }
 ],
 "metadata": {
  "kernelspec": {
   "display_name": "Python 3",
   "language": "python",
   "name": "python3"
  },
  "language_info": {
   "codemirror_mode": {
    "name": "ipython",
    "version": 2
   },
   "file_extension": ".py",
   "mimetype": "text/x-python",
   "name": "python",
   "nbconvert_exporter": "python",
   "pygments_lexer": "ipython2",
   "version": "2.7.6"
  }
 },
 "nbformat": 4,
 "nbformat_minor": 5
}
