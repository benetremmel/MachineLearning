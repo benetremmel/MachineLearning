{
 "nbformat": 4,
 "nbformat_minor": 0,
 "metadata": {
  "colab": {
   "provenance": [],
   "toc_visible": true
  },
  "kernelspec": {
   "name": "python3",
   "language": "python",
   "display_name": "Python 3 (ipykernel)"
  },
  "language_info": {
   "name": "python"
  }
 },
 "cells": [
  {
   "cell_type": "markdown",
   "source": [
    "## Introduction"
   ],
   "metadata": {
    "id": "goQJe1d1i8ZU"
   }
  },
  {
   "cell_type": "markdown",
   "source": [
    "In this notebook we will use the Tensorflow Recommenders (TFRS) library to build a recommendation system. TFRS is a library for building deep learning recommendation systems. It helps with the full workflow of building a recommendation system: data preparation, model formulation, training, evaluation, and deployment. TFRS is built on top of TensorFlow 2 and Keras, and is designed to be scalable and easy to use."
   ],
   "metadata": {
    "collapsed": false
   }
  },
  {
   "cell_type": "markdown",
   "source": [
    "We are first focusing on a retrieval system, which is a model that predicts a set of movies from the catalogue that the user is likely to watch. We're going to treat the dataset as an implicit system. This means that we are not trying to predict the rating that a user will give to a movie. Instead, we are trying to rank movies by their relevance to the user. This is a common scenario in many recommendation systems, where we are trying to predict the items that a user is most likely to interact with.\n",
    "Treating Movielens as an implicit system means that we're interpreting users' actions (watching movies) as indicators of their preferences. Specifically:\n",
    "\n",
    "1. Every movie a user has watched is considered a positive example, indicating that they like or are interested in that movie.\n",
    "2. Every movie a user hasn't watched is treated as an implicit negative example, implying that they haven't shown interest in it or haven't been exposed to it yet.\n",
    "\n",
    "This approach helps us make predictions about which movies users might enjoy based on their past behavior without requiring explicit feedback or ratings for each movie."
   ],
   "metadata": {
    "collapsed": false
   }
  },
  {
   "cell_type": "markdown",
   "source": [
    "In a second step we will build a ranking model that predicts the top 10 movies that a user is likely to watch. This model will be trained on the same dataset as the retrieval model, but will be optimized for ranking accuracy rather than relevance."
   ],
   "metadata": {
    "collapsed": false
   }
  },
  {
   "cell_type": "markdown",
   "source": [
    "## Imports"
   ],
   "metadata": {
    "collapsed": false
   }
  },
  {
   "cell_type": "code",
   "execution_count": 1,
   "metadata": {
    "colab": {
     "base_uri": "https://localhost:8080/"
    },
    "id": "TSN-y-Lxi6QD",
    "outputId": "ff8cb40e-fdf6-4b1f-d391-747e4bcf26b1",
    "ExecuteTime": {
     "end_time": "2024-05-02T10:11:46.946744Z",
     "start_time": "2024-05-02T10:11:41.710610Z"
    }
   },
   "outputs": [
    {
     "name": "stdout",
     "output_type": "stream",
     "text": [
      "\u001B[31mERROR: Could not find a version that satisfies the requirement scann (from versions: none)\u001B[0m\u001B[31m\r\n",
      "\u001B[0m\u001B[31mERROR: No matching distribution found for scann\u001B[0m\u001B[31m\r\n",
      "\u001B[0m"
     ]
    }
   ],
   "source": [
    "!pip install -q tensorflow-recommenders\n",
    "!pip install -q --upgrade tensorflow-datasets\n",
    "!pip install -q scann"
   ]
  },
  {
   "cell_type": "code",
   "source": [
    "import os\n",
    "import pprint\n",
    "import tempfile\n",
    "import pandas as pd\n",
    "import matplotlib.pyplot as plt\n",
    "\n",
    "from typing import Dict, Text\n",
    "\n",
    "import numpy as np\n",
    "import tensorflow as tf\n",
    "import tensorflow_datasets as tfds\n",
    "import tensorflow_recommenders as tfrs"
   ],
   "metadata": {
    "id": "IWgpA23Mi_et",
    "ExecuteTime": {
     "end_time": "2024-05-02T10:11:50.437413Z",
     "start_time": "2024-05-02T10:11:46.948064Z"
    }
   },
   "execution_count": 2,
   "outputs": []
  },
  {
   "cell_type": "markdown",
   "source": [
    "## Preprocessing"
   ],
   "metadata": {
    "id": "tqd1icB9jewq"
   }
  },
  {
   "cell_type": "markdown",
   "source": [
    "### Stratified Sampling"
   ],
   "metadata": {
    "collapsed": false
   }
  },
  {
   "cell_type": "code",
   "outputs": [],
   "source": [
    "# transform pickle file to pandas dataframe\n",
    "ratings_df = pd.read_pickle('data/df_ratings_cleaned.pkl')\n",
    "movies_df = pd.read_pickle('data/df_movies_cleaned.pkl')"
   ],
   "metadata": {
    "collapsed": false,
    "ExecuteTime": {
     "end_time": "2024-05-02T10:11:51.869754Z",
     "start_time": "2024-05-02T10:11:50.438600Z"
    }
   },
   "execution_count": 3
  },
  {
   "cell_type": "code",
   "outputs": [
    {
     "data": {
      "text/plain": "   userId  movieId  rating           timestamp  user_mean_rating  \\\n0       1      110     1.0 2015-03-09 22:52:09          4.277778   \n1       1      147     4.5 2015-03-09 23:07:15          4.277778   \n2       1      858     5.0 2015-03-09 22:52:03          4.277778   \n3       1     1221     5.0 2015-03-09 22:52:26          4.277778   \n4       1     1246     5.0 2015-03-09 22:52:36          4.277778   \n\n   liked_by_user  \n0          False  \n1           True  \n2           True  \n3           True  \n4           True  ",
      "text/html": "<div>\n<style scoped>\n    .dataframe tbody tr th:only-of-type {\n        vertical-align: middle;\n    }\n\n    .dataframe tbody tr th {\n        vertical-align: top;\n    }\n\n    .dataframe thead th {\n        text-align: right;\n    }\n</style>\n<table border=\"1\" class=\"dataframe\">\n  <thead>\n    <tr style=\"text-align: right;\">\n      <th></th>\n      <th>userId</th>\n      <th>movieId</th>\n      <th>rating</th>\n      <th>timestamp</th>\n      <th>user_mean_rating</th>\n      <th>liked_by_user</th>\n    </tr>\n  </thead>\n  <tbody>\n    <tr>\n      <th>0</th>\n      <td>1</td>\n      <td>110</td>\n      <td>1.0</td>\n      <td>2015-03-09 22:52:09</td>\n      <td>4.277778</td>\n      <td>False</td>\n    </tr>\n    <tr>\n      <th>1</th>\n      <td>1</td>\n      <td>147</td>\n      <td>4.5</td>\n      <td>2015-03-09 23:07:15</td>\n      <td>4.277778</td>\n      <td>True</td>\n    </tr>\n    <tr>\n      <th>2</th>\n      <td>1</td>\n      <td>858</td>\n      <td>5.0</td>\n      <td>2015-03-09 22:52:03</td>\n      <td>4.277778</td>\n      <td>True</td>\n    </tr>\n    <tr>\n      <th>3</th>\n      <td>1</td>\n      <td>1221</td>\n      <td>5.0</td>\n      <td>2015-03-09 22:52:26</td>\n      <td>4.277778</td>\n      <td>True</td>\n    </tr>\n    <tr>\n      <th>4</th>\n      <td>1</td>\n      <td>1246</td>\n      <td>5.0</td>\n      <td>2015-03-09 22:52:36</td>\n      <td>4.277778</td>\n      <td>True</td>\n    </tr>\n  </tbody>\n</table>\n</div>"
     },
     "execution_count": 4,
     "metadata": {},
     "output_type": "execute_result"
    }
   ],
   "source": [
    "ratings_df.head()"
   ],
   "metadata": {
    "collapsed": false,
    "ExecuteTime": {
     "end_time": "2024-05-02T10:11:51.889392Z",
     "start_time": "2024-05-02T10:11:51.870501Z"
    }
   },
   "execution_count": 4
  },
  {
   "cell_type": "code",
   "outputs": [
    {
     "data": {
      "text/plain": "(24829828, 6)"
     },
     "execution_count": 5,
     "metadata": {},
     "output_type": "execute_result"
    }
   ],
   "source": [
    "# nr of entries in the dataset\n",
    "ratings_df.shape"
   ],
   "metadata": {
    "collapsed": false,
    "ExecuteTime": {
     "end_time": "2024-05-02T10:11:51.891605Z",
     "start_time": "2024-05-02T10:11:51.889950Z"
    }
   },
   "execution_count": 5
  },
  {
   "cell_type": "markdown",
   "source": [
    "We will use stratified sampling to downsample the ratings dataset to 100,000 entries. This will help us reduce the size of the dataset while maintaining the distribution of ratings. We will categorize the ratings into bins and sample an equal number of entries from each bin to ensure that the downsampled dataset is representative of the original dataset."
   ],
   "metadata": {
    "collapsed": false
   }
  },
  {
   "cell_type": "code",
   "outputs": [
    {
     "name": "stderr",
     "output_type": "stream",
     "text": [
      "/var/folders/08/34vp8sgn1vj1l_v1dzyhrdk00000gn/T/ipykernel_5511/1716066896.py:5: FutureWarning: The default of observed=False is deprecated and will be changed to True in a future version of pandas. Pass observed=False to retain current behavior or observed=True to adopt the future default and silence this warning.\n",
      "  strat_sampled_ratings_df = ratings_df.groupby('rating_category', group_keys=False).apply(\n"
     ]
    },
    {
     "name": "stdout",
     "output_type": "stream",
     "text": [
      "Original DF Shape: (24829828, 7)\n",
      "Sampled DF Shape: (100000, 7)\n"
     ]
    }
   ],
   "source": [
    "# We will use pandas' cut function to categorize these ratings\n",
    "ratings_df['rating_category'] = pd.cut(ratings_df['rating'], bins=np.arange(0.5, 6.0, 0.5), include_lowest=True, right=False)\n",
    "\n",
    "# Stratified sampling based on rating categories\n",
    "strat_sampled_ratings_df = ratings_df.groupby('rating_category', group_keys=False).apply(\n",
    "    lambda x: x.sample(int(np.rint(100000 * len(x) / len(ratings_df))), random_state=42)\n",
    ")\n",
    "\n",
    "print(f\"Original DF Shape: {ratings_df.shape}\")\n",
    "print(f\"Sampled DF Shape: {strat_sampled_ratings_df.shape}\")"
   ],
   "metadata": {
    "collapsed": false,
    "ExecuteTime": {
     "end_time": "2024-05-02T10:11:55.063014Z",
     "start_time": "2024-05-02T10:11:51.892046Z"
    }
   },
   "execution_count": 6
  },
  {
   "cell_type": "code",
   "outputs": [
    {
     "data": {
      "text/plain": "         Original   Sampled\ncount  24829828.0  100000.0\nmean      3.52898   3.52899\nstd      1.060177  1.060165\nmin           0.5       0.5\n25%           3.0       3.0\n50%           3.5       3.5\n75%           4.0       4.0\nmax           5.0       5.0",
      "text/html": "<div>\n<style scoped>\n    .dataframe tbody tr th:only-of-type {\n        vertical-align: middle;\n    }\n\n    .dataframe tbody tr th {\n        vertical-align: top;\n    }\n\n    .dataframe thead th {\n        text-align: right;\n    }\n</style>\n<table border=\"1\" class=\"dataframe\">\n  <thead>\n    <tr style=\"text-align: right;\">\n      <th></th>\n      <th>Original</th>\n      <th>Sampled</th>\n    </tr>\n  </thead>\n  <tbody>\n    <tr>\n      <th>count</th>\n      <td>24829828.0</td>\n      <td>100000.0</td>\n    </tr>\n    <tr>\n      <th>mean</th>\n      <td>3.52898</td>\n      <td>3.52899</td>\n    </tr>\n    <tr>\n      <th>std</th>\n      <td>1.060177</td>\n      <td>1.060165</td>\n    </tr>\n    <tr>\n      <th>min</th>\n      <td>0.5</td>\n      <td>0.5</td>\n    </tr>\n    <tr>\n      <th>25%</th>\n      <td>3.0</td>\n      <td>3.0</td>\n    </tr>\n    <tr>\n      <th>50%</th>\n      <td>3.5</td>\n      <td>3.5</td>\n    </tr>\n    <tr>\n      <th>75%</th>\n      <td>4.0</td>\n      <td>4.0</td>\n    </tr>\n    <tr>\n      <th>max</th>\n      <td>5.0</td>\n      <td>5.0</td>\n    </tr>\n  </tbody>\n</table>\n</div>"
     },
     "execution_count": 7,
     "metadata": {},
     "output_type": "execute_result"
    }
   ],
   "source": [
    "# Compare summary statistics of the original and downsampled datasets\n",
    "def summary_stats_comparison(original_df, downsampled_df, column):\n",
    "    \"\"\"Compare summary statistics of a column in the original and downsampled datasets.\"\"\"\n",
    "    original_stats = original_df[column].describe()\n",
    "    downsampled_stats = downsampled_df[column].describe()\n",
    "    \n",
    "    summary_stats = pd.concat([original_stats, downsampled_stats], axis=1)\n",
    "    summary_stats.columns = ['Original', 'Sampled']\n",
    "    \n",
    "    return summary_stats\n",
    "\n",
    "summary_stats_comparison(ratings_df, strat_sampled_ratings_df, 'rating')"
   ],
   "metadata": {
    "collapsed": false,
    "ExecuteTime": {
     "end_time": "2024-05-02T10:11:55.830394Z",
     "start_time": "2024-05-02T10:11:55.064245Z"
    }
   },
   "execution_count": 7
  },
  {
   "cell_type": "code",
   "outputs": [
    {
     "data": {
      "text/plain": "<Figure size 1400x700 with 1 Axes>",
      "image/png": "[encoded data removed]"
     },
     "metadata": {},
     "output_type": "display_data"
    }
   ],
   "source": [
    "# Define your bins\n",
    "bins = np.arange(0.5, 6.0, 0.5)\n",
    "\n",
    "# Calculate bin centers\n",
    "bin_centers = 0.5 * (bins[:-1] + bins[1:])\n",
    "\n",
    "# Define width of each bar\n",
    "bar_width = 0.2\n",
    "\n",
    "# Plot histograms\n",
    "plt.figure(figsize=(14, 7))\n",
    "plt.bar(bin_centers - bar_width/2, ratings_df['rating'].value_counts(normalize=True, sort=False, bins=bins), width=bar_width, alpha=0.7, label='Original', align='center')\n",
    "plt.bar(bin_centers + bar_width/2, strat_sampled_ratings_df['rating'].value_counts(normalize=True, sort=False, bins=bins), width=bar_width, alpha=0.7, label='Sampled', align='center')\n",
    "\n",
    "plt.title('Comparison of Rating Distributions')\n",
    "plt.xlabel('Rating')\n",
    "plt.ylabel('Proportion')\n",
    "plt.xticks(bin_centers, labels=[f\"{bin:.1f}\" for bin in bins[:-1]])  # Set x-tick labels to match bin centers\n",
    "plt.legend()\n",
    "plt.show()"
   ],
   "metadata": {
    "collapsed": false,
    "ExecuteTime": {
     "end_time": "2024-05-02T10:11:57.460205Z",
     "start_time": "2024-05-02T10:11:55.831122Z"
    }
   },
   "execution_count": 8
  },
  {
   "cell_type": "code",
   "outputs": [
    {
     "data": {
      "text/plain": "          userId  movieId  rating           timestamp  user_mean_rating  \\\n11800835  128365     1037     0.5 2009-10-19 10:10:37          3.104895   \n3192182    34770    27316     0.5 2006-06-10 09:14:33          1.329146   \n10041143  108700      307     0.5 2010-05-12 21:26:12          3.729651   \n14911364  162680    73929     0.5 2015-11-22 18:22:29          3.505618   \n13024846  141941     4308     0.5 2006-06-10 05:21:47          2.987685   \n...          ...      ...     ...                 ...               ...   \n2596165    28184     2912     5.0 2000-11-21 00:08:40          3.588011   \n2174721    23629     1185     5.0 1997-03-13 18:00:11          3.734463   \n23363519  254448    49272     5.0 2016-08-08 15:59:55          3.819149   \n19688576  214494      541     5.0 2005-04-05 14:26:59          3.395652   \n2412565    26230      474     5.0 1996-06-02 17:39:48          4.155963   \n\n          liked_by_user rating_category  \n11800835          False      [0.5, 1.0)  \n3192182           False      [0.5, 1.0)  \n10041143          False      [0.5, 1.0)  \n14911364          False      [0.5, 1.0)  \n13024846          False      [0.5, 1.0)  \n...                 ...             ...  \n2596165            True      [5.0, 5.5)  \n2174721            True      [5.0, 5.5)  \n23363519           True      [5.0, 5.5)  \n19688576           True      [5.0, 5.5)  \n2412565            True      [5.0, 5.5)  \n\n[100000 rows x 7 columns]",
      "text/html": "<div>\n<style scoped>\n    .dataframe tbody tr th:only-of-type {\n        vertical-align: middle;\n    }\n\n    .dataframe tbody tr th {\n        vertical-align: top;\n    }\n\n    .dataframe thead th {\n        text-align: right;\n    }\n</style>\n<table border=\"1\" class=\"dataframe\">\n  <thead>\n    <tr style=\"text-align: right;\">\n      <th></th>\n      <th>userId</th>\n      <th>movieId</th>\n      <th>rating</th>\n      <th>timestamp</th>\n      <th>user_mean_rating</th>\n      <th>liked_by_user</th>\n      <th>rating_category</th>\n    </tr>\n  </thead>\n  <tbody>\n    <tr>\n      <th>11800835</th>\n      <td>128365</td>\n      <td>1037</td>\n      <td>0.5</td>\n      <td>2009-10-19 10:10:37</td>\n      <td>3.104895</td>\n      <td>False</td>\n      <td>[0.5, 1.0)</td>\n    </tr>\n    <tr>\n      <th>3192182</th>\n      <td>34770</td>\n      <td>27316</td>\n      <td>0.5</td>\n      <td>2006-06-10 09:14:33</td>\n      <td>1.329146</td>\n      <td>False</td>\n      <td>[0.5, 1.0)</td>\n    </tr>\n    <tr>\n      <th>10041143</th>\n      <td>108700</td>\n      <td>307</td>\n      <td>0.5</td>\n      <td>2010-05-12 21:26:12</td>\n      <td>3.729651</td>\n      <td>False</td>\n      <td>[0.5, 1.0)</td>\n    </tr>\n    <tr>\n      <th>14911364</th>\n      <td>162680</td>\n      <td>73929</td>\n      <td>0.5</td>\n      <td>2015-11-22 18:22:29</td>\n      <td>3.505618</td>\n      <td>False</td>\n      <td>[0.5, 1.0)</td>\n    </tr>\n    <tr>\n      <th>13024846</th>\n      <td>141941</td>\n      <td>4308</td>\n      <td>0.5</td>\n      <td>2006-06-10 05:21:47</td>\n      <td>2.987685</td>\n      <td>False</td>\n      <td>[0.5, 1.0)</td>\n    </tr>\n    <tr>\n      <th>...</th>\n      <td>...</td>\n      <td>...</td>\n      <td>...</td>\n      <td>...</td>\n      <td>...</td>\n      <td>...</td>\n      <td>...</td>\n    </tr>\n    <tr>\n      <th>2596165</th>\n      <td>28184</td>\n      <td>2912</td>\n      <td>5.0</td>\n      <td>2000-11-21 00:08:40</td>\n      <td>3.588011</td>\n      <td>True</td>\n      <td>[5.0, 5.5)</td>\n    </tr>\n    <tr>\n      <th>2174721</th>\n      <td>23629</td>\n      <td>1185</td>\n      <td>5.0</td>\n      <td>1997-03-13 18:00:11</td>\n      <td>3.734463</td>\n      <td>True</td>\n      <td>[5.0, 5.5)</td>\n    </tr>\n    <tr>\n      <th>23363519</th>\n      <td>254448</td>\n      <td>49272</td>\n      <td>5.0</td>\n      <td>2016-08-08 15:59:55</td>\n      <td>3.819149</td>\n      <td>True</td>\n      <td>[5.0, 5.5)</td>\n    </tr>\n    <tr>\n      <th>19688576</th>\n      <td>214494</td>\n      <td>541</td>\n      <td>5.0</td>\n      <td>2005-04-05 14:26:59</td>\n      <td>3.395652</td>\n      <td>True</td>\n      <td>[5.0, 5.5)</td>\n    </tr>\n    <tr>\n      <th>2412565</th>\n      <td>26230</td>\n      <td>474</td>\n      <td>5.0</td>\n      <td>1996-06-02 17:39:48</td>\n      <td>4.155963</td>\n      <td>True</td>\n      <td>[5.0, 5.5)</td>\n    </tr>\n  </tbody>\n</table>\n<p>100000 rows × 7 columns</p>\n</div>"
     },
     "execution_count": 9,
     "metadata": {},
     "output_type": "execute_result"
    }
   ],
   "source": [
    "strat_sampled_ratings_df"
   ],
   "metadata": {
    "collapsed": false,
    "ExecuteTime": {
     "end_time": "2024-05-02T10:11:57.479608Z",
     "start_time": "2024-05-02T10:11:57.462708Z"
    }
   },
   "execution_count": 9
  },
  {
   "cell_type": "markdown",
   "source": [
    "Now we we want to add the movie title to the ratings dataset."
   ],
   "metadata": {
    "collapsed": false
   }
  },
  {
   "cell_type": "code",
   "outputs": [],
   "source": [
    "# Convert 'movieId' to string in both DataFrames\n",
    "strat_sampled_ratings_df['movieId'] = strat_sampled_ratings_df['movieId'].astype(str)\n",
    "movies_df['movieId'] = movies_df['movieId'].astype(str)"
   ],
   "metadata": {
    "collapsed": false,
    "ExecuteTime": {
     "end_time": "2024-05-02T10:11:57.514358Z",
     "start_time": "2024-05-02T10:11:57.480885Z"
    }
   },
   "execution_count": 10
  },
  {
   "cell_type": "code",
   "outputs": [
    {
     "data": {
      "text/plain": "   userId movieId  rating           timestamp  user_mean_rating  \\\n0  128365    1037     0.5 2009-10-19 10:10:37          3.104895   \n1   34770   27316     0.5 2006-06-10 09:14:33          1.329146   \n2  108700     307     0.5 2010-05-12 21:26:12          3.729651   \n3  162680   73929     0.5 2015-11-22 18:22:29          3.505618   \n4  141941    4308     0.5 2006-06-10 05:21:47          2.987685   \n\n   liked_by_user rating_category   id_x   imdbId  tmdbId  ...  release_date  \\\n0          False      [0.5, 1.0)  10163   104692   10163  ...    1992-03-05   \n1          False      [0.5, 1.0)  33253   235154   33253  ...    1999-11-19   \n2          False      [0.5, 1.0)    108   108394     108  ...    1993-01-10   \n3          False      [0.5, 1.0)  22894  1038686   22894  ...    2010-01-21   \n4          False      [0.5, 1.0)    824   203009     824  ...    2001-03-09   \n\n  runtime               title  vote_average vote_count  \\\n0   108.0   The Lawnmower Man           5.4      198.0   \n1   118.0           6ixtynin9           7.0       18.0   \n2    98.0  Three Colors: Blue           7.7      311.0   \n3   100.0              Legion           5.2      643.0   \n4   127.0       Moulin Rouge!           7.4     1348.0   \n\n                                              actors  \\\n0  [Jeff Fahey, Pierce Brosnan, Jenny Wright, Mar...   \n1  [Lalita Panyopas, Sirisin Siripornsmathikul, P...   \n2  [Juliette Binoche, Benoît Régent, Florence Per...   \n3  [Paul Bettany, Dennis Quaid, Kevin Durand, Kat...   \n4  [Nicole Kidman, Ewan McGregor, John Leguizamo,...   \n\n                                  keywords_extracted  \\\n0  [dream, chimp, manipulation, botanist, virtual...   \n1  [airport, drug dealer, buddhist, mistaken iden...   \n2  [paris, composer, pain, loss of husband, to co...   \n3  [angel, diner, religion, apocalypse, demon, de...   \n4  [duke, musical, writer's block, music, termina...   \n\n                       genre_extracted  \\\n0  [Horror, Thriller, Science Fiction]   \n1            [Comedy, Crime, Thriller]   \n2              [Drama, Music, Mystery]   \n3                             [Horror]   \n4              [Drama, Music, Romance]   \n\n                        production_company_extracted  \\\n0                   [New Line Cinema, Allied Vision]   \n1  [The Film Factory, Five Stars Production Company]   \n2                 [France 3 Cinéma, CED Productions]   \n3                                       [Bold Films]   \n4  [Bazmark Films, Twentieth Century Fox Film Cor...   \n\n                        production_country_extracted  \n0  [United Kingdom, Japan, United States of America]  \n1                                         [Thailand]  \n2                                   [France, Poland]  \n3                         [United States of America]  \n4              [Australia, United States of America]  \n\n[5 rows x 24 columns]",
      "text/html": "<div>\n<style scoped>\n    .dataframe tbody tr th:only-of-type {\n        vertical-align: middle;\n    }\n\n    .dataframe tbody tr th {\n        vertical-align: top;\n    }\n\n    .dataframe thead th {\n        text-align: right;\n    }\n</style>\n<table border=\"1\" class=\"dataframe\">\n  <thead>\n    <tr style=\"text-align: right;\">\n      <th></th>\n      <th>userId</th>\n      <th>movieId</th>\n      <th>rating</th>\n      <th>timestamp</th>\n      <th>user_mean_rating</th>\n      <th>liked_by_user</th>\n      <th>rating_category</th>\n      <th>id_x</th>\n      <th>imdbId</th>\n      <th>tmdbId</th>\n      <th>...</th>\n      <th>release_date</th>\n      <th>runtime</th>\n      <th>title</th>\n      <th>vote_average</th>\n      <th>vote_count</th>\n      <th>actors</th>\n      <th>keywords_extracted</th>\n      <th>genre_extracted</th>\n      <th>production_company_extracted</th>\n      <th>production_country_extracted</th>\n    </tr>\n  </thead>\n  <tbody>\n    <tr>\n      <th>0</th>\n      <td>128365</td>\n      <td>1037</td>\n      <td>0.5</td>\n      <td>2009-10-19 10:10:37</td>\n      <td>3.104895</td>\n      <td>False</td>\n      <td>[0.5, 1.0)</td>\n      <td>10163</td>\n      <td>104692</td>\n      <td>10163</td>\n      <td>...</td>\n      <td>1992-03-05</td>\n      <td>108.0</td>\n      <td>The Lawnmower Man</td>\n      <td>5.4</td>\n      <td>198.0</td>\n      <td>[Jeff Fahey, Pierce Brosnan, Jenny Wright, Mar...</td>\n      <td>[dream, chimp, manipulation, botanist, virtual...</td>\n      <td>[Horror, Thriller, Science Fiction]</td>\n      <td>[New Line Cinema, Allied Vision]</td>\n      <td>[United Kingdom, Japan, United States of America]</td>\n    </tr>\n    <tr>\n      <th>1</th>\n      <td>34770</td>\n      <td>27316</td>\n      <td>0.5</td>\n      <td>2006-06-10 09:14:33</td>\n      <td>1.329146</td>\n      <td>False</td>\n      <td>[0.5, 1.0)</td>\n      <td>33253</td>\n      <td>235154</td>\n      <td>33253</td>\n      <td>...</td>\n      <td>1999-11-19</td>\n      <td>118.0</td>\n      <td>6ixtynin9</td>\n      <td>7.0</td>\n      <td>18.0</td>\n      <td>[Lalita Panyopas, Sirisin Siripornsmathikul, P...</td>\n      <td>[airport, drug dealer, buddhist, mistaken iden...</td>\n      <td>[Comedy, Crime, Thriller]</td>\n      <td>[The Film Factory, Five Stars Production Company]</td>\n      <td>[Thailand]</td>\n    </tr>\n    <tr>\n      <th>2</th>\n      <td>108700</td>\n      <td>307</td>\n      <td>0.5</td>\n      <td>2010-05-12 21:26:12</td>\n      <td>3.729651</td>\n      <td>False</td>\n      <td>[0.5, 1.0)</td>\n      <td>108</td>\n      <td>108394</td>\n      <td>108</td>\n      <td>...</td>\n      <td>1993-01-10</td>\n      <td>98.0</td>\n      <td>Three Colors: Blue</td>\n      <td>7.7</td>\n      <td>311.0</td>\n      <td>[Juliette Binoche, Benoît Régent, Florence Per...</td>\n      <td>[paris, composer, pain, loss of husband, to co...</td>\n      <td>[Drama, Music, Mystery]</td>\n      <td>[France 3 Cinéma, CED Productions]</td>\n      <td>[France, Poland]</td>\n    </tr>\n    <tr>\n      <th>3</th>\n      <td>162680</td>\n      <td>73929</td>\n      <td>0.5</td>\n      <td>2015-11-22 18:22:29</td>\n      <td>3.505618</td>\n      <td>False</td>\n      <td>[0.5, 1.0)</td>\n      <td>22894</td>\n      <td>1038686</td>\n      <td>22894</td>\n      <td>...</td>\n      <td>2010-01-21</td>\n      <td>100.0</td>\n      <td>Legion</td>\n      <td>5.2</td>\n      <td>643.0</td>\n      <td>[Paul Bettany, Dennis Quaid, Kevin Durand, Kat...</td>\n      <td>[angel, diner, religion, apocalypse, demon, de...</td>\n      <td>[Horror]</td>\n      <td>[Bold Films]</td>\n      <td>[United States of America]</td>\n    </tr>\n    <tr>\n      <th>4</th>\n      <td>141941</td>\n      <td>4308</td>\n      <td>0.5</td>\n      <td>2006-06-10 05:21:47</td>\n      <td>2.987685</td>\n      <td>False</td>\n      <td>[0.5, 1.0)</td>\n      <td>824</td>\n      <td>203009</td>\n      <td>824</td>\n      <td>...</td>\n      <td>2001-03-09</td>\n      <td>127.0</td>\n      <td>Moulin Rouge!</td>\n      <td>7.4</td>\n      <td>1348.0</td>\n      <td>[Nicole Kidman, Ewan McGregor, John Leguizamo,...</td>\n      <td>[duke, musical, writer's block, music, termina...</td>\n      <td>[Drama, Music, Romance]</td>\n      <td>[Bazmark Films, Twentieth Century Fox Film Cor...</td>\n      <td>[Australia, United States of America]</td>\n    </tr>\n  </tbody>\n</table>\n<p>5 rows × 24 columns</p>\n</div>"
     },
     "execution_count": 11,
     "metadata": {},
     "output_type": "execute_result"
    }
   ],
   "source": [
    "# Joining the DataFrames on 'movieId'\n",
    "strat_sampled_ratings_df = pd.merge(strat_sampled_ratings_df, movies_df, on='movieId', how='left')\n",
    "strat_sampled_ratings_df.head()"
   ],
   "metadata": {
    "collapsed": false,
    "ExecuteTime": {
     "end_time": "2024-05-02T10:11:57.614172Z",
     "start_time": "2024-05-02T10:11:57.514905Z"
    }
   },
   "execution_count": 11
  },
  {
   "cell_type": "code",
   "outputs": [],
   "source": [
    "# Keep only the necessary columns\n",
    "strat_sampled_ratings_df = strat_sampled_ratings_df[['userId', 'movieId', 'rating', 'timestamp', 'title']]\n",
    "\n",
    "# Rename the 'title' column to 'movie_title'\n",
    "strat_sampled_ratings_df.rename(columns={'title': 'movie_title'}, inplace=True)"
   ],
   "metadata": {
    "collapsed": false,
    "ExecuteTime": {
     "end_time": "2024-05-02T10:11:57.618536Z",
     "start_time": "2024-05-02T10:11:57.614852Z"
    }
   },
   "execution_count": 12
  },
  {
   "cell_type": "code",
   "outputs": [
    {
     "data": {
      "text/plain": "        userId movieId  rating           timestamp  \\\n0       128365    1037     0.5 2009-10-19 10:10:37   \n1        34770   27316     0.5 2006-06-10 09:14:33   \n2       108700     307     0.5 2010-05-12 21:26:12   \n3       162680   73929     0.5 2015-11-22 18:22:29   \n4       141941    4308     0.5 2006-06-10 05:21:47   \n...        ...     ...     ...                 ...   \n99996    28184    2912     5.0 2000-11-21 00:08:40   \n99997    23629    1185     5.0 1997-03-13 18:00:11   \n99998   254448   49272     5.0 2016-08-08 15:59:55   \n99999   214494     541     5.0 2005-04-05 14:26:59   \n100000   26230     474     5.0 1996-06-02 17:39:48   \n\n                                     movie_title  \n0                              The Lawnmower Man  \n1                                      6ixtynin9  \n2                             Three Colors: Blue  \n3                                         Legion  \n4                                  Moulin Rouge!  \n...                                          ...  \n99996                                  The Limey  \n99997   My Left Foot: The Story of Christy Brown  \n99998                              Casino Royale  \n99999                               Blade Runner  \n100000                       In the Line of Fire  \n\n[100001 rows x 5 columns]",
      "text/html": "<div>\n<style scoped>\n    .dataframe tbody tr th:only-of-type {\n        vertical-align: middle;\n    }\n\n    .dataframe tbody tr th {\n        vertical-align: top;\n    }\n\n    .dataframe thead th {\n        text-align: right;\n    }\n</style>\n<table border=\"1\" class=\"dataframe\">\n  <thead>\n    <tr style=\"text-align: right;\">\n      <th></th>\n      <th>userId</th>\n      <th>movieId</th>\n      <th>rating</th>\n      <th>timestamp</th>\n      <th>movie_title</th>\n    </tr>\n  </thead>\n  <tbody>\n    <tr>\n      <th>0</th>\n      <td>128365</td>\n      <td>1037</td>\n      <td>0.5</td>\n      <td>2009-10-19 10:10:37</td>\n      <td>The Lawnmower Man</td>\n    </tr>\n    <tr>\n      <th>1</th>\n      <td>34770</td>\n      <td>27316</td>\n      <td>0.5</td>\n      <td>2006-06-10 09:14:33</td>\n      <td>6ixtynin9</td>\n    </tr>\n    <tr>\n      <th>2</th>\n      <td>108700</td>\n      <td>307</td>\n      <td>0.5</td>\n      <td>2010-05-12 21:26:12</td>\n      <td>Three Colors: Blue</td>\n    </tr>\n    <tr>\n      <th>3</th>\n      <td>162680</td>\n      <td>73929</td>\n      <td>0.5</td>\n      <td>2015-11-22 18:22:29</td>\n      <td>Legion</td>\n    </tr>\n    <tr>\n      <th>4</th>\n      <td>141941</td>\n      <td>4308</td>\n      <td>0.5</td>\n      <td>2006-06-10 05:21:47</td>\n      <td>Moulin Rouge!</td>\n    </tr>\n    <tr>\n      <th>...</th>\n      <td>...</td>\n      <td>...</td>\n      <td>...</td>\n      <td>...</td>\n      <td>...</td>\n    </tr>\n    <tr>\n      <th>99996</th>\n      <td>28184</td>\n      <td>2912</td>\n      <td>5.0</td>\n      <td>2000-11-21 00:08:40</td>\n      <td>The Limey</td>\n    </tr>\n    <tr>\n      <th>99997</th>\n      <td>23629</td>\n      <td>1185</td>\n      <td>5.0</td>\n      <td>1997-03-13 18:00:11</td>\n      <td>My Left Foot: The Story of Christy Brown</td>\n    </tr>\n    <tr>\n      <th>99998</th>\n      <td>254448</td>\n      <td>49272</td>\n      <td>5.0</td>\n      <td>2016-08-08 15:59:55</td>\n      <td>Casino Royale</td>\n    </tr>\n    <tr>\n      <th>99999</th>\n      <td>214494</td>\n      <td>541</td>\n      <td>5.0</td>\n      <td>2005-04-05 14:26:59</td>\n      <td>Blade Runner</td>\n    </tr>\n    <tr>\n      <th>100000</th>\n      <td>26230</td>\n      <td>474</td>\n      <td>5.0</td>\n      <td>1996-06-02 17:39:48</td>\n      <td>In the Line of Fire</td>\n    </tr>\n  </tbody>\n</table>\n<p>100001 rows × 5 columns</p>\n</div>"
     },
     "execution_count": 13,
     "metadata": {},
     "output_type": "execute_result"
    }
   ],
   "source": [
    "strat_sampled_ratings_df"
   ],
   "metadata": {
    "collapsed": false,
    "ExecuteTime": {
     "end_time": "2024-05-02T10:11:57.622989Z",
     "start_time": "2024-05-02T10:11:57.619054Z"
    }
   },
   "execution_count": 13
  },
  {
   "cell_type": "code",
   "outputs": [],
   "source": [
    "# Drop missing values\n",
    "strat_sampled_ratings_df.dropna(inplace=True)"
   ],
   "metadata": {
    "collapsed": false,
    "ExecuteTime": {
     "end_time": "2024-05-02T10:11:57.632037Z",
     "start_time": "2024-05-02T10:11:57.623413Z"
    }
   },
   "execution_count": 14
  },
  {
   "cell_type": "code",
   "outputs": [],
   "source": [
    "# Save the downsampled dataset to a pickle file\n",
    "#strat_sampled_ratings_df.to_pickle('data/df_ratings_100k.pkl')"
   ],
   "metadata": {
    "collapsed": false,
    "ExecuteTime": {
     "end_time": "2024-05-02T10:11:57.633956Z",
     "start_time": "2024-05-02T10:11:57.632605Z"
    }
   },
   "execution_count": 15
  },
  {
   "cell_type": "markdown",
   "source": [
    "### Adjust Datasets for TFRS Requirements"
   ],
   "metadata": {
    "collapsed": false
   }
  },
  {
   "cell_type": "markdown",
   "source": [
    "#### Ratings Dataset"
   ],
   "metadata": {
    "collapsed": false
   }
  },
  {
   "cell_type": "code",
   "outputs": [
    {
     "data": {
      "text/plain": "userId                  int64\nmovieId                object\nrating                Float64\ntimestamp      datetime64[ns]\nmovie_title            object\ndtype: object"
     },
     "execution_count": 16,
     "metadata": {},
     "output_type": "execute_result"
    }
   ],
   "source": [
    "# Show column types\n",
    "strat_sampled_ratings_df.dtypes"
   ],
   "metadata": {
    "collapsed": false,
    "ExecuteTime": {
     "end_time": "2024-05-02T10:11:57.636613Z",
     "start_time": "2024-05-02T10:11:57.634444Z"
    }
   },
   "execution_count": 16
  },
  {
   "cell_type": "code",
   "outputs": [
    {
     "data": {
      "text/plain": "userId          object\nmovieId         object\nrating         float32\ntimestamp        int64\nmovie_title     object\ndtype: object"
     },
     "execution_count": 17,
     "metadata": {},
     "output_type": "execute_result"
    }
   ],
   "source": [
    "# First, ensure movieId and userId are converted to strings (object dtype in pandas)\n",
    "strat_sampled_ratings_df['movieId'] = strat_sampled_ratings_df['movieId'].astype(str)\n",
    "strat_sampled_ratings_df['userId'] = strat_sampled_ratings_df['userId'].astype(str)\n",
    "\n",
    "# Convert 'rating', 'user_mean_rating' to float32 for memory efficiency and compatibility\n",
    "float_columns = ['rating',]\n",
    "for col in float_columns:\n",
    "    strat_sampled_ratings_df[col] = strat_sampled_ratings_df[col].astype('float32')\n",
    "\n",
    "# Convert 'timestamp' from datetime64[ns] to int64 (UNIX timestamp)\n",
    "strat_sampled_ratings_df['timestamp'] = strat_sampled_ratings_df['timestamp'].astype('int64') // 10**9\n",
    "\n",
    "# Print data types to verify\n",
    "strat_sampled_ratings_df.dtypes"
   ],
   "metadata": {
    "collapsed": false,
    "ExecuteTime": {
     "end_time": "2024-05-02T10:11:57.659767Z",
     "start_time": "2024-05-02T10:11:57.637124Z"
    }
   },
   "execution_count": 17
  },
  {
   "cell_type": "code",
   "outputs": [],
   "source": [
    "# Rename columns for better understanding\n",
    "strat_sampled_ratings_df = strat_sampled_ratings_df.rename(columns={\n",
    "    'userId': 'user_id',\n",
    "    'movieId': 'movie_id',\n",
    "    'rating': 'user_rating',\n",
    "    'timestamp': 'timestamp',\n",
    "    'movie_title': 'movie_title'\n",
    "})"
   ],
   "metadata": {
    "collapsed": false,
    "ExecuteTime": {
     "end_time": "2024-05-02T10:11:57.664705Z",
     "start_time": "2024-05-02T10:11:57.660295Z"
    }
   },
   "execution_count": 18
  },
  {
   "cell_type": "code",
   "outputs": [],
   "source": [
    "import tensorflow as tf\n",
    "\n",
    "def df_to_dataset(dataframe, shuffle=True, batch_size=32, label_column=None):\n",
    "    dataframe = dataframe.copy()\n",
    "    dict_slices = {name: values for name, values in dataframe.items() if name != label_column}\n",
    "\n",
    "    # Handle RaggedTensor conversion for list columns and convert everything else to appropriate format\n",
    "    def convert_to_appropriate_format(data):\n",
    "        if isinstance(data.iloc[0], list):  # Handling list specifically for RaggedTensors\n",
    "            return tf.ragged.constant(data.tolist(), dtype=tf.int64)\n",
    "        else:\n",
    "            return data.values\n",
    "\n",
    "    dict_slices = {name: convert_to_appropriate_format(dataframe[name]) for name in dict_slices}\n",
    "\n",
    "    if label_column is not None:\n",
    "        labels = dataframe.pop(label_column).values\n",
    "        dataset = tf.data.Dataset.from_tensor_slices((dict_slices, labels))\n",
    "    else:\n",
    "        dataset = tf.data.Dataset.from_tensor_slices(dict_slices)\n",
    "\n",
    "    if shuffle:\n",
    "        dataset = dataset.shuffle(buffer_size=len(dataframe))\n",
    "    dataset = dataset.batch(batch_size)\n",
    "\n",
    "    # Convert arrays to scalars in each dataset element if batch_size is 1\n",
    "    if batch_size == 1:\n",
    "        def to_scalar(batch):\n",
    "            return {k: tf.squeeze(v, axis=0) for k, v in batch.items()}\n",
    "        dataset = dataset.map(to_scalar)\n",
    "\n",
    "    return dataset"
   ],
   "metadata": {
    "collapsed": false,
    "ExecuteTime": {
     "end_time": "2024-05-02T10:11:57.668075Z",
     "start_time": "2024-05-02T10:11:57.665231Z"
    }
   },
   "execution_count": 19
  },
  {
   "cell_type": "code",
   "outputs": [],
   "source": [
    "# Convert the DataFrame to a TensorFlow Dataset\n",
    "ratings = df_to_dataset(strat_sampled_ratings_df, batch_size=1, shuffle=False)"
   ],
   "metadata": {
    "collapsed": false,
    "ExecuteTime": {
     "end_time": "2024-05-02T10:11:57.807512Z",
     "start_time": "2024-05-02T10:11:57.668562Z"
    }
   },
   "execution_count": 20
  },
  {
   "cell_type": "code",
   "outputs": [
    {
     "name": "stderr",
     "output_type": "stream",
     "text": [
      "2024-05-02 11:12:05.484893: W tensorflow/core/framework/local_rendezvous.cc:404] Local rendezvous is aborting with status: OUT_OF_RANGE: End of sequence\n"
     ]
    },
    {
     "data": {
      "text/plain": "   movie_id            movie_title   timestamp    user_id  user_rating\n0   b'1037'   b'The Lawnmower Man'  1255947037  b'128365'          0.5\n1  b'27316'           b'6ixtynin9'  1149930873   b'34770'          0.5\n2    b'307'  b'Three Colors: Blue'  1273699572  b'108700'          0.5\n3  b'73929'              b'Legion'  1448216549  b'162680'          0.5\n4   b'4308'       b'Moulin Rouge!'  1149916907  b'141941'          0.5",
      "text/html": "<div>\n<style scoped>\n    .dataframe tbody tr th:only-of-type {\n        vertical-align: middle;\n    }\n\n    .dataframe tbody tr th {\n        vertical-align: top;\n    }\n\n    .dataframe thead th {\n        text-align: right;\n    }\n</style>\n<table border=\"1\" class=\"dataframe\">\n  <thead>\n    <tr style=\"text-align: right;\">\n      <th></th>\n      <th>movie_id</th>\n      <th>movie_title</th>\n      <th>timestamp</th>\n      <th>user_id</th>\n      <th>user_rating</th>\n    </tr>\n  </thead>\n  <tbody>\n    <tr>\n      <th>0</th>\n      <td>b'1037'</td>\n      <td>b'The Lawnmower Man'</td>\n      <td>1255947037</td>\n      <td>b'128365'</td>\n      <td>0.5</td>\n    </tr>\n    <tr>\n      <th>1</th>\n      <td>b'27316'</td>\n      <td>b'6ixtynin9'</td>\n      <td>1149930873</td>\n      <td>b'34770'</td>\n      <td>0.5</td>\n    </tr>\n    <tr>\n      <th>2</th>\n      <td>b'307'</td>\n      <td>b'Three Colors: Blue'</td>\n      <td>1273699572</td>\n      <td>b'108700'</td>\n      <td>0.5</td>\n    </tr>\n    <tr>\n      <th>3</th>\n      <td>b'73929'</td>\n      <td>b'Legion'</td>\n      <td>1448216549</td>\n      <td>b'162680'</td>\n      <td>0.5</td>\n    </tr>\n    <tr>\n      <th>4</th>\n      <td>b'4308'</td>\n      <td>b'Moulin Rouge!'</td>\n      <td>1149916907</td>\n      <td>b'141941'</td>\n      <td>0.5</td>\n    </tr>\n  </tbody>\n</table>\n</div>"
     },
     "execution_count": 21,
     "metadata": {},
     "output_type": "execute_result"
    }
   ],
   "source": [
    "# Convert back to a pandas DataFrame only for visualization and checking\n",
    "ratings_pandas_df = tfds.as_dataframe(ratings)\n",
    "ratings_pandas_df.head()"
   ],
   "metadata": {
    "collapsed": false,
    "ExecuteTime": {
     "end_time": "2024-05-02T10:12:05.752663Z",
     "start_time": "2024-05-02T10:11:57.808036Z"
    }
   },
   "execution_count": 21
  },
  {
   "cell_type": "markdown",
   "source": [
    "#### Movies Dataset"
   ],
   "metadata": {
    "collapsed": false
   }
  },
  {
   "cell_type": "code",
   "outputs": [
    {
     "data": {
      "text/plain": "  movieId                        title               genre_extracted\n0       1                    Toy Story   [Animation, Comedy, Family]\n1       2                      Jumanji  [Adventure, Fantasy, Family]\n2       3             Grumpier Old Men             [Romance, Comedy]\n3       4            Waiting to Exhale      [Comedy, Drama, Romance]\n4       5  Father of the Bride Part II                      [Comedy]",
      "text/html": "<div>\n<style scoped>\n    .dataframe tbody tr th:only-of-type {\n        vertical-align: middle;\n    }\n\n    .dataframe tbody tr th {\n        vertical-align: top;\n    }\n\n    .dataframe thead th {\n        text-align: right;\n    }\n</style>\n<table border=\"1\" class=\"dataframe\">\n  <thead>\n    <tr style=\"text-align: right;\">\n      <th></th>\n      <th>movieId</th>\n      <th>title</th>\n      <th>genre_extracted</th>\n    </tr>\n  </thead>\n  <tbody>\n    <tr>\n      <th>0</th>\n      <td>1</td>\n      <td>Toy Story</td>\n      <td>[Animation, Comedy, Family]</td>\n    </tr>\n    <tr>\n      <th>1</th>\n      <td>2</td>\n      <td>Jumanji</td>\n      <td>[Adventure, Fantasy, Family]</td>\n    </tr>\n    <tr>\n      <th>2</th>\n      <td>3</td>\n      <td>Grumpier Old Men</td>\n      <td>[Romance, Comedy]</td>\n    </tr>\n    <tr>\n      <th>3</th>\n      <td>4</td>\n      <td>Waiting to Exhale</td>\n      <td>[Comedy, Drama, Romance]</td>\n    </tr>\n    <tr>\n      <th>4</th>\n      <td>5</td>\n      <td>Father of the Bride Part II</td>\n      <td>[Comedy]</td>\n    </tr>\n  </tbody>\n</table>\n</div>"
     },
     "execution_count": 22,
     "metadata": {},
     "output_type": "execute_result"
    }
   ],
   "source": [
    "# Drop unnecessary columns (all except 'movieId', 'title' and 'genre_extracted')\n",
    "movies_df = movies_df[['movieId', 'title', 'genre_extracted']]\n",
    "movies_df.head()"
   ],
   "metadata": {
    "collapsed": false,
    "ExecuteTime": {
     "end_time": "2024-05-02T10:12:05.821374Z",
     "start_time": "2024-05-02T10:12:05.757192Z"
    }
   },
   "execution_count": 22
  },
  {
   "cell_type": "code",
   "outputs": [],
   "source": [
    "# rename columns for better understanding\n",
    "movies_df = movies_df.rename(columns={\n",
    "    'title': 'movie_title',\n",
    "    'movieId': 'movie_id',\n",
    "    'genre_extracted': 'movie_genres'\n",
    "})"
   ],
   "metadata": {
    "collapsed": false,
    "ExecuteTime": {
     "end_time": "2024-05-02T10:12:05.827601Z",
     "start_time": "2024-05-02T10:12:05.822171Z"
    }
   },
   "execution_count": 23
  },
  {
   "cell_type": "code",
   "outputs": [],
   "source": [
    "# Convert 'movie_id' to string\n",
    "movies_df['movie_id'] = movies_df['movie_id'].astype(str)\n",
    "\n",
    "# Ensure 'movie_genres' contains only lists of strings\n",
    "movies_df['movie_genres'] = movies_df['movie_genres'].apply(lambda x: [str(i) for i in x] if isinstance(x, list) else [])\n",
    "\n",
    "# Step 1: Safely extract unique genres\n",
    "unique_genres = set()\n",
    "for sublist in movies_df['movie_genres']:\n",
    "    for genre in sublist:\n",
    "        unique_genres.add(genre)  # This avoids any type error as we ensure each item is a string\n",
    "\n",
    "# Step 2: Map genres to unique integer identifiers\n",
    "genre_to_id = {genre: idx for idx, genre in enumerate(unique_genres)}\n",
    "\n",
    "# Step 3: Replace genres in each movie with their corresponding IDs\n",
    "movies_df['movie_genres'] = movies_df['movie_genres'].apply(lambda genres: [genre_to_id[genre] for genre in genres])"
   ],
   "metadata": {
    "collapsed": false,
    "ExecuteTime": {
     "end_time": "2024-05-02T10:12:05.861980Z",
     "start_time": "2024-05-02T10:12:05.828072Z"
    }
   },
   "execution_count": 24
  },
  {
   "cell_type": "code",
   "outputs": [
    {
     "data": {
      "text/plain": "  movie_id                  movie_title  movie_genres\n0        1                    Toy Story  [20, 12, 14]\n1        2                      Jumanji   [19, 9, 14]\n2        3             Grumpier Old Men       [2, 12]\n3        4            Waiting to Exhale    [12, 0, 2]\n4        5  Father of the Bride Part II          [12]",
      "text/html": "<div>\n<style scoped>\n    .dataframe tbody tr th:only-of-type {\n        vertical-align: middle;\n    }\n\n    .dataframe tbody tr th {\n        vertical-align: top;\n    }\n\n    .dataframe thead th {\n        text-align: right;\n    }\n</style>\n<table border=\"1\" class=\"dataframe\">\n  <thead>\n    <tr style=\"text-align: right;\">\n      <th></th>\n      <th>movie_id</th>\n      <th>movie_title</th>\n      <th>movie_genres</th>\n    </tr>\n  </thead>\n  <tbody>\n    <tr>\n      <th>0</th>\n      <td>1</td>\n      <td>Toy Story</td>\n      <td>[20, 12, 14]</td>\n    </tr>\n    <tr>\n      <th>1</th>\n      <td>2</td>\n      <td>Jumanji</td>\n      <td>[19, 9, 14]</td>\n    </tr>\n    <tr>\n      <th>2</th>\n      <td>3</td>\n      <td>Grumpier Old Men</td>\n      <td>[2, 12]</td>\n    </tr>\n    <tr>\n      <th>3</th>\n      <td>4</td>\n      <td>Waiting to Exhale</td>\n      <td>[12, 0, 2]</td>\n    </tr>\n    <tr>\n      <th>4</th>\n      <td>5</td>\n      <td>Father of the Bride Part II</td>\n      <td>[12]</td>\n    </tr>\n  </tbody>\n</table>\n</div>"
     },
     "execution_count": 25,
     "metadata": {},
     "output_type": "execute_result"
    }
   ],
   "source": [
    "movies_df.head()"
   ],
   "metadata": {
    "collapsed": false,
    "ExecuteTime": {
     "end_time": "2024-05-02T10:12:05.868982Z",
     "start_time": "2024-05-02T10:12:05.862816Z"
    }
   },
   "execution_count": 25
  },
  {
   "cell_type": "code",
   "outputs": [],
   "source": [
    "# Convert the DataFrame to a TensorFlow Dataset\n",
    "movies = df_to_dataset(movies_df, batch_size=1, shuffle=False)"
   ],
   "metadata": {
    "collapsed": false,
    "ExecuteTime": {
     "end_time": "2024-05-02T10:12:05.998006Z",
     "start_time": "2024-05-02T10:12:05.870116Z"
    }
   },
   "execution_count": 26
  },
  {
   "cell_type": "code",
   "outputs": [
    {
     "name": "stderr",
     "output_type": "stream",
     "text": [
      "2024-05-02 11:12:08.253833: W tensorflow/core/framework/local_rendezvous.cc:404] Local rendezvous is aborting with status: OUT_OF_RANGE: End of sequence\n"
     ]
    },
    {
     "data": {
      "text/plain": "   movie_genres movie_id                     movie_title\n0  [20, 12, 14]     b'1'                    b'Toy Story'\n1   [19, 9, 14]     b'2'                      b'Jumanji'\n2       [2, 12]     b'3'             b'Grumpier Old Men'\n3    [12, 0, 2]     b'4'            b'Waiting to Exhale'\n4          [12]     b'5'  b'Father of the Bride Part II'",
      "text/html": "<div>\n<style scoped>\n    .dataframe tbody tr th:only-of-type {\n        vertical-align: middle;\n    }\n\n    .dataframe tbody tr th {\n        vertical-align: top;\n    }\n\n    .dataframe thead th {\n        text-align: right;\n    }\n</style>\n<table border=\"1\" class=\"dataframe\">\n  <thead>\n    <tr style=\"text-align: right;\">\n      <th></th>\n      <th>movie_genres</th>\n      <th>movie_id</th>\n      <th>movie_title</th>\n    </tr>\n  </thead>\n  <tbody>\n    <tr>\n      <th>0</th>\n      <td>[20, 12, 14]</td>\n      <td>b'1'</td>\n      <td>b'Toy Story'</td>\n    </tr>\n    <tr>\n      <th>1</th>\n      <td>[19, 9, 14]</td>\n      <td>b'2'</td>\n      <td>b'Jumanji'</td>\n    </tr>\n    <tr>\n      <th>2</th>\n      <td>[2, 12]</td>\n      <td>b'3'</td>\n      <td>b'Grumpier Old Men'</td>\n    </tr>\n    <tr>\n      <th>3</th>\n      <td>[12, 0, 2]</td>\n      <td>b'4'</td>\n      <td>b'Waiting to Exhale'</td>\n    </tr>\n    <tr>\n      <th>4</th>\n      <td>[12]</td>\n      <td>b'5'</td>\n      <td>b'Father of the Bride Part II'</td>\n    </tr>\n  </tbody>\n</table>\n</div>"
     },
     "execution_count": 27,
     "metadata": {},
     "output_type": "execute_result"
    }
   ],
   "source": [
    "# Convert back to a pandas DataFrame only for visualization and checking\n",
    "movies_pandas_df = tfds.as_dataframe(movies)\n",
    "movies_pandas_df.head()"
   ],
   "metadata": {
    "collapsed": false,
    "ExecuteTime": {
     "end_time": "2024-05-02T10:12:08.276822Z",
     "start_time": "2024-05-02T10:12:06.001372Z"
    }
   },
   "execution_count": 27
  },
  {
   "cell_type": "markdown",
   "source": [],
   "metadata": {
    "collapsed": false
   }
  },
  {
   "cell_type": "markdown",
   "source": [
    "## Preparing the TFRS Dataset"
   ],
   "metadata": {
    "collapsed": false
   }
  },
  {
   "cell_type": "markdown",
   "source": [
    "For the TFRS we will use the movielens dataset from [Tensorflow](https://www.tensorflow.org/datasets/catalog/movielens) which is specifically designed to work with TFRS. It is equal to the dataset that was used for the Preprocessing and EDA. However, we will use a subset dataset that is able to run.\n",
    "\n",
    "- 100k-ratings: This dataset contains 100,000 ratings from 943 users on 1,682 movies. This dataset is the oldest version of the MovieLens dataset.\n",
    "- 100k-movies: This dataset contains data of 1,682 movies rated in the 100k dataset."
   ],
   "metadata": {
    "id": "v31WZw6uqI1M"
   }
  },
  {
   "cell_type": "code",
   "source": [
    "# Ratings data.\n",
    "ratings_tfrs = tfds.load(\"movielens/100k-ratings\", split=\"train\")\n",
    "\n",
    "#Movie Data\n",
    "movies_tfrs = tfds.load(\"movielens/100k-movies\", split=\"train\")"
   ],
   "metadata": {
    "id": "JfmM4T97jikQ",
    "ExecuteTime": {
     "end_time": "2024-05-02T10:12:08.324973Z",
     "start_time": "2024-05-02T10:12:08.277395Z"
    }
   },
   "execution_count": 28,
   "outputs": []
  },
  {
   "cell_type": "code",
   "outputs": [
    {
     "name": "stderr",
     "output_type": "stream",
     "text": [
      "2024-05-02 11:12:08.446271: W tensorflow/core/framework/local_rendezvous.cc:404] Local rendezvous is aborting with status: OUT_OF_RANGE: End of sequence\n"
     ]
    },
    {
     "data": {
      "text/plain": "  movie_genres movie_id                      movie_title\n0          [4]  b'1681'           b'You So Crazy (1994)'\n1       [4, 7]  b'1457'   b'Love Is All There Is (1996)'\n2       [1, 3]   b'500'          b'Fly Away Home (1996)'\n3          [0]   b'838'  b'In the Line of Duty 2 (1987)'\n4          [7]  b'1648'       b'Niagara, Niagara (1997)'",
      "text/html": "<div>\n<style scoped>\n    .dataframe tbody tr th:only-of-type {\n        vertical-align: middle;\n    }\n\n    .dataframe tbody tr th {\n        vertical-align: top;\n    }\n\n    .dataframe thead th {\n        text-align: right;\n    }\n</style>\n<table border=\"1\" class=\"dataframe\">\n  <thead>\n    <tr style=\"text-align: right;\">\n      <th></th>\n      <th>movie_genres</th>\n      <th>movie_id</th>\n      <th>movie_title</th>\n    </tr>\n  </thead>\n  <tbody>\n    <tr>\n      <th>0</th>\n      <td>[4]</td>\n      <td>b'1681'</td>\n      <td>b'You So Crazy (1994)'</td>\n    </tr>\n    <tr>\n      <th>1</th>\n      <td>[4, 7]</td>\n      <td>b'1457'</td>\n      <td>b'Love Is All There Is (1996)'</td>\n    </tr>\n    <tr>\n      <th>2</th>\n      <td>[1, 3]</td>\n      <td>b'500'</td>\n      <td>b'Fly Away Home (1996)'</td>\n    </tr>\n    <tr>\n      <th>3</th>\n      <td>[0]</td>\n      <td>b'838'</td>\n      <td>b'In the Line of Duty 2 (1987)'</td>\n    </tr>\n    <tr>\n      <th>4</th>\n      <td>[7]</td>\n      <td>b'1648'</td>\n      <td>b'Niagara, Niagara (1997)'</td>\n    </tr>\n  </tbody>\n</table>\n</div>"
     },
     "execution_count": 29,
     "metadata": {},
     "output_type": "execute_result"
    }
   ],
   "source": [
    "# Transform the dataset to a pandas dataframe\n",
    "movies_tfrs_df = tfds.as_dataframe(movies_tfrs)\n",
    "movies_tfrs_df.head()"
   ],
   "metadata": {
    "collapsed": false,
    "ExecuteTime": {
     "end_time": "2024-05-02T10:12:08.451956Z",
     "start_time": "2024-05-02T10:12:08.325862Z"
    }
   },
   "execution_count": 29
  },
  {
   "cell_type": "markdown",
   "source": [
    "In this Notebook we only going to focus on the ratings. We keep only the user_id, and movie_title fields in the dataset."
   ],
   "metadata": {
    "id": "6syOWPSqk7Zo"
   }
  },
  {
   "cell_type": "code",
   "outputs": [
    {
     "name": "stdout",
     "output_type": "stream",
     "text": [
      "{'movie_id': b'1037',\n",
      " 'movie_title': b'The Lawnmower Man',\n",
      " 'timestamp': 1255947037,\n",
      " 'user_id': b'128365',\n",
      " 'user_rating': 0.5}\n"
     ]
    },
    {
     "name": "stderr",
     "output_type": "stream",
     "text": [
      "2024-05-02 11:12:08.461438: W tensorflow/core/framework/local_rendezvous.cc:404] Local rendezvous is aborting with status: OUT_OF_RANGE: End of sequence\n"
     ]
    }
   ],
   "source": [
    "for x in ratings.take(1).as_numpy_iterator():\n",
    "    pprint.pprint(x)"
   ],
   "metadata": {
    "collapsed": false,
    "ExecuteTime": {
     "end_time": "2024-05-02T10:12:08.462706Z",
     "start_time": "2024-05-02T10:12:08.452553Z"
    }
   },
   "execution_count": 30
  },
  {
   "cell_type": "code",
   "outputs": [
    {
     "name": "stdout",
     "output_type": "stream",
     "text": [
      "{'movie_genres': array([20, 12, 14]),\n",
      " 'movie_id': b'1',\n",
      " 'movie_title': b'Toy Story'}\n"
     ]
    },
    {
     "name": "stderr",
     "output_type": "stream",
     "text": [
      "2024-05-02 11:12:08.470621: W tensorflow/core/framework/local_rendezvous.cc:404] Local rendezvous is aborting with status: OUT_OF_RANGE: End of sequence\n"
     ]
    }
   ],
   "source": [
    "for x in movies.take(1).as_numpy_iterator():\n",
    "    pprint.pprint(x)"
   ],
   "metadata": {
    "collapsed": false,
    "ExecuteTime": {
     "end_time": "2024-05-02T10:12:08.471873Z",
     "start_time": "2024-05-02T10:12:08.463176Z"
    }
   },
   "execution_count": 31
  },
  {
   "cell_type": "code",
   "source": [
    "ratings = ratings.map(lambda x: {\n",
    "    \"movie_title\": x[\"movie_title\"],\n",
    "    \"user_id\": x[\"user_id\"],\n",
    "})\n",
    "movies = movies.map(lambda x: x[\"movie_title\"])"
   ],
   "metadata": {
    "id": "4t0gUua7k1tq",
    "ExecuteTime": {
     "end_time": "2024-05-02T10:12:08.486914Z",
     "start_time": "2024-05-02T10:12:08.472518Z"
    }
   },
   "execution_count": 32,
   "outputs": []
  },
  {
   "cell_type": "code",
   "source": [
    "# Set the random seed for reproducibility\n",
    "tf.random.set_seed(42)\n",
    "\n",
    "# Shuffle the dataset with a specified buffer size and seed\n",
    "shuffled = ratings.shuffle(buffer_size=100_000, seed=42, reshuffle_each_iteration=False)\n",
    "\n",
    "# Take the first 80,000 examples for the training set (80% of the data)\n",
    "train = shuffled.take(80_000)\n",
    "\n",
    "# Skip the first 80,000 examples and take the next 20,000 for the test set (20% of the data)\n",
    "test = shuffled.skip(80_000).take(20_000)"
   ],
   "metadata": {
    "id": "7vr1R4oVvFZb",
    "ExecuteTime": {
     "end_time": "2024-05-02T10:16:40.876717Z",
     "start_time": "2024-05-02T10:16:40.852008Z"
    }
   },
   "execution_count": 37,
   "outputs": []
  },
  {
   "cell_type": "markdown",
   "source": [
    "Lets investigate the unique user ids and movie titles in the dataset."
   ],
   "metadata": {
    "collapsed": false
   }
  },
  {
   "cell_type": "code",
   "outputs": [
    {
     "name": "stderr",
     "output_type": "stream",
     "text": [
      "2024-05-02 11:16:47.591150: W tensorflow/core/framework/local_rendezvous.cc:404] Local rendezvous is aborting with status: OUT_OF_RANGE: End of sequence\n",
      "2024-05-02 11:16:48.574059: W tensorflow/core/framework/local_rendezvous.cc:404] Local rendezvous is aborting with status: OUT_OF_RANGE: End of sequence\n"
     ]
    },
    {
     "data": {
      "text/plain": "array([b'!Women Art Revolution', b'#1 Cheerleader Camp', b'#Horror',\n       b'#chicagoGirl', b'$1,000 on the Black', b'$100,000 for Ringo',\n       b'$5 a Day', b'$50K and a Call Girl: A Love Story', b'$9.99',\n       b'$ellebrity', b\"'71\", b\"'D'\", b\"'Gator Bait\",\n       b\"'Master Harold'... and the Boys\", b\"'Neath the Arizona Skies\",\n       b\"'R Xmas\", b\"'Til Madness Do Us Part\",\n       b\"'Tis the Season for Love\", b\"'Twas the Night\", b\"'night, Mother\",\n       b'(500) Days of Summer', b'(A)Sexual',\n       b'(Dis)Honesty: The Truth About Lies', b'(T)ERROR', b'(Untitled)',\n       b'+1', b'...All the Marbles', b'...And God Created Woman',\n       b'...And Justice for All', b'...And the Pursuit of Happiness',\n       b'...ing', b'...tick... tick... tick...', b'.45',\n       b'00 Schneider - Jagd auf Nihil Baxter', b'009 Re: Cyborg',\n       b'009-1: The End of the Beginning', b'06/05', b'08/15', b'1',\n       b'1 - Nenokkadine', b'1 Chance 2 Dance', b'1 Litre of Tears',\n       b'1 Mile to You', b'1 Night', b'1 P.M.',\n       b'1. Mai \\xe2\\x80\\x93 Helden bei der Arbeit', b'10',\n       b'10 000 timmar', b'10 Attitudes',\n       b\"10 Billion: What's On Your Plate\", b'10 Cent Pistol',\n       b'10 Cloverfield Lane', b'10 Days in a Madhouse',\n       b'10 Items or Less', b'10 MPH', b'10 Minutes',\n       b'10 Questions for the Dalai Lama', b'10 Rillington Place',\n       b'10 Rules for Sleeping Around', b'10 Things I Hate About You',\n       b'10 Years', b'10 to Midnight', b'10+10', b'10,000 BC',\n       b'10,000 Days', b'10,000 Dollars for a Massacre', b'10,000 km',\n       b'10.0 Earthquake', b'10.5', b'10.5: Apocalypse',\n       b'100 Bloody Acres', b'100 Days with Mr. Arrogant',\n       b'100 Degrees Below Zero', b'100 Feet',\n       b'100 Ghost Street: The Return of Richard Speck', b'100 Girls',\n       b'100 Million BC', b'100 Rifles', b'100 Streets',\n       b'100 Ways to Murder Your Wife', b'100 Women',\n       b'100 Yen: The Japanese Arcade Experience',\n       b'100 grams for Bravery', b'100 years of evil', b'100% Love',\n       b'1000 Journals', b'1000 To 1', b'1001 Grams', b'1001 Nights',\n       b'101 Dalmatians', b\"101 Dalmatians II: Patch's London Adventure\",\n       b'101 Rent Boys', b'101 Reykjavik', b'102 Dalmatians',\n       b'102 Minutes That Changed America', b'10th & Wolf', b'11 A.M.',\n       b'11 Blocks', b'11 Flowers', b'11 Harrowhouse'], dtype=object)"
     },
     "execution_count": 38,
     "metadata": {},
     "output_type": "execute_result"
    }
   ],
   "source": [
    "# Unique user ids and movie titles\n",
    "movie_titles = movies.batch(50)\n",
    "user_ids = ratings.batch(50).map(lambda x: x[\"user_id\"])\n",
    "\n",
    "unique_movie_titles = np.unique(np.concatenate(list(movie_titles)))\n",
    "unique_user_ids = np.unique(np.concatenate(list(user_ids)))\n",
    "\n",
    "unique_movie_titles[:100]"
   ],
   "metadata": {
    "collapsed": false,
    "ExecuteTime": {
     "end_time": "2024-05-02T10:16:48.620038Z",
     "start_time": "2024-05-02T10:16:47.311320Z"
    }
   },
   "execution_count": 38
  },
  {
   "cell_type": "markdown",
   "source": [
    "\n",
    "The extraction and identification of unique user IDs and movie titles from a dataset are crucial for efficiently managing and processing data in machine learning applications, especially in recommender systems. By converting these categorical labels into unique numerical identifiers, we can optimize memory usage and enhance computational efficiency, which is fundamental for training accurate and scalable models. This preprocessing step also ensures that each entity (user or movie) is uniquely represented, aiding in the precise construction of user-item interaction matrices that are essential for personalization and prediction accuracy in recommendation algorithms."
   ],
   "metadata": {
    "collapsed": false
   }
  },
  {
   "cell_type": "markdown",
   "source": [
    "## Model"
   ],
   "metadata": {
    "collapsed": false
   }
  },
  {
   "cell_type": "markdown",
   "source": [
    "We will build a two-tower retrieval model using the TFRS library. This model consists of two separate components or \"towers\".\n",
    "\n",
    "A two-tower retrieval model is a type of architecture commonly used in recommendation systems, particularly in the context of information retrieval tasks such as recommending items to users. The \"two towers\" refer to two separate components or \"towers\" within the model:\n",
    "\n",
    "Query Tower: This tower represents the user's query or input. It typically takes user-specific information or features, such as user demographics, past interactions, or explicit preferences, and encodes them into a fixed-length representation.\n",
    "Candidate Tower: This tower represents the items in the catalog or database that are being considered for recommendation. It takes item-specific information or features, such as item attributes, metadata, or embeddings, and encodes them into a fixed-length representation.\n",
    "After encoding both the query and candidate items, the model computes a similarity score between them."
   ],
   "metadata": {
    "collapsed": false
   }
  },
  {
   "cell_type": "code",
   "outputs": [],
   "source": [],
   "metadata": {
    "collapsed": false
   },
   "execution_count": null
  }
 ]
}
