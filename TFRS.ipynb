{
 "nbformat": 4,
 "nbformat_minor": 0,
 "metadata": {
  "colab": {
   "provenance": [],
   "toc_visible": true
  },
  "kernelspec": {
   "name": "python3",
   "language": "python",
   "display_name": "Python 3 (ipykernel)"
  },
  "language_info": {
   "name": "python"
  }
 },
 "cells": [
  {
   "cell_type": "markdown",
   "source": [
    "## Introduction"
   ],
   "metadata": {
    "id": "goQJe1d1i8ZU"
   }
  },
  {
   "cell_type": "markdown",
   "source": [
    "In this notebook we will use the Tensorflow Recommenders (TFRS) library to build a recommendation system. TFRS is a library for building deep learning recommendation systems. It helps with the full workflow of building a recommendation system: data preparation, model formulation, training, evaluation, and deployment. TFRS is built on top of TensorFlow 2 and Keras, and is designed to be scalable and easy to use."
   ],
   "metadata": {
    "collapsed": false
   }
  },
  {
   "cell_type": "markdown",
   "source": [
    "We are first focusing on a retrieval system, which is a model that predicts a set of movies from the catalogue that the user is likely to watch. We're going to treat the dataset as an implicit system. This means that we are not trying to predict the rating that a user will give to a movie. Instead, we are trying to rank movies by their relevance to the user. This is a common scenario in many recommendation systems, where we are trying to predict the items that a user is most likely to interact with.\n",
    "Treating Movielens as an implicit system means that we're interpreting users' actions (watching movies) as indicators of their preferences. Specifically:\n",
    "\n",
    "1. Every movie a user has watched is considered a positive example, indicating that they like or are interested in that movie.\n",
    "2. Every movie a user hasn't watched is treated as an implicit negative example, implying that they haven't shown interest in it or haven't been exposed to it yet.\n",
    "\n",
    "This approach helps us make predictions about which movies users might enjoy based on their past behavior without requiring explicit feedback or ratings for each movie."
   ],
   "metadata": {
    "collapsed": false
   }
  },
  {
   "cell_type": "markdown",
   "source": [
    "In a second step we will build a ranking model that predicts the top 10 movies that a user is likely to watch. This model will be trained on the same dataset as the retrieval model, but will be optimized for ranking accuracy rather than relevance."
   ],
   "metadata": {
    "collapsed": false
   }
  },
  {
   "cell_type": "markdown",
   "source": [
    "## Imports"
   ],
   "metadata": {
    "collapsed": false
   }
  },
  {
   "cell_type": "code",
   "execution_count": 1,
   "metadata": {
    "colab": {
     "base_uri": "https://localhost:8080/"
    },
    "id": "TSN-y-Lxi6QD",
    "outputId": "ff8cb40e-fdf6-4b1f-d391-747e4bcf26b1",
    "ExecuteTime": {
     "end_time": "2024-05-01T09:30:59.004386Z",
     "start_time": "2024-05-01T09:30:53.942335Z"
    }
   },
   "outputs": [
    {
     "name": "stdout",
     "output_type": "stream",
     "text": [
      "\u001B[31mERROR: Could not find a version that satisfies the requirement scann (from versions: none)\u001B[0m\u001B[31m\r\n",
      "\u001B[0m\u001B[31mERROR: No matching distribution found for scann\u001B[0m\u001B[31m\r\n",
      "\u001B[0m"
     ]
    }
   ],
   "source": [
    "!pip install -q tensorflow-recommenders\n",
    "!pip install -q --upgrade tensorflow-datasets\n",
    "!pip install -q scann"
   ]
  },
  {
   "cell_type": "code",
   "source": [
    "import os\n",
    "import pprint\n",
    "import tempfile\n",
    "import pandas as pd\n",
    "\n",
    "from typing import Dict, Text\n",
    "\n",
    "import numpy as np\n",
    "import tensorflow as tf\n",
    "import tensorflow_datasets as tfds\n",
    "import tensorflow_recommenders as tfrs"
   ],
   "metadata": {
    "id": "IWgpA23Mi_et",
    "ExecuteTime": {
     "end_time": "2024-05-01T09:59:56.088253Z",
     "start_time": "2024-05-01T09:59:52.293509Z"
    }
   },
   "execution_count": 2,
   "outputs": []
  },
  {
   "cell_type": "markdown",
   "source": [
    "## Preprocessing"
   ],
   "metadata": {
    "id": "tqd1icB9jewq"
   }
  },
  {
   "cell_type": "code",
   "outputs": [
    {
     "name": "stderr",
     "output_type": "stream",
     "text": [
      "2024-05-01 10:32:20.457276: W tensorflow/core/framework/local_rendezvous.cc:404] Local rendezvous is aborting with status: OUT_OF_RANGE: End of sequence\n",
      "2024-05-01 10:32:22.032997: W tensorflow/core/framework/local_rendezvous.cc:404] Local rendezvous is aborting with status: OUT_OF_RANGE: End of sequence\n"
     ]
    },
    {
     "data": {
      "text/plain": "   bucketized_user_age movie_genres movie_id  \\\n0                 45.0          [7]   b'357'   \n1                 25.0      [4, 14]   b'709'   \n2                 18.0          [4]   b'412'   \n3                 50.0       [5, 7]    b'56'   \n4                 50.0     [10, 16]   b'895'   \n\n                                 movie_title  raw_user_age  timestamp  \\\n0  b\"One Flew Over the Cuckoo's Nest (1975)\"          46.0  879024327   \n1                b'Strictly Ballroom (1992)'          32.0  875654590   \n2             b'Very Brady Sequel, A (1996)'          24.0  882075110   \n3                     b'Pulp Fiction (1994)'          50.0  883326919   \n4                         b'Scream 2 (1997)'          55.0  891409199   \n\n   user_gender user_id  user_occupation_label user_occupation_text  \\\n0         True  b'138'                      4            b'doctor'   \n1         True   b'92'                      5     b'entertainment'   \n2         True  b'301'                     17           b'student'   \n3         True   b'60'                      4        b'healthcare'   \n4         True  b'197'                     18        b'technician'   \n\n   user_rating user_zip_code  \n0          4.0      b'53211'  \n1          2.0      b'80525'  \n2          4.0      b'55439'  \n3          4.0      b'06472'  \n4          3.0      b'75094'  ",
      "text/html": "<div>\n<style scoped>\n    .dataframe tbody tr th:only-of-type {\n        vertical-align: middle;\n    }\n\n    .dataframe tbody tr th {\n        vertical-align: top;\n    }\n\n    .dataframe thead th {\n        text-align: right;\n    }\n</style>\n<table border=\"1\" class=\"dataframe\">\n  <thead>\n    <tr style=\"text-align: right;\">\n      <th></th>\n      <th>bucketized_user_age</th>\n      <th>movie_genres</th>\n      <th>movie_id</th>\n      <th>movie_title</th>\n      <th>raw_user_age</th>\n      <th>timestamp</th>\n      <th>user_gender</th>\n      <th>user_id</th>\n      <th>user_occupation_label</th>\n      <th>user_occupation_text</th>\n      <th>user_rating</th>\n      <th>user_zip_code</th>\n    </tr>\n  </thead>\n  <tbody>\n    <tr>\n      <th>0</th>\n      <td>45.0</td>\n      <td>[7]</td>\n      <td>b'357'</td>\n      <td>b\"One Flew Over the Cuckoo's Nest (1975)\"</td>\n      <td>46.0</td>\n      <td>879024327</td>\n      <td>True</td>\n      <td>b'138'</td>\n      <td>4</td>\n      <td>b'doctor'</td>\n      <td>4.0</td>\n      <td>b'53211'</td>\n    </tr>\n    <tr>\n      <th>1</th>\n      <td>25.0</td>\n      <td>[4, 14]</td>\n      <td>b'709'</td>\n      <td>b'Strictly Ballroom (1992)'</td>\n      <td>32.0</td>\n      <td>875654590</td>\n      <td>True</td>\n      <td>b'92'</td>\n      <td>5</td>\n      <td>b'entertainment'</td>\n      <td>2.0</td>\n      <td>b'80525'</td>\n    </tr>\n    <tr>\n      <th>2</th>\n      <td>18.0</td>\n      <td>[4]</td>\n      <td>b'412'</td>\n      <td>b'Very Brady Sequel, A (1996)'</td>\n      <td>24.0</td>\n      <td>882075110</td>\n      <td>True</td>\n      <td>b'301'</td>\n      <td>17</td>\n      <td>b'student'</td>\n      <td>4.0</td>\n      <td>b'55439'</td>\n    </tr>\n    <tr>\n      <th>3</th>\n      <td>50.0</td>\n      <td>[5, 7]</td>\n      <td>b'56'</td>\n      <td>b'Pulp Fiction (1994)'</td>\n      <td>50.0</td>\n      <td>883326919</td>\n      <td>True</td>\n      <td>b'60'</td>\n      <td>4</td>\n      <td>b'healthcare'</td>\n      <td>4.0</td>\n      <td>b'06472'</td>\n    </tr>\n    <tr>\n      <th>4</th>\n      <td>50.0</td>\n      <td>[10, 16]</td>\n      <td>b'895'</td>\n      <td>b'Scream 2 (1997)'</td>\n      <td>55.0</td>\n      <td>891409199</td>\n      <td>True</td>\n      <td>b'197'</td>\n      <td>18</td>\n      <td>b'technician'</td>\n      <td>3.0</td>\n      <td>b'75094'</td>\n    </tr>\n  </tbody>\n</table>\n</div>"
     },
     "execution_count": 3,
     "metadata": {},
     "output_type": "execute_result"
    }
   ],
   "source": [
    "import tensorflow_datasets as tfds\n",
    "import pandas as pd\n",
    "\n",
    "# Load the datasets\n",
    "ratings = tfds.load('movielens/100k-ratings', split='train')\n",
    "movies = tfds.load('movielens/100k-movies', split='train')\n",
    "\n",
    "# Function to convert tf.data.Dataset to pandas DataFrame\n",
    "def tfds_to_pandas(dataset):\n",
    "    # Initialize an empty list to store the data\n",
    "    data = []\n",
    "    # Iterate over the dataset\n",
    "    for item in tfds.as_numpy(dataset):\n",
    "        # Convert the tf.Tensor objects to numpy arrays and then to a dictionary\n",
    "        data.append({key: item[key] for key in item})\n",
    "    # Convert the list of dictionaries to a pandas DataFrame\n",
    "    return pd.DataFrame(data)\n",
    "\n",
    "# Convert the ratings and movies datasets to pandas DataFrames\n",
    "ratings_df = tfds_to_pandas(ratings)\n",
    "movies_df = tfds_to_pandas(movies)\n",
    "\n",
    "# Display the first few rows of each DataFrame\n",
    "ratings_df.head()"
   ],
   "metadata": {
    "collapsed": false,
    "ExecuteTime": {
     "end_time": "2024-05-01T09:32:22.061067Z",
     "start_time": "2024-05-01T09:31:02.450548Z"
    }
   },
   "execution_count": 3
  },
  {
   "cell_type": "code",
   "outputs": [
    {
     "data": {
      "text/plain": "  movie_genres movie_id                      movie_title\n0          [4]  b'1681'           b'You So Crazy (1994)'\n1       [4, 7]  b'1457'   b'Love Is All There Is (1996)'\n2       [1, 3]   b'500'          b'Fly Away Home (1996)'\n3          [0]   b'838'  b'In the Line of Duty 2 (1987)'\n4          [7]  b'1648'       b'Niagara, Niagara (1997)'",
      "text/html": "<div>\n<style scoped>\n    .dataframe tbody tr th:only-of-type {\n        vertical-align: middle;\n    }\n\n    .dataframe tbody tr th {\n        vertical-align: top;\n    }\n\n    .dataframe thead th {\n        text-align: right;\n    }\n</style>\n<table border=\"1\" class=\"dataframe\">\n  <thead>\n    <tr style=\"text-align: right;\">\n      <th></th>\n      <th>movie_genres</th>\n      <th>movie_id</th>\n      <th>movie_title</th>\n    </tr>\n  </thead>\n  <tbody>\n    <tr>\n      <th>0</th>\n      <td>[4]</td>\n      <td>b'1681'</td>\n      <td>b'You So Crazy (1994)'</td>\n    </tr>\n    <tr>\n      <th>1</th>\n      <td>[4, 7]</td>\n      <td>b'1457'</td>\n      <td>b'Love Is All There Is (1996)'</td>\n    </tr>\n    <tr>\n      <th>2</th>\n      <td>[1, 3]</td>\n      <td>b'500'</td>\n      <td>b'Fly Away Home (1996)'</td>\n    </tr>\n    <tr>\n      <th>3</th>\n      <td>[0]</td>\n      <td>b'838'</td>\n      <td>b'In the Line of Duty 2 (1987)'</td>\n    </tr>\n    <tr>\n      <th>4</th>\n      <td>[7]</td>\n      <td>b'1648'</td>\n      <td>b'Niagara, Niagara (1997)'</td>\n    </tr>\n  </tbody>\n</table>\n</div>"
     },
     "execution_count": 4,
     "metadata": {},
     "output_type": "execute_result"
    }
   ],
   "source": [
    "movies_df.head()"
   ],
   "metadata": {
    "collapsed": false,
    "ExecuteTime": {
     "end_time": "2024-05-01T09:32:22.078637Z",
     "start_time": "2024-05-01T09:32:22.064604Z"
    }
   },
   "execution_count": 4
  },
  {
   "cell_type": "markdown",
   "source": [
    "## Stratified Sampling"
   ],
   "metadata": {
    "collapsed": false
   }
  },
  {
   "cell_type": "code",
   "outputs": [
    {
     "data": {
      "text/plain": "   userId  movieId  rating           timestamp  user_mean_rating  \\\n0       1      110     1.0 2015-03-09 22:52:09          4.277778   \n1       1      147     4.5 2015-03-09 23:07:15          4.277778   \n2       1      858     5.0 2015-03-09 22:52:03          4.277778   \n3       1     1221     5.0 2015-03-09 22:52:26          4.277778   \n4       1     1246     5.0 2015-03-09 22:52:36          4.277778   \n\n   liked_by_user  \n0          False  \n1           True  \n2           True  \n3           True  \n4           True  ",
      "text/html": "<div>\n<style scoped>\n    .dataframe tbody tr th:only-of-type {\n        vertical-align: middle;\n    }\n\n    .dataframe tbody tr th {\n        vertical-align: top;\n    }\n\n    .dataframe thead th {\n        text-align: right;\n    }\n</style>\n<table border=\"1\" class=\"dataframe\">\n  <thead>\n    <tr style=\"text-align: right;\">\n      <th></th>\n      <th>userId</th>\n      <th>movieId</th>\n      <th>rating</th>\n      <th>timestamp</th>\n      <th>user_mean_rating</th>\n      <th>liked_by_user</th>\n    </tr>\n  </thead>\n  <tbody>\n    <tr>\n      <th>0</th>\n      <td>1</td>\n      <td>110</td>\n      <td>1.0</td>\n      <td>2015-03-09 22:52:09</td>\n      <td>4.277778</td>\n      <td>False</td>\n    </tr>\n    <tr>\n      <th>1</th>\n      <td>1</td>\n      <td>147</td>\n      <td>4.5</td>\n      <td>2015-03-09 23:07:15</td>\n      <td>4.277778</td>\n      <td>True</td>\n    </tr>\n    <tr>\n      <th>2</th>\n      <td>1</td>\n      <td>858</td>\n      <td>5.0</td>\n      <td>2015-03-09 22:52:03</td>\n      <td>4.277778</td>\n      <td>True</td>\n    </tr>\n    <tr>\n      <th>3</th>\n      <td>1</td>\n      <td>1221</td>\n      <td>5.0</td>\n      <td>2015-03-09 22:52:26</td>\n      <td>4.277778</td>\n      <td>True</td>\n    </tr>\n    <tr>\n      <th>4</th>\n      <td>1</td>\n      <td>1246</td>\n      <td>5.0</td>\n      <td>2015-03-09 22:52:36</td>\n      <td>4.277778</td>\n      <td>True</td>\n    </tr>\n  </tbody>\n</table>\n</div>"
     },
     "execution_count": 3,
     "metadata": {},
     "output_type": "execute_result"
    }
   ],
   "source": [
    "# transform pickle file to pandas dataframe\n",
    "ratings_df = pd.read_pickle('data/df_ratings_cleaned.pkl')\n",
    "movies_df = pd.read_pickle('data/df_movies_cleaned.pkl')\n",
    "\n",
    "ratings_df.head()"
   ],
   "metadata": {
    "collapsed": false,
    "ExecuteTime": {
     "end_time": "2024-05-01T10:00:01.791536Z",
     "start_time": "2024-05-01T10:00:00.454473Z"
    }
   },
   "execution_count": 3
  },
  {
   "cell_type": "code",
   "outputs": [
    {
     "data": {
      "text/plain": "    id_x  movieId  imdbId  tmdbId  belongs_to_collection original_language  \\\n0    862        1  114709     862                      1                en   \n1   8844        2  113497    8844                      0                en   \n2  15602        3  113228   15602                      1                en   \n3  31357        4  114885   31357                      0                en   \n4  11862        5  113041   11862                      1                en   \n\n                                            overview  popularity release_date  \\\n0  Led by Woody, Andy's toys live happily in his ...        21.0   1995-10-30   \n1  When siblings Judy and Peter discover an encha...        17.0   1995-12-15   \n2  A family wedding reignites the ancient feud be...        11.0   1995-12-22   \n3  Cheated on, mistreated and stepped on, the wom...         3.0   1995-12-22   \n4  Just when George Banks has recovered from his ...         8.0   1995-02-10   \n\n   runtime                        title  vote_average  vote_count  \\\n0     81.0                    Toy Story           7.7      5415.0   \n1    104.0                      Jumanji           6.9      2413.0   \n2    101.0             Grumpier Old Men           6.5        92.0   \n3    127.0            Waiting to Exhale           6.1        34.0   \n4    106.0  Father of the Bride Part II           5.7       173.0   \n\n                                              actors  \\\n0  [Tom Hanks, Tim Allen, Don Rickles, Jim Varney...   \n1  [Robin Williams, Jonathan Hyde, Kirsten Dunst,...   \n2  [Walter Matthau, Jack Lemmon, Ann-Margret, Sop...   \n3  [Whitney Houston, Angela Bassett, Loretta Devi...   \n4  [Steve Martin, Diane Keaton, Martin Short, Kim...   \n\n                                  keywords_extracted  \\\n0  [jealousy, toy, boy, friendship, friends, riva...   \n1  [board game, disappearance, based on children'...   \n2  [fishing, best friend, duringcreditsstinger, o...   \n3  [based on novel, interracial relationship, sin...   \n4  [baby, midlife crisis, confidence, aging, daug...   \n\n                genre_extracted  \\\n0   [Animation, Comedy, Family]   \n1  [Adventure, Fantasy, Family]   \n2             [Romance, Comedy]   \n3      [Comedy, Drama, Romance]   \n4                      [Comedy]   \n\n                        production_company_extracted  \\\n0                          [Pixar Animation Studios]   \n1  [TriStar Pictures, Teitler Film, Interscope Co...   \n2                     [Warner Bros., Lancaster Gate]   \n3           [Twentieth Century Fox Film Corporation]   \n4       [Sandollar Productions, Touchstone Pictures]   \n\n  production_country_extracted  \n0   [United States of America]  \n1   [United States of America]  \n2   [United States of America]  \n3   [United States of America]  \n4   [United States of America]  ",
      "text/html": "<div>\n<style scoped>\n    .dataframe tbody tr th:only-of-type {\n        vertical-align: middle;\n    }\n\n    .dataframe tbody tr th {\n        vertical-align: top;\n    }\n\n    .dataframe thead th {\n        text-align: right;\n    }\n</style>\n<table border=\"1\" class=\"dataframe\">\n  <thead>\n    <tr style=\"text-align: right;\">\n      <th></th>\n      <th>id_x</th>\n      <th>movieId</th>\n      <th>imdbId</th>\n      <th>tmdbId</th>\n      <th>belongs_to_collection</th>\n      <th>original_language</th>\n      <th>overview</th>\n      <th>popularity</th>\n      <th>release_date</th>\n      <th>runtime</th>\n      <th>title</th>\n      <th>vote_average</th>\n      <th>vote_count</th>\n      <th>actors</th>\n      <th>keywords_extracted</th>\n      <th>genre_extracted</th>\n      <th>production_company_extracted</th>\n      <th>production_country_extracted</th>\n    </tr>\n  </thead>\n  <tbody>\n    <tr>\n      <th>0</th>\n      <td>862</td>\n      <td>1</td>\n      <td>114709</td>\n      <td>862</td>\n      <td>1</td>\n      <td>en</td>\n      <td>Led by Woody, Andy's toys live happily in his ...</td>\n      <td>21.0</td>\n      <td>1995-10-30</td>\n      <td>81.0</td>\n      <td>Toy Story</td>\n      <td>7.7</td>\n      <td>5415.0</td>\n      <td>[Tom Hanks, Tim Allen, Don Rickles, Jim Varney...</td>\n      <td>[jealousy, toy, boy, friendship, friends, riva...</td>\n      <td>[Animation, Comedy, Family]</td>\n      <td>[Pixar Animation Studios]</td>\n      <td>[United States of America]</td>\n    </tr>\n    <tr>\n      <th>1</th>\n      <td>8844</td>\n      <td>2</td>\n      <td>113497</td>\n      <td>8844</td>\n      <td>0</td>\n      <td>en</td>\n      <td>When siblings Judy and Peter discover an encha...</td>\n      <td>17.0</td>\n      <td>1995-12-15</td>\n      <td>104.0</td>\n      <td>Jumanji</td>\n      <td>6.9</td>\n      <td>2413.0</td>\n      <td>[Robin Williams, Jonathan Hyde, Kirsten Dunst,...</td>\n      <td>[board game, disappearance, based on children'...</td>\n      <td>[Adventure, Fantasy, Family]</td>\n      <td>[TriStar Pictures, Teitler Film, Interscope Co...</td>\n      <td>[United States of America]</td>\n    </tr>\n    <tr>\n      <th>2</th>\n      <td>15602</td>\n      <td>3</td>\n      <td>113228</td>\n      <td>15602</td>\n      <td>1</td>\n      <td>en</td>\n      <td>A family wedding reignites the ancient feud be...</td>\n      <td>11.0</td>\n      <td>1995-12-22</td>\n      <td>101.0</td>\n      <td>Grumpier Old Men</td>\n      <td>6.5</td>\n      <td>92.0</td>\n      <td>[Walter Matthau, Jack Lemmon, Ann-Margret, Sop...</td>\n      <td>[fishing, best friend, duringcreditsstinger, o...</td>\n      <td>[Romance, Comedy]</td>\n      <td>[Warner Bros., Lancaster Gate]</td>\n      <td>[United States of America]</td>\n    </tr>\n    <tr>\n      <th>3</th>\n      <td>31357</td>\n      <td>4</td>\n      <td>114885</td>\n      <td>31357</td>\n      <td>0</td>\n      <td>en</td>\n      <td>Cheated on, mistreated and stepped on, the wom...</td>\n      <td>3.0</td>\n      <td>1995-12-22</td>\n      <td>127.0</td>\n      <td>Waiting to Exhale</td>\n      <td>6.1</td>\n      <td>34.0</td>\n      <td>[Whitney Houston, Angela Bassett, Loretta Devi...</td>\n      <td>[based on novel, interracial relationship, sin...</td>\n      <td>[Comedy, Drama, Romance]</td>\n      <td>[Twentieth Century Fox Film Corporation]</td>\n      <td>[United States of America]</td>\n    </tr>\n    <tr>\n      <th>4</th>\n      <td>11862</td>\n      <td>5</td>\n      <td>113041</td>\n      <td>11862</td>\n      <td>1</td>\n      <td>en</td>\n      <td>Just when George Banks has recovered from his ...</td>\n      <td>8.0</td>\n      <td>1995-02-10</td>\n      <td>106.0</td>\n      <td>Father of the Bride Part II</td>\n      <td>5.7</td>\n      <td>173.0</td>\n      <td>[Steve Martin, Diane Keaton, Martin Short, Kim...</td>\n      <td>[baby, midlife crisis, confidence, aging, daug...</td>\n      <td>[Comedy]</td>\n      <td>[Sandollar Productions, Touchstone Pictures]</td>\n      <td>[United States of America]</td>\n    </tr>\n  </tbody>\n</table>\n</div>"
     },
     "execution_count": 4,
     "metadata": {},
     "output_type": "execute_result"
    }
   ],
   "source": [
    "movies_df.head()"
   ],
   "metadata": {
    "collapsed": false,
    "ExecuteTime": {
     "end_time": "2024-05-01T10:00:02.191924Z",
     "start_time": "2024-05-01T10:00:02.179861Z"
    }
   },
   "execution_count": 4
  },
  {
   "cell_type": "code",
   "outputs": [
    {
     "data": {
      "text/plain": "(24829828, 6)"
     },
     "execution_count": 5,
     "metadata": {},
     "output_type": "execute_result"
    }
   ],
   "source": [
    "# nr of entries in the dataset\n",
    "ratings_df.shape"
   ],
   "metadata": {
    "collapsed": false,
    "ExecuteTime": {
     "end_time": "2024-05-01T10:00:17.176058Z",
     "start_time": "2024-05-01T10:00:17.166192Z"
    }
   },
   "execution_count": 5
  },
  {
   "cell_type": "code",
   "outputs": [
    {
     "data": {
      "text/plain": "(38862, 18)"
     },
     "execution_count": 6,
     "metadata": {},
     "output_type": "execute_result"
    }
   ],
   "source": [
    "movies_df.shape"
   ],
   "metadata": {
    "collapsed": false,
    "ExecuteTime": {
     "end_time": "2024-05-01T10:00:18.359441Z",
     "start_time": "2024-05-01T10:00:18.357124Z"
    }
   },
   "execution_count": 6
  },
  {
   "cell_type": "markdown",
   "source": [
    "We will use stratified sampling to downsample the ratings dataset to 100,000 entries. This will help us reduce the size of the dataset while maintaining the distribution of ratings. We will categorize the ratings into bins and sample an equal number of entries from each bin to ensure that the downsampled dataset is representative of the original dataset."
   ],
   "metadata": {
    "collapsed": false
   }
  },
  {
   "cell_type": "code",
   "outputs": [
    {
     "name": "stderr",
     "output_type": "stream",
     "text": [
      "/var/folders/08/34vp8sgn1vj1l_v1dzyhrdk00000gn/T/ipykernel_96769/2505950686.py:5: FutureWarning: The default of observed=False is deprecated and will be changed to True in a future version of pandas. Pass observed=False to retain current behavior or observed=True to adopt the future default and silence this warning.\n",
      "  strat_sampled_ratings_df = ratings_df.groupby('rating_category', group_keys=False).apply(\n"
     ]
    },
    {
     "name": "stdout",
     "output_type": "stream",
     "text": [
      "Original DF Shape: (24829828, 7)\n",
      "Sampled DF Shape: (100000, 7)\n"
     ]
    },
    {
     "ename": "NameError",
     "evalue": "name 'summary_stats_comparison' is not defined",
     "output_type": "error",
     "traceback": [
      "\u001B[0;31m---------------------------------------------------------------------------\u001B[0m",
      "\u001B[0;31mNameError\u001B[0m                                 Traceback (most recent call last)",
      "Cell \u001B[0;32mIn[7], line 11\u001B[0m\n\u001B[1;32m      9\u001B[0m \u001B[38;5;28mprint\u001B[39m(\u001B[38;5;124mf\u001B[39m\u001B[38;5;124m\"\u001B[39m\u001B[38;5;124mOriginal DF Shape: \u001B[39m\u001B[38;5;132;01m{\u001B[39;00mratings_df\u001B[38;5;241m.\u001B[39mshape\u001B[38;5;132;01m}\u001B[39;00m\u001B[38;5;124m\"\u001B[39m)\n\u001B[1;32m     10\u001B[0m \u001B[38;5;28mprint\u001B[39m(\u001B[38;5;124mf\u001B[39m\u001B[38;5;124m\"\u001B[39m\u001B[38;5;124mSampled DF Shape: \u001B[39m\u001B[38;5;132;01m{\u001B[39;00mstrat_sampled_ratings_df\u001B[38;5;241m.\u001B[39mshape\u001B[38;5;132;01m}\u001B[39;00m\u001B[38;5;124m\"\u001B[39m)\n\u001B[0;32m---> 11\u001B[0m summary_stats_comparison(ratings_df, strat_sampled_ratings_df, \u001B[38;5;124m'\u001B[39m\u001B[38;5;124mrating\u001B[39m\u001B[38;5;124m'\u001B[39m)\n",
      "\u001B[0;31mNameError\u001B[0m: name 'summary_stats_comparison' is not defined"
     ]
    }
   ],
   "source": [
    "# We will use pandas' cut function to categorize these ratings\n",
    "ratings_df['rating_category'] = pd.cut(ratings_df['rating'], bins=np.arange(0.5, 6.0, 0.5), include_lowest=True, right=False)\n",
    "\n",
    "# Stratified sampling based on rating categories\n",
    "strat_sampled_ratings_df = ratings_df.groupby('rating_category', group_keys=False).apply(\n",
    "    lambda x: x.sample(int(np.rint(100000 * len(x) / len(ratings_df))), random_state=42)\n",
    ")\n",
    "\n",
    "print(f\"Original DF Shape: {ratings_df.shape}\")\n",
    "print(f\"Sampled DF Shape: {strat_sampled_ratings_df.shape}\")\n",
    "summary_stats_comparison(ratings_df, strat_sampled_ratings_df, 'rating')"
   ],
   "metadata": {
    "collapsed": false,
    "ExecuteTime": {
     "end_time": "2024-05-01T10:01:20.247940Z",
     "start_time": "2024-05-01T10:01:17.343717Z"
    }
   },
   "execution_count": 7
  },
  {
   "cell_type": "code",
   "outputs": [
    {
     "data": {
      "text/plain": "         Original   Sampled\ncount  24829828.0  100000.0\nmean      3.52898   3.52899\nstd      1.060177  1.060165\nmin           0.5       0.5\n25%           3.0       3.0\n50%           3.5       3.5\n75%           4.0       4.0\nmax           5.0       5.0",
      "text/html": "<div>\n<style scoped>\n    .dataframe tbody tr th:only-of-type {\n        vertical-align: middle;\n    }\n\n    .dataframe tbody tr th {\n        vertical-align: top;\n    }\n\n    .dataframe thead th {\n        text-align: right;\n    }\n</style>\n<table border=\"1\" class=\"dataframe\">\n  <thead>\n    <tr style=\"text-align: right;\">\n      <th></th>\n      <th>Original</th>\n      <th>Sampled</th>\n    </tr>\n  </thead>\n  <tbody>\n    <tr>\n      <th>count</th>\n      <td>24829828.0</td>\n      <td>100000.0</td>\n    </tr>\n    <tr>\n      <th>mean</th>\n      <td>3.52898</td>\n      <td>3.52899</td>\n    </tr>\n    <tr>\n      <th>std</th>\n      <td>1.060177</td>\n      <td>1.060165</td>\n    </tr>\n    <tr>\n      <th>min</th>\n      <td>0.5</td>\n      <td>0.5</td>\n    </tr>\n    <tr>\n      <th>25%</th>\n      <td>3.0</td>\n      <td>3.0</td>\n    </tr>\n    <tr>\n      <th>50%</th>\n      <td>3.5</td>\n      <td>3.5</td>\n    </tr>\n    <tr>\n      <th>75%</th>\n      <td>4.0</td>\n      <td>4.0</td>\n    </tr>\n    <tr>\n      <th>max</th>\n      <td>5.0</td>\n      <td>5.0</td>\n    </tr>\n  </tbody>\n</table>\n</div>"
     },
     "execution_count": 11,
     "metadata": {},
     "output_type": "execute_result"
    }
   ],
   "source": [
    "# Compare summary statistics of the original and downsampled datasets\n",
    "def summary_stats_comparison(original_df, downsampled_df, column):\n",
    "    \"\"\"Compare summary statistics of a column in the original and downsampled datasets.\"\"\"\n",
    "    original_stats = original_df[column].describe()\n",
    "    downsampled_stats = downsampled_df[column].describe()\n",
    "    \n",
    "    summary_stats = pd.concat([original_stats, downsampled_stats], axis=1)\n",
    "    summary_stats.columns = ['Original', 'Sampled']\n",
    "    \n",
    "    return summary_stats\n",
    "\n",
    "summary_stats_comparison(ratings_df, strat_sampled_ratings_df, 'rating')"
   ],
   "metadata": {
    "collapsed": false,
    "ExecuteTime": {
     "end_time": "2024-05-01T10:06:44.606179Z",
     "start_time": "2024-05-01T10:06:43.578185Z"
    }
   },
   "execution_count": 11
  },
  {
   "cell_type": "code",
   "outputs": [
    {
     "data": {
      "text/plain": "<Figure size 1400x700 with 1 Axes>",
      "image/png": "[encoded data removed]"
     },
     "metadata": {},
     "output_type": "display_data"
    }
   ],
   "source": [
    "import matplotlib.pyplot as plt\n",
    "import numpy as np\n",
    "\n",
    "# Define your bins\n",
    "bins = np.arange(0.5, 6.0, 0.5)\n",
    "\n",
    "# Calculate bin centers\n",
    "bin_centers = 0.5 * (bins[:-1] + bins[1:])\n",
    "\n",
    "# Define width of each bar\n",
    "bar_width = 0.2\n",
    "\n",
    "# Plot histograms\n",
    "plt.figure(figsize=(14, 7))\n",
    "plt.bar(bin_centers - bar_width/2, ratings_df['rating'].value_counts(normalize=True, sort=False, bins=bins), width=bar_width, alpha=0.7, label='Original', align='center')\n",
    "plt.bar(bin_centers + bar_width/2, strat_sampled_ratings_df['rating'].value_counts(normalize=True, sort=False, bins=bins), width=bar_width, alpha=0.7, label='Sampled', align='center')\n",
    "\n",
    "plt.title('Comparison of Rating Distributions')\n",
    "plt.xlabel('Rating')\n",
    "plt.ylabel('Proportion')\n",
    "plt.xticks(bin_centers, labels=[f\"{bin:.1f}\" for bin in bins[:-1]])  # Set x-tick labels to match bin centers\n",
    "plt.legend()\n",
    "plt.show()"
   ],
   "metadata": {
    "collapsed": false,
    "ExecuteTime": {
     "end_time": "2024-05-01T10:01:26.978022Z",
     "start_time": "2024-05-01T10:01:25.875787Z"
    }
   },
   "execution_count": 8
  },
  {
   "cell_type": "code",
   "outputs": [
    {
     "data": {
      "text/plain": "          userId  movieId  rating           timestamp  user_mean_rating  \\\n11800835  128365     1037     0.5 2009-10-19 10:10:37          3.104895   \n3192182    34770    27316     0.5 2006-06-10 09:14:33          1.329146   \n10041143  108700      307     0.5 2010-05-12 21:26:12          3.729651   \n14911364  162680    73929     0.5 2015-11-22 18:22:29          3.505618   \n13024846  141941     4308     0.5 2006-06-10 05:21:47          2.987685   \n...          ...      ...     ...                 ...               ...   \n2596165    28184     2912     5.0 2000-11-21 00:08:40          3.588011   \n2174721    23629     1185     5.0 1997-03-13 18:00:11          3.734463   \n23363519  254448    49272     5.0 2016-08-08 15:59:55          3.819149   \n19688576  214494      541     5.0 2005-04-05 14:26:59          3.395652   \n2412565    26230      474     5.0 1996-06-02 17:39:48          4.155963   \n\n          liked_by_user rating_category  \n11800835          False      [0.5, 1.0)  \n3192182           False      [0.5, 1.0)  \n10041143          False      [0.5, 1.0)  \n14911364          False      [0.5, 1.0)  \n13024846          False      [0.5, 1.0)  \n...                 ...             ...  \n2596165            True      [5.0, 5.5)  \n2174721            True      [5.0, 5.5)  \n23363519           True      [5.0, 5.5)  \n19688576           True      [5.0, 5.5)  \n2412565            True      [5.0, 5.5)  \n\n[100000 rows x 7 columns]",
      "text/html": "<div>\n<style scoped>\n    .dataframe tbody tr th:only-of-type {\n        vertical-align: middle;\n    }\n\n    .dataframe tbody tr th {\n        vertical-align: top;\n    }\n\n    .dataframe thead th {\n        text-align: right;\n    }\n</style>\n<table border=\"1\" class=\"dataframe\">\n  <thead>\n    <tr style=\"text-align: right;\">\n      <th></th>\n      <th>userId</th>\n      <th>movieId</th>\n      <th>rating</th>\n      <th>timestamp</th>\n      <th>user_mean_rating</th>\n      <th>liked_by_user</th>\n      <th>rating_category</th>\n    </tr>\n  </thead>\n  <tbody>\n    <tr>\n      <th>11800835</th>\n      <td>128365</td>\n      <td>1037</td>\n      <td>0.5</td>\n      <td>2009-10-19 10:10:37</td>\n      <td>3.104895</td>\n      <td>False</td>\n      <td>[0.5, 1.0)</td>\n    </tr>\n    <tr>\n      <th>3192182</th>\n      <td>34770</td>\n      <td>27316</td>\n      <td>0.5</td>\n      <td>2006-06-10 09:14:33</td>\n      <td>1.329146</td>\n      <td>False</td>\n      <td>[0.5, 1.0)</td>\n    </tr>\n    <tr>\n      <th>10041143</th>\n      <td>108700</td>\n      <td>307</td>\n      <td>0.5</td>\n      <td>2010-05-12 21:26:12</td>\n      <td>3.729651</td>\n      <td>False</td>\n      <td>[0.5, 1.0)</td>\n    </tr>\n    <tr>\n      <th>14911364</th>\n      <td>162680</td>\n      <td>73929</td>\n      <td>0.5</td>\n      <td>2015-11-22 18:22:29</td>\n      <td>3.505618</td>\n      <td>False</td>\n      <td>[0.5, 1.0)</td>\n    </tr>\n    <tr>\n      <th>13024846</th>\n      <td>141941</td>\n      <td>4308</td>\n      <td>0.5</td>\n      <td>2006-06-10 05:21:47</td>\n      <td>2.987685</td>\n      <td>False</td>\n      <td>[0.5, 1.0)</td>\n    </tr>\n    <tr>\n      <th>...</th>\n      <td>...</td>\n      <td>...</td>\n      <td>...</td>\n      <td>...</td>\n      <td>...</td>\n      <td>...</td>\n      <td>...</td>\n    </tr>\n    <tr>\n      <th>2596165</th>\n      <td>28184</td>\n      <td>2912</td>\n      <td>5.0</td>\n      <td>2000-11-21 00:08:40</td>\n      <td>3.588011</td>\n      <td>True</td>\n      <td>[5.0, 5.5)</td>\n    </tr>\n    <tr>\n      <th>2174721</th>\n      <td>23629</td>\n      <td>1185</td>\n      <td>5.0</td>\n      <td>1997-03-13 18:00:11</td>\n      <td>3.734463</td>\n      <td>True</td>\n      <td>[5.0, 5.5)</td>\n    </tr>\n    <tr>\n      <th>23363519</th>\n      <td>254448</td>\n      <td>49272</td>\n      <td>5.0</td>\n      <td>2016-08-08 15:59:55</td>\n      <td>3.819149</td>\n      <td>True</td>\n      <td>[5.0, 5.5)</td>\n    </tr>\n    <tr>\n      <th>19688576</th>\n      <td>214494</td>\n      <td>541</td>\n      <td>5.0</td>\n      <td>2005-04-05 14:26:59</td>\n      <td>3.395652</td>\n      <td>True</td>\n      <td>[5.0, 5.5)</td>\n    </tr>\n    <tr>\n      <th>2412565</th>\n      <td>26230</td>\n      <td>474</td>\n      <td>5.0</td>\n      <td>1996-06-02 17:39:48</td>\n      <td>4.155963</td>\n      <td>True</td>\n      <td>[5.0, 5.5)</td>\n    </tr>\n  </tbody>\n</table>\n<p>100000 rows × 7 columns</p>\n</div>"
     },
     "execution_count": 9,
     "metadata": {},
     "output_type": "execute_result"
    }
   ],
   "source": [
    "strat_sampled_ratings_df"
   ],
   "metadata": {
    "collapsed": false,
    "ExecuteTime": {
     "end_time": "2024-05-01T10:01:31.981823Z",
     "start_time": "2024-05-01T10:01:31.975350Z"
    }
   },
   "execution_count": 9
  },
  {
   "cell_type": "code",
   "outputs": [],
   "source": [
    "# Save the downsampled dataset to a pickle file\n",
    "strat_sampled_ratings_df.to_pickle('data/df_ratings_100k.pkl')"
   ],
   "metadata": {
    "collapsed": false,
    "ExecuteTime": {
     "end_time": "2024-05-01T10:02:24.397765Z",
     "start_time": "2024-05-01T10:02:24.366756Z"
    }
   },
   "execution_count": 10
  },
  {
   "cell_type": "markdown",
   "source": [
    "## Adjust Datasets for TFRS Requirements"
   ],
   "metadata": {
    "collapsed": false
   }
  },
  {
   "cell_type": "code",
   "outputs": [
    {
     "data": {
      "text/plain": "userId                       int64\nmovieId                      int64\nrating                     Float64\ntimestamp           datetime64[ns]\nuser_mean_rating           Float64\nliked_by_user              boolean\nrating_category           category\ndtype: object"
     },
     "execution_count": 12,
     "metadata": {},
     "output_type": "execute_result"
    }
   ],
   "source": [
    "# Show column types\n",
    "strat_sampled_ratings_df.dtypes"
   ],
   "metadata": {
    "collapsed": false,
    "ExecuteTime": {
     "end_time": "2024-05-01T10:16:46.770989Z",
     "start_time": "2024-05-01T10:16:46.718332Z"
    }
   },
   "execution_count": 12
  },
  {
   "cell_type": "code",
   "outputs": [
    {
     "data": {
      "text/plain": "bucketized_user_age      float32\nmovie_genres              object\nmovie_id                  object\nmovie_title               object\nraw_user_age             float32\ntimestamp                  int64\nuser_gender                 bool\nuser_id                   object\nuser_occupation_label      int64\nuser_occupation_text      object\nuser_rating              float32\nuser_zip_code             object\ndtype: object"
     },
     "execution_count": 30,
     "metadata": {},
     "output_type": "execute_result"
    }
   ],
   "source": [
    "ratings_df_tfrs.dtypes"
   ],
   "metadata": {
    "collapsed": false,
    "ExecuteTime": {
     "end_time": "2024-05-01T09:38:45.594116Z",
     "start_time": "2024-05-01T09:38:45.584790Z"
    }
   },
   "execution_count": 30
  },
  {
   "cell_type": "code",
   "outputs": [
    {
     "data": {
      "text/plain": "   bucketized_user_age movie_genres movie_id  \\\n0                 45.0          [7]   b'357'   \n1                 25.0      [4, 14]   b'709'   \n2                 18.0          [4]   b'412'   \n3                 50.0       [5, 7]    b'56'   \n4                 50.0     [10, 16]   b'895'   \n\n                                 movie_title  raw_user_age  timestamp  \\\n0  b\"One Flew Over the Cuckoo's Nest (1975)\"          46.0  879024327   \n1                b'Strictly Ballroom (1992)'          32.0  875654590   \n2             b'Very Brady Sequel, A (1996)'          24.0  882075110   \n3                     b'Pulp Fiction (1994)'          50.0  883326919   \n4                         b'Scream 2 (1997)'          55.0  891409199   \n\n   user_gender user_id  user_occupation_label user_occupation_text  \\\n0         True  b'138'                      4            b'doctor'   \n1         True   b'92'                      5     b'entertainment'   \n2         True  b'301'                     17           b'student'   \n3         True   b'60'                      4        b'healthcare'   \n4         True  b'197'                     18        b'technician'   \n\n   user_rating user_zip_code  \n0          4.0      b'53211'  \n1          2.0      b'80525'  \n2          4.0      b'55439'  \n3          4.0      b'06472'  \n4          3.0      b'75094'  ",
      "text/html": "<div>\n<style scoped>\n    .dataframe tbody tr th:only-of-type {\n        vertical-align: middle;\n    }\n\n    .dataframe tbody tr th {\n        vertical-align: top;\n    }\n\n    .dataframe thead th {\n        text-align: right;\n    }\n</style>\n<table border=\"1\" class=\"dataframe\">\n  <thead>\n    <tr style=\"text-align: right;\">\n      <th></th>\n      <th>bucketized_user_age</th>\n      <th>movie_genres</th>\n      <th>movie_id</th>\n      <th>movie_title</th>\n      <th>raw_user_age</th>\n      <th>timestamp</th>\n      <th>user_gender</th>\n      <th>user_id</th>\n      <th>user_occupation_label</th>\n      <th>user_occupation_text</th>\n      <th>user_rating</th>\n      <th>user_zip_code</th>\n    </tr>\n  </thead>\n  <tbody>\n    <tr>\n      <th>0</th>\n      <td>45.0</td>\n      <td>[7]</td>\n      <td>b'357'</td>\n      <td>b\"One Flew Over the Cuckoo's Nest (1975)\"</td>\n      <td>46.0</td>\n      <td>879024327</td>\n      <td>True</td>\n      <td>b'138'</td>\n      <td>4</td>\n      <td>b'doctor'</td>\n      <td>4.0</td>\n      <td>b'53211'</td>\n    </tr>\n    <tr>\n      <th>1</th>\n      <td>25.0</td>\n      <td>[4, 14]</td>\n      <td>b'709'</td>\n      <td>b'Strictly Ballroom (1992)'</td>\n      <td>32.0</td>\n      <td>875654590</td>\n      <td>True</td>\n      <td>b'92'</td>\n      <td>5</td>\n      <td>b'entertainment'</td>\n      <td>2.0</td>\n      <td>b'80525'</td>\n    </tr>\n    <tr>\n      <th>2</th>\n      <td>18.0</td>\n      <td>[4]</td>\n      <td>b'412'</td>\n      <td>b'Very Brady Sequel, A (1996)'</td>\n      <td>24.0</td>\n      <td>882075110</td>\n      <td>True</td>\n      <td>b'301'</td>\n      <td>17</td>\n      <td>b'student'</td>\n      <td>4.0</td>\n      <td>b'55439'</td>\n    </tr>\n    <tr>\n      <th>3</th>\n      <td>50.0</td>\n      <td>[5, 7]</td>\n      <td>b'56'</td>\n      <td>b'Pulp Fiction (1994)'</td>\n      <td>50.0</td>\n      <td>883326919</td>\n      <td>True</td>\n      <td>b'60'</td>\n      <td>4</td>\n      <td>b'healthcare'</td>\n      <td>4.0</td>\n      <td>b'06472'</td>\n    </tr>\n    <tr>\n      <th>4</th>\n      <td>50.0</td>\n      <td>[10, 16]</td>\n      <td>b'895'</td>\n      <td>b'Scream 2 (1997)'</td>\n      <td>55.0</td>\n      <td>891409199</td>\n      <td>True</td>\n      <td>b'197'</td>\n      <td>18</td>\n      <td>b'technician'</td>\n      <td>3.0</td>\n      <td>b'75094'</td>\n    </tr>\n  </tbody>\n</table>\n</div>"
     },
     "execution_count": 31,
     "metadata": {},
     "output_type": "execute_result"
    }
   ],
   "source": [
    "ratings_df_tfrs.head()"
   ],
   "metadata": {
    "collapsed": false,
    "ExecuteTime": {
     "end_time": "2024-05-01T09:39:22.863461Z",
     "start_time": "2024-05-01T09:39:22.850078Z"
    }
   },
   "execution_count": 31
  },
  {
   "cell_type": "code",
   "outputs": [],
   "source": [
    "# Drop rating_category column that was created for downsampling\n",
    "strat_sampled_ratings_df.drop(columns=['rating_category'], inplace=True)"
   ],
   "metadata": {
    "collapsed": false,
    "ExecuteTime": {
     "end_time": "2024-05-01T10:17:13.172349Z",
     "start_time": "2024-05-01T10:17:13.137067Z"
    }
   },
   "execution_count": 13
  },
  {
   "cell_type": "code",
   "outputs": [
    {
     "data": {
      "text/plain": "userId               object\nmovieId              object\nrating              float32\ntimestamp             int64\nuser_mean_rating    float32\nliked_by_user         int64\ndtype: object"
     },
     "execution_count": 14,
     "metadata": {},
     "output_type": "execute_result"
    }
   ],
   "source": [
    "import pandas as pd\n",
    "\n",
    "# First, ensure movieId and userId are converted to strings (object dtype in pandas)\n",
    "strat_sampled_ratings_df['movieId'] = strat_sampled_ratings_df['movieId'].astype(str)\n",
    "strat_sampled_ratings_df['userId'] = strat_sampled_ratings_df['userId'].astype(str)\n",
    "\n",
    "# Convert 'rating', 'user_mean_rating' to float32 for memory efficiency and compatibility\n",
    "float_columns = ['rating', 'user_mean_rating']\n",
    "for col in float_columns:\n",
    "    strat_sampled_ratings_df[col] = strat_sampled_ratings_df[col].astype('float32')\n",
    "\n",
    "# Convert 'timestamp' from datetime64[ns] to int64 (UNIX timestamp)\n",
    "strat_sampled_ratings_df['timestamp'] = strat_sampled_ratings_df['timestamp'].astype('int64') // 10**9\n",
    "\n",
    "# Ensure 'liked_by_user' is a int (1 or 0)\n",
    "strat_sampled_ratings_df['liked_by_user'] = strat_sampled_ratings_df['liked_by_user'].astype('int')\n",
    "\n",
    "# Print data types to verify\n",
    "strat_sampled_ratings_df.dtypes"
   ],
   "metadata": {
    "collapsed": false,
    "ExecuteTime": {
     "end_time": "2024-05-01T10:17:19.196237Z",
     "start_time": "2024-05-01T10:17:19.112302Z"
    }
   },
   "execution_count": 14
  },
  {
   "cell_type": "code",
   "outputs": [
    {
     "data": {
      "text/plain": "          userId movieId  rating   timestamp  user_mean_rating  liked_by_user\n11800835  128365    1037     0.5  1255947037          3.104895              0\n3192182    34770   27316     0.5  1149930873          1.329146              0\n10041143  108700     307     0.5  1273699572          3.729651              0\n14911364  162680   73929     0.5  1448216549          3.505618              0\n13024846  141941    4308     0.5  1149916907          2.987685              0\n...          ...     ...     ...         ...               ...            ...\n2596165    28184    2912     5.0   974765320          3.588012              1\n2174721    23629    1185     5.0   858276011          3.734463              1\n23363519  254448   49272     5.0  1470671995          3.819149              1\n19688576  214494     541     5.0  1112711219          3.395652              1\n2412565    26230     474     5.0   833737188          4.155963              1\n\n[100000 rows x 6 columns]",
      "text/html": "<div>\n<style scoped>\n    .dataframe tbody tr th:only-of-type {\n        vertical-align: middle;\n    }\n\n    .dataframe tbody tr th {\n        vertical-align: top;\n    }\n\n    .dataframe thead th {\n        text-align: right;\n    }\n</style>\n<table border=\"1\" class=\"dataframe\">\n  <thead>\n    <tr style=\"text-align: right;\">\n      <th></th>\n      <th>userId</th>\n      <th>movieId</th>\n      <th>rating</th>\n      <th>timestamp</th>\n      <th>user_mean_rating</th>\n      <th>liked_by_user</th>\n    </tr>\n  </thead>\n  <tbody>\n    <tr>\n      <th>11800835</th>\n      <td>128365</td>\n      <td>1037</td>\n      <td>0.5</td>\n      <td>1255947037</td>\n      <td>3.104895</td>\n      <td>0</td>\n    </tr>\n    <tr>\n      <th>3192182</th>\n      <td>34770</td>\n      <td>27316</td>\n      <td>0.5</td>\n      <td>1149930873</td>\n      <td>1.329146</td>\n      <td>0</td>\n    </tr>\n    <tr>\n      <th>10041143</th>\n      <td>108700</td>\n      <td>307</td>\n      <td>0.5</td>\n      <td>1273699572</td>\n      <td>3.729651</td>\n      <td>0</td>\n    </tr>\n    <tr>\n      <th>14911364</th>\n      <td>162680</td>\n      <td>73929</td>\n      <td>0.5</td>\n      <td>1448216549</td>\n      <td>3.505618</td>\n      <td>0</td>\n    </tr>\n    <tr>\n      <th>13024846</th>\n      <td>141941</td>\n      <td>4308</td>\n      <td>0.5</td>\n      <td>1149916907</td>\n      <td>2.987685</td>\n      <td>0</td>\n    </tr>\n    <tr>\n      <th>...</th>\n      <td>...</td>\n      <td>...</td>\n      <td>...</td>\n      <td>...</td>\n      <td>...</td>\n      <td>...</td>\n    </tr>\n    <tr>\n      <th>2596165</th>\n      <td>28184</td>\n      <td>2912</td>\n      <td>5.0</td>\n      <td>974765320</td>\n      <td>3.588012</td>\n      <td>1</td>\n    </tr>\n    <tr>\n      <th>2174721</th>\n      <td>23629</td>\n      <td>1185</td>\n      <td>5.0</td>\n      <td>858276011</td>\n      <td>3.734463</td>\n      <td>1</td>\n    </tr>\n    <tr>\n      <th>23363519</th>\n      <td>254448</td>\n      <td>49272</td>\n      <td>5.0</td>\n      <td>1470671995</td>\n      <td>3.819149</td>\n      <td>1</td>\n    </tr>\n    <tr>\n      <th>19688576</th>\n      <td>214494</td>\n      <td>541</td>\n      <td>5.0</td>\n      <td>1112711219</td>\n      <td>3.395652</td>\n      <td>1</td>\n    </tr>\n    <tr>\n      <th>2412565</th>\n      <td>26230</td>\n      <td>474</td>\n      <td>5.0</td>\n      <td>833737188</td>\n      <td>4.155963</td>\n      <td>1</td>\n    </tr>\n  </tbody>\n</table>\n<p>100000 rows × 6 columns</p>\n</div>"
     },
     "execution_count": 15,
     "metadata": {},
     "output_type": "execute_result"
    }
   ],
   "source": [
    "strat_sampled_ratings_df"
   ],
   "metadata": {
    "collapsed": false,
    "ExecuteTime": {
     "end_time": "2024-05-01T10:17:32.386359Z",
     "start_time": "2024-05-01T10:17:32.358210Z"
    }
   },
   "execution_count": 15
  },
  {
   "cell_type": "code",
   "outputs": [],
   "source": [
    "import tensorflow as tf\n",
    "\n",
    "def df_to_dataset(dataframe, shuffle=True, batch_size=32, label_column=None):\n",
    "    \"\"\"\n",
    "    Converts a DataFrame to a tf.data.Dataset.\n",
    "\n",
    "    Args:\n",
    "    dataframe (pd.DataFrame): The pandas DataFrame to convert.\n",
    "    shuffle (bool): Whether to shuffle the data.\n",
    "    batch_size (int): Batch size for the dataset.\n",
    "    label_column (str, optional): The name of the label column, if any.\n",
    "\n",
    "    Returns:\n",
    "    tf.data.Dataset: The resulting TensorFlow Dataset.\n",
    "    \"\"\"\n",
    "    dataframe = dataframe.copy()\n",
    "    if label_column is not None:\n",
    "        labels = dataframe.pop(label_column)\n",
    "        dataset = tf.data.Dataset.from_tensor_slices((dict(dataframe), labels))\n",
    "    else:\n",
    "        dataset = tf.data.Dataset.from_tensor_slices(dict(dataframe))\n",
    "\n",
    "    if shuffle:\n",
    "        dataset = dataset.shuffle(buffer_size=len(dataframe))\n",
    "    dataset = dataset.batch(batch_size)\n",
    "    return dataset"
   ],
   "metadata": {
    "collapsed": false,
    "ExecuteTime": {
     "end_time": "2024-05-01T10:31:57.999070Z",
     "start_time": "2024-05-01T10:31:57.971845Z"
    }
   },
   "execution_count": 18
  },
  {
   "cell_type": "code",
   "outputs": [],
   "source": [
    "# Convert the DataFrame to a TensorFlow Dataset\n",
    "ratings = df_to_dataset(strat_sampled_ratings_df, batch_size=2)"
   ],
   "metadata": {
    "collapsed": false,
    "ExecuteTime": {
     "end_time": "2024-05-01T10:34:10.061146Z",
     "start_time": "2024-05-01T10:34:09.871318Z"
    }
   },
   "execution_count": 22
  },
  {
   "cell_type": "code",
   "outputs": [
    {
     "name": "stdout",
     "output_type": "stream",
     "text": [
      "{'liked_by_user': <tf.Tensor: shape=(2,), dtype=int64, numpy=array([0, 1])>,\n",
      " 'movieId': <tf.Tensor: shape=(2,), dtype=string, numpy=array([b'969', b'170'], dtype=object)>,\n",
      " 'rating': <tf.Tensor: shape=(2,), dtype=float32, numpy=array([3. , 3.5], dtype=float32)>,\n",
      " 'timestamp': <tf.Tensor: shape=(2,), dtype=int64, numpy=array([ 859444645, 1105437019])>,\n",
      " 'userId': <tf.Tensor: shape=(2,), dtype=string, numpy=array([b'214555', b'148244'], dtype=object)>,\n",
      " 'user_mean_rating': <tf.Tensor: shape=(2,), dtype=float32, numpy=array([3.4963503, 3.282967 ], dtype=float32)>}\n"
     ]
    },
    {
     "name": "stderr",
     "output_type": "stream",
     "text": [
      "2024-05-01 11:35:11.845852: W tensorflow/core/framework/local_rendezvous.cc:404] Local rendezvous is aborting with status: OUT_OF_RANGE: End of sequence\n"
     ]
    }
   ],
   "source": [
    "for x in ratings.take(1):\n",
    "    pprint.pprint(x)"
   ],
   "metadata": {
    "collapsed": false,
    "ExecuteTime": {
     "end_time": "2024-05-01T10:35:11.857303Z",
     "start_time": "2024-05-01T10:35:11.123875Z"
    }
   },
   "execution_count": 24
  },
  {
   "cell_type": "markdown",
   "source": [],
   "metadata": {
    "collapsed": false
   }
  },
  {
   "cell_type": "markdown",
   "source": [
    "For the TFRS we will use the movielens dataset from [Tensorflow](https://www.tensorflow.org/datasets/catalog/movielens) which is specifically designed to work with TFRS. It is equal to the dataset that was used for the Preprocessing and EDA. However, we will use a subset dataset that is able to run.\n",
    "\n",
    "- 100k-ratings: This dataset contains 100,000 ratings from 943 users on 1,682 movies. This dataset is the oldest version of the MovieLens dataset.\n",
    "- 100k-movies: This dataset contains data of 1,682 movies rated in the 100k dataset."
   ],
   "metadata": {
    "id": "v31WZw6uqI1M"
   }
  },
  {
   "cell_type": "code",
   "source": [
    "# Ratings data.\n",
    "ratings_tfrs = tfds.load(\"movielens/100k-ratings\", split=\"train\")\n",
    "\n",
    "#Movie Data\n",
    "movies_tfrs = tfds.load(\"movielens/100k-movies\", split=\"train\")"
   ],
   "metadata": {
    "id": "JfmM4T97jikQ",
    "ExecuteTime": {
     "end_time": "2024-05-01T09:36:26.229700Z",
     "start_time": "2024-05-01T09:36:26.076651Z"
    }
   },
   "execution_count": 22,
   "outputs": []
  },
  {
   "cell_type": "code",
   "outputs": [
    {
     "name": "stderr",
     "output_type": "stream",
     "text": [
      "2024-05-01 10:58:20.256334: W tensorflow/core/framework/local_rendezvous.cc:404] Local rendezvous is aborting with status: OUT_OF_RANGE: End of sequence\n"
     ]
    }
   ],
   "source": [
    "# Transform the dataset to a pandas dataframe\n",
    "ratings_df_tfrs = tfds.as_dataframe(ratings_tfrs)"
   ],
   "metadata": {
    "collapsed": false,
    "ExecuteTime": {
     "end_time": "2024-05-01T09:58:20.783231Z",
     "start_time": "2024-05-01T09:58:10.986731Z"
    }
   },
   "execution_count": 45
  },
  {
   "cell_type": "code",
   "outputs": [
    {
     "data": {
      "text/plain": "   bucketized_user_age movie_genres movie_id  \\\n0                 45.0          [7]   b'357'   \n1                 25.0      [4, 14]   b'709'   \n2                 18.0          [4]   b'412'   \n3                 50.0       [5, 7]    b'56'   \n4                 50.0     [10, 16]   b'895'   \n\n                                 movie_title  raw_user_age  timestamp  \\\n0  b\"One Flew Over the Cuckoo's Nest (1975)\"          46.0  879024327   \n1                b'Strictly Ballroom (1992)'          32.0  875654590   \n2             b'Very Brady Sequel, A (1996)'          24.0  882075110   \n3                     b'Pulp Fiction (1994)'          50.0  883326919   \n4                         b'Scream 2 (1997)'          55.0  891409199   \n\n   user_gender user_id  user_occupation_label user_occupation_text  \\\n0         True  b'138'                      4            b'doctor'   \n1         True   b'92'                      5     b'entertainment'   \n2         True  b'301'                     17           b'student'   \n3         True   b'60'                      4        b'healthcare'   \n4         True  b'197'                     18        b'technician'   \n\n   user_rating user_zip_code  \n0          4.0      b'53211'  \n1          2.0      b'80525'  \n2          4.0      b'55439'  \n3          4.0      b'06472'  \n4          3.0      b'75094'  ",
      "text/html": "<div>\n<style scoped>\n    .dataframe tbody tr th:only-of-type {\n        vertical-align: middle;\n    }\n\n    .dataframe tbody tr th {\n        vertical-align: top;\n    }\n\n    .dataframe thead th {\n        text-align: right;\n    }\n</style>\n<table border=\"1\" class=\"dataframe\">\n  <thead>\n    <tr style=\"text-align: right;\">\n      <th></th>\n      <th>bucketized_user_age</th>\n      <th>movie_genres</th>\n      <th>movie_id</th>\n      <th>movie_title</th>\n      <th>raw_user_age</th>\n      <th>timestamp</th>\n      <th>user_gender</th>\n      <th>user_id</th>\n      <th>user_occupation_label</th>\n      <th>user_occupation_text</th>\n      <th>user_rating</th>\n      <th>user_zip_code</th>\n    </tr>\n  </thead>\n  <tbody>\n    <tr>\n      <th>0</th>\n      <td>45.0</td>\n      <td>[7]</td>\n      <td>b'357'</td>\n      <td>b\"One Flew Over the Cuckoo's Nest (1975)\"</td>\n      <td>46.0</td>\n      <td>879024327</td>\n      <td>True</td>\n      <td>b'138'</td>\n      <td>4</td>\n      <td>b'doctor'</td>\n      <td>4.0</td>\n      <td>b'53211'</td>\n    </tr>\n    <tr>\n      <th>1</th>\n      <td>25.0</td>\n      <td>[4, 14]</td>\n      <td>b'709'</td>\n      <td>b'Strictly Ballroom (1992)'</td>\n      <td>32.0</td>\n      <td>875654590</td>\n      <td>True</td>\n      <td>b'92'</td>\n      <td>5</td>\n      <td>b'entertainment'</td>\n      <td>2.0</td>\n      <td>b'80525'</td>\n    </tr>\n    <tr>\n      <th>2</th>\n      <td>18.0</td>\n      <td>[4]</td>\n      <td>b'412'</td>\n      <td>b'Very Brady Sequel, A (1996)'</td>\n      <td>24.0</td>\n      <td>882075110</td>\n      <td>True</td>\n      <td>b'301'</td>\n      <td>17</td>\n      <td>b'student'</td>\n      <td>4.0</td>\n      <td>b'55439'</td>\n    </tr>\n    <tr>\n      <th>3</th>\n      <td>50.0</td>\n      <td>[5, 7]</td>\n      <td>b'56'</td>\n      <td>b'Pulp Fiction (1994)'</td>\n      <td>50.0</td>\n      <td>883326919</td>\n      <td>True</td>\n      <td>b'60'</td>\n      <td>4</td>\n      <td>b'healthcare'</td>\n      <td>4.0</td>\n      <td>b'06472'</td>\n    </tr>\n    <tr>\n      <th>4</th>\n      <td>50.0</td>\n      <td>[10, 16]</td>\n      <td>b'895'</td>\n      <td>b'Scream 2 (1997)'</td>\n      <td>55.0</td>\n      <td>891409199</td>\n      <td>True</td>\n      <td>b'197'</td>\n      <td>18</td>\n      <td>b'technician'</td>\n      <td>3.0</td>\n      <td>b'75094'</td>\n    </tr>\n  </tbody>\n</table>\n</div>"
     },
     "execution_count": 46,
     "metadata": {},
     "output_type": "execute_result"
    }
   ],
   "source": [
    "ratings_df_tfrs.head()"
   ],
   "metadata": {
    "collapsed": false,
    "ExecuteTime": {
     "end_time": "2024-05-01T09:58:20.796054Z",
     "start_time": "2024-05-01T09:58:20.785017Z"
    }
   },
   "execution_count": 46
  },
  {
   "cell_type": "code",
   "outputs": [
    {
     "data": {
      "text/plain": "(100000, 12)"
     },
     "execution_count": 19,
     "metadata": {},
     "output_type": "execute_result"
    }
   ],
   "source": [
    "ratings_df_tfrs.shape"
   ],
   "metadata": {
    "collapsed": false,
    "ExecuteTime": {
     "end_time": "2024-05-01T08:27:19.604667Z",
     "start_time": "2024-05-01T08:27:19.598006Z"
    }
   },
   "execution_count": 19
  },
  {
   "cell_type": "code",
   "source": [
    "for x in ratings_tfrs.take(1).as_numpy_iterator():\n",
    "  pprint.pprint(x)"
   ],
   "metadata": {
    "colab": {
     "base_uri": "https://localhost:8080/"
    },
    "id": "KNvbVP6MlMyg",
    "outputId": "85671955-09a3-452e-b0b7-a7344872156d",
    "ExecuteTime": {
     "end_time": "2024-05-01T09:57:49.385582Z",
     "start_time": "2024-05-01T09:57:49.063581Z"
    }
   },
   "execution_count": 44,
   "outputs": [
    {
     "name": "stdout",
     "output_type": "stream",
     "text": [
      "{'bucketized_user_age': 45.0,\n",
      " 'movie_genres': array([7]),\n",
      " 'movie_id': b'357',\n",
      " 'movie_title': b\"One Flew Over the Cuckoo's Nest (1975)\",\n",
      " 'raw_user_age': 46.0,\n",
      " 'timestamp': 879024327,\n",
      " 'user_gender': True,\n",
      " 'user_id': b'138',\n",
      " 'user_occupation_label': 4,\n",
      " 'user_occupation_text': b'doctor',\n",
      " 'user_rating': 4.0,\n",
      " 'user_zip_code': b'53211'}\n"
     ]
    },
    {
     "name": "stderr",
     "output_type": "stream",
     "text": [
      "2024-05-01 10:57:49.383298: W tensorflow/core/framework/local_rendezvous.cc:404] Local rendezvous is aborting with status: OUT_OF_RANGE: End of sequence\n"
     ]
    }
   ]
  },
  {
   "cell_type": "code",
   "source": [
    "for x in movies.take(1).as_numpy_iterator():\n",
    "  pprint.pprint(x)"
   ],
   "metadata": {
    "colab": {
     "base_uri": "https://localhost:8080/"
    },
    "id": "rOn6WvEDlO-P",
    "outputId": "b1a58507-cd61-42d8-de00-09c17f857bd0",
    "ExecuteTime": {
     "end_time": "2024-04-29T16:53:06.717216Z",
     "start_time": "2024-04-29T16:53:06.699989Z"
    }
   },
   "execution_count": 5,
   "outputs": [
    {
     "name": "stdout",
     "output_type": "stream",
     "text": [
      "{'movie_genres': array([4]),\n",
      " 'movie_id': b'1681',\n",
      " 'movie_title': b'You So Crazy (1994)'}\n"
     ]
    },
    {
     "name": "stderr",
     "output_type": "stream",
     "text": [
      "2024-04-29 17:53:06.715090: W tensorflow/core/kernels/data/cache_dataset_ops.cc:858] The calling iterator did not fully read the dataset being cached. In order to avoid unexpected truncation of the dataset, the partially cached contents of the dataset  will be discarded. This can happen if you have an input pipeline similar to `dataset.cache().take(k).repeat()`. You should use `dataset.take(k).cache().repeat()` instead.\n",
      "2024-04-29 17:53:06.715368: W tensorflow/core/framework/local_rendezvous.cc:404] Local rendezvous is aborting with status: OUT_OF_RANGE: End of sequence\n"
     ]
    }
   ]
  },
  {
   "cell_type": "markdown",
   "source": [
    "In this Notebook we only going to focus on the ratings dataset. We keep only the user_id, and movie_title fields in the dataset."
   ],
   "metadata": {
    "id": "6syOWPSqk7Zo"
   }
  },
  {
   "cell_type": "code",
   "source": [
    "ratings = ratings.map(lambda x: {\n",
    "    \"movie_title\": x[\"movie_title\"],\n",
    "    \"user_id\": x[\"user_id\"],\n",
    "})\n",
    "movies = movies.map(lambda x: x[\"movie_title\"])"
   ],
   "metadata": {
    "id": "4t0gUua7k1tq",
    "ExecuteTime": {
     "end_time": "2024-04-29T16:53:06.740719Z",
     "start_time": "2024-04-29T16:53:06.718040Z"
    }
   },
   "execution_count": 6,
   "outputs": []
  },
  {
   "cell_type": "code",
   "source": [
    "# Set the random seed for reproducibility\n",
    "tf.random.set_seed(42)\n",
    "\n",
    "# Shuffle the dataset with a specified buffer size and seed\n",
    "shuffled = ratings.shuffle(buffer_size=100_000, seed=42, reshuffle_each_iteration=False)\n",
    "\n",
    "# Take the first 80,000 examples for the training set (80% of the data)\n",
    "train_dataset = shuffled.take(80_000)\n",
    "\n",
    "# Skip the first 80,000 examples and take the next 20,000 for the test set (20% of the data)\n",
    "test_dataset = shuffled.skip(80_000).take(20_000)"
   ],
   "metadata": {
    "id": "7vr1R4oVvFZb",
    "ExecuteTime": {
     "end_time": "2024-05-01T10:36:01.684603Z",
     "start_time": "2024-05-01T10:36:01.638705Z"
    }
   },
   "execution_count": 25,
   "outputs": []
  },
  {
   "cell_type": "markdown",
   "source": [
    "Lets investigate the unique user ids and movie titles in the dataset."
   ],
   "metadata": {
    "collapsed": false
   }
  },
  {
   "cell_type": "code",
   "outputs": [
    {
     "name": "stderr",
     "output_type": "stream",
     "text": [
      "2024-05-01 11:42:24.523717: W tensorflow/core/framework/local_rendezvous.cc:404] Local rendezvous is aborting with status: OUT_OF_RANGE: End of sequence\n"
     ]
    },
    {
     "data": {
      "text/plain": "array([b'100004', b'10002', b'100021', b'100022', b'100029', b'100031',\n       b'100037', b'100038', b'100044', b'100046'], dtype=object)"
     },
     "execution_count": 30,
     "metadata": {},
     "output_type": "execute_result"
    }
   ],
   "source": [
    "# Unique user ids and movie titles\n",
    "user_ids_vocabulary = ratings.batch(1_000_000).map(lambda x: x[\"userId\"])\n",
    "#movie_titles_vocabulary = ratings.batch(1_000_000).map(lambda x: x[\"\"])\n",
    "\n",
    "#unique_movie_titles = np.unique(np.concatenate(list(movie_titles_vocabulary)))\n",
    "unique_user_ids = np.unique(np.concatenate(list(user_ids_vocabulary)))\n",
    "\n",
    "unique_user_ids[:10]"
   ],
   "metadata": {
    "collapsed": false,
    "ExecuteTime": {
     "end_time": "2024-05-01T10:42:24.571129Z",
     "start_time": "2024-05-01T10:42:22.815230Z"
    }
   },
   "execution_count": 30
  },
  {
   "cell_type": "markdown",
   "source": [
    "\n",
    "The extraction and identification of unique user IDs and movie titles from a dataset are crucial for efficiently managing and processing data in machine learning applications, especially in recommender systems. By converting these categorical labels into unique numerical identifiers, we can optimize memory usage and enhance computational efficiency, which is fundamental for training accurate and scalable models. This preprocessing step also ensures that each entity (user or movie) is uniquely represented, aiding in the precise construction of user-item interaction matrices that are essential for personalization and prediction accuracy in recommendation algorithms."
   ],
   "metadata": {
    "collapsed": false
   }
  },
  {
   "cell_type": "markdown",
   "source": [
    "## Model"
   ],
   "metadata": {
    "collapsed": false
   }
  },
  {
   "cell_type": "markdown",
   "source": [
    "We will build a two-tower retrieval model using the TFRS library. This model consists of two separate components or \"towers\".\n",
    "\n",
    "A two-tower retrieval model is a type of architecture commonly used in recommendation systems, particularly in the context of information retrieval tasks such as recommending items to users. The \"two towers\" refer to two separate components or \"towers\" within the model:\n",
    "\n",
    "Query Tower: This tower represents the user's query or input. It typically takes user-specific information or features, such as user demographics, past interactions, or explicit preferences, and encodes them into a fixed-length representation.\n",
    "Candidate Tower: This tower represents the items in the catalog or database that are being considered for recommendation. It takes item-specific information or features, such as item attributes, metadata, or embeddings, and encodes them into a fixed-length representation.\n",
    "After encoding both the query and candidate items, the model computes a similarity score between them."
   ],
   "metadata": {
    "collapsed": false
   }
  },
  {
   "cell_type": "code",
   "outputs": [],
   "source": [],
   "metadata": {
    "collapsed": false
   }
  }
 ]
}
