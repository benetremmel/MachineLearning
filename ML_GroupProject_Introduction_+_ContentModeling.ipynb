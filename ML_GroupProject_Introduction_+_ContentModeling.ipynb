{
 "cells": [
  {
   "cell_type": "markdown",
   "source": [
    "# Movie Recommender Systems - DreamStream (Part 2)\n",
    "### Enhancing Movie Recommendations with Deep Learning\n",
    "\n",
    "Benedikt Tremmel (60253)\n",
    "\n",
    "Leonardo Heinemann (60384)\n",
    "\n",
    "Maximilian Schön (50163)\n",
    "\n",
    "Gilian Dustin Wagner (58029)\n",
    "\n",
    "Malte Nicolas Haupt (58733)"
   ],
   "metadata": {
    "collapsed": false,
    "id": "1f4b7920fb74c04f"
   }
  },
  {
   "cell_type": "markdown",
   "source": [
    "# 1. Introduction"
   ],
   "metadata": {
    "collapsed": false,
    "id": "5978ae1b40e7fba9"
   }
  },
  {
   "cell_type": "markdown",
   "source": [
    "## 1.1 Overview and Business Case\n",
    "\n",
    "DreamStream is an emerging streaming platform that offers a wide range of movies and TV shows to its users. While DreamStream has been successful in attracting new users, it faces a significant challenge in retaining them. The platform's user retention rate has been declining, primarily due to users' dissatisfaction with the movie recommendations provided. DreamStream's existing recommendation system, based on simple popularity metrics, fails to deliver personalized and relevant recommendations to its users. This lack of personalization leads to user frustration and disengagement, ultimately resulting in churn.\n",
    "\n",
    "\n",
    "##### Short Recap\n",
    "\n",
    "In Part 1 of this project, we focused on addressing DreamStream's user retention challenge by revamping their movie recommendation system using traditional machine learning techniques. We built models based on content-based filtering and collaborative filtering aiming to provide more personalized and relevant movie recommendations. Utilizing a dataset of 45,000 movies and 26 million ratings, our initial efforts helped improving recommendation accuracy. While the initial models provided a foundation, there remains a significant opportunity to leverage more sophisticated technologies to refine recommendation accuracy and personalization. This phase of the project aims to build on the power of deep learning to achieve these objectives, focusing on collaborative filtering and content-based approaches with neural networks.\n",
    "    "
   ],
   "metadata": {
    "collapsed": false,
    "id": "5ffe28cf72a271f9"
   }
  },
  {
   "cell_type": "markdown",
   "source": [
    "##### Why Deep Learning?\n",
    "\n",
    "While traditional machine learning techniques have laid a solid foundation for recommendation systems, they often fall short when it comes to handling complex user behaviors and large-scale data dynamically. Deep learning offers significant advancements in this area, primarily due to its ability to model intricate patterns and interactions within large datasets without extensive feature engineering. Neural networks, in particular, can learn to represent both users and items in a shared latent space, enhancing the system's ability to predict preferences accurately. With NLP techniques, deep learning can also extract valuable information from unstructured data like movie descriptions, enabling more context-aware recommendations. This capability is crucial for DreamStream as it strives to further enhance user engagement and reduce churn by making even more precise and contextually relevant recommendations."
   ],
   "metadata": {
    "collapsed": false,
    "id": "fcdb7ed0c7d6cb4d"
   }
  },
  {
   "cell_type": "markdown",
   "source": [
    "##### Model Types\n",
    "\n",
    "HIER BULLET POINT LISTE DER GENUTZEN MODELLE zur übersicht und warum welches model (mit bezug auf business case)"
   ],
   "metadata": {
    "collapsed": false,
    "id": "a25a92fffd7519a7"
   }
  },
  {
   "cell_type": "markdown",
   "source": [
    "##### Objectives\n",
    "\n",
    "\n",
    "BITTE ÄNDERN/ANPASSEN, DASS HIER IST NUR EIN VORSCHLAG\n",
    "\n",
    "1. **Improve Recommendation Accuracy**: Develop deep learning models that can predict user preferences more accurately than traditional machine learning models.\n",
    "2. **Leverage Unstructured Data**: Utilize NLP techniques to extract valuable information from unstructured data like movie descriptions to enhance recommendation relevance.\n",
    "3. **Enhance Personalization**: Utilize neural networks to create more personalized recommendations based on user preferences and behavior.\n",
    "4. **Scale Recommendation System**: Build models that can handle large-scale data dynamically and adapt to changing user preferences over time.\n"
   ],
   "metadata": {
    "collapsed": false,
    "id": "91d142c8f4f7d369"
   }
  },
  {
   "cell_type": "markdown",
   "source": [
    "##### Part 2: Methodology and Approach\n",
    "\n",
    "Part 2 of the project will build on the foundations laid in Part 1, with a primary focus on model development. We will follow the CRISP-DM methodology, but certain stages like exploratory data analysis (EDA) and initial data preparation will be skipped, as they were already covered in Part 1 (please see the appendix for reference).\n",
    "\n",
    "These steps, however, remain critical for Part 2 of the project. Specifically, the EDA provides necessary groundwork for feature selection and offers initial insights into data quality, distribution, and potential biases. Part 2 leverages these insights, allowing us to focus on more complex aspects of model architecture and optimization without re-evaluating the foundational data characteristics. This continuity ensures efficiency and builds on our understanding of the dataset, enabling a more targeted approach in refining the recommendation algorithms with deep learning.\n",
    "\n",
    "The original dataset of 45,000 movies and 26 million ratings can be found [here](https://www.kaggle.com/datasets/rounakbanik/the-movies-dataset/data). For Part 2, we will use a reduced subset (down to 3,000,000 ratings) of the preprocessed version of the dataset to reduce computational time.\n",
    "\n",
    "Additional preprocessing steps tailored for deep learning applications will be implemented prior to model development. These will include critical tasks such as tokenization, normalization, and padding of text data to ensure compatibility with neural network architectures. We will also present the best models for both collaborative and content-based filtering from Part 1 and compare them with the deep learning models.\n",
    "The primary metric utilized will be precision, which measures the proportion of relevant recommendations among the total recommendations made. This metric allows us to evaluate the models' ability to accurately predict user preferences and provide relevant movie recommendations. Additional metrics such as the RMSE will also be considered to provide a comprehensive evaluation of the models' performance."
   ],
   "metadata": {
    "collapsed": false,
    "id": "8ddc6e0575e34731"
   }
  },
  {
   "cell_type": "markdown",
   "source": [
    "## 1.2 Imports\n",
    "\n",
    "The project will be implemented using Python and the following libraries:"
   ],
   "metadata": {
    "collapsed": false,
    "id": "7354037b286c82f0"
   }
  },
  {
   "cell_type": "code",
   "execution_count": 2,
   "metadata": {
    "id": "cpWd5oCNiN9F"
   },
   "outputs": [],
   "source": [
    "import pandas as pd\n",
    "import numpy as np\n",
    "import matplotlib as plt\n",
    "import matplotlib.pyplot as plt\n",
    "import seaborn as sns\n",
    "import os\n",
    "import re\n",
    "import nltk\n",
    "from nltk.corpus import stopwords\n",
    "from textblob import TextBlob\n",
    "import scipy\n",
    "import math\n",
    "import datetime\n",
    "import ast\n",
    "import spacy\n",
    "from gensim.models import KeyedVectors\n",
    "from sklearn.metrics.pairwise import cosine_similarity\n",
    "from sklearn.preprocessing import MinMaxScaler\n",
    "from sklearn.feature_extraction.text import TfidfVectorizer\n",
    "from sklearn.feature_extraction.text import CountVectorizer\n",
    "from tensorflow.keras.preprocessing.text import Tokenizer\n",
    "from tensorflow.keras.preprocessing.sequence import pad_sequences\n",
    "from sentence_transformers import SentenceTransformer\n",
    "from transformers import pipeline\n",
    "import warnings\n",
    "warnings.filterwarnings('ignore')"
   ]
  },
  {
   "cell_type": "markdown",
   "source": [
    "#### Google Drive"
   ],
   "metadata": {
    "id": "PLR0jpDtCJi2"
   }
  },
  {
   "cell_type": "code",
   "source": [
    "from google.colab import drive\n",
    "drive.mount('/content/drive')"
   ],
   "metadata": {
    "colab": {
     "base_uri": "https://localhost:8080/"
    },
    "id": "lgyAkdsZiaD3",
    "outputId": "313c012e-26bf-430c-ab2e-7251027946c4"
   },
   "execution_count": 3,
   "outputs": [
    {
     "output_type": "stream",
     "name": "stdout",
     "text": [
      "Drive already mounted at /content/drive; to attempt to forcibly remount, call drive.mount(\"/content/drive\", force_remount=True).\n"
     ]
    }
   ]
  },
  {
   "cell_type": "markdown",
   "source": [
    "## 1.3 Data Loading"
   ],
   "metadata": {
    "id": "y6D7OpjuktFw"
   }
  },
  {
   "cell_type": "markdown",
   "source": [
    "### Stratified Sampling"
   ],
   "metadata": {
    "collapsed": false
   }
  },
  {
   "cell_type": "markdown",
   "source": [
    "We will use stratified sampling to downsample the ratings dataset to 100,000 entries. This will help us reduce the size of the dataset while maintaining the distribution of ratings. We will categorize the ratings into bins and sample an equal number of entries from each bin to ensure that the downsampled dataset is representative of the original dataset.\n"
   ],
   "metadata": {
    "collapsed": false
   }
  },
  {
   "cell_type": "code",
   "outputs": [],
   "source": [
    "# transform pickle file to pandas dataframe\n",
    "ratings_df = pd.read_pickle('data/df_ratings_cleaned.pkl')\n",
    "movies_df = pd.read_pickle('data/df_movies_cleaned.pkl')"
   ],
   "metadata": {
    "collapsed": false
   },
   "execution_count": 3
  },
  {
   "cell_type": "code",
   "outputs": [
    {
     "data": {
      "text/plain": "   userId  movieId  rating           timestamp  user_mean_rating  \\\n0       1      110     1.0 2015-03-09 22:52:09          4.277778   \n1       1      147     4.5 2015-03-09 23:07:15          4.277778   \n2       1      858     5.0 2015-03-09 22:52:03          4.277778   \n3       1     1221     5.0 2015-03-09 22:52:26          4.277778   \n4       1     1246     5.0 2015-03-09 22:52:36          4.277778   \n\n   liked_by_user  \n0          False  \n1           True  \n2           True  \n3           True  \n4           True  ",
      "text/html": "<div>\n<style scoped>\n    .dataframe tbody tr th:only-of-type {\n        vertical-align: middle;\n    }\n\n    .dataframe tbody tr th {\n        vertical-align: top;\n    }\n\n    .dataframe thead th {\n        text-align: right;\n    }\n</style>\n<table border=\"1\" class=\"dataframe\">\n  <thead>\n    <tr style=\"text-align: right;\">\n      <th></th>\n      <th>userId</th>\n      <th>movieId</th>\n      <th>rating</th>\n      <th>timestamp</th>\n      <th>user_mean_rating</th>\n      <th>liked_by_user</th>\n    </tr>\n  </thead>\n  <tbody>\n    <tr>\n      <th>0</th>\n      <td>1</td>\n      <td>110</td>\n      <td>1.0</td>\n      <td>2015-03-09 22:52:09</td>\n      <td>4.277778</td>\n      <td>False</td>\n    </tr>\n    <tr>\n      <th>1</th>\n      <td>1</td>\n      <td>147</td>\n      <td>4.5</td>\n      <td>2015-03-09 23:07:15</td>\n      <td>4.277778</td>\n      <td>True</td>\n    </tr>\n    <tr>\n      <th>2</th>\n      <td>1</td>\n      <td>858</td>\n      <td>5.0</td>\n      <td>2015-03-09 22:52:03</td>\n      <td>4.277778</td>\n      <td>True</td>\n    </tr>\n    <tr>\n      <th>3</th>\n      <td>1</td>\n      <td>1221</td>\n      <td>5.0</td>\n      <td>2015-03-09 22:52:26</td>\n      <td>4.277778</td>\n      <td>True</td>\n    </tr>\n    <tr>\n      <th>4</th>\n      <td>1</td>\n      <td>1246</td>\n      <td>5.0</td>\n      <td>2015-03-09 22:52:36</td>\n      <td>4.277778</td>\n      <td>True</td>\n    </tr>\n  </tbody>\n</table>\n</div>"
     },
     "execution_count": 4,
     "metadata": {},
     "output_type": "execute_result"
    }
   ],
   "source": [
    "ratings_df.head()"
   ],
   "metadata": {
    "collapsed": false
   },
   "execution_count": 4
  },
  {
   "cell_type": "code",
   "outputs": [
    {
     "data": {
      "text/plain": "(24829828, 6)"
     },
     "execution_count": 5,
     "metadata": {},
     "output_type": "execute_result"
    }
   ],
   "source": [
    "# nr of entries in the dataset\n",
    "ratings_df.shape"
   ],
   "metadata": {
    "collapsed": false
   },
   "execution_count": 5
  },
  {
   "cell_type": "code",
   "outputs": [
    {
     "name": "stderr",
     "output_type": "stream",
     "text": [
      "/var/folders/08/34vp8sgn1vj1l_v1dzyhrdk00000gn/T/ipykernel_25106/1716066896.py:5: FutureWarning: The default of observed=False is deprecated and will be changed to True in a future version of pandas. Pass observed=False to retain current behavior or observed=True to adopt the future default and silence this warning.\n",
      "  strat_sampled_ratings_df = ratings_df.groupby('rating_category', group_keys=False).apply(\n"
     ]
    },
    {
     "name": "stdout",
     "output_type": "stream",
     "text": [
      "Original DF Shape: (24829828, 7)\n",
      "Sampled DF Shape: (100000, 7)\n"
     ]
    }
   ],
   "source": [
    "# We will use pandas' cut function to categorize these ratings\n",
    "ratings_df['rating_category'] = pd.cut(ratings_df['rating'], bins=np.arange(0.5, 6.0, 0.5), include_lowest=True, right=False)\n",
    "\n",
    "# Stratified sampling based on rating categories\n",
    "strat_sampled_ratings_df = ratings_df.groupby('rating_category', group_keys=False).apply(\n",
    "    lambda x: x.sample(int(np.rint(100000 * len(x) / len(ratings_df))), random_state=42)\n",
    ")\n",
    "\n",
    "print(f\"Original DF Shape: {ratings_df.shape}\")\n",
    "print(f\"Sampled DF Shape: {strat_sampled_ratings_df.shape}\")"
   ],
   "metadata": {
    "collapsed": false
   },
   "execution_count": 6
  },
  {
   "cell_type": "markdown",
   "source": [
    "We have successfully downsampled the ratings dataset to 100,000 entries using stratified sampling. We will now check the distribution of ratings in the original and downsampled datasets to ensure that the sampling process was successful."
   ],
   "metadata": {
    "collapsed": false
   }
  },
  {
   "cell_type": "code",
   "outputs": [
    {
     "data": {
      "text/plain": "         Original   Sampled\ncount  24829828.0  100000.0\nmean      3.52898   3.52899\nstd      1.060177  1.060165\nmin           0.5       0.5\n25%           3.0       3.0\n50%           3.5       3.5\n75%           4.0       4.0\nmax           5.0       5.0",
      "text/html": "<div>\n<style scoped>\n    .dataframe tbody tr th:only-of-type {\n        vertical-align: middle;\n    }\n\n    .dataframe tbody tr th {\n        vertical-align: top;\n    }\n\n    .dataframe thead th {\n        text-align: right;\n    }\n</style>\n<table border=\"1\" class=\"dataframe\">\n  <thead>\n    <tr style=\"text-align: right;\">\n      <th></th>\n      <th>Original</th>\n      <th>Sampled</th>\n    </tr>\n  </thead>\n  <tbody>\n    <tr>\n      <th>count</th>\n      <td>24829828.0</td>\n      <td>100000.0</td>\n    </tr>\n    <tr>\n      <th>mean</th>\n      <td>3.52898</td>\n      <td>3.52899</td>\n    </tr>\n    <tr>\n      <th>std</th>\n      <td>1.060177</td>\n      <td>1.060165</td>\n    </tr>\n    <tr>\n      <th>min</th>\n      <td>0.5</td>\n      <td>0.5</td>\n    </tr>\n    <tr>\n      <th>25%</th>\n      <td>3.0</td>\n      <td>3.0</td>\n    </tr>\n    <tr>\n      <th>50%</th>\n      <td>3.5</td>\n      <td>3.5</td>\n    </tr>\n    <tr>\n      <th>75%</th>\n      <td>4.0</td>\n      <td>4.0</td>\n    </tr>\n    <tr>\n      <th>max</th>\n      <td>5.0</td>\n      <td>5.0</td>\n    </tr>\n  </tbody>\n</table>\n</div>"
     },
     "execution_count": 7,
     "metadata": {},
     "output_type": "execute_result"
    }
   ],
   "source": [
    "# Compare summary statistics of the original and downsampled datasets\n",
    "def summary_stats_comparison(original_df, downsampled_df, column):\n",
    "    \"\"\"Compare summary statistics of a column in the original and downsampled datasets.\"\"\"\n",
    "    original_stats = original_df[column].describe()\n",
    "    downsampled_stats = downsampled_df[column].describe()\n",
    "    \n",
    "    summary_stats = pd.concat([original_stats, downsampled_stats], axis=1)\n",
    "    summary_stats.columns = ['Original', 'Sampled']\n",
    "    \n",
    "    return summary_stats\n",
    "\n",
    "summary_stats_comparison(ratings_df, strat_sampled_ratings_df, 'rating')"
   ],
   "metadata": {
    "collapsed": false
   },
   "execution_count": 7
  },
  {
   "cell_type": "code",
   "outputs": [
    {
     "data": {
      "text/plain": "<Figure size 1400x700 with 1 Axes>",
      "image/png": "[encoded data removed]"
     },
     "metadata": {},
     "output_type": "display_data"
    }
   ],
   "source": [
    "# Define your bins\n",
    "bins = np.arange(0.5, 6.0, 0.5)\n",
    "\n",
    "# Calculate bin centers\n",
    "bin_centers = 0.5 * (bins[:-1] + bins[1:])\n",
    "\n",
    "# Define width of each bar\n",
    "bar_width = 0.2\n",
    "\n",
    "# Plot histograms\n",
    "plt.figure(figsize=(14, 7))\n",
    "plt.bar(bin_centers - bar_width/2, ratings_df['rating'].value_counts(normalize=True, sort=False, bins=bins), width=bar_width, alpha=0.7, label='Original', align='center')\n",
    "plt.bar(bin_centers + bar_width/2, strat_sampled_ratings_df['rating'].value_counts(normalize=True, sort=False, bins=bins), width=bar_width, alpha=0.7, label='Sampled', align='center')\n",
    "\n",
    "plt.title('Comparison of Rating Distributions')\n",
    "plt.xlabel('Rating')\n",
    "plt.ylabel('Proportion')\n",
    "plt.xticks(bin_centers, labels=[f\"{bin:.1f}\" for bin in bins[:-1]])  # Set x-tick labels to match bin centers\n",
    "plt.legend()\n",
    "plt.show()"
   ],
   "metadata": {
    "collapsed": false
   },
   "execution_count": 8
  },
  {
   "cell_type": "code",
   "outputs": [
    {
     "data": {
      "text/plain": "          userId  movieId  rating           timestamp  user_mean_rating  \\\n11800835  128365     1037     0.5 2009-10-19 10:10:37          3.104895   \n3192182    34770    27316     0.5 2006-06-10 09:14:33          1.329146   \n10041143  108700      307     0.5 2010-05-12 21:26:12          3.729651   \n14911364  162680    73929     0.5 2015-11-22 18:22:29          3.505618   \n13024846  141941     4308     0.5 2006-06-10 05:21:47          2.987685   \n...          ...      ...     ...                 ...               ...   \n2596165    28184     2912     5.0 2000-11-21 00:08:40          3.588011   \n2174721    23629     1185     5.0 1997-03-13 18:00:11          3.734463   \n23363519  254448    49272     5.0 2016-08-08 15:59:55          3.819149   \n19688576  214494      541     5.0 2005-04-05 14:26:59          3.395652   \n2412565    26230      474     5.0 1996-06-02 17:39:48          4.155963   \n\n          liked_by_user rating_category  \n11800835          False      [0.5, 1.0)  \n3192182           False      [0.5, 1.0)  \n10041143          False      [0.5, 1.0)  \n14911364          False      [0.5, 1.0)  \n13024846          False      [0.5, 1.0)  \n...                 ...             ...  \n2596165            True      [5.0, 5.5)  \n2174721            True      [5.0, 5.5)  \n23363519           True      [5.0, 5.5)  \n19688576           True      [5.0, 5.5)  \n2412565            True      [5.0, 5.5)  \n\n[100000 rows x 7 columns]",
      "text/html": "<div>\n<style scoped>\n    .dataframe tbody tr th:only-of-type {\n        vertical-align: middle;\n    }\n\n    .dataframe tbody tr th {\n        vertical-align: top;\n    }\n\n    .dataframe thead th {\n        text-align: right;\n    }\n</style>\n<table border=\"1\" class=\"dataframe\">\n  <thead>\n    <tr style=\"text-align: right;\">\n      <th></th>\n      <th>userId</th>\n      <th>movieId</th>\n      <th>rating</th>\n      <th>timestamp</th>\n      <th>user_mean_rating</th>\n      <th>liked_by_user</th>\n      <th>rating_category</th>\n    </tr>\n  </thead>\n  <tbody>\n    <tr>\n      <th>11800835</th>\n      <td>128365</td>\n      <td>1037</td>\n      <td>0.5</td>\n      <td>2009-10-19 10:10:37</td>\n      <td>3.104895</td>\n      <td>False</td>\n      <td>[0.5, 1.0)</td>\n    </tr>\n    <tr>\n      <th>3192182</th>\n      <td>34770</td>\n      <td>27316</td>\n      <td>0.5</td>\n      <td>2006-06-10 09:14:33</td>\n      <td>1.329146</td>\n      <td>False</td>\n      <td>[0.5, 1.0)</td>\n    </tr>\n    <tr>\n      <th>10041143</th>\n      <td>108700</td>\n      <td>307</td>\n      <td>0.5</td>\n      <td>2010-05-12 21:26:12</td>\n      <td>3.729651</td>\n      <td>False</td>\n      <td>[0.5, 1.0)</td>\n    </tr>\n    <tr>\n      <th>14911364</th>\n      <td>162680</td>\n      <td>73929</td>\n      <td>0.5</td>\n      <td>2015-11-22 18:22:29</td>\n      <td>3.505618</td>\n      <td>False</td>\n      <td>[0.5, 1.0)</td>\n    </tr>\n    <tr>\n      <th>13024846</th>\n      <td>141941</td>\n      <td>4308</td>\n      <td>0.5</td>\n      <td>2006-06-10 05:21:47</td>\n      <td>2.987685</td>\n      <td>False</td>\n      <td>[0.5, 1.0)</td>\n    </tr>\n    <tr>\n      <th>...</th>\n      <td>...</td>\n      <td>...</td>\n      <td>...</td>\n      <td>...</td>\n      <td>...</td>\n      <td>...</td>\n      <td>...</td>\n    </tr>\n    <tr>\n      <th>2596165</th>\n      <td>28184</td>\n      <td>2912</td>\n      <td>5.0</td>\n      <td>2000-11-21 00:08:40</td>\n      <td>3.588011</td>\n      <td>True</td>\n      <td>[5.0, 5.5)</td>\n    </tr>\n    <tr>\n      <th>2174721</th>\n      <td>23629</td>\n      <td>1185</td>\n      <td>5.0</td>\n      <td>1997-03-13 18:00:11</td>\n      <td>3.734463</td>\n      <td>True</td>\n      <td>[5.0, 5.5)</td>\n    </tr>\n    <tr>\n      <th>23363519</th>\n      <td>254448</td>\n      <td>49272</td>\n      <td>5.0</td>\n      <td>2016-08-08 15:59:55</td>\n      <td>3.819149</td>\n      <td>True</td>\n      <td>[5.0, 5.5)</td>\n    </tr>\n    <tr>\n      <th>19688576</th>\n      <td>214494</td>\n      <td>541</td>\n      <td>5.0</td>\n      <td>2005-04-05 14:26:59</td>\n      <td>3.395652</td>\n      <td>True</td>\n      <td>[5.0, 5.5)</td>\n    </tr>\n    <tr>\n      <th>2412565</th>\n      <td>26230</td>\n      <td>474</td>\n      <td>5.0</td>\n      <td>1996-06-02 17:39:48</td>\n      <td>4.155963</td>\n      <td>True</td>\n      <td>[5.0, 5.5)</td>\n    </tr>\n  </tbody>\n</table>\n<p>100000 rows × 7 columns</p>\n</div>"
     },
     "execution_count": 9,
     "metadata": {},
     "output_type": "execute_result"
    }
   ],
   "source": [
    "strat_sampled_ratings_df"
   ],
   "metadata": {
    "collapsed": false
   },
   "execution_count": 9
  },
  {
   "cell_type": "markdown",
   "source": [
    "The distribution of ratings in the downsampled dataset is similar to that of the original dataset, indicating that the stratified sampling process was successful. The downsampled dataset contains 100,000 entries and maintains the distribution of ratings across different categories.\n"
   ],
   "metadata": {
    "collapsed": false
   }
  },
  {
   "cell_type": "markdown",
   "source": [
    "We also did the Stratified Sampling for 1M and 3M datasets."
   ],
   "metadata": {
    "collapsed": false
   }
  },
  {
   "cell_type": "markdown",
   "source": [
    "# 2 Content-Based-Recommendations"
   ],
   "metadata": {
    "id": "HHdNxp5hPHgz"
   }
  },
  {
   "cell_type": "markdown",
   "source": [
    "Content-based recommendation systems are an essential approach in the field of personalized recommendations. These systems generate suggestions that are closely aligned with user preferences by leveraging items' intrinsic attributes, such as movie descriptions, genres, cast, and metadata. Unlike collaborative filtering methods that rely on user interaction data, content-based recommendations can make relevant suggestions even for new items that do not have enough user reviews. This approach ensures more immediate and robust personalization, making it a critical strategy for providing accurate and meaningful movie recommendations.\n"
   ],
   "metadata": {
    "id": "gPGha8hFPkdP"
   }
  },
  {
   "cell_type": "markdown",
   "source": [
    "# 2.1 Preprocessing"
   ],
   "metadata": {
    "id": "TNFY--AF63QT"
   }
  },
  {
   "cell_type": "code",
   "outputs": [],
   "source": [
    "df_merged = pd.read_pickle('/content/drive/My Drive/ML Group/df_merged_cleaned.pkl')\n",
    "df_ratings = pd.read_pickle('/content/drive/My Drive/ML Group/df_ratings_100k.pkl')"
   ],
   "metadata": {
    "collapsed": false
   }
  },
  {
   "cell_type": "markdown",
   "source": [
    "### Inspecting the movies dataset regarding languages"
   ],
   "metadata": {
    "id": "gNslgT-aX9GK"
   }
  },
  {
   "cell_type": "markdown",
   "source": [
    "Filtering df_merged to only include movies that are english. This ensures that the text data aligns with the language the model was trained on, which is crucial for the effectiveness of the embeddings generated by BERT."
   ],
   "metadata": {
    "id": "M9LQzdJ1XlL6"
   }
  },
  {
   "cell_type": "code",
   "source": [
    "df_merged = df_merged[df_merged['original_language'] == 'en']"
   ],
   "metadata": {
    "id": "u9gReSORXXSY"
   },
   "execution_count": 5,
   "outputs": []
  },
  {
   "cell_type": "code",
   "source": [
    "df_merged"
   ],
   "metadata": {
    "colab": {
     "base_uri": "https://localhost:8080/",
     "height": 1000
    },
    "id": "zjKS6T0VWMzc",
    "outputId": "61a42372-d5ee-484e-c10f-41c83d21feca"
   },
   "execution_count": 6,
   "outputs": [
    {
     "output_type": "execute_result",
     "data": {
      "text/plain": [
       "       movieId  belongs_to_collection original_language  \\\n",
       "0            1                      1                en   \n",
       "1            2                      0                en   \n",
       "2            3                      1                en   \n",
       "3            4                      0                en   \n",
       "4            5                      1                en   \n",
       "...        ...                    ...               ...   \n",
       "46749   176263                      0                en   \n",
       "46750   176267                      0                en   \n",
       "46753   176273                      0                en   \n",
       "46754   176275                      0                en   \n",
       "46755   176279                      0                en   \n",
       "\n",
       "                                                overview release_date  \\\n",
       "0      Led by Woody, Andy's toys live happily in his ...   1995-10-30   \n",
       "1      When siblings Judy and Peter discover an encha...   1995-12-15   \n",
       "2      A family wedding reignites the ancient feud be...   1995-12-22   \n",
       "3      Cheated on, mistreated and stepped on, the wom...   1995-12-22   \n",
       "4      Just when George Banks has recovered from his ...   1995-02-10   \n",
       "...                                                  ...          ...   \n",
       "46749  It's the year 3000 AD. The world's most danger...   1995-01-01   \n",
       "46750  Yet another version of the classic epic, with ...   1991-05-13   \n",
       "46753  When one of her hits goes wrong, a professiona...   2003-08-01   \n",
       "46754  In a small town live two brothers, one a minis...   1917-10-21   \n",
       "46755  50 years after decriminalisation of homosexual...   2017-06-09   \n",
       "\n",
       "       runtime                        title  \\\n",
       "0         81.0                    Toy Story   \n",
       "1        104.0                      Jumanji   \n",
       "2        101.0             Grumpier Old Men   \n",
       "3        127.0            Waiting to Exhale   \n",
       "4        106.0  Father of the Bride Part II   \n",
       "...        ...                          ...   \n",
       "46749     85.0              Caged Heat 3000   \n",
       "46750    104.0                   Robin Hood   \n",
       "46753     90.0                     Betrayal   \n",
       "46754     87.0             Satan Triumphant   \n",
       "46755     75.0                     Queerama   \n",
       "\n",
       "                                                  actors  \\\n",
       "0      [Tom Hanks, Tim Allen, Don Rickles, Jim Varney...   \n",
       "1      [Robin Williams, Jonathan Hyde, Kirsten Dunst,...   \n",
       "2      [Walter Matthau, Jack Lemmon, Ann-Margret, Sop...   \n",
       "3      [Whitney Houston, Angela Bassett, Loretta Devi...   \n",
       "4      [Steve Martin, Diane Keaton, Martin Short, Kim...   \n",
       "...                                                  ...   \n",
       "46749  [Lisa Boyle, Kena Land, Zaneta Polard, Don Yan...   \n",
       "46750  [Patrick Bergin, Uma Thurman, David Morrissey,...   \n",
       "46753  [Erika Eleniak, Adam Baldwin, Julie du Page, J...   \n",
       "46754  [Iwan Mosschuchin, Nathalie Lissenko, Pavel Pa...   \n",
       "46755                                                 []   \n",
       "\n",
       "                                      keywords_extracted  \\\n",
       "0      [jealousy, toy, boy, friendship, friends, riva...   \n",
       "1      [board game, disappearance, based on children'...   \n",
       "2      [fishing, best friend, duringcreditsstinger, o...   \n",
       "3      [based on novel, interracial relationship, sin...   \n",
       "4      [baby, midlife crisis, confidence, aging, daug...   \n",
       "...                                                  ...   \n",
       "46749                                           [(none)]   \n",
       "46750                                           [(none)]   \n",
       "46753                                           [(none)]   \n",
       "46754                                           [(none)]   \n",
       "46755                                           [(none)]   \n",
       "\n",
       "                    genre_extracted  \\\n",
       "0       [Animation, Comedy, Family]   \n",
       "1      [Adventure, Fantasy, Family]   \n",
       "2                 [Romance, Comedy]   \n",
       "3          [Comedy, Drama, Romance]   \n",
       "4                          [Comedy]   \n",
       "...                             ...   \n",
       "46749             [Science Fiction]   \n",
       "46750      [Drama, Action, Romance]   \n",
       "46753     [Action, Drama, Thriller]   \n",
       "46754                      [(none)]   \n",
       "46755                      [(none)]   \n",
       "\n",
       "                            production_company_extracted  \\\n",
       "0                              [Pixar Animation Studios]   \n",
       "1      [TriStar Pictures, Teitler Film, Interscope Co...   \n",
       "2                         [Warner Bros., Lancaster Gate]   \n",
       "3               [Twentieth Century Fox Film Corporation]   \n",
       "4           [Sandollar Productions, Touchstone Pictures]   \n",
       "...                                                  ...   \n",
       "46749                            [Concorde-New Horizons]   \n",
       "46750  [Westdeutscher Rundfunk (WDR), Working Title F...   \n",
       "46753                          [American World Pictures]   \n",
       "46754                                        [Yermoliev]   \n",
       "46755                                                 []   \n",
       "\n",
       "                            production_country_extracted  \n",
       "0                             [United States of America]  \n",
       "1                             [United States of America]  \n",
       "2                             [United States of America]  \n",
       "3                             [United States of America]  \n",
       "4                             [United States of America]  \n",
       "...                                                  ...  \n",
       "46749                         [United States of America]  \n",
       "46750  [Canada, Germany, United Kingdom, United State...  \n",
       "46753                         [United States of America]  \n",
       "46754                                           [Russia]  \n",
       "46755                                   [United Kingdom]  \n",
       "\n",
       "[29756 rows x 12 columns]"
      ],
      "text/html": [
       "\n",
       "  <div id=\"df-2ce1521f-809b-4a40-8bbf-ce38fcd6b273\" class=\"colab-df-container\">\n",
       "    <div>\n",
       "<style scoped>\n",
       "    .dataframe tbody tr th:only-of-type {\n",
       "        vertical-align: middle;\n",
       "    }\n",
       "\n",
       "    .dataframe tbody tr th {\n",
       "        vertical-align: top;\n",
       "    }\n",
       "\n",
       "    .dataframe thead th {\n",
       "        text-align: right;\n",
       "    }\n",
       "</style>\n",
       "<table border=\"1\" class=\"dataframe\">\n",
       "  <thead>\n",
       "    <tr style=\"text-align: right;\">\n",
       "      <th></th>\n",
       "      <th>movieId</th>\n",
       "      <th>belongs_to_collection</th>\n",
       "      <th>original_language</th>\n",
       "      <th>overview</th>\n",
       "      <th>release_date</th>\n",
       "      <th>runtime</th>\n",
       "      <th>title</th>\n",
       "      <th>actors</th>\n",
       "      <th>keywords_extracted</th>\n",
       "      <th>genre_extracted</th>\n",
       "      <th>production_company_extracted</th>\n",
       "      <th>production_country_extracted</th>\n",
       "    </tr>\n",
       "  </thead>\n",
       "  <tbody>\n",
       "    <tr>\n",
       "      <th>0</th>\n",
       "      <td>1</td>\n",
       "      <td>1</td>\n",
       "      <td>en</td>\n",
       "      <td>Led by Woody, Andy's toys live happily in his ...</td>\n",
       "      <td>1995-10-30</td>\n",
       "      <td>81.0</td>\n",
       "      <td>Toy Story</td>\n",
       "      <td>[Tom Hanks, Tim Allen, Don Rickles, Jim Varney...</td>\n",
       "      <td>[jealousy, toy, boy, friendship, friends, riva...</td>\n",
       "      <td>[Animation, Comedy, Family]</td>\n",
       "      <td>[Pixar Animation Studios]</td>\n",
       "      <td>[United States of America]</td>\n",
       "    </tr>\n",
       "    <tr>\n",
       "      <th>1</th>\n",
       "      <td>2</td>\n",
       "      <td>0</td>\n",
       "      <td>en</td>\n",
       "      <td>When siblings Judy and Peter discover an encha...</td>\n",
       "      <td>1995-12-15</td>\n",
       "      <td>104.0</td>\n",
       "      <td>Jumanji</td>\n",
       "      <td>[Robin Williams, Jonathan Hyde, Kirsten Dunst,...</td>\n",
       "      <td>[board game, disappearance, based on children'...</td>\n",
       "      <td>[Adventure, Fantasy, Family]</td>\n",
       "      <td>[TriStar Pictures, Teitler Film, Interscope Co...</td>\n",
       "      <td>[United States of America]</td>\n",
       "    </tr>\n",
       "    <tr>\n",
       "      <th>2</th>\n",
       "      <td>3</td>\n",
       "      <td>1</td>\n",
       "      <td>en</td>\n",
       "      <td>A family wedding reignites the ancient feud be...</td>\n",
       "      <td>1995-12-22</td>\n",
       "      <td>101.0</td>\n",
       "      <td>Grumpier Old Men</td>\n",
       "      <td>[Walter Matthau, Jack Lemmon, Ann-Margret, Sop...</td>\n",
       "      <td>[fishing, best friend, duringcreditsstinger, o...</td>\n",
       "      <td>[Romance, Comedy]</td>\n",
       "      <td>[Warner Bros., Lancaster Gate]</td>\n",
       "      <td>[United States of America]</td>\n",
       "    </tr>\n",
       "    <tr>\n",
       "      <th>3</th>\n",
       "      <td>4</td>\n",
       "      <td>0</td>\n",
       "      <td>en</td>\n",
       "      <td>Cheated on, mistreated and stepped on, the wom...</td>\n",
       "      <td>1995-12-22</td>\n",
       "      <td>127.0</td>\n",
       "      <td>Waiting to Exhale</td>\n",
       "      <td>[Whitney Houston, Angela Bassett, Loretta Devi...</td>\n",
       "      <td>[based on novel, interracial relationship, sin...</td>\n",
       "      <td>[Comedy, Drama, Romance]</td>\n",
       "      <td>[Twentieth Century Fox Film Corporation]</td>\n",
       "      <td>[United States of America]</td>\n",
       "    </tr>\n",
       "    <tr>\n",
       "      <th>4</th>\n",
       "      <td>5</td>\n",
       "      <td>1</td>\n",
       "      <td>en</td>\n",
       "      <td>Just when George Banks has recovered from his ...</td>\n",
       "      <td>1995-02-10</td>\n",
       "      <td>106.0</td>\n",
       "      <td>Father of the Bride Part II</td>\n",
       "      <td>[Steve Martin, Diane Keaton, Martin Short, Kim...</td>\n",
       "      <td>[baby, midlife crisis, confidence, aging, daug...</td>\n",
       "      <td>[Comedy]</td>\n",
       "      <td>[Sandollar Productions, Touchstone Pictures]</td>\n",
       "      <td>[United States of America]</td>\n",
       "    </tr>\n",
       "    <tr>\n",
       "      <th>...</th>\n",
       "      <td>...</td>\n",
       "      <td>...</td>\n",
       "      <td>...</td>\n",
       "      <td>...</td>\n",
       "      <td>...</td>\n",
       "      <td>...</td>\n",
       "      <td>...</td>\n",
       "      <td>...</td>\n",
       "      <td>...</td>\n",
       "      <td>...</td>\n",
       "      <td>...</td>\n",
       "      <td>...</td>\n",
       "    </tr>\n",
       "    <tr>\n",
       "      <th>46749</th>\n",
       "      <td>176263</td>\n",
       "      <td>0</td>\n",
       "      <td>en</td>\n",
       "      <td>It's the year 3000 AD. The world's most danger...</td>\n",
       "      <td>1995-01-01</td>\n",
       "      <td>85.0</td>\n",
       "      <td>Caged Heat 3000</td>\n",
       "      <td>[Lisa Boyle, Kena Land, Zaneta Polard, Don Yan...</td>\n",
       "      <td>[(none)]</td>\n",
       "      <td>[Science Fiction]</td>\n",
       "      <td>[Concorde-New Horizons]</td>\n",
       "      <td>[United States of America]</td>\n",
       "    </tr>\n",
       "    <tr>\n",
       "      <th>46750</th>\n",
       "      <td>176267</td>\n",
       "      <td>0</td>\n",
       "      <td>en</td>\n",
       "      <td>Yet another version of the classic epic, with ...</td>\n",
       "      <td>1991-05-13</td>\n",
       "      <td>104.0</td>\n",
       "      <td>Robin Hood</td>\n",
       "      <td>[Patrick Bergin, Uma Thurman, David Morrissey,...</td>\n",
       "      <td>[(none)]</td>\n",
       "      <td>[Drama, Action, Romance]</td>\n",
       "      <td>[Westdeutscher Rundfunk (WDR), Working Title F...</td>\n",
       "      <td>[Canada, Germany, United Kingdom, United State...</td>\n",
       "    </tr>\n",
       "    <tr>\n",
       "      <th>46753</th>\n",
       "      <td>176273</td>\n",
       "      <td>0</td>\n",
       "      <td>en</td>\n",
       "      <td>When one of her hits goes wrong, a professiona...</td>\n",
       "      <td>2003-08-01</td>\n",
       "      <td>90.0</td>\n",
       "      <td>Betrayal</td>\n",
       "      <td>[Erika Eleniak, Adam Baldwin, Julie du Page, J...</td>\n",
       "      <td>[(none)]</td>\n",
       "      <td>[Action, Drama, Thriller]</td>\n",
       "      <td>[American World Pictures]</td>\n",
       "      <td>[United States of America]</td>\n",
       "    </tr>\n",
       "    <tr>\n",
       "      <th>46754</th>\n",
       "      <td>176275</td>\n",
       "      <td>0</td>\n",
       "      <td>en</td>\n",
       "      <td>In a small town live two brothers, one a minis...</td>\n",
       "      <td>1917-10-21</td>\n",
       "      <td>87.0</td>\n",
       "      <td>Satan Triumphant</td>\n",
       "      <td>[Iwan Mosschuchin, Nathalie Lissenko, Pavel Pa...</td>\n",
       "      <td>[(none)]</td>\n",
       "      <td>[(none)]</td>\n",
       "      <td>[Yermoliev]</td>\n",
       "      <td>[Russia]</td>\n",
       "    </tr>\n",
       "    <tr>\n",
       "      <th>46755</th>\n",
       "      <td>176279</td>\n",
       "      <td>0</td>\n",
       "      <td>en</td>\n",
       "      <td>50 years after decriminalisation of homosexual...</td>\n",
       "      <td>2017-06-09</td>\n",
       "      <td>75.0</td>\n",
       "      <td>Queerama</td>\n",
       "      <td>[]</td>\n",
       "      <td>[(none)]</td>\n",
       "      <td>[(none)]</td>\n",
       "      <td>[]</td>\n",
       "      <td>[United Kingdom]</td>\n",
       "    </tr>\n",
       "  </tbody>\n",
       "</table>\n",
       "<p>29756 rows × 12 columns</p>\n",
       "</div>\n",
       "    <div class=\"colab-df-buttons\">\n",
       "\n",
       "  <div class=\"colab-df-container\">\n",
       "    <button class=\"colab-df-convert\" onclick=\"convertToInteractive('df-2ce1521f-809b-4a40-8bbf-ce38fcd6b273')\"\n",
       "            title=\"Convert this dataframe to an interactive table.\"\n",
       "            style=\"display:none;\">\n",
       "\n",
       "  <svg xmlns=\"http://www.w3.org/2000/svg\" height=\"24px\" viewBox=\"0 -960 960 960\">\n",
       "    <path d=\"M120-120v-720h720v720H120Zm60-500h600v-160H180v160Zm220 220h160v-160H400v160Zm0 220h160v-160H400v160ZM180-400h160v-160H180v160Zm440 0h160v-160H620v160ZM180-180h160v-160H180v160Zm440 0h160v-160H620v160Z\"/>\n",
       "  </svg>\n",
       "    </button>\n",
       "\n",
       "  <style>\n",
       "    .colab-df-container {\n",
       "      display:flex;\n",
       "      gap: 12px;\n",
       "    }\n",
       "\n",
       "    .colab-df-convert {\n",
       "      background-color: #E8F0FE;\n",
       "      border: none;\n",
       "      border-radius: 50%;\n",
       "      cursor: pointer;\n",
       "      display: none;\n",
       "      fill: #1967D2;\n",
       "      height: 32px;\n",
       "      padding: 0 0 0 0;\n",
       "      width: 32px;\n",
       "    }\n",
       "\n",
       "    .colab-df-convert:hover {\n",
       "      background-color: #E2EBFA;\n",
       "      box-shadow: 0px 1px 2px rgba(60, 64, 67, 0.3), 0px 1px 3px 1px rgba(60, 64, 67, 0.15);\n",
       "      fill: #174EA6;\n",
       "    }\n",
       "\n",
       "    .colab-df-buttons div {\n",
       "      margin-bottom: 4px;\n",
       "    }\n",
       "\n",
       "    [theme=dark] .colab-df-convert {\n",
       "      background-color: #3B4455;\n",
       "      fill: #D2E3FC;\n",
       "    }\n",
       "\n",
       "    [theme=dark] .colab-df-convert:hover {\n",
       "      background-color: #434B5C;\n",
       "      box-shadow: 0px 1px 3px 1px rgba(0, 0, 0, 0.15);\n",
       "      filter: drop-shadow(0px 1px 2px rgba(0, 0, 0, 0.3));\n",
       "      fill: #FFFFFF;\n",
       "    }\n",
       "  </style>\n",
       "\n",
       "    <script>\n",
       "      const buttonEl =\n",
       "        document.querySelector('#df-2ce1521f-809b-4a40-8bbf-ce38fcd6b273 button.colab-df-convert');\n",
       "      buttonEl.style.display =\n",
       "        google.colab.kernel.accessAllowed ? 'block' : 'none';\n",
       "\n",
       "      async function convertToInteractive(key) {\n",
       "        const element = document.querySelector('#df-2ce1521f-809b-4a40-8bbf-ce38fcd6b273');\n",
       "        const dataTable =\n",
       "          await google.colab.kernel.invokeFunction('convertToInteractive',\n",
       "                                                    [key], {});\n",
       "        if (!dataTable) return;\n",
       "\n",
       "        const docLinkHtml = 'Like what you see? Visit the ' +\n",
       "          '<a target=\"_blank\" href=https://colab.research.google.com/notebooks/data_table.ipynb>data table notebook</a>'\n",
       "          + ' to learn more about interactive tables.';\n",
       "        element.innerHTML = '';\n",
       "        dataTable['output_type'] = 'display_data';\n",
       "        await google.colab.output.renderOutput(dataTable, element);\n",
       "        const docLink = document.createElement('div');\n",
       "        docLink.innerHTML = docLinkHtml;\n",
       "        element.appendChild(docLink);\n",
       "      }\n",
       "    </script>\n",
       "  </div>\n",
       "\n",
       "\n",
       "<div id=\"df-abaff673-276d-4371-967d-160624b16ad9\">\n",
       "  <button class=\"colab-df-quickchart\" onclick=\"quickchart('df-abaff673-276d-4371-967d-160624b16ad9')\"\n",
       "            title=\"Suggest charts\"\n",
       "            style=\"display:none;\">\n",
       "\n",
       "<svg xmlns=\"http://www.w3.org/2000/svg\" height=\"24px\"viewBox=\"0 0 24 24\"\n",
       "     width=\"24px\">\n",
       "    <g>\n",
       "        <path d=\"M19 3H5c-1.1 0-2 .9-2 2v14c0 1.1.9 2 2 2h14c1.1 0 2-.9 2-2V5c0-1.1-.9-2-2-2zM9 17H7v-7h2v7zm4 0h-2V7h2v10zm4 0h-2v-4h2v4z\"/>\n",
       "    </g>\n",
       "</svg>\n",
       "  </button>\n",
       "\n",
       "<style>\n",
       "  .colab-df-quickchart {\n",
       "      --bg-color: #E8F0FE;\n",
       "      --fill-color: #1967D2;\n",
       "      --hover-bg-color: #E2EBFA;\n",
       "      --hover-fill-color: #174EA6;\n",
       "      --disabled-fill-color: #AAA;\n",
       "      --disabled-bg-color: #DDD;\n",
       "  }\n",
       "\n",
       "  [theme=dark] .colab-df-quickchart {\n",
       "      --bg-color: #3B4455;\n",
       "      --fill-color: #D2E3FC;\n",
       "      --hover-bg-color: #434B5C;\n",
       "      --hover-fill-color: #FFFFFF;\n",
       "      --disabled-bg-color: #3B4455;\n",
       "      --disabled-fill-color: #666;\n",
       "  }\n",
       "\n",
       "  .colab-df-quickchart {\n",
       "    background-color: var(--bg-color);\n",
       "    border: none;\n",
       "    border-radius: 50%;\n",
       "    cursor: pointer;\n",
       "    display: none;\n",
       "    fill: var(--fill-color);\n",
       "    height: 32px;\n",
       "    padding: 0;\n",
       "    width: 32px;\n",
       "  }\n",
       "\n",
       "  .colab-df-quickchart:hover {\n",
       "    background-color: var(--hover-bg-color);\n",
       "    box-shadow: 0 1px 2px rgba(60, 64, 67, 0.3), 0 1px 3px 1px rgba(60, 64, 67, 0.15);\n",
       "    fill: var(--button-hover-fill-color);\n",
       "  }\n",
       "\n",
       "  .colab-df-quickchart-complete:disabled,\n",
       "  .colab-df-quickchart-complete:disabled:hover {\n",
       "    background-color: var(--disabled-bg-color);\n",
       "    fill: var(--disabled-fill-color);\n",
       "    box-shadow: none;\n",
       "  }\n",
       "\n",
       "  .colab-df-spinner {\n",
       "    border: 2px solid var(--fill-color);\n",
       "    border-color: transparent;\n",
       "    border-bottom-color: var(--fill-color);\n",
       "    animation:\n",
       "      spin 1s steps(1) infinite;\n",
       "  }\n",
       "\n",
       "  @keyframes spin {\n",
       "    0% {\n",
       "      border-color: transparent;\n",
       "      border-bottom-color: var(--fill-color);\n",
       "      border-left-color: var(--fill-color);\n",
       "    }\n",
       "    20% {\n",
       "      border-color: transparent;\n",
       "      border-left-color: var(--fill-color);\n",
       "      border-top-color: var(--fill-color);\n",
       "    }\n",
       "    30% {\n",
       "      border-color: transparent;\n",
       "      border-left-color: var(--fill-color);\n",
       "      border-top-color: var(--fill-color);\n",
       "      border-right-color: var(--fill-color);\n",
       "    }\n",
       "    40% {\n",
       "      border-color: transparent;\n",
       "      border-right-color: var(--fill-color);\n",
       "      border-top-color: var(--fill-color);\n",
       "    }\n",
       "    60% {\n",
       "      border-color: transparent;\n",
       "      border-right-color: var(--fill-color);\n",
       "    }\n",
       "    80% {\n",
       "      border-color: transparent;\n",
       "      border-right-color: var(--fill-color);\n",
       "      border-bottom-color: var(--fill-color);\n",
       "    }\n",
       "    90% {\n",
       "      border-color: transparent;\n",
       "      border-bottom-color: var(--fill-color);\n",
       "    }\n",
       "  }\n",
       "</style>\n",
       "\n",
       "  <script>\n",
       "    async function quickchart(key) {\n",
       "      const quickchartButtonEl =\n",
       "        document.querySelector('#' + key + ' button');\n",
       "      quickchartButtonEl.disabled = true;  // To prevent multiple clicks.\n",
       "      quickchartButtonEl.classList.add('colab-df-spinner');\n",
       "      try {\n",
       "        const charts = await google.colab.kernel.invokeFunction(\n",
       "            'suggestCharts', [key], {});\n",
       "      } catch (error) {\n",
       "        console.error('Error during call to suggestCharts:', error);\n",
       "      }\n",
       "      quickchartButtonEl.classList.remove('colab-df-spinner');\n",
       "      quickchartButtonEl.classList.add('colab-df-quickchart-complete');\n",
       "    }\n",
       "    (() => {\n",
       "      let quickchartButtonEl =\n",
       "        document.querySelector('#df-abaff673-276d-4371-967d-160624b16ad9 button');\n",
       "      quickchartButtonEl.style.display =\n",
       "        google.colab.kernel.accessAllowed ? 'block' : 'none';\n",
       "    })();\n",
       "  </script>\n",
       "</div>\n",
       "    </div>\n",
       "  </div>\n"
      ],
      "application/vnd.google.colaboratory.intrinsic+json": {
       "type": "dataframe",
       "variable_name": "df_merged",
       "summary": "{\n  \"name\": \"df_merged\",\n  \"rows\": 29756,\n  \"fields\": [\n    {\n      \"column\": \"movieId\",\n      \"properties\": {\n        \"dtype\": \"Int64\",\n        \"num_unique_values\": 29756,\n        \"samples\": [\n          171979,\n          106879,\n          26377\n        ],\n        \"semantic_type\": \"\",\n        \"description\": \"\"\n      }\n    },\n    {\n      \"column\": \"belongs_to_collection\",\n      \"properties\": {\n        \"dtype\": \"number\",\n        \"std\": 0,\n        \"min\": 0,\n        \"max\": 1,\n        \"num_unique_values\": 2,\n        \"samples\": [\n          0,\n          1\n        ],\n        \"semantic_type\": \"\",\n        \"description\": \"\"\n      }\n    },\n    {\n      \"column\": \"original_language\",\n      \"properties\": {\n        \"dtype\": \"category\",\n        \"num_unique_values\": 1,\n        \"samples\": [\n          \"en\"\n        ],\n        \"semantic_type\": \"\",\n        \"description\": \"\"\n      }\n    },\n    {\n      \"column\": \"overview\",\n      \"properties\": {\n        \"dtype\": \"string\",\n        \"num_unique_values\": 29690,\n        \"samples\": [\n          \"Pops isn't worried about the renewal of the lease for his ski lodge - the safety record is unblemished in spite of the crew of misfits who make up his ski patrol. But a scheming land developer has other plans and the ski patrol is thrust into a skiing showdown in order to save Pops' mountain.\"\n        ],\n        \"semantic_type\": \"\",\n        \"description\": \"\"\n      }\n    },\n    {\n      \"column\": \"release_date\",\n      \"properties\": {\n        \"dtype\": \"date\",\n        \"min\": \"1906-12-26 00:00:00\",\n        \"max\": \"2017-12-27 00:00:00\",\n        \"num_unique_values\": 13739,\n        \"samples\": [\n          \"2008-10-01 00:00:00\"\n        ],\n        \"semantic_type\": \"\",\n        \"description\": \"\"\n      }\n    },\n    {\n      \"column\": \"runtime\",\n      \"properties\": {\n        \"dtype\": \"number\",\n        \"std\": 21.755190723117444,\n        \"min\": 45.0,\n        \"max\": 300.0,\n        \"num_unique_values\": 210,\n        \"samples\": [\n          117.0\n        ],\n        \"semantic_type\": \"\",\n        \"description\": \"\"\n      }\n    },\n    {\n      \"column\": \"title\",\n      \"properties\": {\n        \"dtype\": \"string\",\n        \"num_unique_values\": 28061,\n        \"samples\": [\n          \"Britney Ever After\"\n        ],\n        \"semantic_type\": \"\",\n        \"description\": \"\"\n      }\n    },\n    {\n      \"column\": \"actors\",\n      \"properties\": {\n        \"dtype\": \"object\",\n        \"semantic_type\": \"\",\n        \"description\": \"\"\n      }\n    },\n    {\n      \"column\": \"keywords_extracted\",\n      \"properties\": {\n        \"dtype\": \"object\",\n        \"semantic_type\": \"\",\n        \"description\": \"\"\n      }\n    },\n    {\n      \"column\": \"genre_extracted\",\n      \"properties\": {\n        \"dtype\": \"object\",\n        \"semantic_type\": \"\",\n        \"description\": \"\"\n      }\n    },\n    {\n      \"column\": \"production_company_extracted\",\n      \"properties\": {\n        \"dtype\": \"object\",\n        \"semantic_type\": \"\",\n        \"description\": \"\"\n      }\n    },\n    {\n      \"column\": \"production_country_extracted\",\n      \"properties\": {\n        \"dtype\": \"object\",\n        \"semantic_type\": \"\",\n        \"description\": \"\"\n      }\n    }\n  ]\n}"
      }
     },
     "metadata": {},
     "execution_count": 6
    }
   ]
  },
  {
   "cell_type": "markdown",
   "source": [
    "## 2.1.1 List Columns"
   ],
   "metadata": {
    "id": "x9ioTBV5ANAq"
   }
  },
  {
   "cell_type": "markdown",
   "source": [
    "To improve the quality of our dataset and prepare it for advanced text-based modeling, we will thoroughly clean four key columns: genre_extracted, actors, keywords_extracted, and production_company_extracted. This process entails standardizing the text by removing placeholders, lowercasing all entries, and filtering out non-alphabetical characters to ensure consistency across text fields."
   ],
   "metadata": {
    "id": "D8d4SwgBEeCN"
   }
  },
  {
   "cell_type": "markdown",
   "source": [
    "### Inspection for placeholders"
   ],
   "metadata": {
    "id": "boWs6ZTn5vkU"
   }
  },
  {
   "cell_type": "code",
   "source": [
    "placeholder_counts = df_merged['keywords_extracted'].apply(lambda x: str(x).strip().lower() == \"['(none)']\").value_counts()\n",
    "\n",
    "print(\"Occurrences of '[(none)]':\", placeholder_counts.get(True, 0))\n",
    "print(\"Occurrences of other values or variations:\", placeholder_counts.get(False, 0))"
   ],
   "metadata": {
    "colab": {
     "base_uri": "https://localhost:8080/"
    },
    "id": "qlunHkT04_dS",
    "outputId": "3f37c38d-8dad-4670-e0bb-fe706d4a8a9d"
   },
   "execution_count": 7,
   "outputs": [
    {
     "output_type": "stream",
     "name": "stdout",
     "text": [
      "Occurrences of '[(none)]': 7478\n",
      "Occurrences of other values or variations: 22278\n"
     ]
    }
   ]
  },
  {
   "cell_type": "code",
   "source": [
    "placeholder_counts = df_merged['genre_extracted'].apply(lambda x: str(x).strip().lower() == \"['(none)']\").value_counts()\n",
    "\n",
    "print(\"Occurrences of '[(none)]':\", placeholder_counts.get(True, 0))\n",
    "print(\"Occurrences of other values or variations:\", placeholder_counts.get(False, 0))"
   ],
   "metadata": {
    "colab": {
     "base_uri": "https://localhost:8080/"
    },
    "id": "bn6SmKEX6CRJ",
    "outputId": "256e1f74-b66a-4a30-84af-d2deb22a93b8"
   },
   "execution_count": 8,
   "outputs": [
    {
     "output_type": "stream",
     "name": "stdout",
     "text": [
      "Occurrences of '[(none)]': 1110\n",
      "Occurrences of other values or variations: 28646\n"
     ]
    }
   ]
  },
  {
   "cell_type": "code",
   "source": [
    "placeholder_counts = df_merged['production_company_extracted'].apply(lambda x: str(x).strip().lower() == \"[]\").value_counts()\n",
    "\n",
    "print(\"Occurrences of '[]':\", placeholder_counts.get(True, 0))\n",
    "print(\"Occurrences of other values or variations:\", placeholder_counts.get(False, 0))"
   ],
   "metadata": {
    "colab": {
     "base_uri": "https://localhost:8080/"
    },
    "id": "PLb8wBet7Tzo",
    "outputId": "284eaba6-608a-43c0-e8a5-59fb8207480d"
   },
   "execution_count": 9,
   "outputs": [
    {
     "output_type": "stream",
     "name": "stdout",
     "text": [
      "Occurrences of '[]': 7165\n",
      "Occurrences of other values or variations: 22591\n"
     ]
    }
   ]
  },
  {
   "cell_type": "code",
   "source": [
    "placeholder_counts = df_merged['actors'].apply(lambda x: str(x).strip().lower() == \"[]\").value_counts()\n",
    "\n",
    "print(\"Occurrences of '[]':\", placeholder_counts.get(True, 0))\n",
    "print(\"Occurrences of other values or variations:\", placeholder_counts.get(False, 0))"
   ],
   "metadata": {
    "colab": {
     "base_uri": "https://localhost:8080/"
    },
    "id": "7s5yBiay8WhI",
    "outputId": "df150366-f981-41a8-c1e0-53be8f1b5c43"
   },
   "execution_count": 10,
   "outputs": [
    {
     "output_type": "stream",
     "name": "stdout",
     "text": [
      "Occurrences of '[]': 1280\n",
      "Occurrences of other values or variations: 28476\n"
     ]
    }
   ]
  },
  {
   "cell_type": "markdown",
   "source": [
    "### Cleaning Function"
   ],
   "metadata": {
    "id": "yg9UB1AEAa_w"
   }
  },
  {
   "cell_type": "markdown",
   "source": [
    "The clean_list_data function is intended to clean lists by removing placeholder entries. It first determines whether the list is empty, and if not, it removes any of the placeholder entries. The function is then applied to several columns in the DataFrame df_merged, specifically the 'genre_extracted', 'actors', 'keywords_extracted', and 'production_company_extracted' columns, to ensure that they only contain meaningful data by removing any placeholder values."
   ],
   "metadata": {
    "id": "OFSPR_Ol98Nl"
   }
  },
  {
   "cell_type": "code",
   "source": [
    "# Define a function to clean placeholders in lists\n",
    "def clean_list_data(data):\n",
    "    if not data:  # Checks if the list is empty\n",
    "        return []\n",
    "    # Remove any placeholder entries\n",
    "    return [item for item in data if item.lower() not in ['(none)', 'none', 'n/a', 'null', 'unknown']]\n",
    "\n",
    "# Apply the cleaning function to each column\n",
    "df_merged['genre_extracted'] = df_merged['genre_extracted'].apply(clean_list_data)\n",
    "df_merged['actors'] = df_merged['actors'].apply(clean_list_data)\n",
    "df_merged['keywords_extracted'] = df_merged['keywords_extracted'].apply(clean_list_data)\n",
    "df_merged['production_company_extracted'] = df_merged['production_company_extracted'].apply(clean_list_data)"
   ],
   "metadata": {
    "id": "-eajtCqg_oeo"
   },
   "execution_count": 11,
   "outputs": []
  },
  {
   "cell_type": "markdown",
   "source": [
    "### Verification of cleaning"
   ],
   "metadata": {
    "id": "UVMcHufc_vZL"
   }
  },
  {
   "cell_type": "code",
   "source": [
    "placeholder_counts = df_merged['keywords_extracted'].apply(lambda x: str(x).strip().lower() == \"[]\").value_counts()\n",
    "\n",
    "print(\"Occurrences of '[]':\", placeholder_counts.get(True, 0))\n",
    "print(\"Occurrences of other values or variations:\", placeholder_counts.get(False, 0))"
   ],
   "metadata": {
    "colab": {
     "base_uri": "https://localhost:8080/"
    },
    "id": "LZjHOpJp_rqS",
    "outputId": "0a414ffb-9d4a-4b32-eb1d-2d1baa6b1172"
   },
   "execution_count": 12,
   "outputs": [
    {
     "output_type": "stream",
     "name": "stdout",
     "text": [
      "Occurrences of '[]': 7478\n",
      "Occurrences of other values or variations: 22278\n"
     ]
    }
   ]
  },
  {
   "cell_type": "code",
   "source": [
    "placeholder_counts = df_merged['genre_extracted'].apply(lambda x: str(x).strip().lower() == \"[]\").value_counts()\n",
    "\n",
    "print(\"Occurrences of '[]':\", placeholder_counts.get(True, 0))\n",
    "print(\"Occurrences of other values or variations:\", placeholder_counts.get(False, 0))"
   ],
   "metadata": {
    "colab": {
     "base_uri": "https://localhost:8080/"
    },
    "id": "HOJDyxyw_22t",
    "outputId": "a7275b22-8c2d-438e-d268-c9d62ae3f77a"
   },
   "execution_count": 13,
   "outputs": [
    {
     "output_type": "stream",
     "name": "stdout",
     "text": [
      "Occurrences of '[]': 1110\n",
      "Occurrences of other values or variations: 28646\n"
     ]
    }
   ]
  },
  {
   "cell_type": "code",
   "source": [
    "placeholder_counts = df_merged['production_company_extracted'].apply(lambda x: str(x).strip().lower() == \"[]\").value_counts()\n",
    "\n",
    "print(\"Occurrences of '[]':\", placeholder_counts.get(True, 0))\n",
    "print(\"Occurrences of other values or variations:\", placeholder_counts.get(False, 0))"
   ],
   "metadata": {
    "colab": {
     "base_uri": "https://localhost:8080/"
    },
    "id": "7_QniAIZA5LV",
    "outputId": "4eede761-339b-485a-dea1-cd5685332bf4"
   },
   "execution_count": 14,
   "outputs": [
    {
     "output_type": "stream",
     "name": "stdout",
     "text": [
      "Occurrences of '[]': 7165\n",
      "Occurrences of other values or variations: 22591\n"
     ]
    }
   ]
  },
  {
   "cell_type": "code",
   "source": [
    "placeholder_counts = df_merged['actors'].apply(lambda x: str(x).strip().lower() == \"[]\").value_counts()\n",
    "\n",
    "print(\"Occurrences of '[]':\", placeholder_counts.get(True, 0))\n",
    "print(\"Occurrences of other values or variations:\", placeholder_counts.get(False, 0))"
   ],
   "metadata": {
    "colab": {
     "base_uri": "https://localhost:8080/"
    },
    "id": "HP8MzaEsBGAa",
    "outputId": "fcfaf3f6-56b7-4b6a-a311-d4de0bbc8361"
   },
   "execution_count": 15,
   "outputs": [
    {
     "output_type": "stream",
     "name": "stdout",
     "text": [
      "Occurrences of '[]': 1280\n",
      "Occurrences of other values or variations: 28476\n"
     ]
    }
   ]
  },
  {
   "cell_type": "markdown",
   "source": [
    "After applying the cleaning function to the 'genre_extracted', 'actors', 'keywords_extracted', and 'production_company_extracted' columns in the DataFrame df_merged, placeholders have successfully been standardized to [] for the inspected columns."
   ],
   "metadata": {
    "id": "URujkSKMCsM0"
   }
  },
  {
   "cell_type": "markdown",
   "source": [
    "### Standardize Case and Remove Special Characters"
   ],
   "metadata": {
    "id": "aZITASN4Drn-"
   }
  },
  {
   "cell_type": "markdown",
   "source": [
    "This is essential to maintain consistency and reduce the vocabulary size that the model needs to understand."
   ],
   "metadata": {
    "id": "BXiFMSFMD5r4"
   }
  },
  {
   "cell_type": "code",
   "source": [
    "# Function to clean individual strings in lists\n",
    "def clean_text(text):\n",
    "    # Lowercase the text\n",
    "    text = text.lower()\n",
    "    # Remove special characters\n",
    "    text = re.sub(r'[^a-z\\s]', '', text)  # Keep only letters and spaces\n",
    "    return text.strip()\n",
    "\n",
    "# Function to process lists of strings\n",
    "def preprocess_list(data):\n",
    "    return [clean_text(item) for item in data if item]"
   ],
   "metadata": {
    "id": "CJ4DY_cWDgTN"
   },
   "execution_count": 16,
   "outputs": []
  },
  {
   "cell_type": "code",
   "source": [
    "# Apply preprocessing to each column\n",
    "df_merged['genre_extracted'] = df_merged['genre_extracted'].apply(preprocess_list)\n",
    "df_merged['actors'] = df_merged['actors'].apply(preprocess_list)\n",
    "df_merged['keywords_extracted'] = df_merged['keywords_extracted'].apply(preprocess_list)\n",
    "df_merged['production_company_extracted'] = df_merged['production_company_extracted'].apply(preprocess_list)"
   ],
   "metadata": {
    "id": "wrhTI_X9Dj-W"
   },
   "execution_count": 17,
   "outputs": []
  },
  {
   "cell_type": "markdown",
   "source": [
    "## 2.1.2 'Overview' Column"
   ],
   "metadata": {
    "id": "2336qlGyE2Vp"
   }
  },
  {
   "cell_type": "markdown",
   "source": [
    "In the following sections, we will thoroughly analyze and clean the \"Overview\" column, which contains detailed descriptions of movies that are critical to generate meaningful content-based recommendations"
   ],
   "metadata": {
    "id": "SnLseOCvG3c7"
   }
  },
  {
   "cell_type": "code",
   "source": [
    "df_merged[\"overview\"].head()"
   ],
   "metadata": {
    "colab": {
     "base_uri": "https://localhost:8080/"
    },
    "outputId": "8bc1e211-6ba2-4fb1-863e-ab2ba275c730",
    "id": "WV3Ol8dgFco8"
   },
   "execution_count": 18,
   "outputs": [
    {
     "output_type": "execute_result",
     "data": {
      "text/plain": [
       "0    Led by Woody, Andy's toys live happily in his ...\n",
       "1    When siblings Judy and Peter discover an encha...\n",
       "2    A family wedding reignites the ancient feud be...\n",
       "3    Cheated on, mistreated and stepped on, the wom...\n",
       "4    Just when George Banks has recovered from his ...\n",
       "Name: overview, dtype: object"
      ]
     },
     "metadata": {},
     "execution_count": 18
    }
   ]
  },
  {
   "cell_type": "code",
   "source": [
    "# Number of total values\n",
    "total_entries = len(df_merged['overview'])\n",
    "print(f\"Total entries: {total_entries}\")\n",
    "\n",
    "# Number of missing values\n",
    "missing_values = df_merged['overview'].isnull().sum()\n",
    "print(f\"Missing values: {missing_values}\")\n",
    "\n",
    "# Number of unique values\n",
    "unique_values = df_merged['overview'].nunique()\n",
    "print(f\"Unique values: {unique_values}\")\n",
    "\n",
    "# Average length of movie descriptions\n",
    "average_length = df_merged['overview'].dropna().apply(len).mean()\n",
    "print(f\"Average Length of Descriptions: {average_length:.2f} characters\")\n",
    "\n",
    "# Shortest length of movie descriptions\n",
    "shortest_length = df_merged['overview'].dropna().apply(len).min()\n",
    "print(f\"Shortest Length of Descriptions: {shortest_length:.2f} characters\")\n",
    "\n",
    "# Longest length of movie descriptions\n",
    "longest_length = df_merged['overview'].dropna().apply(len).max()\n",
    "print(f\"Longest Length of Descriptions: {longest_length:.2f} characters\")"
   ],
   "metadata": {
    "colab": {
     "base_uri": "https://localhost:8080/"
    },
    "outputId": "7a85d8a9-0939-425b-d4dd-99f1ca8ca169",
    "id": "YxCQ0mS5Fco8"
   },
   "execution_count": 19,
   "outputs": [
    {
     "output_type": "stream",
     "name": "stdout",
     "text": [
      "Total entries: 29756\n",
      "Missing values: 0\n",
      "Unique values: 29690\n",
      "Average Length of Descriptions: 313.33 characters\n",
      "Shortest Length of Descriptions: 1.00 characters\n",
      "Longest Length of Descriptions: 1000.00 characters\n"
     ]
    }
   ]
  },
  {
   "cell_type": "markdown",
   "source": [
    "After examining the entries in the df_merged DataFrame with 1000-character descriptions, We are decided to keep them. These descriptions are complete and informative, despite reaching the character limit. They are fully usable and add value to our analysis. Consequently, we will continue to include these long descriptions to ensure the dataset remains robust and comprehensive."
   ],
   "metadata": {
    "id": "X1CTS_uzFco8"
   }
  },
  {
   "cell_type": "markdown",
   "source": [
    "Identify entries where descriptions are extremely short. These might be errors or insufficient descriptions."
   ],
   "metadata": {
    "id": "e75WrNa6Fco8"
   }
  },
  {
   "cell_type": "code",
   "source": [
    "short_descriptions_mask = df_merged['overview'].dropna().apply(len) < 30\n",
    "\n",
    "# Filter the original DataFrame to show only rows with short descriptions\n",
    "short_desc_df = df_merged[short_descriptions_mask]\n",
    "\n",
    "# Display these descriptions to assess their relevance\n",
    "short_desc_df.head(10)"
   ],
   "metadata": {
    "colab": {
     "base_uri": "https://localhost:8080/",
     "height": 1000
    },
    "outputId": "40a260d6-0142-403a-ef52-921c5ebcbf8b",
    "id": "OQvNC3DjFco8"
   },
   "execution_count": 20,
   "outputs": [
    {
     "output_type": "execute_result",
     "data": {
      "text/plain": [
       "       movieId  belongs_to_collection original_language            overview  \\\n",
       "987       1001                      0                en  No overview found.   \n",
       "1633      1692                      0                en  No overview found.   \n",
       "2250      2343                      0                en  No overview found.   \n",
       "3788      3887                      0                en  No overview found.   \n",
       "4573      4667                      0                en                       \n",
       "7382      7566                      1                en  No overview found.   \n",
       "9262     27215                      0                en  No overview found.   \n",
       "9986     32659                      0                en  No overview found.   \n",
       "11371    48167                      0                en  No overview found.   \n",
       "11679    51014                      0                en  No overview found.   \n",
       "\n",
       "      release_date  runtime  \\\n",
       "987     1979-08-22     94.0   \n",
       "1633    1996-01-01     85.0   \n",
       "2250    1998-08-02     98.0   \n",
       "3788    1998-01-01     94.0   \n",
       "4573    1989-03-18    124.0   \n",
       "7382    1984-11-20    136.0   \n",
       "9262    2000-08-18    103.0   \n",
       "9986    2001-11-21    108.0   \n",
       "11371   2004-01-29     92.0   \n",
       "11679   1968-01-07    120.0   \n",
       "\n",
       "                                                   title  \\\n",
       "987                                            L'associé   \n",
       "1633                                        Alien Escape   \n",
       "2250                                       The Naked Man   \n",
       "3788   Went to Coney Island on a Mission from God... ...   \n",
       "4573                                  Slaves of New York   \n",
       "7382                                               28 Up   \n",
       "9262                                             Badding   \n",
       "9986                                              Tanguy   \n",
       "11371                                             Aaltra   \n",
       "11679        The Strange Case of Dr. Jekyll and Mr. Hyde   \n",
       "\n",
       "                                                  actors  \\\n",
       "987    [michel serrault, claudine auger, catherine al...   \n",
       "1633   [gail harris, bernie van de yacht, heather for...   \n",
       "2250   [michael rapaport, michael jeter, rachael leig...   \n",
       "3788                                                  []   \n",
       "4573   [bernadette peters, chris sarandon, mary beth ...   \n",
       "7382                                                  []   \n",
       "9262   [janne reinikainen, karoliina blackburn, peter...   \n",
       "9986   [eric berger, sabine azma, andr dussollier, hl...   \n",
       "11371  [benot delpine, gustave de kervern, michel de ...   \n",
       "11679  [jack palance, denholm elliott, leo genn, tori...   \n",
       "\n",
       "                                      keywords_extracted  \\\n",
       "987                                                   []   \n",
       "1633   [female nudity, mutant, cabin, alien lifeform,...   \n",
       "2250   [male nudity, double life, wrestling, murder, ...   \n",
       "3788                                  [independent film]   \n",
       "4573                                                  []   \n",
       "7382                                                  []   \n",
       "9262                                                  []   \n",
       "9986   [paris, china, parent child relationship, flat...   \n",
       "11371  [belgium, wheelchair user, lovehate relationsh...   \n",
       "11679     [london england, double life, jekyll and hyde]   \n",
       "\n",
       "                          genre_extracted  \\\n",
       "987                              [comedy]   \n",
       "1633            [horror, science fiction]   \n",
       "2250                   [comedy, thriller]   \n",
       "3788                              [drama]   \n",
       "4573                              [drama]   \n",
       "7382               [documentary, foreign]   \n",
       "9262                                   []   \n",
       "9986                             [comedy]   \n",
       "11371            [comedy, foreign, drama]   \n",
       "11679  [drama, science fiction, thriller]   \n",
       "\n",
       "                            production_company_extracted  \\\n",
       "987                                                   []   \n",
       "1633                                                  []   \n",
       "2250                                                  []   \n",
       "3788                                                  []   \n",
       "4573                                                  []   \n",
       "7382                                                  []   \n",
       "9262                                                  []   \n",
       "9986   [les productions du champ poirier, tps cinma, ...   \n",
       "11371                             [la parti productions]   \n",
       "11679                                                 []   \n",
       "\n",
       "             production_country_extracted  \n",
       "987                                    []  \n",
       "1633           [United States of America]  \n",
       "2250           [United States of America]  \n",
       "3788                                   []  \n",
       "4573           [United States of America]  \n",
       "7382                     [United Kingdom]  \n",
       "9262                            [Finland]  \n",
       "9986                             [France]  \n",
       "11371                            [France]  \n",
       "11679  [Canada, United States of America]  "
      ],
      "text/html": [
       "\n",
       "  <div id=\"df-c887bc68-ad4b-48f2-81a1-2d6de4fe1192\" class=\"colab-df-container\">\n",
       "    <div>\n",
       "<style scoped>\n",
       "    .dataframe tbody tr th:only-of-type {\n",
       "        vertical-align: middle;\n",
       "    }\n",
       "\n",
       "    .dataframe tbody tr th {\n",
       "        vertical-align: top;\n",
       "    }\n",
       "\n",
       "    .dataframe thead th {\n",
       "        text-align: right;\n",
       "    }\n",
       "</style>\n",
       "<table border=\"1\" class=\"dataframe\">\n",
       "  <thead>\n",
       "    <tr style=\"text-align: right;\">\n",
       "      <th></th>\n",
       "      <th>movieId</th>\n",
       "      <th>belongs_to_collection</th>\n",
       "      <th>original_language</th>\n",
       "      <th>overview</th>\n",
       "      <th>release_date</th>\n",
       "      <th>runtime</th>\n",
       "      <th>title</th>\n",
       "      <th>actors</th>\n",
       "      <th>keywords_extracted</th>\n",
       "      <th>genre_extracted</th>\n",
       "      <th>production_company_extracted</th>\n",
       "      <th>production_country_extracted</th>\n",
       "    </tr>\n",
       "  </thead>\n",
       "  <tbody>\n",
       "    <tr>\n",
       "      <th>987</th>\n",
       "      <td>1001</td>\n",
       "      <td>0</td>\n",
       "      <td>en</td>\n",
       "      <td>No overview found.</td>\n",
       "      <td>1979-08-22</td>\n",
       "      <td>94.0</td>\n",
       "      <td>L'associé</td>\n",
       "      <td>[michel serrault, claudine auger, catherine al...</td>\n",
       "      <td>[]</td>\n",
       "      <td>[comedy]</td>\n",
       "      <td>[]</td>\n",
       "      <td>[]</td>\n",
       "    </tr>\n",
       "    <tr>\n",
       "      <th>1633</th>\n",
       "      <td>1692</td>\n",
       "      <td>0</td>\n",
       "      <td>en</td>\n",
       "      <td>No overview found.</td>\n",
       "      <td>1996-01-01</td>\n",
       "      <td>85.0</td>\n",
       "      <td>Alien Escape</td>\n",
       "      <td>[gail harris, bernie van de yacht, heather for...</td>\n",
       "      <td>[female nudity, mutant, cabin, alien lifeform,...</td>\n",
       "      <td>[horror, science fiction]</td>\n",
       "      <td>[]</td>\n",
       "      <td>[United States of America]</td>\n",
       "    </tr>\n",
       "    <tr>\n",
       "      <th>2250</th>\n",
       "      <td>2343</td>\n",
       "      <td>0</td>\n",
       "      <td>en</td>\n",
       "      <td>No overview found.</td>\n",
       "      <td>1998-08-02</td>\n",
       "      <td>98.0</td>\n",
       "      <td>The Naked Man</td>\n",
       "      <td>[michael rapaport, michael jeter, rachael leig...</td>\n",
       "      <td>[male nudity, double life, wrestling, murder, ...</td>\n",
       "      <td>[comedy, thriller]</td>\n",
       "      <td>[]</td>\n",
       "      <td>[United States of America]</td>\n",
       "    </tr>\n",
       "    <tr>\n",
       "      <th>3788</th>\n",
       "      <td>3887</td>\n",
       "      <td>0</td>\n",
       "      <td>en</td>\n",
       "      <td>No overview found.</td>\n",
       "      <td>1998-01-01</td>\n",
       "      <td>94.0</td>\n",
       "      <td>Went to Coney Island on a Mission from God... ...</td>\n",
       "      <td>[]</td>\n",
       "      <td>[independent film]</td>\n",
       "      <td>[drama]</td>\n",
       "      <td>[]</td>\n",
       "      <td>[]</td>\n",
       "    </tr>\n",
       "    <tr>\n",
       "      <th>4573</th>\n",
       "      <td>4667</td>\n",
       "      <td>0</td>\n",
       "      <td>en</td>\n",
       "      <td></td>\n",
       "      <td>1989-03-18</td>\n",
       "      <td>124.0</td>\n",
       "      <td>Slaves of New York</td>\n",
       "      <td>[bernadette peters, chris sarandon, mary beth ...</td>\n",
       "      <td>[]</td>\n",
       "      <td>[drama]</td>\n",
       "      <td>[]</td>\n",
       "      <td>[United States of America]</td>\n",
       "    </tr>\n",
       "    <tr>\n",
       "      <th>7382</th>\n",
       "      <td>7566</td>\n",
       "      <td>1</td>\n",
       "      <td>en</td>\n",
       "      <td>No overview found.</td>\n",
       "      <td>1984-11-20</td>\n",
       "      <td>136.0</td>\n",
       "      <td>28 Up</td>\n",
       "      <td>[]</td>\n",
       "      <td>[]</td>\n",
       "      <td>[documentary, foreign]</td>\n",
       "      <td>[]</td>\n",
       "      <td>[United Kingdom]</td>\n",
       "    </tr>\n",
       "    <tr>\n",
       "      <th>9262</th>\n",
       "      <td>27215</td>\n",
       "      <td>0</td>\n",
       "      <td>en</td>\n",
       "      <td>No overview found.</td>\n",
       "      <td>2000-08-18</td>\n",
       "      <td>103.0</td>\n",
       "      <td>Badding</td>\n",
       "      <td>[janne reinikainen, karoliina blackburn, peter...</td>\n",
       "      <td>[]</td>\n",
       "      <td>[]</td>\n",
       "      <td>[]</td>\n",
       "      <td>[Finland]</td>\n",
       "    </tr>\n",
       "    <tr>\n",
       "      <th>9986</th>\n",
       "      <td>32659</td>\n",
       "      <td>0</td>\n",
       "      <td>en</td>\n",
       "      <td>No overview found.</td>\n",
       "      <td>2001-11-21</td>\n",
       "      <td>108.0</td>\n",
       "      <td>Tanguy</td>\n",
       "      <td>[eric berger, sabine azma, andr dussollier, hl...</td>\n",
       "      <td>[paris, china, parent child relationship, flat...</td>\n",
       "      <td>[comedy]</td>\n",
       "      <td>[les productions du champ poirier, tps cinma, ...</td>\n",
       "      <td>[France]</td>\n",
       "    </tr>\n",
       "    <tr>\n",
       "      <th>11371</th>\n",
       "      <td>48167</td>\n",
       "      <td>0</td>\n",
       "      <td>en</td>\n",
       "      <td>No overview found.</td>\n",
       "      <td>2004-01-29</td>\n",
       "      <td>92.0</td>\n",
       "      <td>Aaltra</td>\n",
       "      <td>[benot delpine, gustave de kervern, michel de ...</td>\n",
       "      <td>[belgium, wheelchair user, lovehate relationsh...</td>\n",
       "      <td>[comedy, foreign, drama]</td>\n",
       "      <td>[la parti productions]</td>\n",
       "      <td>[France]</td>\n",
       "    </tr>\n",
       "    <tr>\n",
       "      <th>11679</th>\n",
       "      <td>51014</td>\n",
       "      <td>0</td>\n",
       "      <td>en</td>\n",
       "      <td>No overview found.</td>\n",
       "      <td>1968-01-07</td>\n",
       "      <td>120.0</td>\n",
       "      <td>The Strange Case of Dr. Jekyll and Mr. Hyde</td>\n",
       "      <td>[jack palance, denholm elliott, leo genn, tori...</td>\n",
       "      <td>[london england, double life, jekyll and hyde]</td>\n",
       "      <td>[drama, science fiction, thriller]</td>\n",
       "      <td>[]</td>\n",
       "      <td>[Canada, United States of America]</td>\n",
       "    </tr>\n",
       "  </tbody>\n",
       "</table>\n",
       "</div>\n",
       "    <div class=\"colab-df-buttons\">\n",
       "\n",
       "  <div class=\"colab-df-container\">\n",
       "    <button class=\"colab-df-convert\" onclick=\"convertToInteractive('df-c887bc68-ad4b-48f2-81a1-2d6de4fe1192')\"\n",
       "            title=\"Convert this dataframe to an interactive table.\"\n",
       "            style=\"display:none;\">\n",
       "\n",
       "  <svg xmlns=\"http://www.w3.org/2000/svg\" height=\"24px\" viewBox=\"0 -960 960 960\">\n",
       "    <path d=\"M120-120v-720h720v720H120Zm60-500h600v-160H180v160Zm220 220h160v-160H400v160Zm0 220h160v-160H400v160ZM180-400h160v-160H180v160Zm440 0h160v-160H620v160ZM180-180h160v-160H180v160Zm440 0h160v-160H620v160Z\"/>\n",
       "  </svg>\n",
       "    </button>\n",
       "\n",
       "  <style>\n",
       "    .colab-df-container {\n",
       "      display:flex;\n",
       "      gap: 12px;\n",
       "    }\n",
       "\n",
       "    .colab-df-convert {\n",
       "      background-color: #E8F0FE;\n",
       "      border: none;\n",
       "      border-radius: 50%;\n",
       "      cursor: pointer;\n",
       "      display: none;\n",
       "      fill: #1967D2;\n",
       "      height: 32px;\n",
       "      padding: 0 0 0 0;\n",
       "      width: 32px;\n",
       "    }\n",
       "\n",
       "    .colab-df-convert:hover {\n",
       "      background-color: #E2EBFA;\n",
       "      box-shadow: 0px 1px 2px rgba(60, 64, 67, 0.3), 0px 1px 3px 1px rgba(60, 64, 67, 0.15);\n",
       "      fill: #174EA6;\n",
       "    }\n",
       "\n",
       "    .colab-df-buttons div {\n",
       "      margin-bottom: 4px;\n",
       "    }\n",
       "\n",
       "    [theme=dark] .colab-df-convert {\n",
       "      background-color: #3B4455;\n",
       "      fill: #D2E3FC;\n",
       "    }\n",
       "\n",
       "    [theme=dark] .colab-df-convert:hover {\n",
       "      background-color: #434B5C;\n",
       "      box-shadow: 0px 1px 3px 1px rgba(0, 0, 0, 0.15);\n",
       "      filter: drop-shadow(0px 1px 2px rgba(0, 0, 0, 0.3));\n",
       "      fill: #FFFFFF;\n",
       "    }\n",
       "  </style>\n",
       "\n",
       "    <script>\n",
       "      const buttonEl =\n",
       "        document.querySelector('#df-c887bc68-ad4b-48f2-81a1-2d6de4fe1192 button.colab-df-convert');\n",
       "      buttonEl.style.display =\n",
       "        google.colab.kernel.accessAllowed ? 'block' : 'none';\n",
       "\n",
       "      async function convertToInteractive(key) {\n",
       "        const element = document.querySelector('#df-c887bc68-ad4b-48f2-81a1-2d6de4fe1192');\n",
       "        const dataTable =\n",
       "          await google.colab.kernel.invokeFunction('convertToInteractive',\n",
       "                                                    [key], {});\n",
       "        if (!dataTable) return;\n",
       "\n",
       "        const docLinkHtml = 'Like what you see? Visit the ' +\n",
       "          '<a target=\"_blank\" href=https://colab.research.google.com/notebooks/data_table.ipynb>data table notebook</a>'\n",
       "          + ' to learn more about interactive tables.';\n",
       "        element.innerHTML = '';\n",
       "        dataTable['output_type'] = 'display_data';\n",
       "        await google.colab.output.renderOutput(dataTable, element);\n",
       "        const docLink = document.createElement('div');\n",
       "        docLink.innerHTML = docLinkHtml;\n",
       "        element.appendChild(docLink);\n",
       "      }\n",
       "    </script>\n",
       "  </div>\n",
       "\n",
       "\n",
       "<div id=\"df-c0d1047a-1c64-4f3f-953b-7602bbefac73\">\n",
       "  <button class=\"colab-df-quickchart\" onclick=\"quickchart('df-c0d1047a-1c64-4f3f-953b-7602bbefac73')\"\n",
       "            title=\"Suggest charts\"\n",
       "            style=\"display:none;\">\n",
       "\n",
       "<svg xmlns=\"http://www.w3.org/2000/svg\" height=\"24px\"viewBox=\"0 0 24 24\"\n",
       "     width=\"24px\">\n",
       "    <g>\n",
       "        <path d=\"M19 3H5c-1.1 0-2 .9-2 2v14c0 1.1.9 2 2 2h14c1.1 0 2-.9 2-2V5c0-1.1-.9-2-2-2zM9 17H7v-7h2v7zm4 0h-2V7h2v10zm4 0h-2v-4h2v4z\"/>\n",
       "    </g>\n",
       "</svg>\n",
       "  </button>\n",
       "\n",
       "<style>\n",
       "  .colab-df-quickchart {\n",
       "      --bg-color: #E8F0FE;\n",
       "      --fill-color: #1967D2;\n",
       "      --hover-bg-color: #E2EBFA;\n",
       "      --hover-fill-color: #174EA6;\n",
       "      --disabled-fill-color: #AAA;\n",
       "      --disabled-bg-color: #DDD;\n",
       "  }\n",
       "\n",
       "  [theme=dark] .colab-df-quickchart {\n",
       "      --bg-color: #3B4455;\n",
       "      --fill-color: #D2E3FC;\n",
       "      --hover-bg-color: #434B5C;\n",
       "      --hover-fill-color: #FFFFFF;\n",
       "      --disabled-bg-color: #3B4455;\n",
       "      --disabled-fill-color: #666;\n",
       "  }\n",
       "\n",
       "  .colab-df-quickchart {\n",
       "    background-color: var(--bg-color);\n",
       "    border: none;\n",
       "    border-radius: 50%;\n",
       "    cursor: pointer;\n",
       "    display: none;\n",
       "    fill: var(--fill-color);\n",
       "    height: 32px;\n",
       "    padding: 0;\n",
       "    width: 32px;\n",
       "  }\n",
       "\n",
       "  .colab-df-quickchart:hover {\n",
       "    background-color: var(--hover-bg-color);\n",
       "    box-shadow: 0 1px 2px rgba(60, 64, 67, 0.3), 0 1px 3px 1px rgba(60, 64, 67, 0.15);\n",
       "    fill: var(--button-hover-fill-color);\n",
       "  }\n",
       "\n",
       "  .colab-df-quickchart-complete:disabled,\n",
       "  .colab-df-quickchart-complete:disabled:hover {\n",
       "    background-color: var(--disabled-bg-color);\n",
       "    fill: var(--disabled-fill-color);\n",
       "    box-shadow: none;\n",
       "  }\n",
       "\n",
       "  .colab-df-spinner {\n",
       "    border: 2px solid var(--fill-color);\n",
       "    border-color: transparent;\n",
       "    border-bottom-color: var(--fill-color);\n",
       "    animation:\n",
       "      spin 1s steps(1) infinite;\n",
       "  }\n",
       "\n",
       "  @keyframes spin {\n",
       "    0% {\n",
       "      border-color: transparent;\n",
       "      border-bottom-color: var(--fill-color);\n",
       "      border-left-color: var(--fill-color);\n",
       "    }\n",
       "    20% {\n",
       "      border-color: transparent;\n",
       "      border-left-color: var(--fill-color);\n",
       "      border-top-color: var(--fill-color);\n",
       "    }\n",
       "    30% {\n",
       "      border-color: transparent;\n",
       "      border-left-color: var(--fill-color);\n",
       "      border-top-color: var(--fill-color);\n",
       "      border-right-color: var(--fill-color);\n",
       "    }\n",
       "    40% {\n",
       "      border-color: transparent;\n",
       "      border-right-color: var(--fill-color);\n",
       "      border-top-color: var(--fill-color);\n",
       "    }\n",
       "    60% {\n",
       "      border-color: transparent;\n",
       "      border-right-color: var(--fill-color);\n",
       "    }\n",
       "    80% {\n",
       "      border-color: transparent;\n",
       "      border-right-color: var(--fill-color);\n",
       "      border-bottom-color: var(--fill-color);\n",
       "    }\n",
       "    90% {\n",
       "      border-color: transparent;\n",
       "      border-bottom-color: var(--fill-color);\n",
       "    }\n",
       "  }\n",
       "</style>\n",
       "\n",
       "  <script>\n",
       "    async function quickchart(key) {\n",
       "      const quickchartButtonEl =\n",
       "        document.querySelector('#' + key + ' button');\n",
       "      quickchartButtonEl.disabled = true;  // To prevent multiple clicks.\n",
       "      quickchartButtonEl.classList.add('colab-df-spinner');\n",
       "      try {\n",
       "        const charts = await google.colab.kernel.invokeFunction(\n",
       "            'suggestCharts', [key], {});\n",
       "      } catch (error) {\n",
       "        console.error('Error during call to suggestCharts:', error);\n",
       "      }\n",
       "      quickchartButtonEl.classList.remove('colab-df-spinner');\n",
       "      quickchartButtonEl.classList.add('colab-df-quickchart-complete');\n",
       "    }\n",
       "    (() => {\n",
       "      let quickchartButtonEl =\n",
       "        document.querySelector('#df-c0d1047a-1c64-4f3f-953b-7602bbefac73 button');\n",
       "      quickchartButtonEl.style.display =\n",
       "        google.colab.kernel.accessAllowed ? 'block' : 'none';\n",
       "    })();\n",
       "  </script>\n",
       "</div>\n",
       "    </div>\n",
       "  </div>\n"
      ],
      "application/vnd.google.colaboratory.intrinsic+json": {
       "type": "dataframe",
       "variable_name": "short_desc_df",
       "summary": "{\n  \"name\": \"short_desc_df\",\n  \"rows\": 96,\n  \"fields\": [\n    {\n      \"column\": \"movieId\",\n      \"properties\": {\n        \"dtype\": \"Int64\",\n        \"num_unique_values\": 96,\n        \"samples\": [\n          162976,\n          162126,\n          159183\n        ],\n        \"semantic_type\": \"\",\n        \"description\": \"\"\n      }\n    },\n    {\n      \"column\": \"belongs_to_collection\",\n      \"properties\": {\n        \"dtype\": \"number\",\n        \"std\": 0,\n        \"min\": 0,\n        \"max\": 1,\n        \"num_unique_values\": 2,\n        \"samples\": [\n          1,\n          0\n        ],\n        \"semantic_type\": \"\",\n        \"description\": \"\"\n      }\n    },\n    {\n      \"column\": \"original_language\",\n      \"properties\": {\n        \"dtype\": \"category\",\n        \"num_unique_values\": 1,\n        \"samples\": [\n          \"en\"\n        ],\n        \"semantic_type\": \"\",\n        \"description\": \"\"\n      }\n    },\n    {\n      \"column\": \"overview\",\n      \"properties\": {\n        \"dtype\": \"category\",\n        \"num_unique_values\": 40,\n        \"samples\": [\n          \"Based on true events\"\n        ],\n        \"semantic_type\": \"\",\n        \"description\": \"\"\n      }\n    },\n    {\n      \"column\": \"release_date\",\n      \"properties\": {\n        \"dtype\": \"date\",\n        \"min\": \"1933-09-14 00:00:00\",\n        \"max\": \"2016-09-05 00:00:00\",\n        \"num_unique_values\": 91,\n        \"samples\": [\n          \"2008-10-23 00:00:00\"\n        ],\n        \"semantic_type\": \"\",\n        \"description\": \"\"\n      }\n    },\n    {\n      \"column\": \"runtime\",\n      \"properties\": {\n        \"dtype\": \"number\",\n        \"std\": 23.071504030851866,\n        \"min\": 48.0,\n        \"max\": 179.0,\n        \"num_unique_values\": 49,\n        \"samples\": [\n          137.0\n        ],\n        \"semantic_type\": \"\",\n        \"description\": \"\"\n      }\n    },\n    {\n      \"column\": \"title\",\n      \"properties\": {\n        \"dtype\": \"string\",\n        \"num_unique_values\": 96,\n        \"samples\": [\n          \"Broken Blade: Book Four - The Earth of Calamity\"\n        ],\n        \"semantic_type\": \"\",\n        \"description\": \"\"\n      }\n    },\n    {\n      \"column\": \"actors\",\n      \"properties\": {\n        \"dtype\": \"object\",\n        \"semantic_type\": \"\",\n        \"description\": \"\"\n      }\n    },\n    {\n      \"column\": \"keywords_extracted\",\n      \"properties\": {\n        \"dtype\": \"object\",\n        \"semantic_type\": \"\",\n        \"description\": \"\"\n      }\n    },\n    {\n      \"column\": \"genre_extracted\",\n      \"properties\": {\n        \"dtype\": \"object\",\n        \"semantic_type\": \"\",\n        \"description\": \"\"\n      }\n    },\n    {\n      \"column\": \"production_company_extracted\",\n      \"properties\": {\n        \"dtype\": \"object\",\n        \"semantic_type\": \"\",\n        \"description\": \"\"\n      }\n    },\n    {\n      \"column\": \"production_country_extracted\",\n      \"properties\": {\n        \"dtype\": \"object\",\n        \"semantic_type\": \"\",\n        \"description\": \"\"\n      }\n    }\n  ]\n}"
      }
     },
     "metadata": {},
     "execution_count": 20
    }
   ]
  },
  {
   "cell_type": "markdown",
   "source": [
    "Identified entries: No overview found, blank, ..., Not Available, No Overview, x, no overview yet,"
   ],
   "metadata": {
    "id": "tyPGUpVmFco8"
   }
  },
  {
   "cell_type": "code",
   "source": [
    "# Create a list with unwanted movie descriptions\n",
    "unwanted_strings = ['No overview found.', '', '...', 'Not Available', 'No Overview', 'x', 'no overview yet', \"No overview\"]\n",
    "\n",
    "# Strip leading and trailing spaces and filter out rows with unwanted strings and ensure length is at least 10 characters\n",
    "df_merged['overview'] = df_merged['overview'].str.strip()\n",
    "df_merged = df_merged[~df_merged['overview'].isin(unwanted_strings) & (df_merged['overview'] != '') & (df_merged['overview'].str.len() >= 10)]\n",
    "\n",
    "# Check the updated DataFrame\n",
    "print(\"Total entries after cleaning:\", df_merged.shape[0])"
   ],
   "metadata": {
    "colab": {
     "base_uri": "https://localhost:8080/"
    },
    "outputId": "a7ab24c0-75db-4c47-cfd3-8f117870d015",
    "id": "72HNFz2pFco8"
   },
   "execution_count": 21,
   "outputs": [
    {
     "output_type": "stream",
     "name": "stdout",
     "text": [
      "Total entries after cleaning: 29697\n"
     ]
    }
   ]
  },
  {
   "cell_type": "code",
   "source": [
    "# Find duplicates in the 'overview' column\n",
    "duplicates = df_merged['overview'].duplicated(keep=False)\n",
    "\n",
    "# Filter the DataFrame to show only the duplicated overviews\n",
    "duplicated_overviews = df_merged[duplicates]\n",
    "\n",
    "# Display the head of the duplicated overviews\n",
    "print(duplicated_overviews[['overview', \"release_date\"]].head(10))"
   ],
   "metadata": {
    "colab": {
     "base_uri": "https://localhost:8080/"
    },
    "outputId": "1825ec8b-8ff5-446a-9c91-f98c5a23cc72",
    "id": "jS8tmTUVFco8"
   },
   "execution_count": 22,
   "outputs": [
    {
     "output_type": "stream",
     "name": "stdout",
     "text": [
      "                                                overview release_date\n",
      "2048   Wilbur the pig is scared of the end of the sea...   1973-03-01\n",
      "2397   With friends like these, who needs enemies? Th...   1999-02-05\n",
      "2985   Director Michael Apted revisits the same group...   1998-07-28\n",
      "4705   Adventurer Allan Quartermain leads an expediti...   1937-01-01\n",
      "7080   Nick Carraway, a young Midwesterner now living...   1974-03-27\n",
      "8537   Adventurer Allan Quartermain leads an expediti...   1950-11-09\n",
      "9024   Director Michael Apted revisits the same group...   1991-08-29\n",
      "11539  Wilbur the pig is scared of the end of the sea...   2006-12-15\n",
      "14547  Miser Ebenezer Scrooge is awakened on Christma...   2009-11-04\n",
      "16855  Mary, a writer working on a novel about a love...   1941-08-29\n"
     ]
    }
   ]
  },
  {
   "cell_type": "markdown",
   "source": [
    "Duplicates are due to the fact that movies of the same series are featured in the dataset."
   ],
   "metadata": {
    "id": "Ci_uxeppFco9"
   }
  },
  {
   "cell_type": "code",
   "source": [
    "# Create a vectorizer instance to count frequencies\n",
    "vectorizer = CountVectorizer(stop_words='english')\n",
    "X = vectorizer.fit_transform(df_merged['overview'].dropna())\n",
    "\n",
    "# Convert X to a DataFrame\n",
    "word_counts = pd.DataFrame(X.toarray(), columns=vectorizer.get_feature_names_out())\n",
    "common_words = word_counts.sum().sort_values(ascending=False).head(20)\n",
    "\n",
    "# Plotting\n",
    "plt.figure(figsize=(10, 6))\n",
    "common_words.plot(kind='bar')\n",
    "plt.title('Top 20 most common words in Movie Descriptions')\n",
    "plt.xlabel('Words')\n",
    "plt.ylabel('Frequency')\n",
    "plt.show()"
   ],
   "metadata": {
    "colab": {
     "base_uri": "https://localhost:8080/",
     "height": 601
    },
    "outputId": "0836a487-a919-475f-ad31-c159070efd1d",
    "id": "oPMWps9CFco9"
   },
   "execution_count": 23,
   "outputs": [
    {
     "output_type": "display_data",
     "data": {
      "text/plain": [
       "<Figure size 1000x600 with 1 Axes>"
      ],
      "image/png": "[encoded data removed]"
     },
     "metadata": {}
    }
   ]
  },
  {
   "cell_type": "code",
   "source": [
    "# Calculate text lengths\n",
    "text_lengths = df_merged['overview'].dropna().apply(len)\n",
    "\n",
    "# Plotting\n",
    "plt.figure(figsize=(10, 6))\n",
    "plt.hist(text_lengths, bins=30, color='blue', alpha=0.7)\n",
    "plt.title('Distribution of Text Lengths in Movie Descriptions')\n",
    "plt.xlabel('Length of descriptions')\n",
    "plt.ylabel('Number of movies')\n",
    "plt.show()"
   ],
   "metadata": {
    "colab": {
     "base_uri": "https://localhost:8080/",
     "height": 564
    },
    "outputId": "bf5a5ad4-8ff3-46d0-e629-10391cffcf37",
    "id": "NKGJpK1gFco9"
   },
   "execution_count": 24,
   "outputs": [
    {
     "output_type": "display_data",
     "data": {
      "text/plain": [
       "<Figure size 1000x600 with 1 Axes>"
      ],
      "image/png": "[encoded data removed]"
     },
     "metadata": {}
    }
   ]
  },
  {
   "cell_type": "markdown",
   "source": [
    "Interpretation\n",
    "- From the graph, it's evident that the distribution is right-skewed, with a majority of descriptions being between roughly 100 and 400 characters long. There are fewer very short descriptions (near 0 characters) and the number of descriptions decreases steadily as the length increases, with very few descriptions reaching up to 1000 characters.\n",
    "- Significant number of between 100-300 Characters: Most descriptions are concise, providing brief information about the movie, which is typical for summaries intended to give a quick overview without going into detail.\n",
    "- Few Long Descriptions: The sharp decline in frequency as description length increases suggests that longer descriptions are uncommon. These might be detailed synopses rather than simple overviews.\n",
    "- Very Short Descriptions: The relatively low number of extremely short descriptions (near 0 characters) is good as these might not provide useful information."
   ],
   "metadata": {
    "id": "rwFdQUGNFco9"
   }
  },
  {
   "cell_type": "markdown",
   "source": [
    "Considerations for NLP Recommender System based on Similarity Score\n",
    "\n",
    "- The prevalence of shorter texts facilitates standardized embedding processes, reducing the complexity of handling variable text lengths. Descriptions within the 100-300 character range provide enough detail for effective similarity analysis, allowing accurate recommendations based on narrative elements.\n",
    "- Vector Representation of Texts:\n",
    "Texts need to be converted into numerical representations (e.g., TF-IDF or Word2Vec embeddings) for similarity comparison. The effectiveness of these representations can vary with text length.\n",
    "Short descriptions may not provide enough context for accurate similarity scoring, while very long descriptions might introduce too much noise or irrelevant information.\n",
    "- We'll continuously refine our handling of text lengths based on system performance to balance detail richness with computational demands."
   ],
   "metadata": {
    "id": "yr_Yh1SEFco9"
   }
  },
  {
   "cell_type": "code",
   "source": [
    "# Bi-grams\n",
    "bigram_vectorizer = CountVectorizer(ngram_range=(2, 2), stop_words='english')\n",
    "bigram_matrix = bigram_vectorizer.fit_transform(df_merged['overview'].dropna())\n",
    "\n",
    "# Sum up the counts of each bi-gram and sort\n",
    "bigrams = pd.DataFrame(bigram_matrix.toarray(), columns=bigram_vectorizer.get_feature_names_out())\n",
    "common_bigrams = bigrams.sum().sort_values(ascending=False).head(20)\n",
    "\n",
    "# Plotting\n",
    "plt.figure(figsize=(10, 6))\n",
    "common_bigrams.plot(kind='bar')\n",
    "plt.title('Top 20 most common bi-grams in Movie Descriptions')\n",
    "plt.xlabel('Bi-grams')\n",
    "plt.ylabel('Frequency')\n",
    "plt.show()"
   ],
   "metadata": {
    "colab": {
     "base_uri": "https://localhost:8080/",
     "height": 648
    },
    "outputId": "29aea2a7-1858-4a5e-a1ec-a2c03ab914b0",
    "id": "svu-7Y2IFco9"
   },
   "execution_count": 25,
   "outputs": [
    {
     "output_type": "display_data",
     "data": {
      "text/plain": [
       "<Figure size 1000x600 with 1 Axes>"
      ],
      "image/png": "[encoded data removed]"
     },
     "metadata": {}
    }
   ]
  },
  {
   "cell_type": "code",
   "source": [
    "# Potentially checking for and removing noise like HTML tags, excessive symbols, etc.\n",
    "def clean_text(text):\n",
    "    text = re.sub(r'<.*?>', '', text)  # Remove HTML tags\n",
    "    return text\n",
    "\n",
    "# Apply cleaning function\n",
    "cleaned_overviews = df_merged['overview'].apply(clean_text)"
   ],
   "metadata": {
    "id": "JOeQ_SEnFco9"
   },
   "execution_count": 26,
   "outputs": []
  },
  {
   "cell_type": "code",
   "source": [
    "df_merged.info()"
   ],
   "metadata": {
    "colab": {
     "base_uri": "https://localhost:8080/"
    },
    "outputId": "9e81331a-1e60-4cc4-caf8-484133bec2d3",
    "id": "DqY64WjjFco9"
   },
   "execution_count": 27,
   "outputs": [
    {
     "output_type": "stream",
     "name": "stdout",
     "text": [
      "<class 'pandas.core.frame.DataFrame'>\n",
      "Index: 29697 entries, 0 to 46755\n",
      "Data columns (total 12 columns):\n",
      " #   Column                        Non-Null Count  Dtype         \n",
      "---  ------                        --------------  -----         \n",
      " 0   movieId                       29697 non-null  Int64         \n",
      " 1   belongs_to_collection         29697 non-null  int64         \n",
      " 2   original_language             29697 non-null  object        \n",
      " 3   overview                      29697 non-null  object        \n",
      " 4   release_date                  29697 non-null  datetime64[ns]\n",
      " 5   runtime                       29697 non-null  float64       \n",
      " 6   title                         29697 non-null  object        \n",
      " 7   actors                        29697 non-null  object        \n",
      " 8   keywords_extracted            29697 non-null  object        \n",
      " 9   genre_extracted               29697 non-null  object        \n",
      " 10  production_company_extracted  29697 non-null  object        \n",
      " 11  production_country_extracted  29697 non-null  object        \n",
      "dtypes: Int64(1), datetime64[ns](1), float64(1), int64(1), object(8)\n",
      "memory usage: 3.0+ MB\n"
     ]
    }
   ]
  },
  {
   "cell_type": "markdown",
   "source": [
    "Define the clean_text function to standardize the movie descriptions by converting all text to lowercase, removing HTML tags and special characters. Finally apply this function to the 'overview' column of my df_merged DataFrame to prepare the data for further analysis."
   ],
   "metadata": {
    "id": "1xdcN4AUFco9"
   }
  },
  {
   "cell_type": "code",
   "source": [
    "def clean_text(text):\n",
    "    if not pd.isna(text):\n",
    "        # Convert text to lowercase\n",
    "        text = text.lower()\n",
    "\n",
    "        # Remove HTML tags\n",
    "        text = re.sub(r'<.*?>', '', text)\n",
    "\n",
    "        # Remove special characters\n",
    "        text = re.sub(r'[^a-zA-Z\\s]', '', text, re.I|re.A)\n",
    "\n",
    "    return text"
   ],
   "metadata": {
    "id": "clAH-0NtFco9"
   },
   "execution_count": 28,
   "outputs": []
  },
  {
   "cell_type": "code",
   "source": [
    "# Apply the cleaning function to the 'overview' column\n",
    "df_merged['overview'] = df_merged['overview'].apply(clean_text)"
   ],
   "metadata": {
    "id": "hAlvmQrYFco-"
   },
   "execution_count": 29,
   "outputs": []
  },
  {
   "cell_type": "markdown",
   "source": [
    "##Inspect the column"
   ],
   "metadata": {
    "id": "quPATgdIFco-"
   }
  },
  {
   "cell_type": "code",
   "source": [
    "pd.set_option('display.max_colwidth', None)\n",
    "df_merged[\"overview\"].head(10)"
   ],
   "metadata": {
    "colab": {
     "base_uri": "https://localhost:8080/"
    },
    "outputId": "cd80a8b2-4767-420b-a29e-b5346c51e44d",
    "id": "QIO_gveeFco-"
   },
   "execution_count": 30,
   "outputs": [
    {
     "output_type": "execute_result",
     "data": {
      "text/plain": [
       "0                                                                                                                                                   led by woody andys toys live happily in his room until andys birthday brings buzz lightyear onto the scene afraid of losing his place in andys heart woody plots against buzz but when circumstances separate buzz and woody from their owner the duo eventually learns to put aside their differences\n",
       "1                                                           when siblings judy and peter discover an enchanted board game that opens the door to a magical world they unwittingly invite alan  an adult whos been trapped inside the game for  years  into their living room alans only hope for freedom is to finish the game which proves risky as all three find themselves running from giant rhinoceroses evil monkeys and other terrifying creatures\n",
       "2                                                                                                                           a family wedding reignites the ancient feud between nextdoor neighbors and fishing buddies john and max meanwhile a sultry italian divorce opens a restaurant at the local bait shop alarming the locals who worry shell scare the fish away but shes less interested in seafood than she is in cooking up a hot time with max\n",
       "3                                                                                                                                                                                       cheated on mistreated and stepped on the women are holding their breath waiting for the elusive good man to break a string of lessthanstellar lovers friends and confidants vannah bernie glo and robin talk it all out determined to find a better way to breathe\n",
       "4                                                                                                                                            just when george banks has recovered from his daughters wedding he receives the news that shes pregnant  and that georges wife nina is expecting too he was planning on selling their home but thats a plan that  like george  will have to change with the arrival of both a grandchild and a kid of his own\n",
       "5                                                                                                                 obsessive master thief neil mccauley leads a topnotch crew on various insane heists throughout los angeles while a mentally unstable detective vincent hanna pursues him without rest each man recognizes and respects the ability and the dedication of the other even though they are aware their catandmouse game may end in violence\n",
       "6                                                                                                                                                                                                                                                                   an ugly duckling having undergone a remarkable change still harbors feelings for her crush a carefree playboy but not before his businessfocused brother has something to say about it\n",
       "7                                                                                                a mischievous young boy tom sawyer witnesses a murder by the deadly injun joe tom becomes friends with huckleberry finn a boy with no future and no family tom has to choose between honoring a friendship or honoring an oath because the town alcoholic is accused of the murder tom and huck go through several adventures trying to retrieve evidence\n",
       "8    international action superstar jean claude van damme teams with powers boothe in a tensionpacked suspense thriller set against the backdrop of a stanley cup gamevan damme portrays a father whose daughter is suddenly taken during a championship hockey game with the captors demanding a billion dollars by games end van damme frantically sets a plan in motion to rescue his daughter and abort an impending explosion before the final buzzer\n",
       "9                                                                                                                                                                                                                                                                           james bond must unmask the mysterious head of the janus syndicate and prevent the leader from utilizing the goldeneye weapons system to inflict devastating revenge on britain\n",
       "Name: overview, dtype: object"
      ]
     },
     "metadata": {},
     "execution_count": 30
    }
   ]
  },
  {
   "cell_type": "code",
   "source": [
    "# Inspect any row of the overview column\n",
    "print(df_merged['overview'].iloc[[10, 50, 100]])"
   ],
   "metadata": {
    "colab": {
     "base_uri": "https://localhost:8080/"
    },
    "outputId": "64e8e98b-a667-4777-8ca0-a048756d913c",
    "id": "_PSlkC75Fco-"
   },
   "execution_count": 31,
   "outputs": [
    {
     "output_type": "stream",
     "name": "stdout",
     "text": [
      "10                                                                                                                                                 widowed us president andrew shepherd one of the worlds most powerful men can have anything he wants  and what he covets most is sydney ellen wade a washington lobbyist but shepherds attempts at courting her spark wild rumors and decimate his approval ratings\n",
      "54     sadie looks up to her older sister georgia a successful folk singer whos happily married with children but cant break out of the barband circuit and hit the big time she desperately covets its in part due to her attraction to drugs and booze and also to her own unwise choice in men finally though sadies achilles heel is a rough unlovely voice very different than her sisters crowdpleasing singing\n",
      "113                                    francis the boss of a small plumbing supply company is harassed by tax collectors striking employees and an impossible wife and daughter his only joy is sharing lunch with his friend gerard then a tv show called where are you shows a woman from gers who is searching for her husband who disappeared  years ago the lost husband looks like an identical twin of francis\n",
      "Name: overview, dtype: object\n"
     ]
    }
   ]
  },
  {
   "cell_type": "markdown",
   "source": [
    "# 2.2 Feature Engineering"
   ],
   "metadata": {
    "id": "c1nOzZPmlXwE"
   }
  },
  {
   "cell_type": "markdown",
   "source": [
    "Next, we focus on the critical task of feature engineering, which involves transforming raw data into meaningful features that improve the performance of our content-based recommendation models. We hope to capture the movies' essential characteristics by carefully selecting and creating features such as 'combined_text'. These engineered features serve as the foundation for developing robust recommender systems."
   ],
   "metadata": {
    "id": "pnHQc1hFOGji"
   }
  },
  {
   "cell_type": "markdown",
   "source": [
    "### Textual Feature - Combined Text"
   ],
   "metadata": {
    "id": "_5JoirVPj4xQ"
   }
  },
  {
   "cell_type": "markdown",
   "source": [
    "After thoughtfully cleaning the different text columns of the dataset that might be relevant to give content-based reocmmendations we want to combine them into a single feature column. The combined_text feature aggregates critical textual metadata from genres, actors, keywords, and movie descriptions into a single comprehensive descriptor for each movie. This aggregation captures the essence of a movie’s content, thematic elements, and appeal, which is crucial for content-based filtering. By synthesizing this information, the recommender system can identify and suggest movies with similar thematic and content attributes, enhancing personalization and user engagement."
   ],
   "metadata": {
    "id": "_u92O-p9dzoM"
   }
  },
  {
   "cell_type": "code",
   "source": [
    "# Define a function to join non-empty items\n",
    "def join_non_empty(items):\n",
    "    # Filter out empty lists and join non-empty strings with a space\n",
    "    return ' '.join([item for item in items if item])\n",
    "\n",
    "# Apply the function to each row in df_merged to create the combined_text column\n",
    "df_merged['combined_text'] = df_merged.apply(lambda row: join_non_empty([\n",
    "    ' '.join(row['genre_extracted']),\n",
    "    ' '.join(row['actors']),\n",
    "    ' '.join(row['keywords_extracted']),\n",
    "    ' '.join(row['production_company_extracted']),\n",
    "    row['overview']\n",
    "]), axis=1)"
   ],
   "metadata": {
    "id": "PumhyhcpdckS"
   },
   "execution_count": 32,
   "outputs": []
  },
  {
   "cell_type": "markdown",
   "source": [
    "### Weighted Score"
   ],
   "metadata": {
    "id": "gZzr2A08fP6q"
   }
  },
  {
   "cell_type": "markdown",
   "source": [
    "The weighted_score feature adds a movie's average rating to the number of ratings it has received, ensuring that movies with a large number of ratings are given appropriate weight. This score reduces the bias toward movies with fewer ratings, which may have artificially high scores. The weighted_score is a more balanced and reliable measure of a film's popularity and quality because it takes into account both the quality and quantity of ratings. This feature is useful for advanced content-based modeling because it improves the accuracy and robustness of recommendations by prioritizing highly rated and frequently rated movies, resulting in more trustworthy and relevant suggestions for users."
   ],
   "metadata": {
    "id": "4VOXJbmS-pMa"
   }
  },
  {
   "cell_type": "code",
   "source": [
    "movie_stats = df_ratings.groupby('movieId').agg(average_rating=('rating', 'mean'), rating_count=('rating', 'count')).reset_index()\n",
    "\n",
    "C = movie_stats['average_rating'].mean()\n",
    "m = movie_stats['rating_count'].quantile(0.90)\n",
    "\n",
    "def weighted_rating(x, m=m, C=C):\n",
    "    v = x['rating_count']\n",
    "    R = x['average_rating']\n",
    "    return (v/(v+m) * R) + (m/(m+v) * C)\n",
    "\n",
    "movie_stats['weighted_score'] = movie_stats.apply(weighted_rating, axis=1)\n",
    "\n",
    "df_ratings = df_ratings.merge(movie_stats[['movieId', 'weighted_score']], on='movieId', how='left')\n",
    "\n",
    "df_ratings = df_ratings.merge(movie_stats[['movieId', 'average_rating', 'rating_count']], on='movieId', how='left')\n",
    "\n",
    "print(df_ratings.head())"
   ],
   "metadata": {
    "colab": {
     "base_uri": "https://localhost:8080/"
    },
    "outputId": "d4008625-d9aa-46e6-bab7-be83218f978a",
    "id": "sgp41QV_fP6q"
   },
   "execution_count": 33,
   "outputs": [
    {
     "output_type": "stream",
     "name": "stdout",
     "text": [
      "   userId  movieId  rating           timestamp  user_mean_rating  \\\n",
      "0  128365     1037     0.5 2009-10-19 10:10:37          3.104895   \n",
      "1   34770    27316     0.5 2006-06-10 09:14:33          1.329146   \n",
      "2  108700      307     0.5 2010-05-12 21:26:12          3.729651   \n",
      "3  162680    73929     0.5 2015-11-22 18:22:29          3.505618   \n",
      "4  141941     4308     0.5 2006-06-10 05:21:47          2.987685   \n",
      "\n",
      "   liked_by_user rating_category  weighted_score  average_rating  rating_count  \n",
      "0          False      [0.5, 1.0)        2.987271            2.75            32  \n",
      "1          False      [0.5, 1.0)        3.205775            2.25             2  \n",
      "2          False      [0.5, 1.0)        3.593367            3.92            25  \n",
      "3          False      [0.5, 1.0)        3.176359             0.5             1  \n",
      "4          False      [0.5, 1.0)        3.444903        3.516667            60  \n"
     ]
    }
   ]
  },
  {
   "cell_type": "markdown",
   "source": [
    "### Movie Age"
   ],
   "metadata": {
    "id": "Y8xcme2GfP6r"
   }
  },
  {
   "cell_type": "markdown",
   "source": [
    "The movie_age feature calculates the number of years since a movie's release by subtracting the current year from the release year. This feature is important for advanced content-based modeling because it allows the recommender system to consider a movie's age, which can influence user preferences. Incorporating movie_age allows the model to distinguish between classic films and new releases, allowing it to make more nuanced and personalized recommendations by taking into account how users' interests may differ depending on the age of the films."
   ],
   "metadata": {
    "id": "z-Wa4WXJ_GHG"
   }
  },
  {
   "cell_type": "code",
   "source": [
    "current_year = datetime.datetime.now().year\n",
    "\n",
    "df_merged['movie_age'] = current_year - pd.to_datetime(df_merged['release_date']).dt.year"
   ],
   "metadata": {
    "id": "8R6jckhZfP6r"
   },
   "execution_count": 34,
   "outputs": []
  },
  {
   "cell_type": "markdown",
   "source": [
    "### Sentiment Analysis Overview"
   ],
   "metadata": {
    "id": "OdohHAWAfP6r"
   }
  },
  {
   "cell_type": "markdown",
   "source": [
    "The sentiment_polarity feature represents the sentiment score of a movie overview, which is calculated using the TextBlob library to determine the polarity of the text. This feature is useful for advanced content-based modeling because it quantifies the emotional tone of a movie's description, providing information about whether it is perceived as positive, negative, or neutral. By incorporating sentiment_polarity, the recommender system can better align recommendations with users' emotional preferences and sentiments, increasing the relevancy and personalization of suggestions.\n"
   ],
   "metadata": {
    "id": "fqQUNq6G_fF7"
   }
  },
  {
   "cell_type": "code",
   "source": [
    "def get_sentiment(text):\n",
    "    try:\n",
    "        return float(TextBlob(text).sentiment.polarity)\n",
    "    except Exception as e:\n",
    "        print(f\"Error processing text: {e}\")\n",
    "        return float('nan')\n",
    "\n",
    "df_merged['sentiment_polarity'] = df_merged['overview'].apply(get_sentiment)"
   ],
   "metadata": {
    "id": "W8ayXCI9fP6r"
   },
   "execution_count": 35,
   "outputs": []
  },
  {
   "cell_type": "code",
   "source": [
    "print(\"Number of NaN values in 'sentiment_polarity' after conversion:\", df_merged['sentiment_polarity'].isna().sum())"
   ],
   "metadata": {
    "colab": {
     "base_uri": "https://localhost:8080/"
    },
    "outputId": "a61af79e-5cff-4d19-cad6-2db9d6a22719",
    "id": "WdL_sR83fP6r"
   },
   "execution_count": 36,
   "outputs": [
    {
     "output_type": "stream",
     "name": "stdout",
     "text": [
      "Number of NaN values in 'sentiment_polarity' after conversion: 0\n"
     ]
    }
   ]
  },
  {
   "cell_type": "markdown",
   "source": [
    "Adding engineered features to df_grouped"
   ],
   "metadata": {
    "id": "z_nMhF5MfP6s"
   }
  },
  {
   "cell_type": "markdown",
   "source": [
    " #### Combining df_ratings and df_merged"
   ],
   "metadata": {
    "id": "MHraMshPkTd4"
   }
  },
  {
   "cell_type": "code",
   "source": [
    "df_combined = pd.merge(df_ratings, df_merged, on='movieId', how='inner')"
   ],
   "metadata": {
    "id": "18j-M9ZokGgo"
   },
   "execution_count": 37,
   "outputs": []
  },
  {
   "cell_type": "markdown",
   "source": [
    "#### Rating Threshold"
   ],
   "metadata": {
    "id": "BmDUY6AykahW"
   }
  },
  {
   "cell_type": "markdown",
   "source": [
    "Setting a rating threshold of 20 ensures that only movies with a large number of ratings are included in the dataset for modeling. This makes sense because movies with few ratings may have unreliable or skewed average ratings, reducing the accuracy of the recommendation system. By excluding movies with fewer than 20 ratings, the model focuses on films with more consistent and representative user feedback, resulting in more reliable and robust recommendations. This threshold helps to maintain the dataset's quality and reliability, which improves the overall performance of content-based modeling."
   ],
   "metadata": {
    "id": "nVt-krTf_wz1"
   }
  },
  {
   "cell_type": "code",
   "source": [
    "ratings_per_movie = df_combined.groupby('movieId').size()\n",
    "\n",
    "movies_with_enough_ratings = ratings_per_movie[ratings_per_movie >= 20].index\n",
    "\n",
    "df_item_modeling = df_combined[df_combined['movieId'].isin(movies_with_enough_ratings)]\n",
    "\n",
    "print(f\"Original dataset size: {df_combined.shape}\")\n",
    "print(f\"Filtered dataset size: {df_item_modeling.shape}\")"
   ],
   "metadata": {
    "colab": {
     "base_uri": "https://localhost:8080/"
    },
    "id": "kN-0g3MekRLr",
    "outputId": "6e24bf9c-3308-4eaa-a29b-62147ec23d47"
   },
   "execution_count": 38,
   "outputs": [
    {
     "output_type": "stream",
     "name": "stdout",
     "text": [
      "Original dataset size: (93810, 24)\n",
      "Filtered dataset size: (65766, 24)\n"
     ]
    }
   ]
  },
  {
   "cell_type": "markdown",
   "source": [
    "#### Grouping Movies"
   ],
   "metadata": {
    "id": "tniFWxWZke0l"
   }
  },
  {
   "cell_type": "markdown",
   "source": [
    "We are configuring the modeling DataFrame, df_grouped, which contains the engineered features. This DataFrame aggregates data by movieId, keeping the first occurrence of the title and combined text and calculating the mean values for weighted_score, movie_age, and sentiment_polarity. This aggregation ensures that each movie is represented by its key features, allowing for advanced content-based modeling."
   ],
   "metadata": {
    "id": "Hv3A3Z-O_-5M"
   }
  },
  {
   "cell_type": "code",
   "source": [
    "df_grouped = df_item_modeling.groupby('movieId', as_index=False).agg({\n",
    "    'title': 'first',\n",
    "    'combined_text': 'first',\n",
    "    'weighted_score': 'mean',\n",
    "    'movie_age': 'mean',\n",
    "    'sentiment_polarity': 'mean'\n",
    "})\n",
    "\n",
    "df_grouped.head()"
   ],
   "metadata": {
    "colab": {
     "base_uri": "https://localhost:8080/",
     "height": 623
    },
    "id": "CAiEW9pbkhM9",
    "outputId": "d778ad2d-25cd-47b9-c893-b04e53284e97"
   },
   "execution_count": 39,
   "outputs": [
    {
     "output_type": "execute_result",
     "data": {
      "text/plain": [
       "   movieId                        title  \\\n",
       "0        1                    Toy Story   \n",
       "1        2                      Jumanji   \n",
       "2        3             Grumpier Old Men   \n",
       "3        5  Father of the Bride Part II   \n",
       "4        6                         Heat   \n",
       "\n",
       "                                                                                                                                                                                                                                                                                                                                                                                                                                                                                                                                                                                                                                                                                                                                                                                                                                                                                                                                                                                                                                                                                                                                                                                                                                                                                                                                                                                                                                                                                                                                           combined_text  \\\n",
       "0                                                                                                                                                                                                                                                                                                                                                                                                                                                                                                                                                                                                                                                                                                                                                                                                                                                                                                                                   animation comedy family tom hanks tim allen don rickles jim varney wallace shawn john ratzenberger annie potts john morris erik von detten laurie metcalf r lee ermey sarah freeman penn jillette jealousy toy boy friendship friends rivalry boy next door new toy toy comes to life pixar animation studios led by woody andys toys live happily in his room until andys birthday brings buzz lightyear onto the scene afraid of losing his place in andys heart woody plots against buzz but when circumstances separate buzz and woody from their owner the duo eventually learns to put aside their differences   \n",
       "1                                                                                                                                                                                                                                                                                                                                                                                                                                                                                                                                                                                            adventure fantasy family robin williams jonathan hyde kirsten dunst bradley pierce bonnie hunt bebe neuwirth david alan grier patricia clarkson adam hannbyrd laura bell bundy james handy gillian barber brandon obray cyrus thiedeke gary joseph thorup leonard zola lloyd berry malcolm stewart annabel kershaw darryl henriques robyn driscoll peter bryant sarah gilson florica vlad june lion brenda lockmuller board game disappearance based on childrens book new home recluse giant insect tristar pictures teitler film interscope communications when siblings judy and peter discover an enchanted board game that opens the door to a magical world they unwittingly invite alan  an adult whos been trapped inside the game for  years  into their living room alans only hope for freedom is to finish the game which proves risky as all three find themselves running from giant rhinoceroses evil monkeys and other terrifying creatures   \n",
       "2                                                                                                                                                                                                                                                                                                                                                                                                                                                                                                                                                                                                                                                                                                                                                                                                                                                                                                                                                                                                                                romance comedy walter matthau jack lemmon annmargret sophia loren daryl hannah burgess meredith kevin pollak fishing best friend duringcreditsstinger old men warner bros lancaster gate a family wedding reignites the ancient feud between nextdoor neighbors and fishing buddies john and max meanwhile a sultry italian divorce opens a restaurant at the local bait shop alarming the locals who worry shell scare the fish away but shes less interested in seafood than she is in cooking up a hot time with max   \n",
       "3                                                                                                                                                                                                                                                                                                                                                                                                                                                                                                                                                                                                                                                                                                                                                                                                                                                                                          comedy steve martin diane keaton martin short kimberly williamspaisley george newbern kieran culkin bd wong peter michael goetz kate mcgregorstewart jane adams eugene levy lori alan baby midlife crisis confidence aging daughter mother daughter relationship pregnancy contraception gynecologist sandollar productions touchstone pictures just when george banks has recovered from his daughters wedding he receives the news that shes pregnant  and that georges wife nina is expecting too he was planning on selling their home but thats a plan that  like george  will have to change with the arrival of both a grandchild and a kid of his own   \n",
       "4  action crime drama thriller al pacino robert de niro val kilmer jon voight tom sizemore diane venora amy brenneman ashley judd mykelti williamson natalie portman ted levine tom noonan tone loc hank azaria wes studi dennis haysbert danny trejo henry rollins william fichtner kevin gage susan traylor jerry trimble ricky harris jeremy piven xander berkeley begonya plaza rick avery hazelle goodman ray buktenica max daniels vince deadrick jr steven ford farrah forke patricia healy paul herman cindy katz brian libby dan martin mario roberts thomas rosales jr yvonne zima mick gould bud cort viviane vives kim staunton martin ferrero brad baldridge andrew camuccio kenny endoso kimberly flynn niki harris bill mcintosh rick marzan terry miller daniel ohaco kai soremekun peter blackwell trevor coppola mary kircher darin mangan robert miranda manny perry iva franks singer tim werner philip ettington robbery detective bank obsession chase shooting thief honor murder suspense heist betrayal money gang cat and mouse criminal mastermind cult film excon heist movie one last job loner bank job neonoir gun fight crime epic regency enterprises forward pass warner bros obsessive master thief neil mccauley leads a topnotch crew on various insane heists throughout los angeles while a mentally unstable detective vincent hanna pursues him without rest each man recognizes and respects the ability and the dedication of the other even though they are aware their catandmouse game may end in violence   \n",
       "\n",
       "   weighted_score  movie_age  sentiment_polarity  \n",
       "0        3.808411       29.0            0.112121  \n",
       "1        3.299728       29.0           -0.218750  \n",
       "2        3.289113       29.0            0.038889  \n",
       "3        3.208483       29.0            0.466667  \n",
       "4        3.682419       29.0           -0.229167  "
      ],
      "text/html": [
       "\n",
       "  <div id=\"df-ea2582eb-2c8a-4858-a16d-fd008248f786\" class=\"colab-df-container\">\n",
       "    <div>\n",
       "<style scoped>\n",
       "    .dataframe tbody tr th:only-of-type {\n",
       "        vertical-align: middle;\n",
       "    }\n",
       "\n",
       "    .dataframe tbody tr th {\n",
       "        vertical-align: top;\n",
       "    }\n",
       "\n",
       "    .dataframe thead th {\n",
       "        text-align: right;\n",
       "    }\n",
       "</style>\n",
       "<table border=\"1\" class=\"dataframe\">\n",
       "  <thead>\n",
       "    <tr style=\"text-align: right;\">\n",
       "      <th></th>\n",
       "      <th>movieId</th>\n",
       "      <th>title</th>\n",
       "      <th>combined_text</th>\n",
       "      <th>weighted_score</th>\n",
       "      <th>movie_age</th>\n",
       "      <th>sentiment_polarity</th>\n",
       "    </tr>\n",
       "  </thead>\n",
       "  <tbody>\n",
       "    <tr>\n",
       "      <th>0</th>\n",
       "      <td>1</td>\n",
       "      <td>Toy Story</td>\n",
       "      <td>animation comedy family tom hanks tim allen don rickles jim varney wallace shawn john ratzenberger annie potts john morris erik von detten laurie metcalf r lee ermey sarah freeman penn jillette jealousy toy boy friendship friends rivalry boy next door new toy toy comes to life pixar animation studios led by woody andys toys live happily in his room until andys birthday brings buzz lightyear onto the scene afraid of losing his place in andys heart woody plots against buzz but when circumstances separate buzz and woody from their owner the duo eventually learns to put aside their differences</td>\n",
       "      <td>3.808411</td>\n",
       "      <td>29.0</td>\n",
       "      <td>0.112121</td>\n",
       "    </tr>\n",
       "    <tr>\n",
       "      <th>1</th>\n",
       "      <td>2</td>\n",
       "      <td>Jumanji</td>\n",
       "      <td>adventure fantasy family robin williams jonathan hyde kirsten dunst bradley pierce bonnie hunt bebe neuwirth david alan grier patricia clarkson adam hannbyrd laura bell bundy james handy gillian barber brandon obray cyrus thiedeke gary joseph thorup leonard zola lloyd berry malcolm stewart annabel kershaw darryl henriques robyn driscoll peter bryant sarah gilson florica vlad june lion brenda lockmuller board game disappearance based on childrens book new home recluse giant insect tristar pictures teitler film interscope communications when siblings judy and peter discover an enchanted board game that opens the door to a magical world they unwittingly invite alan  an adult whos been trapped inside the game for  years  into their living room alans only hope for freedom is to finish the game which proves risky as all three find themselves running from giant rhinoceroses evil monkeys and other terrifying creatures</td>\n",
       "      <td>3.299728</td>\n",
       "      <td>29.0</td>\n",
       "      <td>-0.218750</td>\n",
       "    </tr>\n",
       "    <tr>\n",
       "      <th>2</th>\n",
       "      <td>3</td>\n",
       "      <td>Grumpier Old Men</td>\n",
       "      <td>romance comedy walter matthau jack lemmon annmargret sophia loren daryl hannah burgess meredith kevin pollak fishing best friend duringcreditsstinger old men warner bros lancaster gate a family wedding reignites the ancient feud between nextdoor neighbors and fishing buddies john and max meanwhile a sultry italian divorce opens a restaurant at the local bait shop alarming the locals who worry shell scare the fish away but shes less interested in seafood than she is in cooking up a hot time with max</td>\n",
       "      <td>3.289113</td>\n",
       "      <td>29.0</td>\n",
       "      <td>0.038889</td>\n",
       "    </tr>\n",
       "    <tr>\n",
       "      <th>3</th>\n",
       "      <td>5</td>\n",
       "      <td>Father of the Bride Part II</td>\n",
       "      <td>comedy steve martin diane keaton martin short kimberly williamspaisley george newbern kieran culkin bd wong peter michael goetz kate mcgregorstewart jane adams eugene levy lori alan baby midlife crisis confidence aging daughter mother daughter relationship pregnancy contraception gynecologist sandollar productions touchstone pictures just when george banks has recovered from his daughters wedding he receives the news that shes pregnant  and that georges wife nina is expecting too he was planning on selling their home but thats a plan that  like george  will have to change with the arrival of both a grandchild and a kid of his own</td>\n",
       "      <td>3.208483</td>\n",
       "      <td>29.0</td>\n",
       "      <td>0.466667</td>\n",
       "    </tr>\n",
       "    <tr>\n",
       "      <th>4</th>\n",
       "      <td>6</td>\n",
       "      <td>Heat</td>\n",
       "      <td>action crime drama thriller al pacino robert de niro val kilmer jon voight tom sizemore diane venora amy brenneman ashley judd mykelti williamson natalie portman ted levine tom noonan tone loc hank azaria wes studi dennis haysbert danny trejo henry rollins william fichtner kevin gage susan traylor jerry trimble ricky harris jeremy piven xander berkeley begonya plaza rick avery hazelle goodman ray buktenica max daniels vince deadrick jr steven ford farrah forke patricia healy paul herman cindy katz brian libby dan martin mario roberts thomas rosales jr yvonne zima mick gould bud cort viviane vives kim staunton martin ferrero brad baldridge andrew camuccio kenny endoso kimberly flynn niki harris bill mcintosh rick marzan terry miller daniel ohaco kai soremekun peter blackwell trevor coppola mary kircher darin mangan robert miranda manny perry iva franks singer tim werner philip ettington robbery detective bank obsession chase shooting thief honor murder suspense heist betrayal money gang cat and mouse criminal mastermind cult film excon heist movie one last job loner bank job neonoir gun fight crime epic regency enterprises forward pass warner bros obsessive master thief neil mccauley leads a topnotch crew on various insane heists throughout los angeles while a mentally unstable detective vincent hanna pursues him without rest each man recognizes and respects the ability and the dedication of the other even though they are aware their catandmouse game may end in violence</td>\n",
       "      <td>3.682419</td>\n",
       "      <td>29.0</td>\n",
       "      <td>-0.229167</td>\n",
       "    </tr>\n",
       "  </tbody>\n",
       "</table>\n",
       "</div>\n",
       "    <div class=\"colab-df-buttons\">\n",
       "\n",
       "  <div class=\"colab-df-container\">\n",
       "    <button class=\"colab-df-convert\" onclick=\"convertToInteractive('df-ea2582eb-2c8a-4858-a16d-fd008248f786')\"\n",
       "            title=\"Convert this dataframe to an interactive table.\"\n",
       "            style=\"display:none;\">\n",
       "\n",
       "  <svg xmlns=\"http://www.w3.org/2000/svg\" height=\"24px\" viewBox=\"0 -960 960 960\">\n",
       "    <path d=\"M120-120v-720h720v720H120Zm60-500h600v-160H180v160Zm220 220h160v-160H400v160Zm0 220h160v-160H400v160ZM180-400h160v-160H180v160Zm440 0h160v-160H620v160ZM180-180h160v-160H180v160Zm440 0h160v-160H620v160Z\"/>\n",
       "  </svg>\n",
       "    </button>\n",
       "\n",
       "  <style>\n",
       "    .colab-df-container {\n",
       "      display:flex;\n",
       "      gap: 12px;\n",
       "    }\n",
       "\n",
       "    .colab-df-convert {\n",
       "      background-color: #E8F0FE;\n",
       "      border: none;\n",
       "      border-radius: 50%;\n",
       "      cursor: pointer;\n",
       "      display: none;\n",
       "      fill: #1967D2;\n",
       "      height: 32px;\n",
       "      padding: 0 0 0 0;\n",
       "      width: 32px;\n",
       "    }\n",
       "\n",
       "    .colab-df-convert:hover {\n",
       "      background-color: #E2EBFA;\n",
       "      box-shadow: 0px 1px 2px rgba(60, 64, 67, 0.3), 0px 1px 3px 1px rgba(60, 64, 67, 0.15);\n",
       "      fill: #174EA6;\n",
       "    }\n",
       "\n",
       "    .colab-df-buttons div {\n",
       "      margin-bottom: 4px;\n",
       "    }\n",
       "\n",
       "    [theme=dark] .colab-df-convert {\n",
       "      background-color: #3B4455;\n",
       "      fill: #D2E3FC;\n",
       "    }\n",
       "\n",
       "    [theme=dark] .colab-df-convert:hover {\n",
       "      background-color: #434B5C;\n",
       "      box-shadow: 0px 1px 3px 1px rgba(0, 0, 0, 0.15);\n",
       "      filter: drop-shadow(0px 1px 2px rgba(0, 0, 0, 0.3));\n",
       "      fill: #FFFFFF;\n",
       "    }\n",
       "  </style>\n",
       "\n",
       "    <script>\n",
       "      const buttonEl =\n",
       "        document.querySelector('#df-ea2582eb-2c8a-4858-a16d-fd008248f786 button.colab-df-convert');\n",
       "      buttonEl.style.display =\n",
       "        google.colab.kernel.accessAllowed ? 'block' : 'none';\n",
       "\n",
       "      async function convertToInteractive(key) {\n",
       "        const element = document.querySelector('#df-ea2582eb-2c8a-4858-a16d-fd008248f786');\n",
       "        const dataTable =\n",
       "          await google.colab.kernel.invokeFunction('convertToInteractive',\n",
       "                                                    [key], {});\n",
       "        if (!dataTable) return;\n",
       "\n",
       "        const docLinkHtml = 'Like what you see? Visit the ' +\n",
       "          '<a target=\"_blank\" href=https://colab.research.google.com/notebooks/data_table.ipynb>data table notebook</a>'\n",
       "          + ' to learn more about interactive tables.';\n",
       "        element.innerHTML = '';\n",
       "        dataTable['output_type'] = 'display_data';\n",
       "        await google.colab.output.renderOutput(dataTable, element);\n",
       "        const docLink = document.createElement('div');\n",
       "        docLink.innerHTML = docLinkHtml;\n",
       "        element.appendChild(docLink);\n",
       "      }\n",
       "    </script>\n",
       "  </div>\n",
       "\n",
       "\n",
       "<div id=\"df-4c4a1926-8f51-4a0e-9804-739fb237b1b8\">\n",
       "  <button class=\"colab-df-quickchart\" onclick=\"quickchart('df-4c4a1926-8f51-4a0e-9804-739fb237b1b8')\"\n",
       "            title=\"Suggest charts\"\n",
       "            style=\"display:none;\">\n",
       "\n",
       "<svg xmlns=\"http://www.w3.org/2000/svg\" height=\"24px\"viewBox=\"0 0 24 24\"\n",
       "     width=\"24px\">\n",
       "    <g>\n",
       "        <path d=\"M19 3H5c-1.1 0-2 .9-2 2v14c0 1.1.9 2 2 2h14c1.1 0 2-.9 2-2V5c0-1.1-.9-2-2-2zM9 17H7v-7h2v7zm4 0h-2V7h2v10zm4 0h-2v-4h2v4z\"/>\n",
       "    </g>\n",
       "</svg>\n",
       "  </button>\n",
       "\n",
       "<style>\n",
       "  .colab-df-quickchart {\n",
       "      --bg-color: #E8F0FE;\n",
       "      --fill-color: #1967D2;\n",
       "      --hover-bg-color: #E2EBFA;\n",
       "      --hover-fill-color: #174EA6;\n",
       "      --disabled-fill-color: #AAA;\n",
       "      --disabled-bg-color: #DDD;\n",
       "  }\n",
       "\n",
       "  [theme=dark] .colab-df-quickchart {\n",
       "      --bg-color: #3B4455;\n",
       "      --fill-color: #D2E3FC;\n",
       "      --hover-bg-color: #434B5C;\n",
       "      --hover-fill-color: #FFFFFF;\n",
       "      --disabled-bg-color: #3B4455;\n",
       "      --disabled-fill-color: #666;\n",
       "  }\n",
       "\n",
       "  .colab-df-quickchart {\n",
       "    background-color: var(--bg-color);\n",
       "    border: none;\n",
       "    border-radius: 50%;\n",
       "    cursor: pointer;\n",
       "    display: none;\n",
       "    fill: var(--fill-color);\n",
       "    height: 32px;\n",
       "    padding: 0;\n",
       "    width: 32px;\n",
       "  }\n",
       "\n",
       "  .colab-df-quickchart:hover {\n",
       "    background-color: var(--hover-bg-color);\n",
       "    box-shadow: 0 1px 2px rgba(60, 64, 67, 0.3), 0 1px 3px 1px rgba(60, 64, 67, 0.15);\n",
       "    fill: var(--button-hover-fill-color);\n",
       "  }\n",
       "\n",
       "  .colab-df-quickchart-complete:disabled,\n",
       "  .colab-df-quickchart-complete:disabled:hover {\n",
       "    background-color: var(--disabled-bg-color);\n",
       "    fill: var(--disabled-fill-color);\n",
       "    box-shadow: none;\n",
       "  }\n",
       "\n",
       "  .colab-df-spinner {\n",
       "    border: 2px solid var(--fill-color);\n",
       "    border-color: transparent;\n",
       "    border-bottom-color: var(--fill-color);\n",
       "    animation:\n",
       "      spin 1s steps(1) infinite;\n",
       "  }\n",
       "\n",
       "  @keyframes spin {\n",
       "    0% {\n",
       "      border-color: transparent;\n",
       "      border-bottom-color: var(--fill-color);\n",
       "      border-left-color: var(--fill-color);\n",
       "    }\n",
       "    20% {\n",
       "      border-color: transparent;\n",
       "      border-left-color: var(--fill-color);\n",
       "      border-top-color: var(--fill-color);\n",
       "    }\n",
       "    30% {\n",
       "      border-color: transparent;\n",
       "      border-left-color: var(--fill-color);\n",
       "      border-top-color: var(--fill-color);\n",
       "      border-right-color: var(--fill-color);\n",
       "    }\n",
       "    40% {\n",
       "      border-color: transparent;\n",
       "      border-right-color: var(--fill-color);\n",
       "      border-top-color: var(--fill-color);\n",
       "    }\n",
       "    60% {\n",
       "      border-color: transparent;\n",
       "      border-right-color: var(--fill-color);\n",
       "    }\n",
       "    80% {\n",
       "      border-color: transparent;\n",
       "      border-right-color: var(--fill-color);\n",
       "      border-bottom-color: var(--fill-color);\n",
       "    }\n",
       "    90% {\n",
       "      border-color: transparent;\n",
       "      border-bottom-color: var(--fill-color);\n",
       "    }\n",
       "  }\n",
       "</style>\n",
       "\n",
       "  <script>\n",
       "    async function quickchart(key) {\n",
       "      const quickchartButtonEl =\n",
       "        document.querySelector('#' + key + ' button');\n",
       "      quickchartButtonEl.disabled = true;  // To prevent multiple clicks.\n",
       "      quickchartButtonEl.classList.add('colab-df-spinner');\n",
       "      try {\n",
       "        const charts = await google.colab.kernel.invokeFunction(\n",
       "            'suggestCharts', [key], {});\n",
       "      } catch (error) {\n",
       "        console.error('Error during call to suggestCharts:', error);\n",
       "      }\n",
       "      quickchartButtonEl.classList.remove('colab-df-spinner');\n",
       "      quickchartButtonEl.classList.add('colab-df-quickchart-complete');\n",
       "    }\n",
       "    (() => {\n",
       "      let quickchartButtonEl =\n",
       "        document.querySelector('#df-4c4a1926-8f51-4a0e-9804-739fb237b1b8 button');\n",
       "      quickchartButtonEl.style.display =\n",
       "        google.colab.kernel.accessAllowed ? 'block' : 'none';\n",
       "    })();\n",
       "  </script>\n",
       "</div>\n",
       "    </div>\n",
       "  </div>\n"
      ],
      "application/vnd.google.colaboratory.intrinsic+json": {
       "type": "dataframe",
       "variable_name": "df_grouped",
       "summary": "{\n  \"name\": \"df_grouped\",\n  \"rows\": 1221,\n  \"fields\": [\n    {\n      \"column\": \"movieId\",\n      \"properties\": {\n        \"dtype\": \"number\",\n        \"std\": 28007,\n        \"min\": 1,\n        \"max\": 164179,\n        \"num_unique_values\": 1221,\n        \"samples\": [\n          2087,\n          922,\n          141\n        ],\n        \"semantic_type\": \"\",\n        \"description\": \"\"\n      }\n    },\n    {\n      \"column\": \"title\",\n      \"properties\": {\n        \"dtype\": \"string\",\n        \"num_unique_values\": 1214,\n        \"samples\": [\n          \"Scream 3\",\n          \"The Running Man\",\n          \"The Birdcage\"\n        ],\n        \"semantic_type\": \"\",\n        \"description\": \"\"\n      }\n    },\n    {\n      \"column\": \"combined_text\",\n      \"properties\": {\n        \"dtype\": \"string\",\n        \"num_unique_values\": 1221,\n        \"samples\": [\n          \"animation music family adventure fantasy bobby driscoll kathryn beaumont hans conried bill thompson heather angel paul collins tommy luske candy candido tom conway flying brother sister relationship becoming an adult magic fairy child hero bravery pirate gang mermaid animation pirate native peoples rko radio pictures walt disney productions leaving the safety of their nursery behind wendy michael and john follow peter pan to a magical world where childhood lasts forever but while in neverland the kids must face captain hook and foil his attempts to get rid of peter for good\",\n          \"drama william holden gloria swanson erich von stroheim nancy olson fred clark lloyd gough jack webb buster keaton cecil b demille hedda hopper anna q nilsson ray evans jay livingston hb warner franklyn farnum larry j blake charles dayton fred aldrich joel allen ralph montgomery gertrude astor eva novak frank oconnor edward biby danny borzage ken christy ruth clifford archie r dalzell arthur lane edward wahrman eddie dew julia faye al ferguson gerry ganzer rudy germane jack perrin kenneth gibson archie twitchell creighton hale sidney skolsky chuck hamilton len hendry howard joslin howard negley e mason hopper stan johnson tiny jones perc launders william meader gertrude messinger harold miller john skins miller lee miller bert moorhouse jay morley robert emmet oconnor emmett smith yvette vickers henry wilcoxon new years eve screenwriter jealousy butler loss of sense of reality diva hollywood madness aging actor silent film star film noir paramount pictures a hack screenwriter writes a screenplay for a former silentfilm star who has faded into hollywood obscurity\",\n          \"comedy robin williams gene hackman nathan lane dianne wiest grant heslov hank azaria dan futterman calista flockhart christine baranski tom mcgowan gay drag queen homophobia florida coming out senator politician lgbt crossdressing s united artists a gay cabaret owner and his drag queen companion agree to put up a false straight front so that their son can introduce them to his fiancs rightwing moralistic parents\"\n        ],\n        \"semantic_type\": \"\",\n        \"description\": \"\"\n      }\n    },\n    {\n      \"column\": \"weighted_score\",\n      \"properties\": {\n        \"dtype\": \"number\",\n        \"std\": 0.2783453665554177,\n        \"min\": 2.4008452066306223,\n        \"max\": 4.373604857382959,\n        \"num_unique_values\": 1094,\n        \"samples\": [\n          3.614142648294638,\n          2.948333963849725,\n          2.736822667787139\n        ],\n        \"semantic_type\": \"\",\n        \"description\": \"\"\n      }\n    },\n    {\n      \"column\": \"movie_age\",\n      \"properties\": {\n        \"dtype\": \"number\",\n        \"std\": 14.043981220447916,\n        \"min\": 8.0,\n        \"max\": 93.0,\n        \"num_unique_values\": 79,\n        \"samples\": [\n          78.0,\n          29.0,\n          65.0\n        ],\n        \"semantic_type\": \"\",\n        \"description\": \"\"\n      }\n    },\n    {\n      \"column\": \"sentiment_polarity\",\n      \"properties\": {\n        \"dtype\": \"number\",\n        \"std\": 0.21266372297786704,\n        \"min\": -1.0,\n        \"max\": 1.0,\n        \"num_unique_values\": 758,\n        \"samples\": [\n          0.03333333333333334,\n          0.10952380952380954,\n          -0.3757142857142857\n        ],\n        \"semantic_type\": \"\",\n        \"description\": \"\"\n      }\n    }\n  ]\n}"
      }
     },
     "metadata": {},
     "execution_count": 39
    }
   ]
  },
  {
   "cell_type": "markdown",
   "source": [
    "# 2.3 Modeling"
   ],
   "metadata": {
    "id": "83XLqEmxhra3"
   }
  },
  {
   "cell_type": "markdown",
   "source": [
    "In this section, we will configure and test various content-based recommender systems using advanced techniques. These include TFIDF for term frequency analysis, Word2Vec for capturing semantic relationships between words, and BERT Foundation Models for deep contextual understanding. Each technique will feature both baseline and advanced models. The baseline models will only consider cosine similarity to establish a benchmark for each technique, whereas the advanced models will include additional features to improve the relevance of our movie recommendations, leveraging the engineered features we have prepared.\n"
   ],
   "metadata": {
    "id": "GYp-rwzSAu_7"
   }
  },
  {
   "cell_type": "markdown",
   "source": [
    "## 2.3.1 TFIDF Content Recommendations"
   ],
   "metadata": {
    "id": "vcrJmidxKe5n"
   }
  },
  {
   "cell_type": "markdown",
   "source": [
    "To start off, we will use TFIDF (Term Frequency-Inverse Document Frequency) analysis to build content-based recommendation systems. This technique, which assesses the importance of words in documents in comparison to a collection of documents, was previously used in the part 1 of the project. We will summarize it here to establish a performance benchmark for future comparison with new models. TFIDF allows us to recommend similar movies based on textual content because it captures the relevance of terms within movie descriptions. We will create both baseline and advanced models, with the baseline model using cosine similarity to benchmark the technique and the advanced model adding additional features to improve recommendation relevance capturing more complex relationships and nuances within the data.\n",
    "\n",
    "\n",
    "\n",
    "\n",
    "\n"
   ],
   "metadata": {
    "id": "gm9PMvOjB9hz"
   }
  },
  {
   "cell_type": "markdown",
   "source": [
    "### TFIDF Baseline Model"
   ],
   "metadata": {
    "id": "F8F-WfAMN0Qc"
   }
  },
  {
   "cell_type": "code",
   "source": [
    "class BaselineContentRecommenderTFIDF:\n",
    "    def __init__(self, movies_df, k=100):\n",
    "        self.movies_df = movies_df.copy()\n",
    "        self.movies_df['movieId'] = self.movies_df['movieId'].astype(str)\n",
    "        self.movie_id_to_index = {movie_id: i for i, movie_id in enumerate(self.movies_df['movieId'])}\n",
    "        self.tfidf_vectorizer = TfidfVectorizer(stop_words='english', max_features=10000)\n",
    "        self.tfidf_matrix = self.tfidf_vectorizer.fit_transform(df_grouped['combined_text'])\n",
    "        self.similarity_matrix = cosine_similarity(self.tfidf_matrix)\n",
    "\n",
    "    def recommend(self, movie_id, top_n=10):\n",
    "        movie_id = str(movie_id)\n",
    "        if movie_id not in self.movie_id_to_index:\n",
    "            print(f\"Movie ID {movie_id} not found in the dataset.\")\n",
    "            return []\n",
    "\n",
    "        movie_index = self.movie_id_to_index[movie_id]\n",
    "        similarity_scores = self.similarity_matrix[movie_index]\n",
    "        top_k_indices = np.argsort(similarity_scores)[::-1][1:top_n+1]\n",
    "        recommendations = self.movies_df.iloc[top_k_indices].copy()\n",
    "        recommendations['cosine_similarity'] = similarity_scores[top_k_indices]\n",
    "\n",
    "        return recommendations.sort_values('cosine_similarity', ascending=False)"
   ],
   "metadata": {
    "id": "Fyeb_S51Kg8i"
   },
   "execution_count": 40,
   "outputs": []
  },
  {
   "cell_type": "code",
   "source": [
    "recommender_baseTFIDF = BaselineContentRecommenderTFIDF(df_grouped, k=100)\n",
    "recommendations_baseTFIDF = recommender_baseTFIDF.recommend('1', top_n=10)\n",
    "print(recommendations_baseTFIDF[['movieId', 'title', 'cosine_similarity']])"
   ],
   "metadata": {
    "colab": {
     "base_uri": "https://localhost:8080/"
    },
    "id": "sk3uXVXYKl7D",
    "outputId": "0fce8f2f-e523-4fdc-8af2-72a074d057b7"
   },
   "execution_count": 41,
   "outputs": [
    {
     "output_type": "stream",
     "name": "stdout",
     "text": [
      "     movieId                       title  cosine_similarity\n",
      "720     3114                 Toy Story 2           0.457090\n",
      "1147   78499                 Toy Story 3           0.381763\n",
      "28        60  The Indian in the Cupboard           0.113025\n",
      "674     2797                         Big           0.108510\n",
      "307     1103       Rebel Without a Cause           0.107731\n",
      "887     4886              Monsters, Inc.           0.098461\n",
      "199      596                   Pinocchio           0.094334\n",
      "1130   68954                          Up           0.087531\n",
      "591     2355                A Bug's Life           0.084093\n",
      "1176   95441                         Ted           0.082772\n"
     ]
    }
   ]
  },
  {
   "cell_type": "code",
   "source": [
    "recommendations_baseTFIDF = recommender_baseTFIDF.recommend('2', top_n=10)\n",
    "print(recommendations_baseTFIDF[['movieId', 'title', 'cosine_similarity']])"
   ],
   "metadata": {
    "colab": {
     "base_uri": "https://localhost:8080/"
    },
    "id": "2YmYUqFvLExS",
    "outputId": "7399a47a-5219-4f01-8a06-315a597f3e92"
   },
   "execution_count": 42,
   "outputs": [
    {
     "output_type": "stream",
     "name": "stdout",
     "text": [
      "     movieId                                                           title  \\\n",
      "637     2600                                                        eXistenZ   \n",
      "561     2161                                           The NeverEnding Story   \n",
      "905     5266                                                      Panic Room   \n",
      "546     2105                                                            Tron   \n",
      "1180   97913                                                  Wreck-It Ralph   \n",
      "1048   41566  The Chronicles of Narnia: The Lion, the Witch and the Wardrobe   \n",
      "1075   49272                                                   Casino Royale   \n",
      "719     3108                                                 The Fisher King   \n",
      "1009    8957                                                             Saw   \n",
      "791     3698                                                 The Running Man   \n",
      "\n",
      "      cosine_similarity  \n",
      "637            0.122969  \n",
      "561            0.108911  \n",
      "905            0.102681  \n",
      "546            0.102478  \n",
      "1180           0.099575  \n",
      "1048           0.091925  \n",
      "1075           0.090159  \n",
      "719            0.089435  \n",
      "1009           0.080312  \n",
      "791            0.078381  \n"
     ]
    }
   ]
  },
  {
   "cell_type": "markdown",
   "source": [
    "### TFIDF Advanced Model"
   ],
   "metadata": {
    "id": "l0YzKApZN4Tb"
   }
  },
  {
   "cell_type": "markdown",
   "source": [
    "We will now include additional features for the advanced model. These features are weighted_score, sentiment_polarity, and movie_age, and they will be combined with the cosine similarity score to improve the overall recommendation."
   ],
   "metadata": {
    "id": "PVgGprHwC4iG"
   }
  },
  {
   "cell_type": "code",
   "source": [
    "class AdvancedContentRecommenderTFIDF:\n",
    "    def __init__(self, movies_df, k=100):\n",
    "        self.movies_df = movies_df.copy()\n",
    "        self.movies_df['movieId'] = self.movies_df['movieId'].astype(str)\n",
    "        self.k = k\n",
    "        self.tfidf_vectorizer = TfidfVectorizer(stop_words='english', max_features=10000)\n",
    "        self.tfidf_matrix = self.tfidf_vectorizer.fit_transform(self.movies_df['combined_text'])\n",
    "        self.similarity_matrix = cosine_similarity(self.tfidf_matrix)\n",
    "\n",
    "    def recommend(self, movie_id, top_n=10):\n",
    "        movie_id = str(movie_id)\n",
    "        if movie_id not in self.movies_df['movieId'].values:\n",
    "            print(f\"Movie ID {movie_id} not found in the dataset.\")\n",
    "            return pd.DataFrame()\n",
    "\n",
    "        movie_index = self.movies_df.index[self.movies_df['movieId'] == movie_id].tolist()[0]\n",
    "        similarity_scores = self.similarity_matrix[movie_index]\n",
    "        top_k_indices = np.argsort(similarity_scores)[::-1][1:self.k+1]\n",
    "        top_k_df = self.movies_df.iloc[top_k_indices].copy()\n",
    "\n",
    "        scaler = MinMaxScaler()\n",
    "        for feature in ['weighted_score', 'movie_age']:\n",
    "            if feature in top_k_df:\n",
    "                top_k_df[feature] = scaler.fit_transform(top_k_df[[feature]].values.reshape(-1, 1))\n",
    "\n",
    "        top_k_df['cosine_similarity'] = similarity_scores[top_k_indices]\n",
    "        top_k_df['combined_score'] = (\n",
    "            0.5 * top_k_df['cosine_similarity'] +\n",
    "            0.2 * top_k_df['weighted_score'] +\n",
    "            0.3 * top_k_df['sentiment_polarity'] +\n",
    "            0.1 * top_k_df['movie_age']\n",
    "        )\n",
    "\n",
    "        return top_k_df.nlargest(top_n, 'combined_score')[['movieId', 'title', 'combined_score']]"
   ],
   "metadata": {
    "id": "3kYMvrJ1OhLF"
   },
   "execution_count": 43,
   "outputs": []
  },
  {
   "cell_type": "code",
   "source": [
    "recommender_advanced_tfidf = AdvancedContentRecommenderTFIDF(df_grouped, k=100)\n",
    "recommendations_advanced_tfidf = recommender_advanced_tfidf.recommend('1', top_n=10)\n",
    "print(recommendations_advanced_tfidf[['movieId', 'title', 'combined_score']])"
   ],
   "metadata": {
    "colab": {
     "base_uri": "https://localhost:8080/"
    },
    "id": "-SsROOlTOjqu",
    "outputId": "c8c06dd5-7efc-4166-dc0c-77459c978320"
   },
   "execution_count": 44,
   "outputs": [
    {
     "output_type": "stream",
     "name": "stdout",
     "text": [
      "     movieId              title  combined_score\n",
      "720     3114        Toy Story 2        0.494856\n",
      "343     1235   Harold and Maude        0.348563\n",
      "538     2078    The Jungle Book        0.322128\n",
      "591     2355       A Bug's Life        0.318722\n",
      "276     1028       Mary Poppins        0.310332\n",
      "340     1230         Annie Hall        0.308001\n",
      "527     2018              Bambi        0.302490\n",
      "1147   78499        Toy Story 3        0.296122\n",
      "1005    8910  I Heart Huckabees        0.292712\n",
      "346     1244          Manhattan        0.292305\n"
     ]
    }
   ]
  },
  {
   "cell_type": "markdown",
   "source": [
    "## 2.3.2 Word2Vec Content Recommendations"
   ],
   "metadata": {
    "id": "KUsXflVJlxoV"
   }
  },
  {
   "cell_type": "markdown",
   "source": [
    "In this section, we'll use Word2Vec, a neural network-based technique that converts words' semantic relationships into continuous vector representations, to build content-based recommender systems. This method enables us to comprehend and represent the contextual meaning of words in movie descriptions, allowing for more sophisticated and meaningful comparisons between films."
   ],
   "metadata": {
    "id": "BBHie3GcDH0R"
   }
  },
  {
   "cell_type": "markdown",
   "source": [
    "### Importing Google Word2Vec Model"
   ],
   "metadata": {
    "id": "_Jr2dp9Rnmuk"
   }
  },
  {
   "cell_type": "markdown",
   "source": [
    "We are choosing to import Google's pre-trained Word2Vec model primarily because of its extensive training on a large Google News dataset, which includes a rich and diverse vocabulary from multiple domains, ensuring comprehensive coverage and nuanced understanding of language. This model, which has already been trained, saves significant time and computational resources that would otherwise be required to train a model from scratch. It provides high-quality word embeddings that capture complex semantic relationships between words, allowing for the creation of more advanced, contextually aware recommendation systems. Furthermore, the pre-trained model has the potential to improve generalization capabilities across various textual data, increasing the accuracy and relevance of recommendations without the need for extensive domain-specific data for training. This makes it an effective choice for quickly integrating advanced NLP features into applications, particularly when working with limited resources like we are during this project."
   ],
   "metadata": {
    "id": "DTOGnoUCn-G2"
   }
  },
  {
   "cell_type": "code",
   "source": [
    "\"\"\"\n",
    "import gensim.downloader as api\n",
    "\n",
    "# Load the model\n",
    "word2vec_model = api.load('word2vec-google-news-300')\n",
    "\n",
    "# Save the model to Drive\n",
    "word2vec_model.save('/content/drive/My Drive/ML Group/word2vec-google-news-300.model')\n",
    "\"\"\"\n"
   ],
   "metadata": {
    "colab": {
     "base_uri": "https://localhost:8080/",
     "height": 53
    },
    "id": "eo6i8usspjx1",
    "outputId": "cc2c961f-6c13-4ea2-b8b7-432f5bbeed39"
   },
   "execution_count": 45,
   "outputs": [
    {
     "output_type": "execute_result",
     "data": {
      "text/plain": [
       "\"\\nimport gensim.downloader as api\\n\\n# Load the model\\nword2vec_model = api.load('word2vec-google-news-300')\\n\\n# Save the model to Drive\\nword2vec_model.save('/content/drive/My Drive/ML Group/word2vec-google-news-300.model')\\n\""
      ],
      "application/vnd.google.colaboratory.intrinsic+json": {
       "type": "string"
      }
     },
     "metadata": {},
     "execution_count": 45
    }
   ]
  },
  {
   "cell_type": "code",
   "source": [
    "# Load the model from Google Drive\n",
    "word2vec_model = KeyedVectors.load('/content/drive/My Drive/ML Group/word2vec-google-news-300.model', mmap='r')"
   ],
   "metadata": {
    "id": "WqW9fEWtu0fr"
   },
   "execution_count": 46,
   "outputs": []
  },
  {
   "cell_type": "markdown",
   "source": [
    "### Baseline Word2Vec"
   ],
   "metadata": {
    "id": "J8RAIvIfYOPA"
   }
  },
  {
   "cell_type": "markdown",
   "source": [
    "The Baseline Word2Vec model sets a performance benchmark by focusing solely on the cosine similarity of movie descriptions. Using the Word2Vec model to convert textual data into continuous vector representations, semantic relationships between words are captured. This method allows us to compare the similarity of movies based on their textual features, providing a fundamental benchmark for evaluating more sophisticated models."
   ],
   "metadata": {
    "id": "0asQARvSDnWj"
   }
  },
  {
   "cell_type": "code",
   "source": [
    "class BaselineContentRecommenderWord2Vec:\n",
    "    def __init__(self, movies_df, word2vec_model, k=100):\n",
    "        self.movies_df = movies_df.copy()\n",
    "        self.movies_df['movieId'] = self.movies_df['movieId'].astype(str)\n",
    "        self.movie_id_to_index = {movie_id: i for i, movie_id in enumerate(self.movies_df['movieId'])}\n",
    "        self.k = k\n",
    "\n",
    "        # Calculate Word2Vec vectors for the processed_text and store them in the dataframe\n",
    "        self.movies_df['word2vec_vector'] = self.movies_df['combined_text'].apply(\n",
    "            lambda doc: self.document_vector(word2vec_model, doc))\n",
    "\n",
    "        # Create a matrix of all vectors\n",
    "        self.vector_matrix = np.vstack(self.movies_df['word2vec_vector'])\n",
    "\n",
    "        # Calculate the cosine similarity matrix\n",
    "        self.similarity_matrix = cosine_similarity(self.vector_matrix)\n",
    "\n",
    "    def document_vector(self, model, doc):\n",
    "        # Tokenize the document and take the average of the word vectors\n",
    "        words = doc.split()\n",
    "        valid_words = [word for word in words if word in model.key_to_index]\n",
    "        if valid_words:\n",
    "            return np.mean(model[valid_words], axis=0)\n",
    "        else:\n",
    "            return np.zeros(model.vector_size)\n",
    "\n",
    "    def recommend(self, movie_id, top_n=10):\n",
    "        if movie_id not in self.movie_id_to_index:\n",
    "            print(f\"Movie ID {movie_id} not found in the dataset.\")\n",
    "            return []\n",
    "\n",
    "        movie_index = self.movie_id_to_index[movie_id]\n",
    "        similarity_scores = self.similarity_matrix[movie_index]\n",
    "        top_k_indices = np.argsort(similarity_scores)[::-1][1:self.k+1]\n",
    "        recommendations = self.movies_df.iloc[top_k_indices].copy()\n",
    "        recommendations['cosine_similarity'] = similarity_scores[top_k_indices]\n",
    "\n",
    "        return recommendations.sort_values('cosine_similarity', ascending=False)"
   ],
   "metadata": {
    "id": "z1AE9NgWyG1D"
   },
   "execution_count": 47,
   "outputs": []
  },
  {
   "cell_type": "code",
   "source": [
    "recommender_base_word2vec = BaselineContentRecommenderWord2Vec(df_grouped, word2vec_model)\n",
    "recommendations_base_word2vec = recommender_base_word2vec.recommend('1', top_n=10)\n",
    "print(recommendations_base_word2vec[['movieId', 'title', 'cosine_similarity']])"
   ],
   "metadata": {
    "colab": {
     "base_uri": "https://localhost:8080/"
    },
    "id": "iLWM7C0uriE9",
    "outputId": "087e34fa-afa5-4642-a283-29e91d7495cd"
   },
   "execution_count": 48,
   "outputs": [
    {
     "output_type": "stream",
     "name": "stdout",
     "text": [
      "     movieId                 title  cosine_similarity\n",
      "720     3114           Toy Story 2           0.916175\n",
      "1133   69757  (500) Days of Summer           0.904147\n",
      "49       158                Casper           0.903566\n",
      "406     1380                Grease           0.902637\n",
      "674     2797                   Big           0.902566\n",
      "...      ...                   ...                ...\n",
      "1180   97913        Wreck-It Ralph           0.875085\n",
      "263      933      To Catch a Thief           0.874960\n",
      "250      909         The Apartment           0.874792\n",
      "305     1100       Days of Thunder           0.874344\n",
      "625     2490               Payback           0.874319\n",
      "\n",
      "[100 rows x 3 columns]\n"
     ]
    }
   ]
  },
  {
   "cell_type": "markdown",
   "source": [
    "### Advanced Word2Vec"
   ],
   "metadata": {
    "id": "4BYO5jJEYRdD"
   }
  },
  {
   "cell_type": "markdown",
   "source": [
    "Similar to the logic used in the TFIDF advanced model, the Advanced Word2Vec model includes additional features to improve recommendation relevance. In addition to cosine similarity between Word2Vec embeddings, this model incorporates key features such as weighted_score, sentiment_polarity, and movie_age. By combining these factors, the Advanced Word2Vec method captures more complex relationships and nuances, resulting in more sophisticated movie recommendations."
   ],
   "metadata": {
    "id": "wjSjPMMFD7vl"
   }
  },
  {
   "cell_type": "code",
   "source": [
    "class AdvancedContentRecommenderWord2Vec:\n",
    "    def __init__(self, movies_df, word2vec_model, k=100):\n",
    "        self.movies_df = movies_df.copy()\n",
    "        self.movies_df['movieId'] = self.movies_df['movieId'].astype(str)\n",
    "        self.movie_id_to_index = {movie_id: i for i, movie_id in enumerate(self.movies_df['movieId'])}\n",
    "        self.k = k\n",
    "\n",
    "        # Calculate Word2Vec vectors for the processed_text and store them in the dataframe\n",
    "        self.movies_df['word2vec_vector'] = self.movies_df['combined_text'].apply(\n",
    "            lambda doc: self.document_vector(word2vec_model, doc))\n",
    "\n",
    "         # Create a matrix of all vectors\n",
    "        self.vector_matrix = np.vstack(self.movies_df['word2vec_vector'])\n",
    "\n",
    "        # Calculate the cosine similarity matrix\n",
    "        self.similarity_matrix = cosine_similarity(self.vector_matrix)\n",
    "\n",
    "    def document_vector(self, model, doc):\n",
    "        words = doc.split()\n",
    "        valid_words = [word for word in words if word in model.key_to_index]\n",
    "        if valid_words:\n",
    "            return np.mean(model[valid_words], axis=0)\n",
    "        else:\n",
    "            return np.zeros(model.vector_size)\n",
    "\n",
    "    def recommend(self, movie_id, top_n=10):\n",
    "        if movie_id not in self.movie_id_to_index:\n",
    "          print(f\"Movie ID {movie_id} not found in the dataset.\")\n",
    "          return pd.DataFrame()\n",
    "\n",
    "        movie_index = self.movie_id_to_index[movie_id]\n",
    "        similarity_scores = self.similarity_matrix[movie_index]\n",
    "        top_k_indices = np.argsort(similarity_scores)[::-1][1:self.k+1]\n",
    "        top_k_df = self.movies_df.iloc[top_k_indices].copy()\n",
    "\n",
    "        # Apply dynamic scaling to the features within the context of the top_k recommendations\n",
    "        scaler = MinMaxScaler()\n",
    "        for feature in ['weighted_score', 'movie_age']:\n",
    "            if feature in top_k_df:\n",
    "                top_k_df[feature] = scaler.fit_transform(top_k_df[[feature]].values.reshape(-1, 1))\n",
    "\n",
    "        top_k_df['cosine_similarity'] = similarity_scores[top_k_indices]\n",
    "        top_k_df['combined_score'] = (\n",
    "          0.5 * top_k_df['cosine_similarity'] +\n",
    "          0.2 * top_k_df['weighted_score'] +\n",
    "          0.2 * top_k_df['sentiment_polarity'] +\n",
    "          0.1 * top_k_df['movie_age']\n",
    "        )\n",
    "\n",
    "        return top_k_df.nlargest(top_n, 'combined_score')[['movieId', 'title', 'combined_score', 'cosine_similarity']]"
   ],
   "metadata": {
    "id": "swzvolleYMwP"
   },
   "execution_count": 49,
   "outputs": []
  },
  {
   "cell_type": "code",
   "source": [
    "recommender_advanced_word2vec = AdvancedContentRecommenderWord2Vec(df_grouped, word2vec_model)\n",
    "recommendations_advanced_word2vec = recommender_advanced_word2vec.recommend('1', top_n=10)\n",
    "print(recommendations_advanced_word2vec[['movieId', 'title', 'combined_score']])"
   ],
   "metadata": {
    "colab": {
     "base_uri": "https://localhost:8080/"
    },
    "id": "Z99So2VuYgTy",
    "outputId": "bc139874-e008-4f8e-c805-43404ffccd4f"
   },
   "execution_count": 50,
   "outputs": [
    {
     "output_type": "stream",
     "name": "stdout",
     "text": [
      "    movieId                                title  combined_score\n",
      "813    3911                         Best in Show        0.727264\n",
      "276    1028                         Mary Poppins        0.709346\n",
      "248     905                It Happened One Night        0.707435\n",
      "542    2087                            Peter Pan        0.695356\n",
      "720    3114                          Toy Story 2        0.690020\n",
      "245     902               Breakfast at Tiffany's        0.675651\n",
      "364    1269                 Arsenic and Old Lace        0.674261\n",
      "290    1073  Willy Wonka & the Chocolate Factory        0.670177\n",
      "250     909                        The Apartment        0.669026\n",
      "326    1207                To Kill a Mockingbird        0.660063\n"
     ]
    }
   ]
  },
  {
   "cell_type": "markdown",
   "source": [
    "## 2.3.3 BERT-Based Content Recommendations\n",
    "\n"
   ],
   "metadata": {
    "id": "D8IMpn90iefw"
   }
  },
  {
   "cell_type": "markdown",
   "source": [
    "This section will show how to build content-based recommender systems with BERT (Bidirectional Encoder Representations from Transformers) models. BERT models provide deep contextual understanding by capturing the nuances of word relationships in the text. Using BERT, we hope to generate high-quality embeddings that reflect the semantic content of movie descriptions. These models are very large pretrained models built on the transformer architecture and are well-known for their superior performance in natural language understanding tasks. The BERT model family includes a number of variants that have been fine-tuned for specific natural language processing tasks, providing tailored solutions for a variety of applications.\n"
   ],
   "metadata": {
    "id": "Wx_RIqWHEVGa"
   }
  },
  {
   "cell_type": "markdown",
   "source": [
    "Therefore selecting an appropriate model that fits the usecase of generating content recommendations leveraging cosine similarity based on text embeddings is crucial to ensure accurate and meaningful results. In this context, models from the BERT family, particularly those fine-tuned for sentence embeddings, stand out due to their robust performance in capturing semantic similarities. After conducting research we are choosing the all-mpnet-base-v2 model from the Sentence-Transformers library for our content recommender system. This model is designed to generate high-quality embeddings that encapsulate the nuanced meanings and relationships within the text. By leveraging all-mpnet-base-v2, we can effectively compute cosine similarity between item descriptions, leading to more precise and relevant content-based recommendations. This choice is driven by the model's proven ability to understand and represent complex language structures, making it an excellent fit for identifying similar items based on their textual content."
   ],
   "metadata": {
    "id": "2pJtUfU0WvQr"
   }
  },
  {
   "cell_type": "code",
   "source": [
    "# Load Sentence-BERT model\n",
    "model_name = 'all-mpnet-base-v2'\n",
    "bert_model = SentenceTransformer(model_name)"
   ],
   "metadata": {
    "id": "SS9QJ1eDopTJ"
   },
   "execution_count": 51,
   "outputs": []
  },
  {
   "cell_type": "markdown",
   "source": [
    "### Base BERT"
   ],
   "metadata": {
    "id": "cf1e5mhVZhAg"
   }
  },
  {
   "cell_type": "markdown",
   "source": [
    "The Base BERT model sets a standard for text embeddings by using the pretrained BERT model to create embeddings for movie descriptions. This baseline approach, which focuses on cosine similarity, evaluates the effectiveness of BERT's deep contextual embeddings in capturing the semantic content of text, providing a fundamental comparison point for more sophisticated models."
   ],
   "metadata": {
    "id": "IMG6FgX6FgC4"
   }
  },
  {
   "cell_type": "code",
   "source": [
    "class BaselineContentRecommenderBERT:\n",
    "    def __init__(self, movies_df, model, k=100):\n",
    "        self.movies_df = movies_df.copy()\n",
    "        self.movies_df['movieId'] = self.movies_df['movieId'].astype(str)\n",
    "        self.movie_id_to_index = {movie_id: i for i, movie_id in enumerate(self.movies_df['movieId'])}\n",
    "        self.k = k\n",
    "\n",
    "        # Use the preloaded Sentence-BERT model\n",
    "        self.model = model\n",
    "\n",
    "        # Calculate Sentence-BERT embeddings for the combined_text and store them in the dataframe\n",
    "        self.movies_df['sbert_embedding'] = self.movies_df['combined_text'].apply(\n",
    "            lambda doc: self.document_vector(doc))\n",
    "\n",
    "        # Create a matrix of all vectors\n",
    "        self.vector_matrix = np.vstack(self.movies_df['sbert_embedding'].values)\n",
    "\n",
    "        # Calculate the cosine similarity matrix\n",
    "        self.similarity_matrix = cosine_similarity(self.vector_matrix)\n",
    "\n",
    "    def document_vector(self, doc):\n",
    "        # Encode the document using Sentence-BERT\n",
    "        embedding = self.model.encode(doc)\n",
    "        return embedding\n",
    "\n",
    "    def recommend(self, movie_id, top_n=10):\n",
    "        if movie_id not in self.movie_id_to_index:\n",
    "            print(f\"Movie ID {movie_id} not found in the dataset.\")\n",
    "            return []\n",
    "\n",
    "        movie_index = self.movie_id_to_index[movie_id]\n",
    "        similarity_scores = self.similarity_matrix[movie_index]\n",
    "        top_k_indices = np.argsort(similarity_scores)[::-1][1:top_n+1]\n",
    "        recommendations = self.movies_df.iloc[top_k_indices].copy()\n",
    "        recommendations['cosine_similarity'] = similarity_scores[top_k_indices]\n",
    "\n",
    "        return recommendations.sort_values('cosine_similarity', ascending=False)"
   ],
   "metadata": {
    "id": "c0gwQc0nouuJ"
   },
   "execution_count": 52,
   "outputs": []
  },
  {
   "cell_type": "code",
   "source": [
    "recommender_base_BERT = BaselineContentRecommenderBERT(df_grouped, bert_model)\n",
    "recommendations_base_BERT = recommender_base_BERT.recommend(movie_id='1', top_n=10)\n",
    "print(recommendations_base_BERT[['movieId', 'title', 'cosine_similarity']])"
   ],
   "metadata": {
    "colab": {
     "base_uri": "https://localhost:8080/"
    },
    "id": "OrrwQEgFo0Vw",
    "outputId": "df16f879-3659-452e-b826-c95352ac46f5"
   },
   "execution_count": 53,
   "outputs": [
    {
     "output_type": "stream",
     "name": "stdout",
     "text": [
      "     movieId            title  cosine_similarity\n",
      "720     3114      Toy Story 2           0.935184\n",
      "1147   78499      Toy Story 3           0.878490\n",
      "1130   68954               Up           0.792607\n",
      "591     2355     A Bug's Life           0.729268\n",
      "83       239    A Goofy Movie           0.720836\n",
      "668     2761   The Iron Giant           0.718209\n",
      "1205  115617       Big Hero 6           0.710746\n",
      "123      355  The Flintstones           0.709544\n",
      "192      588          Aladdin           0.706538\n",
      "946     6377     Finding Nemo           0.706116\n"
     ]
    }
   ]
  },
  {
   "cell_type": "markdown",
   "source": [
    "### Advanced BERT"
   ],
   "metadata": {
    "id": "boLSdsy6Zfk-"
   }
  },
  {
   "cell_type": "markdown",
   "source": [
    "The Advanced BERT model extends the Base BERT approach by adding new features to improve recommendation accuracy and relevance. While weighted_score will continue to be used, we have identified limitations in our previous sentiment polarity feature created with TextBlob. As a result, we will reevaluate and improve our feature engineering, particularly in terms of sentiment polarity, to ensure more robust recommendations."
   ],
   "metadata": {
    "id": "EqZ7YMWDFuwx"
   }
  },
  {
   "cell_type": "markdown",
   "source": [
    "#### Refining Sentiment Analysis with BERT\n",
    "\n"
   ],
   "metadata": {
    "id": "Zrvu832maKvG"
   }
  },
  {
   "cell_type": "markdown",
   "source": [
    "To improve our sentiment analysis, we will refine the sentiment polarity feature with a more sophisticated method. Instead of TextBlob, which had limitations, we will use the Hugging Face pipeline's pre-trained BERT-based sentiment analysis model, distilbert-base-uncased-finetuned-sst-2-english. This model uses the powerful transformer architecture to produce more accurate and nuanced sentiment scores."
   ],
   "metadata": {
    "id": "TW7Azx_PGbNA"
   }
  },
  {
   "cell_type": "code",
   "source": [
    "# Load pre-trained sentiment-analysis model\n",
    "sentiment_model = pipeline(\"sentiment-analysis\", model=\"distilbert-base-uncased-finetuned-sst-2-english\")"
   ],
   "metadata": {
    "id": "zl-CYdpJZfO_"
   },
   "execution_count": 54,
   "outputs": []
  },
  {
   "cell_type": "code",
   "source": [
    "def compute_sentiment(text):\n",
    "    result = sentiment_model(text)[0]\n",
    "    sentiment_score = result['score'] if result['label'] == 'POSITIVE' else -result['score']\n",
    "    return sentiment_score"
   ],
   "metadata": {
    "id": "6uvKEaD2cLtT"
   },
   "execution_count": 55,
   "outputs": []
  },
  {
   "cell_type": "code",
   "source": [
    "df_grouped = df_grouped.merge(df_merged[['movieId', 'overview']], on='movieId', how='left')"
   ],
   "metadata": {
    "id": "bf6WB-k5d33s"
   },
   "execution_count": 56,
   "outputs": []
  },
  {
   "cell_type": "code",
   "source": [
    "df_grouped['sentiment_polarity_BERT'] = df_grouped['overview'].apply(compute_sentiment)"
   ],
   "metadata": {
    "id": "PW9NA_1Qd7Rj"
   },
   "execution_count": 57,
   "outputs": []
  },
  {
   "cell_type": "markdown",
   "source": [
    "#### Advanced BERT Recommender"
   ],
   "metadata": {
    "id": "hRw45eJDqTmy"
   }
  },
  {
   "cell_type": "markdown",
   "source": [
    "We have now added the newly calculated sentiment polarity from a different BERT model to our Advanced BERT recommender. This updated model uses two different BERT models: all-mpnet-base-v2 for cosine similarity and distilbert-base-uncased-finetuned-sst-2-english for sentiment polarity. This integration elevates it to a high-performing option for content-based recommendations.\n",
    "\n",
    "Given our belief that the newly computed BERT sentiment polarity could be a highly influential feature, we are removing movie_age from the list of features for this advanced model. In addition, we are increasing the weight of the BERT sentiment polarity in the combined score to improve the relevance and accuracy of recommendations."
   ],
   "metadata": {
    "id": "KW-mRPsXHUbq"
   }
  },
  {
   "cell_type": "code",
   "source": [
    "class AdvancedContentRecommenderBERT:\n",
    "    def __init__(self, movies_df, bert_model, k=100):\n",
    "        self.movies_df = movies_df.copy()\n",
    "        self.movies_df['movieId'] = self.movies_df['movieId'].astype(str)\n",
    "        self.movie_id_to_index = {movie_id: i for i, movie_id in enumerate(self.movies_df['movieId'])}\n",
    "        self.k = k\n",
    "\n",
    "        # Use the preloaded Sentence-BERT model\n",
    "        self.model = bert_model\n",
    "\n",
    "        # Calculate Sentence-BERT embeddings for the combined_text and store them in the dataframe\n",
    "        self.movies_df['sbert_embedding'] = self.movies_df['combined_text'].apply(\n",
    "            lambda doc: self.document_vector(doc))\n",
    "\n",
    "        # Create a matrix of all vectors\n",
    "        self.vector_matrix = np.vstack(self.movies_df['sbert_embedding'].values)\n",
    "\n",
    "        # Calculate the cosine similarity matrix\n",
    "        self.similarity_matrix = cosine_similarity(self.vector_matrix)\n",
    "\n",
    "    def document_vector(self, doc):\n",
    "        # Encode the document using the preloaded Sentence-BERT model\n",
    "        embedding = self.model.encode(doc)\n",
    "        return embedding\n",
    "\n",
    "    def recommend(self, movie_id, top_n=10):\n",
    "        if movie_id not in self.movie_id_to_index:\n",
    "            print(f\"Movie ID {movie_id} not found in the dataset.\")\n",
    "            return pd.DataFrame()\n",
    "\n",
    "        movie_index = self.movie_id_to_index[movie_id]\n",
    "        similarity_scores = self.similarity_matrix[movie_index]\n",
    "        top_k_indices = np.argsort(similarity_scores)[::-1][1:self.k+1]\n",
    "        top_k_df = self.movies_df.iloc[top_k_indices].copy()\n",
    "\n",
    "        # Apply dynamic scaling to the features within the context of the top_k recommendations\n",
    "        scaler = MinMaxScaler()\n",
    "        for feature in ['weighted_score', 'movie_age', 'sentiment_polarity_BERT']:\n",
    "            if feature in top_k_df:\n",
    "                top_k_df[feature] = scaler.fit_transform(top_k_df[[feature]].values.reshape(-1, 1))\n",
    "\n",
    "        top_k_df['cosine_similarity'] = similarity_scores[top_k_indices]\n",
    "        top_k_df['combined_score'] = (\n",
    "            0.5 * top_k_df['cosine_similarity'] +\n",
    "            0.2 * top_k_df['weighted_score'] +\n",
    "            0.3 * top_k_df['sentiment_polarity_BERT']\n",
    "        )\n",
    "\n",
    "        return top_k_df.nlargest(top_n, 'combined_score')[['movieId', 'title', 'combined_score', 'cosine_similarity']]"
   ],
   "metadata": {
    "id": "xoOkb8ZTgNf6"
   },
   "execution_count": 58,
   "outputs": []
  },
  {
   "cell_type": "code",
   "source": [
    "recommender_advanced_BERT = AdvancedContentRecommenderBERT(df_grouped, bert_model)\n",
    "recommendations_advanced_BERT = recommender_advanced_BERT.recommend('1', top_n=10)\n",
    "print(recommendations_advanced_BERT)"
   ],
   "metadata": {
    "colab": {
     "base_uri": "https://localhost:8080/"
    },
    "id": "tDStV-6FgYWP",
    "outputId": "0e86a75c-9cb9-4855-d9dd-70c805befc6c"
   },
   "execution_count": 59,
   "outputs": [
    {
     "output_type": "stream",
     "name": "stdout",
     "text": [
      "     movieId              title  combined_score  cosine_similarity\n",
      "720     3114        Toy Story 2        0.863116           0.935184\n",
      "668     2761     The Iron Giant        0.830407           0.718209\n",
      "850     4306              Shrek        0.829835           0.683207\n",
      "1111   60069             WALL·E        0.823821           0.657592\n",
      "1205  115617         Big Hero 6        0.820739           0.710746\n",
      "887     4886     Monsters, Inc.        0.819640           0.697651\n",
      "192      588            Aladdin        0.808315           0.706538\n",
      "675     2804  A Christmas Story        0.798249           0.619362\n",
      "946     6377       Finding Nemo        0.793409           0.706116\n",
      "1028   33615         Madagascar        0.786326           0.693795\n"
     ]
    }
   ]
  },
  {
   "cell_type": "markdown",
   "source": [
    "## 2.3.4 Word2Vec Content Recommendations with BERT Sentiment"
   ],
   "metadata": {
    "id": "hqRPl4EC35-N"
   }
  },
  {
   "cell_type": "markdown",
   "source": [
    "Finally, we present a powerful hybrid approach that combines Word2Vec embeddings and BERT-based sentiment analysis. We specifically use Word2Vec to compute cosine similarity using the pretrained Google News model and sentiment polarity from the distilbert-base-uncased-finetuned-sst-2-english model. This combination takes advantage of both techniques' strengths: Word2Vec's semantic richness and BERT's nuanced sentiment understanding. By doing so, we hope to improve the relevance of our recommendations, making this a highly effective option for content-based recommendation systems. The combination of these two advanced models enables us to detect more complex relationships within the data, resulting in highly effective movie recommendations."
   ],
   "metadata": {
    "id": "F4qkHA7rHnWc"
   }
  },
  {
   "cell_type": "code",
   "source": [
    "class AdvancedContentRecommenderWord2Vec_BERTSentiment:\n",
    "    def __init__(self, movies_df, word2vec_model, k=100):\n",
    "        self.movies_df = movies_df.copy()\n",
    "        self.movies_df['movieId'] = self.movies_df['movieId'].astype(str)\n",
    "        self.movie_id_to_index = {movie_id: i for i, movie_id in enumerate(self.movies_df['movieId'])}\n",
    "        self.k = k\n",
    "\n",
    "        # Calculate Word2Vec vectors for the processed_text and store them in the dataframe\n",
    "        self.movies_df['word2vec_vector'] = self.movies_df['combined_text'].apply(\n",
    "            lambda doc: self.document_vector(word2vec_model, doc))\n",
    "\n",
    "         # Create a matrix of all vectors\n",
    "        self.vector_matrix = np.vstack(self.movies_df['word2vec_vector'])\n",
    "\n",
    "        # Calculate the cosine similarity matrix\n",
    "        self.similarity_matrix = cosine_similarity(self.vector_matrix)\n",
    "\n",
    "    def document_vector(self, model, doc):\n",
    "        words = doc.split()\n",
    "        valid_words = [word for word in words if word in model.key_to_index]\n",
    "        if valid_words:\n",
    "            return np.mean(model[valid_words], axis=0)\n",
    "        else:\n",
    "            return np.zeros(model.vector_size)\n",
    "\n",
    "    def recommend(self, movie_id, top_n=10):\n",
    "        if movie_id not in self.movie_id_to_index:\n",
    "          print(f\"Movie ID {movie_id} not found in the dataset.\")\n",
    "          return pd.DataFrame()\n",
    "\n",
    "        movie_index = self.movie_id_to_index[movie_id]\n",
    "        similarity_scores = self.similarity_matrix[movie_index]\n",
    "        top_k_indices = np.argsort(similarity_scores)[::-1][1:self.k+1]\n",
    "        top_k_df = self.movies_df.iloc[top_k_indices].copy()\n",
    "\n",
    "        # Apply dynamic scaling to the features within the context of the top_k recommendations\n",
    "        scaler = MinMaxScaler()\n",
    "        for feature in ['weighted_score', 'movie_age']:\n",
    "            if feature in top_k_df:\n",
    "                top_k_df[feature] = scaler.fit_transform(top_k_df[[feature]].values.reshape(-1, 1))\n",
    "\n",
    "        top_k_df['cosine_similarity'] = similarity_scores[top_k_indices]\n",
    "        top_k_df['combined_score'] = (\n",
    "          0.5 * top_k_df['cosine_similarity'] +\n",
    "          0.2 * top_k_df['weighted_score'] +\n",
    "          0.3 * top_k_df['sentiment_polarity_BERT'] # Using precomputed BERT sentiment_polarity\n",
    "        )\n",
    "\n",
    "        return top_k_df.nlargest(top_n, 'combined_score')[['movieId', 'title', 'combined_score', 'cosine_similarity']]"
   ],
   "metadata": {
    "id": "Jt7jrFC-4NTh"
   },
   "execution_count": 60,
   "outputs": []
  },
  {
   "cell_type": "code",
   "source": [
    "recommender_advanced_word2vec_BERTsentiment = AdvancedContentRecommenderWord2Vec_BERTSentiment(df_grouped, word2vec_model)\n",
    "recommendations_advanced_word2vec_BERTsentiment = recommender_advanced_word2vec_BERTsentiment.recommend('1', top_n=10)\n",
    "print(recommendations_advanced_word2vec_BERTsentiment[['movieId', 'title', 'combined_score']])"
   ],
   "metadata": {
    "colab": {
     "base_uri": "https://localhost:8080/"
    },
    "id": "81JaVUBK4exj",
    "outputId": "3fca2d37-5f7d-4f40-bc2e-3132bb614dcc"
   },
   "execution_count": 61,
   "outputs": [
    {
     "output_type": "stream",
     "name": "stdout",
     "text": [
      "     movieId                   title  combined_score\n",
      "1111   60069                  WALL·E        0.904059\n",
      "703     2997    Being John Malkovich        0.901591\n",
      "326     1207   To Kill a Mockingbird        0.900033\n",
      "1217  134853              Inside Out        0.892162\n",
      "813     3911            Best in Show        0.888673\n",
      "245      902  Breakfast at Tiffany's        0.883768\n",
      "276     1028            Mary Poppins        0.880849\n",
      "1095   55247           Into the Wild        0.879397\n",
      "1077   50872             Ratatouille        0.869026\n",
      "192      588                 Aladdin        0.868077\n"
     ]
    }
   ]
  },
  {
   "cell_type": "markdown",
   "source": [
    "# 2.4 Evaluation"
   ],
   "metadata": {
    "id": "paoMf8tc5Y0E"
   }
  },
  {
   "cell_type": "markdown",
   "source": [
    "It is now time to evaluate the models introduced in Section 3. We will evaluate the performance of each content-based recommender system, including those using the TFIDF, Word2Vec, and BERT models. This evaluation will assist us in understanding the strengths and weaknesses of each approach, determining the efficacy of adding new features, and selecting the best-performing model for our content-based recommendation system. Our goal with this evaluation is to gain insights into the overall relevance, and robustness of our recommendations."
   ],
   "metadata": {
    "id": "jeNfDIn_IBqu"
   }
  },
  {
   "cell_type": "markdown",
   "source": [
    "To ensure that our evaluation is statistically robust and computationally efficient, we downsample the dataset to a manageable size using a predetermined sample size. This technique allows us to maintain the representativeness of our data while reducing computational overhead. The sample size is calculated using the desired confidence level (95%) and margin of error (5%). To calculate the required sample size, we use a formula that includes the z-score for the specified confidence level and the proportion of higher ratings (ratings ≥ 4.0). This approach ensures that our downsampled dataset is large enough to provide reliable evaluation results while remaining computationally feasible."
   ],
   "metadata": {
    "id": "b6YUXXyxIP2B"
   }
  },
  {
   "cell_type": "code",
   "source": [
    "def calculate_sample_size(confidence_level, margin_of_error, proportion):\n",
    "    z_score = abs(scipy.stats.norm.ppf((1 - confidence_level) / 2))\n",
    "    sample_size = math.ceil((z_score ** 2 * proportion * (1 - proportion)) / (margin_of_error ** 2))\n",
    "    return sample_size\n",
    "\n",
    "confidence_level = 0.95\n",
    "margin_of_error = 0.05\n",
    "\n",
    "proportion_higher_ratings = df_ratings[df_ratings['rating'] >= 4.0].shape[0] / df_ratings.shape[0]\n",
    "required_sample_size = calculate_sample_size(confidence_level, margin_of_error, proportion_higher_ratings)\n",
    "print(f\"Required sample size: {required_sample_size}\")"
   ],
   "metadata": {
    "colab": {
     "base_uri": "https://localhost:8080/"
    },
    "id": "SMnrbvRg5X0y",
    "outputId": "e489a64a-b868-4fb4-95db-96d0c29879a4"
   },
   "execution_count": 62,
   "outputs": [
    {
     "output_type": "stream",
     "name": "stdout",
     "text": [
      "Required sample size: 385\n"
     ]
    }
   ]
  },
  {
   "cell_type": "code",
   "source": [
    "sample_movie_ids = np.random.choice(df_grouped['movieId'].unique(), size=required_sample_size, replace=False)\n",
    "\n",
    "subset_df_ratings = df_ratings[df_ratings['movieId'].isin(sample_movie_ids)]"
   ],
   "metadata": {
    "id": "jmTl3UTj5uuN"
   },
   "execution_count": 63,
   "outputs": []
  },
  {
   "cell_type": "markdown",
   "source": [
    "Precision was chosen as the primary metric for evaluating our content-based recommendation models because it assesses the relevance of the suggested items. It is defined as the percentage of recommended items that are applicable to the user. This emphasis on relevance ensures that the system provides high-quality recommendations that are consistent with user preferences, thereby increasing user satisfaction and trust. By prioritizing precision, we ensure that our content-based models make effective use of detailed item attributes to provide accurate and meaningful recommendations.\n"
   ],
   "metadata": {
    "id": "6R8y8M0-IqvW"
   }
  },
  {
   "cell_type": "markdown",
   "source": [
    "The evaluation logic for the content-based recommender system involves generating recommendations for a set of sampled movies and comparing these recommendations to actual user ratings. For each movie, the system computes the proportion of recommended items that are relevant, meaning they have ratings above the specificed threshold of 4), which is referred to as precision. This precision is then averaged across all sampled movies to provide an overall precision metric for the recommender system. This metric indicates how well the system recommends relevant items based solely on content features."
   ],
   "metadata": {
    "id": "bgTxhLKiOw6_"
   }
  },
  {
   "cell_type": "code",
   "source": [
    "def evaluate_movie(movie_id, df_ratings, recommender, top_n=10, threshold=4.0):\n",
    "    \"\"\"Evaluate a single movie for the recommender system.\"\"\"\n",
    "    recommendations = recommender.recommend(str(movie_id), top_n=top_n)\n",
    "    if recommendations.empty:\n",
    "        return np.array([]), 0\n",
    "\n",
    "    recommended_ids = recommendations['movieId'].astype(str).tolist()\n",
    "    matching_ratings = df_ratings[df_ratings['movieId'].astype(str).isin(recommended_ids)]\n",
    "\n",
    "    if matching_ratings.empty:\n",
    "        return np.array([]), 0\n",
    "\n",
    "    relevant_recommendations = matching_ratings[matching_ratings['rating'] >= threshold]\n",
    "    precision = len(relevant_recommendations) / len(recommended_ids)\n",
    "\n",
    "    return np.array(matching_ratings['rating']), precision\n",
    "\n",
    "def evaluate_recommender(df_ratings, recommender, sample_movie_ids, top_n=10, threshold=4.0):\n",
    "    \"\"\"Evaluate the recommender system using sampled movie IDs.\"\"\"\n",
    "    all_ratings, precisions = [], []\n",
    "\n",
    "    for movie_id in sample_movie_ids:\n",
    "        movie_ratings, precision = evaluate_movie(movie_id, df_ratings, recommender, top_n=top_n, threshold=threshold)\n",
    "        if movie_ratings.size > 0:\n",
    "            all_ratings.extend(movie_ratings)\n",
    "        precisions.append(precision)\n",
    "\n",
    "    overall_precision = np.mean(precisions) / 100\n",
    "\n",
    "    print(f\"Precision: {overall_precision:.4f}\")\n",
    "    return overall_precision"
   ],
   "metadata": {
    "id": "NTZLiNdMIc4c"
   },
   "execution_count": 64,
   "outputs": []
  },
  {
   "cell_type": "markdown",
   "source": [
    "After configuring the evaluation function, we evaluate all of the models presented in Section 3 to compare their performance. We create a dictionary to store the results, specifying each model and its precision score. The models under consideration are the Baseline and Advanced versions of the TFIDF Recommender, Word2Vec Recommender, and BERT Recommender, as well as the hybrid Word2Vec Recommender with BERT Sentiment. For each model, we generate recommendations for a set of sampled movies and calculate the precision, which is the proportion of relevant recommended items. This comprehensive evaluation enables us to determine the most effective content-based recommendation strategy."
   ],
   "metadata": {
    "id": "1pZWfTTlJJiy"
   }
  },
  {
   "cell_type": "code",
   "source": [
    "# Initialize a dictionary to store the results\n",
    "results = {\n",
    "    \"Model\": [],\n",
    "    \"Precision\": []\n",
    "}\n",
    "\n",
    "# Evaluate each model and store precision results\n",
    "results[\"Model\"].extend([\n",
    "    \"Baseline TFIDF Recommender\",\n",
    "    \"Advanced TFIDF Recommender\",\n",
    "    \"Baseline Word2Vec Recommender\",\n",
    "    \"Advanced Word2Vec Recommender\",\n",
    "    \"Baseline BERT Recommender\",\n",
    "    \"Advanced BERT Recommender\",\n",
    "    \"Word2Vec Recommender w/ BERT Sentiment\"\n",
    "])\n",
    "\n",
    "results[\"Precision\"].extend([\n",
    "    evaluate_recommender(df_ratings, recommender_baseTFIDF, sample_movie_ids, top_n=10, threshold=4.0),\n",
    "    evaluate_recommender(df_ratings, recommender_advanced_tfidf, sample_movie_ids, top_n=10, threshold=4.0),\n",
    "    evaluate_recommender(df_ratings, recommender_base_word2vec, sample_movie_ids, top_n=10, threshold=4.0),\n",
    "    evaluate_recommender(df_ratings, recommender_advanced_word2vec, sample_movie_ids, top_n=10, threshold=4.0),\n",
    "    evaluate_recommender(df_ratings, recommender_base_BERT, sample_movie_ids, top_n=10, threshold=4.0),\n",
    "    evaluate_recommender(df_ratings, recommender_advanced_BERT, sample_movie_ids, top_n=10, threshold=4.0),\n",
    "    evaluate_recommender(df_ratings, recommender_advanced_word2vec_BERTsentiment, sample_movie_ids, top_n=10, threshold=4.0)\n",
    "])"
   ],
   "metadata": {
    "colab": {
     "base_uri": "https://localhost:8080/"
    },
    "id": "ssnhULoUje1x",
    "outputId": "c143c501-8504-42b9-b132-bef1dfbefa18"
   },
   "execution_count": 65,
   "outputs": [
    {
     "output_type": "stream",
     "name": "stdout",
     "text": [
      "Precision: 0.3167\n",
      "Precision: 0.5976\n",
      "Precision: 0.3398\n",
      "Precision: 0.7038\n",
      "Precision: 0.3327\n",
      "Precision: 0.7133\n",
      "Precision: 0.8074\n"
     ]
    }
   ]
  },
  {
   "cell_type": "code",
   "source": [
    "results_df = pd.DataFrame(results)\n",
    "\n",
    "results_df"
   ],
   "metadata": {
    "colab": {
     "base_uri": "https://localhost:8080/",
     "height": 269
    },
    "id": "YWMYZ01uoopl",
    "outputId": "b08029be-907c-4f4f-de95-56d6e0e3d0bc"
   },
   "execution_count": 67,
   "outputs": [
    {
     "output_type": "execute_result",
     "data": {
      "text/plain": [
       "                                    Model  Precision\n",
       "0              Baseline TFIDF Recommender   0.316743\n",
       "1              Advanced TFIDF Recommender   0.597629\n",
       "2           Baseline Word2Vec Recommender   0.339771\n",
       "3           Advanced Word2Vec Recommender   0.703803\n",
       "4               Baseline BERT Recommender   0.332673\n",
       "5               Advanced BERT Recommender   0.713317\n",
       "6  Word2Vec Recommender w/ BERT Sentiment   0.807405"
      ],
      "text/html": [
       "\n",
       "  <div id=\"df-aefd410e-28e7-44f1-8350-18a3699e4e62\" class=\"colab-df-container\">\n",
       "    <div>\n",
       "<style scoped>\n",
       "    .dataframe tbody tr th:only-of-type {\n",
       "        vertical-align: middle;\n",
       "    }\n",
       "\n",
       "    .dataframe tbody tr th {\n",
       "        vertical-align: top;\n",
       "    }\n",
       "\n",
       "    .dataframe thead th {\n",
       "        text-align: right;\n",
       "    }\n",
       "</style>\n",
       "<table border=\"1\" class=\"dataframe\">\n",
       "  <thead>\n",
       "    <tr style=\"text-align: right;\">\n",
       "      <th></th>\n",
       "      <th>Model</th>\n",
       "      <th>Precision</th>\n",
       "    </tr>\n",
       "  </thead>\n",
       "  <tbody>\n",
       "    <tr>\n",
       "      <th>0</th>\n",
       "      <td>Baseline TFIDF Recommender</td>\n",
       "      <td>0.316743</td>\n",
       "    </tr>\n",
       "    <tr>\n",
       "      <th>1</th>\n",
       "      <td>Advanced TFIDF Recommender</td>\n",
       "      <td>0.597629</td>\n",
       "    </tr>\n",
       "    <tr>\n",
       "      <th>2</th>\n",
       "      <td>Baseline Word2Vec Recommender</td>\n",
       "      <td>0.339771</td>\n",
       "    </tr>\n",
       "    <tr>\n",
       "      <th>3</th>\n",
       "      <td>Advanced Word2Vec Recommender</td>\n",
       "      <td>0.703803</td>\n",
       "    </tr>\n",
       "    <tr>\n",
       "      <th>4</th>\n",
       "      <td>Baseline BERT Recommender</td>\n",
       "      <td>0.332673</td>\n",
       "    </tr>\n",
       "    <tr>\n",
       "      <th>5</th>\n",
       "      <td>Advanced BERT Recommender</td>\n",
       "      <td>0.713317</td>\n",
       "    </tr>\n",
       "    <tr>\n",
       "      <th>6</th>\n",
       "      <td>Word2Vec Recommender w/ BERT Sentiment</td>\n",
       "      <td>0.807405</td>\n",
       "    </tr>\n",
       "  </tbody>\n",
       "</table>\n",
       "</div>\n",
       "    <div class=\"colab-df-buttons\">\n",
       "\n",
       "  <div class=\"colab-df-container\">\n",
       "    <button class=\"colab-df-convert\" onclick=\"convertToInteractive('df-aefd410e-28e7-44f1-8350-18a3699e4e62')\"\n",
       "            title=\"Convert this dataframe to an interactive table.\"\n",
       "            style=\"display:none;\">\n",
       "\n",
       "  <svg xmlns=\"http://www.w3.org/2000/svg\" height=\"24px\" viewBox=\"0 -960 960 960\">\n",
       "    <path d=\"M120-120v-720h720v720H120Zm60-500h600v-160H180v160Zm220 220h160v-160H400v160Zm0 220h160v-160H400v160ZM180-400h160v-160H180v160Zm440 0h160v-160H620v160ZM180-180h160v-160H180v160Zm440 0h160v-160H620v160Z\"/>\n",
       "  </svg>\n",
       "    </button>\n",
       "\n",
       "  <style>\n",
       "    .colab-df-container {\n",
       "      display:flex;\n",
       "      gap: 12px;\n",
       "    }\n",
       "\n",
       "    .colab-df-convert {\n",
       "      background-color: #E8F0FE;\n",
       "      border: none;\n",
       "      border-radius: 50%;\n",
       "      cursor: pointer;\n",
       "      display: none;\n",
       "      fill: #1967D2;\n",
       "      height: 32px;\n",
       "      padding: 0 0 0 0;\n",
       "      width: 32px;\n",
       "    }\n",
       "\n",
       "    .colab-df-convert:hover {\n",
       "      background-color: #E2EBFA;\n",
       "      box-shadow: 0px 1px 2px rgba(60, 64, 67, 0.3), 0px 1px 3px 1px rgba(60, 64, 67, 0.15);\n",
       "      fill: #174EA6;\n",
       "    }\n",
       "\n",
       "    .colab-df-buttons div {\n",
       "      margin-bottom: 4px;\n",
       "    }\n",
       "\n",
       "    [theme=dark] .colab-df-convert {\n",
       "      background-color: #3B4455;\n",
       "      fill: #D2E3FC;\n",
       "    }\n",
       "\n",
       "    [theme=dark] .colab-df-convert:hover {\n",
       "      background-color: #434B5C;\n",
       "      box-shadow: 0px 1px 3px 1px rgba(0, 0, 0, 0.15);\n",
       "      filter: drop-shadow(0px 1px 2px rgba(0, 0, 0, 0.3));\n",
       "      fill: #FFFFFF;\n",
       "    }\n",
       "  </style>\n",
       "\n",
       "    <script>\n",
       "      const buttonEl =\n",
       "        document.querySelector('#df-aefd410e-28e7-44f1-8350-18a3699e4e62 button.colab-df-convert');\n",
       "      buttonEl.style.display =\n",
       "        google.colab.kernel.accessAllowed ? 'block' : 'none';\n",
       "\n",
       "      async function convertToInteractive(key) {\n",
       "        const element = document.querySelector('#df-aefd410e-28e7-44f1-8350-18a3699e4e62');\n",
       "        const dataTable =\n",
       "          await google.colab.kernel.invokeFunction('convertToInteractive',\n",
       "                                                    [key], {});\n",
       "        if (!dataTable) return;\n",
       "\n",
       "        const docLinkHtml = 'Like what you see? Visit the ' +\n",
       "          '<a target=\"_blank\" href=https://colab.research.google.com/notebooks/data_table.ipynb>data table notebook</a>'\n",
       "          + ' to learn more about interactive tables.';\n",
       "        element.innerHTML = '';\n",
       "        dataTable['output_type'] = 'display_data';\n",
       "        await google.colab.output.renderOutput(dataTable, element);\n",
       "        const docLink = document.createElement('div');\n",
       "        docLink.innerHTML = docLinkHtml;\n",
       "        element.appendChild(docLink);\n",
       "      }\n",
       "    </script>\n",
       "  </div>\n",
       "\n",
       "\n",
       "<div id=\"df-b6759d54-c431-443c-85fc-2f85b5a36d98\">\n",
       "  <button class=\"colab-df-quickchart\" onclick=\"quickchart('df-b6759d54-c431-443c-85fc-2f85b5a36d98')\"\n",
       "            title=\"Suggest charts\"\n",
       "            style=\"display:none;\">\n",
       "\n",
       "<svg xmlns=\"http://www.w3.org/2000/svg\" height=\"24px\"viewBox=\"0 0 24 24\"\n",
       "     width=\"24px\">\n",
       "    <g>\n",
       "        <path d=\"M19 3H5c-1.1 0-2 .9-2 2v14c0 1.1.9 2 2 2h14c1.1 0 2-.9 2-2V5c0-1.1-.9-2-2-2zM9 17H7v-7h2v7zm4 0h-2V7h2v10zm4 0h-2v-4h2v4z\"/>\n",
       "    </g>\n",
       "</svg>\n",
       "  </button>\n",
       "\n",
       "<style>\n",
       "  .colab-df-quickchart {\n",
       "      --bg-color: #E8F0FE;\n",
       "      --fill-color: #1967D2;\n",
       "      --hover-bg-color: #E2EBFA;\n",
       "      --hover-fill-color: #174EA6;\n",
       "      --disabled-fill-color: #AAA;\n",
       "      --disabled-bg-color: #DDD;\n",
       "  }\n",
       "\n",
       "  [theme=dark] .colab-df-quickchart {\n",
       "      --bg-color: #3B4455;\n",
       "      --fill-color: #D2E3FC;\n",
       "      --hover-bg-color: #434B5C;\n",
       "      --hover-fill-color: #FFFFFF;\n",
       "      --disabled-bg-color: #3B4455;\n",
       "      --disabled-fill-color: #666;\n",
       "  }\n",
       "\n",
       "  .colab-df-quickchart {\n",
       "    background-color: var(--bg-color);\n",
       "    border: none;\n",
       "    border-radius: 50%;\n",
       "    cursor: pointer;\n",
       "    display: none;\n",
       "    fill: var(--fill-color);\n",
       "    height: 32px;\n",
       "    padding: 0;\n",
       "    width: 32px;\n",
       "  }\n",
       "\n",
       "  .colab-df-quickchart:hover {\n",
       "    background-color: var(--hover-bg-color);\n",
       "    box-shadow: 0 1px 2px rgba(60, 64, 67, 0.3), 0 1px 3px 1px rgba(60, 64, 67, 0.15);\n",
       "    fill: var(--button-hover-fill-color);\n",
       "  }\n",
       "\n",
       "  .colab-df-quickchart-complete:disabled,\n",
       "  .colab-df-quickchart-complete:disabled:hover {\n",
       "    background-color: var(--disabled-bg-color);\n",
       "    fill: var(--disabled-fill-color);\n",
       "    box-shadow: none;\n",
       "  }\n",
       "\n",
       "  .colab-df-spinner {\n",
       "    border: 2px solid var(--fill-color);\n",
       "    border-color: transparent;\n",
       "    border-bottom-color: var(--fill-color);\n",
       "    animation:\n",
       "      spin 1s steps(1) infinite;\n",
       "  }\n",
       "\n",
       "  @keyframes spin {\n",
       "    0% {\n",
       "      border-color: transparent;\n",
       "      border-bottom-color: var(--fill-color);\n",
       "      border-left-color: var(--fill-color);\n",
       "    }\n",
       "    20% {\n",
       "      border-color: transparent;\n",
       "      border-left-color: var(--fill-color);\n",
       "      border-top-color: var(--fill-color);\n",
       "    }\n",
       "    30% {\n",
       "      border-color: transparent;\n",
       "      border-left-color: var(--fill-color);\n",
       "      border-top-color: var(--fill-color);\n",
       "      border-right-color: var(--fill-color);\n",
       "    }\n",
       "    40% {\n",
       "      border-color: transparent;\n",
       "      border-right-color: var(--fill-color);\n",
       "      border-top-color: var(--fill-color);\n",
       "    }\n",
       "    60% {\n",
       "      border-color: transparent;\n",
       "      border-right-color: var(--fill-color);\n",
       "    }\n",
       "    80% {\n",
       "      border-color: transparent;\n",
       "      border-right-color: var(--fill-color);\n",
       "      border-bottom-color: var(--fill-color);\n",
       "    }\n",
       "    90% {\n",
       "      border-color: transparent;\n",
       "      border-bottom-color: var(--fill-color);\n",
       "    }\n",
       "  }\n",
       "</style>\n",
       "\n",
       "  <script>\n",
       "    async function quickchart(key) {\n",
       "      const quickchartButtonEl =\n",
       "        document.querySelector('#' + key + ' button');\n",
       "      quickchartButtonEl.disabled = true;  // To prevent multiple clicks.\n",
       "      quickchartButtonEl.classList.add('colab-df-spinner');\n",
       "      try {\n",
       "        const charts = await google.colab.kernel.invokeFunction(\n",
       "            'suggestCharts', [key], {});\n",
       "      } catch (error) {\n",
       "        console.error('Error during call to suggestCharts:', error);\n",
       "      }\n",
       "      quickchartButtonEl.classList.remove('colab-df-spinner');\n",
       "      quickchartButtonEl.classList.add('colab-df-quickchart-complete');\n",
       "    }\n",
       "    (() => {\n",
       "      let quickchartButtonEl =\n",
       "        document.querySelector('#df-b6759d54-c431-443c-85fc-2f85b5a36d98 button');\n",
       "      quickchartButtonEl.style.display =\n",
       "        google.colab.kernel.accessAllowed ? 'block' : 'none';\n",
       "    })();\n",
       "  </script>\n",
       "</div>\n",
       "    </div>\n",
       "  </div>\n"
      ],
      "application/vnd.google.colaboratory.intrinsic+json": {
       "type": "dataframe",
       "variable_name": "results_df",
       "summary": "{\n  \"name\": \"results_df\",\n  \"rows\": 7,\n  \"fields\": [\n    {\n      \"column\": \"Model\",\n      \"properties\": {\n        \"dtype\": \"string\",\n        \"num_unique_values\": 7,\n        \"samples\": [\n          \"Baseline TFIDF Recommender\",\n          \"Advanced TFIDF Recommender\",\n          \"Advanced BERT Recommender\"\n        ],\n        \"semantic_type\": \"\",\n        \"description\": \"\"\n      }\n    },\n    {\n      \"column\": \"Precision\",\n      \"properties\": {\n        \"dtype\": \"number\",\n        \"std\": 0.2099508848795546,\n        \"min\": 0.3167428571428571,\n        \"max\": 0.8074051948051948,\n        \"num_unique_values\": 7,\n        \"samples\": [\n          0.3167428571428571,\n          0.5976285714285714,\n          0.7133168831168831\n        ],\n        \"semantic_type\": \"\",\n        \"description\": \"\"\n      }\n    }\n  ]\n}"
      }
     },
     "metadata": {},
     "execution_count": 67
    }
   ]
  },
  {
   "cell_type": "markdown",
   "source": [
    "### Baseline Models"
   ],
   "metadata": {
    "id": "CulDqhG3L9yM"
   }
  },
  {
   "cell_type": "code",
   "source": [
    "# Filter for baseline models\n",
    "df_baseline_results = results_df[results_df['Model'].str.contains('Baseline')]\n",
    "\n",
    "# Plot for Baseline Models\n",
    "plt.figure(figsize=(10, 6))\n",
    "baseline_plot = sns.barplot(x=\"Model\", y=\"Precision\", data=df_baseline_results, palette=\"viridis\")\n",
    "plt.xticks(rotation=45, ha=\"right\")\n",
    "plt.title(\"Baseline Model Precision Comparison\")\n",
    "plt.xlabel(\"Model\")\n",
    "plt.ylabel(\"Precision\")\n",
    "plt.ylim(0.3, 0.35)  # Adjust the y-axis limit to start closer to the minimum precision value\n",
    "\n",
    "# Annotate bars with precision values\n",
    "for p in baseline_plot.patches:\n",
    "    baseline_plot.annotate(format(p.get_height(), '.4f'),\n",
    "                           (p.get_x() + p.get_width() / 2., p.get_height()),\n",
    "                           ha = 'center', va = 'center',\n",
    "                           xytext = (0, 9),\n",
    "                           textcoords = 'offset points')\n",
    "\n",
    "plt.tight_layout()\n",
    "\n",
    "# Display the plot\n",
    "plt.show()"
   ],
   "metadata": {
    "colab": {
     "base_uri": "https://localhost:8080/",
     "height": 607
    },
    "id": "pctUH2w0LFKr",
    "outputId": "2b0431d2-574c-4bc6-b2e9-d44df5afe9ce"
   },
   "execution_count": 72,
   "outputs": [
    {
     "output_type": "display_data",
     "data": {
      "text/plain": [
       "<Figure size 1000x600 with 1 Axes>"
      ],
      "image/png": "[encoded data removed]"
     },
     "metadata": {}
    }
   ]
  },
  {
   "cell_type": "markdown",
   "source": [
    "The Baseline TFIDF Recommender had a precision of 0.316743, with the Baseline Word2Vec Recommender scoring slightly higher at 0.339771. Both models employ cosine similarity on basic TFIDF and Word2Vec embeddings, respectively. Their relatively low precision scores indicate that, while they capture some relevance, there is plenty of room for improvement. The Baseline BERT Recommender, with a precision of 0.332673, outperforms the TFIDF baseline but is comparable to the Word2Vec baseline, demonstrating the fundamental level of relevance captured by the BERT embeddings alone. Among the baseline models, Word2Vec performed the best, highlighting its capability to capture semantic relationships in text."
   ],
   "metadata": {
    "id": "hE_Ur1UjJr6H"
   }
  },
  {
   "cell_type": "markdown",
   "source": [
    "### Advanced Models"
   ],
   "metadata": {
    "id": "OQWc00TRMbSb"
   }
  },
  {
   "cell_type": "code",
   "source": [
    "# Filter for advanced models only\n",
    "df_advanced_results = results_df[results_df['Model'].str.contains('Advanced')]\n",
    "\n",
    "# Plot for Advanced Models with Adjusted Scale and Annotations\n",
    "plt.figure(figsize=(10, 6))\n",
    "advanced_plot = sns.barplot(x=\"Model\", y=\"Precision\", data=df_advanced_results, palette=\"viridis\")\n",
    "plt.xticks(rotation=45, ha=\"right\")\n",
    "plt.title(\"Advanced Model Precision Comparison\")\n",
    "plt.xlabel(\"Model\")\n",
    "plt.ylabel(\"Precision\")\n",
    "plt.ylim(0.5, 0.85)  # Adjust the y-axis limit to ensure all scores are visible\n",
    "\n",
    "# Annotate bars with precision values\n",
    "for p in advanced_plot.patches:\n",
    "    advanced_plot.annotate(format(p.get_height(), '.4f'),\n",
    "                           (p.get_x() + p.get_width() / 2., p.get_height()),\n",
    "                           ha='center', va='center',\n",
    "                           xytext=(0, 9),\n",
    "                           textcoords='offset points')\n",
    "\n",
    "plt.tight_layout()\n",
    "\n",
    "# Display the plot\n",
    "plt.show()"
   ],
   "metadata": {
    "colab": {
     "base_uri": "https://localhost:8080/",
     "height": 607
    },
    "id": "NqAmtT6AMKNd",
    "outputId": "64f0b387-d165-467c-e1a3-25b8ba5aa1ca"
   },
   "execution_count": 77,
   "outputs": [
    {
     "output_type": "display_data",
     "data": {
      "text/plain": [
       "<Figure size 1000x600 with 1 Axes>"
      ],
      "image/png": "[encoded data removed]"
     },
     "metadata": {}
    }
   ]
  },
  {
   "cell_type": "markdown",
   "source": [
    "#### Advanced Models\n",
    "Incorporating additional features significantly improves precision across all advanced models. The Advanced TFIDF Recommender shows a notable increase in precision to 0.597629, indicating that the extra features add valuable information that enhances the relevance of the recommendations. The Advanced Word2Vec Recommender achieves a precision of 0.703803, demonstrating substantial improvement over its baseline counterpart. This improvement signifies that integrating additional features makes this model much more effective in providing relevant recommendations. The Advanced BERT Recommender, with a precision of 0.713317, achieves the highest precision among the purely advanced models. This suggests that BERT embeddings, combined with additional features, provide a very robust understanding of the content, leading to highly relevant recommendations. These results highlight the power of transfer learning, as the models leveraging pre-trained embeddings clearly outperformed the self-trained TFIDF approach in terms of precision."
   ],
   "metadata": {
    "id": "NuGqrrlTJyEN"
   }
  },
  {
   "cell_type": "code",
   "source": [
    "# Filter for advanced models including hybrid model\n",
    "df_advanced_results = results_df[results_df['Model'].str.contains('Advanced') | results_df['Model'].str.contains('BERT Sentiment')]\n",
    "\n",
    "# Plot for Advanced Models with Adjusted Scale and Annotations\n",
    "plt.figure(figsize=(10, 6))\n",
    "advanced_plot = sns.barplot(x=\"Model\", y=\"Precision\", data=df_advanced_results, palette=\"viridis\")\n",
    "plt.xticks(rotation=45, ha=\"right\")\n",
    "plt.title(\"Advanced Model Precision Comparison\")\n",
    "plt.xlabel(\"Model\")\n",
    "plt.ylabel(\"Precision\")\n",
    "plt.ylim(0.5, 0.85)  # Adjust the y-axis limit to ensure all scores are visible\n",
    "\n",
    "# Annotate bars with precision values\n",
    "for p in advanced_plot.patches:\n",
    "    advanced_plot.annotate(format(p.get_height(), '.4f'),\n",
    "                           (p.get_x() + p.get_width() / 2., p.get_height()),\n",
    "                           ha='center', va='center',\n",
    "                           xytext=(0, 9),\n",
    "                           textcoords='offset points')\n",
    "\n",
    "plt.tight_layout()\n",
    "\n",
    "# Display the plot\n",
    "plt.show()"
   ],
   "metadata": {
    "colab": {
     "base_uri": "https://localhost:8080/",
     "height": 607
    },
    "id": "abzEU2unMPe2",
    "outputId": "9f54badf-8426-46f4-bbac-161940bdc556"
   },
   "execution_count": 78,
   "outputs": [
    {
     "output_type": "display_data",
     "data": {
      "text/plain": [
       "<Figure size 1000x600 with 1 Axes>"
      ],
      "image/png": "[encoded data removed]"
     },
     "metadata": {}
    }
   ]
  },
  {
   "cell_type": "markdown",
   "source": [
    "#### Hybrid Model\n",
    "The Word2Vec baseline model performed best in terms of cosine similarity, so combining it with the powerful BERT sentiment analysis is very reasonable. The Word2Vec Recommender with BERT Sentiment has the highest precision score (0.807405), outperforming all other models, including the advanced BERT model. This hybrid approach, which combines Word2Vec embeddings with BERT-based sentiment analysis, demonstrates the value of combining the strengths of two models: Word2Vec for semantic relationships and BERT for nuanced sentiment analysis. As expected, the additional weight assigned to sentiment polarity is a highly influential feature, resulting in the most relevant and accurate recommendations."
   ],
   "metadata": {
    "id": "gQb_0Mv3KKJb"
   }
  },
  {
   "cell_type": "markdown",
   "source": [
    "#### Conclusion\n",
    "The evaluation reveals that adding more features significantly improves the precision of recommendations across all models. When considering cosine similarity and additional features, the BERT-based approach outperforms the other advanced models. However, the hybrid model that combines Word2Vec embeddings with BERT sentiment analysis has the highest precision, indicating that a multifaceted approach that takes advantage of the various models' strengths can result in the most relevant and accurate content-based recommendations."
   ],
   "metadata": {
    "id": "djYclpVyKbWw"
   }
  }
 ],
 "metadata": {
  "language_info": {
   "name": "python"
  },
  "colab": {
   "provenance": [],
   "gpuType": "L4"
  },
  "kernelspec": {
   "name": "python3",
   "display_name": "Python 3"
  },
  "accelerator": "GPU"
 },
 "nbformat": 4,
 "nbformat_minor": 0
}
