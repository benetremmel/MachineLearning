{
 "cells": [
  {
   "cell_type": "markdown",
   "source": [
    "# 1. Introduction"
   ],
   "metadata": {
    "collapsed": false
   }
  },
  {
   "cell_type": "markdown",
   "source": [
    "## 1.1 Overview"
   ],
   "metadata": {
    "collapsed": false
   }
  },
  {
   "cell_type": "markdown",
   "source": [
    "This project aims to build a movie recommendation system for the streaming service **DreamStream**. The system will be based on a dataset containing information about 45,000 movies and 26 million ratings from 270,000 DreamStream users. \n",
    "\n",
    "Recommender systems are essential for platforms like **DreamStream**, enabling them to provide personalized movie recommendations - a key factor in competing with other platforms. However, **DreamStream** is currently facing challenges with increasing user retentions. After several months of evaluation, external consultants have identified a major issue with the current recommender system: it fails to meet user expectations due to inaccurate and not relevant recommendations, increasing the likelihood of subscription cancellations. Thereby, the system's shortcomings are identified to come from its reliance on an oversimplified dataset and its failure to align with current industry standards.\n",
    "\n",
    "In response to this challenge, **DreamStream** expanded their data collection efforts to include a broader range of data types about users and movies. Based on the new data, DreamStream wants to build a new recommender system that aligns with current industry standards. Thereby, the company seeks an independent team to rebuild the system from scratch without being compromised by the methods of the old one. Yet, as deployment comes with several risks and costs, the new system is aimed to be tested offline in the best possible way. As the issue of user retention has been directly linked to the relevance of the recommendations provided, the new system's success will be primarily evaluated based on its accuracy in delivering personalized movie suggestions.\n",
    "\n",
    "**DreamStream** provided the following data, stored in a relational database:\n",
    "\n",
    "- **Movies Metadata**: Contains information about 45,000 movies. This includes data such as the movie title, release date, budget, revenue, genres, keywords, production companies, production countries, spoken languages, and runtime.\n",
    "- **Keywords**: Contains the keywords associated with each movie.\n",
    "- **Credits**: Contains information about the cast and crew of each movie.\n",
    "- **Links**: Contains the links to the IMDB and TMDB pages for each movie.\n",
    "- **Ratings**: Contains 26 million ratings from 270,000 users for all 45,000 movies.\n",
    "\n",
    "\n",
    "The project will be divided into the following steps:\n",
    "1. **Introduction**: An overview of the project and the business problem that needs to be addressed.\n",
    "2. **Data Preprocessing**: The data will be cleaned, transformed, and merged to create a dataset that can be used for an Exploratory Data Analysis (EDA).\n",
    "3. **Exploratory Data Analysis (EDA)**: The data will be analyzed to gain insights into the distribution of movies, ratings, and other relevant information. Some further cleaning and preprocessing steps may be performed during this stage.\n",
    "4. **Feature Engineering**: New features will be created to improve the performance of the recommendation system.\n",
    "5. **Model Building**: Different recommendation algorithms will be implemented and evaluated to determine the best-performing model.\n",
    "6. **Model Evaluation**: The models will be evaluated based on their performance and ability to provide accurate recommendations.\n",
    "7. **Model Deployment**: ....\n",
    "\n",
    "\n",
    "CRISP DM methodology will be followed to ensure a structured and systematic approach to the project. Yet, a preprocessing step will be added to the beginning of the process to ensure the data is cleaned and transformed before the analysis begins. This is nessesary to reduce computational time and to ensure that the data is in the right format for the analysis.\n",
    "\n",
    "The project will be implemented using Python and the following libraries:"
   ],
   "metadata": {
    "collapsed": false
   }
  },
  {
   "cell_type": "code",
   "outputs": [],
   "source": [
    "import pandas as pd\n",
    "import numpy as np\n",
    "import matplotlib.pyplot as plt\n",
    "import seaborn as sns\n",
    "\n"
   ],
   "metadata": {
    "collapsed": false,
    "ExecuteTime": {
     "end_time": "2024-03-29T11:15:30.558775Z",
     "start_time": "2024-03-29T11:15:28.998194Z"
    }
   },
   "execution_count": 1084
  },
  {
   "cell_type": "markdown",
   "source": [
    "# 2. Data Preprocessing"
   ],
   "metadata": {}
  },
  {
   "cell_type": "markdown",
   "metadata": {},
   "source": [
    "## 2.1. Loading Data"
   ]
  },
  {
   "cell_type": "code",
   "execution_count": 994,
   "metadata": {
    "ExecuteTime": {
     "end_time": "2024-03-28T17:08:25.476205Z",
     "start_time": "2024-03-28T17:08:25.472977Z"
    }
   },
   "outputs": [],
   "source": [
    "import pandas as pd\n",
    "import numpy as np\n",
    "import matplotlib.pyplot as plt"
   ]
  },
  {
   "cell_type": "code",
   "execution_count": 995,
   "metadata": {
    "ExecuteTime": {
     "end_time": "2024-03-28T17:08:31.430062Z",
     "start_time": "2024-03-28T17:08:26.243275Z"
    }
   },
   "outputs": [
    {
     "name": "stderr",
     "output_type": "stream",
     "text": [
      "/var/folders/ch/d6cx2m1d2nl8b8c4cm_30td00000gn/T/ipykernel_62217/792521500.py:4: DtypeWarning: Columns (10) have mixed types. Specify dtype option on import or set low_memory=False.\n",
      "  df_movies_metadata = pd.read_csv(\"data/movies_metadata.csv\")\n"
     ]
    }
   ],
   "source": [
    "df_credits = pd.read_csv(\"data/credits.csv\")\n",
    "df_keywords = pd.read_csv(\"data/keywords.csv\")\n",
    "df_links = pd.read_csv(\"data/links.csv\")\n",
    "df_movies_metadata = pd.read_csv(\"data/movies_metadata.csv\")\n",
    "df_ratings = pd.read_csv(\"data/ratings.csv\")"
   ]
  },
  {
   "cell_type": "code",
   "execution_count": 996,
   "metadata": {
    "ExecuteTime": {
     "end_time": "2024-03-28T17:08:31.441584Z",
     "start_time": "2024-03-28T17:08:31.431996Z"
    }
   },
   "outputs": [
    {
     "data": {
      "text/plain": "   adult                              belongs_to_collection    budget  \\\n0  False  {'id': 10194, 'name': 'Toy Story Collection', ...  30000000   \n1  False                                                NaN  65000000   \n2  False  {'id': 119050, 'name': 'Grumpy Old Men Collect...         0   \n3  False                                                NaN  16000000   \n4  False  {'id': 96871, 'name': 'Father of the Bride Col...         0   \n\n                                              genres  \\\n0  [{'id': 16, 'name': 'Animation'}, {'id': 35, '...   \n1  [{'id': 12, 'name': 'Adventure'}, {'id': 14, '...   \n2  [{'id': 10749, 'name': 'Romance'}, {'id': 35, ...   \n3  [{'id': 35, 'name': 'Comedy'}, {'id': 18, 'nam...   \n4                     [{'id': 35, 'name': 'Comedy'}]   \n\n                               homepage     id    imdb_id original_language  \\\n0  http://toystory.disney.com/toy-story    862  tt0114709                en   \n1                                   NaN   8844  tt0113497                en   \n2                                   NaN  15602  tt0113228                en   \n3                                   NaN  31357  tt0114885                en   \n4                                   NaN  11862  tt0113041                en   \n\n                original_title  \\\n0                    Toy Story   \n1                      Jumanji   \n2             Grumpier Old Men   \n3            Waiting to Exhale   \n4  Father of the Bride Part II   \n\n                                            overview  ... release_date  \\\n0  Led by Woody, Andy's toys live happily in his ...  ...   1995-10-30   \n1  When siblings Judy and Peter discover an encha...  ...   1995-12-15   \n2  A family wedding reignites the ancient feud be...  ...   1995-12-22   \n3  Cheated on, mistreated and stepped on, the wom...  ...   1995-12-22   \n4  Just when George Banks has recovered from his ...  ...   1995-02-10   \n\n       revenue runtime                                   spoken_languages  \\\n0  373554033.0    81.0           [{'iso_639_1': 'en', 'name': 'English'}]   \n1  262797249.0   104.0  [{'iso_639_1': 'en', 'name': 'English'}, {'iso...   \n2          0.0   101.0           [{'iso_639_1': 'en', 'name': 'English'}]   \n3   81452156.0   127.0           [{'iso_639_1': 'en', 'name': 'English'}]   \n4   76578911.0   106.0           [{'iso_639_1': 'en', 'name': 'English'}]   \n\n     status                                            tagline  \\\n0  Released                                                NaN   \n1  Released          Roll the dice and unleash the excitement!   \n2  Released  Still Yelling. Still Fighting. Still Ready for...   \n3  Released  Friends are the people who let you be yourself...   \n4  Released  Just When His World Is Back To Normal... He's ...   \n\n                         title  video vote_average vote_count  \n0                    Toy Story  False          7.7     5415.0  \n1                      Jumanji  False          6.9     2413.0  \n2             Grumpier Old Men  False          6.5       92.0  \n3            Waiting to Exhale  False          6.1       34.0  \n4  Father of the Bride Part II  False          5.7      173.0  \n\n[5 rows x 24 columns]",
      "text/html": "<div>\n<style scoped>\n    .dataframe tbody tr th:only-of-type {\n        vertical-align: middle;\n    }\n\n    .dataframe tbody tr th {\n        vertical-align: top;\n    }\n\n    .dataframe thead th {\n        text-align: right;\n    }\n</style>\n<table border=\"1\" class=\"dataframe\">\n  <thead>\n    <tr style=\"text-align: right;\">\n      <th></th>\n      <th>adult</th>\n      <th>belongs_to_collection</th>\n      <th>budget</th>\n      <th>genres</th>\n      <th>homepage</th>\n      <th>id</th>\n      <th>imdb_id</th>\n      <th>original_language</th>\n      <th>original_title</th>\n      <th>overview</th>\n      <th>...</th>\n      <th>release_date</th>\n      <th>revenue</th>\n      <th>runtime</th>\n      <th>spoken_languages</th>\n      <th>status</th>\n      <th>tagline</th>\n      <th>title</th>\n      <th>video</th>\n      <th>vote_average</th>\n      <th>vote_count</th>\n    </tr>\n  </thead>\n  <tbody>\n    <tr>\n      <th>0</th>\n      <td>False</td>\n      <td>{'id': 10194, 'name': 'Toy Story Collection', ...</td>\n      <td>30000000</td>\n      <td>[{'id': 16, 'name': 'Animation'}, {'id': 35, '...</td>\n      <td>http://toystory.disney.com/toy-story</td>\n      <td>862</td>\n      <td>tt0114709</td>\n      <td>en</td>\n      <td>Toy Story</td>\n      <td>Led by Woody, Andy's toys live happily in his ...</td>\n      <td>...</td>\n      <td>1995-10-30</td>\n      <td>373554033.0</td>\n      <td>81.0</td>\n      <td>[{'iso_639_1': 'en', 'name': 'English'}]</td>\n      <td>Released</td>\n      <td>NaN</td>\n      <td>Toy Story</td>\n      <td>False</td>\n      <td>7.7</td>\n      <td>5415.0</td>\n    </tr>\n    <tr>\n      <th>1</th>\n      <td>False</td>\n      <td>NaN</td>\n      <td>65000000</td>\n      <td>[{'id': 12, 'name': 'Adventure'}, {'id': 14, '...</td>\n      <td>NaN</td>\n      <td>8844</td>\n      <td>tt0113497</td>\n      <td>en</td>\n      <td>Jumanji</td>\n      <td>When siblings Judy and Peter discover an encha...</td>\n      <td>...</td>\n      <td>1995-12-15</td>\n      <td>262797249.0</td>\n      <td>104.0</td>\n      <td>[{'iso_639_1': 'en', 'name': 'English'}, {'iso...</td>\n      <td>Released</td>\n      <td>Roll the dice and unleash the excitement!</td>\n      <td>Jumanji</td>\n      <td>False</td>\n      <td>6.9</td>\n      <td>2413.0</td>\n    </tr>\n    <tr>\n      <th>2</th>\n      <td>False</td>\n      <td>{'id': 119050, 'name': 'Grumpy Old Men Collect...</td>\n      <td>0</td>\n      <td>[{'id': 10749, 'name': 'Romance'}, {'id': 35, ...</td>\n      <td>NaN</td>\n      <td>15602</td>\n      <td>tt0113228</td>\n      <td>en</td>\n      <td>Grumpier Old Men</td>\n      <td>A family wedding reignites the ancient feud be...</td>\n      <td>...</td>\n      <td>1995-12-22</td>\n      <td>0.0</td>\n      <td>101.0</td>\n      <td>[{'iso_639_1': 'en', 'name': 'English'}]</td>\n      <td>Released</td>\n      <td>Still Yelling. Still Fighting. Still Ready for...</td>\n      <td>Grumpier Old Men</td>\n      <td>False</td>\n      <td>6.5</td>\n      <td>92.0</td>\n    </tr>\n    <tr>\n      <th>3</th>\n      <td>False</td>\n      <td>NaN</td>\n      <td>16000000</td>\n      <td>[{'id': 35, 'name': 'Comedy'}, {'id': 18, 'nam...</td>\n      <td>NaN</td>\n      <td>31357</td>\n      <td>tt0114885</td>\n      <td>en</td>\n      <td>Waiting to Exhale</td>\n      <td>Cheated on, mistreated and stepped on, the wom...</td>\n      <td>...</td>\n      <td>1995-12-22</td>\n      <td>81452156.0</td>\n      <td>127.0</td>\n      <td>[{'iso_639_1': 'en', 'name': 'English'}]</td>\n      <td>Released</td>\n      <td>Friends are the people who let you be yourself...</td>\n      <td>Waiting to Exhale</td>\n      <td>False</td>\n      <td>6.1</td>\n      <td>34.0</td>\n    </tr>\n    <tr>\n      <th>4</th>\n      <td>False</td>\n      <td>{'id': 96871, 'name': 'Father of the Bride Col...</td>\n      <td>0</td>\n      <td>[{'id': 35, 'name': 'Comedy'}]</td>\n      <td>NaN</td>\n      <td>11862</td>\n      <td>tt0113041</td>\n      <td>en</td>\n      <td>Father of the Bride Part II</td>\n      <td>Just when George Banks has recovered from his ...</td>\n      <td>...</td>\n      <td>1995-02-10</td>\n      <td>76578911.0</td>\n      <td>106.0</td>\n      <td>[{'iso_639_1': 'en', 'name': 'English'}]</td>\n      <td>Released</td>\n      <td>Just When His World Is Back To Normal... He's ...</td>\n      <td>Father of the Bride Part II</td>\n      <td>False</td>\n      <td>5.7</td>\n      <td>173.0</td>\n    </tr>\n  </tbody>\n</table>\n<p>5 rows × 24 columns</p>\n</div>"
     },
     "execution_count": 996,
     "metadata": {},
     "output_type": "execute_result"
    }
   ],
   "source": [
    "df_movies_metadata.head()"
   ]
  },
  {
   "cell_type": "markdown",
   "metadata": {},
   "source": [
    "## 2.2. Removing Unnecessary Columns"
   ]
  },
  {
   "cell_type": "markdown",
   "metadata": {},
   "source": [
    "To reduce computational time at an early stage, we will remove some unnecessary columns from the dataset."
   ]
  },
  {
   "cell_type": "markdown",
   "metadata": {},
   "source": [
    "#### df_ratings, df_credits, df_keywords and df_links"
   ]
  },
  {
   "cell_type": "markdown",
   "metadata": {},
   "source": [
    "For `df_ratings` we keep all columns."
   ]
  },
  {
   "cell_type": "code",
   "execution_count": 997,
   "metadata": {
    "ExecuteTime": {
     "end_time": "2024-03-28T17:08:31.445211Z",
     "start_time": "2024-03-28T17:08:31.442297Z"
    }
   },
   "outputs": [
    {
     "data": {
      "text/plain": "   userId  movieId  rating   timestamp\n0       1      110     1.0  1425941529\n1       1      147     4.5  1425942435\n2       1      858     5.0  1425941523\n3       1     1221     5.0  1425941546\n4       1     1246     5.0  1425941556",
      "text/html": "<div>\n<style scoped>\n    .dataframe tbody tr th:only-of-type {\n        vertical-align: middle;\n    }\n\n    .dataframe tbody tr th {\n        vertical-align: top;\n    }\n\n    .dataframe thead th {\n        text-align: right;\n    }\n</style>\n<table border=\"1\" class=\"dataframe\">\n  <thead>\n    <tr style=\"text-align: right;\">\n      <th></th>\n      <th>userId</th>\n      <th>movieId</th>\n      <th>rating</th>\n      <th>timestamp</th>\n    </tr>\n  </thead>\n  <tbody>\n    <tr>\n      <th>0</th>\n      <td>1</td>\n      <td>110</td>\n      <td>1.0</td>\n      <td>1425941529</td>\n    </tr>\n    <tr>\n      <th>1</th>\n      <td>1</td>\n      <td>147</td>\n      <td>4.5</td>\n      <td>1425942435</td>\n    </tr>\n    <tr>\n      <th>2</th>\n      <td>1</td>\n      <td>858</td>\n      <td>5.0</td>\n      <td>1425941523</td>\n    </tr>\n    <tr>\n      <th>3</th>\n      <td>1</td>\n      <td>1221</td>\n      <td>5.0</td>\n      <td>1425941546</td>\n    </tr>\n    <tr>\n      <th>4</th>\n      <td>1</td>\n      <td>1246</td>\n      <td>5.0</td>\n      <td>1425941556</td>\n    </tr>\n  </tbody>\n</table>\n</div>"
     },
     "execution_count": 997,
     "metadata": {},
     "output_type": "execute_result"
    }
   ],
   "source": [
    "df_ratings.head()"
   ]
  },
  {
   "cell_type": "markdown",
   "metadata": {},
   "source": [
    "`df_credits`"
   ]
  },
  {
   "cell_type": "markdown",
   "metadata": {},
   "source": [
    "Let's drop the crew column as it seems not to contain relevant information for a recommender system. We rather want to focus on the cast here."
   ]
  },
  {
   "cell_type": "code",
   "execution_count": 998,
   "metadata": {
    "ExecuteTime": {
     "end_time": "2024-03-28T17:08:31.449102Z",
     "start_time": "2024-03-28T17:08:31.446289Z"
    }
   },
   "outputs": [
    {
     "data": {
      "text/plain": "                                                cast  \\\n0  [{'cast_id': 14, 'character': 'Woody (voice)',...   \n1  [{'cast_id': 1, 'character': 'Alan Parrish', '...   \n2  [{'cast_id': 2, 'character': 'Max Goldman', 'c...   \n3  [{'cast_id': 1, 'character': \"Savannah 'Vannah...   \n4  [{'cast_id': 1, 'character': 'George Banks', '...   \n\n                                                crew     id  \n0  [{'credit_id': '52fe4284c3a36847f8024f49', 'de...    862  \n1  [{'credit_id': '52fe44bfc3a36847f80a7cd1', 'de...   8844  \n2  [{'credit_id': '52fe466a9251416c75077a89', 'de...  15602  \n3  [{'credit_id': '52fe44779251416c91011acb', 'de...  31357  \n4  [{'credit_id': '52fe44959251416c75039ed7', 'de...  11862  ",
      "text/html": "<div>\n<style scoped>\n    .dataframe tbody tr th:only-of-type {\n        vertical-align: middle;\n    }\n\n    .dataframe tbody tr th {\n        vertical-align: top;\n    }\n\n    .dataframe thead th {\n        text-align: right;\n    }\n</style>\n<table border=\"1\" class=\"dataframe\">\n  <thead>\n    <tr style=\"text-align: right;\">\n      <th></th>\n      <th>cast</th>\n      <th>crew</th>\n      <th>id</th>\n    </tr>\n  </thead>\n  <tbody>\n    <tr>\n      <th>0</th>\n      <td>[{'cast_id': 14, 'character': 'Woody (voice)',...</td>\n      <td>[{'credit_id': '52fe4284c3a36847f8024f49', 'de...</td>\n      <td>862</td>\n    </tr>\n    <tr>\n      <th>1</th>\n      <td>[{'cast_id': 1, 'character': 'Alan Parrish', '...</td>\n      <td>[{'credit_id': '52fe44bfc3a36847f80a7cd1', 'de...</td>\n      <td>8844</td>\n    </tr>\n    <tr>\n      <th>2</th>\n      <td>[{'cast_id': 2, 'character': 'Max Goldman', 'c...</td>\n      <td>[{'credit_id': '52fe466a9251416c75077a89', 'de...</td>\n      <td>15602</td>\n    </tr>\n    <tr>\n      <th>3</th>\n      <td>[{'cast_id': 1, 'character': \"Savannah 'Vannah...</td>\n      <td>[{'credit_id': '52fe44779251416c91011acb', 'de...</td>\n      <td>31357</td>\n    </tr>\n    <tr>\n      <th>4</th>\n      <td>[{'cast_id': 1, 'character': 'George Banks', '...</td>\n      <td>[{'credit_id': '52fe44959251416c75039ed7', 'de...</td>\n      <td>11862</td>\n    </tr>\n  </tbody>\n</table>\n</div>"
     },
     "execution_count": 998,
     "metadata": {},
     "output_type": "execute_result"
    }
   ],
   "source": [
    "df_credits.head()"
   ]
  },
  {
   "cell_type": "code",
   "execution_count": 999,
   "metadata": {
    "ExecuteTime": {
     "end_time": "2024-03-28T17:08:31.482902Z",
     "start_time": "2024-03-28T17:08:31.449657Z"
    }
   },
   "outputs": [],
   "source": [
    "df_credits.drop(columns=\"crew\", inplace=True)"
   ]
  },
  {
   "cell_type": "markdown",
   "metadata": {},
   "source": [
    "For now we keep it like this. We will later extract only the actor's name from the cast column."
   ]
  },
  {
   "cell_type": "markdown",
   "metadata": {},
   "source": [
    "**ToDo: clean column \"cast\" from df_credits (just extract the name)**"
   ]
  },
  {
   "cell_type": "markdown",
   "metadata": {},
   "source": [
    "`df_keywords`"
   ]
  },
  {
   "cell_type": "markdown",
   "metadata": {},
   "source": [
    "Let's keep all columns here. We will later extract the keywords from the column \"keywords\"."
   ]
  },
  {
   "cell_type": "code",
   "execution_count": 1000,
   "metadata": {
    "ExecuteTime": {
     "end_time": "2024-03-28T17:08:31.486163Z",
     "start_time": "2024-03-28T17:08:31.483557Z"
    }
   },
   "outputs": [
    {
     "data": {
      "text/plain": "      id                                           keywords\n0    862  [{'id': 931, 'name': 'jealousy'}, {'id': 4290,...\n1   8844  [{'id': 10090, 'name': 'board game'}, {'id': 1...\n2  15602  [{'id': 1495, 'name': 'fishing'}, {'id': 12392...\n3  31357  [{'id': 818, 'name': 'based on novel'}, {'id':...\n4  11862  [{'id': 1009, 'name': 'baby'}, {'id': 1599, 'n...",
      "text/html": "<div>\n<style scoped>\n    .dataframe tbody tr th:only-of-type {\n        vertical-align: middle;\n    }\n\n    .dataframe tbody tr th {\n        vertical-align: top;\n    }\n\n    .dataframe thead th {\n        text-align: right;\n    }\n</style>\n<table border=\"1\" class=\"dataframe\">\n  <thead>\n    <tr style=\"text-align: right;\">\n      <th></th>\n      <th>id</th>\n      <th>keywords</th>\n    </tr>\n  </thead>\n  <tbody>\n    <tr>\n      <th>0</th>\n      <td>862</td>\n      <td>[{'id': 931, 'name': 'jealousy'}, {'id': 4290,...</td>\n    </tr>\n    <tr>\n      <th>1</th>\n      <td>8844</td>\n      <td>[{'id': 10090, 'name': 'board game'}, {'id': 1...</td>\n    </tr>\n    <tr>\n      <th>2</th>\n      <td>15602</td>\n      <td>[{'id': 1495, 'name': 'fishing'}, {'id': 12392...</td>\n    </tr>\n    <tr>\n      <th>3</th>\n      <td>31357</td>\n      <td>[{'id': 818, 'name': 'based on novel'}, {'id':...</td>\n    </tr>\n    <tr>\n      <th>4</th>\n      <td>11862</td>\n      <td>[{'id': 1009, 'name': 'baby'}, {'id': 1599, 'n...</td>\n    </tr>\n  </tbody>\n</table>\n</div>"
     },
     "execution_count": 1000,
     "metadata": {},
     "output_type": "execute_result"
    }
   ],
   "source": [
    "df_keywords.head()"
   ]
  },
  {
   "cell_type": "code",
   "execution_count": 1001,
   "metadata": {
    "ExecuteTime": {
     "end_time": "2024-03-28T17:08:31.488533Z",
     "start_time": "2024-03-28T17:08:31.486708Z"
    }
   },
   "outputs": [
    {
     "data": {
      "text/plain": "\"[{'id': 931, 'name': 'jealousy'}, {'id': 4290, 'name': 'toy'}, {'id': 5202, 'name': 'boy'}, {'id': 6054, 'name': 'friendship'}, {'id': 9713, 'name': 'friends'}, {'id': 9823, 'name': 'rivalry'}, {'id': 165503, 'name': 'boy next door'}, {'id': 170722, 'name': 'new toy'}, {'id': 187065, 'name': 'toy comes to life'}]\""
     },
     "execution_count": 1001,
     "metadata": {},
     "output_type": "execute_result"
    }
   ],
   "source": [
    "df_keywords.iloc[0,1]"
   ]
  },
  {
   "cell_type": "markdown",
   "metadata": {},
   "source": [
    "**ToDo: maybe clean column \"keywords\" in df_keywords (only keep name)**"
   ]
  },
  {
   "cell_type": "markdown",
   "metadata": {},
   "source": [
    "`df_links`"
   ]
  },
  {
   "cell_type": "markdown",
   "metadata": {},
   "source": [
    "Let's keep all columns here"
   ]
  },
  {
   "cell_type": "code",
   "execution_count": 1002,
   "metadata": {
    "ExecuteTime": {
     "end_time": "2024-03-28T17:08:31.491758Z",
     "start_time": "2024-03-28T17:08:31.488954Z"
    }
   },
   "outputs": [
    {
     "data": {
      "text/plain": "   movieId  imdbId   tmdbId\n0        1  114709    862.0\n1        2  113497   8844.0\n2        3  113228  15602.0\n3        4  114885  31357.0\n4        5  113041  11862.0",
      "text/html": "<div>\n<style scoped>\n    .dataframe tbody tr th:only-of-type {\n        vertical-align: middle;\n    }\n\n    .dataframe tbody tr th {\n        vertical-align: top;\n    }\n\n    .dataframe thead th {\n        text-align: right;\n    }\n</style>\n<table border=\"1\" class=\"dataframe\">\n  <thead>\n    <tr style=\"text-align: right;\">\n      <th></th>\n      <th>movieId</th>\n      <th>imdbId</th>\n      <th>tmdbId</th>\n    </tr>\n  </thead>\n  <tbody>\n    <tr>\n      <th>0</th>\n      <td>1</td>\n      <td>114709</td>\n      <td>862.0</td>\n    </tr>\n    <tr>\n      <th>1</th>\n      <td>2</td>\n      <td>113497</td>\n      <td>8844.0</td>\n    </tr>\n    <tr>\n      <th>2</th>\n      <td>3</td>\n      <td>113228</td>\n      <td>15602.0</td>\n    </tr>\n    <tr>\n      <th>3</th>\n      <td>4</td>\n      <td>114885</td>\n      <td>31357.0</td>\n    </tr>\n    <tr>\n      <th>4</th>\n      <td>5</td>\n      <td>113041</td>\n      <td>11862.0</td>\n    </tr>\n  </tbody>\n</table>\n</div>"
     },
     "execution_count": 1002,
     "metadata": {},
     "output_type": "execute_result"
    }
   ],
   "source": [
    "df_links.head()"
   ]
  },
  {
   "cell_type": "markdown",
   "metadata": {},
   "source": [
    "#### df_movies_metadata"
   ]
  },
  {
   "cell_type": "markdown",
   "metadata": {},
   "source": [
    "We will also drop some columns for the df_movies_metadata dataset. "
   ]
  },
  {
   "cell_type": "code",
   "execution_count": 1003,
   "metadata": {
    "ExecuteTime": {
     "end_time": "2024-03-28T17:08:31.494106Z",
     "start_time": "2024-03-28T17:08:31.492301Z"
    }
   },
   "outputs": [
    {
     "data": {
      "text/plain": "Index(['adult', 'belongs_to_collection', 'budget', 'genres', 'homepage', 'id',\n       'imdb_id', 'original_language', 'original_title', 'overview',\n       'popularity', 'poster_path', 'production_companies',\n       'production_countries', 'release_date', 'revenue', 'runtime',\n       'spoken_languages', 'status', 'tagline', 'title', 'video',\n       'vote_average', 'vote_count'],\n      dtype='object')"
     },
     "execution_count": 1003,
     "metadata": {},
     "output_type": "execute_result"
    }
   ],
   "source": [
    "df_movies_metadata.columns"
   ]
  },
  {
   "cell_type": "markdown",
   "metadata": {},
   "source": [
    "`adult`"
   ]
  },
  {
   "cell_type": "code",
   "execution_count": 1004,
   "metadata": {
    "ExecuteTime": {
     "end_time": "2024-03-28T17:08:31.501821Z",
     "start_time": "2024-03-28T17:08:31.495683Z"
    }
   },
   "outputs": [
    {
     "data": {
      "text/plain": "adult\nFalse                                                                                                                             45454\nTrue                                                                                                                                  9\n - Written by Ørnås                                                                                                                   1\n Rune Balot goes to a casino connected to the October corporation to try to wrap up her case once and for all.                        1\n Avalanche Sharks tells the story of a bikini contest that turns into a horrifying affair when it is hit by a shark avalanche.        1\nName: count, dtype: int64"
     },
     "execution_count": 1004,
     "metadata": {},
     "output_type": "execute_result"
    }
   ],
   "source": [
    "df_movies_metadata[\"adult\"].value_counts()"
   ]
  },
  {
   "cell_type": "markdown",
   "metadata": {},
   "source": [
    "As only a very small portion of the values are True and we have some wrong entries. The column does not give any insights regarding future model building. Therefore, this column will be dropped."
   ]
  },
  {
   "cell_type": "code",
   "execution_count": 1005,
   "metadata": {
    "ExecuteTime": {
     "end_time": "2024-03-28T17:08:31.522647Z",
     "start_time": "2024-03-28T17:08:31.502333Z"
    }
   },
   "outputs": [],
   "source": [
    "df_movies_metadata.drop(columns=\"adult\", inplace=True)"
   ]
  },
  {
   "cell_type": "markdown",
   "metadata": {},
   "source": [
    "`belongs_to_collection`"
   ]
  },
  {
   "cell_type": "code",
   "execution_count": 1006,
   "metadata": {
    "ExecuteTime": {
     "end_time": "2024-03-28T17:08:31.539531Z",
     "start_time": "2024-03-28T17:08:31.524215Z"
    }
   },
   "outputs": [
    {
     "data": {
      "text/plain": "                                   belongs_to_collection     budget  \\\n0      {'id': 10194, 'name': 'Toy Story Collection', ...   30000000   \n2997   {'id': 10194, 'name': 'Toy Story Collection', ...   90000000   \n15348  {'id': 10194, 'name': 'Toy Story Collection', ...  200000000   \n\n                                                  genres  \\\n0      [{'id': 16, 'name': 'Animation'}, {'id': 35, '...   \n2997   [{'id': 16, 'name': 'Animation'}, {'id': 35, '...   \n15348  [{'id': 16, 'name': 'Animation'}, {'id': 10751...   \n\n                                     homepage     id    imdb_id  \\\n0        http://toystory.disney.com/toy-story    862  tt0114709   \n2997   http://toystory.disney.com/toy-story-2    863  tt0120363   \n15348          http://disney.go.com/toystory/  10193  tt0435761   \n\n      original_language original_title  \\\n0                    en      Toy Story   \n2997                 en    Toy Story 2   \n15348                en    Toy Story 3   \n\n                                                overview popularity  ...  \\\n0      Led by Woody, Andy's toys live happily in his ...  21.946943  ...   \n2997   Andy heads off to Cowboy Camp, leaving his toy...  17.547693  ...   \n15348  Woody, Buzz, and the rest of Andy's toys haven...   16.96647  ...   \n\n      release_date       revenue runtime  \\\n0       1995-10-30  3.735540e+08    81.0   \n2997    1999-10-30  4.973669e+08    92.0   \n15348   2010-06-16  1.066970e+09   103.0   \n\n                                        spoken_languages    status  \\\n0               [{'iso_639_1': 'en', 'name': 'English'}]  Released   \n2997            [{'iso_639_1': 'en', 'name': 'English'}]  Released   \n15348  [{'iso_639_1': 'en', 'name': 'English'}, {'iso...  Released   \n\n                        tagline        title  video vote_average vote_count  \n0                           NaN    Toy Story  False          7.7     5415.0  \n2997         The toys are back!  Toy Story 2  False          7.3     3914.0  \n15348  No toy gets left behind.  Toy Story 3  False          7.6     4710.0  \n\n[3 rows x 23 columns]",
      "text/html": "<div>\n<style scoped>\n    .dataframe tbody tr th:only-of-type {\n        vertical-align: middle;\n    }\n\n    .dataframe tbody tr th {\n        vertical-align: top;\n    }\n\n    .dataframe thead th {\n        text-align: right;\n    }\n</style>\n<table border=\"1\" class=\"dataframe\">\n  <thead>\n    <tr style=\"text-align: right;\">\n      <th></th>\n      <th>belongs_to_collection</th>\n      <th>budget</th>\n      <th>genres</th>\n      <th>homepage</th>\n      <th>id</th>\n      <th>imdb_id</th>\n      <th>original_language</th>\n      <th>original_title</th>\n      <th>overview</th>\n      <th>popularity</th>\n      <th>...</th>\n      <th>release_date</th>\n      <th>revenue</th>\n      <th>runtime</th>\n      <th>spoken_languages</th>\n      <th>status</th>\n      <th>tagline</th>\n      <th>title</th>\n      <th>video</th>\n      <th>vote_average</th>\n      <th>vote_count</th>\n    </tr>\n  </thead>\n  <tbody>\n    <tr>\n      <th>0</th>\n      <td>{'id': 10194, 'name': 'Toy Story Collection', ...</td>\n      <td>30000000</td>\n      <td>[{'id': 16, 'name': 'Animation'}, {'id': 35, '...</td>\n      <td>http://toystory.disney.com/toy-story</td>\n      <td>862</td>\n      <td>tt0114709</td>\n      <td>en</td>\n      <td>Toy Story</td>\n      <td>Led by Woody, Andy's toys live happily in his ...</td>\n      <td>21.946943</td>\n      <td>...</td>\n      <td>1995-10-30</td>\n      <td>3.735540e+08</td>\n      <td>81.0</td>\n      <td>[{'iso_639_1': 'en', 'name': 'English'}]</td>\n      <td>Released</td>\n      <td>NaN</td>\n      <td>Toy Story</td>\n      <td>False</td>\n      <td>7.7</td>\n      <td>5415.0</td>\n    </tr>\n    <tr>\n      <th>2997</th>\n      <td>{'id': 10194, 'name': 'Toy Story Collection', ...</td>\n      <td>90000000</td>\n      <td>[{'id': 16, 'name': 'Animation'}, {'id': 35, '...</td>\n      <td>http://toystory.disney.com/toy-story-2</td>\n      <td>863</td>\n      <td>tt0120363</td>\n      <td>en</td>\n      <td>Toy Story 2</td>\n      <td>Andy heads off to Cowboy Camp, leaving his toy...</td>\n      <td>17.547693</td>\n      <td>...</td>\n      <td>1999-10-30</td>\n      <td>4.973669e+08</td>\n      <td>92.0</td>\n      <td>[{'iso_639_1': 'en', 'name': 'English'}]</td>\n      <td>Released</td>\n      <td>The toys are back!</td>\n      <td>Toy Story 2</td>\n      <td>False</td>\n      <td>7.3</td>\n      <td>3914.0</td>\n    </tr>\n    <tr>\n      <th>15348</th>\n      <td>{'id': 10194, 'name': 'Toy Story Collection', ...</td>\n      <td>200000000</td>\n      <td>[{'id': 16, 'name': 'Animation'}, {'id': 10751...</td>\n      <td>http://disney.go.com/toystory/</td>\n      <td>10193</td>\n      <td>tt0435761</td>\n      <td>en</td>\n      <td>Toy Story 3</td>\n      <td>Woody, Buzz, and the rest of Andy's toys haven...</td>\n      <td>16.96647</td>\n      <td>...</td>\n      <td>2010-06-16</td>\n      <td>1.066970e+09</td>\n      <td>103.0</td>\n      <td>[{'iso_639_1': 'en', 'name': 'English'}, {'iso...</td>\n      <td>Released</td>\n      <td>No toy gets left behind.</td>\n      <td>Toy Story 3</td>\n      <td>False</td>\n      <td>7.6</td>\n      <td>4710.0</td>\n    </tr>\n  </tbody>\n</table>\n<p>3 rows × 23 columns</p>\n</div>"
     },
     "execution_count": 1006,
     "metadata": {},
     "output_type": "execute_result"
    }
   ],
   "source": [
    "df_movies_metadata[df_movies_metadata[\"belongs_to_collection\"] == \"{'id': 10194, 'name': 'Toy Story Collection', 'poster_path': '/7G9915LfUQ2lVfwMEEhDsn3kT4B.jpg', 'backdrop_path': '/9FBwqcd9IRruEDUrTdcaafOMKUq.jpg'}\"]"
   ]
  },
  {
   "cell_type": "markdown",
   "metadata": {},
   "source": [
    "It could be possible that there is a value in the column \"belongs_to_collection\" when there are several versions of the film. However, we are not sure about that yet!"
   ]
  },
  {
   "cell_type": "markdown",
   "metadata": {},
   "source": [
    "Let's examine the columns `budget` and `revenue`."
   ]
  },
  {
   "cell_type": "code",
   "execution_count": 1007,
   "metadata": {
    "ExecuteTime": {
     "end_time": "2024-03-28T17:08:31.550767Z",
     "start_time": "2024-03-28T17:08:31.540032Z"
    }
   },
   "outputs": [
    {
     "data": {
      "text/plain": "0.8369330928605991"
     },
     "execution_count": 1007,
     "metadata": {},
     "output_type": "execute_result"
    }
   ],
   "source": [
    "len(df_movies_metadata[df_movies_metadata[\"revenue\"] == 0.0]) / len(df_movies_metadata)"
   ]
  },
  {
   "cell_type": "code",
   "execution_count": 1008,
   "metadata": {
    "ExecuteTime": {
     "end_time": "2024-03-28T17:08:31.561915Z",
     "start_time": "2024-03-28T17:08:31.551237Z"
    }
   },
   "outputs": [
    {
     "data": {
      "text/plain": "0.8044032903708266"
     },
     "execution_count": 1008,
     "metadata": {},
     "output_type": "execute_result"
    }
   ],
   "source": [
    "len(df_movies_metadata[df_movies_metadata[\"budget\"] == \"0\"]) / len(df_movies_metadata)"
   ]
  },
  {
   "cell_type": "markdown",
   "metadata": {},
   "source": [
    "84% of all rows in \"revenue\" and 80% of all rows in \"budget\" have a value of 0, so those values are simply unknown as it is unrealistic that that many movies have 0 budget and 0 revenue. Therefore, those columns will be dropped."
   ]
  },
  {
   "cell_type": "code",
   "execution_count": 1009,
   "metadata": {
    "ExecuteTime": {
     "end_time": "2024-03-28T17:08:31.571180Z",
     "start_time": "2024-03-28T17:08:31.562437Z"
    }
   },
   "outputs": [],
   "source": [
    "df_movies_metadata.drop(columns=[\"revenue\", \"budget\"], inplace=True)"
   ]
  },
  {
   "cell_type": "markdown",
   "metadata": {},
   "source": [
    "Let's examine the difference between the columns `original_title` and `title`."
   ]
  },
  {
   "cell_type": "code",
   "execution_count": 1010,
   "metadata": {
    "ExecuteTime": {
     "end_time": "2024-03-28T17:08:31.579388Z",
     "start_time": "2024-03-28T17:08:31.571693Z"
    }
   },
   "outputs": [
    {
     "data": {
      "text/plain": "0.2507808032375841"
     },
     "execution_count": 1010,
     "metadata": {},
     "output_type": "execute_result"
    }
   ],
   "source": [
    "len(df_movies_metadata[df_movies_metadata[\"original_title\"] != df_movies_metadata[\"title\"]]) / len(df_movies_metadata)"
   ]
  },
  {
   "cell_type": "markdown",
   "metadata": {},
   "source": [
    "Only 25% original_title values are the same as the title values. Let's examine some cases where we have different entries:"
   ]
  },
  {
   "cell_type": "code",
   "execution_count": 1011,
   "metadata": {
    "ExecuteTime": {
     "end_time": "2024-03-28T17:08:31.601328Z",
     "start_time": "2024-03-28T17:08:31.580349Z"
    }
   },
   "outputs": [
    {
     "data": {
      "text/plain": "      belongs_to_collection  \\\n28                      NaN   \n29                      NaN   \n32                      NaN   \n57                      NaN   \n58                      NaN   \n...                     ...   \n45453                   NaN   \n45455                   NaN   \n45461                   NaN   \n45462                   NaN   \n45464                   NaN   \n\n                                                  genres  \\\n28     [{'id': 14, 'name': 'Fantasy'}, {'id': 878, 'n...   \n29     [{'id': 18, 'name': 'Drama'}, {'id': 80, 'name...   \n32     [{'id': 10749, 'name': 'Romance'}, {'id': 12, ...   \n57     [{'id': 35, 'name': 'Comedy'}, {'id': 18, 'nam...   \n58     [{'id': 53, 'name': 'Thriller'}, {'id': 18, 'n...   \n...                                                  ...   \n45453  [{'id': 80, 'name': 'Crime'}, {'id': 18, 'name...   \n45455                                                 []   \n45461  [{'id': 18, 'name': 'Drama'}, {'id': 10751, 'n...   \n45462                      [{'id': 18, 'name': 'Drama'}]   \n45464                                                 []   \n\n                                   homepage      id    imdb_id  \\\n28                                      NaN     902  tt0112682   \n29                                      NaN   37557  tt0115012   \n32                                      NaN   78802  tt0114952   \n57                                      NaN   11010  tt0110877   \n58                                      NaN   99040  tt0112714   \n...                                     ...     ...        ...   \n45453                                   NaN  404604  tt5690142   \n45455                                   NaN   67179  tt0069215   \n45461  http://www.imdb.com/title/tt6209470/  439050  tt6209470   \n45462                                   NaN  111109  tt2028550   \n45464                                   NaN  227506  tt0008536   \n\n      original_language                    original_title  \\\n28                   fr        La Cité des Enfants Perdus   \n29                   zh                         摇啊摇，摇到外婆桥   \n32                   fr  Guillaumet, les ailes du courage   \n57                   it                        Il postino   \n58                   fr                  Le confessionnal   \n...                 ...                               ...   \n45453                hi                               Maa   \n45455                it        San Michele aveva un gallo   \n45461                fa                           رگ خواب   \n45462                tl               Siglo ng Pagluluwal   \n45464                en               Satana likuyushchiy   \n\n                                                overview popularity  \\\n28     A scientist in a surrealist society kidnaps ch...   9.822423   \n29     A provincial boy related to a Shanghai crime f...   1.100915   \n32                                                   NaN   0.745542   \n57     Simple Italian postman learns to love poetry w...  10.168437   \n58     The year is 1952, in Quebec City. Rachel (16),...   0.120789   \n...                                                  ...        ...   \n45453  The bliss of a biology teacher’s family life i...   1.559596   \n45455  Sentenced to life imprisonment for illegal act...   0.225051   \n45461        Rising and falling between a man and woman.   0.072051   \n45462  An artist struggles to finish his work while a...   0.178241   \n45464  In a small town live two brothers, one a minis...   0.003503   \n\n                            poster_path  ...  \\\n28     /eVo6ewq4akfyJYy3GXkMsLNzEJc.jpg  ...   \n29     /qcoOCoN7viOhboGwhYXyApdDuiq.jpg  ...   \n32     /k6ODtR38dKEfuzSGjggr8KDyAF4.jpg  ...   \n57     /qkq2JfINRQi4Iu9VTMMtQFfmGWZ.jpg  ...   \n58     /8RCRrSAY8e3Qn5p9cNv188ogmZQ.jpg  ...   \n...                                 ...  ...   \n45453  /zZwbntqdfKdVgzH1RoMHa99g0mJ.jpg  ...   \n45455  /j1AN0L4motTt8SBxeTMXDtExsYl.jpg  ...   \n45461  /jldsYflnId4tTWPx8es3uzsB1I8.jpg  ...   \n45462  /xZkmxsNmYXJbKVsTRLLx3pqGHx7.jpg  ...   \n45464  /aorBPO7ak8e8iJKT5OcqYxU3jlK.jpg  ...   \n\n                                    production_countries release_date runtime  \\\n28     [{'iso_3166_1': 'FR', 'name': 'France'}, {'iso...   1995-05-16   108.0   \n29     [{'iso_3166_1': 'CN', 'name': 'China'}, {'iso_...   1995-04-30   108.0   \n32     [{'iso_3166_1': 'FR', 'name': 'France'}, {'iso...   1996-09-18    50.0   \n57     [{'iso_3166_1': 'BE', 'name': 'Belgium'}, {'is...   1994-09-22   108.0   \n58              [{'iso_3166_1': 'CA', 'name': 'Canada'}]   1995-09-29   100.0   \n...                                                  ...          ...     ...   \n45453            [{'iso_3166_1': 'IN', 'name': 'India'}]   2017-07-07   146.0   \n45455                                                 []   1972-01-01    90.0   \n45461             [{'iso_3166_1': 'IR', 'name': 'Iran'}]          NaN    90.0   \n45462      [{'iso_3166_1': 'PH', 'name': 'Philippines'}]   2011-11-17   360.0   \n45464           [{'iso_3166_1': 'RU', 'name': 'Russia'}]   1917-10-21    87.0   \n\n                                        spoken_languages    status  \\\n28     [{'iso_639_1': 'cn', 'name': '广州话 / 廣州話'}, {'i...  Released   \n29                  [{'iso_639_1': 'zh', 'name': '普通话'}]  Released   \n32              [{'iso_639_1': 'en', 'name': 'English'}]  Released   \n57     [{'iso_639_1': 'it', 'name': 'Italiano'}, {'is...  Released   \n58     [{'iso_639_1': 'en', 'name': 'English'}, {'iso...  Released   \n...                                                  ...       ...   \n45453            [{'iso_639_1': 'hi', 'name': 'हिन्दी'}]  Released   \n45455          [{'iso_639_1': 'it', 'name': 'Italiano'}]  Released   \n45461             [{'iso_639_1': 'fa', 'name': 'فارسی'}]  Released   \n45462                  [{'iso_639_1': 'tl', 'name': ''}]  Released   \n45464                                                 []  Released   \n\n                                                 tagline  \\\n28             Where happily ever after is just a dream.   \n29     In 1930's Shanghai violence was not the proble...   \n32                                                   NaN   \n57                                                   NaN   \n58                                                   NaN   \n...                                                  ...   \n45453                                                NaN   \n45455                                                NaN   \n45461         Rising and falling between a man and woman   \n45462                                                NaN   \n45464                                                NaN   \n\n                           title  video vote_average  vote_count  \n28     The City of Lost Children  False          7.6       308.0  \n29                Shanghai Triad  False          6.5        17.0  \n32              Wings of Courage  False          6.8         4.0  \n57                   The Postman  False          7.6       181.0  \n58              The Confessional  False          6.5         2.0  \n...                          ...    ...          ...         ...  \n45453                        Mom  False          6.6        14.0  \n45455  St. Michael Had a Rooster  False          6.0         3.0  \n45461                     Subdue  False          4.0         1.0  \n45462        Century of Birthing  False          9.0         3.0  \n45464           Satan Triumphant  False          0.0         0.0  \n\n[11402 rows x 21 columns]",
      "text/html": "<div>\n<style scoped>\n    .dataframe tbody tr th:only-of-type {\n        vertical-align: middle;\n    }\n\n    .dataframe tbody tr th {\n        vertical-align: top;\n    }\n\n    .dataframe thead th {\n        text-align: right;\n    }\n</style>\n<table border=\"1\" class=\"dataframe\">\n  <thead>\n    <tr style=\"text-align: right;\">\n      <th></th>\n      <th>belongs_to_collection</th>\n      <th>genres</th>\n      <th>homepage</th>\n      <th>id</th>\n      <th>imdb_id</th>\n      <th>original_language</th>\n      <th>original_title</th>\n      <th>overview</th>\n      <th>popularity</th>\n      <th>poster_path</th>\n      <th>...</th>\n      <th>production_countries</th>\n      <th>release_date</th>\n      <th>runtime</th>\n      <th>spoken_languages</th>\n      <th>status</th>\n      <th>tagline</th>\n      <th>title</th>\n      <th>video</th>\n      <th>vote_average</th>\n      <th>vote_count</th>\n    </tr>\n  </thead>\n  <tbody>\n    <tr>\n      <th>28</th>\n      <td>NaN</td>\n      <td>[{'id': 14, 'name': 'Fantasy'}, {'id': 878, 'n...</td>\n      <td>NaN</td>\n      <td>902</td>\n      <td>tt0112682</td>\n      <td>fr</td>\n      <td>La Cité des Enfants Perdus</td>\n      <td>A scientist in a surrealist society kidnaps ch...</td>\n      <td>9.822423</td>\n      <td>/eVo6ewq4akfyJYy3GXkMsLNzEJc.jpg</td>\n      <td>...</td>\n      <td>[{'iso_3166_1': 'FR', 'name': 'France'}, {'iso...</td>\n      <td>1995-05-16</td>\n      <td>108.0</td>\n      <td>[{'iso_639_1': 'cn', 'name': '广州话 / 廣州話'}, {'i...</td>\n      <td>Released</td>\n      <td>Where happily ever after is just a dream.</td>\n      <td>The City of Lost Children</td>\n      <td>False</td>\n      <td>7.6</td>\n      <td>308.0</td>\n    </tr>\n    <tr>\n      <th>29</th>\n      <td>NaN</td>\n      <td>[{'id': 18, 'name': 'Drama'}, {'id': 80, 'name...</td>\n      <td>NaN</td>\n      <td>37557</td>\n      <td>tt0115012</td>\n      <td>zh</td>\n      <td>摇啊摇，摇到外婆桥</td>\n      <td>A provincial boy related to a Shanghai crime f...</td>\n      <td>1.100915</td>\n      <td>/qcoOCoN7viOhboGwhYXyApdDuiq.jpg</td>\n      <td>...</td>\n      <td>[{'iso_3166_1': 'CN', 'name': 'China'}, {'iso_...</td>\n      <td>1995-04-30</td>\n      <td>108.0</td>\n      <td>[{'iso_639_1': 'zh', 'name': '普通话'}]</td>\n      <td>Released</td>\n      <td>In 1930's Shanghai violence was not the proble...</td>\n      <td>Shanghai Triad</td>\n      <td>False</td>\n      <td>6.5</td>\n      <td>17.0</td>\n    </tr>\n    <tr>\n      <th>32</th>\n      <td>NaN</td>\n      <td>[{'id': 10749, 'name': 'Romance'}, {'id': 12, ...</td>\n      <td>NaN</td>\n      <td>78802</td>\n      <td>tt0114952</td>\n      <td>fr</td>\n      <td>Guillaumet, les ailes du courage</td>\n      <td>NaN</td>\n      <td>0.745542</td>\n      <td>/k6ODtR38dKEfuzSGjggr8KDyAF4.jpg</td>\n      <td>...</td>\n      <td>[{'iso_3166_1': 'FR', 'name': 'France'}, {'iso...</td>\n      <td>1996-09-18</td>\n      <td>50.0</td>\n      <td>[{'iso_639_1': 'en', 'name': 'English'}]</td>\n      <td>Released</td>\n      <td>NaN</td>\n      <td>Wings of Courage</td>\n      <td>False</td>\n      <td>6.8</td>\n      <td>4.0</td>\n    </tr>\n    <tr>\n      <th>57</th>\n      <td>NaN</td>\n      <td>[{'id': 35, 'name': 'Comedy'}, {'id': 18, 'nam...</td>\n      <td>NaN</td>\n      <td>11010</td>\n      <td>tt0110877</td>\n      <td>it</td>\n      <td>Il postino</td>\n      <td>Simple Italian postman learns to love poetry w...</td>\n      <td>10.168437</td>\n      <td>/qkq2JfINRQi4Iu9VTMMtQFfmGWZ.jpg</td>\n      <td>...</td>\n      <td>[{'iso_3166_1': 'BE', 'name': 'Belgium'}, {'is...</td>\n      <td>1994-09-22</td>\n      <td>108.0</td>\n      <td>[{'iso_639_1': 'it', 'name': 'Italiano'}, {'is...</td>\n      <td>Released</td>\n      <td>NaN</td>\n      <td>The Postman</td>\n      <td>False</td>\n      <td>7.6</td>\n      <td>181.0</td>\n    </tr>\n    <tr>\n      <th>58</th>\n      <td>NaN</td>\n      <td>[{'id': 53, 'name': 'Thriller'}, {'id': 18, 'n...</td>\n      <td>NaN</td>\n      <td>99040</td>\n      <td>tt0112714</td>\n      <td>fr</td>\n      <td>Le confessionnal</td>\n      <td>The year is 1952, in Quebec City. Rachel (16),...</td>\n      <td>0.120789</td>\n      <td>/8RCRrSAY8e3Qn5p9cNv188ogmZQ.jpg</td>\n      <td>...</td>\n      <td>[{'iso_3166_1': 'CA', 'name': 'Canada'}]</td>\n      <td>1995-09-29</td>\n      <td>100.0</td>\n      <td>[{'iso_639_1': 'en', 'name': 'English'}, {'iso...</td>\n      <td>Released</td>\n      <td>NaN</td>\n      <td>The Confessional</td>\n      <td>False</td>\n      <td>6.5</td>\n      <td>2.0</td>\n    </tr>\n    <tr>\n      <th>...</th>\n      <td>...</td>\n      <td>...</td>\n      <td>...</td>\n      <td>...</td>\n      <td>...</td>\n      <td>...</td>\n      <td>...</td>\n      <td>...</td>\n      <td>...</td>\n      <td>...</td>\n      <td>...</td>\n      <td>...</td>\n      <td>...</td>\n      <td>...</td>\n      <td>...</td>\n      <td>...</td>\n      <td>...</td>\n      <td>...</td>\n      <td>...</td>\n      <td>...</td>\n      <td>...</td>\n    </tr>\n    <tr>\n      <th>45453</th>\n      <td>NaN</td>\n      <td>[{'id': 80, 'name': 'Crime'}, {'id': 18, 'name...</td>\n      <td>NaN</td>\n      <td>404604</td>\n      <td>tt5690142</td>\n      <td>hi</td>\n      <td>Maa</td>\n      <td>The bliss of a biology teacher’s family life i...</td>\n      <td>1.559596</td>\n      <td>/zZwbntqdfKdVgzH1RoMHa99g0mJ.jpg</td>\n      <td>...</td>\n      <td>[{'iso_3166_1': 'IN', 'name': 'India'}]</td>\n      <td>2017-07-07</td>\n      <td>146.0</td>\n      <td>[{'iso_639_1': 'hi', 'name': 'हिन्दी'}]</td>\n      <td>Released</td>\n      <td>NaN</td>\n      <td>Mom</td>\n      <td>False</td>\n      <td>6.6</td>\n      <td>14.0</td>\n    </tr>\n    <tr>\n      <th>45455</th>\n      <td>NaN</td>\n      <td>[]</td>\n      <td>NaN</td>\n      <td>67179</td>\n      <td>tt0069215</td>\n      <td>it</td>\n      <td>San Michele aveva un gallo</td>\n      <td>Sentenced to life imprisonment for illegal act...</td>\n      <td>0.225051</td>\n      <td>/j1AN0L4motTt8SBxeTMXDtExsYl.jpg</td>\n      <td>...</td>\n      <td>[]</td>\n      <td>1972-01-01</td>\n      <td>90.0</td>\n      <td>[{'iso_639_1': 'it', 'name': 'Italiano'}]</td>\n      <td>Released</td>\n      <td>NaN</td>\n      <td>St. Michael Had a Rooster</td>\n      <td>False</td>\n      <td>6.0</td>\n      <td>3.0</td>\n    </tr>\n    <tr>\n      <th>45461</th>\n      <td>NaN</td>\n      <td>[{'id': 18, 'name': 'Drama'}, {'id': 10751, 'n...</td>\n      <td>http://www.imdb.com/title/tt6209470/</td>\n      <td>439050</td>\n      <td>tt6209470</td>\n      <td>fa</td>\n      <td>رگ خواب</td>\n      <td>Rising and falling between a man and woman.</td>\n      <td>0.072051</td>\n      <td>/jldsYflnId4tTWPx8es3uzsB1I8.jpg</td>\n      <td>...</td>\n      <td>[{'iso_3166_1': 'IR', 'name': 'Iran'}]</td>\n      <td>NaN</td>\n      <td>90.0</td>\n      <td>[{'iso_639_1': 'fa', 'name': 'فارسی'}]</td>\n      <td>Released</td>\n      <td>Rising and falling between a man and woman</td>\n      <td>Subdue</td>\n      <td>False</td>\n      <td>4.0</td>\n      <td>1.0</td>\n    </tr>\n    <tr>\n      <th>45462</th>\n      <td>NaN</td>\n      <td>[{'id': 18, 'name': 'Drama'}]</td>\n      <td>NaN</td>\n      <td>111109</td>\n      <td>tt2028550</td>\n      <td>tl</td>\n      <td>Siglo ng Pagluluwal</td>\n      <td>An artist struggles to finish his work while a...</td>\n      <td>0.178241</td>\n      <td>/xZkmxsNmYXJbKVsTRLLx3pqGHx7.jpg</td>\n      <td>...</td>\n      <td>[{'iso_3166_1': 'PH', 'name': 'Philippines'}]</td>\n      <td>2011-11-17</td>\n      <td>360.0</td>\n      <td>[{'iso_639_1': 'tl', 'name': ''}]</td>\n      <td>Released</td>\n      <td>NaN</td>\n      <td>Century of Birthing</td>\n      <td>False</td>\n      <td>9.0</td>\n      <td>3.0</td>\n    </tr>\n    <tr>\n      <th>45464</th>\n      <td>NaN</td>\n      <td>[]</td>\n      <td>NaN</td>\n      <td>227506</td>\n      <td>tt0008536</td>\n      <td>en</td>\n      <td>Satana likuyushchiy</td>\n      <td>In a small town live two brothers, one a minis...</td>\n      <td>0.003503</td>\n      <td>/aorBPO7ak8e8iJKT5OcqYxU3jlK.jpg</td>\n      <td>...</td>\n      <td>[{'iso_3166_1': 'RU', 'name': 'Russia'}]</td>\n      <td>1917-10-21</td>\n      <td>87.0</td>\n      <td>[]</td>\n      <td>Released</td>\n      <td>NaN</td>\n      <td>Satan Triumphant</td>\n      <td>False</td>\n      <td>0.0</td>\n      <td>0.0</td>\n    </tr>\n  </tbody>\n</table>\n<p>11402 rows × 21 columns</p>\n</div>"
     },
     "execution_count": 1011,
     "metadata": {},
     "output_type": "execute_result"
    }
   ],
   "source": [
    "df_movies_metadata[df_movies_metadata[\"original_title\"] != df_movies_metadata[\"title\"]]"
   ]
  },
  {
   "cell_type": "markdown",
   "metadata": {},
   "source": [
    "`original title` is in the original language, `title` in English. Therefore, only `title` will be kept."
   ]
  },
  {
   "cell_type": "code",
   "execution_count": 1012,
   "metadata": {
    "ExecuteTime": {
     "end_time": "2024-03-28T17:08:31.610112Z",
     "start_time": "2024-03-28T17:08:31.601873Z"
    }
   },
   "outputs": [],
   "source": [
    "df_movies_metadata.drop(columns=[\"original_title\"], inplace=True)"
   ]
  },
  {
   "cell_type": "markdown",
   "source": [
    "Let's examine the `popularity` column."
   ],
   "metadata": {
    "collapsed": false
   }
  },
  {
   "cell_type": "code",
   "outputs": [],
   "source": [
    "# value counts\n",
    "#df_movies_metadata['popularity'].value_counts()"
   ],
   "metadata": {
    "collapsed": false,
    "ExecuteTime": {
     "end_time": "2024-03-28T17:08:31.612440Z",
     "start_time": "2024-03-28T17:08:31.610650Z"
    }
   },
   "execution_count": 1013
  },
  {
   "cell_type": "code",
   "outputs": [
    {
     "data": {
      "text/plain": "\"df_movies_metadata['popularity'] = pd.to_numeric(df_movies_metadata['popularity'], errors='coerce')\\ndf_movies_metadata['popularity'].describe()\""
     },
     "execution_count": 1014,
     "metadata": {},
     "output_type": "execute_result"
    }
   ],
   "source": [
    "'''df_movies_metadata['popularity'] = pd.to_numeric(df_movies_metadata['popularity'], errors='coerce')\n",
    "df_movies_metadata['popularity'].describe()'''"
   ],
   "metadata": {
    "collapsed": false,
    "ExecuteTime": {
     "end_time": "2024-03-28T17:08:31.614995Z",
     "start_time": "2024-03-28T17:08:31.612904Z"
    }
   },
   "execution_count": 1014
  },
  {
   "cell_type": "markdown",
   "source": [
    "- The popularity score ranges from 0 to 547.488\n",
    "- Popularity is described as \"A numeric quantity specifying the movie popularity.\"\n",
    "- From IMDB: \"Our Most Popular charts use data from the search behavior of IMDb's more than 250 million monthly unique visitors to rank the hottest, most buzzed about movies and TV shows.\"\n",
    "- It is difficult to interpret the popularity score without additional context, therefore we will drop this column."
   ],
   "metadata": {
    "collapsed": false
   }
  },
  {
   "cell_type": "code",
   "outputs": [],
   "source": [
    "#df_merged.drop('popularity', axis=1, inplace=True)"
   ],
   "metadata": {
    "collapsed": false,
    "ExecuteTime": {
     "end_time": "2024-03-28T17:08:31.617090Z",
     "start_time": "2024-03-28T17:08:31.615478Z"
    }
   },
   "execution_count": 1015
  },
  {
   "cell_type": "markdown",
   "metadata": {},
   "source": [
    "`poster_path`"
   ]
  },
  {
   "cell_type": "markdown",
   "metadata": {},
   "source": [
    "Let's delete this column as we wont implement any image recognition in our models"
   ]
  },
  {
   "cell_type": "code",
   "execution_count": 1016,
   "metadata": {
    "ExecuteTime": {
     "end_time": "2024-03-28T17:08:31.620784Z",
     "start_time": "2024-03-28T17:08:31.617960Z"
    }
   },
   "outputs": [
    {
     "data": {
      "text/plain": "0        /rhIRbceoE9lR4veEXuwCC2wARtG.jpg\n1        /vzmL6fP7aPKNKPRTFnZmiUfciyV.jpg\n2        /6ksm1sjKMFLbO7UY2i6G1ju9SML.jpg\n3        /16XOMpEaLWkrcPqSQqhTmeJuqQl.jpg\n4        /e64sOI48hQXyru7naBFyssKFxVd.jpg\n                       ...               \n45461    /jldsYflnId4tTWPx8es3uzsB1I8.jpg\n45462    /xZkmxsNmYXJbKVsTRLLx3pqGHx7.jpg\n45463    /d5bX92nDsISNhu3ZT69uHwmfCGw.jpg\n45464    /aorBPO7ak8e8iJKT5OcqYxU3jlK.jpg\n45465    /s5UkZt6NTsrS7ZF0Rh8nzupRlIU.jpg\nName: poster_path, Length: 45466, dtype: object"
     },
     "execution_count": 1016,
     "metadata": {},
     "output_type": "execute_result"
    }
   ],
   "source": [
    "df_movies_metadata.poster_path"
   ]
  },
  {
   "cell_type": "code",
   "execution_count": 1017,
   "metadata": {
    "ExecuteTime": {
     "end_time": "2024-03-28T17:08:31.627653Z",
     "start_time": "2024-03-28T17:08:31.621480Z"
    }
   },
   "outputs": [],
   "source": [
    "df_movies_metadata.drop(columns=[\"poster_path\"], inplace=True)"
   ]
  },
  {
   "cell_type": "markdown",
   "metadata": {},
   "source": [
    "Let's proceed with the `status` column:"
   ]
  },
  {
   "cell_type": "code",
   "execution_count": 1018,
   "metadata": {
    "ExecuteTime": {
     "end_time": "2024-03-28T17:08:31.632084Z",
     "start_time": "2024-03-28T17:08:31.628257Z"
    }
   },
   "outputs": [
    {
     "data": {
      "text/plain": "status\nReleased           45014\nRumored              230\nPost Production       98\nIn Production         20\nPlanned               15\nCanceled               2\nName: count, dtype: int64"
     },
     "execution_count": 1018,
     "metadata": {},
     "output_type": "execute_result"
    }
   ],
   "source": [
    "df_movies_metadata[\"status\"].value_counts()"
   ]
  },
  {
   "cell_type": "markdown",
   "metadata": {},
   "source": [
    "There are some films in the dataset which are not released yet. Those movies are not relevant for a Recommender System. We cut them out and drop the status column."
   ]
  },
  {
   "cell_type": "code",
   "execution_count": 1019,
   "metadata": {
    "ExecuteTime": {
     "end_time": "2024-03-28T17:08:31.647667Z",
     "start_time": "2024-03-28T17:08:31.632514Z"
    }
   },
   "outputs": [],
   "source": [
    "df_movies_metadata = df_movies_metadata[df_movies_metadata[\"status\"] == \"Released\"]\n",
    "df_movies_metadata.drop(columns=[\"status\"], inplace=True)"
   ]
  },
  {
   "cell_type": "markdown",
   "metadata": {},
   "source": [
    "Let's look at the `video` column, to understand what it represents:"
   ]
  },
  {
   "cell_type": "code",
   "execution_count": 1020,
   "metadata": {
    "ExecuteTime": {
     "end_time": "2024-03-28T17:08:31.653054Z",
     "start_time": "2024-03-28T17:08:31.648339Z"
    }
   },
   "outputs": [
    {
     "data": {
      "text/plain": "video\nFalse    44921\nTrue        93\nName: count, dtype: int64"
     },
     "execution_count": 1020,
     "metadata": {},
     "output_type": "execute_result"
    }
   ],
   "source": [
    "df_movies_metadata[\"video\"].value_counts()"
   ]
  },
  {
   "cell_type": "markdown",
   "metadata": {},
   "source": [
    "Only 93 of the values are True. Let's examine those further:"
   ]
  },
  {
   "cell_type": "code",
   "execution_count": 1021,
   "metadata": {
    "ExecuteTime": {
     "end_time": "2024-03-28T17:08:31.662735Z",
     "start_time": "2024-03-28T17:08:31.653665Z"
    }
   },
   "outputs": [
    {
     "data": {
      "text/plain": "                                   belongs_to_collection  \\\n5492                                                 NaN   \n11469  {'id': 123438, 'name': 'Loose Change Collectio...   \n13564                                                NaN   \n14271  {'id': 190135, 'name': 'Love Hina Collection',...   \n14608                                                NaN   \n...                                                  ...   \n44286                                                NaN   \n44798                                                NaN   \n44861                                                NaN   \n44981                                                NaN   \n45199                                                NaN   \n\n                                                  genres  \\\n5492   [{'id': 28, 'name': 'Action'}, {'id': 12, 'nam...   \n11469                [{'id': 99, 'name': 'Documentary'}]   \n13564                [{'id': 99, 'name': 'Documentary'}]   \n14271  [{'id': 35, 'name': 'Comedy'}, {'id': 10749, '...   \n14608  [{'id': 28, 'name': 'Action'}, {'id': 12, 'nam...   \n...                                                  ...   \n44286  [{'id': 28, 'name': 'Action'}, {'id': 16, 'nam...   \n44798  [{'id': 16, 'name': 'Animation'}, {'id': 27, '...   \n44861                                                 []   \n44981  [{'id': 10751, 'name': 'Family'}, {'id': 18, '...   \n45199  [{'id': 35, 'name': 'Comedy'}, {'id': 16, 'nam...   \n\n                                                homepage      id    imdb_id  \\\n5492                                                 NaN   15173  tt0298388   \n11469                     http://www.loosechange911.com/   14277  tt0831315   \n13564                                                NaN  284117  tt1198399   \n14271                                                NaN   44685  tt0416938   \n14608  http://www.sonypictures.com/familyzone/playmobil/   35148  tt1512792   \n...                                                  ...     ...        ...   \n44286                                                NaN  161337  tt2381375   \n44798                   http://www.fat-pie.com/salad.htm  425916  tt1830238   \n44861                                                NaN  334795  tt2290966   \n44981                                                NaN  461088  tt5689610   \n45199                                                NaN  279687  tt1253575   \n\n      original_language                                           overview  \\\n5492                 en  Get ready as Bob the Tomato, Larry the Cucumbe...   \n11469                en  What if...September 11th was not a surprise at...   \n13564                en  A short film in which Quran verses are shown a...   \n14271                ja  The tests have come, and Keitaro can only hope...   \n14608                en  Ahoy, matey! Your Favorite Playmobil toys have...   \n...                 ...                                                ...   \n44286                en  Underworld: Endless War is a collection of thr...   \n44798                en  The adventures of Salad Fingers, an unspecifie...   \n44861                ru  Four music videos of Kino band joined together...   \n44981                fa  When the corrupted groom starts shooting in th...   \n45199                en  The cut-scenes from Futurama (2003) (VG), edit...   \n\n      popularity                               production_companies  \\\n5492    1.734181     [{'name': 'Big Idea Productions', 'id': 3204}]   \n11469   0.651714  [{'name': 'Polar Film   Medien GmbH', 'id': 52...   \n13564   0.040068                                                 []   \n14271   1.785708  [{'name': 'TV Tokyo', 'id': 3034}, {'name': 'X...   \n14608   0.014168                                                 []   \n...          ...                                                ...   \n44286   3.301063                                                 []   \n44798   0.141367                                                 []   \n44861        0.0                                                 []   \n44981   0.034119                                                 []   \n45199   0.988667   [{'name': 'The Curiosity Company', 'id': 29500}]   \n\n                                    production_countries release_date  \\\n5492   [{'iso_3166_1': 'US', 'name': 'United States o...   2002-10-04   \n11469  [{'iso_3166_1': 'US', 'name': 'United States o...   2006-06-01   \n13564      [{'iso_3166_1': 'NL', 'name': 'Netherlands'}]   2008-03-27   \n14271            [{'iso_3166_1': 'JP', 'name': 'Japan'}]   2001-03-31   \n14608                                                 []   2009-10-13   \n...                                                  ...          ...   \n44286                                                 []   2011-10-19   \n44798   [{'iso_3166_1': 'GB', 'name': 'United Kingdom'}]          NaN   \n44861                                                 []   1986-01-01   \n44981             [{'iso_3166_1': 'IR', 'name': 'Iran'}]   2016-03-22   \n45199  [{'iso_3166_1': 'US', 'name': 'United States o...   2008-06-24   \n\n       runtime                                   spoken_languages  \\\n5492      82.0  [{'iso_639_1': 'cs', 'name': 'Český'}, {'iso_6...   \n11469    100.0           [{'iso_639_1': 'en', 'name': 'English'}]   \n13564     15.0  [{'iso_639_1': 'en', 'name': 'English'}, {'iso...   \n14271     48.0               [{'iso_639_1': 'ja', 'name': '日本語'}]   \n14608    140.0  [{'iso_639_1': 'fr', 'name': 'Français'}, {'is...   \n...        ...                                                ...   \n44286     18.0           [{'iso_639_1': 'en', 'name': 'English'}]   \n44798     52.0           [{'iso_639_1': 'en', 'name': 'English'}]   \n44861     23.0           [{'iso_639_1': 'ru', 'name': 'Pусский'}]   \n44981     89.0             [{'iso_639_1': 'fa', 'name': 'فارسی'}]   \n45199     30.0           [{'iso_639_1': 'en', 'name': 'English'}]   \n\n                                 tagline  \\\n5492       Fresh Fish. Mixed Vegetables.   \n11469      What really happened on 9/11?   \n13564                                NaN   \n14271  Spring break... Love Hina Style!!   \n14608                                NaN   \n...                                  ...   \n44286                                NaN   \n44798                                NaN   \n44861          Victor Tsoy's movie debut   \n44981                                NaN   \n45199                                NaN   \n\n                                              title video  vote_average  \\\n5492                     Jonah: A VeggieTales Movie  True           6.4   \n11469                     Loose Change: 2nd Edition  True           6.3   \n13564                                         Fitna  True           1.0   \n14271  Love Hina Spring Special - I Wish Your Dream  True           4.7   \n14608        Playmobil: The Secret of Pirate Island  True           0.0   \n...                                             ...   ...           ...   \n44286                       Underworld: Endless War  True           5.6   \n44798                                 Salad Fingers  True           8.5   \n44861                         The End of a Vacation  True           0.0   \n44981                       50 Kilos of Sour Cherry  True           0.0   \n45199                  Futurama: The Lost Adventure  True           7.9   \n\n       vote_count  \n5492         22.0  \n11469        16.0  \n13564         1.0  \n14271         3.0  \n14608         0.0  \n...           ...  \n44286        38.0  \n44798         4.0  \n44861         0.0  \n44981         0.0  \n45199        10.0  \n\n[93 rows x 18 columns]",
      "text/html": "<div>\n<style scoped>\n    .dataframe tbody tr th:only-of-type {\n        vertical-align: middle;\n    }\n\n    .dataframe tbody tr th {\n        vertical-align: top;\n    }\n\n    .dataframe thead th {\n        text-align: right;\n    }\n</style>\n<table border=\"1\" class=\"dataframe\">\n  <thead>\n    <tr style=\"text-align: right;\">\n      <th></th>\n      <th>belongs_to_collection</th>\n      <th>genres</th>\n      <th>homepage</th>\n      <th>id</th>\n      <th>imdb_id</th>\n      <th>original_language</th>\n      <th>overview</th>\n      <th>popularity</th>\n      <th>production_companies</th>\n      <th>production_countries</th>\n      <th>release_date</th>\n      <th>runtime</th>\n      <th>spoken_languages</th>\n      <th>tagline</th>\n      <th>title</th>\n      <th>video</th>\n      <th>vote_average</th>\n      <th>vote_count</th>\n    </tr>\n  </thead>\n  <tbody>\n    <tr>\n      <th>5492</th>\n      <td>NaN</td>\n      <td>[{'id': 28, 'name': 'Action'}, {'id': 12, 'nam...</td>\n      <td>NaN</td>\n      <td>15173</td>\n      <td>tt0298388</td>\n      <td>en</td>\n      <td>Get ready as Bob the Tomato, Larry the Cucumbe...</td>\n      <td>1.734181</td>\n      <td>[{'name': 'Big Idea Productions', 'id': 3204}]</td>\n      <td>[{'iso_3166_1': 'US', 'name': 'United States o...</td>\n      <td>2002-10-04</td>\n      <td>82.0</td>\n      <td>[{'iso_639_1': 'cs', 'name': 'Český'}, {'iso_6...</td>\n      <td>Fresh Fish. Mixed Vegetables.</td>\n      <td>Jonah: A VeggieTales Movie</td>\n      <td>True</td>\n      <td>6.4</td>\n      <td>22.0</td>\n    </tr>\n    <tr>\n      <th>11469</th>\n      <td>{'id': 123438, 'name': 'Loose Change Collectio...</td>\n      <td>[{'id': 99, 'name': 'Documentary'}]</td>\n      <td>http://www.loosechange911.com/</td>\n      <td>14277</td>\n      <td>tt0831315</td>\n      <td>en</td>\n      <td>What if...September 11th was not a surprise at...</td>\n      <td>0.651714</td>\n      <td>[{'name': 'Polar Film   Medien GmbH', 'id': 52...</td>\n      <td>[{'iso_3166_1': 'US', 'name': 'United States o...</td>\n      <td>2006-06-01</td>\n      <td>100.0</td>\n      <td>[{'iso_639_1': 'en', 'name': 'English'}]</td>\n      <td>What really happened on 9/11?</td>\n      <td>Loose Change: 2nd Edition</td>\n      <td>True</td>\n      <td>6.3</td>\n      <td>16.0</td>\n    </tr>\n    <tr>\n      <th>13564</th>\n      <td>NaN</td>\n      <td>[{'id': 99, 'name': 'Documentary'}]</td>\n      <td>NaN</td>\n      <td>284117</td>\n      <td>tt1198399</td>\n      <td>en</td>\n      <td>A short film in which Quran verses are shown a...</td>\n      <td>0.040068</td>\n      <td>[]</td>\n      <td>[{'iso_3166_1': 'NL', 'name': 'Netherlands'}]</td>\n      <td>2008-03-27</td>\n      <td>15.0</td>\n      <td>[{'iso_639_1': 'en', 'name': 'English'}, {'iso...</td>\n      <td>NaN</td>\n      <td>Fitna</td>\n      <td>True</td>\n      <td>1.0</td>\n      <td>1.0</td>\n    </tr>\n    <tr>\n      <th>14271</th>\n      <td>{'id': 190135, 'name': 'Love Hina Collection',...</td>\n      <td>[{'id': 35, 'name': 'Comedy'}, {'id': 10749, '...</td>\n      <td>NaN</td>\n      <td>44685</td>\n      <td>tt0416938</td>\n      <td>ja</td>\n      <td>The tests have come, and Keitaro can only hope...</td>\n      <td>1.785708</td>\n      <td>[{'name': 'TV Tokyo', 'id': 3034}, {'name': 'X...</td>\n      <td>[{'iso_3166_1': 'JP', 'name': 'Japan'}]</td>\n      <td>2001-03-31</td>\n      <td>48.0</td>\n      <td>[{'iso_639_1': 'ja', 'name': '日本語'}]</td>\n      <td>Spring break... Love Hina Style!!</td>\n      <td>Love Hina Spring Special - I Wish Your Dream</td>\n      <td>True</td>\n      <td>4.7</td>\n      <td>3.0</td>\n    </tr>\n    <tr>\n      <th>14608</th>\n      <td>NaN</td>\n      <td>[{'id': 28, 'name': 'Action'}, {'id': 12, 'nam...</td>\n      <td>http://www.sonypictures.com/familyzone/playmobil/</td>\n      <td>35148</td>\n      <td>tt1512792</td>\n      <td>en</td>\n      <td>Ahoy, matey! Your Favorite Playmobil toys have...</td>\n      <td>0.014168</td>\n      <td>[]</td>\n      <td>[]</td>\n      <td>2009-10-13</td>\n      <td>140.0</td>\n      <td>[{'iso_639_1': 'fr', 'name': 'Français'}, {'is...</td>\n      <td>NaN</td>\n      <td>Playmobil: The Secret of Pirate Island</td>\n      <td>True</td>\n      <td>0.0</td>\n      <td>0.0</td>\n    </tr>\n    <tr>\n      <th>...</th>\n      <td>...</td>\n      <td>...</td>\n      <td>...</td>\n      <td>...</td>\n      <td>...</td>\n      <td>...</td>\n      <td>...</td>\n      <td>...</td>\n      <td>...</td>\n      <td>...</td>\n      <td>...</td>\n      <td>...</td>\n      <td>...</td>\n      <td>...</td>\n      <td>...</td>\n      <td>...</td>\n      <td>...</td>\n      <td>...</td>\n    </tr>\n    <tr>\n      <th>44286</th>\n      <td>NaN</td>\n      <td>[{'id': 28, 'name': 'Action'}, {'id': 16, 'nam...</td>\n      <td>NaN</td>\n      <td>161337</td>\n      <td>tt2381375</td>\n      <td>en</td>\n      <td>Underworld: Endless War is a collection of thr...</td>\n      <td>3.301063</td>\n      <td>[]</td>\n      <td>[]</td>\n      <td>2011-10-19</td>\n      <td>18.0</td>\n      <td>[{'iso_639_1': 'en', 'name': 'English'}]</td>\n      <td>NaN</td>\n      <td>Underworld: Endless War</td>\n      <td>True</td>\n      <td>5.6</td>\n      <td>38.0</td>\n    </tr>\n    <tr>\n      <th>44798</th>\n      <td>NaN</td>\n      <td>[{'id': 16, 'name': 'Animation'}, {'id': 27, '...</td>\n      <td>http://www.fat-pie.com/salad.htm</td>\n      <td>425916</td>\n      <td>tt1830238</td>\n      <td>en</td>\n      <td>The adventures of Salad Fingers, an unspecifie...</td>\n      <td>0.141367</td>\n      <td>[]</td>\n      <td>[{'iso_3166_1': 'GB', 'name': 'United Kingdom'}]</td>\n      <td>NaN</td>\n      <td>52.0</td>\n      <td>[{'iso_639_1': 'en', 'name': 'English'}]</td>\n      <td>NaN</td>\n      <td>Salad Fingers</td>\n      <td>True</td>\n      <td>8.5</td>\n      <td>4.0</td>\n    </tr>\n    <tr>\n      <th>44861</th>\n      <td>NaN</td>\n      <td>[]</td>\n      <td>NaN</td>\n      <td>334795</td>\n      <td>tt2290966</td>\n      <td>ru</td>\n      <td>Four music videos of Kino band joined together...</td>\n      <td>0.0</td>\n      <td>[]</td>\n      <td>[]</td>\n      <td>1986-01-01</td>\n      <td>23.0</td>\n      <td>[{'iso_639_1': 'ru', 'name': 'Pусский'}]</td>\n      <td>Victor Tsoy's movie debut</td>\n      <td>The End of a Vacation</td>\n      <td>True</td>\n      <td>0.0</td>\n      <td>0.0</td>\n    </tr>\n    <tr>\n      <th>44981</th>\n      <td>NaN</td>\n      <td>[{'id': 10751, 'name': 'Family'}, {'id': 18, '...</td>\n      <td>NaN</td>\n      <td>461088</td>\n      <td>tt5689610</td>\n      <td>fa</td>\n      <td>When the corrupted groom starts shooting in th...</td>\n      <td>0.034119</td>\n      <td>[]</td>\n      <td>[{'iso_3166_1': 'IR', 'name': 'Iran'}]</td>\n      <td>2016-03-22</td>\n      <td>89.0</td>\n      <td>[{'iso_639_1': 'fa', 'name': 'فارسی'}]</td>\n      <td>NaN</td>\n      <td>50 Kilos of Sour Cherry</td>\n      <td>True</td>\n      <td>0.0</td>\n      <td>0.0</td>\n    </tr>\n    <tr>\n      <th>45199</th>\n      <td>NaN</td>\n      <td>[{'id': 35, 'name': 'Comedy'}, {'id': 16, 'nam...</td>\n      <td>NaN</td>\n      <td>279687</td>\n      <td>tt1253575</td>\n      <td>en</td>\n      <td>The cut-scenes from Futurama (2003) (VG), edit...</td>\n      <td>0.988667</td>\n      <td>[{'name': 'The Curiosity Company', 'id': 29500}]</td>\n      <td>[{'iso_3166_1': 'US', 'name': 'United States o...</td>\n      <td>2008-06-24</td>\n      <td>30.0</td>\n      <td>[{'iso_639_1': 'en', 'name': 'English'}]</td>\n      <td>NaN</td>\n      <td>Futurama: The Lost Adventure</td>\n      <td>True</td>\n      <td>7.9</td>\n      <td>10.0</td>\n    </tr>\n  </tbody>\n</table>\n<p>93 rows × 18 columns</p>\n</div>"
     },
     "execution_count": 1021,
     "metadata": {},
     "output_type": "execute_result"
    }
   ],
   "source": [
    "df_movies_metadata[df_movies_metadata[\"video\"] == True]"
   ]
  },
  {
   "cell_type": "markdown",
   "metadata": {},
   "source": [
    "We do not see any patterns in rows where the value of the video column is set to True. Additionally, as there are only 93 instances where this is the case, those rows will be dropped. Also, the column will be kicked as it has no insight for us."
   ]
  },
  {
   "cell_type": "code",
   "execution_count": 1022,
   "metadata": {
    "ExecuteTime": {
     "end_time": "2024-03-28T17:08:31.684197Z",
     "start_time": "2024-03-28T17:08:31.668254Z"
    }
   },
   "outputs": [],
   "source": [
    "df_movies_metadata= df_movies_metadata[df_movies_metadata[\"video\"] == False]\n",
    "df_movies_metadata.drop(columns=\"video\", inplace=True)"
   ]
  },
  {
   "cell_type": "markdown",
   "source": [
    "`Vote Count and Vote Average`\n",
    "\n",
    "Let's try to understand the Cote Count and Vote Average columns. "
   ],
   "metadata": {
    "collapsed": false
   }
  },
  {
   "cell_type": "code",
   "outputs": [
    {
     "data": {
      "text/plain": "(0.0, 14075.0)"
     },
     "execution_count": 1023,
     "metadata": {},
     "output_type": "execute_result"
    }
   ],
   "source": [
    "# Min and Max vote count \n",
    "min_vote_count = df_movies_metadata['vote_count'].min()\n",
    "max_vote_count = df_movies_metadata['vote_count'].max()\n",
    "\n",
    "min_vote_count, max_vote_count"
   ],
   "metadata": {
    "collapsed": false,
    "ExecuteTime": {
     "end_time": "2024-03-28T17:08:31.687748Z",
     "start_time": "2024-03-28T17:08:31.685076Z"
    }
   },
   "execution_count": 1023
  },
  {
   "cell_type": "code",
   "outputs": [
    {
     "data": {
      "text/plain": "(0.0, 10.0)"
     },
     "execution_count": 1024,
     "metadata": {},
     "output_type": "execute_result"
    }
   ],
   "source": [
    "min_vote_average = df_movies_metadata['vote_average'].min()\n",
    "max_vote_average = df_movies_metadata['vote_average'].max()\n",
    "\n",
    "min_vote_average, max_vote_average"
   ],
   "metadata": {
    "collapsed": false,
    "ExecuteTime": {
     "end_time": "2024-03-28T17:08:31.691786Z",
     "start_time": "2024-03-28T17:08:31.689153Z"
    }
   },
   "execution_count": 1024
  },
  {
   "cell_type": "markdown",
   "source": [
    "- The vote count ranges from 0 to 14075, probably indicating the number of votes the movie received.\n",
    "- The vote average ranges from 0 to 10, probably indicating the average rating of the movie.\n"
   ],
   "metadata": {
    "collapsed": false
   }
  },
  {
   "cell_type": "code",
   "outputs": [
    {
     "data": {
      "text/plain": "count    44921.000000\nmean       111.103560\nstd        494.117134\nmin          0.000000\n25%          3.000000\n50%         10.000000\n75%         35.000000\nmax      14075.000000\nName: vote_count, dtype: float64"
     },
     "execution_count": 1025,
     "metadata": {},
     "output_type": "execute_result"
    }
   ],
   "source": [
    "df_movies_metadata['vote_count'].describe()"
   ],
   "metadata": {
    "collapsed": false,
    "ExecuteTime": {
     "end_time": "2024-03-28T17:08:31.697705Z",
     "start_time": "2024-03-28T17:08:31.692293Z"
    }
   },
   "execution_count": 1025
  },
  {
   "cell_type": "markdown",
   "source": [
    "We can also see that half of the movies have fewer than 10 votes. As this is a very low number of votes, making the votes not representative from a statistical perspective, we decide to drop the vote_count column as well as the corresponding vote_average column. We will only use the ratings dataframe for the ratings."
   ],
   "metadata": {
    "collapsed": false
   }
  },
  {
   "cell_type": "code",
   "outputs": [],
   "source": [
    "df_movies_metadata.drop(['vote_count', 'vote_average'], axis=1, inplace=True)"
   ],
   "metadata": {
    "collapsed": false,
    "ExecuteTime": {
     "end_time": "2024-03-28T17:08:31.705783Z",
     "start_time": "2024-03-28T17:08:31.698223Z"
    }
   },
   "execution_count": 1026
  },
  {
   "cell_type": "markdown",
   "metadata": {},
   "source": [
    "On top of that, the following columns will be dropped:\n",
    "- `homepage`: not relevant for the model\n",
    "- `tagline`: not relevant for the model"
   ]
  },
  {
   "cell_type": "code",
   "execution_count": 1027,
   "metadata": {
    "ExecuteTime": {
     "end_time": "2024-03-28T17:08:31.713423Z",
     "start_time": "2024-03-28T17:08:31.707022Z"
    }
   },
   "outputs": [],
   "source": [
    "df_movies_metadata.drop(columns=[\"homepage\", \"tagline\"], inplace=True)"
   ]
  },
  {
   "cell_type": "markdown",
   "metadata": {},
   "source": [
    "## 2.3. Column Formats"
   ]
  },
  {
   "cell_type": "markdown",
   "metadata": {},
   "source": [
    "Let's check and correct the column formats for every dataframe."
   ]
  },
  {
   "cell_type": "markdown",
   "metadata": {},
   "source": [
    "#### df_ratings, df_credits, df_keywords and df_links"
   ]
  },
  {
   "cell_type": "code",
   "execution_count": 1028,
   "metadata": {
    "ExecuteTime": {
     "end_time": "2024-03-28T17:08:31.716565Z",
     "start_time": "2024-03-28T17:08:31.714174Z"
    }
   },
   "outputs": [
    {
     "data": {
      "text/plain": "userId         int64\nmovieId        int64\nrating       float64\ntimestamp      int64\ndtype: object"
     },
     "execution_count": 1028,
     "metadata": {},
     "output_type": "execute_result"
    }
   ],
   "source": [
    "df_ratings.dtypes"
   ]
  },
  {
   "cell_type": "code",
   "execution_count": 1029,
   "metadata": {
    "ExecuteTime": {
     "end_time": "2024-03-28T17:08:31.719545Z",
     "start_time": "2024-03-28T17:08:31.717016Z"
    }
   },
   "outputs": [
    {
     "data": {
      "text/plain": "cast    object\nid       int64\ndtype: object"
     },
     "execution_count": 1029,
     "metadata": {},
     "output_type": "execute_result"
    }
   ],
   "source": [
    "df_credits.dtypes"
   ]
  },
  {
   "cell_type": "code",
   "execution_count": 1030,
   "metadata": {
    "ExecuteTime": {
     "end_time": "2024-03-28T17:08:31.722931Z",
     "start_time": "2024-03-28T17:08:31.720357Z"
    }
   },
   "outputs": [
    {
     "data": {
      "text/plain": "id           int64\nkeywords    object\ndtype: object"
     },
     "execution_count": 1030,
     "metadata": {},
     "output_type": "execute_result"
    }
   ],
   "source": [
    "df_keywords.dtypes"
   ]
  },
  {
   "cell_type": "code",
   "execution_count": 1031,
   "metadata": {
    "ExecuteTime": {
     "end_time": "2024-03-28T17:08:31.725724Z",
     "start_time": "2024-03-28T17:08:31.723413Z"
    }
   },
   "outputs": [
    {
     "data": {
      "text/plain": "movieId      int64\nimdbId       int64\ntmdbId     float64\ndtype: object"
     },
     "execution_count": 1031,
     "metadata": {},
     "output_type": "execute_result"
    }
   ],
   "source": [
    "df_links.dtypes"
   ]
  },
  {
   "cell_type": "code",
   "execution_count": 1032,
   "metadata": {
    "ExecuteTime": {
     "end_time": "2024-03-28T17:08:32.622081Z",
     "start_time": "2024-03-28T17:08:31.726216Z"
    }
   },
   "outputs": [],
   "source": [
    "#df_ratings[[\"userId\", \"movieId\", \"timestamp\"]].astype(\"Int64\")\n",
    "df_ratings[\"rating\"] = df_ratings[\"rating\"].astype(\"Float64\")\n",
    "df_credits[\"id\"] = df_credits[\"id\"].astype(\"Int64\")\n",
    "df_keywords[\"id\"] = df_keywords[\"id\"].astype(\"Int64\")\n",
    "df_links[[\"movieId\", \"imdbId\"]] = df_links[[\"movieId\", \"imdbId\"]].astype(\"Int64\")"
   ]
  },
  {
   "cell_type": "markdown",
   "metadata": {},
   "source": [
    "For the column imdbId, let's check if all values are integers and convert them"
   ]
  },
  {
   "cell_type": "code",
   "execution_count": 1033,
   "metadata": {
    "ExecuteTime": {
     "end_time": "2024-03-28T17:08:32.630439Z",
     "start_time": "2024-03-28T17:08:32.622768Z"
    }
   },
   "outputs": [],
   "source": [
    "if df_links['tmdbId'].dropna().apply(float.is_integer).all():\n",
    "    df_links['tmdbId'] = df_links['tmdbId'].astype('Int64')\n",
    "else:\n",
    "    print(\"Values have digits after the decimal point.\")"
   ]
  },
  {
   "cell_type": "markdown",
   "metadata": {},
   "source": [
    "#### df_movies_metadata"
   ]
  },
  {
   "cell_type": "markdown",
   "metadata": {},
   "source": [
    "A first overview shows us that a couple of column formats have to be changed"
   ]
  },
  {
   "cell_type": "code",
   "execution_count": 1034,
   "metadata": {
    "ExecuteTime": {
     "end_time": "2024-03-28T17:08:32.633942Z",
     "start_time": "2024-03-28T17:08:32.630988Z"
    }
   },
   "outputs": [
    {
     "data": {
      "text/plain": "belongs_to_collection     object\ngenres                    object\nid                        object\nimdb_id                   object\noriginal_language         object\noverview                  object\npopularity                object\nproduction_companies      object\nproduction_countries      object\nrelease_date              object\nruntime                  float64\nspoken_languages          object\ntitle                     object\ndtype: object"
     },
     "execution_count": 1034,
     "metadata": {},
     "output_type": "execute_result"
    }
   ],
   "source": [
    "df_movies_metadata.dtypes"
   ]
  },
  {
   "cell_type": "code",
   "execution_count": 1035,
   "metadata": {
    "ExecuteTime": {
     "end_time": "2024-03-28T17:08:32.639370Z",
     "start_time": "2024-03-28T17:08:32.634559Z"
    }
   },
   "outputs": [
    {
     "data": {
      "text/plain": "                               belongs_to_collection  \\\n0  {'id': 10194, 'name': 'Toy Story Collection', ...   \n1                                                NaN   \n2  {'id': 119050, 'name': 'Grumpy Old Men Collect...   \n3                                                NaN   \n4  {'id': 96871, 'name': 'Father of the Bride Col...   \n\n                                              genres     id    imdb_id  \\\n0  [{'id': 16, 'name': 'Animation'}, {'id': 35, '...    862  tt0114709   \n1  [{'id': 12, 'name': 'Adventure'}, {'id': 14, '...   8844  tt0113497   \n2  [{'id': 10749, 'name': 'Romance'}, {'id': 35, ...  15602  tt0113228   \n3  [{'id': 35, 'name': 'Comedy'}, {'id': 18, 'nam...  31357  tt0114885   \n4                     [{'id': 35, 'name': 'Comedy'}]  11862  tt0113041   \n\n  original_language                                           overview  \\\n0                en  Led by Woody, Andy's toys live happily in his ...   \n1                en  When siblings Judy and Peter discover an encha...   \n2                en  A family wedding reignites the ancient feud be...   \n3                en  Cheated on, mistreated and stepped on, the wom...   \n4                en  Just when George Banks has recovered from his ...   \n\n  popularity                               production_companies  \\\n0  21.946943     [{'name': 'Pixar Animation Studios', 'id': 3}]   \n1  17.015539  [{'name': 'TriStar Pictures', 'id': 559}, {'na...   \n2    11.7129  [{'name': 'Warner Bros.', 'id': 6194}, {'name'...   \n3   3.859495  [{'name': 'Twentieth Century Fox Film Corporat...   \n4   8.387519  [{'name': 'Sandollar Productions', 'id': 5842}...   \n\n                                production_countries release_date  runtime  \\\n0  [{'iso_3166_1': 'US', 'name': 'United States o...   1995-10-30     81.0   \n1  [{'iso_3166_1': 'US', 'name': 'United States o...   1995-12-15    104.0   \n2  [{'iso_3166_1': 'US', 'name': 'United States o...   1995-12-22    101.0   \n3  [{'iso_3166_1': 'US', 'name': 'United States o...   1995-12-22    127.0   \n4  [{'iso_3166_1': 'US', 'name': 'United States o...   1995-02-10    106.0   \n\n                                    spoken_languages  \\\n0           [{'iso_639_1': 'en', 'name': 'English'}]   \n1  [{'iso_639_1': 'en', 'name': 'English'}, {'iso...   \n2           [{'iso_639_1': 'en', 'name': 'English'}]   \n3           [{'iso_639_1': 'en', 'name': 'English'}]   \n4           [{'iso_639_1': 'en', 'name': 'English'}]   \n\n                         title  \n0                    Toy Story  \n1                      Jumanji  \n2             Grumpier Old Men  \n3            Waiting to Exhale  \n4  Father of the Bride Part II  ",
      "text/html": "<div>\n<style scoped>\n    .dataframe tbody tr th:only-of-type {\n        vertical-align: middle;\n    }\n\n    .dataframe tbody tr th {\n        vertical-align: top;\n    }\n\n    .dataframe thead th {\n        text-align: right;\n    }\n</style>\n<table border=\"1\" class=\"dataframe\">\n  <thead>\n    <tr style=\"text-align: right;\">\n      <th></th>\n      <th>belongs_to_collection</th>\n      <th>genres</th>\n      <th>id</th>\n      <th>imdb_id</th>\n      <th>original_language</th>\n      <th>overview</th>\n      <th>popularity</th>\n      <th>production_companies</th>\n      <th>production_countries</th>\n      <th>release_date</th>\n      <th>runtime</th>\n      <th>spoken_languages</th>\n      <th>title</th>\n    </tr>\n  </thead>\n  <tbody>\n    <tr>\n      <th>0</th>\n      <td>{'id': 10194, 'name': 'Toy Story Collection', ...</td>\n      <td>[{'id': 16, 'name': 'Animation'}, {'id': 35, '...</td>\n      <td>862</td>\n      <td>tt0114709</td>\n      <td>en</td>\n      <td>Led by Woody, Andy's toys live happily in his ...</td>\n      <td>21.946943</td>\n      <td>[{'name': 'Pixar Animation Studios', 'id': 3}]</td>\n      <td>[{'iso_3166_1': 'US', 'name': 'United States o...</td>\n      <td>1995-10-30</td>\n      <td>81.0</td>\n      <td>[{'iso_639_1': 'en', 'name': 'English'}]</td>\n      <td>Toy Story</td>\n    </tr>\n    <tr>\n      <th>1</th>\n      <td>NaN</td>\n      <td>[{'id': 12, 'name': 'Adventure'}, {'id': 14, '...</td>\n      <td>8844</td>\n      <td>tt0113497</td>\n      <td>en</td>\n      <td>When siblings Judy and Peter discover an encha...</td>\n      <td>17.015539</td>\n      <td>[{'name': 'TriStar Pictures', 'id': 559}, {'na...</td>\n      <td>[{'iso_3166_1': 'US', 'name': 'United States o...</td>\n      <td>1995-12-15</td>\n      <td>104.0</td>\n      <td>[{'iso_639_1': 'en', 'name': 'English'}, {'iso...</td>\n      <td>Jumanji</td>\n    </tr>\n    <tr>\n      <th>2</th>\n      <td>{'id': 119050, 'name': 'Grumpy Old Men Collect...</td>\n      <td>[{'id': 10749, 'name': 'Romance'}, {'id': 35, ...</td>\n      <td>15602</td>\n      <td>tt0113228</td>\n      <td>en</td>\n      <td>A family wedding reignites the ancient feud be...</td>\n      <td>11.7129</td>\n      <td>[{'name': 'Warner Bros.', 'id': 6194}, {'name'...</td>\n      <td>[{'iso_3166_1': 'US', 'name': 'United States o...</td>\n      <td>1995-12-22</td>\n      <td>101.0</td>\n      <td>[{'iso_639_1': 'en', 'name': 'English'}]</td>\n      <td>Grumpier Old Men</td>\n    </tr>\n    <tr>\n      <th>3</th>\n      <td>NaN</td>\n      <td>[{'id': 35, 'name': 'Comedy'}, {'id': 18, 'nam...</td>\n      <td>31357</td>\n      <td>tt0114885</td>\n      <td>en</td>\n      <td>Cheated on, mistreated and stepped on, the wom...</td>\n      <td>3.859495</td>\n      <td>[{'name': 'Twentieth Century Fox Film Corporat...</td>\n      <td>[{'iso_3166_1': 'US', 'name': 'United States o...</td>\n      <td>1995-12-22</td>\n      <td>127.0</td>\n      <td>[{'iso_639_1': 'en', 'name': 'English'}]</td>\n      <td>Waiting to Exhale</td>\n    </tr>\n    <tr>\n      <th>4</th>\n      <td>{'id': 96871, 'name': 'Father of the Bride Col...</td>\n      <td>[{'id': 35, 'name': 'Comedy'}]</td>\n      <td>11862</td>\n      <td>tt0113041</td>\n      <td>en</td>\n      <td>Just when George Banks has recovered from his ...</td>\n      <td>8.387519</td>\n      <td>[{'name': 'Sandollar Productions', 'id': 5842}...</td>\n      <td>[{'iso_3166_1': 'US', 'name': 'United States o...</td>\n      <td>1995-02-10</td>\n      <td>106.0</td>\n      <td>[{'iso_639_1': 'en', 'name': 'English'}]</td>\n      <td>Father of the Bride Part II</td>\n    </tr>\n  </tbody>\n</table>\n</div>"
     },
     "execution_count": 1035,
     "metadata": {},
     "output_type": "execute_result"
    }
   ],
   "source": [
    "df_movies_metadata.head()"
   ]
  },
  {
   "cell_type": "markdown",
   "metadata": {},
   "source": [
    "`id`"
   ]
  },
  {
   "cell_type": "code",
   "execution_count": 1036,
   "metadata": {
    "ExecuteTime": {
     "end_time": "2024-03-28T17:08:32.645195Z",
     "start_time": "2024-03-28T17:08:32.639951Z"
    }
   },
   "outputs": [],
   "source": [
    "df_movies_metadata[\"id\"] = df_movies_metadata[\"id\"].astype(\"Int64\")"
   ]
  },
  {
   "cell_type": "markdown",
   "metadata": {},
   "source": [
    "`imdb_id`"
   ]
  },
  {
   "cell_type": "code",
   "execution_count": 1037,
   "metadata": {
    "ExecuteTime": {
     "end_time": "2024-03-28T17:08:32.670937Z",
     "start_time": "2024-03-28T17:08:32.645746Z"
    }
   },
   "outputs": [
    {
     "data": {
      "text/plain": "43777    tt0000001\n32312    tt0000003\n19138    tt0000005\n17569    tt0000008\n25900    tt0000010\n           ...    \n45179    tt7068896\n45200    tt7078780\n44969    tt7078926\n45085    tt7104950\n45371    tt7158814\nName: imdb_id, Length: 44906, dtype: object"
     },
     "execution_count": 1037,
     "metadata": {},
     "output_type": "execute_result"
    }
   ],
   "source": [
    "df_movies_metadata[df_movies_metadata[\"imdb_id\"].notna()][\"imdb_id\"].sort_values()"
   ]
  },
  {
   "cell_type": "markdown",
   "metadata": {},
   "source": [
    "All `imbd_id` values start with \"tt\". Let's delete those letters to align values with other imdb_id columns we have in other dataframes."
   ]
  },
  {
   "cell_type": "code",
   "execution_count": 1038,
   "metadata": {
    "ExecuteTime": {
     "end_time": "2024-03-28T17:08:32.700198Z",
     "start_time": "2024-03-28T17:08:32.671653Z"
    }
   },
   "outputs": [
    {
     "data": {
      "text/plain": "last_2_chars\ntt    44906\nna       15\nName: count, dtype: int64"
     },
     "execution_count": 1038,
     "metadata": {},
     "output_type": "execute_result"
    }
   ],
   "source": [
    "# Let's check if the letters \"tt\" are in front of every number:\n",
    "\n",
    "df_movies_metadata_2 = df_movies_metadata.copy()\n",
    "df_movies_metadata_2[\"imdb_id\"] = df_movies_metadata_2[\"imdb_id\"].astype(str)\n",
    "df_movies_metadata_2['last_2_chars'] = df_movies_metadata_2['imdb_id'].str[:2]\n",
    "df_movies_metadata_2['last_2_chars'].value_counts()"
   ]
  },
  {
   "cell_type": "code",
   "execution_count": 1039,
   "metadata": {
    "ExecuteTime": {
     "end_time": "2024-03-28T17:08:32.707489Z",
     "start_time": "2024-03-28T17:08:32.700761Z"
    }
   },
   "outputs": [],
   "source": [
    "df_movies_metadata[\"imdb_id\"] = df_movies_metadata[\"imdb_id\"].str[2:]"
   ]
  },
  {
   "cell_type": "code",
   "execution_count": 1040,
   "metadata": {
    "ExecuteTime": {
     "end_time": "2024-03-28T17:08:32.713295Z",
     "start_time": "2024-03-28T17:08:32.708175Z"
    }
   },
   "outputs": [],
   "source": [
    "df_movies_metadata[\"imdb_id\"] = df_movies_metadata[\"imdb_id\"].astype(\"Int64\")"
   ]
  },
  {
   "cell_type": "markdown",
   "metadata": {},
   "source": [
    "The column popularity seems to be of mixed data types. Therefore, we have to do the conversion in 2 steps."
   ]
  },
  {
   "cell_type": "code",
   "execution_count": 1041,
   "metadata": {
    "ExecuteTime": {
     "end_time": "2024-03-28T17:08:32.718051Z",
     "start_time": "2024-03-28T17:08:32.713807Z"
    }
   },
   "outputs": [],
   "source": [
    "df_movies_metadata['popularity'] = pd.to_numeric(df_movies_metadata['popularity'], errors='coerce')\n",
    "df_movies_metadata['popularity'] = df_movies_metadata['popularity'].astype(int)"
   ]
  },
  {
   "cell_type": "code",
   "execution_count": 1042,
   "metadata": {
    "ExecuteTime": {
     "end_time": "2024-03-28T17:08:32.727469Z",
     "start_time": "2024-03-28T17:08:32.718524Z"
    }
   },
   "outputs": [],
   "source": [
    "df_movies_metadata['release_date'] = pd.to_datetime(df_movies_metadata['release_date'])"
   ]
  },
  {
   "cell_type": "markdown",
   "metadata": {},
   "source": [
    "In the next steps, we will look at outliers and missing values. Therefore, we will first merge the dataframes as this will be the final dataset we use for our model building."
   ]
  },
  {
   "cell_type": "code",
   "execution_count": 1043,
   "metadata": {
    "ExecuteTime": {
     "end_time": "2024-03-28T17:08:32.730015Z",
     "start_time": "2024-03-28T17:08:32.727971Z"
    }
   },
   "outputs": [
    {
     "data": {
      "text/plain": "id           Int64\nkeywords    object\ndtype: object"
     },
     "execution_count": 1043,
     "metadata": {},
     "output_type": "execute_result"
    }
   ],
   "source": [
    "df_keywords.dtypes"
   ]
  },
  {
   "cell_type": "code",
   "execution_count": 1044,
   "metadata": {
    "ExecuteTime": {
     "end_time": "2024-03-28T17:08:32.732325Z",
     "start_time": "2024-03-28T17:08:32.730440Z"
    }
   },
   "outputs": [
    {
     "data": {
      "text/plain": "movieId    Int64\nimdbId     Int64\ntmdbId     Int64\ndtype: object"
     },
     "execution_count": 1044,
     "metadata": {},
     "output_type": "execute_result"
    }
   ],
   "source": [
    "df_links.dtypes"
   ]
  },
  {
   "cell_type": "markdown",
   "metadata": {},
   "source": [
    "### Missing Values"
   ]
  },
  {
   "cell_type": "markdown",
   "metadata": {},
   "source": [
    "Let's check and cleanin missing values in our data. To do so, we will merge the dataframes df_keywords, df_links, df_credits, df_movies_metadata. df_ratings will be cleaned seperatly to safe computational time. "
   ]
  },
  {
   "cell_type": "code",
   "execution_count": 1045,
   "metadata": {
    "ExecuteTime": {
     "end_time": "2024-03-28T17:08:32.774019Z",
     "start_time": "2024-03-28T17:08:32.732732Z"
    }
   },
   "outputs": [],
   "source": [
    "df_merged = pd.merge(df_keywords, df_links, left_on='id', right_on='tmdbId', how='left')\n",
    "df_merged = pd.merge(df_merged, df_credits, left_on='id', right_on='id', how='left')\n",
    "df_merged = pd.merge(df_merged, df_movies_metadata, left_on=\"imdbId\", right_on=\"imdb_id\", how=\"left\")\n",
    "df_merged.drop(columns=[\"id_y\", \"imdb_id\"], inplace=True)"
   ]
  },
  {
   "cell_type": "markdown",
   "source": [
    "As we have different Ids in the dataframes, to identify the movies, let's see which one we want to keep."
   ],
   "metadata": {
    "collapsed": false
   }
  },
  {
   "cell_type": "code",
   "outputs": [
    {
     "name": "stdout",
     "output_type": "stream",
     "text": [
      "1\n",
      "176275\n"
     ]
    },
    {
     "data": {
      "text/plain": "                id_x       movieId         tmdbId          imdbId\ncount        46756.0       46756.0        46756.0         46756.0\nmean   109630.739114  97647.136924  109630.739114  1003898.326161\nstd    112824.139177  57206.087054  112824.139177  1366859.752041\nmin              2.0           1.0            2.0             1.0\n25%         26717.25       51125.0       26717.25        83509.75\n50%          61377.0      110483.0        61377.0        287635.0\n75%         159434.5      147392.5       159434.5      1560822.75\nmax         469172.0      176279.0       469172.0       7158814.0",
      "text/html": "<div>\n<style scoped>\n    .dataframe tbody tr th:only-of-type {\n        vertical-align: middle;\n    }\n\n    .dataframe tbody tr th {\n        vertical-align: top;\n    }\n\n    .dataframe thead th {\n        text-align: right;\n    }\n</style>\n<table border=\"1\" class=\"dataframe\">\n  <thead>\n    <tr style=\"text-align: right;\">\n      <th></th>\n      <th>id_x</th>\n      <th>movieId</th>\n      <th>tmdbId</th>\n      <th>imdbId</th>\n    </tr>\n  </thead>\n  <tbody>\n    <tr>\n      <th>count</th>\n      <td>46756.0</td>\n      <td>46756.0</td>\n      <td>46756.0</td>\n      <td>46756.0</td>\n    </tr>\n    <tr>\n      <th>mean</th>\n      <td>109630.739114</td>\n      <td>97647.136924</td>\n      <td>109630.739114</td>\n      <td>1003898.326161</td>\n    </tr>\n    <tr>\n      <th>std</th>\n      <td>112824.139177</td>\n      <td>57206.087054</td>\n      <td>112824.139177</td>\n      <td>1366859.752041</td>\n    </tr>\n    <tr>\n      <th>min</th>\n      <td>2.0</td>\n      <td>1.0</td>\n      <td>2.0</td>\n      <td>1.0</td>\n    </tr>\n    <tr>\n      <th>25%</th>\n      <td>26717.25</td>\n      <td>51125.0</td>\n      <td>26717.25</td>\n      <td>83509.75</td>\n    </tr>\n    <tr>\n      <th>50%</th>\n      <td>61377.0</td>\n      <td>110483.0</td>\n      <td>61377.0</td>\n      <td>287635.0</td>\n    </tr>\n    <tr>\n      <th>75%</th>\n      <td>159434.5</td>\n      <td>147392.5</td>\n      <td>159434.5</td>\n      <td>1560822.75</td>\n    </tr>\n    <tr>\n      <th>max</th>\n      <td>469172.0</td>\n      <td>176279.0</td>\n      <td>469172.0</td>\n      <td>7158814.0</td>\n    </tr>\n  </tbody>\n</table>\n</div>"
     },
     "execution_count": 1046,
     "metadata": {},
     "output_type": "execute_result"
    }
   ],
   "source": [
    "print(df_ratings[\"movieId\"].min())\n",
    "print(df_ratings[\"movieId\"].max())\n",
    "\n",
    "df_merged[['id_x', 'movieId', 'tmdbId', 'imdbId']].describe()"
   ],
   "metadata": {
    "collapsed": false,
    "ExecuteTime": {
     "end_time": "2024-03-28T17:08:32.823278Z",
     "start_time": "2024-03-28T17:08:32.774883Z"
    }
   },
   "execution_count": 1046
  },
  {
   "cell_type": "markdown",
   "source": [
    "We can see that the movieId column in df_ratings contains the same IDs as in the movieId column in df_merged. Let's drop the other columns and proceed with the NaN cleaning."
   ],
   "metadata": {
    "collapsed": false
   }
  },
  {
   "cell_type": "code",
   "outputs": [],
   "source": [
    "df_merged.drop(columns=[\"id_x\", \"imdbId\", \"tmdbId\"], inplace=True)"
   ],
   "metadata": {
    "collapsed": false,
    "ExecuteTime": {
     "end_time": "2024-03-28T17:08:32.830126Z",
     "start_time": "2024-03-28T17:08:32.823870Z"
    }
   },
   "execution_count": 1047
  },
  {
   "cell_type": "markdown",
   "metadata": {},
   "source": [
    "#### df_ratings"
   ]
  },
  {
   "cell_type": "markdown",
   "metadata": {},
   "source": [
    "No NaNs for df_ratings. Therefore, no cleaning necessary."
   ]
  },
  {
   "cell_type": "code",
   "execution_count": 1048,
   "metadata": {
    "ExecuteTime": {
     "end_time": "2024-03-28T17:08:32.888015Z",
     "start_time": "2024-03-28T17:08:32.830678Z"
    }
   },
   "outputs": [
    {
     "name": "stdout",
     "output_type": "stream",
     "text": [
      "userId       0\n",
      "movieId      0\n",
      "rating       0\n",
      "timestamp    0\n",
      "dtype: int64\n"
     ]
    }
   ],
   "source": [
    "print(df_ratings.isna().sum())"
   ]
  },
  {
   "cell_type": "markdown",
   "metadata": {},
   "source": [
    "#### df_merged"
   ]
  },
  {
   "cell_type": "markdown",
   "metadata": {},
   "source": [
    "We have several columns with missing values in the merged dataframe. Let's check and clean them."
   ]
  },
  {
   "cell_type": "code",
   "execution_count": 1049,
   "metadata": {
    "ExecuteTime": {
     "end_time": "2024-03-28T17:08:32.900571Z",
     "start_time": "2024-03-28T17:08:32.888612Z"
    }
   },
   "outputs": [
    {
     "name": "stdout",
     "output_type": "stream",
     "text": [
      "Total NaN values:\n",
      "  keywords                     0\n",
      "movieId                      0\n",
      "cast                         0\n",
      "belongs_to_collection    42216\n",
      "genres                     763\n",
      "original_language          773\n",
      "overview                  1714\n",
      "popularity                 763\n",
      "production_companies       763\n",
      "production_countries       763\n",
      "release_date               832\n",
      "runtime                   1018\n",
      "spoken_languages           763\n",
      "title                      763\n",
      "dtype: int64\n"
     ]
    }
   ],
   "source": [
    "print(\"Total NaN values:\\n \", df_merged.isna().sum())"
   ]
  },
  {
   "cell_type": "code",
   "execution_count": 1050,
   "metadata": {
    "ExecuteTime": {
     "end_time": "2024-03-28T17:08:32.912816Z",
     "start_time": "2024-03-28T17:08:32.901154Z"
    }
   },
   "outputs": [
    {
     "name": "stdout",
     "output_type": "stream",
     "text": [
      "\n",
      "Share of NaN values:\n",
      "  keywords                  0.000000\n",
      "movieId                   0.000000\n",
      "cast                      0.000000\n",
      "belongs_to_collection    90.290016\n",
      "genres                    1.631876\n",
      "original_language         1.653264\n",
      "overview                  3.665840\n",
      "popularity                1.631876\n",
      "production_companies      1.631876\n",
      "production_countries      1.631876\n",
      "release_date              1.779451\n",
      "runtime                   2.177261\n",
      "spoken_languages          1.631876\n",
      "title                     1.631876\n",
      "dtype: float64\n"
     ]
    }
   ],
   "source": [
    "print(\"\\nShare of NaN values:\\n \", (df_merged.isna().sum()) / len(df_merged) * 100)"
   ]
  },
  {
   "cell_type": "markdown",
   "metadata": {},
   "source": [
    "We have a high precentage of missing values for 'belongs_to_collection'. These makes sense as not all movies belong to a collection. Therefore, we will leave those NaNs as they are for now.\n",
    "\n",
    "Also, we can see a pattern for most of the variables where the number of missing values is the same. Overall the percentage of missing values is very low. Let's check for the ratio of missing values in the overall dataset."
   ]
  },
  {
   "cell_type": "code",
   "execution_count": 1051,
   "metadata": {
    "ExecuteTime": {
     "end_time": "2024-03-28T17:08:32.927859Z",
     "start_time": "2024-03-28T17:08:32.913421Z"
    }
   },
   "outputs": [
    {
     "name": "stdout",
     "output_type": "stream",
     "text": [
      "Percentage of rows with mising values:  3.8\n"
     ]
    }
   ],
   "source": [
    "print(\"Percentage of rows with mising values: \", (df_merged.drop(columns=['belongs_to_collection']).isna().any(axis=1).sum() / len(df_merged)*100).round(2))"
   ]
  },
  {
   "cell_type": "markdown",
   "metadata": {},
   "source": [
    "Let's drop all rows with missing values as they only account for 3.8% of the dataset and we want to ensure data completeness."
   ]
  },
  {
   "cell_type": "code",
   "execution_count": 1052,
   "metadata": {
    "ExecuteTime": {
     "end_time": "2024-03-28T17:08:32.943280Z",
     "start_time": "2024-03-28T17:08:32.928450Z"
    }
   },
   "outputs": [],
   "source": [
    "df_merged.dropna(subset=['genres', 'original_language', 'overview', 'popularity', 'production_companies', 'production_countries', 'release_date', 'runtime', 'spoken_languages', 'title'], inplace=True)"
   ]
  },
  {
   "cell_type": "markdown",
   "metadata": {},
   "source": [
    "Finally, there are also some columns which contain values such as \"xx\" or empty lists. Let's investigate those further."
   ]
  },
  {
   "cell_type": "code",
   "execution_count": 1053,
   "metadata": {
    "ExecuteTime": {
     "end_time": "2024-03-28T17:08:32.949887Z",
     "start_time": "2024-03-28T17:08:32.943836Z"
    }
   },
   "outputs": [
    {
     "data": {
      "text/plain": "                                                keywords  movieId  \\\n0      [{'id': 931, 'name': 'jealousy'}, {'id': 4290,...        1   \n1      [{'id': 10090, 'name': 'board game'}, {'id': 1...        2   \n2      [{'id': 1495, 'name': 'fishing'}, {'id': 12392...        3   \n3      [{'id': 818, 'name': 'based on novel'}, {'id':...        4   \n4      [{'id': 1009, 'name': 'baby'}, {'id': 1599, 'n...        5   \n...                                                  ...      ...   \n46750                                                 []   176267   \n46752  [{'id': 2679, 'name': 'artist'}, {'id': 14531,...   176271   \n46753                                                 []   176273   \n46754                                                 []   176275   \n46755                                                 []   176279   \n\n                                                    cast  \\\n0      [{'cast_id': 14, 'character': 'Woody (voice)',...   \n1      [{'cast_id': 1, 'character': 'Alan Parrish', '...   \n2      [{'cast_id': 2, 'character': 'Max Goldman', 'c...   \n3      [{'cast_id': 1, 'character': \"Savannah 'Vannah...   \n4      [{'cast_id': 1, 'character': 'George Banks', '...   \n...                                                  ...   \n46750  [{'cast_id': 1, 'character': 'Sir Robert Hode'...   \n46752  [{'cast_id': 1002, 'character': 'Sister Angela...   \n46753  [{'cast_id': 6, 'character': 'Emily Shaw', 'cr...   \n46754  [{'cast_id': 2, 'character': '', 'credit_id': ...   \n46755                                                 []   \n\n                                   belongs_to_collection  \\\n0      {'id': 10194, 'name': 'Toy Story Collection', ...   \n1                                                    NaN   \n2      {'id': 119050, 'name': 'Grumpy Old Men Collect...   \n3                                                    NaN   \n4      {'id': 96871, 'name': 'Father of the Bride Col...   \n...                                                  ...   \n46750                                                NaN   \n46752                                                NaN   \n46753                                                NaN   \n46754                                                NaN   \n46755                                                NaN   \n\n                                                  genres original_language  \\\n0      [{'id': 16, 'name': 'Animation'}, {'id': 35, '...                en   \n1      [{'id': 12, 'name': 'Adventure'}, {'id': 14, '...                en   \n2      [{'id': 10749, 'name': 'Romance'}, {'id': 35, ...                en   \n3      [{'id': 35, 'name': 'Comedy'}, {'id': 18, 'nam...                en   \n4                         [{'id': 35, 'name': 'Comedy'}]                en   \n...                                                  ...               ...   \n46750  [{'id': 18, 'name': 'Drama'}, {'id': 28, 'name...                en   \n46752                      [{'id': 18, 'name': 'Drama'}]                tl   \n46753  [{'id': 28, 'name': 'Action'}, {'id': 18, 'nam...                en   \n46754                                                 []                en   \n46755                                                 []                en   \n\n                                                overview  popularity  \\\n0      Led by Woody, Andy's toys live happily in his ...        21.0   \n1      When siblings Judy and Peter discover an encha...        17.0   \n2      A family wedding reignites the ancient feud be...        11.0   \n3      Cheated on, mistreated and stepped on, the wom...         3.0   \n4      Just when George Banks has recovered from his ...         8.0   \n...                                                  ...         ...   \n46750  Yet another version of the classic epic, with ...         5.0   \n46752  An artist struggles to finish his work while a...         0.0   \n46753  When one of her hits goes wrong, a professiona...         0.0   \n46754  In a small town live two brothers, one a minis...         0.0   \n46755  50 years after decriminalisation of homosexual...         0.0   \n\n                                    production_companies  \\\n0         [{'name': 'Pixar Animation Studios', 'id': 3}]   \n1      [{'name': 'TriStar Pictures', 'id': 559}, {'na...   \n2      [{'name': 'Warner Bros.', 'id': 6194}, {'name'...   \n3      [{'name': 'Twentieth Century Fox Film Corporat...   \n4      [{'name': 'Sandollar Productions', 'id': 5842}...   \n...                                                  ...   \n46750  [{'name': 'Westdeutscher Rundfunk (WDR)', 'id'...   \n46752             [{'name': 'Sine Olivia', 'id': 19653}]   \n46753  [{'name': 'American World Pictures', 'id': 6165}]   \n46754               [{'name': 'Yermoliev', 'id': 88753}]   \n46755                                                 []   \n\n                                    production_countries release_date  \\\n0      [{'iso_3166_1': 'US', 'name': 'United States o...   1995-10-30   \n1      [{'iso_3166_1': 'US', 'name': 'United States o...   1995-12-15   \n2      [{'iso_3166_1': 'US', 'name': 'United States o...   1995-12-22   \n3      [{'iso_3166_1': 'US', 'name': 'United States o...   1995-12-22   \n4      [{'iso_3166_1': 'US', 'name': 'United States o...   1995-02-10   \n...                                                  ...          ...   \n46750  [{'iso_3166_1': 'CA', 'name': 'Canada'}, {'iso...   1991-05-13   \n46752      [{'iso_3166_1': 'PH', 'name': 'Philippines'}]   2011-11-17   \n46753  [{'iso_3166_1': 'US', 'name': 'United States o...   2003-08-01   \n46754           [{'iso_3166_1': 'RU', 'name': 'Russia'}]   1917-10-21   \n46755   [{'iso_3166_1': 'GB', 'name': 'United Kingdom'}]   2017-06-09   \n\n       runtime                                   spoken_languages  \\\n0         81.0           [{'iso_639_1': 'en', 'name': 'English'}]   \n1        104.0  [{'iso_639_1': 'en', 'name': 'English'}, {'iso...   \n2        101.0           [{'iso_639_1': 'en', 'name': 'English'}]   \n3        127.0           [{'iso_639_1': 'en', 'name': 'English'}]   \n4        106.0           [{'iso_639_1': 'en', 'name': 'English'}]   \n...        ...                                                ...   \n46750    104.0           [{'iso_639_1': 'en', 'name': 'English'}]   \n46752    360.0                  [{'iso_639_1': 'tl', 'name': ''}]   \n46753     90.0           [{'iso_639_1': 'en', 'name': 'English'}]   \n46754     87.0                                                 []   \n46755     75.0           [{'iso_639_1': 'en', 'name': 'English'}]   \n\n                             title  \n0                        Toy Story  \n1                          Jumanji  \n2                 Grumpier Old Men  \n3                Waiting to Exhale  \n4      Father of the Bride Part II  \n...                            ...  \n46750                   Robin Hood  \n46752          Century of Birthing  \n46753                     Betrayal  \n46754             Satan Triumphant  \n46755                     Queerama  \n\n[44977 rows x 14 columns]",
      "text/html": "<div>\n<style scoped>\n    .dataframe tbody tr th:only-of-type {\n        vertical-align: middle;\n    }\n\n    .dataframe tbody tr th {\n        vertical-align: top;\n    }\n\n    .dataframe thead th {\n        text-align: right;\n    }\n</style>\n<table border=\"1\" class=\"dataframe\">\n  <thead>\n    <tr style=\"text-align: right;\">\n      <th></th>\n      <th>keywords</th>\n      <th>movieId</th>\n      <th>cast</th>\n      <th>belongs_to_collection</th>\n      <th>genres</th>\n      <th>original_language</th>\n      <th>overview</th>\n      <th>popularity</th>\n      <th>production_companies</th>\n      <th>production_countries</th>\n      <th>release_date</th>\n      <th>runtime</th>\n      <th>spoken_languages</th>\n      <th>title</th>\n    </tr>\n  </thead>\n  <tbody>\n    <tr>\n      <th>0</th>\n      <td>[{'id': 931, 'name': 'jealousy'}, {'id': 4290,...</td>\n      <td>1</td>\n      <td>[{'cast_id': 14, 'character': 'Woody (voice)',...</td>\n      <td>{'id': 10194, 'name': 'Toy Story Collection', ...</td>\n      <td>[{'id': 16, 'name': 'Animation'}, {'id': 35, '...</td>\n      <td>en</td>\n      <td>Led by Woody, Andy's toys live happily in his ...</td>\n      <td>21.0</td>\n      <td>[{'name': 'Pixar Animation Studios', 'id': 3}]</td>\n      <td>[{'iso_3166_1': 'US', 'name': 'United States o...</td>\n      <td>1995-10-30</td>\n      <td>81.0</td>\n      <td>[{'iso_639_1': 'en', 'name': 'English'}]</td>\n      <td>Toy Story</td>\n    </tr>\n    <tr>\n      <th>1</th>\n      <td>[{'id': 10090, 'name': 'board game'}, {'id': 1...</td>\n      <td>2</td>\n      <td>[{'cast_id': 1, 'character': 'Alan Parrish', '...</td>\n      <td>NaN</td>\n      <td>[{'id': 12, 'name': 'Adventure'}, {'id': 14, '...</td>\n      <td>en</td>\n      <td>When siblings Judy and Peter discover an encha...</td>\n      <td>17.0</td>\n      <td>[{'name': 'TriStar Pictures', 'id': 559}, {'na...</td>\n      <td>[{'iso_3166_1': 'US', 'name': 'United States o...</td>\n      <td>1995-12-15</td>\n      <td>104.0</td>\n      <td>[{'iso_639_1': 'en', 'name': 'English'}, {'iso...</td>\n      <td>Jumanji</td>\n    </tr>\n    <tr>\n      <th>2</th>\n      <td>[{'id': 1495, 'name': 'fishing'}, {'id': 12392...</td>\n      <td>3</td>\n      <td>[{'cast_id': 2, 'character': 'Max Goldman', 'c...</td>\n      <td>{'id': 119050, 'name': 'Grumpy Old Men Collect...</td>\n      <td>[{'id': 10749, 'name': 'Romance'}, {'id': 35, ...</td>\n      <td>en</td>\n      <td>A family wedding reignites the ancient feud be...</td>\n      <td>11.0</td>\n      <td>[{'name': 'Warner Bros.', 'id': 6194}, {'name'...</td>\n      <td>[{'iso_3166_1': 'US', 'name': 'United States o...</td>\n      <td>1995-12-22</td>\n      <td>101.0</td>\n      <td>[{'iso_639_1': 'en', 'name': 'English'}]</td>\n      <td>Grumpier Old Men</td>\n    </tr>\n    <tr>\n      <th>3</th>\n      <td>[{'id': 818, 'name': 'based on novel'}, {'id':...</td>\n      <td>4</td>\n      <td>[{'cast_id': 1, 'character': \"Savannah 'Vannah...</td>\n      <td>NaN</td>\n      <td>[{'id': 35, 'name': 'Comedy'}, {'id': 18, 'nam...</td>\n      <td>en</td>\n      <td>Cheated on, mistreated and stepped on, the wom...</td>\n      <td>3.0</td>\n      <td>[{'name': 'Twentieth Century Fox Film Corporat...</td>\n      <td>[{'iso_3166_1': 'US', 'name': 'United States o...</td>\n      <td>1995-12-22</td>\n      <td>127.0</td>\n      <td>[{'iso_639_1': 'en', 'name': 'English'}]</td>\n      <td>Waiting to Exhale</td>\n    </tr>\n    <tr>\n      <th>4</th>\n      <td>[{'id': 1009, 'name': 'baby'}, {'id': 1599, 'n...</td>\n      <td>5</td>\n      <td>[{'cast_id': 1, 'character': 'George Banks', '...</td>\n      <td>{'id': 96871, 'name': 'Father of the Bride Col...</td>\n      <td>[{'id': 35, 'name': 'Comedy'}]</td>\n      <td>en</td>\n      <td>Just when George Banks has recovered from his ...</td>\n      <td>8.0</td>\n      <td>[{'name': 'Sandollar Productions', 'id': 5842}...</td>\n      <td>[{'iso_3166_1': 'US', 'name': 'United States o...</td>\n      <td>1995-02-10</td>\n      <td>106.0</td>\n      <td>[{'iso_639_1': 'en', 'name': 'English'}]</td>\n      <td>Father of the Bride Part II</td>\n    </tr>\n    <tr>\n      <th>...</th>\n      <td>...</td>\n      <td>...</td>\n      <td>...</td>\n      <td>...</td>\n      <td>...</td>\n      <td>...</td>\n      <td>...</td>\n      <td>...</td>\n      <td>...</td>\n      <td>...</td>\n      <td>...</td>\n      <td>...</td>\n      <td>...</td>\n      <td>...</td>\n    </tr>\n    <tr>\n      <th>46750</th>\n      <td>[]</td>\n      <td>176267</td>\n      <td>[{'cast_id': 1, 'character': 'Sir Robert Hode'...</td>\n      <td>NaN</td>\n      <td>[{'id': 18, 'name': 'Drama'}, {'id': 28, 'name...</td>\n      <td>en</td>\n      <td>Yet another version of the classic epic, with ...</td>\n      <td>5.0</td>\n      <td>[{'name': 'Westdeutscher Rundfunk (WDR)', 'id'...</td>\n      <td>[{'iso_3166_1': 'CA', 'name': 'Canada'}, {'iso...</td>\n      <td>1991-05-13</td>\n      <td>104.0</td>\n      <td>[{'iso_639_1': 'en', 'name': 'English'}]</td>\n      <td>Robin Hood</td>\n    </tr>\n    <tr>\n      <th>46752</th>\n      <td>[{'id': 2679, 'name': 'artist'}, {'id': 14531,...</td>\n      <td>176271</td>\n      <td>[{'cast_id': 1002, 'character': 'Sister Angela...</td>\n      <td>NaN</td>\n      <td>[{'id': 18, 'name': 'Drama'}]</td>\n      <td>tl</td>\n      <td>An artist struggles to finish his work while a...</td>\n      <td>0.0</td>\n      <td>[{'name': 'Sine Olivia', 'id': 19653}]</td>\n      <td>[{'iso_3166_1': 'PH', 'name': 'Philippines'}]</td>\n      <td>2011-11-17</td>\n      <td>360.0</td>\n      <td>[{'iso_639_1': 'tl', 'name': ''}]</td>\n      <td>Century of Birthing</td>\n    </tr>\n    <tr>\n      <th>46753</th>\n      <td>[]</td>\n      <td>176273</td>\n      <td>[{'cast_id': 6, 'character': 'Emily Shaw', 'cr...</td>\n      <td>NaN</td>\n      <td>[{'id': 28, 'name': 'Action'}, {'id': 18, 'nam...</td>\n      <td>en</td>\n      <td>When one of her hits goes wrong, a professiona...</td>\n      <td>0.0</td>\n      <td>[{'name': 'American World Pictures', 'id': 6165}]</td>\n      <td>[{'iso_3166_1': 'US', 'name': 'United States o...</td>\n      <td>2003-08-01</td>\n      <td>90.0</td>\n      <td>[{'iso_639_1': 'en', 'name': 'English'}]</td>\n      <td>Betrayal</td>\n    </tr>\n    <tr>\n      <th>46754</th>\n      <td>[]</td>\n      <td>176275</td>\n      <td>[{'cast_id': 2, 'character': '', 'credit_id': ...</td>\n      <td>NaN</td>\n      <td>[]</td>\n      <td>en</td>\n      <td>In a small town live two brothers, one a minis...</td>\n      <td>0.0</td>\n      <td>[{'name': 'Yermoliev', 'id': 88753}]</td>\n      <td>[{'iso_3166_1': 'RU', 'name': 'Russia'}]</td>\n      <td>1917-10-21</td>\n      <td>87.0</td>\n      <td>[]</td>\n      <td>Satan Triumphant</td>\n    </tr>\n    <tr>\n      <th>46755</th>\n      <td>[]</td>\n      <td>176279</td>\n      <td>[]</td>\n      <td>NaN</td>\n      <td>[]</td>\n      <td>en</td>\n      <td>50 years after decriminalisation of homosexual...</td>\n      <td>0.0</td>\n      <td>[]</td>\n      <td>[{'iso_3166_1': 'GB', 'name': 'United Kingdom'}]</td>\n      <td>2017-06-09</td>\n      <td>75.0</td>\n      <td>[{'iso_639_1': 'en', 'name': 'English'}]</td>\n      <td>Queerama</td>\n    </tr>\n  </tbody>\n</table>\n<p>44977 rows × 14 columns</p>\n</div>"
     },
     "execution_count": 1053,
     "metadata": {},
     "output_type": "execute_result"
    }
   ],
   "source": [
    "df_merged"
   ]
  },
  {
   "cell_type": "markdown",
   "metadata": {},
   "source": [
    "### Check Ranges / Identify Outliers"
   ]
  },
  {
   "cell_type": "markdown",
   "metadata": {},
   "source": [
    "#### df_ratings"
   ]
  },
  {
   "cell_type": "markdown",
   "metadata": {},
   "source": [
    "We have ratings from 0 to 5. It seems like overall there are no outliers."
   ]
  },
  {
   "cell_type": "code",
   "execution_count": 1054,
   "metadata": {
    "ExecuteTime": {
     "end_time": "2024-03-28T17:08:34.581837Z",
     "start_time": "2024-03-28T17:08:32.950460Z"
    }
   },
   "outputs": [
    {
     "data": {
      "text/plain": "             userId       movieId      rating     timestamp\ncount  2.602429e+07  2.602429e+07  26024289.0  2.602429e+07\nmean   1.350371e+05  1.584911e+04     3.52809  1.171258e+09\nstd    7.817620e+04  3.108526e+04    1.065443  2.052889e+08\nmin    1.000000e+00  1.000000e+00         0.5  7.896520e+08\n25%    6.716400e+04  1.073000e+03         3.0  9.907545e+08\n50%    1.351630e+05  2.583000e+03         3.5  1.151716e+09\n75%    2.026930e+05  6.503000e+03         4.0  1.357578e+09\nmax    2.708960e+05  1.762750e+05         5.0  1.501830e+09",
      "text/html": "<div>\n<style scoped>\n    .dataframe tbody tr th:only-of-type {\n        vertical-align: middle;\n    }\n\n    .dataframe tbody tr th {\n        vertical-align: top;\n    }\n\n    .dataframe thead th {\n        text-align: right;\n    }\n</style>\n<table border=\"1\" class=\"dataframe\">\n  <thead>\n    <tr style=\"text-align: right;\">\n      <th></th>\n      <th>userId</th>\n      <th>movieId</th>\n      <th>rating</th>\n      <th>timestamp</th>\n    </tr>\n  </thead>\n  <tbody>\n    <tr>\n      <th>count</th>\n      <td>2.602429e+07</td>\n      <td>2.602429e+07</td>\n      <td>26024289.0</td>\n      <td>2.602429e+07</td>\n    </tr>\n    <tr>\n      <th>mean</th>\n      <td>1.350371e+05</td>\n      <td>1.584911e+04</td>\n      <td>3.52809</td>\n      <td>1.171258e+09</td>\n    </tr>\n    <tr>\n      <th>std</th>\n      <td>7.817620e+04</td>\n      <td>3.108526e+04</td>\n      <td>1.065443</td>\n      <td>2.052889e+08</td>\n    </tr>\n    <tr>\n      <th>min</th>\n      <td>1.000000e+00</td>\n      <td>1.000000e+00</td>\n      <td>0.5</td>\n      <td>7.896520e+08</td>\n    </tr>\n    <tr>\n      <th>25%</th>\n      <td>6.716400e+04</td>\n      <td>1.073000e+03</td>\n      <td>3.0</td>\n      <td>9.907545e+08</td>\n    </tr>\n    <tr>\n      <th>50%</th>\n      <td>1.351630e+05</td>\n      <td>2.583000e+03</td>\n      <td>3.5</td>\n      <td>1.151716e+09</td>\n    </tr>\n    <tr>\n      <th>75%</th>\n      <td>2.026930e+05</td>\n      <td>6.503000e+03</td>\n      <td>4.0</td>\n      <td>1.357578e+09</td>\n    </tr>\n    <tr>\n      <th>max</th>\n      <td>2.708960e+05</td>\n      <td>1.762750e+05</td>\n      <td>5.0</td>\n      <td>1.501830e+09</td>\n    </tr>\n  </tbody>\n</table>\n</div>"
     },
     "execution_count": 1054,
     "metadata": {},
     "output_type": "execute_result"
    }
   ],
   "source": [
    "df_ratings.describe()"
   ]
  },
  {
   "cell_type": "markdown",
   "metadata": {},
   "source": [
    "#### df_merged"
   ]
  },
  {
   "cell_type": "code",
   "execution_count": 1055,
   "metadata": {
    "ExecuteTime": {
     "end_time": "2024-03-28T17:08:34.592573Z",
     "start_time": "2024-03-28T17:08:34.582985Z"
    }
   },
   "outputs": [
    {
     "data": {
      "text/plain": "            movieId    popularity                   release_date       runtime\ncount       44977.0  44977.000000                          44977  44977.000000\nmean   96594.315161      2.542811  1992-04-21 20:52:51.861173376     95.137626\nmin             1.0      0.000000            1874-12-09 00:00:00      0.000000\n25%         48560.0      0.000000            1978-06-23 00:00:00     85.000000\n50%        109284.0      1.000000            2001-09-14 00:00:00     95.000000\n75%        146550.0      3.000000            2011-01-06 00:00:00    107.000000\nmax        176279.0    547.000000            2017-12-27 00:00:00   1256.000000\nstd    57335.768138      6.005085                            NaN     37.278343",
      "text/html": "<div>\n<style scoped>\n    .dataframe tbody tr th:only-of-type {\n        vertical-align: middle;\n    }\n\n    .dataframe tbody tr th {\n        vertical-align: top;\n    }\n\n    .dataframe thead th {\n        text-align: right;\n    }\n</style>\n<table border=\"1\" class=\"dataframe\">\n  <thead>\n    <tr style=\"text-align: right;\">\n      <th></th>\n      <th>movieId</th>\n      <th>popularity</th>\n      <th>release_date</th>\n      <th>runtime</th>\n    </tr>\n  </thead>\n  <tbody>\n    <tr>\n      <th>count</th>\n      <td>44977.0</td>\n      <td>44977.000000</td>\n      <td>44977</td>\n      <td>44977.000000</td>\n    </tr>\n    <tr>\n      <th>mean</th>\n      <td>96594.315161</td>\n      <td>2.542811</td>\n      <td>1992-04-21 20:52:51.861173376</td>\n      <td>95.137626</td>\n    </tr>\n    <tr>\n      <th>min</th>\n      <td>1.0</td>\n      <td>0.000000</td>\n      <td>1874-12-09 00:00:00</td>\n      <td>0.000000</td>\n    </tr>\n    <tr>\n      <th>25%</th>\n      <td>48560.0</td>\n      <td>0.000000</td>\n      <td>1978-06-23 00:00:00</td>\n      <td>85.000000</td>\n    </tr>\n    <tr>\n      <th>50%</th>\n      <td>109284.0</td>\n      <td>1.000000</td>\n      <td>2001-09-14 00:00:00</td>\n      <td>95.000000</td>\n    </tr>\n    <tr>\n      <th>75%</th>\n      <td>146550.0</td>\n      <td>3.000000</td>\n      <td>2011-01-06 00:00:00</td>\n      <td>107.000000</td>\n    </tr>\n    <tr>\n      <th>max</th>\n      <td>176279.0</td>\n      <td>547.000000</td>\n      <td>2017-12-27 00:00:00</td>\n      <td>1256.000000</td>\n    </tr>\n    <tr>\n      <th>std</th>\n      <td>57335.768138</td>\n      <td>6.005085</td>\n      <td>NaN</td>\n      <td>37.278343</td>\n    </tr>\n  </tbody>\n</table>\n</div>"
     },
     "execution_count": 1055,
     "metadata": {},
     "output_type": "execute_result"
    }
   ],
   "source": [
    "df_merged.describe()"
   ]
  },
  {
   "cell_type": "markdown",
   "metadata": {},
   "source": [
    "We have some unusual values in the columns `popularity`, `runtime`, `vote_count` and `release_date`. Let's check those further."
   ]
  },
  {
   "cell_type": "markdown",
   "metadata": {},
   "source": [
    "`popularity`"
   ]
  },
  {
   "cell_type": "code",
   "execution_count": 1056,
   "metadata": {
    "ExecuteTime": {
     "end_time": "2024-03-28T17:08:34.666486Z",
     "start_time": "2024-03-28T17:08:34.593137Z"
    }
   },
   "outputs": [
    {
     "data": {
      "text/plain": "Text(0, 0.5, 'Popularity')"
     },
     "execution_count": 1056,
     "metadata": {},
     "output_type": "execute_result"
    },
    {
     "data": {
      "text/plain": "<Figure size 640x480 with 1 Axes>",
      "image/png": "[encoded data removed]"
     },
     "metadata": {},
     "output_type": "display_data"
    }
   ],
   "source": [
    "ax = df_merged['popularity'].plot()\n",
    "\n",
    "ax.set_title(\"Popularity Distribution\")\n",
    "ax.set_xlabel(\"Movie Index\")\n",
    "ax.set_ylabel(\"Popularity\")"
   ]
  },
  {
   "cell_type": "code",
   "execution_count": 1057,
   "metadata": {
    "ExecuteTime": {
     "end_time": "2024-03-28T17:08:34.673095Z",
     "start_time": "2024-03-28T17:08:34.667110Z"
    }
   },
   "outputs": [
    {
     "data": {
      "text/plain": "                                                keywords  movieId  \\\n30980  [{'id': 3487, 'name': 'assistant'}, {'id': 179...   135887   \n33641  [{'id': 849, 'name': 'dc comics'}, {'id': 1701...   143355   \n43498  [{'id': 254, 'name': 'france'}, {'id': 2343, '...   168366   \n44919  [{'id': 642, 'name': 'robbery'}, {'id': 2076, ...   171763   \n24699  [{'id': 380, 'name': 'brother brother relation...   115617   \n\n                                                    cast  \\\n30980  [{'cast_id': 22, 'character': 'Scarlet Overkil...   \n33641  [{'cast_id': 0, 'character': 'Wonder Woman / D...   \n43498  [{'cast_id': 174, 'character': 'Belle', 'credi...   \n44919  [{'cast_id': 9, 'character': 'Baby', 'credit_i...   \n24699  [{'cast_id': 23, 'character': 'Baymax (voice)'...   \n\n                                   belongs_to_collection  \\\n30980  {'id': 86066, 'name': 'Despicable Me Collectio...   \n33641  {'id': 468552, 'name': 'Wonder Woman Collectio...   \n43498                                                NaN   \n44919                                                NaN   \n24699                                                NaN   \n\n                                                  genres original_language  \\\n30980  [{'id': 10751, 'name': 'Family'}, {'id': 16, '...                en   \n33641  [{'id': 28, 'name': 'Action'}, {'id': 12, 'nam...                en   \n43498  [{'id': 10751, 'name': 'Family'}, {'id': 14, '...                en   \n44919  [{'id': 28, 'name': 'Action'}, {'id': 80, 'nam...                en   \n24699  [{'id': 12, 'name': 'Adventure'}, {'id': 10751...                en   \n\n                                                overview  popularity  \\\n30980  Minions Stuart, Kevin and Bob are recruited by...       547.0   \n33641  An Amazon princess comes to the world of Man t...       294.0   \n43498  A live-action adaptation of Disney's version o...       287.0   \n44919  After being coerced into working for a crime b...       228.0   \n24699  The special bond that develops between plus-si...       213.0   \n\n                                    production_companies  \\\n30980  [{'name': 'Universal Pictures', 'id': 33}, {'n...   \n33641  [{'name': 'Dune Entertainment', 'id': 444}, {'...   \n43498  [{'name': 'Walt Disney Pictures', 'id': 2}, {'...   \n44919  [{'name': 'Big Talk Productions', 'id': 443}, ...   \n24699  [{'name': 'Walt Disney Pictures', 'id': 2}, {'...   \n\n                                    production_countries release_date  \\\n30980  [{'iso_3166_1': 'US', 'name': 'United States o...   2015-06-17   \n33641  [{'iso_3166_1': 'US', 'name': 'United States o...   2017-05-30   \n43498  [{'iso_3166_1': 'GB', 'name': 'United Kingdom'...   2017-03-16   \n44919  [{'iso_3166_1': 'GB', 'name': 'United Kingdom'...   2017-06-28   \n24699  [{'iso_3166_1': 'US', 'name': 'United States o...   2014-10-24   \n\n       runtime                                   spoken_languages  \\\n30980     91.0           [{'iso_639_1': 'en', 'name': 'English'}]   \n33641    141.0  [{'iso_639_1': 'de', 'name': 'Deutsch'}, {'iso...   \n43498    129.0           [{'iso_639_1': 'en', 'name': 'English'}]   \n44919    113.0           [{'iso_639_1': 'en', 'name': 'English'}]   \n24699    102.0           [{'iso_639_1': 'en', 'name': 'English'}]   \n\n                      title  \n30980               Minions  \n33641          Wonder Woman  \n43498  Beauty and the Beast  \n44919           Baby Driver  \n24699            Big Hero 6  ",
      "text/html": "<div>\n<style scoped>\n    .dataframe tbody tr th:only-of-type {\n        vertical-align: middle;\n    }\n\n    .dataframe tbody tr th {\n        vertical-align: top;\n    }\n\n    .dataframe thead th {\n        text-align: right;\n    }\n</style>\n<table border=\"1\" class=\"dataframe\">\n  <thead>\n    <tr style=\"text-align: right;\">\n      <th></th>\n      <th>keywords</th>\n      <th>movieId</th>\n      <th>cast</th>\n      <th>belongs_to_collection</th>\n      <th>genres</th>\n      <th>original_language</th>\n      <th>overview</th>\n      <th>popularity</th>\n      <th>production_companies</th>\n      <th>production_countries</th>\n      <th>release_date</th>\n      <th>runtime</th>\n      <th>spoken_languages</th>\n      <th>title</th>\n    </tr>\n  </thead>\n  <tbody>\n    <tr>\n      <th>30980</th>\n      <td>[{'id': 3487, 'name': 'assistant'}, {'id': 179...</td>\n      <td>135887</td>\n      <td>[{'cast_id': 22, 'character': 'Scarlet Overkil...</td>\n      <td>{'id': 86066, 'name': 'Despicable Me Collectio...</td>\n      <td>[{'id': 10751, 'name': 'Family'}, {'id': 16, '...</td>\n      <td>en</td>\n      <td>Minions Stuart, Kevin and Bob are recruited by...</td>\n      <td>547.0</td>\n      <td>[{'name': 'Universal Pictures', 'id': 33}, {'n...</td>\n      <td>[{'iso_3166_1': 'US', 'name': 'United States o...</td>\n      <td>2015-06-17</td>\n      <td>91.0</td>\n      <td>[{'iso_639_1': 'en', 'name': 'English'}]</td>\n      <td>Minions</td>\n    </tr>\n    <tr>\n      <th>33641</th>\n      <td>[{'id': 849, 'name': 'dc comics'}, {'id': 1701...</td>\n      <td>143355</td>\n      <td>[{'cast_id': 0, 'character': 'Wonder Woman / D...</td>\n      <td>{'id': 468552, 'name': 'Wonder Woman Collectio...</td>\n      <td>[{'id': 28, 'name': 'Action'}, {'id': 12, 'nam...</td>\n      <td>en</td>\n      <td>An Amazon princess comes to the world of Man t...</td>\n      <td>294.0</td>\n      <td>[{'name': 'Dune Entertainment', 'id': 444}, {'...</td>\n      <td>[{'iso_3166_1': 'US', 'name': 'United States o...</td>\n      <td>2017-05-30</td>\n      <td>141.0</td>\n      <td>[{'iso_639_1': 'de', 'name': 'Deutsch'}, {'iso...</td>\n      <td>Wonder Woman</td>\n    </tr>\n    <tr>\n      <th>43498</th>\n      <td>[{'id': 254, 'name': 'france'}, {'id': 2343, '...</td>\n      <td>168366</td>\n      <td>[{'cast_id': 174, 'character': 'Belle', 'credi...</td>\n      <td>NaN</td>\n      <td>[{'id': 10751, 'name': 'Family'}, {'id': 14, '...</td>\n      <td>en</td>\n      <td>A live-action adaptation of Disney's version o...</td>\n      <td>287.0</td>\n      <td>[{'name': 'Walt Disney Pictures', 'id': 2}, {'...</td>\n      <td>[{'iso_3166_1': 'GB', 'name': 'United Kingdom'...</td>\n      <td>2017-03-16</td>\n      <td>129.0</td>\n      <td>[{'iso_639_1': 'en', 'name': 'English'}]</td>\n      <td>Beauty and the Beast</td>\n    </tr>\n    <tr>\n      <th>44919</th>\n      <td>[{'id': 642, 'name': 'robbery'}, {'id': 2076, ...</td>\n      <td>171763</td>\n      <td>[{'cast_id': 9, 'character': 'Baby', 'credit_i...</td>\n      <td>NaN</td>\n      <td>[{'id': 28, 'name': 'Action'}, {'id': 80, 'nam...</td>\n      <td>en</td>\n      <td>After being coerced into working for a crime b...</td>\n      <td>228.0</td>\n      <td>[{'name': 'Big Talk Productions', 'id': 443}, ...</td>\n      <td>[{'iso_3166_1': 'GB', 'name': 'United Kingdom'...</td>\n      <td>2017-06-28</td>\n      <td>113.0</td>\n      <td>[{'iso_639_1': 'en', 'name': 'English'}]</td>\n      <td>Baby Driver</td>\n    </tr>\n    <tr>\n      <th>24699</th>\n      <td>[{'id': 380, 'name': 'brother brother relation...</td>\n      <td>115617</td>\n      <td>[{'cast_id': 23, 'character': 'Baymax (voice)'...</td>\n      <td>NaN</td>\n      <td>[{'id': 12, 'name': 'Adventure'}, {'id': 10751...</td>\n      <td>en</td>\n      <td>The special bond that develops between plus-si...</td>\n      <td>213.0</td>\n      <td>[{'name': 'Walt Disney Pictures', 'id': 2}, {'...</td>\n      <td>[{'iso_3166_1': 'US', 'name': 'United States o...</td>\n      <td>2014-10-24</td>\n      <td>102.0</td>\n      <td>[{'iso_639_1': 'en', 'name': 'English'}]</td>\n      <td>Big Hero 6</td>\n    </tr>\n  </tbody>\n</table>\n</div>"
     },
     "execution_count": 1057,
     "metadata": {},
     "output_type": "execute_result"
    }
   ],
   "source": [
    "df_merged[df_merged['popularity']>200].sort_values(by=\"popularity\", ascending=False)"
   ]
  },
  {
   "cell_type": "markdown",
   "metadata": {},
   "source": [
    "`runtime`"
   ]
  },
  {
   "cell_type": "code",
   "execution_count": 1058,
   "metadata": {
    "ExecuteTime": {
     "end_time": "2024-03-28T17:08:34.741814Z",
     "start_time": "2024-03-28T17:08:34.673703Z"
    }
   },
   "outputs": [
    {
     "data": {
      "text/plain": "<Figure size 640x480 with 1 Axes>",
      "image/png": "[encoded data removed]"
     },
     "metadata": {},
     "output_type": "display_data"
    },
    {
     "name": "stdout",
     "output_type": "stream",
     "text": [
      "count    44977.000000\n",
      "mean        95.137626\n",
      "std         37.278343\n",
      "min          0.000000\n",
      "25%         85.000000\n",
      "50%         95.000000\n",
      "75%        107.000000\n",
      "max       1256.000000\n",
      "Name: runtime, dtype: float64\n"
     ]
    }
   ],
   "source": [
    "ax = df_merged['runtime'].plot()\n",
    "\n",
    "# Set the title and labels\n",
    "ax.set_title(\"Runtime Distribution\")\n",
    "ax.set_xlabel(\"Movie Index\")\n",
    "ax.set_ylabel(\"Runtime (minutes)\")\n",
    "\n",
    "# Show the plot\n",
    "plt.show()\n",
    "\n",
    "print(df_merged['runtime'].describe())"
   ]
  },
  {
   "cell_type": "markdown",
   "metadata": {},
   "source": [
    "It seems like we have some unusualy high and unusualy low values. for the runtime."
   ]
  },
  {
   "cell_type": "code",
   "execution_count": 1059,
   "metadata": {
    "ExecuteTime": {
     "end_time": "2024-03-28T17:08:34.753639Z",
     "start_time": "2024-03-28T17:08:34.742325Z"
    }
   },
   "outputs": [
    {
     "name": "stdout",
     "output_type": "stream",
     "text": [
      "Percentage of movies shorter than 45 min : 6.01\n"
     ]
    }
   ],
   "source": [
    "num_movies_shorter_than_45min = len(df_merged[df_merged['runtime'] < 45])\n",
    "percentage = num_movies_shorter_than_45min / len(df_merged) * 100\n",
    "print(\"Percentage of movies shorter than 45 min : {:.2f}\".format(percentage))"
   ]
  },
  {
   "cell_type": "markdown",
   "metadata": {},
   "source": [
    "5.78 % of the movies are shorter then 45 min. At this point we decide that we want to recommend movies that are at least 45 min long. Therefore, we will drop those rows. We will also drop all movies that are longer than 300 min (5 hours). This as well is a decision we make at this point regarding the scope of the streaming service at its recommender system. Moreover we can assume several outliers that do not represent real or only experimental movies. The longest cinematic movie ever created is 873 min long. (https://en.wikipedia.org/wiki/List_of_longest_films)"
   ]
  },
  {
   "cell_type": "code",
   "execution_count": 1060,
   "metadata": {
    "ExecuteTime": {
     "end_time": "2024-03-28T17:08:34.793651Z",
     "start_time": "2024-03-28T17:08:34.754240Z"
    }
   },
   "outputs": [],
   "source": [
    "df_merged = df_merged[(df_merged['runtime'] >= 45) & (df_merged['runtime'] <= 300)].copy()"
   ]
  },
  {
   "cell_type": "markdown",
   "metadata": {},
   "source": [
    "`release_date`"
   ]
  },
  {
   "cell_type": "markdown",
   "metadata": {},
   "source": [
    "There seems to be something wrong with the Release Date as the earliest date is in the year 1874."
   ]
  },
  {
   "cell_type": "code",
   "execution_count": 1061,
   "metadata": {
    "ExecuteTime": {
     "end_time": "2024-03-28T17:08:34.807342Z",
     "start_time": "2024-03-28T17:08:34.794203Z"
    }
   },
   "outputs": [
    {
     "data": {
      "text/plain": "                                                keywords  movieId  \\\n44410  [{'id': 154802, 'name': 'silent film'}, {'id':...   170573   \n25038  [{'id': 6154, 'name': 'hell'}, {'id': 41011, '...   116578   \n17909                                                 []    89323   \n44366  [{'id': 1405, 'name': 'roman empire'}, {'id': ...   170479   \n20718                                                 []   100946   \n...                                                  ...      ...   \n43545  [{'id': 131, 'name': 'italy'}, {'id': 818, 'na...   168492   \n46291  [{'id': 886, 'name': 'film making'}, {'id': 16...   175151   \n45809                                                 []   173731   \n43540  [{'id': 1382, 'name': 'factory'}, {'id': 2609,...   168478   \n45576                                                 []   173203   \n\n                                                    cast  \\\n44410  [{'cast_id': 2, 'character': '', 'credit_id': ...   \n25038  [{'cast_id': 1001, 'character': 'Dante Alighie...   \n17909  [{'cast_id': 10, 'character': 'King Edward IV'...   \n44366  [{'cast_id': 1001, 'character': 'Cleopatra, Qu...   \n20718  [{'cast_id': 5, 'character': 'Fantômas / Gurn'...   \n...                                                  ...   \n43545  [{'cast_id': 4, 'character': 'Elio Perlman', '...   \n46291  [{'cast_id': 9, 'character': 'Himself', 'credi...   \n45809  [{'cast_id': 4, 'character': 'Sam', 'credit_id...   \n43540                                                 []   \n45576  [{'cast_id': 4, 'character': 'Zan', 'credit_id...   \n\n                                   belongs_to_collection  \\\n44410                                                NaN   \n25038                                                NaN   \n17909                                                NaN   \n44366                                                NaN   \n20718  {'id': 188534, 'name': 'Fantômas Serial', 'pos...   \n...                                                  ...   \n43545                                                NaN   \n46291                                                NaN   \n45809                                                NaN   \n43540                                                NaN   \n45576                                                NaN   \n\n                                                  genres original_language  \\\n44410  [{'id': 36, 'name': 'History'}, {'id': 28, 'na...                en   \n25038  [{'id': 12, 'name': 'Adventure'}, {'id': 18, '...                it   \n17909                      [{'id': 18, 'name': 'Drama'}]                en   \n44366  [{'id': 18, 'name': 'Drama'}, {'id': 36, 'name...                en   \n20718  [{'id': 80, 'name': 'Crime'}, {'id': 18, 'name...                fr   \n...                                                  ...               ...   \n43545  [{'id': 10749, 'name': 'Romance'}, {'id': 18, ...                en   \n46291                [{'id': 99, 'name': 'Documentary'}]                en   \n45809                                                 []                en   \n43540                [{'id': 99, 'name': 'Documentary'}]                hi   \n45576  [{'id': 35, 'name': 'Comedy'}, {'id': 10402, '...                en   \n\n                                                overview  popularity  \\\n44410  Just as Fritz Lang’s Metropolis (1927) is test...         0.0   \n25038  Loosely adapted from Dante's Divine Comedy and...         0.0   \n17909  Shakespeare's tragedy of the hump-backed Duke ...         0.0   \n44366  The fabled queen of Egypt's affair with Roman ...         0.0   \n20718  For the arch-criminal Fantômas, no crime is to...         0.0   \n...                                                  ...         ...   \n43545  Elio Perlman is spending the summer with his f...         4.0   \n46291   78 shots. 52 cuts. The shower scene from PSYCHO.         2.0   \n45809  A former rodeo champ befriends a young man wit...         1.0   \n43540  This portrayal of the rhythm of life and work ...         0.0   \n45576  A couple of British 1970s teen-aged boys, Enn ...         2.0   \n\n                                    production_companies  \\\n44410  [{'name': 'Johnson and Gibson', 'id': 74308}, ...   \n25038            [{'name': 'Milano Films', 'id': 93689}]   \n17909  [{'name': \"Le Film d'Art\", 'id': 1573}, {'name...   \n44366  [{'name': 'Helen Gardner Picture Players', 'id...   \n20718                                                 []   \n...                                                  ...   \n43545  [{'name': 'Sony Pictures Classics', 'id': 58},...   \n46291      [{'name': 'Exhibit A Pictures', 'id': 63267}]   \n45809                                                 []   \n43540                                                 []   \n45576  [{'name': 'HanWay Films', 'id': 2395}, {'name'...   \n\n                                    production_countries release_date  \\\n44410        [{'iso_3166_1': 'AU', 'name': 'Australia'}]   1906-12-26   \n25038            [{'iso_3166_1': 'IT', 'name': 'Italy'}]   1911-07-01   \n17909  [{'iso_3166_1': 'FR', 'name': 'France'}, {'iso...   1912-10-15   \n44366  [{'iso_3166_1': 'US', 'name': 'United States o...   1912-11-13   \n20718           [{'iso_3166_1': 'FR', 'name': 'France'}]   1913-05-09   \n...                                                  ...          ...   \n43545  [{'iso_3166_1': 'BR', 'name': 'Brazil'}, {'iso...   2017-10-27   \n46291  [{'iso_3166_1': 'US', 'name': 'United States o...   2017-11-03   \n45809                                                 []   2017-11-17   \n43540                                                 []   2017-11-30   \n45576  [{'iso_3166_1': 'US', 'name': 'United States o...   2017-12-27   \n\n       runtime                                   spoken_languages  \\\n44410     60.0       [{'iso_639_1': 'xx', 'name': 'No Language'}]   \n25038     68.0          [{'iso_639_1': 'it', 'name': 'Italiano'}]   \n17909     55.0           [{'iso_639_1': 'en', 'name': 'English'}]   \n44366     88.0                                                 []   \n20718     54.0          [{'iso_639_1': 'fr', 'name': 'Français'}]   \n...        ...                                                ...   \n43545    130.0  [{'iso_639_1': 'fr', 'name': 'Français'}, {'is...   \n46291     91.0           [{'iso_639_1': 'en', 'name': 'English'}]   \n45809     95.0           [{'iso_639_1': 'en', 'name': 'English'}]   \n43540     71.0            [{'iso_639_1': 'hi', 'name': 'हिन्दी'}]   \n45576    102.0           [{'iso_639_1': 'en', 'name': 'English'}]   \n\n                                           title  \n44410                The Story of the Kelly Gang  \n25038                                  L'inferno  \n17909                                Richard III  \n44366                                  Cleopatra  \n20718  Fantômas: In the Shadow of the Guillotine  \n...                                          ...  \n43545                       Call Me by Your Name  \n46291                                      78/52  \n45809                             Sweet Virginia  \n43540                                   Machines  \n45576            How to Talk to Girls at Parties  \n\n[42169 rows x 14 columns]",
      "text/html": "<div>\n<style scoped>\n    .dataframe tbody tr th:only-of-type {\n        vertical-align: middle;\n    }\n\n    .dataframe tbody tr th {\n        vertical-align: top;\n    }\n\n    .dataframe thead th {\n        text-align: right;\n    }\n</style>\n<table border=\"1\" class=\"dataframe\">\n  <thead>\n    <tr style=\"text-align: right;\">\n      <th></th>\n      <th>keywords</th>\n      <th>movieId</th>\n      <th>cast</th>\n      <th>belongs_to_collection</th>\n      <th>genres</th>\n      <th>original_language</th>\n      <th>overview</th>\n      <th>popularity</th>\n      <th>production_companies</th>\n      <th>production_countries</th>\n      <th>release_date</th>\n      <th>runtime</th>\n      <th>spoken_languages</th>\n      <th>title</th>\n    </tr>\n  </thead>\n  <tbody>\n    <tr>\n      <th>44410</th>\n      <td>[{'id': 154802, 'name': 'silent film'}, {'id':...</td>\n      <td>170573</td>\n      <td>[{'cast_id': 2, 'character': '', 'credit_id': ...</td>\n      <td>NaN</td>\n      <td>[{'id': 36, 'name': 'History'}, {'id': 28, 'na...</td>\n      <td>en</td>\n      <td>Just as Fritz Lang’s Metropolis (1927) is test...</td>\n      <td>0.0</td>\n      <td>[{'name': 'Johnson and Gibson', 'id': 74308}, ...</td>\n      <td>[{'iso_3166_1': 'AU', 'name': 'Australia'}]</td>\n      <td>1906-12-26</td>\n      <td>60.0</td>\n      <td>[{'iso_639_1': 'xx', 'name': 'No Language'}]</td>\n      <td>The Story of the Kelly Gang</td>\n    </tr>\n    <tr>\n      <th>25038</th>\n      <td>[{'id': 6154, 'name': 'hell'}, {'id': 41011, '...</td>\n      <td>116578</td>\n      <td>[{'cast_id': 1001, 'character': 'Dante Alighie...</td>\n      <td>NaN</td>\n      <td>[{'id': 12, 'name': 'Adventure'}, {'id': 18, '...</td>\n      <td>it</td>\n      <td>Loosely adapted from Dante's Divine Comedy and...</td>\n      <td>0.0</td>\n      <td>[{'name': 'Milano Films', 'id': 93689}]</td>\n      <td>[{'iso_3166_1': 'IT', 'name': 'Italy'}]</td>\n      <td>1911-07-01</td>\n      <td>68.0</td>\n      <td>[{'iso_639_1': 'it', 'name': 'Italiano'}]</td>\n      <td>L'inferno</td>\n    </tr>\n    <tr>\n      <th>17909</th>\n      <td>[]</td>\n      <td>89323</td>\n      <td>[{'cast_id': 10, 'character': 'King Edward IV'...</td>\n      <td>NaN</td>\n      <td>[{'id': 18, 'name': 'Drama'}]</td>\n      <td>en</td>\n      <td>Shakespeare's tragedy of the hump-backed Duke ...</td>\n      <td>0.0</td>\n      <td>[{'name': \"Le Film d'Art\", 'id': 1573}, {'name...</td>\n      <td>[{'iso_3166_1': 'FR', 'name': 'France'}, {'iso...</td>\n      <td>1912-10-15</td>\n      <td>55.0</td>\n      <td>[{'iso_639_1': 'en', 'name': 'English'}]</td>\n      <td>Richard III</td>\n    </tr>\n    <tr>\n      <th>44366</th>\n      <td>[{'id': 1405, 'name': 'roman empire'}, {'id': ...</td>\n      <td>170479</td>\n      <td>[{'cast_id': 1001, 'character': 'Cleopatra, Qu...</td>\n      <td>NaN</td>\n      <td>[{'id': 18, 'name': 'Drama'}, {'id': 36, 'name...</td>\n      <td>en</td>\n      <td>The fabled queen of Egypt's affair with Roman ...</td>\n      <td>0.0</td>\n      <td>[{'name': 'Helen Gardner Picture Players', 'id...</td>\n      <td>[{'iso_3166_1': 'US', 'name': 'United States o...</td>\n      <td>1912-11-13</td>\n      <td>88.0</td>\n      <td>[]</td>\n      <td>Cleopatra</td>\n    </tr>\n    <tr>\n      <th>20718</th>\n      <td>[]</td>\n      <td>100946</td>\n      <td>[{'cast_id': 5, 'character': 'Fantômas / Gurn'...</td>\n      <td>{'id': 188534, 'name': 'Fantômas Serial', 'pos...</td>\n      <td>[{'id': 80, 'name': 'Crime'}, {'id': 18, 'name...</td>\n      <td>fr</td>\n      <td>For the arch-criminal Fantômas, no crime is to...</td>\n      <td>0.0</td>\n      <td>[]</td>\n      <td>[{'iso_3166_1': 'FR', 'name': 'France'}]</td>\n      <td>1913-05-09</td>\n      <td>54.0</td>\n      <td>[{'iso_639_1': 'fr', 'name': 'Français'}]</td>\n      <td>Fantômas: In the Shadow of the Guillotine</td>\n    </tr>\n    <tr>\n      <th>...</th>\n      <td>...</td>\n      <td>...</td>\n      <td>...</td>\n      <td>...</td>\n      <td>...</td>\n      <td>...</td>\n      <td>...</td>\n      <td>...</td>\n      <td>...</td>\n      <td>...</td>\n      <td>...</td>\n      <td>...</td>\n      <td>...</td>\n      <td>...</td>\n    </tr>\n    <tr>\n      <th>43545</th>\n      <td>[{'id': 131, 'name': 'italy'}, {'id': 818, 'na...</td>\n      <td>168492</td>\n      <td>[{'cast_id': 4, 'character': 'Elio Perlman', '...</td>\n      <td>NaN</td>\n      <td>[{'id': 10749, 'name': 'Romance'}, {'id': 18, ...</td>\n      <td>en</td>\n      <td>Elio Perlman is spending the summer with his f...</td>\n      <td>4.0</td>\n      <td>[{'name': 'Sony Pictures Classics', 'id': 58},...</td>\n      <td>[{'iso_3166_1': 'BR', 'name': 'Brazil'}, {'iso...</td>\n      <td>2017-10-27</td>\n      <td>130.0</td>\n      <td>[{'iso_639_1': 'fr', 'name': 'Français'}, {'is...</td>\n      <td>Call Me by Your Name</td>\n    </tr>\n    <tr>\n      <th>46291</th>\n      <td>[{'id': 886, 'name': 'film making'}, {'id': 16...</td>\n      <td>175151</td>\n      <td>[{'cast_id': 9, 'character': 'Himself', 'credi...</td>\n      <td>NaN</td>\n      <td>[{'id': 99, 'name': 'Documentary'}]</td>\n      <td>en</td>\n      <td>78 shots. 52 cuts. The shower scene from PSYCHO.</td>\n      <td>2.0</td>\n      <td>[{'name': 'Exhibit A Pictures', 'id': 63267}]</td>\n      <td>[{'iso_3166_1': 'US', 'name': 'United States o...</td>\n      <td>2017-11-03</td>\n      <td>91.0</td>\n      <td>[{'iso_639_1': 'en', 'name': 'English'}]</td>\n      <td>78/52</td>\n    </tr>\n    <tr>\n      <th>45809</th>\n      <td>[]</td>\n      <td>173731</td>\n      <td>[{'cast_id': 4, 'character': 'Sam', 'credit_id...</td>\n      <td>NaN</td>\n      <td>[]</td>\n      <td>en</td>\n      <td>A former rodeo champ befriends a young man wit...</td>\n      <td>1.0</td>\n      <td>[]</td>\n      <td>[]</td>\n      <td>2017-11-17</td>\n      <td>95.0</td>\n      <td>[{'iso_639_1': 'en', 'name': 'English'}]</td>\n      <td>Sweet Virginia</td>\n    </tr>\n    <tr>\n      <th>43540</th>\n      <td>[{'id': 1382, 'name': 'factory'}, {'id': 2609,...</td>\n      <td>168478</td>\n      <td>[]</td>\n      <td>NaN</td>\n      <td>[{'id': 99, 'name': 'Documentary'}]</td>\n      <td>hi</td>\n      <td>This portrayal of the rhythm of life and work ...</td>\n      <td>0.0</td>\n      <td>[]</td>\n      <td>[]</td>\n      <td>2017-11-30</td>\n      <td>71.0</td>\n      <td>[{'iso_639_1': 'hi', 'name': 'हिन्दी'}]</td>\n      <td>Machines</td>\n    </tr>\n    <tr>\n      <th>45576</th>\n      <td>[]</td>\n      <td>173203</td>\n      <td>[{'cast_id': 4, 'character': 'Zan', 'credit_id...</td>\n      <td>NaN</td>\n      <td>[{'id': 35, 'name': 'Comedy'}, {'id': 10402, '...</td>\n      <td>en</td>\n      <td>A couple of British 1970s teen-aged boys, Enn ...</td>\n      <td>2.0</td>\n      <td>[{'name': 'HanWay Films', 'id': 2395}, {'name'...</td>\n      <td>[{'iso_3166_1': 'US', 'name': 'United States o...</td>\n      <td>2017-12-27</td>\n      <td>102.0</td>\n      <td>[{'iso_639_1': 'en', 'name': 'English'}]</td>\n      <td>How to Talk to Girls at Parties</td>\n    </tr>\n  </tbody>\n</table>\n<p>42169 rows × 14 columns</p>\n</div>"
     },
     "execution_count": 1061,
     "metadata": {},
     "output_type": "execute_result"
    }
   ],
   "source": [
    "df_merged.sort_values(by=\"release_date\")"
   ]
  },
  {
   "cell_type": "markdown",
   "metadata": {},
   "source": [
    "It turns out that some films actually date back to as early as 1874. Therefore, those rows will be kept."
   ]
  },
  {
   "cell_type": "markdown",
   "metadata": {},
   "source": [
    "### Check for duplicates"
   ]
  },
  {
   "cell_type": "markdown",
   "source": [
    "`df_ratings`"
   ],
   "metadata": {
    "collapsed": false
   }
  },
  {
   "cell_type": "code",
   "execution_count": 1062,
   "metadata": {
    "ExecuteTime": {
     "end_time": "2024-03-28T17:08:39.022253Z",
     "start_time": "2024-03-28T17:08:34.808314Z"
    }
   },
   "outputs": [
    {
     "data": {
      "text/plain": "0"
     },
     "execution_count": 1062,
     "metadata": {},
     "output_type": "execute_result"
    }
   ],
   "source": [
    "df_ratings.duplicated().sum()"
   ]
  },
  {
   "cell_type": "markdown",
   "source": [
    "`df_merged`"
   ],
   "metadata": {
    "collapsed": false
   }
  },
  {
   "cell_type": "code",
   "execution_count": 1063,
   "metadata": {
    "ExecuteTime": {
     "end_time": "2024-03-28T17:08:39.342997Z",
     "start_time": "2024-03-28T17:08:39.023102Z"
    }
   },
   "outputs": [
    {
     "data": {
      "text/plain": "1055"
     },
     "execution_count": 1063,
     "metadata": {},
     "output_type": "execute_result"
    }
   ],
   "source": [
    "number_of_dublicates = df_merged.duplicated().sum()\n",
    "number_of_dublicates"
   ]
  },
  {
   "cell_type": "code",
   "outputs": [
    {
     "data": {
      "text/plain": "2.5018378429652115"
     },
     "execution_count": 1064,
     "metadata": {},
     "output_type": "execute_result"
    }
   ],
   "source": [
    "number_of_dublicates / len(df_merged) * 100"
   ],
   "metadata": {
    "collapsed": false,
    "ExecuteTime": {
     "end_time": "2024-03-28T17:08:39.345715Z",
     "start_time": "2024-03-28T17:08:39.343717Z"
    }
   },
   "execution_count": 1064
  },
  {
   "cell_type": "markdown",
   "metadata": {},
   "source": [
    "There are 1055 duplicates in the df_merged dataset. Let's drop those rows, they only account for 2,5 % of the data."
   ]
  },
  {
   "cell_type": "code",
   "execution_count": 1065,
   "metadata": {
    "ExecuteTime": {
     "end_time": "2024-03-28T17:08:39.651926Z",
     "start_time": "2024-03-28T17:08:39.346220Z"
    }
   },
   "outputs": [],
   "source": [
    "df_merged.drop_duplicates(inplace = True)"
   ]
  },
  {
   "cell_type": "markdown",
   "metadata": {},
   "source": [
    "## 2.4. Column Transformations"
   ]
  },
  {
   "cell_type": "markdown",
   "source": [
    "Let's transform some columns to make them more useful for our later model building."
   ],
   "metadata": {
    "collapsed": false
   }
  },
  {
   "cell_type": "markdown",
   "metadata": {},
   "source": [
    "First, we will transform the \"belongs_to_collection\" column to binary values to indicate if a movie belongs to a collection or not."
   ]
  },
  {
   "cell_type": "code",
   "execution_count": 1066,
   "metadata": {
    "ExecuteTime": {
     "end_time": "2024-03-28T17:08:39.655136Z",
     "start_time": "2024-03-28T17:08:39.652542Z"
    }
   },
   "outputs": [],
   "source": [
    "df_merged['belongs_to_collection'] = df_merged['belongs_to_collection'].notnull().astype(int)"
   ]
  },
  {
   "cell_type": "markdown",
   "metadata": {},
   "source": [
    "Finally, we will extract some useful information from the columns \"cast\", \"genres\", \"production_companies\", \"production_countries\" and \"spoken_languages\"."
   ]
  },
  {
   "cell_type": "markdown",
   "metadata": {},
   "source": [
    "`cast`"
   ]
  },
  {
   "cell_type": "markdown",
   "source": [
    "Let's extract the actors' names from the cast column."
   ],
   "metadata": {
    "collapsed": false
   }
  },
  {
   "cell_type": "code",
   "execution_count": 1067,
   "metadata": {
    "ExecuteTime": {
     "end_time": "2024-03-28T17:08:48.584010Z",
     "start_time": "2024-03-28T17:08:39.655748Z"
    }
   },
   "outputs": [
    {
     "data": {
      "text/plain": "   movieId                                             actors\n0        1  [Tom Hanks, Tim Allen, Don Rickles, Jim Varney...\n1        2  [Robin Williams, Jonathan Hyde, Kirsten Dunst,...\n2        3  [Walter Matthau, Jack Lemmon, Ann-Margret, Sop...\n3        4  [Whitney Houston, Angela Bassett, Loretta Devi...\n4        5  [Steve Martin, Diane Keaton, Martin Short, Kim...",
      "text/html": "<div>\n<style scoped>\n    .dataframe tbody tr th:only-of-type {\n        vertical-align: middle;\n    }\n\n    .dataframe tbody tr th {\n        vertical-align: top;\n    }\n\n    .dataframe thead th {\n        text-align: right;\n    }\n</style>\n<table border=\"1\" class=\"dataframe\">\n  <thead>\n    <tr style=\"text-align: right;\">\n      <th></th>\n      <th>movieId</th>\n      <th>actors</th>\n    </tr>\n  </thead>\n  <tbody>\n    <tr>\n      <th>0</th>\n      <td>1</td>\n      <td>[Tom Hanks, Tim Allen, Don Rickles, Jim Varney...</td>\n    </tr>\n    <tr>\n      <th>1</th>\n      <td>2</td>\n      <td>[Robin Williams, Jonathan Hyde, Kirsten Dunst,...</td>\n    </tr>\n    <tr>\n      <th>2</th>\n      <td>3</td>\n      <td>[Walter Matthau, Jack Lemmon, Ann-Margret, Sop...</td>\n    </tr>\n    <tr>\n      <th>3</th>\n      <td>4</td>\n      <td>[Whitney Houston, Angela Bassett, Loretta Devi...</td>\n    </tr>\n    <tr>\n      <th>4</th>\n      <td>5</td>\n      <td>[Steve Martin, Diane Keaton, Martin Short, Kim...</td>\n    </tr>\n  </tbody>\n</table>\n</div>"
     },
     "execution_count": 1067,
     "metadata": {},
     "output_type": "execute_result"
    }
   ],
   "source": [
    "import ast\n",
    "\n",
    "# Attempting to convert 'cast' column into list of dicts (if they're strings) and extract cast names\n",
    "def extract_cast_names(cast_str):\n",
    "    try:\n",
    "        # If cast_str is not NaN and is a string, parse it; otherwise, it's already in expected format or NaN\n",
    "        cast_data = ast.literal_eval(cast_str) if isinstance(cast_str, str) else cast_str\n",
    "        if isinstance(cast_data, list):\n",
    "            return [d.get('name') for d in cast_data if 'name' in d]\n",
    "        else:\n",
    "            return []\n",
    "    except ValueError as e:\n",
    "        print(f\"Error parsing: {cast_str}. Error: {e}\")\n",
    "        return []\n",
    "\n",
    "# Apply the function to the 'cast' column\n",
    "df_merged['actors'] = df_merged['cast'].apply(extract_cast_names)\n",
    "\n",
    "# Check the first few rows to ensure the names are extracted correctly\n",
    "df_merged[['movieId', 'actors']].head()"
   ]
  },
  {
   "cell_type": "code",
   "execution_count": 1068,
   "metadata": {
    "ExecuteTime": {
     "end_time": "2024-03-28T17:08:48.590717Z",
     "start_time": "2024-03-28T17:08:48.584607Z"
    }
   },
   "outputs": [],
   "source": [
    "df_merged.drop(columns=\"cast\", inplace=True)"
   ]
  },
  {
   "cell_type": "markdown",
   "metadata": {},
   "source": [
    "`keywords`"
   ]
  },
  {
   "cell_type": "markdown",
   "source": [
    "Let's extract the keywords."
   ],
   "metadata": {
    "collapsed": false
   }
  },
  {
   "cell_type": "code",
   "execution_count": 1069,
   "metadata": {
    "ExecuteTime": {
     "end_time": "2024-03-28T17:08:48.593063Z",
     "start_time": "2024-03-28T17:08:48.591209Z"
    }
   },
   "outputs": [
    {
     "data": {
      "text/plain": "\"[{'id': 931, 'name': 'jealousy'}, {'id': 4290, 'name': 'toy'}, {'id': 5202, 'name': 'boy'}, {'id': 6054, 'name': 'friendship'}, {'id': 9713, 'name': 'friends'}, {'id': 9823, 'name': 'rivalry'}, {'id': 165503, 'name': 'boy next door'}, {'id': 170722, 'name': 'new toy'}, {'id': 187065, 'name': 'toy comes to life'}]\""
     },
     "execution_count": 1069,
     "metadata": {},
     "output_type": "execute_result"
    }
   ],
   "source": [
    "df_merged.iloc[0,0]"
   ]
  },
  {
   "cell_type": "code",
   "execution_count": 1070,
   "metadata": {
    "ExecuteTime": {
     "end_time": "2024-03-28T17:08:49.466380Z",
     "start_time": "2024-03-28T17:08:48.593551Z"
    }
   },
   "outputs": [
    {
     "data": {
      "text/plain": "   movieId                                 keywords_extracted\n0        1  [jealousy, toy, boy, friendship, friends, riva...\n1        2  [board game, disappearance, based on children'...\n2        3  [fishing, best friend, duringcreditsstinger, o...\n3        4  [based on novel, interracial relationship, sin...\n4        5  [baby, midlife crisis, confidence, aging, daug...",
      "text/html": "<div>\n<style scoped>\n    .dataframe tbody tr th:only-of-type {\n        vertical-align: middle;\n    }\n\n    .dataframe tbody tr th {\n        vertical-align: top;\n    }\n\n    .dataframe thead th {\n        text-align: right;\n    }\n</style>\n<table border=\"1\" class=\"dataframe\">\n  <thead>\n    <tr style=\"text-align: right;\">\n      <th></th>\n      <th>movieId</th>\n      <th>keywords_extracted</th>\n    </tr>\n  </thead>\n  <tbody>\n    <tr>\n      <th>0</th>\n      <td>1</td>\n      <td>[jealousy, toy, boy, friendship, friends, riva...</td>\n    </tr>\n    <tr>\n      <th>1</th>\n      <td>2</td>\n      <td>[board game, disappearance, based on children'...</td>\n    </tr>\n    <tr>\n      <th>2</th>\n      <td>3</td>\n      <td>[fishing, best friend, duringcreditsstinger, o...</td>\n    </tr>\n    <tr>\n      <th>3</th>\n      <td>4</td>\n      <td>[based on novel, interracial relationship, sin...</td>\n    </tr>\n    <tr>\n      <th>4</th>\n      <td>5</td>\n      <td>[baby, midlife crisis, confidence, aging, daug...</td>\n    </tr>\n  </tbody>\n</table>\n</div>"
     },
     "execution_count": 1070,
     "metadata": {},
     "output_type": "execute_result"
    }
   ],
   "source": [
    "def extract_keyword_names(keyword_str):\n",
    "    try:\n",
    "        # If keyword_str is not NaN and is a string, parse it; otherwise, it's already in expected format or NaN\n",
    "        keywords_data = ast.literal_eval(keyword_str) if isinstance(keyword_str, str) else keyword_str\n",
    "        if isinstance(keywords_data, list):\n",
    "            return [d.get('name') for d in keywords_data if 'name' in d]\n",
    "        else:\n",
    "            return []\n",
    "    except ValueError as e:\n",
    "        print(f\"Error parsing: {keyword_str}. Error: {e}\")\n",
    "        return []\n",
    "\n",
    "# Apply the function to the 'keywords' column\n",
    "df_merged['keywords_extracted'] = df_merged['keywords'].apply(extract_keyword_names)\n",
    "\n",
    "# Check the first few rows to ensure the names are extracted correctly\n",
    "df_merged[['movieId', 'keywords_extracted']].head()"
   ]
  },
  {
   "cell_type": "code",
   "outputs": [],
   "source": [
    "df_merged.drop(columns=\"keywords\", inplace=True)"
   ],
   "metadata": {
    "collapsed": false,
    "ExecuteTime": {
     "end_time": "2024-03-28T17:08:49.473705Z",
     "start_time": "2024-03-28T17:08:49.467029Z"
    }
   },
   "execution_count": 1071
  },
  {
   "cell_type": "markdown",
   "metadata": {},
   "source": [
    "`genres`"
   ]
  },
  {
   "cell_type": "markdown",
   "source": [
    "Let's extract the genre names."
   ],
   "metadata": {
    "collapsed": false
   }
  },
  {
   "cell_type": "code",
   "outputs": [
    {
     "data": {
      "text/plain": "'en'"
     },
     "execution_count": 1072,
     "metadata": {},
     "output_type": "execute_result"
    }
   ],
   "source": [
    "df_merged.iloc[0, 3]"
   ],
   "metadata": {
    "collapsed": false,
    "ExecuteTime": {
     "end_time": "2024-03-28T17:08:49.476031Z",
     "start_time": "2024-03-28T17:08:49.474288Z"
    }
   },
   "execution_count": 1072
  },
  {
   "cell_type": "code",
   "execution_count": 1073,
   "metadata": {
    "ExecuteTime": {
     "end_time": "2024-03-28T17:08:50.024656Z",
     "start_time": "2024-03-28T17:08:49.476589Z"
    }
   },
   "outputs": [
    {
     "data": {
      "text/plain": "   movieId               genre_extracted\n0        1   [Animation, Comedy, Family]\n1        2  [Adventure, Fantasy, Family]\n2        3             [Romance, Comedy]\n3        4      [Comedy, Drama, Romance]\n4        5                      [Comedy]",
      "text/html": "<div>\n<style scoped>\n    .dataframe tbody tr th:only-of-type {\n        vertical-align: middle;\n    }\n\n    .dataframe tbody tr th {\n        vertical-align: top;\n    }\n\n    .dataframe thead th {\n        text-align: right;\n    }\n</style>\n<table border=\"1\" class=\"dataframe\">\n  <thead>\n    <tr style=\"text-align: right;\">\n      <th></th>\n      <th>movieId</th>\n      <th>genre_extracted</th>\n    </tr>\n  </thead>\n  <tbody>\n    <tr>\n      <th>0</th>\n      <td>1</td>\n      <td>[Animation, Comedy, Family]</td>\n    </tr>\n    <tr>\n      <th>1</th>\n      <td>2</td>\n      <td>[Adventure, Fantasy, Family]</td>\n    </tr>\n    <tr>\n      <th>2</th>\n      <td>3</td>\n      <td>[Romance, Comedy]</td>\n    </tr>\n    <tr>\n      <th>3</th>\n      <td>4</td>\n      <td>[Comedy, Drama, Romance]</td>\n    </tr>\n    <tr>\n      <th>4</th>\n      <td>5</td>\n      <td>[Comedy]</td>\n    </tr>\n  </tbody>\n</table>\n</div>"
     },
     "execution_count": 1073,
     "metadata": {},
     "output_type": "execute_result"
    }
   ],
   "source": [
    "# Function to extract genre names\n",
    "def extract_genre_names(genre_str):\n",
    "    try:\n",
    "        # If genre_str is not NaN and is a string, parse it; otherwise, it's already in expected format or NaN\n",
    "        genres_data = ast.literal_eval(genre_str) if isinstance(genre_str, str) else genre_str\n",
    "        if isinstance(genres_data, list):\n",
    "            return [d.get('name') for d in genres_data if 'name' in d]\n",
    "        else:\n",
    "            return []\n",
    "    except ValueError as e:\n",
    "        print(f\"Error parsing: {genre_str}. Error: {e}\")\n",
    "        return []\n",
    "\n",
    "# Apply the function to the 'genres' column\n",
    "df_merged['genre_extracted'] = df_merged['genres'].apply(extract_genre_names)\n",
    "\n",
    "# Check the first few rows to ensure the names are extracted correctly\n",
    "df_merged[['movieId', 'genre_extracted']].head()\n"
   ]
  },
  {
   "cell_type": "code",
   "execution_count": 1074,
   "metadata": {
    "ExecuteTime": {
     "end_time": "2024-03-28T17:08:50.032191Z",
     "start_time": "2024-03-28T17:08:50.025319Z"
    }
   },
   "outputs": [],
   "source": [
    "df_merged.drop(columns=\"genres\", inplace=True)"
   ]
  },
  {
   "cell_type": "code",
   "execution_count": 1075,
   "metadata": {
    "ExecuteTime": {
     "end_time": "2024-03-28T17:08:50.038407Z",
     "start_time": "2024-03-28T17:08:50.032792Z"
    }
   },
   "outputs": [
    {
     "data": {
      "text/plain": "   movieId  belongs_to_collection original_language  \\\n0        1                      1                en   \n1        2                      0                en   \n2        3                      1                en   \n3        4                      0                en   \n4        5                      1                en   \n\n                                            overview  popularity  \\\n0  Led by Woody, Andy's toys live happily in his ...        21.0   \n1  When siblings Judy and Peter discover an encha...        17.0   \n2  A family wedding reignites the ancient feud be...        11.0   \n3  Cheated on, mistreated and stepped on, the wom...         3.0   \n4  Just when George Banks has recovered from his ...         8.0   \n\n                                production_companies  \\\n0     [{'name': 'Pixar Animation Studios', 'id': 3}]   \n1  [{'name': 'TriStar Pictures', 'id': 559}, {'na...   \n2  [{'name': 'Warner Bros.', 'id': 6194}, {'name'...   \n3  [{'name': 'Twentieth Century Fox Film Corporat...   \n4  [{'name': 'Sandollar Productions', 'id': 5842}...   \n\n                                production_countries release_date  runtime  \\\n0  [{'iso_3166_1': 'US', 'name': 'United States o...   1995-10-30     81.0   \n1  [{'iso_3166_1': 'US', 'name': 'United States o...   1995-12-15    104.0   \n2  [{'iso_3166_1': 'US', 'name': 'United States o...   1995-12-22    101.0   \n3  [{'iso_3166_1': 'US', 'name': 'United States o...   1995-12-22    127.0   \n4  [{'iso_3166_1': 'US', 'name': 'United States o...   1995-02-10    106.0   \n\n                                    spoken_languages  \\\n0           [{'iso_639_1': 'en', 'name': 'English'}]   \n1  [{'iso_639_1': 'en', 'name': 'English'}, {'iso...   \n2           [{'iso_639_1': 'en', 'name': 'English'}]   \n3           [{'iso_639_1': 'en', 'name': 'English'}]   \n4           [{'iso_639_1': 'en', 'name': 'English'}]   \n\n                         title  \\\n0                    Toy Story   \n1                      Jumanji   \n2             Grumpier Old Men   \n3            Waiting to Exhale   \n4  Father of the Bride Part II   \n\n                                              actors  \\\n0  [Tom Hanks, Tim Allen, Don Rickles, Jim Varney...   \n1  [Robin Williams, Jonathan Hyde, Kirsten Dunst,...   \n2  [Walter Matthau, Jack Lemmon, Ann-Margret, Sop...   \n3  [Whitney Houston, Angela Bassett, Loretta Devi...   \n4  [Steve Martin, Diane Keaton, Martin Short, Kim...   \n\n                                  keywords_extracted  \\\n0  [jealousy, toy, boy, friendship, friends, riva...   \n1  [board game, disappearance, based on children'...   \n2  [fishing, best friend, duringcreditsstinger, o...   \n3  [based on novel, interracial relationship, sin...   \n4  [baby, midlife crisis, confidence, aging, daug...   \n\n                genre_extracted  \n0   [Animation, Comedy, Family]  \n1  [Adventure, Fantasy, Family]  \n2             [Romance, Comedy]  \n3      [Comedy, Drama, Romance]  \n4                      [Comedy]  ",
      "text/html": "<div>\n<style scoped>\n    .dataframe tbody tr th:only-of-type {\n        vertical-align: middle;\n    }\n\n    .dataframe tbody tr th {\n        vertical-align: top;\n    }\n\n    .dataframe thead th {\n        text-align: right;\n    }\n</style>\n<table border=\"1\" class=\"dataframe\">\n  <thead>\n    <tr style=\"text-align: right;\">\n      <th></th>\n      <th>movieId</th>\n      <th>belongs_to_collection</th>\n      <th>original_language</th>\n      <th>overview</th>\n      <th>popularity</th>\n      <th>production_companies</th>\n      <th>production_countries</th>\n      <th>release_date</th>\n      <th>runtime</th>\n      <th>spoken_languages</th>\n      <th>title</th>\n      <th>actors</th>\n      <th>keywords_extracted</th>\n      <th>genre_extracted</th>\n    </tr>\n  </thead>\n  <tbody>\n    <tr>\n      <th>0</th>\n      <td>1</td>\n      <td>1</td>\n      <td>en</td>\n      <td>Led by Woody, Andy's toys live happily in his ...</td>\n      <td>21.0</td>\n      <td>[{'name': 'Pixar Animation Studios', 'id': 3}]</td>\n      <td>[{'iso_3166_1': 'US', 'name': 'United States o...</td>\n      <td>1995-10-30</td>\n      <td>81.0</td>\n      <td>[{'iso_639_1': 'en', 'name': 'English'}]</td>\n      <td>Toy Story</td>\n      <td>[Tom Hanks, Tim Allen, Don Rickles, Jim Varney...</td>\n      <td>[jealousy, toy, boy, friendship, friends, riva...</td>\n      <td>[Animation, Comedy, Family]</td>\n    </tr>\n    <tr>\n      <th>1</th>\n      <td>2</td>\n      <td>0</td>\n      <td>en</td>\n      <td>When siblings Judy and Peter discover an encha...</td>\n      <td>17.0</td>\n      <td>[{'name': 'TriStar Pictures', 'id': 559}, {'na...</td>\n      <td>[{'iso_3166_1': 'US', 'name': 'United States o...</td>\n      <td>1995-12-15</td>\n      <td>104.0</td>\n      <td>[{'iso_639_1': 'en', 'name': 'English'}, {'iso...</td>\n      <td>Jumanji</td>\n      <td>[Robin Williams, Jonathan Hyde, Kirsten Dunst,...</td>\n      <td>[board game, disappearance, based on children'...</td>\n      <td>[Adventure, Fantasy, Family]</td>\n    </tr>\n    <tr>\n      <th>2</th>\n      <td>3</td>\n      <td>1</td>\n      <td>en</td>\n      <td>A family wedding reignites the ancient feud be...</td>\n      <td>11.0</td>\n      <td>[{'name': 'Warner Bros.', 'id': 6194}, {'name'...</td>\n      <td>[{'iso_3166_1': 'US', 'name': 'United States o...</td>\n      <td>1995-12-22</td>\n      <td>101.0</td>\n      <td>[{'iso_639_1': 'en', 'name': 'English'}]</td>\n      <td>Grumpier Old Men</td>\n      <td>[Walter Matthau, Jack Lemmon, Ann-Margret, Sop...</td>\n      <td>[fishing, best friend, duringcreditsstinger, o...</td>\n      <td>[Romance, Comedy]</td>\n    </tr>\n    <tr>\n      <th>3</th>\n      <td>4</td>\n      <td>0</td>\n      <td>en</td>\n      <td>Cheated on, mistreated and stepped on, the wom...</td>\n      <td>3.0</td>\n      <td>[{'name': 'Twentieth Century Fox Film Corporat...</td>\n      <td>[{'iso_3166_1': 'US', 'name': 'United States o...</td>\n      <td>1995-12-22</td>\n      <td>127.0</td>\n      <td>[{'iso_639_1': 'en', 'name': 'English'}]</td>\n      <td>Waiting to Exhale</td>\n      <td>[Whitney Houston, Angela Bassett, Loretta Devi...</td>\n      <td>[based on novel, interracial relationship, sin...</td>\n      <td>[Comedy, Drama, Romance]</td>\n    </tr>\n    <tr>\n      <th>4</th>\n      <td>5</td>\n      <td>1</td>\n      <td>en</td>\n      <td>Just when George Banks has recovered from his ...</td>\n      <td>8.0</td>\n      <td>[{'name': 'Sandollar Productions', 'id': 5842}...</td>\n      <td>[{'iso_3166_1': 'US', 'name': 'United States o...</td>\n      <td>1995-02-10</td>\n      <td>106.0</td>\n      <td>[{'iso_639_1': 'en', 'name': 'English'}]</td>\n      <td>Father of the Bride Part II</td>\n      <td>[Steve Martin, Diane Keaton, Martin Short, Kim...</td>\n      <td>[baby, midlife crisis, confidence, aging, daug...</td>\n      <td>[Comedy]</td>\n    </tr>\n  </tbody>\n</table>\n</div>"
     },
     "execution_count": 1075,
     "metadata": {},
     "output_type": "execute_result"
    }
   ],
   "source": [
    "df_merged.head()"
   ]
  },
  {
   "cell_type": "markdown",
   "metadata": {},
   "source": [
    "`Production Company`"
   ]
  },
  {
   "cell_type": "markdown",
   "source": [
    "Let's extract the production companies."
   ],
   "metadata": {
    "collapsed": false
   }
  },
  {
   "cell_type": "code",
   "outputs": [
    {
     "data": {
      "text/plain": "\"[{'iso_3166_1': 'US', 'name': 'United States of America'}]\""
     },
     "execution_count": 1076,
     "metadata": {},
     "output_type": "execute_result"
    }
   ],
   "source": [
    "df_merged.iloc[10, 6]"
   ],
   "metadata": {
    "collapsed": false,
    "ExecuteTime": {
     "end_time": "2024-03-28T17:08:50.047293Z",
     "start_time": "2024-03-28T17:08:50.045285Z"
    }
   },
   "execution_count": 1076
  },
  {
   "cell_type": "code",
   "execution_count": 1077,
   "metadata": {
    "ExecuteTime": {
     "end_time": "2024-03-28T17:08:50.508769Z",
     "start_time": "2024-03-28T17:08:50.047750Z"
    }
   },
   "outputs": [
    {
     "data": {
      "text/plain": "   movieId                       production_company_extracted\n0        1                          [Pixar Animation Studios]\n1        2  [TriStar Pictures, Teitler Film, Interscope Co...\n2        3                     [Warner Bros., Lancaster Gate]\n3        4           [Twentieth Century Fox Film Corporation]\n4        5       [Sandollar Productions, Touchstone Pictures]",
      "text/html": "<div>\n<style scoped>\n    .dataframe tbody tr th:only-of-type {\n        vertical-align: middle;\n    }\n\n    .dataframe tbody tr th {\n        vertical-align: top;\n    }\n\n    .dataframe thead th {\n        text-align: right;\n    }\n</style>\n<table border=\"1\" class=\"dataframe\">\n  <thead>\n    <tr style=\"text-align: right;\">\n      <th></th>\n      <th>movieId</th>\n      <th>production_company_extracted</th>\n    </tr>\n  </thead>\n  <tbody>\n    <tr>\n      <th>0</th>\n      <td>1</td>\n      <td>[Pixar Animation Studios]</td>\n    </tr>\n    <tr>\n      <th>1</th>\n      <td>2</td>\n      <td>[TriStar Pictures, Teitler Film, Interscope Co...</td>\n    </tr>\n    <tr>\n      <th>2</th>\n      <td>3</td>\n      <td>[Warner Bros., Lancaster Gate]</td>\n    </tr>\n    <tr>\n      <th>3</th>\n      <td>4</td>\n      <td>[Twentieth Century Fox Film Corporation]</td>\n    </tr>\n    <tr>\n      <th>4</th>\n      <td>5</td>\n      <td>[Sandollar Productions, Touchstone Pictures]</td>\n    </tr>\n  </tbody>\n</table>\n</div>"
     },
     "execution_count": 1077,
     "metadata": {},
     "output_type": "execute_result"
    }
   ],
   "source": [
    "def extract_production_company_names(company_str):\n",
    "    try:\n",
    "        # If company_str is not NaN and is a string, parse it; otherwise, it's already in expected format or NaN\n",
    "        companies_data = ast.literal_eval(company_str) if isinstance(company_str, str) else company_str\n",
    "        if isinstance(companies_data, list):\n",
    "            return [d.get('name') for d in companies_data if 'name' in d]\n",
    "        else:\n",
    "            return []\n",
    "    except ValueError as e:\n",
    "        print(f\"Error parsing: {company_str}. Error: {e}\")\n",
    "        return []\n",
    "\n",
    "# Apply the function to the 'production_companies' column\n",
    "df_merged['production_company_extracted'] = df_merged['production_companies'].apply(extract_production_company_names)\n",
    "\n",
    "# Check the first few rows to ensure the names are extracted correctly\n",
    "df_merged[['movieId', 'production_company_extracted']].head()"
   ]
  },
  {
   "cell_type": "code",
   "execution_count": 1078,
   "metadata": {
    "ExecuteTime": {
     "end_time": "2024-03-28T17:08:50.515560Z",
     "start_time": "2024-03-28T17:08:50.509337Z"
    }
   },
   "outputs": [],
   "source": [
    "df_merged.drop(columns=\"production_companies\", inplace=True)"
   ]
  },
  {
   "cell_type": "markdown",
   "metadata": {},
   "source": [
    "`Production Country`"
   ]
  },
  {
   "cell_type": "markdown",
   "source": [
    "Let's extract the production countries."
   ],
   "metadata": {
    "collapsed": false
   }
  },
  {
   "cell_type": "code",
   "execution_count": 1079,
   "metadata": {
    "ExecuteTime": {
     "end_time": "2024-03-28T17:08:50.856157Z",
     "start_time": "2024-03-28T17:08:50.516150Z"
    }
   },
   "outputs": [
    {
     "data": {
      "text/plain": "   movieId production_country_extracted\n0        1   [United States of America]\n1        2   [United States of America]\n2        3   [United States of America]\n3        4   [United States of America]\n4        5   [United States of America]",
      "text/html": "<div>\n<style scoped>\n    .dataframe tbody tr th:only-of-type {\n        vertical-align: middle;\n    }\n\n    .dataframe tbody tr th {\n        vertical-align: top;\n    }\n\n    .dataframe thead th {\n        text-align: right;\n    }\n</style>\n<table border=\"1\" class=\"dataframe\">\n  <thead>\n    <tr style=\"text-align: right;\">\n      <th></th>\n      <th>movieId</th>\n      <th>production_country_extracted</th>\n    </tr>\n  </thead>\n  <tbody>\n    <tr>\n      <th>0</th>\n      <td>1</td>\n      <td>[United States of America]</td>\n    </tr>\n    <tr>\n      <th>1</th>\n      <td>2</td>\n      <td>[United States of America]</td>\n    </tr>\n    <tr>\n      <th>2</th>\n      <td>3</td>\n      <td>[United States of America]</td>\n    </tr>\n    <tr>\n      <th>3</th>\n      <td>4</td>\n      <td>[United States of America]</td>\n    </tr>\n    <tr>\n      <th>4</th>\n      <td>5</td>\n      <td>[United States of America]</td>\n    </tr>\n  </tbody>\n</table>\n</div>"
     },
     "execution_count": 1079,
     "metadata": {},
     "output_type": "execute_result"
    }
   ],
   "source": [
    "# Function to extract production country names\n",
    "def extract_production_country_names(country_str):\n",
    "    try:\n",
    "        # If country_str is not NaN and is a string, parse it; otherwise, it's already in expected format or NaN\n",
    "        countries_data = ast.literal_eval(country_str) if isinstance(country_str, str) else country_str\n",
    "        if isinstance(countries_data, list):\n",
    "            return [d.get('name') for d in countries_data if 'name' in d]\n",
    "        else:\n",
    "            return []\n",
    "    except ValueError as e:\n",
    "        print(f\"Error parsing: {country_str}. Error: {e}\")\n",
    "        return []\n",
    "\n",
    "# Apply the function to the 'production_countries' column\n",
    "df_merged['production_country_extracted'] = df_merged['production_countries'].apply(extract_production_country_names)\n",
    "\n",
    "# Check the first few rows to ensure the names are extracted correctly\n",
    "df_merged[['movieId', 'production_country_extracted']].head()"
   ]
  },
  {
   "cell_type": "code",
   "execution_count": 1080,
   "metadata": {
    "ExecuteTime": {
     "end_time": "2024-03-28T17:08:50.863500Z",
     "start_time": "2024-03-28T17:08:50.856828Z"
    }
   },
   "outputs": [],
   "source": [
    "df_merged.drop(columns=\"production_countries\", inplace=True)"
   ]
  },
  {
   "cell_type": "markdown",
   "metadata": {},
   "source": [
    "`Spoken Languages`"
   ]
  },
  {
   "cell_type": "markdown",
   "source": [
    "Let's extract the spoken languages."
   ],
   "metadata": {
    "collapsed": false
   }
  },
  {
   "cell_type": "code",
   "execution_count": 1081,
   "metadata": {
    "ExecuteTime": {
     "end_time": "2024-03-28T17:08:51.528624Z",
     "start_time": "2024-03-28T17:08:50.864008Z"
    }
   },
   "outputs": [
    {
     "data": {
      "text/plain": "   movieId spoken_language_extracted\n0        1                 [English]\n1        2       [English, Français]\n2        3                 [English]\n3        4                 [English]\n4        5                 [English]",
      "text/html": "<div>\n<style scoped>\n    .dataframe tbody tr th:only-of-type {\n        vertical-align: middle;\n    }\n\n    .dataframe tbody tr th {\n        vertical-align: top;\n    }\n\n    .dataframe thead th {\n        text-align: right;\n    }\n</style>\n<table border=\"1\" class=\"dataframe\">\n  <thead>\n    <tr style=\"text-align: right;\">\n      <th></th>\n      <th>movieId</th>\n      <th>spoken_language_extracted</th>\n    </tr>\n  </thead>\n  <tbody>\n    <tr>\n      <th>0</th>\n      <td>1</td>\n      <td>[English]</td>\n    </tr>\n    <tr>\n      <th>1</th>\n      <td>2</td>\n      <td>[English, Français]</td>\n    </tr>\n    <tr>\n      <th>2</th>\n      <td>3</td>\n      <td>[English]</td>\n    </tr>\n    <tr>\n      <th>3</th>\n      <td>4</td>\n      <td>[English]</td>\n    </tr>\n    <tr>\n      <th>4</th>\n      <td>5</td>\n      <td>[English]</td>\n    </tr>\n  </tbody>\n</table>\n</div>"
     },
     "execution_count": 1081,
     "metadata": {},
     "output_type": "execute_result"
    }
   ],
   "source": [
    "# Function to extract spoken language names\n",
    "def extract_spoken_language_names(language_str):\n",
    "    try:\n",
    "        # If language_str is not NaN and is a string, parse it; otherwise, it's already in expected format or NaN\n",
    "        languages_data = ast.literal_eval(language_str) if isinstance(language_str, str) else language_str\n",
    "        if isinstance(languages_data, list):\n",
    "            return [d.get('name') for d in languages_data if 'name' in d]\n",
    "        else:\n",
    "            return []\n",
    "    except ValueError as e:\n",
    "        print(f\"Error parsing: {language_str}. Error: {e}\")\n",
    "        return []\n",
    "\n",
    "# Apply the function to the 'spoken_languages' column\n",
    "df_merged['spoken_language_extracted'] = df_merged['spoken_languages'].apply(extract_spoken_language_names)\n",
    "\n",
    "# Check the first few rows to ensure the names are extracted correctly\n",
    "df_merged[['movieId', 'spoken_language_extracted']].head()"
   ]
  },
  {
   "cell_type": "code",
   "execution_count": 1082,
   "metadata": {
    "ExecuteTime": {
     "end_time": "2024-03-28T17:08:51.536387Z",
     "start_time": "2024-03-28T17:08:51.529224Z"
    }
   },
   "outputs": [],
   "source": [
    "df_merged.drop(columns=\"spoken_languages\", inplace=True)"
   ]
  },
  {
   "cell_type": "markdown",
   "metadata": {},
   "source": [
    "## 2.5. Data Export"
   ]
  },
  {
   "cell_type": "code",
   "outputs": [],
   "source": [
    "df_merged.to_pickle(\"data/df_merged.pkl\")\n",
    "df_ratings.to_pickle(\"data/df_ratings.pkl\")"
   ],
   "metadata": {
    "collapsed": false,
    "ExecuteTime": {
     "end_time": "2024-03-28T17:08:51.921118Z",
     "start_time": "2024-03-28T17:08:51.536994Z"
    }
   },
   "execution_count": 1083
  },
  {
   "cell_type": "markdown",
   "source": [
    "## 2.6. Dictionary"
   ],
   "metadata": {
    "collapsed": false
   }
  },
  {
   "cell_type": "markdown",
   "source": [
    "Let's create a dictionary for our dataframes to make it easier to access them in the next steps."
   ],
   "metadata": {
    "collapsed": false
   }
  },
  {
   "cell_type": "markdown",
   "source": [
    "df_ratings\n",
    "1. `userId` – A unique identifier for each user \n",
    "2. `movieId` – A unique identifier for each movie \n",
    "3. `rating` – Ratings given by each user (from 0 to 5) \n",
    "4. `timestamp` – Unix timestamp/-epoch time, represents the number of seconds that have elapsed since 00:00:00 UTC on January 1, 1970\n",
    "\n",
    "df_merged\n",
    "1. `movieId` – A unique identifier for each movie\n",
    "2. `belongs_to_collection` – Indicates whether the movie is part of a series or collection\n",
    "3. `original_language` – The language in which the movie was originally produced and released.\n",
    "4. `overview` – A brief summary of the movie's plot.\n",
    "5. `popularity` – A numeric quantity specifying the movie popularity (based on IMDB data)\n",
    "6. `release_date` – The date on which the movie was first released to the public.\n",
    "7. `runtime` – The total duration of the movie in minutes.\n",
    "8. `title` – The official name of the movie as released.\n",
    "9. `actors` – A list of the main actors featured in the movie.\n",
    "10. `keywords_extracted` – A list of keywords or tags related to the movie.\n",
    "11. `genre_extracted` – The genre(s) of the movie.\n",
    "12. `production_company_extracted` – The names of the production companies responsible for making the movie.\n",
    "13. `production_country_extracted` – The country or countries where the movie was produced.\n",
    "14. `spoken_language_extracted` – The languages that are spoken in the movie.\n",
    "\n",
    "              \n",
    " \n",
    "\n",
    "\n"
   ],
   "metadata": {
    "collapsed": false
   }
  },
  {
   "cell_type": "code",
   "outputs": [],
   "source": [],
   "metadata": {
    "collapsed": false,
    "ExecuteTime": {
     "end_time": "2024-03-28T17:08:51.922968Z",
     "start_time": "2024-03-28T17:08:51.921695Z"
    }
   },
   "execution_count": 1083
  }
 ],
 "metadata": {
  "kernelspec": {
   "display_name": "base",
   "language": "python",
   "name": "python3"
  },
  "language_info": {
   "codemirror_mode": {
    "name": "ipython",
    "version": 3
   },
   "file_extension": ".py",
   "mimetype": "text/x-python",
   "name": "python",
   "nbconvert_exporter": "python",
   "pygments_lexer": "ipython3",
   "version": "3.11.4"
  }
 },
 "nbformat": 4,
 "nbformat_minor": 2
}
