{
  "nbformat": 4,
  "nbformat_minor": 0,
  "metadata": {
    "colab": {
      "provenance": [],
      "machine_shape": "hm",
      "gpuType": "V100",
      "authorship_tag": "ABX9TyMr8eqB8jPqU3hiaf7ZZLJI",
      "include_colab_link": true
    },
    "kernelspec": {
      "name": "python3",
      "display_name": "Python 3"
    },
    "language_info": {
      "name": "python"
    },
    "accelerator": "GPU"
  },
  "cells": [
    {
      "cell_type": "markdown",
      "metadata": {
        "id": "view-in-github",
        "colab_type": "text"
      },
      "source": [
        "<a href=\"https://colab.research.google.com/github/benetremmel/MachineLearning/blob/main/ML_GroupProject_Max_NLP.ipynb\" target=\"_parent\"><img src=\"https://colab.research.google.com/assets/colab-badge.svg\" alt=\"Open In Colab\"/></a>"
      ]
    },
    {
      "cell_type": "markdown",
      "source": [
        "#Setup"
      ],
      "metadata": {
        "id": "R1r5Xg9aP48o"
      }
    },
    {
      "cell_type": "code",
      "execution_count": null,
      "metadata": {
        "id": "eMKDQhN_Vfik"
      },
      "outputs": [],
      "source": [
        "import pandas as pd\n",
        "import numpy as np\n",
        "import matplotlib.pyplot as plt\n",
        "import seaborn as sns\n",
        "import ast\n",
        "import os\n",
        "import re\n",
        "import spacy\n",
        "import contractions\n",
        "import nltk\n",
        "from nltk.corpus import stopwords\n",
        "from sklearn.feature_extraction.text import CountVectorizer\n",
        "\n",
        "from tensorflow.keras.preprocessing.text import Tokenizer\n",
        "from tensorflow.keras.preprocessing.sequence import pad_sequences"
      ]
    },
    {
      "cell_type": "code",
      "source": [
        "pip install pandas nltk\n",
        "pip install contractions"
      ],
      "metadata": {
        "colab": {
          "base_uri": "https://localhost:8080/"
        },
        "id": "thyQof4BUXNf",
        "outputId": "70f6da79-b662-49d0-cc16-efafd76e10a3"
      },
      "execution_count": null,
      "outputs": [
        {
          "output_type": "stream",
          "name": "stdout",
          "text": [
            "Requirement already satisfied: pandas in /usr/local/lib/python3.10/dist-packages (2.0.3)\n",
            "Requirement already satisfied: nltk in /usr/local/lib/python3.10/dist-packages (3.8.1)\n",
            "Requirement already satisfied: python-dateutil>=2.8.2 in /usr/local/lib/python3.10/dist-packages (from pandas) (2.8.2)\n",
            "Requirement already satisfied: pytz>=2020.1 in /usr/local/lib/python3.10/dist-packages (from pandas) (2023.4)\n",
            "Requirement already satisfied: tzdata>=2022.1 in /usr/local/lib/python3.10/dist-packages (from pandas) (2024.1)\n",
            "Requirement already satisfied: numpy>=1.21.0 in /usr/local/lib/python3.10/dist-packages (from pandas) (1.25.2)\n",
            "Requirement already satisfied: click in /usr/local/lib/python3.10/dist-packages (from nltk) (8.1.7)\n",
            "Requirement already satisfied: joblib in /usr/local/lib/python3.10/dist-packages (from nltk) (1.4.0)\n",
            "Requirement already satisfied: regex>=2021.8.3 in /usr/local/lib/python3.10/dist-packages (from nltk) (2023.12.25)\n",
            "Requirement already satisfied: tqdm in /usr/local/lib/python3.10/dist-packages (from nltk) (4.66.2)\n",
            "Requirement already satisfied: six>=1.5 in /usr/local/lib/python3.10/dist-packages (from python-dateutil>=2.8.2->pandas) (1.16.0)\n"
          ]
        }
      ]
    },
    {
      "cell_type": "markdown",
      "source": [
        "##Load Data"
      ],
      "metadata": {
        "id": "DQfZEsQnP_Ze"
      }
    },
    {
      "cell_type": "code",
      "source": [
        "from google.colab import drive\n",
        "drive.mount('/content/drive')"
      ],
      "metadata": {
        "id": "7cIfzwk8V74F",
        "colab": {
          "base_uri": "https://localhost:8080/"
        },
        "outputId": "995c3930-88cb-4379-dada-899c6331e871"
      },
      "execution_count": null,
      "outputs": [
        {
          "output_type": "stream",
          "name": "stdout",
          "text": [
            "Mounted at /content/drive\n"
          ]
        }
      ]
    },
    {
      "cell_type": "code",
      "source": [
        "df_merged = pd.read_pickle('/content/drive/My Drive/Group Work/Part 1/df_merged_cleaned.pkl')\n",
        "df_ratings = pd.read_pickle('/content/drive/My Drive/Group Work/Part 1/df_ratings_cleaned.pkl')"
      ],
      "metadata": {
        "id": "Mk-kK29mV8G5"
      },
      "execution_count": null,
      "outputs": []
    },
    {
      "cell_type": "markdown",
      "source": [
        "# 1. Preprocessing"
      ],
      "metadata": {
        "id": "owDFKX5X7Nhs"
      }
    },
    {
      "cell_type": "code",
      "source": [
        "df_merged.columns"
      ],
      "metadata": {
        "id": "9zZWVVeFWSYM",
        "colab": {
          "base_uri": "https://localhost:8080/"
        },
        "outputId": "82793c78-e389-4234-d333-ece783505cfe"
      },
      "execution_count": null,
      "outputs": [
        {
          "output_type": "execute_result",
          "data": {
            "text/plain": [
              "Index(['movieId', 'belongs_to_collection', 'original_language', 'overview',\n",
              "       'release_date', 'runtime', 'title', 'actors', 'keywords_extracted',\n",
              "       'genre_extracted', 'production_company_extracted',\n",
              "       'production_country_extracted'],\n",
              "      dtype='object')"
            ]
          },
          "metadata": {},
          "execution_count": 5
        }
      ]
    },
    {
      "cell_type": "code",
      "source": [
        "df_merged.shape"
      ],
      "metadata": {
        "colab": {
          "base_uri": "https://localhost:8080/"
        },
        "id": "F3F4cHIH7fK-",
        "outputId": "e5e94360-caf1-48e0-921c-48e1de2459a8"
      },
      "execution_count": null,
      "outputs": [
        {
          "output_type": "execute_result",
          "data": {
            "text/plain": [
              "(41107, 12)"
            ]
          },
          "metadata": {},
          "execution_count": 6
        }
      ]
    },
    {
      "cell_type": "code",
      "source": [
        "df_merged.head()"
      ],
      "metadata": {
        "id": "w_1hSfzkW4bo",
        "colab": {
          "base_uri": "https://localhost:8080/",
          "height": 764
        },
        "outputId": "fe866981-ba81-4915-e1ba-3b890eb80949"
      },
      "execution_count": null,
      "outputs": [
        {
          "output_type": "execute_result",
          "data": {
            "text/plain": [
              "   movieId  belongs_to_collection original_language  \\\n",
              "0        1                      1                en   \n",
              "1        2                      0                en   \n",
              "2        3                      1                en   \n",
              "3        4                      0                en   \n",
              "4        5                      1                en   \n",
              "\n",
              "                                            overview release_date  runtime  \\\n",
              "0  Led by Woody, Andy's toys live happily in his ...   1995-10-30     81.0   \n",
              "1  When siblings Judy and Peter discover an encha...   1995-12-15    104.0   \n",
              "2  A family wedding reignites the ancient feud be...   1995-12-22    101.0   \n",
              "3  Cheated on, mistreated and stepped on, the wom...   1995-12-22    127.0   \n",
              "4  Just when George Banks has recovered from his ...   1995-02-10    106.0   \n",
              "\n",
              "                         title  \\\n",
              "0                    Toy Story   \n",
              "1                      Jumanji   \n",
              "2             Grumpier Old Men   \n",
              "3            Waiting to Exhale   \n",
              "4  Father of the Bride Part II   \n",
              "\n",
              "                                              actors  \\\n",
              "0  [Tom Hanks, Tim Allen, Don Rickles, Jim Varney...   \n",
              "1  [Robin Williams, Jonathan Hyde, Kirsten Dunst,...   \n",
              "2  [Walter Matthau, Jack Lemmon, Ann-Margret, Sop...   \n",
              "3  [Whitney Houston, Angela Bassett, Loretta Devi...   \n",
              "4  [Steve Martin, Diane Keaton, Martin Short, Kim...   \n",
              "\n",
              "                                  keywords_extracted  \\\n",
              "0  [jealousy, toy, boy, friendship, friends, riva...   \n",
              "1  [board game, disappearance, based on children'...   \n",
              "2  [fishing, best friend, duringcreditsstinger, o...   \n",
              "3  [based on novel, interracial relationship, sin...   \n",
              "4  [baby, midlife crisis, confidence, aging, daug...   \n",
              "\n",
              "                genre_extracted  \\\n",
              "0   [Animation, Comedy, Family]   \n",
              "1  [Adventure, Fantasy, Family]   \n",
              "2             [Romance, Comedy]   \n",
              "3      [Comedy, Drama, Romance]   \n",
              "4                      [Comedy]   \n",
              "\n",
              "                        production_company_extracted  \\\n",
              "0                          [Pixar Animation Studios]   \n",
              "1  [TriStar Pictures, Teitler Film, Interscope Co...   \n",
              "2                     [Warner Bros., Lancaster Gate]   \n",
              "3           [Twentieth Century Fox Film Corporation]   \n",
              "4       [Sandollar Productions, Touchstone Pictures]   \n",
              "\n",
              "  production_country_extracted  \n",
              "0   [United States of America]  \n",
              "1   [United States of America]  \n",
              "2   [United States of America]  \n",
              "3   [United States of America]  \n",
              "4   [United States of America]  "
            ],
            "text/html": [
              "\n",
              "  <div id=\"df-49b3f442-48fd-452e-9aab-4fe8a3b1c1e5\" class=\"colab-df-container\">\n",
              "    <div>\n",
              "<style scoped>\n",
              "    .dataframe tbody tr th:only-of-type {\n",
              "        vertical-align: middle;\n",
              "    }\n",
              "\n",
              "    .dataframe tbody tr th {\n",
              "        vertical-align: top;\n",
              "    }\n",
              "\n",
              "    .dataframe thead th {\n",
              "        text-align: right;\n",
              "    }\n",
              "</style>\n",
              "<table border=\"1\" class=\"dataframe\">\n",
              "  <thead>\n",
              "    <tr style=\"text-align: right;\">\n",
              "      <th></th>\n",
              "      <th>movieId</th>\n",
              "      <th>belongs_to_collection</th>\n",
              "      <th>original_language</th>\n",
              "      <th>overview</th>\n",
              "      <th>release_date</th>\n",
              "      <th>runtime</th>\n",
              "      <th>title</th>\n",
              "      <th>actors</th>\n",
              "      <th>keywords_extracted</th>\n",
              "      <th>genre_extracted</th>\n",
              "      <th>production_company_extracted</th>\n",
              "      <th>production_country_extracted</th>\n",
              "    </tr>\n",
              "  </thead>\n",
              "  <tbody>\n",
              "    <tr>\n",
              "      <th>0</th>\n",
              "      <td>1</td>\n",
              "      <td>1</td>\n",
              "      <td>en</td>\n",
              "      <td>Led by Woody, Andy's toys live happily in his ...</td>\n",
              "      <td>1995-10-30</td>\n",
              "      <td>81.0</td>\n",
              "      <td>Toy Story</td>\n",
              "      <td>[Tom Hanks, Tim Allen, Don Rickles, Jim Varney...</td>\n",
              "      <td>[jealousy, toy, boy, friendship, friends, riva...</td>\n",
              "      <td>[Animation, Comedy, Family]</td>\n",
              "      <td>[Pixar Animation Studios]</td>\n",
              "      <td>[United States of America]</td>\n",
              "    </tr>\n",
              "    <tr>\n",
              "      <th>1</th>\n",
              "      <td>2</td>\n",
              "      <td>0</td>\n",
              "      <td>en</td>\n",
              "      <td>When siblings Judy and Peter discover an encha...</td>\n",
              "      <td>1995-12-15</td>\n",
              "      <td>104.0</td>\n",
              "      <td>Jumanji</td>\n",
              "      <td>[Robin Williams, Jonathan Hyde, Kirsten Dunst,...</td>\n",
              "      <td>[board game, disappearance, based on children'...</td>\n",
              "      <td>[Adventure, Fantasy, Family]</td>\n",
              "      <td>[TriStar Pictures, Teitler Film, Interscope Co...</td>\n",
              "      <td>[United States of America]</td>\n",
              "    </tr>\n",
              "    <tr>\n",
              "      <th>2</th>\n",
              "      <td>3</td>\n",
              "      <td>1</td>\n",
              "      <td>en</td>\n",
              "      <td>A family wedding reignites the ancient feud be...</td>\n",
              "      <td>1995-12-22</td>\n",
              "      <td>101.0</td>\n",
              "      <td>Grumpier Old Men</td>\n",
              "      <td>[Walter Matthau, Jack Lemmon, Ann-Margret, Sop...</td>\n",
              "      <td>[fishing, best friend, duringcreditsstinger, o...</td>\n",
              "      <td>[Romance, Comedy]</td>\n",
              "      <td>[Warner Bros., Lancaster Gate]</td>\n",
              "      <td>[United States of America]</td>\n",
              "    </tr>\n",
              "    <tr>\n",
              "      <th>3</th>\n",
              "      <td>4</td>\n",
              "      <td>0</td>\n",
              "      <td>en</td>\n",
              "      <td>Cheated on, mistreated and stepped on, the wom...</td>\n",
              "      <td>1995-12-22</td>\n",
              "      <td>127.0</td>\n",
              "      <td>Waiting to Exhale</td>\n",
              "      <td>[Whitney Houston, Angela Bassett, Loretta Devi...</td>\n",
              "      <td>[based on novel, interracial relationship, sin...</td>\n",
              "      <td>[Comedy, Drama, Romance]</td>\n",
              "      <td>[Twentieth Century Fox Film Corporation]</td>\n",
              "      <td>[United States of America]</td>\n",
              "    </tr>\n",
              "    <tr>\n",
              "      <th>4</th>\n",
              "      <td>5</td>\n",
              "      <td>1</td>\n",
              "      <td>en</td>\n",
              "      <td>Just when George Banks has recovered from his ...</td>\n",
              "      <td>1995-02-10</td>\n",
              "      <td>106.0</td>\n",
              "      <td>Father of the Bride Part II</td>\n",
              "      <td>[Steve Martin, Diane Keaton, Martin Short, Kim...</td>\n",
              "      <td>[baby, midlife crisis, confidence, aging, daug...</td>\n",
              "      <td>[Comedy]</td>\n",
              "      <td>[Sandollar Productions, Touchstone Pictures]</td>\n",
              "      <td>[United States of America]</td>\n",
              "    </tr>\n",
              "  </tbody>\n",
              "</table>\n",
              "</div>\n",
              "    <div class=\"colab-df-buttons\">\n",
              "\n",
              "  <div class=\"colab-df-container\">\n",
              "    <button class=\"colab-df-convert\" onclick=\"convertToInteractive('df-49b3f442-48fd-452e-9aab-4fe8a3b1c1e5')\"\n",
              "            title=\"Convert this dataframe to an interactive table.\"\n",
              "            style=\"display:none;\">\n",
              "\n",
              "  <svg xmlns=\"http://www.w3.org/2000/svg\" height=\"24px\" viewBox=\"0 -960 960 960\">\n",
              "    <path d=\"M120-120v-720h720v720H120Zm60-500h600v-160H180v160Zm220 220h160v-160H400v160Zm0 220h160v-160H400v160ZM180-400h160v-160H180v160Zm440 0h160v-160H620v160ZM180-180h160v-160H180v160Zm440 0h160v-160H620v160Z\"/>\n",
              "  </svg>\n",
              "    </button>\n",
              "\n",
              "  <style>\n",
              "    .colab-df-container {\n",
              "      display:flex;\n",
              "      gap: 12px;\n",
              "    }\n",
              "\n",
              "    .colab-df-convert {\n",
              "      background-color: #E8F0FE;\n",
              "      border: none;\n",
              "      border-radius: 50%;\n",
              "      cursor: pointer;\n",
              "      display: none;\n",
              "      fill: #1967D2;\n",
              "      height: 32px;\n",
              "      padding: 0 0 0 0;\n",
              "      width: 32px;\n",
              "    }\n",
              "\n",
              "    .colab-df-convert:hover {\n",
              "      background-color: #E2EBFA;\n",
              "      box-shadow: 0px 1px 2px rgba(60, 64, 67, 0.3), 0px 1px 3px 1px rgba(60, 64, 67, 0.15);\n",
              "      fill: #174EA6;\n",
              "    }\n",
              "\n",
              "    .colab-df-buttons div {\n",
              "      margin-bottom: 4px;\n",
              "    }\n",
              "\n",
              "    [theme=dark] .colab-df-convert {\n",
              "      background-color: #3B4455;\n",
              "      fill: #D2E3FC;\n",
              "    }\n",
              "\n",
              "    [theme=dark] .colab-df-convert:hover {\n",
              "      background-color: #434B5C;\n",
              "      box-shadow: 0px 1px 3px 1px rgba(0, 0, 0, 0.15);\n",
              "      filter: drop-shadow(0px 1px 2px rgba(0, 0, 0, 0.3));\n",
              "      fill: #FFFFFF;\n",
              "    }\n",
              "  </style>\n",
              "\n",
              "    <script>\n",
              "      const buttonEl =\n",
              "        document.querySelector('#df-49b3f442-48fd-452e-9aab-4fe8a3b1c1e5 button.colab-df-convert');\n",
              "      buttonEl.style.display =\n",
              "        google.colab.kernel.accessAllowed ? 'block' : 'none';\n",
              "\n",
              "      async function convertToInteractive(key) {\n",
              "        const element = document.querySelector('#df-49b3f442-48fd-452e-9aab-4fe8a3b1c1e5');\n",
              "        const dataTable =\n",
              "          await google.colab.kernel.invokeFunction('convertToInteractive',\n",
              "                                                    [key], {});\n",
              "        if (!dataTable) return;\n",
              "\n",
              "        const docLinkHtml = 'Like what you see? Visit the ' +\n",
              "          '<a target=\"_blank\" href=https://colab.research.google.com/notebooks/data_table.ipynb>data table notebook</a>'\n",
              "          + ' to learn more about interactive tables.';\n",
              "        element.innerHTML = '';\n",
              "        dataTable['output_type'] = 'display_data';\n",
              "        await google.colab.output.renderOutput(dataTable, element);\n",
              "        const docLink = document.createElement('div');\n",
              "        docLink.innerHTML = docLinkHtml;\n",
              "        element.appendChild(docLink);\n",
              "      }\n",
              "    </script>\n",
              "  </div>\n",
              "\n",
              "\n",
              "<div id=\"df-2477a1a1-1cbc-4aa6-8d18-dcd40924fc6a\">\n",
              "  <button class=\"colab-df-quickchart\" onclick=\"quickchart('df-2477a1a1-1cbc-4aa6-8d18-dcd40924fc6a')\"\n",
              "            title=\"Suggest charts\"\n",
              "            style=\"display:none;\">\n",
              "\n",
              "<svg xmlns=\"http://www.w3.org/2000/svg\" height=\"24px\"viewBox=\"0 0 24 24\"\n",
              "     width=\"24px\">\n",
              "    <g>\n",
              "        <path d=\"M19 3H5c-1.1 0-2 .9-2 2v14c0 1.1.9 2 2 2h14c1.1 0 2-.9 2-2V5c0-1.1-.9-2-2-2zM9 17H7v-7h2v7zm4 0h-2V7h2v10zm4 0h-2v-4h2v4z\"/>\n",
              "    </g>\n",
              "</svg>\n",
              "  </button>\n",
              "\n",
              "<style>\n",
              "  .colab-df-quickchart {\n",
              "      --bg-color: #E8F0FE;\n",
              "      --fill-color: #1967D2;\n",
              "      --hover-bg-color: #E2EBFA;\n",
              "      --hover-fill-color: #174EA6;\n",
              "      --disabled-fill-color: #AAA;\n",
              "      --disabled-bg-color: #DDD;\n",
              "  }\n",
              "\n",
              "  [theme=dark] .colab-df-quickchart {\n",
              "      --bg-color: #3B4455;\n",
              "      --fill-color: #D2E3FC;\n",
              "      --hover-bg-color: #434B5C;\n",
              "      --hover-fill-color: #FFFFFF;\n",
              "      --disabled-bg-color: #3B4455;\n",
              "      --disabled-fill-color: #666;\n",
              "  }\n",
              "\n",
              "  .colab-df-quickchart {\n",
              "    background-color: var(--bg-color);\n",
              "    border: none;\n",
              "    border-radius: 50%;\n",
              "    cursor: pointer;\n",
              "    display: none;\n",
              "    fill: var(--fill-color);\n",
              "    height: 32px;\n",
              "    padding: 0;\n",
              "    width: 32px;\n",
              "  }\n",
              "\n",
              "  .colab-df-quickchart:hover {\n",
              "    background-color: var(--hover-bg-color);\n",
              "    box-shadow: 0 1px 2px rgba(60, 64, 67, 0.3), 0 1px 3px 1px rgba(60, 64, 67, 0.15);\n",
              "    fill: var(--button-hover-fill-color);\n",
              "  }\n",
              "\n",
              "  .colab-df-quickchart-complete:disabled,\n",
              "  .colab-df-quickchart-complete:disabled:hover {\n",
              "    background-color: var(--disabled-bg-color);\n",
              "    fill: var(--disabled-fill-color);\n",
              "    box-shadow: none;\n",
              "  }\n",
              "\n",
              "  .colab-df-spinner {\n",
              "    border: 2px solid var(--fill-color);\n",
              "    border-color: transparent;\n",
              "    border-bottom-color: var(--fill-color);\n",
              "    animation:\n",
              "      spin 1s steps(1) infinite;\n",
              "  }\n",
              "\n",
              "  @keyframes spin {\n",
              "    0% {\n",
              "      border-color: transparent;\n",
              "      border-bottom-color: var(--fill-color);\n",
              "      border-left-color: var(--fill-color);\n",
              "    }\n",
              "    20% {\n",
              "      border-color: transparent;\n",
              "      border-left-color: var(--fill-color);\n",
              "      border-top-color: var(--fill-color);\n",
              "    }\n",
              "    30% {\n",
              "      border-color: transparent;\n",
              "      border-left-color: var(--fill-color);\n",
              "      border-top-color: var(--fill-color);\n",
              "      border-right-color: var(--fill-color);\n",
              "    }\n",
              "    40% {\n",
              "      border-color: transparent;\n",
              "      border-right-color: var(--fill-color);\n",
              "      border-top-color: var(--fill-color);\n",
              "    }\n",
              "    60% {\n",
              "      border-color: transparent;\n",
              "      border-right-color: var(--fill-color);\n",
              "    }\n",
              "    80% {\n",
              "      border-color: transparent;\n",
              "      border-right-color: var(--fill-color);\n",
              "      border-bottom-color: var(--fill-color);\n",
              "    }\n",
              "    90% {\n",
              "      border-color: transparent;\n",
              "      border-bottom-color: var(--fill-color);\n",
              "    }\n",
              "  }\n",
              "</style>\n",
              "\n",
              "  <script>\n",
              "    async function quickchart(key) {\n",
              "      const quickchartButtonEl =\n",
              "        document.querySelector('#' + key + ' button');\n",
              "      quickchartButtonEl.disabled = true;  // To prevent multiple clicks.\n",
              "      quickchartButtonEl.classList.add('colab-df-spinner');\n",
              "      try {\n",
              "        const charts = await google.colab.kernel.invokeFunction(\n",
              "            'suggestCharts', [key], {});\n",
              "      } catch (error) {\n",
              "        console.error('Error during call to suggestCharts:', error);\n",
              "      }\n",
              "      quickchartButtonEl.classList.remove('colab-df-spinner');\n",
              "      quickchartButtonEl.classList.add('colab-df-quickchart-complete');\n",
              "    }\n",
              "    (() => {\n",
              "      let quickchartButtonEl =\n",
              "        document.querySelector('#df-2477a1a1-1cbc-4aa6-8d18-dcd40924fc6a button');\n",
              "      quickchartButtonEl.style.display =\n",
              "        google.colab.kernel.accessAllowed ? 'block' : 'none';\n",
              "    })();\n",
              "  </script>\n",
              "</div>\n",
              "    </div>\n",
              "  </div>\n"
            ],
            "application/vnd.google.colaboratory.intrinsic+json": {
              "type": "dataframe",
              "variable_name": "df_merged",
              "summary": "{\n  \"name\": \"df_merged\",\n  \"rows\": 41107,\n  \"fields\": [\n    {\n      \"column\": \"movieId\",\n      \"properties\": {\n        \"dtype\": \"Int64\",\n        \"num_unique_values\": 41107,\n        \"samples\": [\n          27016,\n          124955,\n          141799\n        ],\n        \"semantic_type\": \"\",\n        \"description\": \"\"\n      }\n    },\n    {\n      \"column\": \"belongs_to_collection\",\n      \"properties\": {\n        \"dtype\": \"number\",\n        \"std\": 0,\n        \"min\": 0,\n        \"max\": 1,\n        \"num_unique_values\": 2,\n        \"samples\": [\n          0,\n          1\n        ],\n        \"semantic_type\": \"\",\n        \"description\": \"\"\n      }\n    },\n    {\n      \"column\": \"original_language\",\n      \"properties\": {\n        \"dtype\": \"category\",\n        \"num_unique_values\": 89,\n        \"samples\": [\n          \"ka\",\n          \"fy\"\n        ],\n        \"semantic_type\": \"\",\n        \"description\": \"\"\n      }\n    },\n    {\n      \"column\": \"overview\",\n      \"properties\": {\n        \"dtype\": \"string\",\n        \"num_unique_values\": 40963,\n        \"samples\": [\n          \"John Ireland stars in this thriller as a man who breaks out of an asylum for the criminally insane, where he has been committed for strangling a girl with a scarf.\",\n          \"Ricky Rapper and Nelli Nuudelip\\u00e4\\u00e4 leave the island, where Elvi Rapper operates the resort's wife. There will also Risto for Nelli and slightly older Wendy father Uolevi Horsma Niemi. Venla input confuse Ricky and Nell intervals, as Nelli begins to enjoy more and more Venla company. At the same time old friends the Freezer Elvi and Uolevi converge. The whole family musical comedy Ricky Rapper and Cool Wendy tells of friendship, loneliness and accepting differences.\"\n        ],\n        \"semantic_type\": \"\",\n        \"description\": \"\"\n      }\n    },\n    {\n      \"column\": \"release_date\",\n      \"properties\": {\n        \"dtype\": \"date\",\n        \"min\": \"1906-12-26 00:00:00\",\n        \"max\": \"2017-12-27 00:00:00\",\n        \"num_unique_values\": 16462,\n        \"samples\": [\n          \"1971-06-01 00:00:00\",\n          \"1993-08-01 00:00:00\"\n        ],\n        \"semantic_type\": \"\",\n        \"description\": \"\"\n      }\n    },\n    {\n      \"column\": \"runtime\",\n      \"properties\": {\n        \"dtype\": \"number\",\n        \"std\": 22.92799423660706,\n        \"min\": 45.0,\n        \"max\": 300.0,\n        \"num_unique_values\": 232,\n        \"samples\": [\n          282.0,\n          171.0\n        ],\n        \"semantic_type\": \"\",\n        \"description\": \"\"\n      }\n    },\n    {\n      \"column\": \"title\",\n      \"properties\": {\n        \"dtype\": \"string\",\n        \"num_unique_values\": 38319,\n        \"samples\": [\n          \"Blackout\",\n          \"Megazone 23\"\n        ],\n        \"semantic_type\": \"\",\n        \"description\": \"\"\n      }\n    },\n    {\n      \"column\": \"actors\",\n      \"properties\": {\n        \"dtype\": \"object\",\n        \"semantic_type\": \"\",\n        \"description\": \"\"\n      }\n    },\n    {\n      \"column\": \"keywords_extracted\",\n      \"properties\": {\n        \"dtype\": \"object\",\n        \"semantic_type\": \"\",\n        \"description\": \"\"\n      }\n    },\n    {\n      \"column\": \"genre_extracted\",\n      \"properties\": {\n        \"dtype\": \"object\",\n        \"semantic_type\": \"\",\n        \"description\": \"\"\n      }\n    },\n    {\n      \"column\": \"production_company_extracted\",\n      \"properties\": {\n        \"dtype\": \"object\",\n        \"semantic_type\": \"\",\n        \"description\": \"\"\n      }\n    },\n    {\n      \"column\": \"production_country_extracted\",\n      \"properties\": {\n        \"dtype\": \"object\",\n        \"semantic_type\": \"\",\n        \"description\": \"\"\n      }\n    }\n  ]\n}"
            }
          },
          "metadata": {},
          "execution_count": 7
        }
      ]
    },
    {
      "cell_type": "code",
      "source": [
        "df_merged[\"overview\"].head()"
      ],
      "metadata": {
        "id": "olJOB89XXJ10",
        "colab": {
          "base_uri": "https://localhost:8080/"
        },
        "outputId": "79363c05-51f1-4c8f-aecf-4dd21818de64"
      },
      "execution_count": null,
      "outputs": [
        {
          "output_type": "execute_result",
          "data": {
            "text/plain": [
              "0    Led by Woody, Andy's toys live happily in his ...\n",
              "1    When siblings Judy and Peter discover an encha...\n",
              "2    A family wedding reignites the ancient feud be...\n",
              "3    Cheated on, mistreated and stepped on, the wom...\n",
              "4    Just when George Banks has recovered from his ...\n",
              "Name: overview, dtype: object"
            ]
          },
          "metadata": {},
          "execution_count": 8
        }
      ]
    },
    {
      "cell_type": "code",
      "source": [
        "# Number of total values\n",
        "total_entries = len(df_merged['overview'])\n",
        "print(f\"Total entries: {total_entries}\")\n",
        "\n",
        "# Number of missing values\n",
        "missing_values = df_merged['overview'].isnull().sum()\n",
        "print(f\"Missing values: {missing_values}\")\n",
        "\n",
        "# Number of unique values\n",
        "unique_values = df_merged['overview'].nunique()\n",
        "print(f\"Unique values: {unique_values}\")\n",
        "\n",
        "# Average length of movie descriptions\n",
        "average_length = df_merged['overview'].dropna().apply(len).mean()\n",
        "print(f\"Average Length of Descriptions: {average_length:.2f} characters\")\n",
        "\n",
        "# Shortest length of movie descriptions\n",
        "shortest_length = df_merged['overview'].dropna().apply(len).min()\n",
        "print(f\"Shortest Length of Descriptions: {shortest_length:.2f} characters\")\n",
        "\n",
        "# Longest length of movie descriptions\n",
        "longest_length = df_merged['overview'].dropna().apply(len).max()\n",
        "print(f\"Longest Length of Descriptions: {longest_length:.2f} characters\")"
      ],
      "metadata": {
        "id": "tlLu-ufvYFR5",
        "colab": {
          "base_uri": "https://localhost:8080/"
        },
        "outputId": "e3f80e51-224f-4d2e-a908-c50610b3189f"
      },
      "execution_count": null,
      "outputs": [
        {
          "output_type": "stream",
          "name": "stdout",
          "text": [
            "Total entries: 41107\n",
            "Missing values: 0\n",
            "Unique values: 40963\n",
            "Average Length of Descriptions: 324.68 characters\n",
            "Shortest Length of Descriptions: 1.00 characters\n",
            "Longest Length of Descriptions: 1000.00 characters\n"
          ]
        }
      ]
    },
    {
      "cell_type": "markdown",
      "source": [
        "After examining the entries in the df_merged DataFrame with 1000-character descriptions, I've decided to keep them. These descriptions are complete and informative, despite reaching the character limit. They are fully usable and add value to our analysis. Consequently, we will continue to include these long descriptions to ensure the dataset remains robust and comprehensive."
      ],
      "metadata": {
        "id": "EhZanoCePsRk"
      }
    },
    {
      "cell_type": "markdown",
      "source": [
        "Identify entries where descriptions are extremely short. These might be errors or insufficient descriptions."
      ],
      "metadata": {
        "id": "V-frYeck_J4U"
      }
    },
    {
      "cell_type": "code",
      "source": [
        "short_descriptions_mask = df_merged['overview'].dropna().apply(len) < 30\n",
        "\n",
        "# Filter the original DataFrame to show only rows with short descriptions\n",
        "short_desc_df = df_merged[short_descriptions_mask]\n",
        "\n",
        "# Display these descriptions to assess their relevance\n",
        "short_desc_df.head(10)"
      ],
      "metadata": {
        "colab": {
          "base_uri": "https://localhost:8080/",
          "height": 1000
        },
        "id": "N4L3e6WI-Uoc",
        "outputId": "67a2ee80-16d1-4b94-b7a7-be404d9185f4"
      },
      "execution_count": null,
      "outputs": [
        {
          "output_type": "execute_result",
          "data": {
            "text/plain": [
              "      movieId  belongs_to_collection original_language            overview  \\\n",
              "104       106                      0                de  No overview found.   \n",
              "727       739                      0                de       German Comedy   \n",
              "805       824                      0                de  No overview found.   \n",
              "987      1001                      0                en  No overview found.   \n",
              "1633     1692                      0                en  No overview found.   \n",
              "2250     2343                      0                en  No overview found.   \n",
              "3313     3407                      0                fr  No overview found.   \n",
              "3788     3887                      0                en  No overview found.   \n",
              "4573     4667                      0                en                       \n",
              "7382     7566                      1                en  No overview found.   \n",
              "\n",
              "     release_date  runtime                                              title  \\\n",
              "104    1994-11-07    104.0                                    Nobody Loves Me   \n",
              "727    1996-04-11     92.0                                          Honeymoon   \n",
              "805    1993-09-11    139.0                                      Kaspar Hauser   \n",
              "987    1979-08-22     94.0                                          L'associé   \n",
              "1633   1996-01-01     85.0                                       Alien Escape   \n",
              "2250   1998-08-02     98.0                                      The Naked Man   \n",
              "3313   1999-05-19     94.0                           The Carriers Are Waiting   \n",
              "3788   1998-01-01     94.0  Went to Coney Island on a Mission from God... ...   \n",
              "4573   1989-03-18    124.0                                 Slaves of New York   \n",
              "7382   1984-11-20    136.0                                              28 Up   \n",
              "\n",
              "                                                 actors  \\\n",
              "104   [Maria Schrader, Pierre Sanoussi-Bliss, Michae...   \n",
              "727   [Veronica Ferres, Anica Dobra, Julia Stemberge...   \n",
              "805   [André Eisermann, Udo Samel, Jeremy Clyde, Kat...   \n",
              "987   [Michel Serrault, Claudine Auger, Catherine Al...   \n",
              "1633  [Gail Harris, Bernie Van De Yacht, Heather For...   \n",
              "2250  [Michael Rapaport, Michael Jeter, Rachael Leig...   \n",
              "3313  [Benoît Poelvoorde, Morgane Simon, Bouli Lanne...   \n",
              "3788                                                 []   \n",
              "4573  [Bernadette Peters, Chris Sarandon, Mary Beth ...   \n",
              "7382                                                 []   \n",
              "\n",
              "                                     keywords_extracted  \\\n",
              "104   [prophecy, voodoo, single, falling in love, wo...   \n",
              "727                                            [(none)]   \n",
              "805   [prisoner, bavaria, nuremberg, mensch als obje...   \n",
              "987                                            [(none)]   \n",
              "1633  [female nudity, mutant, cabin, alien life-form...   \n",
              "2250  [male nudity, double life, wrestling, murder, ...   \n",
              "3313                                           [(none)]   \n",
              "3788                                 [independent film]   \n",
              "4573                                           [(none)]   \n",
              "7382                                           [(none)]   \n",
              "\n",
              "                genre_extracted  \\\n",
              "104     [Drama, Comedy, Family]   \n",
              "727                    [Comedy]   \n",
              "805            [Drama, Foreign]   \n",
              "987                    [Comedy]   \n",
              "1633  [Horror, Science Fiction]   \n",
              "2250         [Comedy, Thriller]   \n",
              "3313  [Drama, Romance, Foreign]   \n",
              "3788                    [Drama]   \n",
              "4573                    [Drama]   \n",
              "7382     [Documentary, Foreign]   \n",
              "\n",
              "                           production_company_extracted  \\\n",
              "104                                                  []   \n",
              "727                    [Roxy Film, MTM Cineteve, Pro 7]   \n",
              "805                                                  []   \n",
              "987                                                  []   \n",
              "1633                                                 []   \n",
              "2250                                                 []   \n",
              "3313  [Eurimages, K2 SA, Canal+, Radio Télévision Be...   \n",
              "3788                                                 []   \n",
              "4573                                                 []   \n",
              "7382                                                 []   \n",
              "\n",
              "        production_country_extracted  \n",
              "104                        [Germany]  \n",
              "727                        [Germany]  \n",
              "805       [Austria, Germany, Sweden]  \n",
              "987                               []  \n",
              "1633      [United States of America]  \n",
              "2250      [United States of America]  \n",
              "3313  [France, Belgium, Switzerland]  \n",
              "3788                              []  \n",
              "4573      [United States of America]  \n",
              "7382                [United Kingdom]  "
            ],
            "text/html": [
              "\n",
              "  <div id=\"df-46b503d3-b81e-49a2-8e78-34022b97f511\" class=\"colab-df-container\">\n",
              "    <div>\n",
              "<style scoped>\n",
              "    .dataframe tbody tr th:only-of-type {\n",
              "        vertical-align: middle;\n",
              "    }\n",
              "\n",
              "    .dataframe tbody tr th {\n",
              "        vertical-align: top;\n",
              "    }\n",
              "\n",
              "    .dataframe thead th {\n",
              "        text-align: right;\n",
              "    }\n",
              "</style>\n",
              "<table border=\"1\" class=\"dataframe\">\n",
              "  <thead>\n",
              "    <tr style=\"text-align: right;\">\n",
              "      <th></th>\n",
              "      <th>movieId</th>\n",
              "      <th>belongs_to_collection</th>\n",
              "      <th>original_language</th>\n",
              "      <th>overview</th>\n",
              "      <th>release_date</th>\n",
              "      <th>runtime</th>\n",
              "      <th>title</th>\n",
              "      <th>actors</th>\n",
              "      <th>keywords_extracted</th>\n",
              "      <th>genre_extracted</th>\n",
              "      <th>production_company_extracted</th>\n",
              "      <th>production_country_extracted</th>\n",
              "    </tr>\n",
              "  </thead>\n",
              "  <tbody>\n",
              "    <tr>\n",
              "      <th>104</th>\n",
              "      <td>106</td>\n",
              "      <td>0</td>\n",
              "      <td>de</td>\n",
              "      <td>No overview found.</td>\n",
              "      <td>1994-11-07</td>\n",
              "      <td>104.0</td>\n",
              "      <td>Nobody Loves Me</td>\n",
              "      <td>[Maria Schrader, Pierre Sanoussi-Bliss, Michae...</td>\n",
              "      <td>[prophecy, voodoo, single, falling in love, wo...</td>\n",
              "      <td>[Drama, Comedy, Family]</td>\n",
              "      <td>[]</td>\n",
              "      <td>[Germany]</td>\n",
              "    </tr>\n",
              "    <tr>\n",
              "      <th>727</th>\n",
              "      <td>739</td>\n",
              "      <td>0</td>\n",
              "      <td>de</td>\n",
              "      <td>German Comedy</td>\n",
              "      <td>1996-04-11</td>\n",
              "      <td>92.0</td>\n",
              "      <td>Honeymoon</td>\n",
              "      <td>[Veronica Ferres, Anica Dobra, Julia Stemberge...</td>\n",
              "      <td>[(none)]</td>\n",
              "      <td>[Comedy]</td>\n",
              "      <td>[Roxy Film, MTM Cineteve, Pro 7]</td>\n",
              "      <td>[Germany]</td>\n",
              "    </tr>\n",
              "    <tr>\n",
              "      <th>805</th>\n",
              "      <td>824</td>\n",
              "      <td>0</td>\n",
              "      <td>de</td>\n",
              "      <td>No overview found.</td>\n",
              "      <td>1993-09-11</td>\n",
              "      <td>139.0</td>\n",
              "      <td>Kaspar Hauser</td>\n",
              "      <td>[André Eisermann, Udo Samel, Jeremy Clyde, Kat...</td>\n",
              "      <td>[prisoner, bavaria, nuremberg, mensch als obje...</td>\n",
              "      <td>[Drama, Foreign]</td>\n",
              "      <td>[]</td>\n",
              "      <td>[Austria, Germany, Sweden]</td>\n",
              "    </tr>\n",
              "    <tr>\n",
              "      <th>987</th>\n",
              "      <td>1001</td>\n",
              "      <td>0</td>\n",
              "      <td>en</td>\n",
              "      <td>No overview found.</td>\n",
              "      <td>1979-08-22</td>\n",
              "      <td>94.0</td>\n",
              "      <td>L'associé</td>\n",
              "      <td>[Michel Serrault, Claudine Auger, Catherine Al...</td>\n",
              "      <td>[(none)]</td>\n",
              "      <td>[Comedy]</td>\n",
              "      <td>[]</td>\n",
              "      <td>[]</td>\n",
              "    </tr>\n",
              "    <tr>\n",
              "      <th>1633</th>\n",
              "      <td>1692</td>\n",
              "      <td>0</td>\n",
              "      <td>en</td>\n",
              "      <td>No overview found.</td>\n",
              "      <td>1996-01-01</td>\n",
              "      <td>85.0</td>\n",
              "      <td>Alien Escape</td>\n",
              "      <td>[Gail Harris, Bernie Van De Yacht, Heather For...</td>\n",
              "      <td>[female nudity, mutant, cabin, alien life-form...</td>\n",
              "      <td>[Horror, Science Fiction]</td>\n",
              "      <td>[]</td>\n",
              "      <td>[United States of America]</td>\n",
              "    </tr>\n",
              "    <tr>\n",
              "      <th>2250</th>\n",
              "      <td>2343</td>\n",
              "      <td>0</td>\n",
              "      <td>en</td>\n",
              "      <td>No overview found.</td>\n",
              "      <td>1998-08-02</td>\n",
              "      <td>98.0</td>\n",
              "      <td>The Naked Man</td>\n",
              "      <td>[Michael Rapaport, Michael Jeter, Rachael Leig...</td>\n",
              "      <td>[male nudity, double life, wrestling, murder, ...</td>\n",
              "      <td>[Comedy, Thriller]</td>\n",
              "      <td>[]</td>\n",
              "      <td>[United States of America]</td>\n",
              "    </tr>\n",
              "    <tr>\n",
              "      <th>3313</th>\n",
              "      <td>3407</td>\n",
              "      <td>0</td>\n",
              "      <td>fr</td>\n",
              "      <td>No overview found.</td>\n",
              "      <td>1999-05-19</td>\n",
              "      <td>94.0</td>\n",
              "      <td>The Carriers Are Waiting</td>\n",
              "      <td>[Benoît Poelvoorde, Morgane Simon, Bouli Lanne...</td>\n",
              "      <td>[(none)]</td>\n",
              "      <td>[Drama, Romance, Foreign]</td>\n",
              "      <td>[Eurimages, K2 SA, Canal+, Radio Télévision Be...</td>\n",
              "      <td>[France, Belgium, Switzerland]</td>\n",
              "    </tr>\n",
              "    <tr>\n",
              "      <th>3788</th>\n",
              "      <td>3887</td>\n",
              "      <td>0</td>\n",
              "      <td>en</td>\n",
              "      <td>No overview found.</td>\n",
              "      <td>1998-01-01</td>\n",
              "      <td>94.0</td>\n",
              "      <td>Went to Coney Island on a Mission from God... ...</td>\n",
              "      <td>[]</td>\n",
              "      <td>[independent film]</td>\n",
              "      <td>[Drama]</td>\n",
              "      <td>[]</td>\n",
              "      <td>[]</td>\n",
              "    </tr>\n",
              "    <tr>\n",
              "      <th>4573</th>\n",
              "      <td>4667</td>\n",
              "      <td>0</td>\n",
              "      <td>en</td>\n",
              "      <td></td>\n",
              "      <td>1989-03-18</td>\n",
              "      <td>124.0</td>\n",
              "      <td>Slaves of New York</td>\n",
              "      <td>[Bernadette Peters, Chris Sarandon, Mary Beth ...</td>\n",
              "      <td>[(none)]</td>\n",
              "      <td>[Drama]</td>\n",
              "      <td>[]</td>\n",
              "      <td>[United States of America]</td>\n",
              "    </tr>\n",
              "    <tr>\n",
              "      <th>7382</th>\n",
              "      <td>7566</td>\n",
              "      <td>1</td>\n",
              "      <td>en</td>\n",
              "      <td>No overview found.</td>\n",
              "      <td>1984-11-20</td>\n",
              "      <td>136.0</td>\n",
              "      <td>28 Up</td>\n",
              "      <td>[]</td>\n",
              "      <td>[(none)]</td>\n",
              "      <td>[Documentary, Foreign]</td>\n",
              "      <td>[]</td>\n",
              "      <td>[United Kingdom]</td>\n",
              "    </tr>\n",
              "  </tbody>\n",
              "</table>\n",
              "</div>\n",
              "    <div class=\"colab-df-buttons\">\n",
              "\n",
              "  <div class=\"colab-df-container\">\n",
              "    <button class=\"colab-df-convert\" onclick=\"convertToInteractive('df-46b503d3-b81e-49a2-8e78-34022b97f511')\"\n",
              "            title=\"Convert this dataframe to an interactive table.\"\n",
              "            style=\"display:none;\">\n",
              "\n",
              "  <svg xmlns=\"http://www.w3.org/2000/svg\" height=\"24px\" viewBox=\"0 -960 960 960\">\n",
              "    <path d=\"M120-120v-720h720v720H120Zm60-500h600v-160H180v160Zm220 220h160v-160H400v160Zm0 220h160v-160H400v160ZM180-400h160v-160H180v160Zm440 0h160v-160H620v160ZM180-180h160v-160H180v160Zm440 0h160v-160H620v160Z\"/>\n",
              "  </svg>\n",
              "    </button>\n",
              "\n",
              "  <style>\n",
              "    .colab-df-container {\n",
              "      display:flex;\n",
              "      gap: 12px;\n",
              "    }\n",
              "\n",
              "    .colab-df-convert {\n",
              "      background-color: #E8F0FE;\n",
              "      border: none;\n",
              "      border-radius: 50%;\n",
              "      cursor: pointer;\n",
              "      display: none;\n",
              "      fill: #1967D2;\n",
              "      height: 32px;\n",
              "      padding: 0 0 0 0;\n",
              "      width: 32px;\n",
              "    }\n",
              "\n",
              "    .colab-df-convert:hover {\n",
              "      background-color: #E2EBFA;\n",
              "      box-shadow: 0px 1px 2px rgba(60, 64, 67, 0.3), 0px 1px 3px 1px rgba(60, 64, 67, 0.15);\n",
              "      fill: #174EA6;\n",
              "    }\n",
              "\n",
              "    .colab-df-buttons div {\n",
              "      margin-bottom: 4px;\n",
              "    }\n",
              "\n",
              "    [theme=dark] .colab-df-convert {\n",
              "      background-color: #3B4455;\n",
              "      fill: #D2E3FC;\n",
              "    }\n",
              "\n",
              "    [theme=dark] .colab-df-convert:hover {\n",
              "      background-color: #434B5C;\n",
              "      box-shadow: 0px 1px 3px 1px rgba(0, 0, 0, 0.15);\n",
              "      filter: drop-shadow(0px 1px 2px rgba(0, 0, 0, 0.3));\n",
              "      fill: #FFFFFF;\n",
              "    }\n",
              "  </style>\n",
              "\n",
              "    <script>\n",
              "      const buttonEl =\n",
              "        document.querySelector('#df-46b503d3-b81e-49a2-8e78-34022b97f511 button.colab-df-convert');\n",
              "      buttonEl.style.display =\n",
              "        google.colab.kernel.accessAllowed ? 'block' : 'none';\n",
              "\n",
              "      async function convertToInteractive(key) {\n",
              "        const element = document.querySelector('#df-46b503d3-b81e-49a2-8e78-34022b97f511');\n",
              "        const dataTable =\n",
              "          await google.colab.kernel.invokeFunction('convertToInteractive',\n",
              "                                                    [key], {});\n",
              "        if (!dataTable) return;\n",
              "\n",
              "        const docLinkHtml = 'Like what you see? Visit the ' +\n",
              "          '<a target=\"_blank\" href=https://colab.research.google.com/notebooks/data_table.ipynb>data table notebook</a>'\n",
              "          + ' to learn more about interactive tables.';\n",
              "        element.innerHTML = '';\n",
              "        dataTable['output_type'] = 'display_data';\n",
              "        await google.colab.output.renderOutput(dataTable, element);\n",
              "        const docLink = document.createElement('div');\n",
              "        docLink.innerHTML = docLinkHtml;\n",
              "        element.appendChild(docLink);\n",
              "      }\n",
              "    </script>\n",
              "  </div>\n",
              "\n",
              "\n",
              "<div id=\"df-9f1b8fe2-488f-47dc-b5df-6dde7a44a753\">\n",
              "  <button class=\"colab-df-quickchart\" onclick=\"quickchart('df-9f1b8fe2-488f-47dc-b5df-6dde7a44a753')\"\n",
              "            title=\"Suggest charts\"\n",
              "            style=\"display:none;\">\n",
              "\n",
              "<svg xmlns=\"http://www.w3.org/2000/svg\" height=\"24px\"viewBox=\"0 0 24 24\"\n",
              "     width=\"24px\">\n",
              "    <g>\n",
              "        <path d=\"M19 3H5c-1.1 0-2 .9-2 2v14c0 1.1.9 2 2 2h14c1.1 0 2-.9 2-2V5c0-1.1-.9-2-2-2zM9 17H7v-7h2v7zm4 0h-2V7h2v10zm4 0h-2v-4h2v4z\"/>\n",
              "    </g>\n",
              "</svg>\n",
              "  </button>\n",
              "\n",
              "<style>\n",
              "  .colab-df-quickchart {\n",
              "      --bg-color: #E8F0FE;\n",
              "      --fill-color: #1967D2;\n",
              "      --hover-bg-color: #E2EBFA;\n",
              "      --hover-fill-color: #174EA6;\n",
              "      --disabled-fill-color: #AAA;\n",
              "      --disabled-bg-color: #DDD;\n",
              "  }\n",
              "\n",
              "  [theme=dark] .colab-df-quickchart {\n",
              "      --bg-color: #3B4455;\n",
              "      --fill-color: #D2E3FC;\n",
              "      --hover-bg-color: #434B5C;\n",
              "      --hover-fill-color: #FFFFFF;\n",
              "      --disabled-bg-color: #3B4455;\n",
              "      --disabled-fill-color: #666;\n",
              "  }\n",
              "\n",
              "  .colab-df-quickchart {\n",
              "    background-color: var(--bg-color);\n",
              "    border: none;\n",
              "    border-radius: 50%;\n",
              "    cursor: pointer;\n",
              "    display: none;\n",
              "    fill: var(--fill-color);\n",
              "    height: 32px;\n",
              "    padding: 0;\n",
              "    width: 32px;\n",
              "  }\n",
              "\n",
              "  .colab-df-quickchart:hover {\n",
              "    background-color: var(--hover-bg-color);\n",
              "    box-shadow: 0 1px 2px rgba(60, 64, 67, 0.3), 0 1px 3px 1px rgba(60, 64, 67, 0.15);\n",
              "    fill: var(--button-hover-fill-color);\n",
              "  }\n",
              "\n",
              "  .colab-df-quickchart-complete:disabled,\n",
              "  .colab-df-quickchart-complete:disabled:hover {\n",
              "    background-color: var(--disabled-bg-color);\n",
              "    fill: var(--disabled-fill-color);\n",
              "    box-shadow: none;\n",
              "  }\n",
              "\n",
              "  .colab-df-spinner {\n",
              "    border: 2px solid var(--fill-color);\n",
              "    border-color: transparent;\n",
              "    border-bottom-color: var(--fill-color);\n",
              "    animation:\n",
              "      spin 1s steps(1) infinite;\n",
              "  }\n",
              "\n",
              "  @keyframes spin {\n",
              "    0% {\n",
              "      border-color: transparent;\n",
              "      border-bottom-color: var(--fill-color);\n",
              "      border-left-color: var(--fill-color);\n",
              "    }\n",
              "    20% {\n",
              "      border-color: transparent;\n",
              "      border-left-color: var(--fill-color);\n",
              "      border-top-color: var(--fill-color);\n",
              "    }\n",
              "    30% {\n",
              "      border-color: transparent;\n",
              "      border-left-color: var(--fill-color);\n",
              "      border-top-color: var(--fill-color);\n",
              "      border-right-color: var(--fill-color);\n",
              "    }\n",
              "    40% {\n",
              "      border-color: transparent;\n",
              "      border-right-color: var(--fill-color);\n",
              "      border-top-color: var(--fill-color);\n",
              "    }\n",
              "    60% {\n",
              "      border-color: transparent;\n",
              "      border-right-color: var(--fill-color);\n",
              "    }\n",
              "    80% {\n",
              "      border-color: transparent;\n",
              "      border-right-color: var(--fill-color);\n",
              "      border-bottom-color: var(--fill-color);\n",
              "    }\n",
              "    90% {\n",
              "      border-color: transparent;\n",
              "      border-bottom-color: var(--fill-color);\n",
              "    }\n",
              "  }\n",
              "</style>\n",
              "\n",
              "  <script>\n",
              "    async function quickchart(key) {\n",
              "      const quickchartButtonEl =\n",
              "        document.querySelector('#' + key + ' button');\n",
              "      quickchartButtonEl.disabled = true;  // To prevent multiple clicks.\n",
              "      quickchartButtonEl.classList.add('colab-df-spinner');\n",
              "      try {\n",
              "        const charts = await google.colab.kernel.invokeFunction(\n",
              "            'suggestCharts', [key], {});\n",
              "      } catch (error) {\n",
              "        console.error('Error during call to suggestCharts:', error);\n",
              "      }\n",
              "      quickchartButtonEl.classList.remove('colab-df-spinner');\n",
              "      quickchartButtonEl.classList.add('colab-df-quickchart-complete');\n",
              "    }\n",
              "    (() => {\n",
              "      let quickchartButtonEl =\n",
              "        document.querySelector('#df-9f1b8fe2-488f-47dc-b5df-6dde7a44a753 button');\n",
              "      quickchartButtonEl.style.display =\n",
              "        google.colab.kernel.accessAllowed ? 'block' : 'none';\n",
              "    })();\n",
              "  </script>\n",
              "</div>\n",
              "    </div>\n",
              "  </div>\n"
            ],
            "application/vnd.google.colaboratory.intrinsic+json": {
              "type": "dataframe",
              "variable_name": "short_desc_df",
              "summary": "{\n  \"name\": \"short_desc_df\",\n  \"rows\": 181,\n  \"fields\": [\n    {\n      \"column\": \"movieId\",\n      \"properties\": {\n        \"dtype\": \"Int64\",\n        \"num_unique_values\": 181,\n        \"samples\": [\n          65665,\n          93201,\n          162956\n        ],\n        \"semantic_type\": \"\",\n        \"description\": \"\"\n      }\n    },\n    {\n      \"column\": \"belongs_to_collection\",\n      \"properties\": {\n        \"dtype\": \"number\",\n        \"std\": 0,\n        \"min\": 0,\n        \"max\": 1,\n        \"num_unique_values\": 2,\n        \"samples\": [\n          1,\n          0\n        ],\n        \"semantic_type\": \"\",\n        \"description\": \"\"\n      }\n    },\n    {\n      \"column\": \"original_language\",\n      \"properties\": {\n        \"dtype\": \"category\",\n        \"num_unique_values\": 15,\n        \"samples\": [\n          \"hi\",\n          \"da\"\n        ],\n        \"semantic_type\": \"\",\n        \"description\": \"\"\n      }\n    },\n    {\n      \"column\": \"overview\",\n      \"properties\": {\n        \"dtype\": \"category\",\n        \"num_unique_values\": 58,\n        \"samples\": [\n          \"No overview found.\",\n          \"...\"\n        ],\n        \"semantic_type\": \"\",\n        \"description\": \"\"\n      }\n    },\n    {\n      \"column\": \"release_date\",\n      \"properties\": {\n        \"dtype\": \"date\",\n        \"min\": \"1933-01-01 00:00:00\",\n        \"max\": \"2017-01-01 00:00:00\",\n        \"num_unique_values\": 173,\n        \"samples\": [\n          \"2003-07-03 00:00:00\",\n          \"1986-03-28 00:00:00\"\n        ],\n        \"semantic_type\": \"\",\n        \"description\": \"\"\n      }\n    },\n    {\n      \"column\": \"runtime\",\n      \"properties\": {\n        \"dtype\": \"number\",\n        \"std\": 21.05524610594595,\n        \"min\": 48.0,\n        \"max\": 180.0,\n        \"num_unique_values\": 64,\n        \"samples\": [\n          106.0,\n          50.0\n        ],\n        \"semantic_type\": \"\",\n        \"description\": \"\"\n      }\n    },\n    {\n      \"column\": \"title\",\n      \"properties\": {\n        \"dtype\": \"string\",\n        \"num_unique_values\": 181,\n        \"samples\": [\n          \"Hamlet\",\n          \"La Patinoire\"\n        ],\n        \"semantic_type\": \"\",\n        \"description\": \"\"\n      }\n    },\n    {\n      \"column\": \"actors\",\n      \"properties\": {\n        \"dtype\": \"object\",\n        \"semantic_type\": \"\",\n        \"description\": \"\"\n      }\n    },\n    {\n      \"column\": \"keywords_extracted\",\n      \"properties\": {\n        \"dtype\": \"object\",\n        \"semantic_type\": \"\",\n        \"description\": \"\"\n      }\n    },\n    {\n      \"column\": \"genre_extracted\",\n      \"properties\": {\n        \"dtype\": \"object\",\n        \"semantic_type\": \"\",\n        \"description\": \"\"\n      }\n    },\n    {\n      \"column\": \"production_company_extracted\",\n      \"properties\": {\n        \"dtype\": \"object\",\n        \"semantic_type\": \"\",\n        \"description\": \"\"\n      }\n    },\n    {\n      \"column\": \"production_country_extracted\",\n      \"properties\": {\n        \"dtype\": \"object\",\n        \"semantic_type\": \"\",\n        \"description\": \"\"\n      }\n    }\n  ]\n}"
            }
          },
          "metadata": {},
          "execution_count": 10
        }
      ]
    },
    {
      "cell_type": "markdown",
      "source": [
        "Identified entries: No overview found, blank, ..., Not Available, No Overview, x, no overview yet,"
      ],
      "metadata": {
        "id": "fkN1EhE4Dfjv"
      }
    },
    {
      "cell_type": "code",
      "source": [
        "# Create a list with unwanted movie descriptions\n",
        "unwanted_strings = ['No overview found.', '', '...', 'Not Available', 'No Overview', 'x', 'no overview yet', \"No overview\"]\n",
        "\n",
        "# Strip leading and trailing spaces and filter out rows with unwanted strings and ensure length is at least 10 characters\n",
        "df_merged['overview'] = df_merged['overview'].str.strip()\n",
        "df_merged = df_merged[~df_merged['overview'].isin(unwanted_strings) & (df_merged['overview'] != '') & (df_merged['overview'].str.len() >= 10)]\n",
        "\n",
        "# Check the updated DataFrame\n",
        "print(\"Total entries after cleaning:\", df_merged.shape[0])"
      ],
      "metadata": {
        "colab": {
          "base_uri": "https://localhost:8080/"
        },
        "id": "uXYcgle7ER7K",
        "outputId": "c41dc0c6-9af2-4564-bf69-d30f18984526"
      },
      "execution_count": null,
      "outputs": [
        {
          "output_type": "stream",
          "name": "stdout",
          "text": [
            "Total entries after cleaning: 40977\n"
          ]
        }
      ]
    },
    {
      "cell_type": "code",
      "source": [
        "# Find duplicates in the 'overview' column\n",
        "duplicates = df_merged['overview'].duplicated(keep=False)\n",
        "\n",
        "# Filter the DataFrame to show only the duplicated overviews\n",
        "duplicated_overviews = df_merged[duplicates]\n",
        "\n",
        "# Display the head of the duplicated overviews\n",
        "print(duplicated_overviews[['overview', \"release_date\"]].head(10))"
      ],
      "metadata": {
        "colab": {
          "base_uri": "https://localhost:8080/"
        },
        "id": "nuuGjxUuJ26P",
        "outputId": "fe401cf9-3454-45c6-9e3b-2b5a3214c952"
      },
      "execution_count": null,
      "outputs": [
        {
          "output_type": "stream",
          "name": "stdout",
          "text": [
            "                                                overview release_date\n",
            "2048   Wilbur the pig is scared of the end of the sea...   1973-03-01\n",
            "2397   With friends like these, who needs enemies? Th...   1999-02-05\n",
            "2741   Poor but happy, young Nello and his grandfathe...   1999-08-27\n",
            "2985   Director Michael Apted revisits the same group...   1998-07-28\n",
            "4705   Adventurer Allan Quartermain leads an expediti...   1937-01-01\n",
            "7080   Nick Carraway, a young Midwesterner now living...   1974-03-27\n",
            "8537   Adventurer Allan Quartermain leads an expediti...   1950-11-09\n",
            "9024   Director Michael Apted revisits the same group...   1991-08-29\n",
            "11539  Wilbur the pig is scared of the end of the sea...   2006-12-15\n",
            "14547  Miser Ebenezer Scrooge is awakened on Christma...   2009-11-04\n"
          ]
        }
      ]
    },
    {
      "cell_type": "markdown",
      "source": [
        "Duplicates are due to the fact that movies of the same series are featured in the dataset."
      ],
      "metadata": {
        "id": "mCwJUcLwK0L0"
      }
    },
    {
      "cell_type": "code",
      "source": [
        "# Create a vectorizer instance to count frequencies\n",
        "vectorizer = CountVectorizer(stop_words='english')\n",
        "X = vectorizer.fit_transform(df_merged['overview'].dropna())\n",
        "\n",
        "# Convert X to a DataFrame\n",
        "word_counts = pd.DataFrame(X.toarray(), columns=vectorizer.get_feature_names_out())\n",
        "common_words = word_counts.sum().sort_values(ascending=False).head(20)\n",
        "\n",
        "# Plotting\n",
        "plt.figure(figsize=(10, 6))\n",
        "common_words.plot(kind='bar')\n",
        "plt.title('Top 20 most common words in Movie Descriptions')\n",
        "plt.xlabel('Words')\n",
        "plt.ylabel('Frequency')\n",
        "plt.show()"
      ],
      "metadata": {
        "id": "TX1g0PRtYJRq",
        "colab": {
          "base_uri": "https://localhost:8080/",
          "height": 569
        },
        "outputId": "218cd2b1-a446-41c8-f315-0cb31c0e01e2"
      },
      "execution_count": null,
      "outputs": [
        {
          "output_type": "display_data",
          "data": {
            "text/plain": [
              "<Figure size 1000x600 with 1 Axes>"
            ],
            "image/png": "[encoded data removed]"
          },
          "metadata": {}
        }
      ]
    },
    {
      "cell_type": "code",
      "source": [
        "# Calculate text lengths\n",
        "text_lengths = df_merged['overview'].dropna().apply(len)\n",
        "\n",
        "# Plotting\n",
        "plt.figure(figsize=(10, 6))\n",
        "plt.hist(text_lengths, bins=30, color='blue', alpha=0.7)\n",
        "plt.title('Distribution of Text Lengths in Movie Descriptions')\n",
        "plt.xlabel('Length of descriptions')\n",
        "plt.ylabel('Number of movies')\n",
        "plt.show()"
      ],
      "metadata": {
        "id": "V6LiAwhOYYNr",
        "colab": {
          "base_uri": "https://localhost:8080/",
          "height": 534
        },
        "outputId": "315be656-c5f5-420e-98e8-c09be727a480"
      },
      "execution_count": null,
      "outputs": [
        {
          "output_type": "display_data",
          "data": {
            "text/plain": [
              "<Figure size 1000x600 with 1 Axes>"
            ],
            "image/png": "[encoded data removed]"
          },
          "metadata": {}
        }
      ]
    },
    {
      "cell_type": "markdown",
      "source": [
        "Interpretation\n",
        "- From the graph, it's evident that the distribution is right-skewed, with a majority of descriptions being between roughly 100 and 400 characters long. There are fewer very short descriptions (near 0 characters) and the number of descriptions decreases steadily as the length increases, with very few descriptions reaching up to 1000 characters.\n",
        "- Peak Around 200-300 Characters: Most descriptions are concise, providing brief information about the movie, which is typical for summaries intended to give a quick overview without going into detail.\n",
        "- Few Long Descriptions: The sharp decline in frequency as description length increases suggests that longer descriptions are uncommon. These might be detailed synopses rather than simple overviews.\n",
        "- Very Short Descriptions: The relatively low number of extremely short descriptions (near 0 characters) is good as these might not provide useful information."
      ],
      "metadata": {
        "id": "21nbzIsoO0iB"
      }
    },
    {
      "cell_type": "markdown",
      "source": [
        "Considerations for NLP Recommender System based on Similarity Score\n",
        "\n",
        "- The prevalence of shorter texts facilitates standardized embedding processes, reducing the complexity of handling variable text lengths. Descriptions within the 200-300 character range provide enough detail for effective similarity analysis, allowing accurate recommendations based on narrative elements.\n",
        "- Vector Representation of Texts:\n",
        "Texts need to be converted into numerical representations (e.g., TF-IDF, word embeddings) for similarity comparison. The effectiveness of these representations can vary with text length.\n",
        "Short descriptions may not provide enough context for accurate similarity scoring, while very long descriptions might introduce too much noise or irrelevant information.\n",
        "- Later, we will perform padding because standardizing text length can make computational processes more efficient and comparisons more uniform.\n",
        "- We'll continuously refine our handling of text lengths based on system performance to balance detail richness with computational demands."
      ],
      "metadata": {
        "id": "jg8TshUKPxJY"
      }
    },
    {
      "cell_type": "code",
      "source": [
        "# Bi-grams\n",
        "bigram_vectorizer = CountVectorizer(ngram_range=(2, 2), stop_words='english')\n",
        "bigram_matrix = bigram_vectorizer.fit_transform(df_merged['overview'].dropna())\n",
        "\n",
        "# Sum up the counts of each bi-gram and sort\n",
        "bigrams = pd.DataFrame(bigram_matrix.toarray(), columns=bigram_vectorizer.get_feature_names_out())\n",
        "common_bigrams = bigrams.sum().sort_values(ascending=False).head(20)\n",
        "\n",
        "# Plotting\n",
        "plt.figure(figsize=(10, 6))\n",
        "common_bigrams.plot(kind='bar')\n",
        "plt.title('Top 20 most common bi-grams in Movie Descriptions')\n",
        "plt.xlabel('Bi-grams')\n",
        "plt.ylabel('Frequency')\n",
        "plt.show()"
      ],
      "metadata": {
        "id": "nISg_RMcYYsM",
        "colab": {
          "base_uri": "https://localhost:8080/",
          "height": 614
        },
        "outputId": "70f6d9ca-2801-40f0-e4cb-acd5b8141842"
      },
      "execution_count": null,
      "outputs": [
        {
          "output_type": "display_data",
          "data": {
            "text/plain": [
              "<Figure size 1000x600 with 1 Axes>"
            ],
            "image/png": "[encoded data removed]"
          },
          "metadata": {}
        }
      ]
    },
    {
      "cell_type": "code",
      "source": [
        "# Potentially checking for and removing noise like HTML tags, excessive symbols, etc.\n",
        "def clean_text(text):\n",
        "    text = re.sub(r'<.*?>', '', text)  # Remove HTML tags\n",
        "    return text\n",
        "\n",
        "# Apply cleaning function\n",
        "cleaned_overviews = df_merged['overview'].apply(clean_text)"
      ],
      "metadata": {
        "id": "d7-sdxyQYuox"
      },
      "execution_count": null,
      "outputs": []
    },
    {
      "cell_type": "code",
      "source": [
        "df_merged.info()"
      ],
      "metadata": {
        "colab": {
          "base_uri": "https://localhost:8080/"
        },
        "id": "4J-SbQkdTQ5n",
        "outputId": "1e9db9b2-0ff7-4253-b9dc-4fe044f52288"
      },
      "execution_count": null,
      "outputs": [
        {
          "output_type": "stream",
          "name": "stdout",
          "text": [
            "<class 'pandas.core.frame.DataFrame'>\n",
            "Index: 40977 entries, 0 to 46755\n",
            "Data columns (total 14 columns):\n",
            " #   Column                        Non-Null Count  Dtype         \n",
            "---  ------                        --------------  -----         \n",
            " 0   movieId                       40977 non-null  Int64         \n",
            " 1   belongs_to_collection         40977 non-null  int64         \n",
            " 2   original_language             40977 non-null  object        \n",
            " 3   overview                      40977 non-null  object        \n",
            " 4   release_date                  40977 non-null  datetime64[ns]\n",
            " 5   runtime                       40977 non-null  float64       \n",
            " 6   title                         40977 non-null  object        \n",
            " 7   actors                        40977 non-null  object        \n",
            " 8   keywords_extracted            40977 non-null  object        \n",
            " 9   genre_extracted               40977 non-null  object        \n",
            " 10  production_company_extracted  40977 non-null  object        \n",
            " 11  production_country_extracted  40977 non-null  object        \n",
            " 12  lemmatized_overview           40977 non-null  object        \n",
            " 13  expanded_lemmatized_overview  40977 non-null  object        \n",
            "dtypes: Int64(1), datetime64[ns](1), float64(1), int64(1), object(10)\n",
            "memory usage: 4.7+ MB\n"
          ]
        }
      ]
    },
    {
      "cell_type": "markdown",
      "source": [
        "Download a set of English stopwords from the NLTK library, then define the clean_text function to standardize the movie descriptions by converting all text to lowercase, removing HTML tags, special characters, and filtering out stopwords. Finally apply this function to the 'overview' column of my df_merged DataFrame to prepare the data for further analysis."
      ],
      "metadata": {
        "id": "831qjiovZLnz"
      }
    },
    {
      "cell_type": "code",
      "source": [
        "# Download the set of stopwords from NLTK\n",
        "nltk.download('stopwords')"
      ],
      "metadata": {
        "id": "7qlY8SemZNQs",
        "colab": {
          "base_uri": "https://localhost:8080/"
        },
        "outputId": "5f4add34-80b8-4d60-90d2-4e390644bba7"
      },
      "execution_count": null,
      "outputs": [
        {
          "output_type": "stream",
          "name": "stderr",
          "text": [
            "[nltk_data] Downloading package stopwords to /root/nltk_data...\n",
            "[nltk_data]   Unzipping corpora/stopwords.zip.\n"
          ]
        },
        {
          "output_type": "execute_result",
          "data": {
            "text/plain": [
              "True"
            ]
          },
          "metadata": {},
          "execution_count": 18
        }
      ]
    },
    {
      "cell_type": "code",
      "source": [
        "def clean_text(text):\n",
        "    if not pd.isna(text):\n",
        "        # Convert text to lowercase\n",
        "        text = text.lower()\n",
        "\n",
        "        # Remove HTML tags\n",
        "        text = re.sub(r'<.*?>', '', text)\n",
        "\n",
        "        # Remove special characters\n",
        "        text = re.sub(r'[^a-zA-Z\\s]', '', text, re.I|re.A)\n",
        "\n",
        "        # Remove stopwords\n",
        "        stop_words = set(stopwords.words('english'))\n",
        "        text = ' '.join([word for word in text.split() if word not in stop_words])\n",
        "\n",
        "    return text"
      ],
      "metadata": {
        "id": "NKjCFgUPZSh9"
      },
      "execution_count": null,
      "outputs": []
    },
    {
      "cell_type": "code",
      "source": [
        "# Apply the cleaning function to the 'overview' column\n",
        "df_merged['overview'] = df_merged['overview'].apply(clean_text)"
      ],
      "metadata": {
        "id": "xf5zGwYGZV6U"
      },
      "execution_count": null,
      "outputs": []
    },
    {
      "cell_type": "markdown",
      "source": [
        "##Inspect the column"
      ],
      "metadata": {
        "id": "vKGA3r4pdjRh"
      }
    },
    {
      "cell_type": "code",
      "source": [
        "pd.set_option('display.max_colwidth', None)\n",
        "df_merged[\"overview\"].head(10)"
      ],
      "metadata": {
        "id": "9QIgZil4cZ8t",
        "colab": {
          "base_uri": "https://localhost:8080/"
        },
        "outputId": "07836f82-b990-4cb5-88c1-9a073a9b1a4b"
      },
      "execution_count": null,
      "outputs": [
        {
          "output_type": "execute_result",
          "data": {
            "text/plain": [
              "0                                                                                                                                         led woody andys toys live happily room andys birthday brings buzz lightyear onto scene afraid losing place andys heart woody plots buzz circumstances separate buzz woody owner duo eventually learns put aside differences\n",
              "1                                                                                             siblings judy peter discover enchanted board game opens door magical world unwittingly invite alan adult whos trapped inside game years living room alans hope freedom finish game proves risky three find running giant rhinoceroses evil monkeys terrifying creatures\n",
              "2                                                                                                                   family wedding reignites ancient feud nextdoor neighbors fishing buddies john max meanwhile sultry italian divorce opens restaurant local bait shop alarming locals worry shell scare fish away shes less interested seafood cooking hot time max\n",
              "3                                                                                                                                                                     cheated mistreated stepped women holding breath waiting elusive good man break string lessthanstellar lovers friends confidants vannah bernie glo robin talk determined find better way breathe\n",
              "4                                                                                                                                                                                         george banks recovered daughters wedding receives news shes pregnant georges wife nina expecting planning selling home thats plan like george change arrival grandchild kid\n",
              "5                                                                                                 obsessive master thief neil mccauley leads topnotch crew various insane heists throughout los angeles mentally unstable detective vincent hanna pursues without rest man recognizes respects ability dedication even though aware catandmouse game may end violence\n",
              "6                                                                                                                                                                                                                                       ugly duckling undergone remarkable change still harbors feelings crush carefree playboy businessfocused brother something say\n",
              "7                                                                                                        mischievous young boy tom sawyer witnesses murder deadly injun joe tom becomes friends huckleberry finn boy future family tom choose honoring friendship honoring oath town alcoholic accused murder tom huck go several adventures trying retrieve evidence\n",
              "8    international action superstar jean claude van damme teams powers boothe tensionpacked suspense thriller set backdrop stanley cup gamevan damme portrays father whose daughter suddenly taken championship hockey game captors demanding billion dollars games end van damme frantically sets plan motion rescue daughter abort impending explosion final buzzer\n",
              "9                                                                                                                                                                                                                        james bond must unmask mysterious head janus syndicate prevent leader utilizing goldeneye weapons system inflict devastating revenge britain\n",
              "Name: overview, dtype: object"
            ]
          },
          "metadata": {},
          "execution_count": 21
        }
      ]
    },
    {
      "cell_type": "code",
      "source": [
        "# Inspect any row of the overview column\n",
        "print(df_merged['overview'].iloc[[10, 50, 100]])"
      ],
      "metadata": {
        "id": "xl45NtP4dsJH",
        "colab": {
          "base_uri": "https://localhost:8080/"
        },
        "outputId": "633b1e30-30aa-4ff9-a0fc-3a25d20f72d4"
      },
      "execution_count": null,
      "outputs": [
        {
          "output_type": "stream",
          "name": "stdout",
          "text": [
            "10                                                                                                                                                                                   widowed us president andrew shepherd one worlds powerful men anything wants covets sydney ellen wade washington lobbyist shepherds attempts courting spark wild rumors decimate approval ratings\n",
            "51                                                                                       lenny wife amanda adopt baby lenny realizes son genius becomes obsessed finding boys biological mother hopes brilliant learns maxs mother linda ash kindhearted prostitute porn star lenny determined reform immoral lifestyle greek chorus chimes relate plot greek mythology quirky comedy\n",
            "101    ray liotta stars medical examiner acquitted wifes murder many still question innocence obsessed finding wifes killer possible solution presents experimental serum designed neurobiology linda fiorentino ability transfer memories one person another without consequences liotta driven solve case injects serum bringing closer closer finding killer bringing closer death\n",
            "Name: overview, dtype: object\n"
          ]
        }
      ]
    },
    {
      "cell_type": "markdown",
      "source": [
        "##Stemming/Lemmatization"
      ],
      "metadata": {
        "id": "zmGQbnu4V5jt"
      }
    },
    {
      "cell_type": "markdown",
      "source": [
        "Apply SpaCy to convert a word to its base form according to its part of speech and meaning (e.g., “better” to “good”). It is more sophisticated than stemming and uses lexical knowledge bases to derive the correct base forms."
      ],
      "metadata": {
        "id": "rLaLttgjWRUF"
      }
    },
    {
      "cell_type": "code",
      "source": [
        "# Load the SpaCy English language model\n",
        "nlp = spacy.load(\"en_core_web_sm\")\n",
        "\n",
        "# Lemmatization function using SpaCy\n",
        "def lemmatize_text(text):\n",
        "    if pd.isna(text):\n",
        "        return text\n",
        "    else:\n",
        "        doc = nlp(text)\n",
        "        lemmatized_tokens = [token.lemma_ for token in doc]\n",
        "        return ' '.join(lemmatized_tokens)\n",
        "\n",
        "# Apply lemmatization to the 'overview' column\n",
        "df_merged['lemmatized_overview'] = df_merged['overview'].apply(lemmatize_text)\n",
        "\n",
        "# Display the DataFrame with the lemmatized text\n",
        "print(df_merged[['overview', 'lemmatized_overview']].head())"
      ],
      "metadata": {
        "colab": {
          "base_uri": "https://localhost:8080/"
        },
        "id": "e26RKGnJqgnF",
        "outputId": "21c84818-b80f-40f9-b49f-403a4c209ea6"
      },
      "execution_count": null,
      "outputs": [
        {
          "output_type": "stream",
          "name": "stdout",
          "text": [
            "                                                                                                                                                                                                                                                                  overview  \\\n",
            "0                                              led woody andys toys live happily room andys birthday brings buzz lightyear onto scene afraid losing place andys heart woody plots buzz circumstances separate buzz woody owner duo eventually learns put aside differences   \n",
            "1  siblings judy peter discover enchanted board game opens door magical world unwittingly invite alan adult whos trapped inside game years living room alans hope freedom finish game proves risky three find running giant rhinoceroses evil monkeys terrifying creatures   \n",
            "2                        family wedding reignites ancient feud nextdoor neighbors fishing buddies john max meanwhile sultry italian divorce opens restaurant local bait shop alarming locals worry shell scare fish away shes less interested seafood cooking hot time max   \n",
            "3                                                                          cheated mistreated stepped women holding breath waiting elusive good man break string lessthanstellar lovers friends confidants vannah bernie glo robin talk determined find better way breathe   \n",
            "4                                                                                              george banks recovered daughters wedding receives news shes pregnant georges wife nina expecting planning selling home thats plan like george change arrival grandchild kid   \n",
            "\n",
            "                                                                                                                                                                                                                                    lemmatized_overview  \n",
            "0                                  lead woody andys toy live happily room andys birthday bring buzz lightyear onto scene afraid lose place andys heart woody plot buzz circumstance separate buzz woody owner duo eventually learn put aside difference  \n",
            "1  sibling judy peter discover enchant board game open door magical world unwittingly invite alan adult who s trap inside game year living room alan hope freedom finish game prove risky three find run giant rhinocerose evil monkey terrify creature  \n",
            "2             family wedding reignite ancient feud nextdoor neighbor fishing buddy john max meanwhile sultry italian divorce open restaurant local bait shop alarming local worry shell scare fish away she s less interested seafood cook hot time max  \n",
            "3                                                                         cheat mistreat step woman hold breath wait elusive good man break string lessthanstellar lover friend confidant vannah bernie glo robin talk determined find well way breathe  \n",
            "4                                                                                    george bank recover daughter wedding receive news she s pregnant georges wife nina expect planning sell home that s plan like george change arrival grandchild kid  \n"
          ]
        }
      ]
    },
    {
      "cell_type": "markdown",
      "source": [
        "##Expanding Contractions"
      ],
      "metadata": {
        "id": "zZjci8fPWWpD"
      }
    },
    {
      "cell_type": "markdown",
      "source": [
        "Words like “can’t,” “won’t,” and “you’re” should be expanded to “cannot,” “will not,” and “you are.” This helps in maintaining consistency in the text and can improve the performance of the model by reducing ambiguity."
      ],
      "metadata": {
        "id": "uEX_UgNtWb8p"
      }
    },
    {
      "cell_type": "code",
      "source": [
        "# Function to expand contractions using the contractions library\n",
        "def expand_contractions_in_lemmatized(text):\n",
        "    return contractions.fix(text)\n",
        "\n",
        "# Apply expansion of contractions to the lemmatized 'overview' column\n",
        "df_merged['expanded_lemmatized_overview'] = df_merged['lemmatized_overview'].apply(expand_contractions_in_lemmatized)\n",
        "\n",
        "# Display the DataFrame with the original, lemmatized, and expanded lemmatized text\n",
        "print(df_merged[['overview', 'lemmatized_overview', 'expanded_lemmatized_overview']].head())"
      ],
      "metadata": {
        "colab": {
          "base_uri": "https://localhost:8080/"
        },
        "id": "8-X0bAS0LxEF",
        "outputId": "3d6994a8-9cf6-4a58-ae27-8d39bb457266"
      },
      "execution_count": null,
      "outputs": [
        {
          "output_type": "stream",
          "name": "stdout",
          "text": [
            "                                                                                                                                                                                                                                                                  overview  \\\n",
            "0                                              led woody andys toys live happily room andys birthday brings buzz lightyear onto scene afraid losing place andys heart woody plots buzz circumstances separate buzz woody owner duo eventually learns put aside differences   \n",
            "1  siblings judy peter discover enchanted board game opens door magical world unwittingly invite alan adult whos trapped inside game years living room alans hope freedom finish game proves risky three find running giant rhinoceroses evil monkeys terrifying creatures   \n",
            "2                        family wedding reignites ancient feud nextdoor neighbors fishing buddies john max meanwhile sultry italian divorce opens restaurant local bait shop alarming locals worry shell scare fish away shes less interested seafood cooking hot time max   \n",
            "3                                                                          cheated mistreated stepped women holding breath waiting elusive good man break string lessthanstellar lovers friends confidants vannah bernie glo robin talk determined find better way breathe   \n",
            "4                                                                                              george banks recovered daughters wedding receives news shes pregnant georges wife nina expecting planning selling home thats plan like george change arrival grandchild kid   \n",
            "\n",
            "                                                                                                                                                                                                                                    lemmatized_overview  \\\n",
            "0                                  lead woody andys toy live happily room andys birthday bring buzz lightyear onto scene afraid lose place andys heart woody plot buzz circumstance separate buzz woody owner duo eventually learn put aside difference   \n",
            "1  sibling judy peter discover enchant board game open door magical world unwittingly invite alan adult who s trap inside game year living room alan hope freedom finish game prove risky three find run giant rhinocerose evil monkey terrify creature   \n",
            "2             family wedding reignite ancient feud nextdoor neighbor fishing buddy john max meanwhile sultry italian divorce open restaurant local bait shop alarming local worry shell scare fish away she s less interested seafood cook hot time max   \n",
            "3                                                                         cheat mistreat step woman hold breath wait elusive good man break string lessthanstellar lover friend confidant vannah bernie glo robin talk determined find well way breathe   \n",
            "4                                                                                    george bank recover daughter wedding receive news she s pregnant georges wife nina expect planning sell home that s plan like george change arrival grandchild kid   \n",
            "\n",
            "                                                                                                                                                                                                                           expanded_lemmatized_overview  \n",
            "0                                  lead woody andys toy live happily room andys birthday bring buzz lightyear onto scene afraid lose place andys heart woody plot buzz circumstance separate buzz woody owner duo eventually learn put aside difference  \n",
            "1  sibling judy peter discover enchant board game open door magical world unwittingly invite alan adult who s trap inside game year living room alan hope freedom finish game prove risky three find run giant rhinocerose evil monkey terrify creature  \n",
            "2          family wedding reignite ancient feud nextdoor neighbor fishing buddy john max meanwhile sultry italian divorce open restaurant local bait shop alarming local worry she will scare fish away she s less interested seafood cook hot time max  \n",
            "3                                                                         cheat mistreat step woman hold breath wait elusive good man break string lessthanstellar lover friend confidant vannah bernie glo robin talk determined find well way breathe  \n",
            "4                                                                                    george bank recover daughter wedding receive news she s pregnant georges wife nina expect planning sell home that s plan like george change arrival grandchild kid  \n"
          ]
        }
      ]
    },
    {
      "cell_type": "code",
      "source": [
        "# Function to highlight differences across columns\n",
        "def highlight_diffs(row):\n",
        "    base = row.iloc[0]  # Taking the first column as the base for comparison\n",
        "    colors = ['background-color: yellow' if str(v) != str(base) else '' for v in row]\n",
        "    return colors\n",
        "\n",
        "# Selecting columns for comparison\n",
        "comparison_df = df_merged[['overview', 'lemmatized_overview', 'expanded_lemmatized_overview']]\n",
        "\n",
        "# Applying the function to highlight differences\n",
        "styled_comparison = comparison_df.head().style.apply(highlight_diffs, axis=1)\n",
        "styled_comparison"
      ],
      "metadata": {
        "colab": {
          "base_uri": "https://localhost:8080/",
          "height": 813
        },
        "id": "vBzzb5U7NkJQ",
        "outputId": "676ce102-94f5-4487-e4c0-2bb42922fd61"
      },
      "execution_count": null,
      "outputs": [
        {
          "output_type": "execute_result",
          "data": {
            "text/plain": [
              "<pandas.io.formats.style.Styler at 0x77f54b1e6080>"
            ],
            "text/html": [
              "<style type=\"text/css\">\n",
              "#T_2bf52_row0_col1, #T_2bf52_row0_col2, #T_2bf52_row1_col1, #T_2bf52_row1_col2, #T_2bf52_row2_col1, #T_2bf52_row2_col2, #T_2bf52_row3_col1, #T_2bf52_row3_col2, #T_2bf52_row4_col1, #T_2bf52_row4_col2 {\n",
              "  background-color: yellow;\n",
              "}\n",
              "</style>\n",
              "<table id=\"T_2bf52\" class=\"dataframe\">\n",
              "  <thead>\n",
              "    <tr>\n",
              "      <th class=\"blank level0\" >&nbsp;</th>\n",
              "      <th id=\"T_2bf52_level0_col0\" class=\"col_heading level0 col0\" >overview</th>\n",
              "      <th id=\"T_2bf52_level0_col1\" class=\"col_heading level0 col1\" >lemmatized_overview</th>\n",
              "      <th id=\"T_2bf52_level0_col2\" class=\"col_heading level0 col2\" >expanded_lemmatized_overview</th>\n",
              "    </tr>\n",
              "  </thead>\n",
              "  <tbody>\n",
              "    <tr>\n",
              "      <th id=\"T_2bf52_level0_row0\" class=\"row_heading level0 row0\" >0</th>\n",
              "      <td id=\"T_2bf52_row0_col0\" class=\"data row0 col0\" >led woody andys toys live happily room andys birthday brings buzz lightyear onto scene afraid losing place andys heart woody plots buzz circumstances separate buzz woody owner duo eventually learns put aside differences</td>\n",
              "      <td id=\"T_2bf52_row0_col1\" class=\"data row0 col1\" >lead woody andys toy live happily room andys birthday bring buzz lightyear onto scene afraid lose place andys heart woody plot buzz circumstance separate buzz woody owner duo eventually learn put aside difference</td>\n",
              "      <td id=\"T_2bf52_row0_col2\" class=\"data row0 col2\" >lead woody andys toy live happily room andys birthday bring buzz lightyear onto scene afraid lose place andys heart woody plot buzz circumstance separate buzz woody owner duo eventually learn put aside difference</td>\n",
              "    </tr>\n",
              "    <tr>\n",
              "      <th id=\"T_2bf52_level0_row1\" class=\"row_heading level0 row1\" >1</th>\n",
              "      <td id=\"T_2bf52_row1_col0\" class=\"data row1 col0\" >siblings judy peter discover enchanted board game opens door magical world unwittingly invite alan adult whos trapped inside game years living room alans hope freedom finish game proves risky three find running giant rhinoceroses evil monkeys terrifying creatures</td>\n",
              "      <td id=\"T_2bf52_row1_col1\" class=\"data row1 col1\" >sibling judy peter discover enchant board game open door magical world unwittingly invite alan adult who s trap inside game year living room alan hope freedom finish game prove risky three find run giant rhinocerose evil monkey terrify creature</td>\n",
              "      <td id=\"T_2bf52_row1_col2\" class=\"data row1 col2\" >sibling judy peter discover enchant board game open door magical world unwittingly invite alan adult who trap inside game year living room alan hope freedom finish game prove risky three find run giant rhinocerose evil monkey terrify creature</td>\n",
              "    </tr>\n",
              "    <tr>\n",
              "      <th id=\"T_2bf52_level0_row2\" class=\"row_heading level0 row2\" >2</th>\n",
              "      <td id=\"T_2bf52_row2_col0\" class=\"data row2 col0\" >family wedding reignites ancient feud nextdoor neighbors fishing buddies john max meanwhile sultry italian divorce opens restaurant local bait shop alarming locals worry shell scare fish away shes less interested seafood cooking hot time max</td>\n",
              "      <td id=\"T_2bf52_row2_col1\" class=\"data row2 col1\" >family wedding reignite ancient feud nextdoor neighbor fishing buddy john max meanwhile sultry italian divorce open restaurant local bait shop alarming local worry shell scare fish away she s less interested seafood cook hot time max</td>\n",
              "      <td id=\"T_2bf52_row2_col2\" class=\"data row2 col2\" >family wedding reignite ancient feud nextdoor neighbor fishing buddy john max meanwhile sultry italian divorce open restaurant local bait shop alarming local worry she will scare fish away she less interested seafood cook hot time max</td>\n",
              "    </tr>\n",
              "    <tr>\n",
              "      <th id=\"T_2bf52_level0_row3\" class=\"row_heading level0 row3\" >3</th>\n",
              "      <td id=\"T_2bf52_row3_col0\" class=\"data row3 col0\" >cheated mistreated stepped women holding breath waiting elusive good man break string lessthanstellar lovers friends confidants vannah bernie glo robin talk determined find better way breathe</td>\n",
              "      <td id=\"T_2bf52_row3_col1\" class=\"data row3 col1\" >cheat mistreat step woman hold breath wait elusive good man break string lessthanstellar lover friend confidant vannah bernie glo robin talk determined find well way breathe</td>\n",
              "      <td id=\"T_2bf52_row3_col2\" class=\"data row3 col2\" >cheat mistreat step woman hold breath wait elusive good man break string lessthanstellar lover friend confidant vannah bernie glo robin talk determined find well way breathe</td>\n",
              "    </tr>\n",
              "    <tr>\n",
              "      <th id=\"T_2bf52_level0_row4\" class=\"row_heading level0 row4\" >4</th>\n",
              "      <td id=\"T_2bf52_row4_col0\" class=\"data row4 col0\" >george banks recovered daughters wedding receives news shes pregnant georges wife nina expecting planning selling home thats plan like george change arrival grandchild kid</td>\n",
              "      <td id=\"T_2bf52_row4_col1\" class=\"data row4 col1\" >george bank recover daughter wedding receive news she s pregnant georges wife nina expect planning sell home that s plan like george change arrival grandchild kid</td>\n",
              "      <td id=\"T_2bf52_row4_col2\" class=\"data row4 col2\" >george bank recover daughter wedding receive news she pregnant georges wife nina expect planning sell home that plan like george change arrival grandchild kid</td>\n",
              "    </tr>\n",
              "  </tbody>\n",
              "</table>\n"
            ]
          },
          "metadata": {},
          "execution_count": 43
        }
      ]
    },
    {
      "cell_type": "markdown",
      "source": [
        "\n",
        "We can observe an issue where certain contractions such as \"she's\" and \"that's\" have been reduced to single letters (\"s\") after the lemmatization and contraction expansion processes. This often occurs due to how contraction expansion and lemmatization handle possessive forms and contracted forms, where the lemmatizer might not correctly interpret these forms if they are processed in certain sequences."
      ],
      "metadata": {
        "id": "4Cen_gahQTh9"
      }
    },
    {
      "cell_type": "code",
      "source": [
        "# Function to clean text by removing unwanted characters or patterns\n",
        "def clean_text(text):\n",
        "    # Regex to remove isolated single letters (except 'a' and 'I' which can be valid words)\n",
        "    cleaned_text = re.sub(r'\\b(?<!\\')[a-hj-z]\\b', '', text)\n",
        "    # Removing extra spaces that may be created after removing characters\n",
        "    cleaned_text = re.sub(r'\\s+', ' ', cleaned_text).strip()\n",
        "    return cleaned_text\n",
        "\n",
        "# Apply cleaning function to the 'expanded_lemmatized_overview' column\n",
        "df_merged['expanded_lemmatized_overview'] = df_merged['expanded_lemmatized_overview'].apply(clean_text)"
      ],
      "metadata": {
        "id": "wGQKViO4RFlg"
      },
      "execution_count": null,
      "outputs": []
    },
    {
      "cell_type": "markdown",
      "source": [
        "##Removing Repeated Characters and Numbers"
      ],
      "metadata": {
        "id": "tUw1hRmMWs-b"
      }
    },
    {
      "cell_type": "markdown",
      "source": [
        "Often in informal texts (like tweets or comments), you might find repeated characters for emphasis (e.g., “sooo good”) or numbers. Reducing character repetition to two or three can standardize words while retaining their emphasized form, making them easier to analyze."
      ],
      "metadata": {
        "id": "ZYJr61DRWvaF"
      }
    },
    {
      "cell_type": "code",
      "source": [
        "# Function to clean text by removing unwanted characters, reducing repeated characters, and removing numbers\n",
        "def clean_text(text):\n",
        "    # Regex to remove isolated single letters (except 'a' and 'I' which can be valid words)\n",
        "    text = re.sub(r'\\b(?<!\\')[a-hj-z]\\b', '', text)\n",
        "    # Reduce repeated characters (more than three times) to two repetitions\n",
        "    text = re.sub(r'(.)\\1{2,}', r'\\1\\1', text)\n",
        "    # Remove numbers\n",
        "    text = re.sub(r'\\b\\d+\\b', '', text)\n",
        "    # Removing extra spaces that may be created after removing characters and numbers\n",
        "    text = re.sub(r'\\s+', ' ', text).strip()\n",
        "    return text\n",
        "\n",
        "# Apply cleaning function directly to the 'expanded_lemmatized_overview' column\n",
        "df_merged['expanded_lemmatized_overview'] = df_merged['expanded_lemmatized_overview'].apply(clean_text)"
      ],
      "metadata": {
        "id": "wBZmwWvBRoEn"
      },
      "execution_count": null,
      "outputs": []
    },
    {
      "cell_type": "markdown",
      "source": [
        "##Pruning"
      ],
      "metadata": {
        "id": "w5G_zz8HTUws"
      }
    },
    {
      "cell_type": "markdown",
      "source": [
        "Removing less informative parts of a sentence, such as certain adverbs, interjections, or conjunctions, can help focus the model on the more substantive parts of the text."
      ],
      "metadata": {
        "id": "k1AvxJZ8TkBk"
      }
    },
    {
      "cell_type": "code",
      "source": [
        "# Function to prune less informative parts of a sentence\n",
        "def syntax_based_pruning(text):\n",
        "    doc = nlp(text)\n",
        "    # List of POS tags to remove, e.g., 'RB' for adverbs, 'UH' for interjections, 'CC' for conjunctions\n",
        "    tags_to_remove = {'RB', 'UH', 'CC'}\n",
        "    # Rebuild the sentence without the less informative words\n",
        "    pruned_text = ' '.join([token.text for token in doc if token.pos_ not in tags_to_remove])\n",
        "    return pruned_text\n",
        "\n",
        "# Apply syntax-based pruning to the 'expanded_lemmatized_overview' column\n",
        "df_merged['expanded_lemmatized_overview'] = df_merged['expanded_lemmatized_overview'].apply(syntax_based_pruning)"
      ],
      "metadata": {
        "colab": {
          "base_uri": "https://localhost:8080/"
        },
        "id": "4gYhlZHXTX0N",
        "outputId": "87103876-e77b-4dc5-ef2f-0666ca7cf361"
      },
      "execution_count": null,
      "outputs": [
        {
          "output_type": "stream",
          "name": "stdout",
          "text": [
            "                                                                                                                                                                                                                         expanded_lemmatized_overview\n",
            "0                                lead woody andys toy live happily room andys birthday bring buzz lightyear onto scene afraid lose place andys heart woody plot buzz circumstance separate buzz woody owner duo eventually learn put aside difference\n",
            "1  sibling judy peter discover enchant board game open door magical world unwittingly invite alan adult who trap inside game year living room alan hope freedom finish game prove risky three find run giant rhinocerose evil monkey terrify creature\n",
            "2          family wedding reignite ancient feud nextdoor neighbor fishing buddy john max meanwhile sultry italian divorce open restaurant local bait shop alarming local worry she will scare fish away she less interested seafood cook hot time max\n",
            "3                                                                       cheat mistreat step woman hold breath wait elusive good man break string lessthanstellar lover friend confidant vannah bernie glo robin talk determined find well way breathe\n",
            "4                                                                                      george bank recover daughter wedding receive news she pregnant georges wife nina expect planning sell home that plan like george change arrival grandchild kid\n"
          ]
        }
      ]
    },
    {
      "cell_type": "markdown",
      "source": [
        "##Tokenization"
      ],
      "metadata": {
        "id": "e1cGgS10ekLl"
      }
    },
    {
      "cell_type": "markdown",
      "source": [
        "Convert text data into tokens. Keras offers utilities like Tokenizer which can convert text to sequences that are more manageable for neural networks. The Tokenizer class allows to vectorize a text corpus by turning each text into a sequence of integers. Num_words=10000 limits the tokenizer to the top 10,000 words (the most frequent words in the data). The oov_token=\"\" is used for out-of-vocabulary words during text-to-sequence conversion."
      ],
      "metadata": {
        "id": "K0iEMEpSepGC"
      }
    },
    {
      "cell_type": "code",
      "source": [
        "# Initialize the Tokenizer\n",
        "tokenizer = Tokenizer(num_words=10000, oov_token=\"<OOV>\")\n",
        "tokenizer.fit_on_texts(df_merged['expanded_lemmatized_overview'].dropna())\n",
        "\n",
        "# Each word gets a unique integer value\n",
        "word_index = tokenizer.word_index\n",
        "print(f\"Found {len(word_index)} unique tokens.\")"
      ],
      "metadata": {
        "id": "1ZJ7WhWNtfmi",
        "colab": {
          "base_uri": "https://localhost:8080/"
        },
        "outputId": "6c285ab3-22b8-44b4-d49d-0bcbe727476e"
      },
      "execution_count": null,
      "outputs": [
        {
          "output_type": "stream",
          "name": "stdout",
          "text": [
            "Found 74343 unique tokens.\n"
          ]
        }
      ]
    },
    {
      "cell_type": "markdown",
      "source": [
        "- num_words: Restricts the tokenizer to the top num_words frequent words, controlling sequence size and vocabulary. Despite this limit, word_index includes all unique words. By setting num_words=10000, the tokenizer focuses on the top 10,000 frequent words, reducing model complexity and memory usage.\n",
        "- oov_token: Acts as a placeholder for words not in the top num_words or unseen during fitting. It ensures out-of-vocabulary words are represented as \"<OOV>\", aiding in handling new texts and maintaining sequence integrity. With oov_token=\"<OOV>\", words outside the active vocabulary are replaced, facilitating management of new words."
      ],
      "metadata": {
        "id": "_5NdWmJtZohi"
      }
    },
    {
      "cell_type": "markdown",
      "source": [
        "##Sequencing"
      ],
      "metadata": {
        "id": "j14gfz8jSJCJ"
      }
    },
    {
      "cell_type": "markdown",
      "source": [
        "Converting the tokenized text into sequences of integers based on the vocabulary generated during tokenization. Each word in the text is replaced with its corresponding integer value. This step creates input data that can be fed into a machine learning model for training or prediction."
      ],
      "metadata": {
        "id": "hqYml6UltwvJ"
      }
    },
    {
      "cell_type": "code",
      "source": [
        "# Convert all of the cleaned text to a list of sequences\n",
        "sequences = tokenizer.texts_to_sequences(df_merged['expanded_lemmatized_overview'].dropna())\n",
        "\n",
        "# Example of how these sequences look\n",
        "print(\"Example of sequences:\", sequences[:2])"
      ],
      "metadata": {
        "id": "JzSuNZV-tuux",
        "colab": {
          "base_uri": "https://localhost:8080/"
        },
        "outputId": "0526ab8d-096f-407c-d40e-2cca8bfd8cff"
      },
      "execution_count": null,
      "outputs": [
        {
          "output_type": "stream",
          "name": "stdout",
          "text": [
            "Example of sequences: [[55, 4733, 7636, 1636, 21, 1800, 482, 7636, 1070, 85, 5603, 1, 1436, 383, 2517, 89, 119, 7636, 265, 4733, 263, 5603, 1147, 757, 5603, 4733, 283, 1863, 376, 125, 168, 3259, 1520], [1919, 4078, 579, 46, 3932, 1034, 189, 381, 797, 1003, 18, 2017, 719, 1663, 701, 387, 455, 475, 189, 15, 781, 482, 1663, 170, 754, 1287, 189, 351, 4653, 64, 3, 86, 863, 1, 181, 2904, 1104, 521]]\n"
          ]
        }
      ]
    },
    {
      "cell_type": "code",
      "source": [
        "# Compute sequence lengths\n",
        "sequence_lengths = [len(seq) for seq in sequences]\n",
        "\n",
        "# Plot histogram of sequence lengths\n",
        "import matplotlib.pyplot as plt\n",
        "plt.hist(sequence_lengths, bins=30)\n",
        "plt.xlabel('Sequence Length')\n",
        "plt.ylabel('Frequency')\n",
        "plt.title('Distribution of Sequence Lengths')\n",
        "plt.show()\n",
        "\n",
        "# Compute the maximum sequence length (e.g., 95th percentile)\n",
        "percentile_95 = np.percentile(sequence_lengths, 95)\n",
        "print(\"95th Percentile of Sequence Lengths:\", percentile_95)"
      ],
      "metadata": {
        "colab": {
          "base_uri": "https://localhost:8080/",
          "height": 489
        },
        "id": "AM3biqV4iMcA",
        "outputId": "4a545cbd-8377-41aa-800a-855f2fe4eb63"
      },
      "execution_count": null,
      "outputs": [
        {
          "output_type": "display_data",
          "data": {
            "text/plain": [
              "<Figure size 640x480 with 1 Axes>"
            ],
            "image/png": "[encoded data removed]"
          },
          "metadata": {}
        },
        {
          "output_type": "stream",
          "name": "stdout",
          "text": [
            "95th Percentile of Sequence Lengths: 71.0\n"
          ]
        }
      ]
    },
    {
      "cell_type": "code",
      "source": [
        "# Compute sequence lengths\n",
        "sequence_lengths = [len(seq.split()) for seq in df_merged['expanded_lemmatized_overview']]\n",
        "\n",
        "# Find the maximum sequence length\n",
        "max_sequence_length = max(sequence_lengths)\n",
        "\n",
        "print(\"Maximum Sequence Length:\", max_sequence_length)"
      ],
      "metadata": {
        "colab": {
          "base_uri": "https://localhost:8080/"
        },
        "id": "ydm-z97fiyVO",
        "outputId": "d17f444d-3a10-4f58-bda2-b4ef86d03b18"
      },
      "execution_count": null,
      "outputs": [
        {
          "output_type": "stream",
          "name": "stdout",
          "text": [
            "Maximum Sequence Length: 135\n"
          ]
        }
      ]
    },
    {
      "cell_type": "markdown",
      "source": [
        "##Padding"
      ],
      "metadata": {
        "id": "tqVbG44dSPMX"
      }
    },
    {
      "cell_type": "markdown",
      "source": [
        "Neural networks require inputs to be the same size. Padding the sequences ensures that all inputs are of standard length."
      ],
      "metadata": {
        "id": "IYp0KK0lt0-b"
      }
    },
    {
      "cell_type": "code",
      "source": [
        "# Pad sequences to ensure uniform input size\n",
        "max_length = max(len(x) for x in sequences)  # You can set a predefined max_length if you know your data well\n",
        "padded_sequences = pad_sequences(sequences, maxlen=max_length, padding='post')\n",
        "\n",
        "# Show how padded sequences look\n",
        "print(\"Example of padded sequences:\", padded_sequences[:2])"
      ],
      "metadata": {
        "id": "Qw-iQ4-Lty2c",
        "colab": {
          "base_uri": "https://localhost:8080/"
        },
        "outputId": "5d76b266-de39-4203-818a-d39c66fb87cb"
      },
      "execution_count": null,
      "outputs": [
        {
          "output_type": "stream",
          "name": "stdout",
          "text": [
            "Example of padded sequences: [[  55 4733 7636 1636   21 1800  482 7636 1070   85 5603    1 1436  383\n",
            "  2517   89  119 7636  265 4733  263 5603 1147  757 5603 4733  283 1863\n",
            "   376  125  168 3259 1520    0    0    0    0    0    0    0    0    0\n",
            "     0    0    0    0    0    0    0    0    0    0    0    0    0    0\n",
            "     0    0    0    0    0    0    0    0    0    0    0    0    0    0\n",
            "     0    0    0    0    0    0    0    0    0    0    0    0    0    0\n",
            "     0    0    0    0    0    0    0    0    0    0    0    0    0    0\n",
            "     0    0    0    0    0    0    0    0    0    0    0    0    0    0\n",
            "     0    0    0    0    0    0    0    0    0    0    0    0    0    0\n",
            "     0    0    0    0    0    0    0    0    0]\n",
            " [1919 4078  579   46 3932 1034  189  381  797 1003   18 2017  719 1663\n",
            "   701  387  455  475  189   15  781  482 1663  170  754 1287  189  351\n",
            "  4653   64    3   86  863    1  181 2904 1104  521    0    0    0    0\n",
            "     0    0    0    0    0    0    0    0    0    0    0    0    0    0\n",
            "     0    0    0    0    0    0    0    0    0    0    0    0    0    0\n",
            "     0    0    0    0    0    0    0    0    0    0    0    0    0    0\n",
            "     0    0    0    0    0    0    0    0    0    0    0    0    0    0\n",
            "     0    0    0    0    0    0    0    0    0    0    0    0    0    0\n",
            "     0    0    0    0    0    0    0    0    0    0    0    0    0    0\n",
            "     0    0    0    0    0    0    0    0    0]]\n"
          ]
        }
      ]
    },
    {
      "cell_type": "markdown",
      "source": [
        "##Split data"
      ],
      "metadata": {
        "id": "OFBLY6PGyevy"
      }
    },
    {
      "cell_type": "markdown",
      "source": [
        "Split your data into training and testing sets or create an embedding matrix if using pre-trained embeddings like GloVe or Word2Vec."
      ],
      "metadata": {
        "id": "aScyH6KluDcB"
      }
    },
    {
      "cell_type": "code",
      "source": [
        "#from sklearn.model_selection import train_test_split\n",
        "\n",
        "# Split the data\n",
        "#X_train, X_test, y_train, y_test = train_test_split(padded_sequences, df_merged['target_variable'], test_size=0.2, random_state=42)"
      ],
      "metadata": {
        "id": "akM8Bd7uuEKJ"
      },
      "execution_count": null,
      "outputs": []
    },
    {
      "cell_type": "markdown",
      "source": [
        "#2. Feature Extraction"
      ],
      "metadata": {
        "id": "nop98-U_u1bi"
      }
    },
    {
      "cell_type": "markdown",
      "source": [
        "In Keras, transforming text tokens into embeddings can significantly enhance the performance of models by providing a dense, lower-dimensional representation of the text data that captures semantic meanings of words."
      ],
      "metadata": {
        "id": "LunhFJ9ivP4S"
      }
    },
    {
      "cell_type": "markdown",
      "source": [
        "Since we have relatively large number of unique tokens (74343) compared to the size of your dataset (40977 entries). In such cases, it's common to use pre-trained word embeddings due to the high dimensionality of the word vectors and the potential for overfitting when training embeddings from scratch with limited data."
      ],
      "metadata": {
        "id": "wB9Ip41WfVEV"
      }
    },
    {
      "cell_type": "markdown",
      "source": [
        "####GloVe Embeddings"
      ],
      "metadata": {
        "id": "t_2GDtzhw2w7"
      }
    },
    {
      "cell_type": "markdown",
      "source": [
        "Downloading GloVe embeddings from the website, there are a couple of options available. The choice of which GloVe embeddings to download and use depends on the specifics of your task, the nature of your dataset, and the computational resources available to you."
      ],
      "metadata": {
        "id": "GAVyfnZgyHGF"
      }
    },
    {
      "cell_type": "markdown",
      "source": [
        "- For General Applications: The Wikipedia + Gigaword embeddings (glove.6B.zip) are usually sufficient for most tasks and are a good starting point due to their reasonable size and coverage.\n",
        "- For Web Text or Diverse Language Use: The Common Crawl (42B tokens) embeddings provide a wider vocabulary and capture a broad snapshot of language used across the internet.\n",
        "- For Social Media Text: If your data includes tweets or text from other social media platforms, the Twitter embeddings can be particularly useful.\n",
        "- For Case-Sensitive Tasks: If it's crucial to retain information about the capitalization of words, such as in named entity recognition, the Common Crawl (840B tokens, cased) version would be beneficial.\n",
        "\n",
        "I choosed the Wikipedia 2014+ Gigaword 5 GloVe. The Wikipedia 2014 + Gigaword 5 (6B tokens, 400K vocab, uncased, 300d vectors) dataset is a solid all-around set of embeddings for many types of NLP tasks."
      ],
      "metadata": {
        "id": "8OLz4L6Dydj7"
      }
    },
    {
      "cell_type": "code",
      "source": [
        "# Load GloVe embeddings\n",
        "embeddings_index = {}\n",
        "path_to_glove_file = '/content/drive/My Drive/Group Work/Part 2/glove.6B/glove.6B.300d.txt'\n",
        "\n",
        "with open(path_to_glove_file, 'r', encoding='utf-8') as f:\n",
        "    for line in f:\n",
        "        values = line.split()\n",
        "        word = values[0]\n",
        "        vector = np.asarray(values[1:], dtype='float32')\n",
        "        embeddings_index[word] = vector\n",
        "\n",
        "print(f'Loaded {len(embeddings_index)} word vectors.')"
      ],
      "metadata": {
        "id": "sX6s_XmNwYfB",
        "colab": {
          "base_uri": "https://localhost:8080/"
        },
        "outputId": "8cd328c8-f35b-4aa0-8985-6d81d1b9e0a2"
      },
      "execution_count": null,
      "outputs": [
        {
          "output_type": "stream",
          "name": "stdout",
          "text": [
            "Loaded 400001 word vectors.\n"
          ]
        }
      ]
    },
    {
      "cell_type": "code",
      "source": [
        "# Create Embedding matrix\n",
        "vocab_size = 10000  # Assuming you're using the top 10,000 tokens\n",
        "embedding_dim = 300  # Using 300-dimensional GloVe vectors\n",
        "\n",
        "embedding_matrix = np.zeros((vocab_size, embedding_dim))\n",
        "for word, i in word_index.items():\n",
        "    if i < vocab_size:\n",
        "        embedding_vector = embeddings_index.get(word)\n",
        "        if embedding_vector is not None:\n",
        "            embedding_matrix[i] = embedding_vector"
      ],
      "metadata": {
        "id": "ifcoeohq1ifh"
      },
      "execution_count": null,
      "outputs": []
    },
    {
      "cell_type": "code",
      "source": [
        "# Define Keras model\n",
        "from tensorflow.keras.models import Sequential\n",
        "from tensorflow.keras.layers import Embedding, Flatten, Dense\n",
        "\n",
        "max_length = 200  # Define this based on your dataset\n",
        "\n",
        "model = Sequential([\n",
        "    Embedding(vocab_size, embedding_dim, input_length=max_length,\n",
        "              weights=[embedding_matrix], trainable=False),\n",
        "    Flatten(),  # This layer flattens the embedded input for the dense layer\n",
        "    Dense(10, activation='relu'),  # Example hidden layer\n",
        "    Dense(1, activation='sigmoid')  # Output layer; change based on your needs\n",
        "])\n",
        "\n",
        "model.compile(optimizer='adam', loss='binary_crossentropy', metrics=['accuracy'])\n",
        "model.summary()"
      ],
      "metadata": {
        "id": "v4fq3pczu3Hp",
        "colab": {
          "base_uri": "https://localhost:8080/"
        },
        "outputId": "a5f74f04-fbba-47cc-e21e-8111af91d6c5"
      },
      "execution_count": null,
      "outputs": [
        {
          "output_type": "stream",
          "name": "stdout",
          "text": [
            "Model: \"sequential\"\n",
            "_________________________________________________________________\n",
            " Layer (type)                Output Shape              Param #   \n",
            "=================================================================\n",
            " embedding (Embedding)       (None, 200, 300)          3000000   \n",
            "                                                                 \n",
            " flatten (Flatten)           (None, 60000)             0         \n",
            "                                                                 \n",
            " dense (Dense)               (None, 10)                600010    \n",
            "                                                                 \n",
            " dense_1 (Dense)             (None, 1)                 11        \n",
            "                                                                 \n",
            "=================================================================\n",
            "Total params: 3600021 (13.73 MB)\n",
            "Trainable params: 600021 (2.29 MB)\n",
            "Non-trainable params: 3000000 (11.44 MB)\n",
            "_________________________________________________________________\n"
          ]
        }
      ]
    },
    {
      "cell_type": "markdown",
      "source": [
        "**Model Architecture Overview**\n",
        "\n",
        "**Embedding Layer (embedding_1)**:\n",
        "Purpose: Transforms word indices (input tokens) into dense vectors of fixed size (embeddings).\n",
        "Output Shape: (None, 200, 300) means that for each batch (batch size unspecified, hence None), the layer outputs a matrix of shape 200x300. Here, 200 is the sequence length of the input text (number of words per text), and 300 is the dimensionality of each word vector.\n",
        "Parameters: 3,000,000 parameters, indicating the layer uses a vocabulary of 10,000 words (from input_dim=10000) each represented as a 300-dimensional vector (output_dim=300). These parameters are fixed during training (Non-trainable params), meaning the GloVe vectors loaded are not updated through backpropagation.\n",
        "\n",
        "\n",
        "**Flatten Layer (flatten_1)**\n",
        "Purpose: Flattens the input from the embedding layer to create a single long feature vector. This transformation is necessary to pass the data to densely connected layers.\n",
        "Output Shape: (None, 60000) where 60000 comes from multiplying the sequence length (200) by the dimensionality of the embeddings (300), indicating each input sample is transformed into a vector of 60000 features.\n",
        "Parameters: 0, as flattening does not involve learnable parameters, it merely reshapes the data.\n",
        "\n",
        "**Dense Layer (dense_2):**\n",
        "\n",
        "Purpose: Fully connected layer that aims to learn the non-linear combinations of the high-dimensional input features.\n",
        "Output Shape: (None, 10) suggests that this layer outputs 10 features for each input sample.\n",
        "Parameters: 600,010, calculated as 60000 (input features) * 10 (output features) + 10 (bias terms).\n",
        "\n",
        "\n",
        "**Dense Layer (dense_3)**:\n",
        "Purpose: Another fully connected layer, commonly used as the output layer for binary classification problems (using sigmoid activation function).\n",
        "Output Shape: (None, 1) implies that the layer produces a single scalar output per input sample, which can be interpreted as the probability of the input sample belonging to one class.\n",
        "Parameters: 11, calculated as 10 (input features from previous dense layer) * 1 (output feature) + 1 (bias term).\n",
        "\n",
        "**Summary of Parameters**\n",
        "\n",
        "Total Parameters: 3,600,021\n",
        "This count includes all parameters in the model—both trainable and non-trainable.\n",
        "Trainable Parameters: 600,021\n",
        "These are the parameters the model will update during training. They reside in the dense layers where the model learns to map the dense representations to outputs.\n",
        "Non-Trainable Parameters: 3,000,000\n",
        "These parameters come from the embedding layer, which uses fixed pre-trained GloVe vectors. These are not updated during training, which helps in leveraging prior knowledge encapsulated in these embeddings while focusing the learning process on higher-order feature combinations in the dense layers.\n",
        "\n",
        "**Interpretation and Use**\n",
        "\n",
        "This model configuration is effective for tasks where the input is text data that needs to be classified into two categories (binary classification). The use of pre-trained embeddings allows the model to immediately leverage a rich, pre-initialized representation of language, which can often lead to better performance compared to training embeddings from scratch—especially when the available training data is not very large."
      ],
      "metadata": {
        "id": "lRakPetV2ch6"
      }
    },
    {
      "cell_type": "markdown",
      "source": [
        "#3. Model - Convolutional Neural Networks (CNN)"
      ],
      "metadata": {
        "id": "rrljN6yWgtal"
      }
    },
    {
      "cell_type": "code",
      "source": [
        "# Split your dataset into training, validation, and test sets\n",
        "X_train, X_temp = train_test_split(sequences, test_size=0.2, random_state=42)\n",
        "X_val, X_test = train_test_split(X_temp, test_size=0.5, random_state=42)"
      ],
      "metadata": {
        "id": "_okTPBV6jFWK"
      },
      "execution_count": null,
      "outputs": []
    },
    {
      "cell_type": "code",
      "source": [
        "from tensorflow.keras.models import Sequential\n",
        "from tensorflow.keras.layers import Embedding, Conv1D, MaxPooling1D, Flatten, Dense\n",
        "\n",
        "# Define the size of the vocabulary (num_words) and maximum sequence length (max_sequence_length)\n",
        "num_words = embedding_matrix.shape[0]  # Use the number of rows in the embedding matrix\n",
        "max_sequence_length = 135  # Replace 'your_max_sequence_length' with the actual maximum sequence length\n",
        "\n",
        "# Define CNN model architecture\n",
        "cnn_model = Sequential()\n",
        "cnn_model.add(Embedding(input_dim=num_words, output_dim=embedding_dim, weights=[embedding_matrix], input_length=max_sequence_length, trainable=False))\n",
        "cnn_model.add(Conv1D(filters=128, kernel_size=5, activation='relu'))\n",
        "cnn_model.add(MaxPooling1D(pool_size=2))\n",
        "cnn_model.add(Flatten())\n",
        "cnn_model.add(Dense(units=64, activation='relu'))\n",
        "cnn_model.add(Dense(units=1, activation='sigmoid'))\n",
        "\n",
        "# Compile the model\n",
        "cnn_model.compile(optimizer='adam', loss='binary_crossentropy', metrics=['accuracy'])\n",
        "\n",
        "# Print model summary\n",
        "print(cnn_model.summary())\n",
        "\n",
        "# Train the model\n",
        "history = cnn_model.fit(X_train, epochs=10, batch_size=32, validation_data=(X_val, None))  # No labels provided for validation\n",
        "\n",
        "# Evaluate the model\n",
        "loss, accuracy = cnn_model.evaluate(X_test, y_test)\n",
        "print(\"Test Accuracy:\", accuracy)"
      ],
      "metadata": {
        "colab": {
          "base_uri": "https://localhost:8080/",
          "height": 808
        },
        "id": "9uvb4uwkg2W-",
        "outputId": "382ea0be-f9e2-41cb-a2ae-c088831bba42"
      },
      "execution_count": null,
      "outputs": [
        {
          "output_type": "stream",
          "name": "stdout",
          "text": [
            "Model: \"sequential_7\"\n",
            "_________________________________________________________________\n",
            " Layer (type)                Output Shape              Param #   \n",
            "=================================================================\n",
            " embedding_5 (Embedding)     (None, 135, 300)          3000000   \n",
            "                                                                 \n",
            " conv1d_2 (Conv1D)           (None, 131, 128)          192128    \n",
            "                                                                 \n",
            " max_pooling1d_2 (MaxPoolin  (None, 65, 128)           0         \n",
            " g1D)                                                            \n",
            "                                                                 \n",
            " flatten_3 (Flatten)         (None, 8320)              0         \n",
            "                                                                 \n",
            " dense_6 (Dense)             (None, 64)                532544    \n",
            "                                                                 \n",
            " dense_7 (Dense)             (None, 1)                 65        \n",
            "                                                                 \n",
            "=================================================================\n",
            "Total params: 3724737 (14.21 MB)\n",
            "Trainable params: 724737 (2.76 MB)\n",
            "Non-trainable params: 3000000 (11.44 MB)\n",
            "_________________________________________________________________\n",
            "None\n"
          ]
        },
        {
          "output_type": "error",
          "ename": "ValueError",
          "evalue": "setting an array element with a sequence. The requested array has an inhomogeneous shape after 1 dimensions. The detected shape was (32781,) + inhomogeneous part.",
          "traceback": [
            "\u001b[0;31m---------------------------------------------------------------------------\u001b[0m",
            "\u001b[0;31mValueError\u001b[0m                                Traceback (most recent call last)",
            "\u001b[0;32m<ipython-input-73-12cbb4631ba1>\u001b[0m in \u001b[0;36m<cell line: 24>\u001b[0;34m()\u001b[0m\n\u001b[1;32m     22\u001b[0m \u001b[0;34m\u001b[0m\u001b[0m\n\u001b[1;32m     23\u001b[0m \u001b[0;31m# Train the model\u001b[0m\u001b[0;34m\u001b[0m\u001b[0;34m\u001b[0m\u001b[0m\n\u001b[0;32m---> 24\u001b[0;31m \u001b[0mhistory\u001b[0m \u001b[0;34m=\u001b[0m \u001b[0mcnn_model\u001b[0m\u001b[0;34m.\u001b[0m\u001b[0mfit\u001b[0m\u001b[0;34m(\u001b[0m\u001b[0mX_train\u001b[0m\u001b[0;34m,\u001b[0m \u001b[0mepochs\u001b[0m\u001b[0;34m=\u001b[0m\u001b[0;36m10\u001b[0m\u001b[0;34m,\u001b[0m \u001b[0mbatch_size\u001b[0m\u001b[0;34m=\u001b[0m\u001b[0;36m32\u001b[0m\u001b[0;34m,\u001b[0m \u001b[0mvalidation_data\u001b[0m\u001b[0;34m=\u001b[0m\u001b[0;34m(\u001b[0m\u001b[0mX_val\u001b[0m\u001b[0;34m,\u001b[0m \u001b[0;32mNone\u001b[0m\u001b[0;34m)\u001b[0m\u001b[0;34m)\u001b[0m  \u001b[0;31m# No labels provided for validation\u001b[0m\u001b[0;34m\u001b[0m\u001b[0;34m\u001b[0m\u001b[0m\n\u001b[0m\u001b[1;32m     25\u001b[0m \u001b[0;34m\u001b[0m\u001b[0m\n\u001b[1;32m     26\u001b[0m \u001b[0;31m# Evaluate the model\u001b[0m\u001b[0;34m\u001b[0m\u001b[0;34m\u001b[0m\u001b[0m\n",
            "\u001b[0;32m/usr/local/lib/python3.10/dist-packages/keras/src/utils/traceback_utils.py\u001b[0m in \u001b[0;36merror_handler\u001b[0;34m(*args, **kwargs)\u001b[0m\n\u001b[1;32m     68\u001b[0m             \u001b[0;31m# To get the full stack trace, call:\u001b[0m\u001b[0;34m\u001b[0m\u001b[0;34m\u001b[0m\u001b[0m\n\u001b[1;32m     69\u001b[0m             \u001b[0;31m# `tf.debugging.disable_traceback_filtering()`\u001b[0m\u001b[0;34m\u001b[0m\u001b[0;34m\u001b[0m\u001b[0m\n\u001b[0;32m---> 70\u001b[0;31m             \u001b[0;32mraise\u001b[0m \u001b[0me\u001b[0m\u001b[0;34m.\u001b[0m\u001b[0mwith_traceback\u001b[0m\u001b[0;34m(\u001b[0m\u001b[0mfiltered_tb\u001b[0m\u001b[0;34m)\u001b[0m \u001b[0;32mfrom\u001b[0m \u001b[0;32mNone\u001b[0m\u001b[0;34m\u001b[0m\u001b[0;34m\u001b[0m\u001b[0m\n\u001b[0m\u001b[1;32m     71\u001b[0m         \u001b[0;32mfinally\u001b[0m\u001b[0;34m:\u001b[0m\u001b[0;34m\u001b[0m\u001b[0;34m\u001b[0m\u001b[0m\n\u001b[1;32m     72\u001b[0m             \u001b[0;32mdel\u001b[0m \u001b[0mfiltered_tb\u001b[0m\u001b[0;34m\u001b[0m\u001b[0;34m\u001b[0m\u001b[0m\n",
            "\u001b[0;32m/usr/local/lib/python3.10/dist-packages/keras/src/engine/data_adapter.py\u001b[0m in \u001b[0;36m__init__\u001b[0;34m(self, x, y, sample_weights, sample_weight_modes, batch_size, shuffle, **kwargs)\u001b[0m\n\u001b[1;32m    712\u001b[0m     ):\n\u001b[1;32m    713\u001b[0m         \u001b[0msuper\u001b[0m\u001b[0;34m(\u001b[0m\u001b[0;34m)\u001b[0m\u001b[0;34m.\u001b[0m\u001b[0m__init__\u001b[0m\u001b[0;34m(\u001b[0m\u001b[0mx\u001b[0m\u001b[0;34m,\u001b[0m \u001b[0my\u001b[0m\u001b[0;34m,\u001b[0m \u001b[0;34m**\u001b[0m\u001b[0mkwargs\u001b[0m\u001b[0;34m)\u001b[0m\u001b[0;34m\u001b[0m\u001b[0;34m\u001b[0m\u001b[0m\n\u001b[0;32m--> 714\u001b[0;31m         \u001b[0mx\u001b[0m \u001b[0;34m=\u001b[0m \u001b[0mnp\u001b[0m\u001b[0;34m.\u001b[0m\u001b[0masarray\u001b[0m\u001b[0;34m(\u001b[0m\u001b[0mx\u001b[0m\u001b[0;34m)\u001b[0m\u001b[0;34m\u001b[0m\u001b[0;34m\u001b[0m\u001b[0m\n\u001b[0m\u001b[1;32m    715\u001b[0m         \u001b[0;32mif\u001b[0m \u001b[0my\u001b[0m \u001b[0;32mis\u001b[0m \u001b[0;32mnot\u001b[0m \u001b[0;32mNone\u001b[0m\u001b[0;34m:\u001b[0m\u001b[0;34m\u001b[0m\u001b[0;34m\u001b[0m\u001b[0m\n\u001b[1;32m    716\u001b[0m             \u001b[0my\u001b[0m \u001b[0;34m=\u001b[0m \u001b[0mnp\u001b[0m\u001b[0;34m.\u001b[0m\u001b[0masarray\u001b[0m\u001b[0;34m(\u001b[0m\u001b[0my\u001b[0m\u001b[0;34m)\u001b[0m\u001b[0;34m\u001b[0m\u001b[0;34m\u001b[0m\u001b[0m\n",
            "\u001b[0;31mValueError\u001b[0m: setting an array element with a sequence. The requested array has an inhomogeneous shape after 1 dimensions. The detected shape was (32781,) + inhomogeneous part."
          ]
        }
      ]
    }
  ]
}