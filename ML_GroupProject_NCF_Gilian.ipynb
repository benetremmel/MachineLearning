{
  "cells": [
    {
      "cell_type": "code",
      "execution_count": 1,
      "metadata": {
        "id": "BC6hU_pPUy24"
      },
      "outputs": [],
      "source": [
        "import pandas as pd\n",
        "import numpy as np\n",
        "import matplotlib.pyplot as plt\n",
        "from sklearn.preprocessing import LabelEncoder"
      ]
    },
    {
      "cell_type": "code",
      "source": [
        "from google.colab import drive\n",
        "drive.mount('/content/drive')"
      ],
      "metadata": {
        "colab": {
          "base_uri": "https://localhost:8080/"
        },
        "id": "Xui_oREBXWGO",
        "outputId": "bc54ca0a-359c-442d-a5f9-f0c90658664a"
      },
      "execution_count": 2,
      "outputs": [
        {
          "output_type": "stream",
          "name": "stdout",
          "text": [
            "Mounted at /content/drive\n"
          ]
        }
      ]
    },
    {
      "cell_type": "code",
      "execution_count": 29,
      "metadata": {
        "id": "4uJV3g0SUy25"
      },
      "outputs": [],
      "source": [
        "df_ratings = pd.read_pickle('/content/drive/My Drive/df_ratings_100k.pkl')\n",
        "df_movies = pd.read_pickle('/content/drive/My Drive/df_movies_cleaned.pkl')"
      ]
    },
    {
      "cell_type": "markdown",
      "source": [
        "# 1. Preprocessing"
      ],
      "metadata": {
        "id": "p7cjZ__qb0Ps"
      }
    },
    {
      "cell_type": "markdown",
      "source": [
        "## 1.1 Convert UserId & MovieId"
      ],
      "metadata": {
        "id": "PnwAmnXNb5B3"
      }
    },
    {
      "cell_type": "markdown",
      "source": [
        "In a collaborative filtering model, user IDs and movie IDs need to be converted to a continuous range of integers, which will serve as array indices in the embedding layers. Neural network models, particularly those using embeddings, benefit from having user and movie indices start from zero and continue without gaps. This is because each index directly accesses a position in the embedding matrix. This step ensures that each user and movie can be uniquely identified with a dense vector in the latent space."
      ],
      "metadata": {
        "id": "ULNon7aYiRqq"
      }
    },
    {
      "cell_type": "code",
      "source": [
        "# Combine all movie IDs and user IDs from both dataframes to ensure comprehensive encoding\n",
        "all_movie_ids = pd.concat([df_ratings['movieId'], df_movies['movieId']]).unique()\n",
        "all_user_ids = df_ratings['userId'].unique()\n",
        "\n",
        "# Create and fit the encoders\n",
        "movie_encoder = LabelEncoder()\n",
        "user_encoder = LabelEncoder()\n",
        "\n",
        "movie_encoder.fit(all_movie_ids)\n",
        "user_encoder.fit(all_user_ids)\n",
        "\n",
        "# Transform movie and user IDs in the both dataframes\n",
        "df_ratings['user'] = user_encoder.transform(df_ratings['userId'])\n",
        "df_ratings['movie'] = movie_encoder.transform(df_ratings['movieId'])\n",
        "df_movies['movie'] = movie_encoder.transform(df_movies['movieId'])"
      ],
      "metadata": {
        "id": "G2P5cCiajJcV"
      },
      "execution_count": 30,
      "outputs": []
    },
    {
      "cell_type": "code",
      "source": [
        "# Check Encoding:\n",
        "\n",
        "print(\"Unique users in ratings:\", df_ratings['user'].nunique())\n",
        "print(\"Unique movies in ratings:\", df_ratings['movie'].nunique())\n",
        "print(\"Min/Max user IDs:\", df_ratings['user'].min(), '/', df_ratings['user'].max())\n",
        "print(\"Min/Max movie IDs:\", df_ratings['movie'].min(), '/', df_ratings['movie'].max())"
      ],
      "metadata": {
        "colab": {
          "base_uri": "https://localhost:8080/"
        },
        "id": "IlJh2PxVlXMK",
        "outputId": "cfdf14d2-1d5e-42a4-f7f9-124367b61ff0"
      },
      "execution_count": 31,
      "outputs": [
        {
          "output_type": "stream",
          "name": "stdout",
          "text": [
            "Unique users in ratings: 55588\n",
            "Unique movies in ratings: 9494\n",
            "Min/Max user IDs: 0 / 55587\n",
            "Min/Max movie IDs: 0 / 39082\n"
          ]
        }
      ]
    },
    {
      "cell_type": "markdown",
      "source": [
        "User IDs appear to be correctly encoded. We have 55,588 unique users, and the user IDs range from 0 to 55,587, which suggests that every unique user ID has been mapped to a unique integer in a contiguous zero-based range.\n",
        "\n",
        "Movie IDs, however, show a discrepancy. While there are 9,494 unique movies, the movie IDs range from 0 to 39,082. This gap indicates that not all possible integer values between 0 and 39,082 are used, suggesting that there are missing IDs within this range. Therefore, we will remap the movie IDs to a new contiguous range."
      ],
      "metadata": {
        "id": "B3Yj7SHMmdvM"
      }
    },
    {
      "cell_type": "code",
      "source": [
        "# Recreate the mapping from the sorted unique IDs\n",
        "movie_id_map = {id: i for i, id in enumerate(sorted(df_ratings['movieId'].unique()))}\n",
        "\n",
        "# Apply the new mapping to the DataFrames\n",
        "df_ratings['movie'] = df_ratings['movieId'].apply(lambda x: movie_id_map.get(x, -1))  # Use get to avoid errors\n",
        "df_movies['movie'] = df_movies['movieId'].apply(lambda x: movie_id_map.get(x, -1))\n",
        "\n",
        "# Check again\n",
        "print(\"New max movie ID in ratings:\", df_ratings['movie'].max())\n",
        "print(\"New unique movie IDs in ratings:\", df_ratings['movie'].nunique())"
      ],
      "metadata": {
        "colab": {
          "base_uri": "https://localhost:8080/"
        },
        "id": "BiDwHxkenX2K",
        "outputId": "6bd8f00d-fa07-434a-ad5c-805b645d639a"
      },
      "execution_count": 32,
      "outputs": [
        {
          "output_type": "stream",
          "name": "stdout",
          "text": [
            "New max movie ID in ratings: 9493\n",
            "New unique movie IDs in ratings: 9494\n"
          ]
        }
      ]
    },
    {
      "cell_type": "code",
      "source": [
        "print(df_ratings[['movieId', 'movie']].head())\n",
        "print(df_movies[['movieId', 'movie']].head())"
      ],
      "metadata": {
        "colab": {
          "base_uri": "https://localhost:8080/"
        },
        "id": "zhoFAg6lnb8Y",
        "outputId": "3d0986da-298f-4ac9-870c-b7c1a6a574c6"
      },
      "execution_count": 33,
      "outputs": [
        {
          "output_type": "stream",
          "name": "stdout",
          "text": [
            "          movieId  movie\n",
            "11800835     1037    829\n",
            "3192182     27316   5716\n",
            "10041143      307    269\n",
            "14911364    73929   7389\n",
            "13024846     4308   3281\n",
            "   movieId  movie\n",
            "0        1      0\n",
            "1        2      1\n",
            "2        3      2\n",
            "3        4      3\n",
            "4        5      4\n"
          ]
        }
      ]
    },
    {
      "cell_type": "markdown",
      "source": [
        "The mapping has now been applied correctly. The movie IDs now range from 0 to 9493, which matches exactly with the count of unique movie IDs (9494), implying that the IDs are perfectly contiguous and zero-indexed. Let's do a final validation check to confirm that no movieId is left unmapped and no erroneous transformations have occurred:"
      ],
      "metadata": {
        "id": "ObWGSN4tqOQQ"
      }
    },
    {
      "cell_type": "code",
      "source": [
        "# Ensure that all movies referenced in ratings are available in the movies DataFrame\n",
        "missing_movies = df_ratings[~df_ratings['movie'].isin(df_movies['movie'])]\n",
        "if missing_movies.empty:\n",
        "    print(\"All movies in ratings are accounted for in the movies dataframe.\")\n",
        "else:\n",
        "    print(f\"There are {missing_movies.shape[0]} missing movies in the movies dataframe.\")"
      ],
      "metadata": {
        "colab": {
          "base_uri": "https://localhost:8080/"
        },
        "id": "7itR76whoI1k",
        "outputId": "15e6c870-92a3-4a2e-a672-bcc3314fcc21"
      },
      "execution_count": 27,
      "outputs": [
        {
          "output_type": "stream",
          "name": "stdout",
          "text": [
            "There are 781 missing movies in the movies dataframe.\n"
          ]
        }
      ]
    },
    {
      "cell_type": "markdown",
      "source": [
        "The presence of 781 missing movies in the df_movies DataFrame compared to df_ratings indicates that there are movies which have been rated but for which there is no additional metadata available in the df_movies dataset. Those rows will be dropped as they are not significant for the model."
      ],
      "metadata": {
        "id": "E_nVTqRqqYy5"
      }
    },
    {
      "cell_type": "code",
      "source": [
        "# Removing ratings with missing movie metadata\n",
        "df_ratings = df_ratings[df_ratings['movie'].isin(df_movies['movie'])]\n",
        "\n",
        "# Check again\n",
        "missing_movies_after = df_ratings[~df_ratings['movie'].isin(df_movies['movie'])]\n",
        "if missing_movies_after.empty:\n",
        "    print(\"All movies in ratings are now accounted for in the movies dataframe.\")\n",
        "else:\n",
        "    print(f\"There are still {missing_movies_after.shape[0]} missing movies in the movies dataframe.\")"
      ],
      "metadata": {
        "colab": {
          "base_uri": "https://localhost:8080/"
        },
        "id": "pLY1FclFokyH",
        "outputId": "04b1dd5f-c1d5-4b42-9887-557f2ea31005"
      },
      "execution_count": 28,
      "outputs": [
        {
          "output_type": "stream",
          "name": "stdout",
          "text": [
            "All movies in ratings are now accounted for in the movies dataframe.\n"
          ]
        }
      ]
    },
    {
      "cell_type": "markdown",
      "source": [
        "The data is now correctly encoded and we can move on to the next preprocessing step."
      ],
      "metadata": {
        "id": "vwhuSsyyqZaz"
      }
    },
    {
      "cell_type": "markdown",
      "source": [
        "## 1.2 Normalize Ratings"
      ],
      "metadata": {
        "id": "AZEvOjCrb-Od"
      }
    },
    {
      "cell_type": "markdown",
      "source": [
        "Next, we normalize the ratings as this helps the model train faster and converge more easily."
      ],
      "metadata": {
        "id": "D6KlfgckiWh1"
      }
    },
    {
      "cell_type": "code",
      "source": [
        "# Normalize the ratings to a scale of 0 to 1\n",
        "df_ratings['rating_norm'] = (df_ratings['rating'] - 0.5) / 4.5"
      ],
      "metadata": {
        "id": "Kq4TMgHziWqk"
      },
      "execution_count": 5,
      "outputs": []
    },
    {
      "cell_type": "code",
      "source": [
        "# Check Normalization:\n",
        "\n",
        "print(\"Min/Max normalized ratings:\", df_ratings['rating_norm'].min(), \"/\", df_ratings['rating_norm'].max())\n",
        "print(df_ratings[['rating', 'rating_norm']].head())"
      ],
      "metadata": {
        "colab": {
          "base_uri": "https://localhost:8080/"
        },
        "id": "1zHozKVCcd7z",
        "outputId": "af6ea2ec-ed77-43a2-ef6d-1ede28af6049"
      },
      "execution_count": 13,
      "outputs": [
        {
          "output_type": "stream",
          "name": "stdout",
          "text": [
            "Min/Max normalized ratings: 0.0 / 1.0\n",
            "          rating  rating_norm\n",
            "11800835     0.5          0.0\n",
            "3192182      0.5          0.0\n",
            "10041143     0.5          0.0\n",
            "14911364     0.5          0.0\n",
            "13024846     0.5          0.0\n"
          ]
        }
      ]
    },
    {
      "cell_type": "markdown",
      "source": [
        "## 1.3 Prepare Data for Modelling"
      ],
      "metadata": {
        "id": "iuYTzzE0kklx"
      }
    },
    {
      "cell_type": "markdown",
      "metadata": {
        "id": "WODmxtmKUy25"
      },
      "source": [
        "Now, we split the data into training and test data. For recommendation tasks, a chronological split makes more sense than a random split because user preferences and item popularity can change over time. Using a chronological split can simulate a real-world scenario where a model trained on past data is used to predict future preferences. This approach helps in evaluating how well the model might perform when deployed in production, as it mimics the model's need to work with new, unseen data arriving over time."
      ]
    },
    {
      "cell_type": "code",
      "source": [
        "X = df_ratings[['user', 'movie']]\n",
        "y = df_ratings['rating_norm']"
      ],
      "metadata": {
        "id": "deLly_FKlMQo"
      },
      "execution_count": 15,
      "outputs": []
    },
    {
      "cell_type": "code",
      "execution_count": 16,
      "metadata": {
        "id": "kLPqpjNeUy26"
      },
      "outputs": [],
      "source": [
        "# Sort data chronologically\n",
        "df_ratings = df_ratings.sort_values(by='timestamp')\n",
        "\n",
        "# Define a cutoff for splitting the data (80% train, 20% test)\n",
        "cutoff = int(len(df_ratings) * 0.8)\n",
        "train_df = df_ratings.iloc[:cutoff]\n",
        "test_df = df_ratings.iloc[cutoff:]\n",
        "\n",
        "# Now use the indices of the train and test dataframes to split X and y\n",
        "X_train, y_train = X.loc[train_df.index], y.loc[train_df.index]\n",
        "X_test, y_test = X.loc[test_df.index], y.loc[test_df.index]"
      ]
    },
    {
      "cell_type": "code",
      "source": [
        "# Check Train-Test-Split:\n",
        "\n",
        "print(\"Train data range from {} to {}\".format(train_df['timestamp'].min(), train_df['timestamp'].max()))\n",
        "print(\"Test data range from {} to {}\".format(test_df['timestamp'].min(), test_df['timestamp'].max()))"
      ],
      "metadata": {
        "colab": {
          "base_uri": "https://localhost:8080/"
        },
        "id": "zqwjUt_MlT62",
        "outputId": "9eeef166-eca6-4ddf-c135-8260936ff4bf"
      },
      "execution_count": 17,
      "outputs": [
        {
          "output_type": "stream",
          "name": "stdout",
          "text": [
            "Train data range from 1996-02-15 12:59:58 to 2015-03-15 10:25:12\n",
            "Test data range from 2015-03-15 11:38:12 to 2017-08-04 03:38:23\n"
          ]
        }
      ]
    }
  ],
  "metadata": {
    "kernelspec": {
      "display_name": "base",
      "language": "python",
      "name": "python3"
    },
    "language_info": {
      "codemirror_mode": {
        "name": "ipython",
        "version": 3
      },
      "file_extension": ".py",
      "mimetype": "text/x-python",
      "name": "python",
      "nbconvert_exporter": "python",
      "pygments_lexer": "ipython3",
      "version": "3.11.4"
    },
    "colab": {
      "provenance": []
    }
  },
  "nbformat": 4,
  "nbformat_minor": 0
}