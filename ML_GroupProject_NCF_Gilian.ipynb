{
  "cells": [
    {
      "cell_type": "code",
      "execution_count": 78,
      "metadata": {
        "id": "BC6hU_pPUy24"
      },
      "outputs": [],
      "source": [
        "import pandas as pd\n",
        "import numpy as np\n",
        "import matplotlib.pyplot as plt\n",
        "import tensorflow as tf\n",
        "from sklearn.preprocessing import LabelEncoder\n",
        "from tensorflow.keras.models import Model\n",
        "from tensorflow.keras.layers import Input, Embedding, Flatten, Dense, Concatenate, Multiply, Dropout\n",
        "from tensorflow.keras.optimizers import Adam\n",
        "from tensorflow.keras.regularizers import l2\n",
        "from keras.metrics import MeanSquaredError"
      ]
    },
    {
      "cell_type": "code",
      "source": [
        "from google.colab import drive\n",
        "drive.mount('/content/drive')"
      ],
      "metadata": {
        "colab": {
          "base_uri": "https://localhost:8080/"
        },
        "id": "Xui_oREBXWGO",
        "outputId": "745e864c-947f-4fc2-9c89-f68c2ff4f78c"
      },
      "execution_count": 2,
      "outputs": [
        {
          "output_type": "stream",
          "name": "stdout",
          "text": [
            "Mounted at /content/drive\n"
          ]
        }
      ]
    },
    {
      "cell_type": "code",
      "execution_count": 49,
      "metadata": {
        "id": "4uJV3g0SUy25"
      },
      "outputs": [],
      "source": [
        "df_ratings = pd.read_pickle('/content/drive/My Drive/df_ratings_100k.pkl')\n",
        "df_movies = pd.read_pickle('/content/drive/My Drive/df_movies_cleaned.pkl')"
      ]
    },
    {
      "cell_type": "markdown",
      "source": [
        "# 1. Preprocessing"
      ],
      "metadata": {
        "id": "p7cjZ__qb0Ps"
      }
    },
    {
      "cell_type": "markdown",
      "source": [
        "## 1.1 Convert UserId & MovieId"
      ],
      "metadata": {
        "id": "PnwAmnXNb5B3"
      }
    },
    {
      "cell_type": "markdown",
      "source": [
        "In a collaborative filtering model, user IDs and movie IDs need to be converted to a continuous range of integers, which will serve as array indices in the embedding layers. Neural network models, particularly those using embeddings, benefit from having user and movie indices start from zero and continue without gaps. This is because each index directly accesses a position in the embedding matrix. This step ensures that each user and movie can be uniquely identified with a dense vector in the latent space."
      ],
      "metadata": {
        "id": "ULNon7aYiRqq"
      }
    },
    {
      "cell_type": "code",
      "source": [
        "# Combine all movie IDs and user IDs from both dataframes to ensure comprehensive encoding\n",
        "all_movie_ids = pd.concat([df_ratings['movieId'], df_movies['movieId']]).unique()\n",
        "all_user_ids = df_ratings['userId'].unique()\n",
        "\n",
        "# Create and fit the encoders\n",
        "movie_encoder = LabelEncoder()\n",
        "user_encoder = LabelEncoder()\n",
        "\n",
        "movie_encoder.fit(all_movie_ids)\n",
        "user_encoder.fit(all_user_ids)\n",
        "\n",
        "# Transform movie and user IDs in the both dataframes\n",
        "df_ratings['user'] = user_encoder.transform(df_ratings['userId'])\n",
        "df_ratings['movie'] = movie_encoder.transform(df_ratings['movieId'])\n",
        "df_movies['movie'] = movie_encoder.transform(df_movies['movieId'])"
      ],
      "metadata": {
        "id": "G2P5cCiajJcV"
      },
      "execution_count": 50,
      "outputs": []
    },
    {
      "cell_type": "code",
      "source": [
        "# Check Encoding:\n",
        "\n",
        "num_users = df_ratings['user'].nunique()\n",
        "num_movies = df_ratings['movie'].nunique()\n",
        "\n",
        "print(\"Unique users in ratings:\", num_users)\n",
        "print(\"Unique movies in ratings:\", num_movies)\n",
        "print(\"Min/Max user IDs:\", df_ratings['user'].min(), '/', df_ratings['user'].max())\n",
        "print(\"Min/Max movie IDs:\", df_ratings['movie'].min(), '/', df_ratings['movie'].max())"
      ],
      "metadata": {
        "colab": {
          "base_uri": "https://localhost:8080/"
        },
        "id": "IlJh2PxVlXMK",
        "outputId": "7c22f6fb-e992-4733-c4c4-16929f6cc260"
      },
      "execution_count": 51,
      "outputs": [
        {
          "output_type": "stream",
          "name": "stdout",
          "text": [
            "Unique users in ratings: 55588\n",
            "Unique movies in ratings: 9494\n",
            "Min/Max user IDs: 0 / 55587\n",
            "Min/Max movie IDs: 0 / 39082\n"
          ]
        }
      ]
    },
    {
      "cell_type": "markdown",
      "source": [
        "User IDs appear to be correctly encoded. We have 55,588 unique users, and the user IDs range from 0 to 55,587, which suggests that every unique user ID has been mapped to a unique integer in a contiguous zero-based range.\n",
        "\n",
        "Movie IDs, however, show a discrepancy. While there are 9,494 unique movies, the movie IDs range from 0 to 39,082. This gap indicates that not all possible integer values between 0 and 39,082 are used, suggesting that there are missing IDs within this range. Therefore, we will remap the movie IDs to a new contiguous range."
      ],
      "metadata": {
        "id": "B3Yj7SHMmdvM"
      }
    },
    {
      "cell_type": "code",
      "source": [
        "# Recreate the mapping from the sorted unique IDs\n",
        "movie_id_map = {id: i for i, id in enumerate(sorted(df_ratings['movieId'].unique()))}\n",
        "\n",
        "# Apply the new mapping to the DataFrames\n",
        "df_ratings['movie'] = df_ratings['movieId'].apply(lambda x: movie_id_map.get(x, -1))  # Use get to avoid errors\n",
        "df_movies['movie'] = df_movies['movieId'].apply(lambda x: movie_id_map.get(x, -1))\n",
        "\n",
        "# Check again\n",
        "print(\"New max movie ID in ratings:\", df_ratings['movie'].max())\n",
        "print(\"New unique movie IDs in ratings:\", df_ratings['movie'].nunique())"
      ],
      "metadata": {
        "colab": {
          "base_uri": "https://localhost:8080/"
        },
        "id": "BiDwHxkenX2K",
        "outputId": "d062f52b-09ae-462a-c438-393ddfb95580"
      },
      "execution_count": 52,
      "outputs": [
        {
          "output_type": "stream",
          "name": "stdout",
          "text": [
            "New max movie ID in ratings: 9493\n",
            "New unique movie IDs in ratings: 9494\n"
          ]
        }
      ]
    },
    {
      "cell_type": "code",
      "source": [
        "print(df_ratings[['movieId', 'movie']].head())\n",
        "print(df_movies[['movieId', 'movie']].head())"
      ],
      "metadata": {
        "colab": {
          "base_uri": "https://localhost:8080/"
        },
        "id": "zhoFAg6lnb8Y",
        "outputId": "5780e807-acb2-4f26-9764-f5f206a027d4"
      },
      "execution_count": 53,
      "outputs": [
        {
          "output_type": "stream",
          "name": "stdout",
          "text": [
            "          movieId  movie\n",
            "11800835     1037    829\n",
            "3192182     27316   5716\n",
            "10041143      307    269\n",
            "14911364    73929   7389\n",
            "13024846     4308   3281\n",
            "   movieId  movie\n",
            "0        1      0\n",
            "1        2      1\n",
            "2        3      2\n",
            "3        4      3\n",
            "4        5      4\n"
          ]
        }
      ]
    },
    {
      "cell_type": "markdown",
      "source": [
        "The mapping has now been applied correctly. The movie IDs now range from 0 to 9493, which matches exactly with the count of unique movie IDs (9494), implying that the IDs are perfectly contiguous and zero-indexed. Let's do a final validation check to confirm that no movieId is left unmapped and no erroneous transformations have occurred:"
      ],
      "metadata": {
        "id": "ObWGSN4tqOQQ"
      }
    },
    {
      "cell_type": "code",
      "source": [
        "# Ensure that all movies referenced in ratings are available in the movies DataFrame\n",
        "missing_movies = df_ratings[~df_ratings['movie'].isin(df_movies['movie'])]\n",
        "if missing_movies.empty:\n",
        "    print(\"All movies in ratings are accounted for in the movies dataframe.\")\n",
        "else:\n",
        "    print(f\"There are {missing_movies.shape[0]} missing movies in the movies dataframe.\")"
      ],
      "metadata": {
        "colab": {
          "base_uri": "https://localhost:8080/"
        },
        "id": "7itR76whoI1k",
        "outputId": "6dcbf8b5-0972-4a2e-eaf5-06a9cf94ec0f"
      },
      "execution_count": 55,
      "outputs": [
        {
          "output_type": "stream",
          "name": "stdout",
          "text": [
            "There are 781 missing movies in the movies dataframe.\n"
          ]
        }
      ]
    },
    {
      "cell_type": "markdown",
      "source": [
        "The presence of 781 missing movies in the df_movies DataFrame compared to df_ratings indicates that there are movies which have been rated but for which there is no additional metadata available in the df_movies dataset. Those rows will be dropped as they are not significant for the model."
      ],
      "metadata": {
        "id": "E_nVTqRqqYy5"
      }
    },
    {
      "cell_type": "code",
      "source": [
        "# Removing ratings with missing movie metadata\n",
        "df_ratings = df_ratings[df_ratings['movie'].isin(df_movies['movie'])]\n",
        "\n",
        "# Check again\n",
        "missing_movies_after = df_ratings[~df_ratings['movie'].isin(df_movies['movie'])]\n",
        "if missing_movies_after.empty:\n",
        "    print(\"All movies in ratings are now accounted for in the movies dataframe.\")\n",
        "else:\n",
        "    print(f\"There are still {missing_movies_after.shape[0]} missing movies in the movies dataframe.\")"
      ],
      "metadata": {
        "colab": {
          "base_uri": "https://localhost:8080/"
        },
        "id": "pLY1FclFokyH",
        "outputId": "246a2b48-0262-47c5-af62-16d778035020"
      },
      "execution_count": 56,
      "outputs": [
        {
          "output_type": "stream",
          "name": "stdout",
          "text": [
            "All movies in ratings are now accounted for in the movies dataframe.\n"
          ]
        }
      ]
    },
    {
      "cell_type": "markdown",
      "source": [
        "The data is now correctly encoded and we can move on to the next preprocessing step."
      ],
      "metadata": {
        "id": "vwhuSsyyqZaz"
      }
    },
    {
      "cell_type": "markdown",
      "source": [
        "## 1.2 Normalize Ratings"
      ],
      "metadata": {
        "id": "AZEvOjCrb-Od"
      }
    },
    {
      "cell_type": "markdown",
      "source": [
        "Next, we normalize the ratings as this helps the model train faster and converge more easily."
      ],
      "metadata": {
        "id": "D6KlfgckiWh1"
      }
    },
    {
      "cell_type": "code",
      "source": [
        "# Normalize the ratings to a scale of 0 to 1\n",
        "df_ratings['rating_norm'] = (df_ratings['rating'] - 0.5) / 4.5"
      ],
      "metadata": {
        "id": "Kq4TMgHziWqk"
      },
      "execution_count": 58,
      "outputs": []
    },
    {
      "cell_type": "code",
      "source": [
        "# Check Normalization:\n",
        "\n",
        "print(\"Min/Max normalized ratings:\", df_ratings['rating_norm'].min(), \"/\", df_ratings['rating_norm'].max())\n",
        "print(df_ratings[['rating', 'rating_norm']].head())"
      ],
      "metadata": {
        "colab": {
          "base_uri": "https://localhost:8080/"
        },
        "id": "1zHozKVCcd7z",
        "outputId": "3beed4e9-d604-4f84-936d-6c2f5556a920"
      },
      "execution_count": 59,
      "outputs": [
        {
          "output_type": "stream",
          "name": "stdout",
          "text": [
            "Min/Max normalized ratings: 0.0 / 1.0\n",
            "          rating  rating_norm\n",
            "11800835     0.5          0.0\n",
            "3192182      0.5          0.0\n",
            "10041143     0.5          0.0\n",
            "14911364     0.5          0.0\n",
            "13024846     0.5          0.0\n"
          ]
        }
      ]
    },
    {
      "cell_type": "markdown",
      "source": [
        "## 1.3 Prepare Data for Modelling"
      ],
      "metadata": {
        "id": "iuYTzzE0kklx"
      }
    },
    {
      "cell_type": "markdown",
      "metadata": {
        "id": "WODmxtmKUy25"
      },
      "source": [
        "Now, we split the data into training and test data. For recommendation tasks, a chronological split makes more sense than a random split because user preferences and item popularity can change over time. Using a chronological split can simulate a real-world scenario where a model trained on past data is used to predict future preferences. This approach helps in evaluating how well the model might perform when deployed in production, as it mimics the model's need to work with new, unseen data arriving over time."
      ]
    },
    {
      "cell_type": "code",
      "execution_count": 61,
      "metadata": {
        "id": "kLPqpjNeUy26"
      },
      "outputs": [],
      "source": [
        "# Sort data chronologically\n",
        "df_ratings = df_ratings.sort_values(by='timestamp')\n",
        "\n",
        "# Define a cutoff for splitting the data (80% train, 20% test)\n",
        "cutoff = int(len(df_ratings) * 0.8)\n",
        "train_df = df_ratings.iloc[:cutoff]\n",
        "test_df = df_ratings.iloc[cutoff:]"
      ]
    },
    {
      "cell_type": "code",
      "source": [
        "# Separate user and item IDs for training and testing\n",
        "X_train_user = train_df['user'].values\n",
        "X_train_item = train_df['movie'].values\n",
        "y_train = train_df['rating_norm'].values\n",
        "\n",
        "X_test_user = test_df['user'].values\n",
        "X_test_item = test_df['movie'].values\n",
        "y_test = test_df['rating_norm'].values\n",
        "\n",
        "# Convert to TensorFlow tensors\n",
        "X_train_user = tf.convert_to_tensor(X_train_user, dtype=tf.int32)\n",
        "X_train_item = tf.convert_to_tensor(X_train_item, dtype=tf.int32)\n",
        "y_train = tf.convert_to_tensor(y_train, dtype=tf.float32)\n",
        "\n",
        "X_test_user = tf.convert_to_tensor(X_test_user, dtype=tf.int32)\n",
        "X_test_item = tf.convert_to_tensor(X_test_item, dtype=tf.int32)\n",
        "y_test = tf.convert_to_tensor(y_test, dtype=tf.float32)"
      ],
      "metadata": {
        "id": "DLosZ1xrlAqs"
      },
      "execution_count": 62,
      "outputs": []
    },
    {
      "cell_type": "code",
      "source": [
        "# Verify the shapes of the tensors\n",
        "print(f\"X_train_user shape: {X_train_user.shape}\")\n",
        "print(f\"X_train_item shape: {X_train_item.shape}\")\n",
        "print(f\"y_train shape: {y_train.shape}\")\n",
        "\n",
        "print(f\"X_test_user shape: {X_test_user.shape}\")\n",
        "print(f\"X_test_item shape: {X_test_item.shape}\")\n",
        "print(f\"y_test shape: {y_test.shape}\")"
      ],
      "metadata": {
        "colab": {
          "base_uri": "https://localhost:8080/"
        },
        "id": "ZNWKdU7ZlNpk",
        "outputId": "50f2ad29-c064-4c5d-e9d5-7870708c0b60"
      },
      "execution_count": 64,
      "outputs": [
        {
          "output_type": "stream",
          "name": "stdout",
          "text": [
            "X_train_user shape: (79375,)\n",
            "X_train_item shape: (79375,)\n",
            "y_train shape: (79375,)\n",
            "X_test_user shape: (19844,)\n",
            "X_test_item shape: (19844,)\n",
            "y_test shape: (19844,)\n"
          ]
        }
      ]
    },
    {
      "cell_type": "code",
      "source": [
        "# Check Train-Test-Split:\n",
        "print(\"Train data range from {} to {}\".format(train_df['timestamp'].min(), train_df['timestamp'].max()))\n",
        "print(\"Test data range from {} to {}\".format(test_df['timestamp'].min(), test_df['timestamp'].max()))"
      ],
      "metadata": {
        "colab": {
          "base_uri": "https://localhost:8080/"
        },
        "id": "dS4T-JoXllfB",
        "outputId": "8364ad6f-2cbd-4585-c709-5950923f2766"
      },
      "execution_count": 65,
      "outputs": [
        {
          "output_type": "stream",
          "name": "stdout",
          "text": [
            "Train data range from 1996-02-15 12:59:58 to 2015-03-06 06:45:43\n",
            "Test data range from 2015-03-06 08:41:40 to 2017-08-04 03:38:23\n"
          ]
        }
      ]
    },
    {
      "cell_type": "markdown",
      "source": [
        "# 2. Model Building"
      ],
      "metadata": {
        "id": "BKAPsarri7sN"
      }
    },
    {
      "cell_type": "markdown",
      "source": [
        "## 2.1 Define the NCF Model Architecture"
      ],
      "metadata": {
        "id": "LpVUWDPEjEpN"
      }
    },
    {
      "cell_type": "code",
      "source": [
        "# Define model parameters\n",
        "embedding_size = 10\n",
        "\n",
        "# GMF part\n",
        "user_input = Input(shape=(1,), name='user_input')\n",
        "item_input = Input(shape=(1,), name='item_input')\n",
        "\n",
        "user_embedding_gmf = Embedding(input_dim=num_users, output_dim=embedding_size, name='user_embedding_gmf')(user_input)\n",
        "item_embedding_gmf = Embedding(input_dim=num_movies, output_dim=embedding_size, name='item_embedding_gmf')(item_input)\n",
        "gmf_vector = Multiply()([Flatten()(user_embedding_gmf), Flatten()(item_embedding_gmf)])\n",
        "\n",
        "# MLP part\n",
        "user_embedding_mlp = Embedding(input_dim=num_users, output_dim=embedding_size, name='user_embedding_mlp')(user_input)\n",
        "item_embedding_mlp = Embedding(input_dim=num_movies, output_dim=embedding_size, name='item_embedding_mlp')(item_input)\n",
        "mlp_vector = Concatenate()([Flatten()(user_embedding_mlp), Flatten()(item_embedding_mlp)])\n",
        "\n",
        "mlp_vector = Dense(64, activation='relu')(mlp_vector)\n",
        "mlp_vector = Dense(32, activation='relu')(mlp_vector)\n",
        "mlp_vector = Dense(16, activation='relu')(mlp_vector)\n",
        "\n",
        "# Combine GMF and MLP parts\n",
        "concatenated = Concatenate()([gmf_vector, mlp_vector])\n",
        "result = Dense(10, activation='relu')(concatenated)\n",
        "output = Dense(1, activation='sigmoid')(result)\n",
        "\n",
        "model = Model(inputs=[user_input, item_input], outputs=output)\n",
        "model.compile(optimizer=Adam(learning_rate=0.001), loss='mean_squared_error', metrics=['mae', MeanSquaredError(name='mse')])\n",
        "model.summary()"
      ],
      "metadata": {
        "colab": {
          "base_uri": "https://localhost:8080/"
        },
        "id": "-SSyU_phi96z",
        "outputId": "415e780e-fd5b-4e53-cf65-bedd236640b3"
      },
      "execution_count": 79,
      "outputs": [
        {
          "output_type": "stream",
          "name": "stdout",
          "text": [
            "Model: \"model_6\"\n",
            "__________________________________________________________________________________________________\n",
            " Layer (type)                Output Shape                 Param #   Connected to                  \n",
            "==================================================================================================\n",
            " user_input (InputLayer)     [(None, 1)]                  0         []                            \n",
            "                                                                                                  \n",
            " item_input (InputLayer)     [(None, 1)]                  0         []                            \n",
            "                                                                                                  \n",
            " user_embedding_mlp (Embedd  (None, 1, 10)                555880    ['user_input[0][0]']          \n",
            " ing)                                                                                             \n",
            "                                                                                                  \n",
            " item_embedding_mlp (Embedd  (None, 1, 10)                94940     ['item_input[0][0]']          \n",
            " ing)                                                                                             \n",
            "                                                                                                  \n",
            " flatten_26 (Flatten)        (None, 10)                   0         ['user_embedding_mlp[0][0]']  \n",
            "                                                                                                  \n",
            " flatten_27 (Flatten)        (None, 10)                   0         ['item_embedding_mlp[0][0]']  \n",
            "                                                                                                  \n",
            " concatenate_12 (Concatenat  (None, 20)                   0         ['flatten_26[0][0]',          \n",
            " e)                                                                  'flatten_27[0][0]']          \n",
            "                                                                                                  \n",
            " user_embedding_gmf (Embedd  (None, 1, 10)                555880    ['user_input[0][0]']          \n",
            " ing)                                                                                             \n",
            "                                                                                                  \n",
            " item_embedding_gmf (Embedd  (None, 1, 10)                94940     ['item_input[0][0]']          \n",
            " ing)                                                                                             \n",
            "                                                                                                  \n",
            " dense_30 (Dense)            (None, 64)                   1344      ['concatenate_12[0][0]']      \n",
            "                                                                                                  \n",
            " flatten_24 (Flatten)        (None, 10)                   0         ['user_embedding_gmf[0][0]']  \n",
            "                                                                                                  \n",
            " flatten_25 (Flatten)        (None, 10)                   0         ['item_embedding_gmf[0][0]']  \n",
            "                                                                                                  \n",
            " dense_31 (Dense)            (None, 32)                   2080      ['dense_30[0][0]']            \n",
            "                                                                                                  \n",
            " multiply_6 (Multiply)       (None, 10)                   0         ['flatten_24[0][0]',          \n",
            "                                                                     'flatten_25[0][0]']          \n",
            "                                                                                                  \n",
            " dense_32 (Dense)            (None, 16)                   528       ['dense_31[0][0]']            \n",
            "                                                                                                  \n",
            " concatenate_13 (Concatenat  (None, 26)                   0         ['multiply_6[0][0]',          \n",
            " e)                                                                  'dense_32[0][0]']            \n",
            "                                                                                                  \n",
            " dense_33 (Dense)            (None, 10)                   270       ['concatenate_13[0][0]']      \n",
            "                                                                                                  \n",
            " dense_34 (Dense)            (None, 1)                    11        ['dense_33[0][0]']            \n",
            "                                                                                                  \n",
            "==================================================================================================\n",
            "Total params: 1305873 (4.98 MB)\n",
            "Trainable params: 1305873 (4.98 MB)\n",
            "Non-trainable params: 0 (0.00 Byte)\n",
            "__________________________________________________________________________________________________\n"
          ]
        }
      ]
    },
    {
      "cell_type": "markdown",
      "source": [
        "## 2.2 Train the model"
      ],
      "metadata": {
        "id": "Lp40dk-XmFpE"
      }
    },
    {
      "cell_type": "code",
      "source": [
        "# Train the model\n",
        "history = model.fit(\n",
        "    [X_train_user, X_train_item],\n",
        "    y_train,\n",
        "    epochs=20,\n",
        "    batch_size=256,\n",
        "    validation_data=([X_test_user, X_test_item], y_test)\n",
        ")"
      ],
      "metadata": {
        "colab": {
          "base_uri": "https://localhost:8080/"
        },
        "id": "_4lAaTyJmHsb",
        "outputId": "a41a7aeb-f17e-4b0e-ac8a-026c7da64205"
      },
      "execution_count": 80,
      "outputs": [
        {
          "output_type": "stream",
          "name": "stdout",
          "text": [
            "Epoch 1/20\n",
            "311/311 [==============================] - 7s 19ms/step - loss: 0.0520 - mae: 0.1802 - mse: 0.0520 - val_loss: 0.0536 - val_mae: 0.1786 - val_mse: 0.0536\n",
            "Epoch 2/20\n",
            "311/311 [==============================] - 5s 17ms/step - loss: 0.0367 - mae: 0.1454 - mse: 0.0367 - val_loss: 0.0558 - val_mae: 0.1810 - val_mse: 0.0558\n",
            "Epoch 3/20\n",
            "311/311 [==============================] - 6s 19ms/step - loss: 0.0251 - mae: 0.1184 - mse: 0.0251 - val_loss: 0.0573 - val_mae: 0.1860 - val_mse: 0.0573\n",
            "Epoch 4/20\n",
            "311/311 [==============================] - 7s 21ms/step - loss: 0.0161 - mae: 0.0940 - mse: 0.0161 - val_loss: 0.0581 - val_mae: 0.1875 - val_mse: 0.0581\n",
            "Epoch 5/20\n",
            "311/311 [==============================] - 6s 19ms/step - loss: 0.0075 - mae: 0.0654 - mse: 0.0075 - val_loss: 0.0580 - val_mae: 0.1860 - val_mse: 0.0580\n",
            "Epoch 6/20\n",
            "311/311 [==============================] - 4s 14ms/step - loss: 0.0040 - mae: 0.0483 - mse: 0.0040 - val_loss: 0.0585 - val_mae: 0.1879 - val_mse: 0.0585\n",
            "Epoch 7/20\n",
            "311/311 [==============================] - 5s 16ms/step - loss: 0.0025 - mae: 0.0386 - mse: 0.0025 - val_loss: 0.0581 - val_mae: 0.1856 - val_mse: 0.0581\n",
            "Epoch 8/20\n",
            "311/311 [==============================] - 6s 19ms/step - loss: 0.0018 - mae: 0.0322 - mse: 0.0018 - val_loss: 0.0583 - val_mae: 0.1859 - val_mse: 0.0583\n",
            "Epoch 9/20\n",
            "311/311 [==============================] - 5s 15ms/step - loss: 0.0014 - mae: 0.0290 - mse: 0.0014 - val_loss: 0.0580 - val_mae: 0.1863 - val_mse: 0.0580\n",
            "Epoch 10/20\n",
            "311/311 [==============================] - 5s 16ms/step - loss: 0.0013 - mae: 0.0276 - mse: 0.0013 - val_loss: 0.0578 - val_mae: 0.1852 - val_mse: 0.0578\n",
            "Epoch 11/20\n",
            "311/311 [==============================] - 6s 18ms/step - loss: 0.0012 - mae: 0.0273 - mse: 0.0012 - val_loss: 0.0574 - val_mae: 0.1850 - val_mse: 0.0574\n",
            "Epoch 12/20\n",
            "311/311 [==============================] - 4s 14ms/step - loss: 0.0012 - mae: 0.0269 - mse: 0.0012 - val_loss: 0.0576 - val_mae: 0.1861 - val_mse: 0.0576\n",
            "Epoch 13/20\n",
            "311/311 [==============================] - 5s 15ms/step - loss: 0.0012 - mae: 0.0264 - mse: 0.0012 - val_loss: 0.0572 - val_mae: 0.1841 - val_mse: 0.0572\n",
            "Epoch 14/20\n",
            "311/311 [==============================] - 6s 19ms/step - loss: 0.0011 - mae: 0.0259 - mse: 0.0011 - val_loss: 0.0571 - val_mae: 0.1834 - val_mse: 0.0571\n",
            "Epoch 15/20\n",
            "311/311 [==============================] - 4s 14ms/step - loss: 0.0010 - mae: 0.0249 - mse: 0.0010 - val_loss: 0.0568 - val_mae: 0.1842 - val_mse: 0.0568\n",
            "Epoch 16/20\n",
            "311/311 [==============================] - 6s 18ms/step - loss: 9.7535e-04 - mae: 0.0243 - mse: 9.7535e-04 - val_loss: 0.0567 - val_mae: 0.1837 - val_mse: 0.0567\n",
            "Epoch 17/20\n",
            "311/311 [==============================] - 6s 19ms/step - loss: 9.0961e-04 - mae: 0.0233 - mse: 9.0961e-04 - val_loss: 0.0564 - val_mae: 0.1838 - val_mse: 0.0564\n",
            "Epoch 18/20\n",
            "311/311 [==============================] - 4s 14ms/step - loss: 8.6311e-04 - mae: 0.0226 - mse: 8.6311e-04 - val_loss: 0.0563 - val_mae: 0.1829 - val_mse: 0.0563\n",
            "Epoch 19/20\n",
            "311/311 [==============================] - 5s 15ms/step - loss: 8.2270e-04 - mae: 0.0220 - mse: 8.2270e-04 - val_loss: 0.0561 - val_mae: 0.1832 - val_mse: 0.0561\n",
            "Epoch 20/20\n",
            "311/311 [==============================] - 6s 19ms/step - loss: 7.8957e-04 - mae: 0.0215 - mse: 7.8957e-04 - val_loss: 0.0563 - val_mae: 0.1832 - val_mse: 0.0563\n"
          ]
        }
      ]
    },
    {
      "cell_type": "code",
      "source": [
        "# Plot the training history\n",
        "plt.plot(history.history['loss'], label='Train Loss')\n",
        "plt.plot(history.history['val_loss'], label='Val Loss')\n",
        "plt.xlabel('Epochs')\n",
        "plt.ylabel('Loss')\n",
        "plt.legend()\n",
        "plt.show()"
      ],
      "metadata": {
        "colab": {
          "base_uri": "https://localhost:8080/",
          "height": 449
        },
        "id": "Cc3Lz4GrmT_d",
        "outputId": "66855853-7a9e-4933-c032-64d514f6d99f"
      },
      "execution_count": 75,
      "outputs": [
        {
          "output_type": "display_data",
          "data": {
            "text/plain": [
              "<Figure size 640x480 with 1 Axes>"
            ],
            "image/png": "[encoded data removed]"
          },
          "metadata": {}
        }
      ]
    },
    {
      "cell_type": "markdown",
      "source": [
        "## 2.3 Evaluate the model"
      ],
      "metadata": {
        "id": "XVqJaBeAmH0-"
      }
    },
    {
      "cell_type": "code",
      "source": [],
      "metadata": {
        "id": "vHKTip1smKpy"
      },
      "execution_count": null,
      "outputs": []
    }
  ],
  "metadata": {
    "kernelspec": {
      "display_name": "base",
      "language": "python",
      "name": "python3"
    },
    "language_info": {
      "codemirror_mode": {
        "name": "ipython",
        "version": 3
      },
      "file_extension": ".py",
      "mimetype": "text/x-python",
      "name": "python",
      "nbconvert_exporter": "python",
      "pygments_lexer": "ipython3",
      "version": "3.11.4"
    },
    "colab": {
      "provenance": []
    }
  },
  "nbformat": 4,
  "nbformat_minor": 0
}