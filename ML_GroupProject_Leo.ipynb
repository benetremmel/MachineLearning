{
 "cells": [
  {
   "cell_type": "markdown",
   "source": [
    "# Movie Recommender Systems - DreamStream (Part 2)\n",
    "### Enhancing Movie Recommendations with Deep Learning\n",
    "\n",
    "Benedikt Tremmel (60253) \n",
    "\n",
    "Leonardo Heinemann (60384) \n",
    "\n",
    "Maximilian Schön (50163) \n",
    "\n",
    "Gilian Dustin Wagner (58029) \n",
    "\n",
    "Malte Nicolas Haupt (58733) "
   ],
   "metadata": {
    "collapsed": false
   },
   "id": "1f4b7920fb74c04f"
  },
  {
   "cell_type": "markdown",
   "source": [
    "1. **Introduction**\n",
    "    1.1. Overview and Business Case\n",
    "    1.2. Imports\n",
    "   .....\n",
    "TO BE FINISHED"
   ],
   "metadata": {
    "collapsed": false
   },
   "id": "52d30bdc7c496c4a"
  },
  {
   "cell_type": "markdown",
   "source": [
    "# 1. Introduction"
   ],
   "metadata": {
    "collapsed": false
   },
   "id": "5978ae1b40e7fba9"
  },
  {
   "cell_type": "markdown",
   "source": [
    "## 1.1 Overview and Business Case\n",
    "\n",
    "##### Short Recap\n",
    "\n",
    "In Part 1 of this project, we focused on addressing DreamStream's user retention challenge by revamping their movie recommendation system using traditional machine learning techniques. We built models based on content-based filtering, collaborative filtering, and a hybrid approach, aiming to provide more personalized and relevant movie recommendations. Utilizing a dataset of 45,000 movies and 26 million ratings, our initial efforts helped improving recommendation accuracy. While the initial models provided a foundation, there remains a significant opportunity to leverage more sophisticated technologies to refine recommendation accuracy and personalization. This phase of the project aims to build on the power of deep learning to achieve these objectives, focusing on collaborative filtering and content-based approaches with neural networks.\n",
    "    "
   ],
   "metadata": {
    "collapsed": false
   },
   "id": "5ffe28cf72a271f9"
  },
  {
   "cell_type": "markdown",
   "source": [
    "##### Why Deep Learning?\n",
    "\n",
    "While traditional machine learning techniques have laid a solid foundation for recommendation systems, they often fall short when it comes to handling complex user behaviors and large-scale data dynamically. Deep learning offers significant advancements in this area, primarily due to its ability to model intricate patterns and interactions within large datasets without extensive feature engineering. Neural networks, in particular, can learn to represent both users and items in a shared latent space, enhancing the system's ability to predict preferences accurately. With NLP techniques, deep learning can also extract valuable information from unstructured data like movie descriptions, enabling more context-aware recommendations. This capability is crucial for DreamStream as it strives to further enhance user engagement and reduce churn by making even more precise and contextually relevant recommendations."
   ],
   "metadata": {
    "collapsed": false
   },
   "id": "fcdb7ed0c7d6cb4d"
  },
  {
   "cell_type": "markdown",
   "source": [
    "##### Part 2: Model Types\n",
    "\n",
    "HIER BULLET POINT LISTE DER GENUTZEN MODELLE UND EIN SATZ JEWEILS WARUM WIR UNS FÜR DAS MODELL ENTSCHEIDEN"
   ],
   "metadata": {
    "collapsed": false
   },
   "id": "a25a92fffd7519a7"
  },
  {
   "cell_type": "markdown",
   "source": [
    "##### Part 2: Objectives\n",
    "\n",
    "\n",
    "BITTE ÄNDERN/ANPASSEN, DASS HIER IST NUR EIN VORSCHLAG\n",
    "\n",
    "1. **Improve Recommendation Accuracy**: Develop deep learning models that can predict user preferences more accurately than traditional machine learning models.\n",
    "2. **Leverage Unstructured Data**: Utilize NLP techniques to extract valuable information from unstructured data like movie descriptions to enhance recommendation relevance.\n",
    "3. **Enhance Personalization**: Utilize neural networks to create more personalized recommendations based on user preferences and behavior.\n",
    "4. **Scale Recommendation System**: Build models that can handle large-scale data dynamically and adapt to changing user preferences over time. \n"
   ],
   "metadata": {
    "collapsed": false
   },
   "id": "91d142c8f4f7d369"
  },
  {
   "cell_type": "markdown",
   "source": [
    "##### Part 2: Methodology and Approach\n",
    "\n",
    "Part 2 of the project will build on the foundations laid in part 1, focusing on model development and implementation. While we will follow the CRISP-DM methodology, certain stages like exploratory data analysis (EDA) and initial data preparation will be skipped, as they were already covered in part 1.\n",
    "\n",
    "Thereby, these steps remain critical for Part 2 of the project. Especially the EDA provides a necessary groundwork for feature selection and initial insights into data quality, distribution, and potential biases. Part 2 builds directly on these insights, allowing us to focus on the more complex aspects of model architecture and optimization without re-evaluating the foundational data characteristics. This continuity ensures efficiency and leverages the  understanding of the dataset already established, enabling a more targeted approach in refining the recommendation algorithms with deep learning.\n",
    "\n",
    "The original dataset of 45,000 movies and 26 million ratings can be found [here](https://www.kaggle.com/datasets/rounakbanik/the-movies-dataset/data).\n",
    "\n",
    "For Part 2 we will use a reduced subset (down to 100,000 ratings) of the preprocessed version of the dataset from Part 1. This will be done to reduce computational time. \n",
    "\n",
    "Additional preprocessing steps tailored for deep learning applications will be implemented prior to model development. These will include critical tasks such as tokenization, normalization, and padding of text data to ensure compatibility with neural network architectures.\n",
    "\n",
    "All deep learning models will be evaluated and compared with the traditional machine learning models from Part 1 to assess the improvements in recommendation accuracy. The primary metric utilized will be the hit-rate, which effectively measures the proportion of recommendations that match the users' actual interests. This metric enables us to quantify the relevance of the recommended movies to the users, which is crucial for evaluating the success of the recommender system in a scenario that closely mirrors real-world usage."
   ],
   "metadata": {
    "collapsed": false
   },
   "id": "8ddc6e0575e34731"
  },
  {
   "cell_type": "markdown",
   "source": [
    "##### FOR REFERENCE:\n",
    " \n",
    "PLEASE FIND PART 1 OF THE PROJECT [HERE](LINK HIER). (Minor changes where made for better alignment of the two parts of the project)"
   ],
   "metadata": {
    "collapsed": false
   },
   "id": "e4cf1a34071e1774"
  },
  {
   "cell_type": "markdown",
   "source": [],
   "metadata": {
    "collapsed": false
   },
   "id": "7155a479f260544e"
  },
  {
   "cell_type": "markdown",
   "source": [
    "## 1.2 Imports\n",
    "\n",
    "The project will be implemented using Python and the following libraries:"
   ],
   "metadata": {
    "collapsed": false
   },
   "id": "7354037b286c82f0"
  },
  {
   "cell_type": "code",
   "outputs": [],
   "source": [],
   "metadata": {
    "collapsed": false
   },
   "id": "1bb25d8e83c8753e"
  }
 ],
 "metadata": {
  "kernelspec": {
   "display_name": "Python 3",
   "language": "python",
   "name": "python3"
  },
  "language_info": {
   "codemirror_mode": {
    "name": "ipython",
    "version": 2
   },
   "file_extension": ".py",
   "mimetype": "text/x-python",
   "name": "python",
   "nbconvert_exporter": "python",
   "pygments_lexer": "ipython2",
   "version": "2.7.6"
  }
 },
 "nbformat": 4,
 "nbformat_minor": 5
}
